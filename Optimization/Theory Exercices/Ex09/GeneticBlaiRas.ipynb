{
 "cells": [
  {
   "cell_type": "markdown",
   "metadata": {},
   "source": [
    "# Genetic Algorithm Blai Ras  (Ex09)"
   ]
  },
  {
   "cell_type": "code",
   "execution_count": 89,
   "metadata": {},
   "outputs": [],
   "source": [
    "import math\n",
    "import random\n",
    "import copy\n",
    "import numpy as np\n",
    "import matplotlib.pyplot as plt"
   ]
  },
  {
   "cell_type": "code",
   "execution_count": 125,
   "metadata": {},
   "outputs": [],
   "source": [
    "#Class defining a chromosome like\n",
    "#[1 0 1 0 1 0 1 0 1 0 1 1 0 1 1 0 1 0 0 1 0 1 0 1]\n",
    "class Chromosome:\n",
    "    def __init__(self, constraints, precision):\n",
    "        #Representation of x, y\n",
    "        self.x = 1\n",
    "        self.y = 1\n",
    "        #Fitness after calling f(x,y)\n",
    "        self.fitness = 0\n",
    "        #Binary strings of x and y\n",
    "        self.binX = \"\"\n",
    "        self.binY = \"\"\n",
    "        #Constraints of the problem\n",
    "        self.constraints = constraints\n",
    "        \n",
    "        #Look at the bits needed\n",
    "        startTempX = (constraints[0][1] - constraints[0][0]) * precision\n",
    "        self.lenX  = math.ceil(math.log(startTempX,2))\n",
    "        startTempY = (constraints[1][1] - constraints[1][0]) * precision\n",
    "        self.lenY  = math.ceil(math.log(startTempY,2))\n",
    "        \n",
    "        #Initiate the chromosome construction and check its fitness\n",
    "        self.random_start()\n",
    "        self.f()\n",
    "    \n",
    "    #Starts generating chromosomes randomly choosing between 0 and 1\n",
    "    def random_start(self):\n",
    "        for i in range(self.lenX):\n",
    "            self.binX += str(random.randint(0,1))\n",
    "        for i in range(self.lenY):\n",
    "            self.binY += str(random.randint(0,1))\n",
    "    \n",
    "    #Computes its representation given a binary number to a decimal number\n",
    "    def representation(self,binX,binY):\n",
    "        self.x = self.constraints[0][0] + int(binX,2) * (self.constraints[0][1] - self.constraints[0][0]) / (2**self.lenX-1)\n",
    "        self.y = self.constraints[1][0] + int(binY,2) * (self.constraints[1][1] - self.constraints[1][0]) / (2**self.lenY-1)\n",
    "    \n",
    "    #Returns the function value given two coordinates\n",
    "    def f(self):\n",
    "        self.representation(self.binX,self.binY)\n",
    "        self.fitness = 21.5 + self.x + math.sin(4*math.pi*self.x)+ self.y * math.sin(20*math.pi*self.y)"
   ]
  },
  {
   "cell_type": "code",
   "execution_count": 151,
   "metadata": {},
   "outputs": [],
   "source": [
    "#Manages the genetic procedure\n",
    "class GeneticAlgorithm:\n",
    "    def __init__(self, constraints, precision, pm, pc, size, generations,stop):\n",
    "        #Constraints of the problem\n",
    "        self.constraints = constraints\n",
    "        #Probability of mutation\n",
    "        self.pm = pm\n",
    "        #Probability of crossOvering\n",
    "        self.pc = pc\n",
    "        #Number of iterations or generations to \"generate\"\n",
    "        self.generations = generations\n",
    "        #Size of each generation\n",
    "        self.size = size\n",
    "        #Precision requested\n",
    "        self.precision = precision\n",
    "        \n",
    "        self.population = []\n",
    "        self.bests = [0] * generations\n",
    "        self.best = 0\n",
    "        #Stopping criterion if no improvement is found\n",
    "        self.stop = stop\n",
    "    \n",
    "    #Initiates the algorithm procedure\n",
    "    def start(self):\n",
    "        self.init()\n",
    "        best = self.getBest()\n",
    "        \n",
    "        self.best = copy.deepcopy(best)\n",
    "        bestFitnesses = [0] * self.generations\n",
    "        \n",
    "        noImprovement = 0\n",
    "        \n",
    "        for i in range(self.generations):\n",
    "            #Various operators\n",
    "            self.crossOver()\n",
    "            self.mutation()\n",
    "            self.wheel()\n",
    "            #Get the best of each generation\n",
    "            best = self.getBest()\n",
    "            self.bests[i] = best\n",
    "            #Does it have a new best?\n",
    "            if self.best.fitness < best.fitness:\n",
    "                self.best = copy.deepcopy(best)\n",
    "                print(\"New best found at Generation\",i,\"with value:\",self.best.fitness)\n",
    "                noImprovement = 0\n",
    "            bestFitnesses[i] = self.best.fitness\n",
    "            noImprovement +=1\n",
    "\n",
    "        #Plot the algorithm convergance \n",
    "        plt.figure()\n",
    "        x = range(self.generations)\n",
    "        plt.plot(x,bestFitnesses)\n",
    "        plt.xlabel('# of Generations')\n",
    "        plt.ylabel('Function value')\n",
    "        plt.show()\n",
    "    \n",
    "    #Initates each chromosome generated\n",
    "    def init(self):\n",
    "        for i in range(self.size):\n",
    "            c = Chromosome(self.constraints,self.precision)\n",
    "            self.population.append(c)\n",
    "        \n",
    "    #Operator crossOver\n",
    "    def crossOver(self):\n",
    "        #Get pairs\n",
    "        for i in range(int(self.size / 2)):\n",
    "            #Return the next random floating point number in the range [0.0, 1.0).\n",
    "            if self.pc > random.random():\n",
    "                i = 0\n",
    "                j = 0\n",
    "                #Ensuring not the same chromosome\n",
    "                while i == j:\n",
    "                    i = random.randint(0,self.size-1)\n",
    "                    j = random.randint(0,self.size-1)\n",
    "                c1 = self.population[i]\n",
    "                c2 = self.population[j]\n",
    "                #Generate two indices to split. The first will split the \"x\" part of the chromose\n",
    "                #And the other one will split the \"y\" part of chromosome bits\n",
    "                pos1 = random.randint(0,c1.lenX-1)\n",
    "                pos2 = random.randint(0,c2.lenY-1)\n",
    "                \n",
    "                newC1BinX = c1.binX[:pos1] + c2.binX[pos1:] \n",
    "                newC1BinY = c1.binY[:pos2] + c2.binY[pos2:]\n",
    "                \n",
    "                newC2BinX = c2.binX[:pos1] + c1.binX[pos1:]\n",
    "                newC2BinY = c2.binY[:pos2] + c2.binY[pos2:]\n",
    "                \n",
    "                c1.binX = newC1BinX\n",
    "                c1.binY = newC1BinY\n",
    "                c2.binX = newC2BinX\n",
    "                c2.binY = newC2BinY\n",
    "        \n",
    "    #Operator mutation\n",
    "    def mutation(self):\n",
    "        #For each chromosome\n",
    "        for i in range(self.size):\n",
    "            #If probability is matched\n",
    "            if self.pm > random.random():\n",
    "                c = self.population[i]\n",
    "                #I change a bit in the X and in the Y part of the chromosome bits\n",
    "                indexX = random.randint(0,c.lenX-1)\n",
    "                indexY = random.randint(0,c.lenY-1)\n",
    "\n",
    "                bit = int(c.binX[indexX])\n",
    "                bit = str(1 - bit)\n",
    "                \n",
    "                c.binX = c.binX[:indexX] + bit + c.binX[indexX+1:]\n",
    "                \n",
    "                bit = int(c.binY[indexY])\n",
    "                bit = str(1 - bit)\n",
    "\n",
    "                c.binY = c.binY[:indexY] + bit + c.binY[indexY+1:]\n",
    "\n",
    "    #Operator wheel\n",
    "    def wheel(self):\n",
    "        \n",
    "        min_ = self.population[0].fitness\n",
    "        for i in range(self.size):\n",
    "            self.population[i].f()\n",
    "            \n",
    "        \n",
    "        for i in range(self.size):\n",
    "            if self.population[i].fitness < min_:\n",
    "                min_ = self.population[i].fitness\n",
    "                \n",
    "        #Ensuring fitness > 0\n",
    "        if min_ < 0:\n",
    "            for i in range(self.size):\n",
    "                self.population[i].fitness = self.population[i].fitness + (-1) * min_\n",
    "                \n",
    "        #wheel\n",
    "        #Compute the overall fitness\n",
    "        totalFitness = 0\n",
    "        for i in range(self.size):\n",
    "            totalFitness += self.population[i].fitness\n",
    "        \n",
    "        #Computing distributed probability\n",
    "        probs = [0] * self.size\n",
    "        for i in range(self.size):\n",
    "            probs[i] = self.population[i].fitness / totalFitness\n",
    "        \n",
    "        cumulative = [0] * self.size\n",
    "        \n",
    "        cumulative[0] = 0\n",
    "        \n",
    "        for i in range(self.size):\n",
    "            sum_ = 0\n",
    "            for j in range(0,i+1):\n",
    "                sum_+= probs[j]\n",
    "            cumulative[i] = sum_\n",
    "        \n",
    "        #Spin\n",
    "        selected = []\n",
    "        for i in range(self.size):\n",
    "            prob = random.random()\n",
    "            if prob < cumulative[0]:\n",
    "                selected.append(self.population[0])\n",
    "            for j in range(1,self.size):\n",
    "                if cumulative[j-1] < prob <= cumulative[j]:\n",
    "                    selected.append(self.population[j])\n",
    "                    \n",
    "        self.population = selected\n",
    "    \n",
    "    #Returns the best chromosome of the population\n",
    "    def getBest(self):\n",
    "        best = copy.deepcopy(self.population[0])\n",
    "        for i in range(self.size):\n",
    "            if best.fitness < self.population[i].fitness:\n",
    "                best = copy.deepcopy(self.population[i])\n",
    "        return best"
   ]
  },
  {
   "cell_type": "code",
   "execution_count": 140,
   "metadata": {},
   "outputs": [],
   "source": [
    "constraints = [[-3,12.11], [4.1,5.8]]\n",
    "precision = 10000"
   ]
  },
  {
   "cell_type": "markdown",
   "metadata": {},
   "source": [
    "# TESTS\n",
    "\n",
    "Initial test, with the parameters indicated in the PDF:"
   ]
  },
  {
   "cell_type": "code",
   "execution_count": 156,
   "metadata": {},
   "outputs": [
    {
     "name": "stdout",
     "output_type": "stream",
     "text": [
      "New best found at Generation 4 with value: 35.758199976393776\n",
      "New best found at Generation 5 with value: 36.61928707437443\n",
      "New best found at Generation 8 with value: 38.76215962222491\n"
     ]
    },
    {
     "data": {
      "image/png": "[encoded data removed]",
      "text/plain": [
       "<Figure size 432x288 with 1 Axes>"
      ]
     },
     "metadata": {
      "needs_background": "light"
     },
     "output_type": "display_data"
    }
   ],
   "source": [
    "generations = 100\n",
    "popSize = 50\n",
    "noImprovementMax = 101\n",
    "\n",
    "ga = GeneticAlgorithm(constraints, precision,0.01,0.25,popSize,generations,noImprovementMax)\n",
    "ga.start()"
   ]
  },
  {
   "cell_type": "markdown",
   "metadata": {},
   "source": [
    "Wolfram says that the maximum is at ~38.5 so overall a perfect run!!\n",
    "\n",
    "Take in consideration that the output may change due to randomness.\n",
    "\n",
    "Let's change some parameters, for example, the probabilities and the number of generations or population size:"
   ]
  },
  {
   "cell_type": "code",
   "execution_count": 158,
   "metadata": {},
   "outputs": [
    {
     "name": "stdout",
     "output_type": "stream",
     "text": [
      "New best found at Generation 8 with value: 37.85271392593101\n",
      "New best found at Generation 34 with value: 38.28107174011761\n",
      "New best found at Generation 45 with value: 38.49312830166831\n"
     ]
    },
    {
     "data": {
      "image/png": "[encoded data removed]",
      "text/plain": [
       "<Figure size 432x288 with 1 Axes>"
      ]
     },
     "metadata": {
      "needs_background": "light"
     },
     "output_type": "display_data"
    }
   ],
   "source": [
    "generations = 100\n",
    "popSize = 100\n",
    "noImprovementMax = 101\n",
    "\n",
    "ga = GeneticAlgorithm(constraints, precision,0.01,0.3,popSize,generations,noImprovementMax)\n",
    "ga.start()"
   ]
  },
  {
   "cell_type": "markdown",
   "metadata": {},
   "source": [
    "One of my best results so far!!\n",
    "\n",
    "For pure testing, let's heavily increment the number of iterations. Take in consideration that I let the algorithm iterate because I set the stopping criterion bigger than the generation number."
   ]
  },
  {
   "cell_type": "code",
   "execution_count": 161,
   "metadata": {},
   "outputs": [
    {
     "name": "stdout",
     "output_type": "stream",
     "text": [
      "New best found at Generation 0 with value: 37.98149309132094\n",
      "New best found at Generation 3 with value: 39.13549885653457\n",
      "New best found at Generation 6 with value: 39.16246341278638\n",
      "New best found at Generation 1124 with value: 39.206606437963785\n",
      "New best found at Generation 5709 with value: 39.70949661438327\n"
     ]
    },
    {
     "data": {
      "image/png": "[encoded data removed]",
      "text/plain": [
       "<Figure size 432x288 with 1 Axes>"
      ]
     },
     "metadata": {
      "needs_background": "light"
     },
     "output_type": "display_data"
    },
    {
     "name": "stdout",
     "output_type": "stream",
     "text": [
      "New best found at Generation 6 with value: 36.90791239529421\n",
      "New best found at Generation 10 with value: 37.708264779509186\n",
      "New best found at Generation 19 with value: 38.15885605987829\n",
      "New best found at Generation 20 with value: 38.59622865589373\n",
      "New best found at Generation 264 with value: 39.09426998233541\n",
      "New best found at Generation 1128 with value: 39.32513998274886\n",
      "New best found at Generation 1977 with value: 39.89820178697343\n"
     ]
    },
    {
     "data": {
      "image/png": "[encoded data removed]",
      "text/plain": [
       "<Figure size 432x288 with 1 Axes>"
      ]
     },
     "metadata": {
      "needs_background": "light"
     },
     "output_type": "display_data"
    },
    {
     "name": "stdout",
     "output_type": "stream",
     "text": [
      "New best found at Generation 5 with value: 38.274545784329916\n",
      "New best found at Generation 1413 with value: 38.63746211944463\n",
      "New best found at Generation 3121 with value: 39.62404997254973\n",
      "New best found at Generation 7845 with value: 40.26439839038535\n"
     ]
    },
    {
     "data": {
      "image/png": "[encoded data removed]",
      "text/plain": [
       "<Figure size 432x288 with 1 Axes>"
      ]
     },
     "metadata": {
      "needs_background": "light"
     },
     "output_type": "display_data"
    },
    {
     "name": "stdout",
     "output_type": "stream",
     "text": [
      "New best found at Generation 225 with value: 39.49416482653127\n",
      "New best found at Generation 4612 with value: 39.557249871452186\n"
     ]
    },
    {
     "data": {
      "image/png": "[encoded data removed]",
      "text/plain": [
       "<Figure size 432x288 with 1 Axes>"
      ]
     },
     "metadata": {
      "needs_background": "light"
     },
     "output_type": "display_data"
    },
    {
     "name": "stdout",
     "output_type": "stream",
     "text": [
      "New best found at Generation 1 with value: 39.24921278275171\n",
      "New best found at Generation 4 with value: 39.406232458491736\n",
      "New best found at Generation 831 with value: 39.63130422670115\n"
     ]
    },
    {
     "data": {
      "image/png": "[encoded data removed]",
      "text/plain": [
       "<Figure size 432x288 with 1 Axes>"
      ]
     },
     "metadata": {
      "needs_background": "light"
     },
     "output_type": "display_data"
    }
   ],
   "source": [
    "generations = 10000\n",
    "popSize = 100\n",
    "noImprovementMax = 10001\n",
    "\n",
    "for i in range(5):\n",
    "    ga = GeneticAlgorithm(constraints, precision,0.01,0.3,popSize,generations,noImprovementMax)\n",
    "    ga.start()"
   ]
  },
  {
   "cell_type": "code",
   "execution_count": 164,
   "metadata": {},
   "outputs": [
    {
     "name": "stdout",
     "output_type": "stream",
     "text": [
      "4194.8\n"
     ]
    }
   ],
   "source": [
    "iterations = np.array([5709,1977,7845,4612,831])\n",
    "print(iterations.mean())"
   ]
  },
  {
   "cell_type": "markdown",
   "metadata": {},
   "source": [
    "We can see that no improvement is found after ~8049 iterations and that the optimal value found is not the best compared with other tests. Therefore, if I had to set a stopping criterion, it would be at 4194.8, but, in this case, we don't need a improvement stopping criterion as we can see in the first tests."
   ]
  },
  {
   "cell_type": "code",
   "execution_count": null,
   "metadata": {},
   "outputs": [],
   "source": []
  }
 ],
 "metadata": {
  "kernelspec": {
   "display_name": "Python 3",
   "language": "python",
   "name": "python3"
  },
  "language_info": {
   "codemirror_mode": {
    "name": "ipython",
    "version": 3
   },
   "file_extension": ".py",
   "mimetype": "text/x-python",
   "name": "python",
   "nbconvert_exporter": "python",
   "pygments_lexer": "ipython3",
   "version": "3.8.3"
  }
 },
 "nbformat": 4,
 "nbformat_minor": 4
}
