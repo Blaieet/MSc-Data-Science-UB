{
 "cells": [
  {
   "cell_type": "code",
   "execution_count": 1,
   "metadata": {},
   "outputs": [],
   "source": [
    "import numpy as np\n"
   ]
  },
  {
   "cell_type": "code",
   "execution_count": 153,
   "metadata": {},
   "outputs": [],
   "source": [
    "def ConjMethod(A,b,x0):\n",
    "    for i in range(5000):\n",
    "        r0 = residu(A,b,x0)\n",
    "        alpha = getAlpha(A,r0)[0][0]\n",
    "        x = point(r0,alpha,x0)\n",
    "        r1 = newRes(A,r0,alpha)\n",
    "        beta = getBeta(r0,r1)\n",
    "        x0 = point2(r1,beta,r0)\n",
    "    print(x,x0)"
   ]
  },
  {
   "cell_type": "code",
   "execution_count": 154,
   "metadata": {},
   "outputs": [
    {
     "name": "stdout",
     "output_type": "stream",
     "text": [
      "[[0.62345659]\n",
      " [0.42185256]\n",
      " [0.40543257]] [[ 0.39223479]\n",
      " [ 0.17317112]\n",
      " [-0.17678664]]\n"
     ]
    }
   ],
   "source": [
    "A = np.array([[1,0,0],[0,2,0],[0,0,3]])\n",
    "b = np.array([[1],[1],[1]])\n",
    "x0 = np.array([[1],[1],[1]])\n",
    "\n",
    "ConjMethod(A,b,x0)"
   ]
  },
  {
   "cell_type": "code",
   "execution_count": 146,
   "metadata": {},
   "outputs": [],
   "source": [
    "def residu(A,b,x0):\n",
    "    return b-np.dot(A,x0)"
   ]
  },
  {
   "cell_type": "code",
   "execution_count": 152,
   "metadata": {},
   "outputs": [],
   "source": [
    "def getAlpha(A,r0):\n",
    "    nomi = np.dot(np.transpose(r0),r0)\n",
    "    deno = np.transpose(r0).dot(A).dot(r0)\n",
    "    return (nomi/deno)\n",
    "    "
   ]
  },
  {
   "cell_type": "code",
   "execution_count": 148,
   "metadata": {},
   "outputs": [],
   "source": [
    "def point(r,alpha,x0):\n",
    "    return x0+(alpha * r)"
   ]
  },
  {
   "cell_type": "code",
   "execution_count": 149,
   "metadata": {},
   "outputs": [],
   "source": [
    "def newRes(A,r,alpha):\n",
    "    return r-alpha*A.dot(r)"
   ]
  },
  {
   "cell_type": "code",
   "execution_count": 150,
   "metadata": {},
   "outputs": [],
   "source": [
    "def getBeta(r0,r1):\n",
    "    nomi = np.dot(np.transpose(r1),r1)\n",
    "    deno = np.transpose(r0).dot(A).dot(r0)\n",
    "    return (nomi/deno)"
   ]
  },
  {
   "cell_type": "code",
   "execution_count": 151,
   "metadata": {},
   "outputs": [],
   "source": [
    "def point2(r1,beta,r0):\n",
    "    return r1+(beta*r0)"
   ]
  },
  {
   "cell_type": "code",
   "execution_count": 206,
   "metadata": {},
   "outputs": [],
   "source": [
    "def conjgrad(A, b, x):\n",
    "    \"\"\"\n",
    "    A function to solve [A]{x} = {b} linear equation system with the \n",
    "    conjugate gradient method.\n",
    "    More at: http://en.wikipedia.org/wiki/Conjugate_gradient_method\n",
    "    ========== Parameters ==========\n",
    "    A : matrix \n",
    "        A real symmetric positive definite matrix.\n",
    "    b : vector\n",
    "        The right hand side (RHS) vector of the system.\n",
    "    x : vector\n",
    "        The starting guess for the solution.\n",
    "    \"\"\"  \n",
    "    r = b - np.dot(A, x)\n",
    "    print(r)\n",
    "    p = r\n",
    "    rsold = np.dot(np.transpose(r), r)\n",
    "    \n",
    "    for i in range(len(b)):\n",
    "        print(i)\n",
    "        Ap = np.dot(A, p)\n",
    "        alpha = rsold / np.dot(np.transpose(p), Ap)\n",
    "        print(\"SF\",alpha)\n",
    "        x = x + alpha[0][0]*p\n",
    "        print(x)\n",
    "        r = r - alpha[0][0]* Ap\n",
    "        print(\"r\",r)\n",
    "        rsnew = np.dot(np.transpose(r), r)\n",
    "        print(\"aa\",rsnew/rsold)\n",
    "        print(np.sqrt(rsnew))\n",
    "        if np.sqrt(rsnew) < 1e-8:\n",
    "            break\n",
    "        p = r + (rsnew/rsold)*p\n",
    "        print(p)\n",
    "        \n",
    "        rsold = rsnew\n",
    "    return x"
   ]
  },
  {
   "cell_type": "code",
   "execution_count": 207,
   "metadata": {},
   "outputs": [
    {
     "name": "stdout",
     "output_type": "stream",
     "text": [
      "[[ 0]\n",
      " [-3]\n",
      " [-2]]\n",
      "0\n",
      "SF [[0.43333333]]\n",
      "[[1.        ]\n",
      " [0.7       ]\n",
      " [0.13333333]]\n",
      "r [[ 0. ]\n",
      " [-0.4]\n",
      " [ 0.6]]\n",
      "aa [[0.04]]\n",
      "[[0.72111026]]\n",
      "[[ 0.  ]\n",
      " [-0.52]\n",
      " [ 0.52]]\n",
      "1\n",
      "SF [[0.38461538]]\n",
      "[[1.        ]\n",
      " [0.5       ]\n",
      " [0.33333333]]\n",
      "r [[ 0.00000000e+00]\n",
      " [-5.55111512e-17]\n",
      " [ 0.00000000e+00]]\n",
      "aa [[5.92593829e-33]]\n",
      "[[5.55111512e-17]]\n"
     ]
    },
    {
     "data": {
      "text/plain": [
       "array([[1.        ],\n",
       "       [0.5       ],\n",
       "       [0.33333333]])"
      ]
     },
     "execution_count": 207,
     "metadata": {},
     "output_type": "execute_result"
    }
   ],
   "source": [
    "A = np.array([[1,0,0],[0,2,0],[0,0,3]])\n",
    "b = np.array([[1],[1],[1]])\n",
    "x0 = np.array([[1],[2],[1]])\n",
    "\n",
    "conjgrad(A,b,x0)"
   ]
  },
  {
   "cell_type": "code",
   "execution_count": 201,
   "metadata": {},
   "outputs": [
    {
     "data": {
      "text/plain": [
       "5.92593829e-33"
      ]
     },
     "execution_count": 201,
     "metadata": {},
     "output_type": "execute_result"
    }
   ],
   "source": [
    "5.92593829e-33"
   ]
  },
  {
   "cell_type": "code",
   "execution_count": 203,
   "metadata": {},
   "outputs": [
    {
     "data": {
      "text/plain": [
       "5.925900000000001e-33"
      ]
     },
     "execution_count": 203,
     "metadata": {},
     "output_type": "execute_result"
    }
   ],
   "source": [
    "5.9259*10**-33"
   ]
  },
  {
   "cell_type": "code",
   "execution_count": null,
   "metadata": {},
   "outputs": [],
   "source": []
  }
 ],
 "metadata": {
  "kernelspec": {
   "display_name": "Python 3",
   "language": "python",
   "name": "python3"
  },
  "language_info": {
   "codemirror_mode": {
    "name": "ipython",
    "version": 3
   },
   "file_extension": ".py",
   "mimetype": "text/x-python",
   "name": "python",
   "nbconvert_exporter": "python",
   "pygments_lexer": "ipython3",
   "version": "3.8.3"
  }
 },
 "nbformat": 4,
 "nbformat_minor": 4
}
