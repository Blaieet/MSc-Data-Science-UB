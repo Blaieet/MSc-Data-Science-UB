{
 "cells": [
  {
   "cell_type": "markdown",
   "metadata": {},
   "source": [
    "# Using OASIS for length of stay prediction"
   ]
  },
  {
   "cell_type": "markdown",
   "metadata": {},
   "source": [
    "## Exercise:\n",
    "\n",
    "We want to predict the length of stay (LOS) of the ICU patients based on the severity score OASIS of the fisrt 24  hours (and 48 hours) of an ICU stay on MIMIC-III.\n"
   ]
  },
  {
   "cell_type": "markdown",
   "metadata": {},
   "source": [
    "Check also the following:\n",
    "1. Compute:\n",
    "    - the number of different patients in the dataset \n",
    "    - the number of different hospital admissions in the dataset \n",
    "    - the number of different icu stays in the dataset \n",
    "2. Show that we can have a patient with more than one icustay.\n",
    "3. Revise the number of ICU admissions registered by the two different systems: Metavision and Carevue.\n",
    "4. Compute the number of NaN OASIS values for your different implementations."
   ]
  },
  {
   "cell_type": "markdown",
   "metadata": {},
   "source": [
    "### OASIS\n",
    "\n",
    "The Oxford Acute Severity of Illness Score (OASIS) consisted of age, elective surgery, prior length of stay (LOS) and seven physiologic measurements: Glasgow Coma Score (GCS), heart rate, mean arterial pressure (MAP), respiratory rate, temperature, urine output, ventilated.\n",
    "\n",
    "For each variable, the worst score across the first day in ICU should be used to tabulate OASIS.\n",
    "\n",
    "See [here](https://alistairewj.github.io/project/oasis/) for more information."
   ]
  },
  {
   "cell_type": "markdown",
   "metadata": {},
   "source": [
    "The concept elective surgery is where a patient is admitted to the intensive care unit either in routine preparation for a planned surgery or for stabilization after completion of a planned surgery. Elective surgery is an important covariate for many risk adjustments as patients who are admitted to the ICU for planned surgeries tend to be healthier than their counterparts.\n"
   ]
  },
  {
   "cell_type": "markdown",
   "metadata": {},
   "source": [
    "### Instructions for the exercise:\n",
    "\n",
    "- We provide you the variables already computed and saved in csv files, except age, elective surgery, pre-LOS and temperature.\n",
    "\n",
    "- In order to compute the age and pre-LOS and consult the elective surgery information you need to merge tables PATIENTS, ADMISSIONS and ICUSTAYS. \n",
    "    - You should compute the age at the time the patient is admitted to the ICU from date of birth (dob) from PATIENTS table, then you can drop dob from the dataframe. \n",
    "    - For the pre-LOS you should compare intime from ICUSTAYS table and admittime from ADMISSIONS table. \n",
    "    - The elective surgery information is stored in the column admission_type of PATIENTS, ADMISSIONS and ICUSTAYS table.\n",
    "\n",
    "- You need CHARTEVENTS table to get the temperature (measures in Fahrenheit and Celsius) and D_ITEMS table to consult the itemid for the measure.\n",
    "    - The variables can be duplicated, since they can come from Carevue or Metavision source systems of MIMIC-III, so you have to look for the different labels.\n",
    "    - You can use pandas.DataFrame.loc to look for the itemid corresponding to labels of the temperature in D_ITEMS table. If you do not know the exact label you are looking for, you can look for the strings in column label containing 'Temperature' using pandas.Series.str.contains as follows:\n",
    "    > df_ditems.loc[df_ditems.label.str.contains('Temperature', case=False, na=False, regex=False)]\n",
    "\n",
    "\n",
    "- Once you have computed these variables you can read the rest of variables provided in the csv files and merge them into a single dataframe to pass it to the OASIS function (see [here](https://gist.github.com/tompollard/d4c216d0c4ad30481c99)) to compute the severity score.\n",
    "\n",
    "\n",
    "- The Glasgow Coma Scale is stored in a different way in Metavision and Carevue. \n",
    "    - Metavision saves the three tests separately: GCS - Eye Opening,  GCS - Motor Response, GCS - Verbal Response\n",
    "    - Carevue saves a single test: GCS_total.\n",
    "    - We provide you 4 separate csv files with these information: GCS_E_metavision.csv, GCS_M_metavision.csv, GCS_V_metavision.csv and  GCS_total_carevue.csv\n",
    "    - You should concatenate the values and keep the worst one which corresponds to the minimum score.\n",
    "\n",
    "\n",
    "- Each csv file contains a dataframe with: [subject_id, hadm_id, icustay_id, variable_Time and variable value], except for the ventilation which just contains:  [subject_id, hadm_id, icustay_id, variable_Time], since the important information is if there is ventilation or not (YES or NO) and when has been installed. \n",
    "\n",
    "\n",
    "- Normalize the measures time. Use intime, which provides the date and time the patient was transferred into the ICU, as the reference value to compute the time that has passed since then until the variable measurement were taken.\n",
    "\n",
    "- After the normalization, you can filter the instances to keep the ones of the first 24 hours (or 48 hours) as observations to compute the OASIS score. \n",
    "    - Try to different strategies:\n",
    "        - All the instances of the first 24 hours.\n",
    "        - All the instances of the first 48 hours.\n",
    "\n",
    "- For the prediction, consider the following binary label:\n",
    "    - LOS < 4: short stay\n",
    "    - Otherwise: long stay.\n",
    "    \n",
    "- Use Random forest to classify using a 5-fold cross validation.\n",
    "\n",
    "- As can be seen in the code to compute OASIS, the score is NaN if any of the considered variables has all its instances as NaN. MIMIC-III has many NaN values and the demo subset is more limited in the number. So, the number of samples with OASIS different of NaNs considering first 24h is just 8. You can use the first 48h but the number is also very limited and the performance of the proposed classifier will be very poor. \n",
    "\n",
    "- We suggest that you also try an alternative to compute the OASIS score. \n",
    "    - You can change the original code to consider the variable as 0.0 (state in normal range) when all instances of the variable are NaN. For that use np.nansum instead of using sum in the line:\n",
    "        > oasis_score = sum([oasis_prelos, oasis_age, oasis_gcs, oasis_hr, oasis_map, oasis_resp,oasis_temp, oasis_urine, oasis_vent, oasis_surg]). \n",
    "   \n",
    "- Analyze the results of the three different alternatives (Original OASIS with 48h, Modification of OASIS with 24h and 48h):\n",
    "    - Compare the mean accuracy\n",
    "    - Build the confusion matrix\n",
    "\n"
   ]
  },
  {
   "cell_type": "code",
   "execution_count": 697,
   "metadata": {
    "ExecuteTime": {
     "end_time": "2021-03-19T16:50:04.483553Z",
     "start_time": "2021-03-19T16:50:04.479556Z"
    }
   },
   "outputs": [],
   "source": [
    "# Your solution here:"
   ]
  },
  {
   "cell_type": "markdown",
   "metadata": {},
   "source": [
    "## Notes\n",
    "\n",
    "Merging the first tables, Age, Pre-LOS and Elective Surgery (the following cells) are not automated and they have to be computed (executed) on by one. \n",
    "\n",
    "The rest of the variables are automated, with \"period\" as parameter (48 or 24). "
   ]
  },
  {
   "cell_type": "code",
   "execution_count": 698,
   "metadata": {
    "ExecuteTime": {
     "end_time": "2021-03-19T16:50:05.446506Z",
     "start_time": "2021-03-19T16:50:05.439509Z"
    }
   },
   "outputs": [],
   "source": [
    "# General imports\n",
    "\n",
    "import numpy as np\n",
    "import pandas as pd\n",
    "import matplotlib.pyplot as plt\n",
    "import datetime as dt\n",
    "from operator import itemgetter\n",
    "%matplotlib inline"
   ]
  },
  {
   "cell_type": "markdown",
   "metadata": {},
   "source": [
    "Download the MIMIC-III Clinical Database Demo can be download from [here](https://physionet.org/content/mimiciii-demo/1.4/) and copy the csv files in a 'data' folder.\n"
   ]
  },
  {
   "cell_type": "code",
   "execution_count": 699,
   "metadata": {
    "ExecuteTime": {
     "end_time": "2021-03-19T16:50:05.842508Z",
     "start_time": "2021-03-19T16:50:05.837535Z"
    },
    "id": "SbOo5u3z4R73"
   },
   "outputs": [],
   "source": [
    "path = \"data/\" #path to my data folder "
   ]
  },
  {
   "cell_type": "markdown",
   "metadata": {
    "ExecuteTime": {
     "end_time": "2021-03-17T09:08:53.078281Z",
     "start_time": "2021-03-17T09:08:53.074289Z"
    }
   },
   "source": [
    "1. Compute:\n",
    "    - the number of different patients in the dataset \n",
    "    - the number of different hospital admissions in the dataset \n",
    "    - the number of different icu stays in the dataset \n",
    "2. Show that we can have a patient with more than one icustay.\n",
    "3. Revise the number of ICU admissions registered by the two different systems: Metavision and Carevue.\n",
    "4. Compute the number of NaN OASIS values for your different implementations."
   ]
  },
  {
   "cell_type": "code",
   "execution_count": 700,
   "metadata": {
    "ExecuteTime": {
     "end_time": "2021-03-19T16:50:06.196234Z",
     "start_time": "2021-03-19T16:50:06.179235Z"
    }
   },
   "outputs": [
    {
     "name": "stdout",
     "output_type": "stream",
     "text": [
      "1.\n",
      "\n",
      "Unique patients: 100\n",
      "Unique admissions: 129\n",
      "Unique admissions at ICU: 136\n",
      "\n",
      "2.\n",
      " Number of unique rows of patient ID 10059 (for example): 2\n",
      "\n",
      "3.\n",
      " metavision    77\n",
      "carevue       59\n",
      "Name: dbsource, dtype: int64\n",
      "\n",
      "4.\n",
      "\n"
     ]
    }
   ],
   "source": [
    "print(\"1.\\n\")\n",
    "patients=pd.read_csv(path+'PATIENTS.csv')\n",
    "print(\"Unique patients:\",patients.subject_id.nunique())\n",
    "admissions=pd.read_csv(path+'ADMISSIONS.csv')\n",
    "print('Unique admissions:', admissions.hadm_id.nunique())\n",
    "icustays=pd.read_csv(path+'ICUSTAYS.csv')\n",
    "print('Unique admissions at ICU:', icustays.icustay_id.nunique())\n",
    "\n",
    "print(\"\\n2.\\n Number of unique rows of patient ID 10059 (for example):\",len(icustays[icustays[\"subject_id\"]==10059]))\n",
    "print(\"\\n3.\\n\",icustays.dbsource.value_counts())\n",
    "print(\"\\n4.\\n\")"
   ]
  },
  {
   "cell_type": "markdown",
   "metadata": {
    "ExecuteTime": {
     "end_time": "2021-03-17T09:08:53.078281Z",
     "start_time": "2021-03-17T09:08:53.074289Z"
    }
   },
   "source": [
    "## Merging tables Patients, Admissions and ICUStays"
   ]
  },
  {
   "cell_type": "code",
   "execution_count": 701,
   "metadata": {
    "ExecuteTime": {
     "end_time": "2021-03-19T16:50:06.769952Z",
     "start_time": "2021-03-19T16:50:06.746443Z"
    }
   },
   "outputs": [
    {
     "data": {
      "text/html": [
       "<div>\n",
       "<style scoped>\n",
       "    .dataframe tbody tr th:only-of-type {\n",
       "        vertical-align: middle;\n",
       "    }\n",
       "\n",
       "    .dataframe tbody tr th {\n",
       "        vertical-align: top;\n",
       "    }\n",
       "\n",
       "    .dataframe thead th {\n",
       "        text-align: right;\n",
       "    }\n",
       "</style>\n",
       "<table border=\"1\" class=\"dataframe\">\n",
       "  <thead>\n",
       "    <tr style=\"text-align: right;\">\n",
       "      <th></th>\n",
       "      <th>subject_id</th>\n",
       "      <th>dob</th>\n",
       "      <th>hadm_id</th>\n",
       "      <th>admittime</th>\n",
       "      <th>admission_type</th>\n",
       "      <th>icustay_id</th>\n",
       "      <th>intime</th>\n",
       "      <th>los</th>\n",
       "    </tr>\n",
       "  </thead>\n",
       "  <tbody>\n",
       "    <tr>\n",
       "      <th>0</th>\n",
       "      <td>10006</td>\n",
       "      <td>2094-03-05 00:00:00</td>\n",
       "      <td>142345</td>\n",
       "      <td>2164-10-23 21:09:00</td>\n",
       "      <td>EMERGENCY</td>\n",
       "      <td>206504</td>\n",
       "      <td>2164-10-23 21:10:15</td>\n",
       "      <td>1.6325</td>\n",
       "    </tr>\n",
       "    <tr>\n",
       "      <th>1</th>\n",
       "      <td>10011</td>\n",
       "      <td>2090-06-05 00:00:00</td>\n",
       "      <td>105331</td>\n",
       "      <td>2126-08-14 22:32:00</td>\n",
       "      <td>EMERGENCY</td>\n",
       "      <td>232110</td>\n",
       "      <td>2126-08-14 22:34:00</td>\n",
       "      <td>13.8507</td>\n",
       "    </tr>\n",
       "    <tr>\n",
       "      <th>2</th>\n",
       "      <td>10013</td>\n",
       "      <td>2038-09-03 00:00:00</td>\n",
       "      <td>165520</td>\n",
       "      <td>2125-10-04 23:36:00</td>\n",
       "      <td>EMERGENCY</td>\n",
       "      <td>264446</td>\n",
       "      <td>2125-10-04 23:38:00</td>\n",
       "      <td>2.6499</td>\n",
       "    </tr>\n",
       "    <tr>\n",
       "      <th>3</th>\n",
       "      <td>10017</td>\n",
       "      <td>2075-09-21 00:00:00</td>\n",
       "      <td>199207</td>\n",
       "      <td>2149-05-26 17:19:00</td>\n",
       "      <td>EMERGENCY</td>\n",
       "      <td>204881</td>\n",
       "      <td>2149-05-29 18:52:29</td>\n",
       "      <td>2.1436</td>\n",
       "    </tr>\n",
       "    <tr>\n",
       "      <th>4</th>\n",
       "      <td>10019</td>\n",
       "      <td>2114-06-20 00:00:00</td>\n",
       "      <td>177759</td>\n",
       "      <td>2163-05-14 20:43:00</td>\n",
       "      <td>EMERGENCY</td>\n",
       "      <td>228977</td>\n",
       "      <td>2163-05-14 20:43:56</td>\n",
       "      <td>1.2938</td>\n",
       "    </tr>\n",
       "  </tbody>\n",
       "</table>\n",
       "</div>"
      ],
      "text/plain": [
       "   subject_id                  dob  hadm_id            admittime  \\\n",
       "0       10006  2094-03-05 00:00:00   142345  2164-10-23 21:09:00   \n",
       "1       10011  2090-06-05 00:00:00   105331  2126-08-14 22:32:00   \n",
       "2       10013  2038-09-03 00:00:00   165520  2125-10-04 23:36:00   \n",
       "3       10017  2075-09-21 00:00:00   199207  2149-05-26 17:19:00   \n",
       "4       10019  2114-06-20 00:00:00   177759  2163-05-14 20:43:00   \n",
       "\n",
       "  admission_type  icustay_id               intime      los  \n",
       "0      EMERGENCY      206504  2164-10-23 21:10:15   1.6325  \n",
       "1      EMERGENCY      232110  2126-08-14 22:34:00  13.8507  \n",
       "2      EMERGENCY      264446  2125-10-04 23:38:00   2.6499  \n",
       "3      EMERGENCY      204881  2149-05-29 18:52:29   2.1436  \n",
       "4      EMERGENCY      228977  2163-05-14 20:43:56   1.2938  "
      ]
     },
     "execution_count": 701,
     "metadata": {},
     "output_type": "execute_result"
    }
   ],
   "source": [
    "#Remove some unwanted columns\n",
    "icustays = icustays.drop(['row_id'],axis=1)\n",
    "admissions = admissions.drop(['row_id'],axis=1)\n",
    "# Merge\n",
    "admissionsPatients=pd.merge(patients, admissions, on=['subject_id'],how=\"outer\")\n",
    "admissionsFinal=pd.merge(admissionsPatients, icustays, on=['subject_id', 'hadm_id'],how=\"outer\")\n",
    "\n",
    "# Instead of dropping lots of columns, get only the ones we are interested in.\n",
    "admissionsFinal = admissionsFinal[['subject_id','dob','hadm_id','admittime','admission_type','icustay_id','intime','los']]\n",
    "\n",
    "admissionsFinal.head()"
   ]
  },
  {
   "cell_type": "markdown",
   "metadata": {},
   "source": [
    "## Age, Pre-LOS and Elective Surgery\n",
    "\n",
    "1. You should compute the age at the time the patient is admitted to the ICU from date of birth (dob) from PATIENTS table, then you can drop dob from the dataframe. <br>\n",
    "2. For the pre-LOS you should compare intime from ICUSTAYS table and admittime from ADMISSIONS table.<br>\n",
    "3. The elective surgery information is stored in the column admission_type of PATIENTS, ADMISSIONS and ICUSTAYS table.<br>"
   ]
  },
  {
   "cell_type": "code",
   "execution_count": 702,
   "metadata": {
    "ExecuteTime": {
     "end_time": "2021-03-19T16:50:07.631229Z",
     "start_time": "2021-03-19T16:50:07.611284Z"
    }
   },
   "outputs": [
    {
     "name": "stdout",
     "output_type": "stream",
     "text": [
      "1.\n",
      " Age values: 0      70\n",
      "1      36\n",
      "2      87\n",
      "3      74\n",
      "4      49\n",
      "       ..\n",
      "131    55\n",
      "132    90\n",
      "133    45\n",
      "134    73\n",
      "135    58\n",
      "Name: age, Length: 136, dtype: int64\n",
      "\n",
      "2.\n",
      " Pre-LOS values: [ 2.0000e-02  3.0000e-02  3.0000e-02  7.3560e+01  2.0000e-02  2.0000e-02\n",
      "  3.4000e+00  2.5650e+01  1.2577e+02  1.0460e+01  2.1570e+01  2.0000e-02\n",
      "  4.2290e+01  1.0000e-02  5.0000e-02  2.0000e-02  9.6500e+00  2.2270e+01\n",
      "  1.0000e-01  1.0000e-02  2.0000e-02  1.0000e-02  2.0000e-02  3.0000e-02\n",
      "  2.7600e+00  2.0000e-02  1.0245e+02  2.0000e-02  5.4840e+01  2.0000e-02\n",
      "  1.2080e+01  4.0000e-02  1.0000e-02  2.0000e-02  2.0000e-02  2.0000e-02\n",
      "  1.0000e-02  1.0000e-02  2.0000e-02  3.0000e-02  2.4180e+02  6.1400e+00\n",
      "  4.7100e+00  1.6488e+02  6.0000e-02  0.0000e+00  2.8800e+00  5.7170e+01\n",
      "  2.6400e+00  1.6000e+00  3.0000e-02  6.7280e+01  3.0000e-02  1.7355e+02\n",
      "  3.2990e+02  1.0180e+01  3.0000e-02  1.2467e+02  6.0000e-02  2.0000e-02\n",
      "  3.0000e-02  2.0000e-02  1.1750e+02  2.0000e-02  9.9800e+00  1.4560e+01\n",
      "  1.0000e-02  7.0310e+01  3.6910e+01  1.0000e-02  2.0000e-02  1.0000e-02\n",
      "  2.0000e-02  2.0000e-02  6.0000e-02  3.0600e+00  4.7330e+01  4.0000e-02\n",
      "  3.0000e-02  2.0000e-02  2.0000e-02  2.0000e-02  2.0000e-02  2.0000e-02\n",
      "  1.0000e-02  2.0000e-02  3.0000e-02  2.0000e-02  2.0000e-02  6.0000e-02\n",
      "  2.5800e+00  6.6000e-01  3.0000e-02  2.0000e-02  3.0000e-02  1.8000e+00\n",
      "  2.3810e+01  1.0000e-02  1.0000e-02  1.3658e+02  3.0000e-02  4.7590e+01\n",
      "  5.7820e+01  1.6400e+00  2.0000e-02  3.2174e+02  3.0000e-02  2.0000e-02\n",
      "  3.0000e-02  1.0000e-02  2.0000e-02  2.0000e-02  2.0000e-02  2.0000e-02\n",
      "  3.0000e-02  2.0000e-02  9.2970e+01  2.1456e+02  3.3340e+02  3.0000e-02\n",
      "  3.0000e-02  7.7600e+00  3.0000e-02  3.0000e-02  4.0000e-02  1.0000e-02\n",
      "  4.0000e-02  1.0000e-02 -1.7500e+00  1.1060e+01  2.0920e+01  1.0280e+01\n",
      "  2.0000e-02  1.0000e-02  3.0000e-02  1.4600e+00]\n",
      "\n",
      "3.\n",
      " Elective Surgery values: ['EMERGENCY' 'ELECTIVE' 'URGENT']\n"
     ]
    }
   ],
   "source": [
    "# Age\n",
    "intimeYear = pd.to_datetime(admissionsFinal['intime']).dt.year\n",
    "dobYear = pd.to_datetime(admissionsFinal['dob']).dt.year\n",
    "admissionsFinal[\"age\"] = intimeYear-dobYear\n",
    "#As stated here, DOB of patients >89 is shifted 300 years before their birth. Therefore, we cannot know their exact age.\n",
    "#We hardcore this \"300\" ages to 90 in consequence, although the OASIS function works fine because filters ages > 89.\n",
    "admissionsFinal.loc[admissionsFinal[\"age\"]==300,\"age\"]=90\n",
    "print(\"1.\\n Age values:\",admissionsFinal['age'])\n",
    "\n",
    "# Pre-LOS\n",
    "# Cast to datetime intime and admittime values\n",
    "preLos = pd.to_datetime(admissionsFinal['intime'])-pd.to_datetime(admissionsFinal['admittime'])\n",
    "# Convert it to hours and round to two decimals\n",
    "admissionsFinal['prelos'] = np.round(preLos.dt.total_seconds()/3600, 2)\n",
    "print(\"\\n2.\\n Pre-LOS values:\", admissionsFinal['prelos'].values)\n",
    "\n",
    "# Elective surgery information values\n",
    "print(\"\\n3.\\n Elective Surgery values:\",admissionsFinal[\"admission_type\"].unique())"
   ]
  },
  {
   "cell_type": "markdown",
   "metadata": {},
   "source": [
    "## Temperature\n",
    "\n",
    "I've defined the function $\\texttt{toCelsiusT()}$ that gets a dataframe row, identifies the temperature unit and proceeds to convert it to Celsius if this unit is Fahrenheit. \n",
    "\n",
    "Then, we have the function $\\texttt{first24_or_48()}$. We'll use it for all the following variables, because:\n",
    "\n",
    "* 1. Gets the df with this variable info and computes the \"hour\" column which tells us the amount of hours elapsed between the date when the observation was made and the date when the patient went into the ICU.\n",
    "* 2. Filters the df including only the rows of less than 24 or 48 hours.\n",
    "* 3. For each unique icustay id, gets the minimum measure value\n",
    "\n",
    "**In the case of temperature, it converts the ones in Fahrenheit to Celsius.**<br>\n",
    "**In the case of Urine, instead of the minimum, the function returns the total urine output over 24 or 48 hours, as stated in the documentation**"
   ]
  },
  {
   "cell_type": "code",
   "execution_count": 703,
   "metadata": {
    "ExecuteTime": {
     "end_time": "2021-03-19T16:50:08.641826Z",
     "start_time": "2021-03-19T16:50:08.636828Z"
    }
   },
   "outputs": [],
   "source": [
    "def toCelsiusT(temperature):\n",
    "    unit = temperature[\"valueuom\"].values[0]\n",
    "    val = temperature[\"valuenum\"].values[0]\n",
    "    if \"F\" in unit:\n",
    "        return (5/9)*(val-32)\n",
    "    return val"
   ]
  },
  {
   "cell_type": "code",
   "execution_count": 704,
   "metadata": {
    "ExecuteTime": {
     "end_time": "2021-03-19T16:50:09.273955Z",
     "start_time": "2021-03-19T16:50:09.263923Z"
    }
   },
   "outputs": [],
   "source": [
    "def first24_or_48(df,ICUsmall,period,timeName,varMin,urine=False,temperature=False):\n",
    "    \n",
    "    # Get \"hadm_id\",\"icustay_id\",\"intime\" variables from the icustay df\n",
    "    df = pd.merge(df,ICUsmall,on=[\"subject_id\",\"hadm_id\",\"icustay_id\"])\n",
    "    \n",
    "    #Compute the hours\n",
    "    hours = pd.to_datetime(df[timeName]) - pd.to_datetime(df.intime)\n",
    "    df[\"hours\"] = np.round(hours.dt.total_seconds()/3600, 2)\n",
    "    \n",
    "    if temperature:\n",
    "        #Fahrenheit to Celsius if needed\n",
    "        df[\"temp_c\"] = df.apply(lambda x: toCelsiusT(x.to_frame().T),axis=1)\n",
    "    \n",
    "    # Filter 24 or 48 hours periods\n",
    "    df24 = df[(df[\"hours\"]<=period) & (df[\"hours\"]>0)]\n",
    "    ids = df24[\"icustay_id\"].unique()\n",
    "    minDF = pd.DataFrame()\n",
    "    for id in ids:\n",
    "        temp = df24[df24['icustay_id']==id]\n",
    "        \n",
    "        #Urine is the sum, not the minimum\n",
    "        if urine:\n",
    "            minDF = minDF.append(pd.DataFrame({'subject_id':temp[\"subject_id\"].unique(),\"icustay_id\":[id],\"urine\":[temp['urine'].sum()]}))\n",
    "        else:\n",
    "            # Get and locate the minimum\n",
    "            min_ = temp[varMin].min()\n",
    "            minDF = minDF.append(temp[temp[varMin]==min_][:1])\n",
    "    return minDF[[\"subject_id\",\"icustay_id\",varMin]]"
   ]
  },
  {
   "cell_type": "code",
   "execution_count": 705,
   "metadata": {
    "ExecuteTime": {
     "end_time": "2021-03-19T16:50:09.697762Z",
     "start_time": "2021-03-19T16:50:09.690743Z"
    }
   },
   "outputs": [],
   "source": [
    "# Function that returns the dataframe of each temperature value for each icustay.\n",
    "def get_temperature(period):\n",
    "    ICUsmall = icustays[['subject_id',\"hadm_id\",\"icustay_id\",\"intime\"]]\n",
    "    \n",
    "    chartevents=pd.read_csv(path+'CHARTEVENTS.csv')\n",
    "    items=pd.read_csv(path+'D_ITEMS.csv')\n",
    "    \n",
    "    #When looking at the \"label\" values of dfitems, the only labels we are interested in are the ones that start\n",
    "    #with \"Temperature C\" or \"Temperature F\". I store get the itemid values of that rows\n",
    "    itemsID = items[(items[\"label\"].str.contains('^Temperature C', case=False, na=False, regex=True)) | \n",
    "         (items[\"label\"].str.contains('^Temperature F', case=False, na=False, regex=True))][['itemid']].values\n",
    "\n",
    "    #Remove the list of list\n",
    "    itemsID = [i[0] for i in itemsID]\n",
    "\n",
    "    #Get the rows of chartevents that contain those itemsID\n",
    "    validTemps = chartevents[chartevents['itemid'].isin(itemsID)]\n",
    "    validTemps = validTemps[validTemps['valuenum'].notna()][['subject_id', 'hadm_id', 'icustay_id', 'itemid', 'charttime',\n",
    "                                                            'value', 'valuenum', 'valueuom']]\n",
    "    \n",
    "    return first24_or_48(validTemps,ICUsmall,period,\"charttime\",\"temp_c\",temperature=True)\n",
    "    "
   ]
  },
  {
   "cell_type": "markdown",
   "metadata": {},
   "source": [
    "## Glasgow Coma Scale\n"
   ]
  },
  {
   "cell_type": "code",
   "execution_count": 706,
   "metadata": {
    "ExecuteTime": {
     "end_time": "2021-03-19T16:50:10.293579Z",
     "start_time": "2021-03-19T16:50:10.285581Z"
    }
   },
   "outputs": [],
   "source": [
    "# Function that returns the dataframe of each GCU value for each icustay.\n",
    "def get_GCS(period):\n",
    "    ICUsmall = icustays[['subject_id',\"hadm_id\",\"icustay_id\",\"intime\"]]\n",
    "    \n",
    "    #Reading\n",
    "    GCS_E_metavision = pd.read_csv(path+\"variables/GCS_E_metavision.csv\",index_col=0)\n",
    "    GCS_E_metavision.columns = [\"subject_id\",\"hadm_id\",\"icustay_id\",\"Time\",\"GCS_V\"]\n",
    "    GCS_M_metavision = pd.read_csv(path+\"variables/GCS_M_metavision.csv\",index_col=0)\n",
    "    GCS_M_metavision.columns = [\"subject_id\",\"hadm_id\",\"icustay_id\",\"Time\",\"GCS_M\"]\n",
    "    GCS_V_metavision = pd.read_csv(path+\"variables/GCS_V_metavision.csv\",index_col=0)\n",
    "    GCS_V_metavision.columns = [\"subject_id\",\"hadm_id\",\"icustay_id\",\"Time\",\"GCS_E\"]\n",
    "    GCS_total_carevue = pd.read_csv(path+\"variables/GCS_total_carevue.csv\",index_col=0)\n",
    "    \n",
    "    # For Metavision, merge all the dataframes of GCS information\n",
    "    GCSMeta = pd.merge(GCS_E_metavision,pd.merge(GCS_M_metavision,GCS_V_metavision,on=[\"subject_id\",\"hadm_id\",\"icustay_id\",\"Time\"]))\n",
    "    \n",
    "    #And now sum its values\n",
    "    GCSMeta[\"GCS_total\"] = GCSMeta[\"GCS_V\"]+GCSMeta[\"GCS_M\"]+GCSMeta[\"GCS_E\"]\n",
    "    GCSMeta = GCSMeta.drop([\"GCS_V\",\"GCS_M\",\"GCS_E\"],axis=1)\n",
    "\n",
    "    # For Carevue just rename the columns\n",
    "    CareMin = first24_or_48(GCS_total_carevue,ICUsmall,24,\"GCS_total_Carevue_Time\",\"GCS_total_Carevue\")\n",
    "    CareMin.columns = [\"subject_id\",\"icustay_id\",\"GCS_total\"]\n",
    "    \n",
    "    MetaMin = first24_or_48(GCSMeta,ICUsmall,period,\"Time\",\"GCS_total\")\n",
    "    \n",
    "    return pd.concat([CareMin,MetaMin])"
   ]
  },
  {
   "cell_type": "markdown",
   "metadata": {},
   "source": [
    "## HRate, Resp_rate, Urine, MAP\n",
    "\n",
    "I decided to compute this 4 together"
   ]
  },
  {
   "cell_type": "code",
   "execution_count": 707,
   "metadata": {
    "ExecuteTime": {
     "end_time": "2021-03-19T16:50:10.876471Z",
     "start_time": "2021-03-19T16:50:10.868468Z"
    }
   },
   "outputs": [],
   "source": [
    "# Function that returns the dataframe of each variable value for each icustay.\n",
    "def get_rest_variables(period):\n",
    "    ICUsmall = icustays[['subject_id',\"hadm_id\",\"icustay_id\",\"intime\"]]\n",
    "    \n",
    "    #Reading\n",
    "    hrate = pd.read_csv(path+\"variables/heartRate.csv\",index_col=0)\n",
    "    respRate = pd.read_csv(path+\"variables/RespiratoryRate.csv\",index_col=0)\n",
    "    urine = pd.read_csv(path+\"variables/urine.csv\",index_col=0)\n",
    "    map_ = pd.read_csv(path+\"variables/MAP.csv\",index_col=0)\n",
    "    \n",
    "    heartRate = first24_or_48(hrate,ICUsmall,period,\"hrate_Time\",\"hrate\")\n",
    "    mapDF = first24_or_48(map_,ICUsmall,period,\"MAP_Time\",\"MAP\")\n",
    "    respirRate = first24_or_48(respRate,ICUsmall,period,\"resp_rate_Time\",\"resp_rate\")\n",
    "    ur = first24_or_48(urine,ICUsmall,period,\"urine_Time\",\"urine\",True)\n",
    "    \n",
    "    return [heartRate,mapDF,respirRate,ur]\n",
    "    "
   ]
  },
  {
   "cell_type": "markdown",
   "metadata": {},
   "source": [
    "## Ventilation\n",
    "\n",
    "Ventilation is done apart. First, we add a column named \"ventilated\" and input its values to \"y\". Then, we return the df.\n",
    "Later on, we will merge this df to the \"global\" df and then replace the NaN values that we will find in this columns with \"n\"."
   ]
  },
  {
   "cell_type": "code",
   "execution_count": 708,
   "metadata": {
    "ExecuteTime": {
     "end_time": "2021-03-19T16:50:11.495279Z",
     "start_time": "2021-03-19T16:50:11.490282Z"
    }
   },
   "outputs": [],
   "source": [
    "def get_vent(period):\n",
    "    ve = pd.read_csv(path+\"variables/ventilation.csv\",index_col=0)\n",
    "    ve[\"ventilated\"]=\"y\"\n",
    "    return ve.drop([\"hadm_id\",\"starttime\"],axis=1)"
   ]
  },
  {
   "cell_type": "markdown",
   "metadata": {
    "ExecuteTime": {
     "end_time": "2021-03-18T21:35:52.131191Z",
     "start_time": "2021-03-18T21:35:52.093180Z"
    }
   },
   "source": [
    "## Oasis Score computing\n",
    "\n",
    "Added the \"allowNaN\" parameter to do the sum respecting or not NaN values."
   ]
  },
  {
   "cell_type": "code",
   "execution_count": 709,
   "metadata": {
    "ExecuteTime": {
     "end_time": "2021-03-19T16:50:12.344648Z",
     "start_time": "2021-03-19T16:50:12.302695Z"
    }
   },
   "outputs": [],
   "source": [
    "# The MIT License\n",
    "\n",
    "# Copyright (c) 2015 Tom Pollard\n",
    "\n",
    "# Permission is hereby granted, free of charge, to any person obtaining a copy\n",
    "# of this software and associated documentation files (the \"Software\"), to deal\n",
    "# in the Software without restriction, including without limitation the rights\n",
    "# to use, copy, modify, merge, publish, distribute, sublicense, and/or sell\n",
    "# copies of the Software, and to permit persons to whom the Software is\n",
    "# furnished to do so, subject to the following conditions:\n",
    "\n",
    "# The above copyright notice and this permission notice shall be included in\n",
    "# all copies or substantial portions of the Software.\n",
    "\n",
    "# THE SOFTWARE IS PROVIDED \"AS IS\", WITHOUT WARRANTY OF ANY KIND, EXPRESS OR\n",
    "# IMPLIED, INCLUDING BUT NOT LIMITED TO THE WARRANTIES OF MERCHANTABILITY,\n",
    "# FITNESS FOR A PARTICULAR PURPOSE AND NONINFRINGEMENT. IN NO EVENT SHALL THE\n",
    "# AUTHORS OR COPYRIGHT HOLDERS BE LIABLE FOR ANY CLAIM, DAMAGES OR OTHER\n",
    "# LIABILITY, WHETHER IN AN ACTION OF CONTRACT, TORT OR OTHERWISE, ARISING FROM,\n",
    "# OUT OF OR IN CONNECTION WITH THE SOFTWARE OR THE USE OR OTHER DEALINGS IN\n",
    "# THE SOFTWARE.\n",
    "\n",
    "def compute_oasis(pd_dataframe,allowNaN=False):\n",
    "    \"\"\"\n",
    "    Takes Pandas DataFrame as an argument and computes Oxford Acute \n",
    "    Severity of Illness Score (OASIS) (http://oasisicu.com/)\n",
    "    \n",
    "    The DataFrame should include only measurements taken over the first 24h \n",
    "    from admission. pd_dataframe should contain the following columns:\n",
    "    \n",
    "    'prelos' => Pre-ICU length of stay, hours\n",
    "    'age' => Age of patient, years\n",
    "    'GCS_total' => Total Glasgow Coma Scale for patient\n",
    "    'hrate' => All heart rate measurements\n",
    "    'MAP' => All mean arterial blood pressure measurements\n",
    "    'resp_rate' => All respiratory rate measurements\n",
    "    'temp_c' => All temperature measurements, C\n",
    "    'urine' => Total urine output over 24 h (note, not consecutive measurements)\n",
    "    'ventilated' => Is patient ventilated? (y,n)\n",
    "    'admission_type' => Type of admission (elective, urgent, emergency) \n",
    "    \n",
    "    Reference:\n",
    "    Johnson AE, Kramer AA, Clifford GD. A new severity of illness scale \n",
    "    using a subset of Acute Physiology And Chronic Health Evaluation \n",
    "    data elements shows comparable predictive accuracy.\n",
    "    Crit Care Med. 2013 Jul;41(7):1711-8. doi: 10.1097/CCM.0b013e31828a24fe\n",
    "    http://www.ncbi.nlm.nih.gov/pubmed/23660729\n",
    "    \"\"\"\n",
    "    \n",
    "    # 10 variables\n",
    "    oasis_score, oasis_prelos, oasis_age, oasis_gcs, oasis_hr, oasis_map, oasis_resp, \\\n",
    "        oasis_temp, oasis_urine, oasis_vent, oasis_surg = 0,0,0,0,0,0,0,0,0,0,0   \n",
    "    # Pre-ICU length of stay, hours\n",
    "    for val in pd_dataframe['prelos']:\n",
    "        if val >= 4.95 and val <= 24.0:\n",
    "            oasis_prelos = np.nanmax([0,oasis_prelos])\n",
    "        elif val > 311.8:\n",
    "            oasis_prelos = np.nanmax([1,oasis_prelos])\n",
    "        elif val > 24.0 and val <= 311.8:\n",
    "            oasis_prelos = np.nanmax([2,oasis_prelos])\n",
    "        elif val >= 0.17 and val < 4.95:\n",
    "            oasis_prelos = np.nanmax([3,oasis_prelos])\n",
    "        elif val < 0.17:\n",
    "            oasis_prelos = np.nanmax([5,oasis_prelos])\n",
    "        else:\n",
    "            oasis_prelos = np.nanmax([np.nan,oasis_prelos])  \n",
    "    if pd_dataframe['prelos'].isnull().all():\n",
    "        oasis_prelos = np.nan \n",
    "    # Age, years\n",
    "    for val in pd_dataframe['age']:\n",
    "        if val < 24:\n",
    "            oasis_age = np.nanmax([0,oasis_age])\n",
    "        elif val >= 24 and val <= 53:\n",
    "            oasis_age = np.nanmax([3,oasis_age])\n",
    "        elif val > 53 and val <= 77:\n",
    "            oasis_age = np.nanmax([6,oasis_age])\n",
    "        elif val > 77 and val <= 89:\n",
    "            oasis_age = np.nanmax([9,oasis_age])\n",
    "        elif val > 89:\n",
    "            oasis_age = np.nanmax([7,oasis_age])\n",
    "        else:\n",
    "            oasis_age = np.nanmax([np.nan,oasis_age])\n",
    "    if pd_dataframe['age'].isnull().all():\n",
    "        oasis_age = np.nan \n",
    "    # Glasgow Coma Scale\n",
    "    for val in pd_dataframe['GCS_total']:\n",
    "        if val == 15:\n",
    "            oasis_gcs = np.nanmax([0,oasis_gcs])\n",
    "        elif val == 14:\n",
    "            oasis_gcs = np.nanmax([3,oasis_gcs])\n",
    "        elif val >= 8 and val <= 13:\n",
    "            oasis_gcs = np.nanmax([4,oasis_gcs])\n",
    "        elif val >= 3 and val <= 7:\n",
    "            oasis_gcs = np.nanmax([10,oasis_gcs])\n",
    "        else:\n",
    "            oasis_gcs = np.nanmax([np.nan,oasis_gcs])\n",
    "    if pd_dataframe['GCS_total'].isnull().all():\n",
    "        oasis_gcs = np.nan     \n",
    "    # Heart rate\n",
    "    for val in pd_dataframe['hrate']:\n",
    "        if val >= 33 and val <= 88:\n",
    "            oasis_hr = np.nanmax([0,oasis_hr])\n",
    "        elif val > 88 and val <= 106:\n",
    "            oasis_hr = np.nanmax([1,oasis_hr])\n",
    "        elif val > 106 and val <= 125:\n",
    "            oasis_hr = np.nanmax([3,oasis_hr])\n",
    "        elif val < 33:\n",
    "            oasis_hr = np.nanmax([4,oasis_hr])\n",
    "        elif val > 125:\n",
    "            oasis_hr = np.nanmax([6,oasis_hr])\n",
    "        else:\n",
    "            oasis_hr = np.nanmax([np.nan,oasis_hr])\n",
    "    if pd_dataframe['hrate'].isnull().all():\n",
    "        oasis_hr = np.nan \n",
    "    # Mean arterial pressure\n",
    "    for val in pd_dataframe['MAP']:\n",
    "        if val >=61.33 and val <= 143.44:\n",
    "            oasis_map = np.nanmax([0,oasis_map])\n",
    "        elif val >= 51.0 and val < 61.33:\n",
    "            oasis_map = np.nanmax([2,oasis_map])\n",
    "        elif (val >= 20.65 and val < 51.0) or (val > 143.44):\n",
    "            oasis_map = np.nanmax([3,oasis_map])\n",
    "        elif val < 20.65:\n",
    "            oasis_map = np.nanmax([4,oasis_map])\n",
    "        else:\n",
    "            oasis_map = np.nanmax([np.nan,oasis_map])\n",
    "    if pd_dataframe['MAP'].isnull().all():\n",
    "        oasis_map = np.nan \n",
    "    # Respiratory Rate\n",
    "    for val in pd_dataframe['resp_rate']:\n",
    "        if val >=13 and val <= 22:\n",
    "            oasis_resp = np.nanmax([0,oasis_resp])\n",
    "        elif (val >= 6 and val <= 12) or (val >= 23 and val <= 30):\n",
    "            oasis_resp = np.nanmax([1,oasis_resp])\n",
    "        elif val > 30 and val <= 44:\n",
    "            oasis_resp = np.nanmax([6,oasis_resp])\n",
    "        elif val > 44:\n",
    "            oasis_resp = np.nanmax([9,oasis_resp])\n",
    "        elif val < 6:\n",
    "            oasis_resp = np.nanmax([10,oasis_resp])\n",
    "        else:\n",
    "            oasis_resp = np.nanmax([np.nan,oasis_resp])\n",
    "    if pd_dataframe['resp_rate'].isnull().all():\n",
    "        oasis_resp = np.nan \n",
    "    # Temperature, C\n",
    "    for val in pd_dataframe['temp_c']:\n",
    "        if val >= 36.40 and val <= 36.88:\n",
    "            oasis_temp = np.nanmax([0,oasis_temp])\n",
    "        elif (val >= 35.94 and val < 36.40) or (val > 36.88 and val <= 39.88):\n",
    "            oasis_temp = np.nanmax([2,oasis_temp])\n",
    "        elif val < 33.22:\n",
    "            oasis_temp = np.nanmax([3,oasis_temp])            \n",
    "        elif val >= 33.22 and val < 35.94:\n",
    "            oasis_temp = np.nanmax([4,oasis_temp])\n",
    "        elif val > 39.88:\n",
    "            oasis_temp = np.nanmax([6,oasis_temp])\n",
    "        else:\n",
    "            oasis_temp = np.nanmax([np.nan,oasis_temp])\n",
    "    if pd_dataframe['temp_c'].isnull().all():\n",
    "        oasis_temp = np.nan \n",
    "    # Urine output, cc/day (total over 24h)\n",
    "    val = np.max(pd_dataframe['urine'])\n",
    "    if val >=2544.0 and val <= 6896.0:\n",
    "        oasis_urine = np.nanmax([0,oasis_urine])\n",
    "    elif val >= 1427.0 and val < 2544.0:\n",
    "        oasis_urine = np.nanmax([1,oasis_urine])\n",
    "    elif val >= 671.0 and val < 1427.0:\n",
    "        oasis_urine = np.nanmax([5,oasis_urine])\n",
    "    elif val > 6896.0:\n",
    "        oasis_urine = np.nanmax([8,oasis_urine])\n",
    "    elif val < 671:\n",
    "        oasis_urine = np.nanmax([10,oasis_urine])\n",
    "    else:\n",
    "        oasis_urine = np.nanmax([np.nan,oasis_urine])\n",
    "    if pd_dataframe['urine'].isnull().all():\n",
    "        oasis_urine = np.nan \n",
    "    # Ventilated y/n\n",
    "    for val in pd_dataframe['ventilated']:\n",
    "        if val == 'n':\n",
    "            oasis_vent = np.nanmax([0,oasis_vent])\n",
    "        elif val == 'y':\n",
    "            oasis_vent = np.nanmax([9,oasis_vent])\n",
    "        else:\n",
    "            oasis_vent = np.nanmax([np.nan,oasis_vent])\n",
    "    if pd_dataframe['ventilated'].isnull().all():\n",
    "        oasis_vent = np.nan \n",
    "    # Elective surgery y/n\n",
    "    for val in pd_dataframe['admission_type']:\n",
    "        if val == 'elective':\n",
    "            oasis_surg = np.nanmax([0,oasis_surg])\n",
    "        elif val in ['urgent','emergency']:\n",
    "            oasis_surg = np.nanmax([6,oasis_surg])\n",
    "        else:\n",
    "            oasis_surg = np.nanmax([np.nan,oasis_surg])\n",
    "    if pd_dataframe['admission_type'].isnull().all():\n",
    "        oasis_surg = np.nan \n",
    "    \n",
    "    if allowNaN:\n",
    "        return np.nansum([oasis_prelos, oasis_age, oasis_gcs, oasis_hr, oasis_map, oasis_resp, \\\n",
    "            oasis_temp, oasis_urine, oasis_vent, oasis_surg])\n",
    "    else:\n",
    "        # Return sum\n",
    "        oasis_score = sum([oasis_prelos, oasis_age, oasis_gcs, oasis_hr, oasis_map, oasis_resp, \\\n",
    "            oasis_temp, oasis_urine, oasis_vent, oasis_surg])\n",
    "    \n",
    "    return oasis_score"
   ]
  },
  {
   "cell_type": "markdown",
   "metadata": {},
   "source": [
    "This function gets a dataframe and adds the column \"oasis\" that is the OASIS score computed with the function above. With the parameter \"allowNaN\" we allow or not NaN's in the final sum."
   ]
  },
  {
   "cell_type": "code",
   "execution_count": 710,
   "metadata": {
    "ExecuteTime": {
     "end_time": "2021-03-19T16:50:13.673243Z",
     "start_time": "2021-03-19T16:50:13.668222Z"
    }
   },
   "outputs": [],
   "source": [
    "def addOasis(data,allowNaN):\n",
    "    df = data.copy()\n",
    "    df[\"oasis\"]= data.apply(lambda x: compute_oasis(x.to_frame().T,allowNaN),axis=1)\n",
    "    return df"
   ]
  },
  {
   "cell_type": "markdown",
   "metadata": {},
   "source": [
    "## Training and predicting"
   ]
  },
  {
   "cell_type": "code",
   "execution_count": 721,
   "metadata": {
    "ExecuteTime": {
     "end_time": "2021-03-19T16:52:32.960783Z",
     "start_time": "2021-03-19T16:52:32.955784Z"
    }
   },
   "outputs": [],
   "source": [
    "from sklearn.ensemble import RandomForestClassifier\n",
    "from sklearn.model_selection import train_test_split, cross_val_score, cross_val_predict\n",
    "from sklearn.model_selection import StratifiedKFold\n",
    "from sklearn import metrics\n",
    "from sklearn.metrics import confusion_matrix\n",
    "from sklearn.metrics import plot_confusion_matrix"
   ]
  },
  {
   "cell_type": "markdown",
   "metadata": {},
   "source": [
    "This function creates the \"global\" dataframe with all the needed variables. "
   ]
  },
  {
   "cell_type": "code",
   "execution_count": 712,
   "metadata": {
    "ExecuteTime": {
     "end_time": "2021-03-19T16:50:16.214452Z",
     "start_time": "2021-03-19T16:50:16.207417Z"
    }
   },
   "outputs": [],
   "source": [
    "def getData(starterDF,period,allowNaN):\n",
    "    # Temperature\n",
    "    starterDF = pd.merge(starterDF,get_temperature(period),on=[\"subject_id\",\"icustay_id\"],how=\"outer\")\n",
    "    \n",
    "    # GCS\n",
    "    starterDF = pd.merge(starterDF,get_GCS(period),on=[\"subject_id\",\"icustay_id\"],how=\"outer\")\n",
    "    \n",
    "    # HRate, Resp_rate, Urine, MAP\n",
    "    for df in get_rest_variables(period):\n",
    "        starterDF = pd.merge(starterDF,df,on=[\"subject_id\",\"icustay_id\"],how=\"outer\")\n",
    "    \n",
    "    # Ventilation\n",
    "    vent = get_vent(period)\n",
    "    starterDF = pd.merge(starterDF,vent,on=[\"subject_id\",\"icustay_id\"],how=\"outer\")\n",
    "    starterDF['ventilated'] = starterDF['ventilated'].replace(np.nan, \"n\")\n",
    "    starterDF = starterDF.drop_duplicates()\n",
    "    \n",
    "    # OASIS Scores\n",
    "    starterDF = addOasis(starterDF,allowNaN)[['oasis','los']]\n",
    "    \n",
    "    # LOS to target variable for training.\n",
    "    starterDF['los'] = np.where(starterDF['los']<4, 0, 1)\n",
    "    \n",
    "    return starterDF"
   ]
  },
  {
   "cell_type": "code",
   "execution_count": 713,
   "metadata": {
    "ExecuteTime": {
     "end_time": "2021-03-19T16:50:50.388205Z",
     "start_time": "2021-03-19T16:50:21.055603Z"
    }
   },
   "outputs": [
    {
     "name": "stderr",
     "output_type": "stream",
     "text": [
      "C:\\Users\\blair\\anaconda3\\lib\\site-packages\\IPython\\core\\interactiveshell.py:3343: DtypeWarning: Columns (8,10,13,14) have mixed types.Specify dtype option on import or set low_memory=False.\n",
      "  exec(code_obj, self.user_global_ns, self.user_ns)\n"
     ]
    }
   ],
   "source": [
    "#Get the 3 dataframes:\n",
    "# data24: data from the last 24 hours, allowing the OASIS final sum with NaN values in it.\n",
    "# dataNaN48: data from the last 24 hours, NOT ALLOWING the OASIS final sum with NaN values in it.\n",
    "# data48: data from the last 48 hours, allowing the OASIS final sum with NaN values in it.\n",
    "\n",
    "#Takes ~30 seconds to execute.\n",
    "\n",
    "data24 = getData(admissionsFinal,24,True)\n",
    "dataNaN48 = getData(admissionsFinal,48,False)\n",
    "data48 = getData(admissionsFinal,48,True)"
   ]
  },
  {
   "cell_type": "code",
   "execution_count": 714,
   "metadata": {
    "ExecuteTime": {
     "end_time": "2021-03-19T16:50:55.642059Z",
     "start_time": "2021-03-19T16:50:55.639027Z"
    }
   },
   "outputs": [
    {
     "name": "stdout",
     "output_type": "stream",
     "text": [
      "(136, 2) (136, 2) (136, 2)\n"
     ]
    }
   ],
   "source": [
    "#Shapes\n",
    "print(data24.shape,dataNaN48.shape,data48.shape)"
   ]
  },
  {
   "cell_type": "code",
   "execution_count": 715,
   "metadata": {
    "ExecuteTime": {
     "end_time": "2021-03-19T16:50:57.518293Z",
     "start_time": "2021-03-19T16:50:57.513262Z"
    }
   },
   "outputs": [
    {
     "name": "stdout",
     "output_type": "stream",
     "text": [
      "NaN's in data24 (from last 24 hours): 0 \n",
      "NaN's in dataNaN48 (from last 48 hours): 83 \n",
      "NaN's in data48 (from last 48 hours): 0\n"
     ]
    }
   ],
   "source": [
    "print(\"NaN's in data24 (from last 24 hours):\",data24[\"oasis\"].isna().sum(),\n",
    "     \"\\nNaN's in dataNaN48 (from last 48 hours):\",dataNaN48[\"oasis\"].isna().sum(),\n",
    "     \"\\nNaN's in data48 (from last 48 hours):\",data48[\"oasis\"].isna().sum())"
   ]
  },
  {
   "cell_type": "markdown",
   "metadata": {},
   "source": [
    "This following function does the traing and prediction of the LOS. <br>\n",
    "First, builds the train and test vectors (X and y) replacing or not NaN values.<br>\n",
    "Then, builds a Stratified K-Folds cross-validator that provides me the train/test indices for the later prediction with RandomForest. <br>\n",
    "So, for each index we compute the final prediction and store this value into yhat. Finally, we print the final accuracy and confusion matrix."
   ]
  },
  {
   "cell_type": "code",
   "execution_count": 717,
   "metadata": {
    "ExecuteTime": {
     "end_time": "2021-03-19T16:51:10.417650Z",
     "start_time": "2021-03-19T16:51:10.404621Z"
    }
   },
   "outputs": [],
   "source": [
    "def train(data):\n",
    "    \n",
    "    cv = StratifiedKFold(random_state=0,n_splits=5,shuffle=True)\n",
    "    \n",
    "    X = data.dropna().iloc[:,0].values.reshape(-1,1)\n",
    "    y = data.dropna().iloc[:,1].values\n",
    "    print(\"X shape:\",X.shape,\"y shape\",y.shape)\n",
    "    yhat = np.zeros((X.shape[0])).reshape(-1,1)\n",
    "    \n",
    "    for train_idx, test_idx in cv.split(X,y):\n",
    "        X_train,y_train = X[train_idx,:],y[train_idx]\n",
    "        X_test,y_test = X[test_idx,:],y[test_idx]\n",
    "\n",
    "        clf = RandomForestClassifier(random_state=0)\n",
    "        clf.fit(X_train,y_train)\n",
    "        yhat[test_idx] = clf.predict(X_test).reshape(-1,1)\n",
    "    \n",
    "    #For the mean or std if we want\n",
    "    scores = cross_val_score(clf,X,y,cv=5)\n",
    "    \n",
    "    print(\"Accuracy of the model:\",np.round(metrics.accuracy_score(y,yhat),2),\n",
    "          \"\\nMean Accuracy:\",np.round(scores.mean(),2),\n",
    "          \"\\nF1 Score:\",np.round(metrics.f1_score(y,yhat),2),\n",
    "         \"\\nConfusion Matrix:\\n\",metrics.confusion_matrix(y,yhat),\n",
    "         \"\\n\",plot_confusion_matrix(clf, X_test, y_test))\n",
    "        "
   ]
  },
  {
   "cell_type": "markdown",
   "metadata": {},
   "source": [
    "## Results"
   ]
  },
  {
   "cell_type": "code",
   "execution_count": 722,
   "metadata": {
    "ExecuteTime": {
     "end_time": "2021-03-19T16:52:39.365013Z",
     "start_time": "2021-03-19T16:52:38.103496Z"
    }
   },
   "outputs": [
    {
     "name": "stdout",
     "output_type": "stream",
     "text": [
      "X shape: (136, 1) y shape (136,)\n",
      "Accuracy of the model: 0.66 \n",
      "Mean Accuracy: 0.68 \n",
      "F1 Score: 0.28 \n",
      "Confusion Matrix:\n",
      " [[81 19]\n",
      " [27  9]] \n",
      " <sklearn.metrics._plot.confusion_matrix.ConfusionMatrixDisplay object at 0x0000016F0427A310>\n"
     ]
    },
    {
     "data": {
      "image/png": "[encoded data removed]",
      "text/plain": [
       "<Figure size 432x288 with 2 Axes>"
      ]
     },
     "metadata": {
      "needs_background": "light"
     },
     "output_type": "display_data"
    }
   ],
   "source": [
    "train(data24)"
   ]
  },
  {
   "cell_type": "code",
   "execution_count": 723,
   "metadata": {
    "ExecuteTime": {
     "end_time": "2021-03-19T16:52:44.412120Z",
     "start_time": "2021-03-19T16:52:43.220087Z"
    }
   },
   "outputs": [
    {
     "name": "stdout",
     "output_type": "stream",
     "text": [
      "X shape: (136, 1) y shape (136,)\n",
      "Accuracy of the model: 0.68 \n",
      "Mean Accuracy: 0.75 \n",
      "F1 Score: 0.27 \n",
      "Confusion Matrix:\n",
      " [[84 16]\n",
      " [28  8]] \n",
      " <sklearn.metrics._plot.confusion_matrix.ConfusionMatrixDisplay object at 0x0000016F06DB6640>\n"
     ]
    },
    {
     "data": {
      "image/png": "[encoded data removed]",
      "text/plain": [
       "<Figure size 432x288 with 2 Axes>"
      ]
     },
     "metadata": {
      "needs_background": "light"
     },
     "output_type": "display_data"
    }
   ],
   "source": [
    "train(data48)"
   ]
  },
  {
   "cell_type": "code",
   "execution_count": 724,
   "metadata": {
    "ExecuteTime": {
     "end_time": "2021-03-19T16:52:47.716710Z",
     "start_time": "2021-03-19T16:52:46.522227Z"
    }
   },
   "outputs": [
    {
     "name": "stdout",
     "output_type": "stream",
     "text": [
      "X shape: (53, 1) y shape (53,)\n",
      "Accuracy of the model: 0.53 \n",
      "Mean Accuracy: 0.49 \n",
      "F1 Score: 0.39 \n",
      "Confusion Matrix:\n",
      " [[20 10]\n",
      " [15  8]] \n",
      " <sklearn.metrics._plot.confusion_matrix.ConfusionMatrixDisplay object at 0x0000016F16D6A700>\n"
     ]
    },
    {
     "data": {
      "image/png": "[encoded data removed]",
      "text/plain": [
       "<Figure size 432x288 with 2 Axes>"
      ]
     },
     "metadata": {
      "needs_background": "light"
     },
     "output_type": "display_data"
    }
   ],
   "source": [
    "train(dataNaN48)"
   ]
  },
  {
   "cell_type": "markdown",
   "metadata": {},
   "source": [
    "## Conclusions\n",
    "\n",
    "* My best model is the one build with data from the last 48 hours, allowing the OASIS final sum with NaN values in it. \n",
    "* My worst model is the one build with data from the last 48 hours but not allowing the OASIS final sum with NaN values in it.\n",
    "* The dataset with data from the last 24 hours also gave me a good accuracy score.\n",
    "\n",
    "\n",
    "| Dataset              | Accuracy (%) |\n",
    "|----------------------|--------------|\n",
    "| 48 hours             |           68 |\n",
    "| 24 hours             |           66 |\n",
    "| 48 hours, NaN values |           53 |"
   ]
  },
  {
   "cell_type": "markdown",
   "metadata": {},
   "source": [
    "That is reasonable because the 48 hours with NaN values only has 53 rows, while the others have all of them.\n",
    "\n",
    "* The 24 hour dataset has LESS False positives than the 48-hour dataset. It also has less True Positives though. \n",
    "* So, in conclusion, although they are pretty similar, I would choose the 48-hour dataset allowing NaN values because it has the best Accuracy and the barely the same F1 Score."
   ]
  },
  {
   "cell_type": "code",
   "execution_count": null,
   "metadata": {},
   "outputs": [],
   "source": []
  }
 ],
 "metadata": {
  "colab": {
   "collapsed_sections": [],
   "name": "TFG_S1_OneByOne_imputation.ipynb",
   "provenance": []
  },
  "kernelspec": {
   "display_name": "Python 3",
   "language": "python",
   "name": "python3"
  },
  "language_info": {
   "codemirror_mode": {
    "name": "ipython",
    "version": 3
   },
   "file_extension": ".py",
   "mimetype": "text/x-python",
   "name": "python",
   "nbconvert_exporter": "python",
   "pygments_lexer": "ipython3",
   "version": "3.8.3"
  }
 },
 "nbformat": 4,
 "nbformat_minor": 1
}
