{
 "cells": [
  {
   "cell_type": "markdown",
   "id": "1d98f0d1-8bc6-419b-a425-78956aa359a2",
   "metadata": {},
   "source": [
    "# GLM C02 - Count data - Equation citations - Stan"
   ]
  },
  {
   "cell_type": "markdown",
   "id": "8627af8c-ecf2-42a3-814e-f7de0ea71d63",
   "metadata": {},
   "source": [
    "## Josep Fortiana $\\mskip100mu$ 2021-05-13"
   ]
  },
  {
   "cell_type": "markdown",
   "id": "d4402010-add2-4b6f-8f18-2872d84c07d9",
   "metadata": {
    "tags": []
   },
   "source": [
    "***\n",
    "###### LaTeX macros\n",
    "$\\def\\argmax{\\operatorname{arg\\,max}}$\n",
    "$\\def\\argmin{\\operatorname{arg\\,min}}$\n",
    "$\\def\\binomdist{\\operatorname{Binomial}}$\n",
    "$\\def\\berndist{\\operatorname{Bernoulli}}$\n",
    "$\\def\\betabinomdist{\\operatorname{Beta-Binomial}}$\n",
    "$\\def\\betadist{\\operatorname{Beta}}$\n",
    "$\\def\\betahat{\\kern1.3pt\\hat{\\kern-1.3pt \\beta}}$\n",
    "$\\def\\borel{\\operatorname{Borel}}$\n",
    "$\\def\\cauchydist{\\operatorname{Cauchy}}$\n",
    "$\\def\\CondTo{\\mathbin{|\\mskip0.5mu}}$\n",
    "$\\def\\cov{\\operatorname{cov}}$\n",
    "$\\def\\cor{\\operatorname{cor}}$\n",
    "$\\def\\dexpdist{\\operatorname{DExp}}$\n",
    "$\\def\\eqdef{\\stackrel{\\text{def}}{\\mskip3mu=\\mskip3mu}}$\n",
    "$\\def\\cE{\\cal E}$\n",
    "$\\def\\Ee{\\operatorname{E}}$\n",
    "$\\def\\expdist{\\operatorname{Exponential}}$\n",
    "$\\def\\fdist{\\operatorname{F}}$\n",
    "$\\def\\gammadist{\\operatorname{Gamma}}$\n",
    "$\\def\\geomdist{\\operatorname{Geom}}$\n",
    "$\\def\\halfcauchydist{\\operatorname{Cauchy}^{+}}$\n",
    "$\\def\\hyperdist{\\operatorname{Hypergeom}}$\n",
    "$\\def\\hypergeomdist{\\operatorname{Hypergeom}}$\n",
    "$\\def\\indep{\\perp{\\mskip-16mu}\\perp}$\n",
    "$\\DeclareMathOperator{\\indica}{\\mathbb{1}}$\n",
    "$\\DeclareMathOperator{\\invgammadist}{InvGamma}$\n",
    "$\\def\\laplacedist{\\operatorname{Laplace}}$\n",
    "$\\def\\lognormaldist{\\operatorname{Log-Normal}}$\n",
    "$\\DeclareMathOperator{\\multinomialdist}{Multinomial}$\n",
    "$\\DeclareMathOperator{\\multinomdist}{Multinomial}$\n",
    "$\\def\\N{\\mathbb{N}}$\n",
    "$\\def\\negbindist{\\operatorname{NegativeBinomial}}$\n",
    "$\\def\\normaldist{\\operatorname{Normal}}$\n",
    "$\\def\\cP{\\cal P}$\n",
    "$\\def\\poissondist{\\operatorname{Poisson}}$\n",
    "$\\def\\prob{P}$\n",
    "$\\def\\R{\\mathbb{R}}$ \n",
    "$\\def\\tdist{\\operatorname{t}}$\n",
    "$\\def\\unifdist{\\operatorname{Unif}}$\n",
    "$\\def\\va{\\text{v.a.}}$\n",
    "$\\def\\var{\\operatorname{var}}$\n",
    "$\\def\\Var{\\operatorname{Var}}$\n",
    "$\\def\\xbar{\\kern1.3pt\\overline{\\kern-1.3pt x}}$\n",
    "$\\def\\Xbar{\\kern1.3pt\\overline{\\kern-1.3pt X}}$\n",
    "$\\def\\yhat{\\kern1.3pt\\hat{\\kern-1.3pt y}}$\n",
    "$\\def\\Z{\\mathbb{Z}}$\n",
    "***"
   ]
  },
  {
   "cell_type": "markdown",
   "id": "2e9a8a5c-bb80-42e4-a045-9fdc19b2f457",
   "metadata": {},
   "source": [
    "From [Kleiber and Zeileis 2008, _Applied Econometrics with R,_ Springer-Verlag.](http://www.springer.com/978-0-387-77316-2), and the commpanion package AER."
   ]
  },
  {
   "cell_type": "code",
   "execution_count": 1,
   "id": "03056c45-46d3-48f9-8f13-fb6c8aa8338e",
   "metadata": {
    "tags": []
   },
   "outputs": [
    {
     "name": "stderr",
     "output_type": "stream",
     "text": [
      "\n",
      "Attaching package: 'zoo'\n",
      "\n",
      "\n",
      "The following objects are masked from 'package:base':\n",
      "\n",
      "    as.Date, as.Date.numeric\n",
      "\n",
      "\n"
     ]
    }
   ],
   "source": [
    "#install.packages(\"AER\",dependencies=TRUE,repos=\"https://cloud.r-project.org\")\n",
    "require(AER,quietly=TRUE)"
   ]
  },
  {
   "cell_type": "markdown",
   "id": "999f7093-ffa8-45ba-8c69-50a1e333f6aa",
   "metadata": {},
   "source": [
    "## Number of Equations and Citations for Evolutionary Biology Publications\n",
    "\n",
    "### Description\n",
    "\n",
    "Analysis of citations of evolutionary biology papers published in 1998 in the top three journals   \n",
    "(as judged by their 5-year impact factors in the Thomson Reuters Journal Citation Reports 2010).\n",
    "\n",
    "### Usage\n",
    "\n",
    "`data(EquationCitations)`\n",
    "\n",
    "### Format\n",
    "\n",
    "A data frame containing 649 observations on 13 variables.\n",
    "\n",
    "### Variables\n",
    "\n",
    "01. `journal`:        Factor. Journal in which the paper was published   \n",
    "(The American Naturalist, Evolution, Proceedings of the Royal Society of London B: Biological Sciences).\n",
    "02. `authors`:        Character. Names of authors.\n",
    "03. `volume`:         Volume in which the paper was published.\n",
    "04. `startpage`:      Starting page of publication.\n",
    "05. `pages`:          Number of pages.\n",
    "06. `equations`:      Number of equations in total.\n",
    "07. `mainequations`:  Number of equations in main text.\n",
    "08. `appequations`:   Number of equations in appendix.\n",
    "09. `cites`:          Number of citations in total.\n",
    "10. `selfcites`:      Number of citations by the authors themselves.\n",
    "11. `othercites`:     Number of citations by other authors.\n",
    "12. `theocites`:      Number of citations by theoretical papers.\n",
    "13. `nontheocites`:   Number of citations by nontheoretical papers.\n",
    "\n",
    "### Details\n",
    "\n",
    "Fawcett and Higginson (2012) investigate the relationship between the number of citations evolutionary biology papers receive, depending on the number of equations per page in the cited paper. \n",
    "\n",
    "Overall it can be shown that papers with many mathematical equations significantly lower the number of citations they receive, in particular from nontheoretical papers.\n",
    "\n",
    "### Source\n",
    "\n",
    "[Online supplements to Fawcett and Higginson (2012).](http://www.pnas.org/lookup/suppl/doi:10.1073/pnas.1205259109/-/DCSupplemental)\n",
    "\n",
    "### References\n",
    "\n",
    "Fawcett, T.W. and Higginson, A.D. (2012). Heavy Use of Equations Impedes Communication among Biologists.   \n",
    "PNAS – Proceedings of the National Academy of Sciences of the United States of America, 109, 11735–11739. http://dx.doi.org/10.1073/pnas.1205259109"
   ]
  },
  {
   "cell_type": "code",
   "execution_count": 2,
   "id": "8c55f9f1-80b1-4095-8e18-cd3814d69a81",
   "metadata": {},
   "outputs": [
    {
     "name": "stdout",
     "output_type": "stream",
     "text": [
      "'data.frame':\t649 obs. of  13 variables:\n",
      " $ journal      : Factor w/ 3 levels \"AmNat\",\"Evolution\",..: 1 1 1 1 1 1 1 1 1 1 ...\n",
      " $ authors      : chr  \"Prodohl et al.\" \"Mauricio\" \"Thrall et al.\" \"Watson et al.\" ...\n",
      " $ volume       : int  151 151 151 151 151 151 151 151 151 151 ...\n",
      " $ startpage    : int  7 20 29 46 59 68 84 97 116 135 ...\n",
      " $ pages        : int  13 9 17 13 9 16 13 19 19 13 ...\n",
      " $ equations    : int  0 2 15 7 0 2 3 17 37 0 ...\n",
      " $ mainequations: int  0 2 15 7 0 2 3 17 8 0 ...\n",
      " $ appequations : int  0 0 0 0 0 0 0 0 29 0 ...\n",
      " $ cites        : int  37 178 25 127 43 91 12 62 77 17 ...\n",
      " $ selfcites    : int  4 5 10 11 8 7 4 4 8 7 ...\n",
      " $ othercites   : int  33 173 15 116 35 84 8 58 69 10 ...\n",
      " $ theocites    : int  8 19 8 17 5 21 2 36 64 2 ...\n",
      " $ nontheocites : int  22 150 6 98 28 61 6 20 4 8 ...\n"
     ]
    }
   ],
   "source": [
    "data(EquationCitations)\n",
    "str(EquationCitations)"
   ]
  },
  {
   "cell_type": "markdown",
   "id": "8921d89b-f773-4246-8346-c32aedd53ce2",
   "metadata": {},
   "source": [
    "Several models with `othercites` and `theocites` as response are possible (see the help page in the `AER` package) and the original paper.\n",
    "\n",
    "Here we choose one of them, with response `othercites` and three predictors, two quantitative and one qualitative."
   ]
  },
  {
   "cell_type": "code",
   "execution_count": 3,
   "id": "0e8c3c7c-8bbf-49a4-b0cd-b0cc06eb1df1",
   "metadata": {},
   "outputs": [
    {
     "name": "stdout",
     "output_type": "stream",
     "text": [
      "'data.frame':\t649 obs. of  4 variables:\n",
      " $ othercites: int  33 173 15 116 35 84 8 58 69 10 ...\n",
      " $ journal   : Factor w/ 3 levels \"AmNat\",\"Evolution\",..: 1 1 1 1 1 1 1 1 1 1 ...\n",
      " $ Lpag      : num  2.56 2.2 2.83 2.56 2.2 ...\n",
      " $ EqPag     : num  0 0.222 0.882 0.538 0 ...\n"
     ]
    }
   ],
   "source": [
    "EqCit<-EquationCitations[,c(11,1)]\n",
    "EqCit<-data.frame(EqCit,Lpag=log(EquationCitations$pages),EqPag=EquationCitations$equations/EquationCitations$pages)\n",
    "str(EqCit)"
   ]
  },
  {
   "cell_type": "code",
   "execution_count": 4,
   "id": "1f8946be-fbf8-443f-bc21-1deca6b3ab22",
   "metadata": {},
   "outputs": [
    {
     "name": "stdout",
     "output_type": "stream",
     "text": [
      " int [1:649] 33 173 15 116 35 84 8 58 69 10 ...\n"
     ]
    },
    {
     "data": {
      "text/plain": [
       "   Min. 1st Qu.  Median    Mean 3rd Qu.    Max. \n",
       "    0.0    15.0    30.0    44.8    54.0   374.0 "
      ]
     },
     "metadata": {},
     "output_type": "display_data"
    }
   ],
   "source": [
    "Cites<-EqCit$othercites\n",
    "str(Cites)\n",
    "summary(Cites)"
   ]
  },
  {
   "cell_type": "code",
   "execution_count": 5,
   "id": "c767c1e2-c81a-4cb2-97e8-5ed002eed751",
   "metadata": {},
   "outputs": [
    {
     "data": {
      "text/html": [
       "649"
      ],
      "text/latex": [
       "649"
      ],
      "text/markdown": [
       "649"
      ],
      "text/plain": [
       "[1] 649"
      ]
     },
     "metadata": {},
     "output_type": "display_data"
    },
    {
     "data": {
      "text/html": [
       "<table class=\"dataframe\">\n",
       "<caption>A matrix: 3 × 375 of type dbl</caption>\n",
       "<tbody>\n",
       "\t<tr><th scope=row>Count</th><td>0.000</td><td>1.000</td><td> 2.000</td><td>3.000</td><td>4.000</td><td>5.000</td><td>6.000</td><td> 7.000</td><td> 8.000</td><td> 9.000</td><td>...</td><td>365</td><td>366</td><td>367</td><td>368</td><td>369</td><td>370</td><td>371</td><td>372</td><td>373</td><td>374.000</td></tr>\n",
       "\t<tr><th scope=row>Freq</th><td>2.000</td><td>7.000</td><td>10.000</td><td>6.000</td><td>8.000</td><td>9.000</td><td>9.000</td><td>12.000</td><td>11.000</td><td>11.000</td><td>...</td><td>  0</td><td>  0</td><td>  0</td><td>  0</td><td>  0</td><td>  0</td><td>  0</td><td>  0</td><td>  0</td><td>  1.000</td></tr>\n",
       "\t<tr><th scope=row>Rel.freq. f</th><td>0.003</td><td>0.011</td><td> 0.015</td><td>0.009</td><td>0.012</td><td>0.014</td><td>0.014</td><td> 0.018</td><td> 0.017</td><td> 0.017</td><td>...</td><td>  0</td><td>  0</td><td>  0</td><td>  0</td><td>  0</td><td>  0</td><td>  0</td><td>  0</td><td>  0</td><td>  0.002</td></tr>\n",
       "</tbody>\n",
       "</table>\n"
      ],
      "text/latex": [
       "A matrix: 3 × 375 of type dbl\n",
       "\\begin{tabular}{r|lllllllllllllllllllll}\n",
       "\tCount & 0.000 & 1.000 &  2.000 & 3.000 & 4.000 & 5.000 & 6.000 &  7.000 &  8.000 &  9.000 & ... & 365 & 366 & 367 & 368 & 369 & 370 & 371 & 372 & 373 & 374.000\\\\\n",
       "\tFreq & 2.000 & 7.000 & 10.000 & 6.000 & 8.000 & 9.000 & 9.000 & 12.000 & 11.000 & 11.000 & ... &   0 &   0 &   0 &   0 &   0 &   0 &   0 &   0 &   0 &   1.000\\\\\n",
       "\tRel.freq. f & 0.003 & 0.011 &  0.015 & 0.009 & 0.012 & 0.014 & 0.014 &  0.018 &  0.017 &  0.017 & ... &   0 &   0 &   0 &   0 &   0 &   0 &   0 &   0 &   0 &   0.002\\\\\n",
       "\\end{tabular}\n"
      ],
      "text/markdown": [
       "\n",
       "A matrix: 3 × 375 of type dbl\n",
       "\n",
       "| Count | 0.000 | 1.000 |  2.000 | 3.000 | 4.000 | 5.000 | 6.000 |  7.000 |  8.000 |  9.000 | ... | 365 | 366 | 367 | 368 | 369 | 370 | 371 | 372 | 373 | 374.000 |\n",
       "| Freq | 2.000 | 7.000 | 10.000 | 6.000 | 8.000 | 9.000 | 9.000 | 12.000 | 11.000 | 11.000 | ... |   0 |   0 |   0 |   0 |   0 |   0 |   0 |   0 |   0 |   1.000 |\n",
       "| Rel.freq. f | 0.003 | 0.011 |  0.015 | 0.009 | 0.012 | 0.014 | 0.014 |  0.018 |  0.017 |  0.017 | ... |   0 |   0 |   0 |   0 |   0 |   0 |   0 |   0 |   0 |   0.002 |\n",
       "\n"
      ],
      "text/plain": [
       "            [,1]  [,2]  [,3]   [,4]  [,5]  [,6]  [,7]  [,8]   [,9]   [,10] \n",
       "Count       0.000 1.000  2.000 3.000 4.000 5.000 6.000  7.000  8.000  9.000\n",
       "Freq        2.000 7.000 10.000 6.000 8.000 9.000 9.000 12.000 11.000 11.000\n",
       "Rel.freq. f 0.003 0.011  0.015 0.009 0.012 0.014 0.014  0.018  0.017  0.017\n",
       "            [,11] [,12] [,13] [,14] [,15] [,16] [,17] [,18] [,19] [,20] [,21]  \n",
       "Count       ...   365   366   367   368   369   370   371   372   373   374.000\n",
       "Freq        ...     0     0     0     0     0     0     0     0     0     1.000\n",
       "Rel.freq. f ...     0     0     0     0     0     0     0     0     0     0.002"
      ]
     },
     "metadata": {},
     "output_type": "display_data"
    }
   ],
   "source": [
    "Tcites<-tabulate(Cites+1)\n",
    "sum(Tcites)\n",
    "fcites<-Tcites/sum(Tcites)\n",
    "Tf<-rbind(Count=0:max(Cites),Freq=Tcites,\"Rel.freq. f\"=round(fcites,3))\n",
    "Tf"
   ]
  },
  {
   "cell_type": "code",
   "execution_count": 6,
   "id": "2ce6805d-b944-4b3a-91bd-7035bc8e4df7",
   "metadata": {},
   "outputs": [
    {
     "data": {
      "text/html": [
       "649"
      ],
      "text/latex": [
       "649"
      ],
      "text/markdown": [
       "649"
      ],
      "text/plain": [
       "[1] 649"
      ]
     },
     "metadata": {},
     "output_type": "display_data"
    },
    {
     "data": {
      "text/html": [
       "<style>\n",
       ".list-inline {list-style: none; margin:0; padding: 0}\n",
       ".list-inline>li {display: inline-block}\n",
       ".list-inline>li:not(:last-child)::after {content: \"\\00b7\"; padding: 0 .5ex}\n",
       "</style>\n",
       "<ol class=list-inline><li>74</li><li>83</li><li>96</li><li>97</li><li>103</li><li>104</li><li>108</li><li>109</li><li>111</li><li>116</li><li>118</li><li>120</li><li>121</li><li>123</li><li>125</li><li>126</li><li>129</li><li>130</li><li>132</li><li>133</li><li>135</li><li>136</li><li>137</li><li>138</li><li>139</li><li>145</li><li>146</li><li>147</li><li>148</li><li>149</li><li>150</li><li>151</li><li>153</li><li>155</li><li>156</li><li>157</li><li>159</li><li>161</li><li>163</li><li>164</li><li>166</li><li>167</li><li>168</li><li>169</li><li>170</li><li>171</li><li>173</li><li>175</li><li>176</li><li>177</li><li>178</li><li>179</li><li>180</li><li>181</li><li>182</li><li>183</li><li>184</li><li>186</li><li>187</li><li>188</li><li>190</li><li>191</li><li>192</li><li>193</li><li>194</li><li>195</li><li>196</li><li>197</li><li>198</li><li>199</li><li>200</li><li>201</li><li>202</li><li>203</li><li>204</li><li>205</li><li>207</li><li>208</li><li>209</li><li>210</li><li>211</li><li>212</li><li>213</li><li>214</li><li>215</li><li>217</li><li>218</li><li>220</li><li>221</li><li>222</li><li>223</li><li>224</li><li>225</li><li>226</li><li>227</li><li>228</li><li>229</li><li>230</li><li>231</li><li>232</li><li>233</li><li>234</li><li>235</li><li>236</li><li>237</li><li>240</li><li>241</li><li>242</li><li>243</li><li>244</li><li>245</li><li>246</li><li>247</li><li>248</li><li>249</li><li>251</li><li>252</li><li>253</li><li>254</li><li>255</li><li>256</li><li>257</li><li>258</li><li>259</li><li>260</li><li>261</li><li>262</li><li>263</li><li>264</li><li>265</li><li>266</li><li>267</li><li>268</li><li>269</li><li>270</li><li>271</li><li>272</li><li>273</li><li>274</li><li>275</li><li>276</li><li>278</li><li>279</li><li>280</li><li>281</li><li>282</li><li>283</li><li>284</li><li>286</li><li>287</li><li>288</li><li>289</li><li>291</li><li>292</li><li>293</li><li>294</li><li>295</li><li>296</li><li>297</li><li>298</li><li>300</li><li>301</li><li>302</li><li>303</li><li>304</li><li>305</li><li>306</li><li>307</li><li>308</li><li>309</li><li>310</li><li>311</li><li>312</li><li>313</li><li>314</li><li>317</li><li>318</li><li>319</li><li>320</li><li>321</li><li>322</li><li>323</li><li>324</li><li>325</li><li>326</li><li>327</li><li>328</li><li>329</li><li>330</li><li>331</li><li>332</li><li>333</li><li>335</li><li>336</li><li>337</li><li>338</li><li>339</li><li>340</li><li>341</li><li>342</li><li>343</li><li>344</li><li>345</li><li>346</li><li>347</li><li>348</li><li>349</li><li>350</li><li>351</li><li>352</li><li>353</li><li>354</li><li>355</li><li>356</li><li>357</li><li>358</li><li>359</li><li>360</li><li>362</li><li>363</li><li>364</li><li>365</li><li>366</li><li>367</li><li>368</li><li>369</li><li>370</li><li>371</li><li>372</li><li>373</li><li>374</li></ol>\n"
      ],
      "text/latex": [
       "\\begin{enumerate*}\n",
       "\\item 74\n",
       "\\item 83\n",
       "\\item 96\n",
       "\\item 97\n",
       "\\item 103\n",
       "\\item 104\n",
       "\\item 108\n",
       "\\item 109\n",
       "\\item 111\n",
       "\\item 116\n",
       "\\item 118\n",
       "\\item 120\n",
       "\\item 121\n",
       "\\item 123\n",
       "\\item 125\n",
       "\\item 126\n",
       "\\item 129\n",
       "\\item 130\n",
       "\\item 132\n",
       "\\item 133\n",
       "\\item 135\n",
       "\\item 136\n",
       "\\item 137\n",
       "\\item 138\n",
       "\\item 139\n",
       "\\item 145\n",
       "\\item 146\n",
       "\\item 147\n",
       "\\item 148\n",
       "\\item 149\n",
       "\\item 150\n",
       "\\item 151\n",
       "\\item 153\n",
       "\\item 155\n",
       "\\item 156\n",
       "\\item 157\n",
       "\\item 159\n",
       "\\item 161\n",
       "\\item 163\n",
       "\\item 164\n",
       "\\item 166\n",
       "\\item 167\n",
       "\\item 168\n",
       "\\item 169\n",
       "\\item 170\n",
       "\\item 171\n",
       "\\item 173\n",
       "\\item 175\n",
       "\\item 176\n",
       "\\item 177\n",
       "\\item 178\n",
       "\\item 179\n",
       "\\item 180\n",
       "\\item 181\n",
       "\\item 182\n",
       "\\item 183\n",
       "\\item 184\n",
       "\\item 186\n",
       "\\item 187\n",
       "\\item 188\n",
       "\\item 190\n",
       "\\item 191\n",
       "\\item 192\n",
       "\\item 193\n",
       "\\item 194\n",
       "\\item 195\n",
       "\\item 196\n",
       "\\item 197\n",
       "\\item 198\n",
       "\\item 199\n",
       "\\item 200\n",
       "\\item 201\n",
       "\\item 202\n",
       "\\item 203\n",
       "\\item 204\n",
       "\\item 205\n",
       "\\item 207\n",
       "\\item 208\n",
       "\\item 209\n",
       "\\item 210\n",
       "\\item 211\n",
       "\\item 212\n",
       "\\item 213\n",
       "\\item 214\n",
       "\\item 215\n",
       "\\item 217\n",
       "\\item 218\n",
       "\\item 220\n",
       "\\item 221\n",
       "\\item 222\n",
       "\\item 223\n",
       "\\item 224\n",
       "\\item 225\n",
       "\\item 226\n",
       "\\item 227\n",
       "\\item 228\n",
       "\\item 229\n",
       "\\item 230\n",
       "\\item 231\n",
       "\\item 232\n",
       "\\item 233\n",
       "\\item 234\n",
       "\\item 235\n",
       "\\item 236\n",
       "\\item 237\n",
       "\\item 240\n",
       "\\item 241\n",
       "\\item 242\n",
       "\\item 243\n",
       "\\item 244\n",
       "\\item 245\n",
       "\\item 246\n",
       "\\item 247\n",
       "\\item 248\n",
       "\\item 249\n",
       "\\item 251\n",
       "\\item 252\n",
       "\\item 253\n",
       "\\item 254\n",
       "\\item 255\n",
       "\\item 256\n",
       "\\item 257\n",
       "\\item 258\n",
       "\\item 259\n",
       "\\item 260\n",
       "\\item 261\n",
       "\\item 262\n",
       "\\item 263\n",
       "\\item 264\n",
       "\\item 265\n",
       "\\item 266\n",
       "\\item 267\n",
       "\\item 268\n",
       "\\item 269\n",
       "\\item 270\n",
       "\\item 271\n",
       "\\item 272\n",
       "\\item 273\n",
       "\\item 274\n",
       "\\item 275\n",
       "\\item 276\n",
       "\\item 278\n",
       "\\item 279\n",
       "\\item 280\n",
       "\\item 281\n",
       "\\item 282\n",
       "\\item 283\n",
       "\\item 284\n",
       "\\item 286\n",
       "\\item 287\n",
       "\\item 288\n",
       "\\item 289\n",
       "\\item 291\n",
       "\\item 292\n",
       "\\item 293\n",
       "\\item 294\n",
       "\\item 295\n",
       "\\item 296\n",
       "\\item 297\n",
       "\\item 298\n",
       "\\item 300\n",
       "\\item 301\n",
       "\\item 302\n",
       "\\item 303\n",
       "\\item 304\n",
       "\\item 305\n",
       "\\item 306\n",
       "\\item 307\n",
       "\\item 308\n",
       "\\item 309\n",
       "\\item 310\n",
       "\\item 311\n",
       "\\item 312\n",
       "\\item 313\n",
       "\\item 314\n",
       "\\item 317\n",
       "\\item 318\n",
       "\\item 319\n",
       "\\item 320\n",
       "\\item 321\n",
       "\\item 322\n",
       "\\item 323\n",
       "\\item 324\n",
       "\\item 325\n",
       "\\item 326\n",
       "\\item 327\n",
       "\\item 328\n",
       "\\item 329\n",
       "\\item 330\n",
       "\\item 331\n",
       "\\item 332\n",
       "\\item 333\n",
       "\\item 335\n",
       "\\item 336\n",
       "\\item 337\n",
       "\\item 338\n",
       "\\item 339\n",
       "\\item 340\n",
       "\\item 341\n",
       "\\item 342\n",
       "\\item 343\n",
       "\\item 344\n",
       "\\item 345\n",
       "\\item 346\n",
       "\\item 347\n",
       "\\item 348\n",
       "\\item 349\n",
       "\\item 350\n",
       "\\item 351\n",
       "\\item 352\n",
       "\\item 353\n",
       "\\item 354\n",
       "\\item 355\n",
       "\\item 356\n",
       "\\item 357\n",
       "\\item 358\n",
       "\\item 359\n",
       "\\item 360\n",
       "\\item 362\n",
       "\\item 363\n",
       "\\item 364\n",
       "\\item 365\n",
       "\\item 366\n",
       "\\item 367\n",
       "\\item 368\n",
       "\\item 369\n",
       "\\item 370\n",
       "\\item 371\n",
       "\\item 372\n",
       "\\item 373\n",
       "\\item 374\n",
       "\\end{enumerate*}\n"
      ],
      "text/markdown": [
       "1. 74\n",
       "2. 83\n",
       "3. 96\n",
       "4. 97\n",
       "5. 103\n",
       "6. 104\n",
       "7. 108\n",
       "8. 109\n",
       "9. 111\n",
       "10. 116\n",
       "11. 118\n",
       "12. 120\n",
       "13. 121\n",
       "14. 123\n",
       "15. 125\n",
       "16. 126\n",
       "17. 129\n",
       "18. 130\n",
       "19. 132\n",
       "20. 133\n",
       "21. 135\n",
       "22. 136\n",
       "23. 137\n",
       "24. 138\n",
       "25. 139\n",
       "26. 145\n",
       "27. 146\n",
       "28. 147\n",
       "29. 148\n",
       "30. 149\n",
       "31. 150\n",
       "32. 151\n",
       "33. 153\n",
       "34. 155\n",
       "35. 156\n",
       "36. 157\n",
       "37. 159\n",
       "38. 161\n",
       "39. 163\n",
       "40. 164\n",
       "41. 166\n",
       "42. 167\n",
       "43. 168\n",
       "44. 169\n",
       "45. 170\n",
       "46. 171\n",
       "47. 173\n",
       "48. 175\n",
       "49. 176\n",
       "50. 177\n",
       "51. 178\n",
       "52. 179\n",
       "53. 180\n",
       "54. 181\n",
       "55. 182\n",
       "56. 183\n",
       "57. 184\n",
       "58. 186\n",
       "59. 187\n",
       "60. 188\n",
       "61. 190\n",
       "62. 191\n",
       "63. 192\n",
       "64. 193\n",
       "65. 194\n",
       "66. 195\n",
       "67. 196\n",
       "68. 197\n",
       "69. 198\n",
       "70. 199\n",
       "71. 200\n",
       "72. 201\n",
       "73. 202\n",
       "74. 203\n",
       "75. 204\n",
       "76. 205\n",
       "77. 207\n",
       "78. 208\n",
       "79. 209\n",
       "80. 210\n",
       "81. 211\n",
       "82. 212\n",
       "83. 213\n",
       "84. 214\n",
       "85. 215\n",
       "86. 217\n",
       "87. 218\n",
       "88. 220\n",
       "89. 221\n",
       "90. 222\n",
       "91. 223\n",
       "92. 224\n",
       "93. 225\n",
       "94. 226\n",
       "95. 227\n",
       "96. 228\n",
       "97. 229\n",
       "98. 230\n",
       "99. 231\n",
       "100. 232\n",
       "101. 233\n",
       "102. 234\n",
       "103. 235\n",
       "104. 236\n",
       "105. 237\n",
       "106. 240\n",
       "107. 241\n",
       "108. 242\n",
       "109. 243\n",
       "110. 244\n",
       "111. 245\n",
       "112. 246\n",
       "113. 247\n",
       "114. 248\n",
       "115. 249\n",
       "116. 251\n",
       "117. 252\n",
       "118. 253\n",
       "119. 254\n",
       "120. 255\n",
       "121. 256\n",
       "122. 257\n",
       "123. 258\n",
       "124. 259\n",
       "125. 260\n",
       "126. 261\n",
       "127. 262\n",
       "128. 263\n",
       "129. 264\n",
       "130. 265\n",
       "131. 266\n",
       "132. 267\n",
       "133. 268\n",
       "134. 269\n",
       "135. 270\n",
       "136. 271\n",
       "137. 272\n",
       "138. 273\n",
       "139. 274\n",
       "140. 275\n",
       "141. 276\n",
       "142. 278\n",
       "143. 279\n",
       "144. 280\n",
       "145. 281\n",
       "146. 282\n",
       "147. 283\n",
       "148. 284\n",
       "149. 286\n",
       "150. 287\n",
       "151. 288\n",
       "152. 289\n",
       "153. 291\n",
       "154. 292\n",
       "155. 293\n",
       "156. 294\n",
       "157. 295\n",
       "158. 296\n",
       "159. 297\n",
       "160. 298\n",
       "161. 300\n",
       "162. 301\n",
       "163. 302\n",
       "164. 303\n",
       "165. 304\n",
       "166. 305\n",
       "167. 306\n",
       "168. 307\n",
       "169. 308\n",
       "170. 309\n",
       "171. 310\n",
       "172. 311\n",
       "173. 312\n",
       "174. 313\n",
       "175. 314\n",
       "176. 317\n",
       "177. 318\n",
       "178. 319\n",
       "179. 320\n",
       "180. 321\n",
       "181. 322\n",
       "182. 323\n",
       "183. 324\n",
       "184. 325\n",
       "185. 326\n",
       "186. 327\n",
       "187. 328\n",
       "188. 329\n",
       "189. 330\n",
       "190. 331\n",
       "191. 332\n",
       "192. 333\n",
       "193. 335\n",
       "194. 336\n",
       "195. 337\n",
       "196. 338\n",
       "197. 339\n",
       "198. 340\n",
       "199. 341\n",
       "200. 342\n",
       "201. 343\n",
       "202. 344\n",
       "203. 345\n",
       "204. 346\n",
       "205. 347\n",
       "206. 348\n",
       "207. 349\n",
       "208. 350\n",
       "209. 351\n",
       "210. 352\n",
       "211. 353\n",
       "212. 354\n",
       "213. 355\n",
       "214. 356\n",
       "215. 357\n",
       "216. 358\n",
       "217. 359\n",
       "218. 360\n",
       "219. 362\n",
       "220. 363\n",
       "221. 364\n",
       "222. 365\n",
       "223. 366\n",
       "224. 367\n",
       "225. 368\n",
       "226. 369\n",
       "227. 370\n",
       "228. 371\n",
       "229. 372\n",
       "230. 373\n",
       "231. 374\n",
       "\n",
       "\n"
      ],
      "text/plain": [
       "  [1]  74  83  96  97 103 104 108 109 111 116 118 120 121 123 125 126 129 130\n",
       " [19] 132 133 135 136 137 138 139 145 146 147 148 149 150 151 153 155 156 157\n",
       " [37] 159 161 163 164 166 167 168 169 170 171 173 175 176 177 178 179 180 181\n",
       " [55] 182 183 184 186 187 188 190 191 192 193 194 195 196 197 198 199 200 201\n",
       " [73] 202 203 204 205 207 208 209 210 211 212 213 214 215 217 218 220 221 222\n",
       " [91] 223 224 225 226 227 228 229 230 231 232 233 234 235 236 237 240 241 242\n",
       "[109] 243 244 245 246 247 248 249 251 252 253 254 255 256 257 258 259 260 261\n",
       "[127] 262 263 264 265 266 267 268 269 270 271 272 273 274 275 276 278 279 280\n",
       "[145] 281 282 283 284 286 287 288 289 291 292 293 294 295 296 297 298 300 301\n",
       "[163] 302 303 304 305 306 307 308 309 310 311 312 313 314 317 318 319 320 321\n",
       "[181] 322 323 324 325 326 327 328 329 330 331 332 333 335 336 337 338 339 340\n",
       "[199] 341 342 343 344 345 346 347 348 349 350 351 352 353 354 355 356 357 358\n",
       "[217] 359 360 362 363 364 365 366 367 368 369 370 371 372 373 374"
      ]
     },
     "metadata": {},
     "output_type": "display_data"
    },
    {
     "data": {
      "text/html": [
       "<style>\n",
       ".list-inline {list-style: none; margin:0; padding: 0}\n",
       ".list-inline>li {display: inline-block}\n",
       ".list-inline>li:not(:last-child)::after {content: \"\\00b7\"; padding: 0 .5ex}\n",
       "</style>\n",
       "<ol class=list-inline><li>2</li><li>7</li><li>10</li><li>6</li><li>8</li><li>9</li><li>9</li><li>12</li><li>11</li><li>11</li><li>15</li><li>11</li><li>16</li><li>19</li><li>12</li><li>11</li><li>15</li><li>12</li><li>13</li><li>7</li><li>11</li><li>8</li><li>12</li><li>13</li><li>12</li><li>8</li><li>8</li><li>14</li><li>12</li><li>6</li><li>11</li><li>8</li><li>6</li><li>10</li><li>13</li><li>5</li><li>7</li><li>11</li><li>5</li><li>5</li><li>4</li><li>5</li><li>6</li><li>6</li><li>7</li><li>11</li><li>3</li><li>4</li><li>7</li><li>6</li><li>8</li><li>5</li><li>4</li><li>6</li><li>5</li><li>4</li><li>3</li><li>6</li><li>5</li><li>9</li><li>3</li><li>3</li><li>2</li><li>2</li><li>2</li><li>5</li><li>2</li><li>7</li><li>3</li><li>3</li><li>2</li><li>2</li><li>5</li><li>3</li><li>2</li><li>2</li><li>2</li><li>3</li><li>2</li><li>2</li><li>2</li><li>2</li><li>2</li><li>2</li><li>2</li><li>5</li><li>2</li><li>2</li><li>2</li><li>2</li></ol>\n"
      ],
      "text/latex": [
       "\\begin{enumerate*}\n",
       "\\item 2\n",
       "\\item 7\n",
       "\\item 10\n",
       "\\item 6\n",
       "\\item 8\n",
       "\\item 9\n",
       "\\item 9\n",
       "\\item 12\n",
       "\\item 11\n",
       "\\item 11\n",
       "\\item 15\n",
       "\\item 11\n",
       "\\item 16\n",
       "\\item 19\n",
       "\\item 12\n",
       "\\item 11\n",
       "\\item 15\n",
       "\\item 12\n",
       "\\item 13\n",
       "\\item 7\n",
       "\\item 11\n",
       "\\item 8\n",
       "\\item 12\n",
       "\\item 13\n",
       "\\item 12\n",
       "\\item 8\n",
       "\\item 8\n",
       "\\item 14\n",
       "\\item 12\n",
       "\\item 6\n",
       "\\item 11\n",
       "\\item 8\n",
       "\\item 6\n",
       "\\item 10\n",
       "\\item 13\n",
       "\\item 5\n",
       "\\item 7\n",
       "\\item 11\n",
       "\\item 5\n",
       "\\item 5\n",
       "\\item 4\n",
       "\\item 5\n",
       "\\item 6\n",
       "\\item 6\n",
       "\\item 7\n",
       "\\item 11\n",
       "\\item 3\n",
       "\\item 4\n",
       "\\item 7\n",
       "\\item 6\n",
       "\\item 8\n",
       "\\item 5\n",
       "\\item 4\n",
       "\\item 6\n",
       "\\item 5\n",
       "\\item 4\n",
       "\\item 3\n",
       "\\item 6\n",
       "\\item 5\n",
       "\\item 9\n",
       "\\item 3\n",
       "\\item 3\n",
       "\\item 2\n",
       "\\item 2\n",
       "\\item 2\n",
       "\\item 5\n",
       "\\item 2\n",
       "\\item 7\n",
       "\\item 3\n",
       "\\item 3\n",
       "\\item 2\n",
       "\\item 2\n",
       "\\item 5\n",
       "\\item 3\n",
       "\\item 2\n",
       "\\item 2\n",
       "\\item 2\n",
       "\\item 3\n",
       "\\item 2\n",
       "\\item 2\n",
       "\\item 2\n",
       "\\item 2\n",
       "\\item 2\n",
       "\\item 2\n",
       "\\item 2\n",
       "\\item 5\n",
       "\\item 2\n",
       "\\item 2\n",
       "\\item 2\n",
       "\\item 2\n",
       "\\end{enumerate*}\n"
      ],
      "text/markdown": [
       "1. 2\n",
       "2. 7\n",
       "3. 10\n",
       "4. 6\n",
       "5. 8\n",
       "6. 9\n",
       "7. 9\n",
       "8. 12\n",
       "9. 11\n",
       "10. 11\n",
       "11. 15\n",
       "12. 11\n",
       "13. 16\n",
       "14. 19\n",
       "15. 12\n",
       "16. 11\n",
       "17. 15\n",
       "18. 12\n",
       "19. 13\n",
       "20. 7\n",
       "21. 11\n",
       "22. 8\n",
       "23. 12\n",
       "24. 13\n",
       "25. 12\n",
       "26. 8\n",
       "27. 8\n",
       "28. 14\n",
       "29. 12\n",
       "30. 6\n",
       "31. 11\n",
       "32. 8\n",
       "33. 6\n",
       "34. 10\n",
       "35. 13\n",
       "36. 5\n",
       "37. 7\n",
       "38. 11\n",
       "39. 5\n",
       "40. 5\n",
       "41. 4\n",
       "42. 5\n",
       "43. 6\n",
       "44. 6\n",
       "45. 7\n",
       "46. 11\n",
       "47. 3\n",
       "48. 4\n",
       "49. 7\n",
       "50. 6\n",
       "51. 8\n",
       "52. 5\n",
       "53. 4\n",
       "54. 6\n",
       "55. 5\n",
       "56. 4\n",
       "57. 3\n",
       "58. 6\n",
       "59. 5\n",
       "60. 9\n",
       "61. 3\n",
       "62. 3\n",
       "63. 2\n",
       "64. 2\n",
       "65. 2\n",
       "66. 5\n",
       "67. 2\n",
       "68. 7\n",
       "69. 3\n",
       "70. 3\n",
       "71. 2\n",
       "72. 2\n",
       "73. 5\n",
       "74. 3\n",
       "75. 2\n",
       "76. 2\n",
       "77. 2\n",
       "78. 3\n",
       "79. 2\n",
       "80. 2\n",
       "81. 2\n",
       "82. 2\n",
       "83. 2\n",
       "84. 2\n",
       "85. 2\n",
       "86. 5\n",
       "87. 2\n",
       "88. 2\n",
       "89. 2\n",
       "90. 2\n",
       "\n",
       "\n"
      ],
      "text/plain": [
       " [1]  2  7 10  6  8  9  9 12 11 11 15 11 16 19 12 11 15 12 13  7 11  8 12 13 12\n",
       "[26]  8  8 14 12  6 11  8  6 10 13  5  7 11  5  5  4  5  6  6  7 11  3  4  7  6\n",
       "[51]  8  5  4  6  5  4  3  6  5  9  3  3  2  2  2  5  2  7  3  3  2  2  5  3  2\n",
       "[76]  2  2  3  2  2  2  2  2  2  2  5  2  2  2  2"
      ]
     },
     "metadata": {},
     "output_type": "display_data"
    },
    {
     "data": {
      "text/html": [
       "637"
      ],
      "text/latex": [
       "637"
      ],
      "text/markdown": [
       "637"
      ],
      "text/plain": [
       "[1] 637"
      ]
     },
     "metadata": {},
     "output_type": "display_data"
    }
   ],
   "source": [
    "# There are few observations (12 actually) above 220. \n",
    "# This is a reasonable cut-point for the next plot.\n",
    "Tcites<-tabulate(Cites+1)\n",
    "sum(Tcites)\n",
    "which(Tcites<1)\n",
    "Tcites0<-Tcites[which(Tcites>1)]\n",
    "Tcites0\n",
    "sum(Tcites[1:221])"
   ]
  },
  {
   "cell_type": "code",
   "execution_count": 7,
   "id": "9fb444c4-9a8a-46ab-b05a-daa1bcd39c94",
   "metadata": {},
   "outputs": [
    {
     "name": "stdout",
     "output_type": "stream",
     "text": [
      " int [1:375] 2 7 10 6 8 9 9 12 11 11 ...\n"
     ]
    },
    {
     "data": {
      "text/html": [
       "<table class=\"dataframe\">\n",
       "<caption>A matrix: 3 × 221 of type dbl</caption>\n",
       "<tbody>\n",
       "\t<tr><th scope=row>Count</th><td>0.000</td><td>1.000</td><td> 2.000</td><td>3.000</td><td>4.000</td><td>5.000</td><td>6.000</td><td> 7.000</td><td> 8.000</td><td> 9.000</td><td>...</td><td>211</td><td>212</td><td>213</td><td>214</td><td>215.000</td><td>216</td><td>217</td><td>218.000</td><td>219</td><td>220</td></tr>\n",
       "\t<tr><th scope=row>Freq</th><td>2.000</td><td>7.000</td><td>10.000</td><td>6.000</td><td>8.000</td><td>9.000</td><td>9.000</td><td>12.000</td><td>11.000</td><td>11.000</td><td>...</td><td>  0</td><td>  0</td><td>  0</td><td>  0</td><td>  1.000</td><td>  0</td><td>  0</td><td>  1.000</td><td>  0</td><td>  0</td></tr>\n",
       "\t<tr><th scope=row>Rel.freq. f</th><td>0.003</td><td>0.011</td><td> 0.015</td><td>0.009</td><td>0.012</td><td>0.014</td><td>0.014</td><td> 0.018</td><td> 0.017</td><td> 0.017</td><td>...</td><td>  0</td><td>  0</td><td>  0</td><td>  0</td><td>  0.002</td><td>  0</td><td>  0</td><td>  0.002</td><td>  0</td><td>  0</td></tr>\n",
       "</tbody>\n",
       "</table>\n"
      ],
      "text/latex": [
       "A matrix: 3 × 221 of type dbl\n",
       "\\begin{tabular}{r|lllllllllllllllllllll}\n",
       "\tCount & 0.000 & 1.000 &  2.000 & 3.000 & 4.000 & 5.000 & 6.000 &  7.000 &  8.000 &  9.000 & ... & 211 & 212 & 213 & 214 & 215.000 & 216 & 217 & 218.000 & 219 & 220\\\\\n",
       "\tFreq & 2.000 & 7.000 & 10.000 & 6.000 & 8.000 & 9.000 & 9.000 & 12.000 & 11.000 & 11.000 & ... &   0 &   0 &   0 &   0 &   1.000 &   0 &   0 &   1.000 &   0 &   0\\\\\n",
       "\tRel.freq. f & 0.003 & 0.011 &  0.015 & 0.009 & 0.012 & 0.014 & 0.014 &  0.018 &  0.017 &  0.017 & ... &   0 &   0 &   0 &   0 &   0.002 &   0 &   0 &   0.002 &   0 &   0\\\\\n",
       "\\end{tabular}\n"
      ],
      "text/markdown": [
       "\n",
       "A matrix: 3 × 221 of type dbl\n",
       "\n",
       "| Count | 0.000 | 1.000 |  2.000 | 3.000 | 4.000 | 5.000 | 6.000 |  7.000 |  8.000 |  9.000 | ... | 211 | 212 | 213 | 214 | 215.000 | 216 | 217 | 218.000 | 219 | 220 |\n",
       "| Freq | 2.000 | 7.000 | 10.000 | 6.000 | 8.000 | 9.000 | 9.000 | 12.000 | 11.000 | 11.000 | ... |   0 |   0 |   0 |   0 |   1.000 |   0 |   0 |   1.000 |   0 |   0 |\n",
       "| Rel.freq. f | 0.003 | 0.011 |  0.015 | 0.009 | 0.012 | 0.014 | 0.014 |  0.018 |  0.017 |  0.017 | ... |   0 |   0 |   0 |   0 |   0.002 |   0 |   0 |   0.002 |   0 |   0 |\n",
       "\n"
      ],
      "text/plain": [
       "            [,1]  [,2]  [,3]   [,4]  [,5]  [,6]  [,7]  [,8]   [,9]   [,10] \n",
       "Count       0.000 1.000  2.000 3.000 4.000 5.000 6.000  7.000  8.000  9.000\n",
       "Freq        2.000 7.000 10.000 6.000 8.000 9.000 9.000 12.000 11.000 11.000\n",
       "Rel.freq. f 0.003 0.011  0.015 0.009 0.012 0.014 0.014  0.018  0.017  0.017\n",
       "            [,11] [,12] [,13] [,14] [,15] [,16]   [,17] [,18] [,19]   [,20]\n",
       "Count       ...   211   212   213   214   215.000 216   217   218.000 219  \n",
       "Freq        ...     0     0     0     0     1.000   0     0     1.000   0  \n",
       "Rel.freq. f ...     0     0     0     0     0.002   0     0     0.002   0  \n",
       "            [,21]\n",
       "Count       220  \n",
       "Freq          0  \n",
       "Rel.freq. f   0  "
      ]
     },
     "metadata": {},
     "output_type": "display_data"
    }
   ],
   "source": [
    "str(Tcites)\n",
    "fcites<-Tcites/sum(Tcites)\n",
    "Tf<-rbind(Count=0:220,Freq=Tcites[1:221],\"Rel.freq. f\"=round(fcites[1:221],3))\n",
    "Tf"
   ]
  },
  {
   "cell_type": "code",
   "execution_count": 8,
   "id": "ebd55a00-3bae-486a-ae74-6fc40d1de439",
   "metadata": {},
   "outputs": [
    {
     "data": {
      "image/png": "[encoded data removed]",
      "text/plain": [
       "plot without title"
      ]
     },
     "metadata": {
      "image/png": {
       "height": 420,
       "width": 420
      }
     },
     "output_type": "display_data"
    }
   ],
   "source": [
    "options(repr.plot.width=7,repr.plot.height=7)\n",
    "matplot(x=0:220,y=fcites[1:221],type=\"h\",col=\"CornflowerBlue\",lwd=2.5,\n",
    "       xlab=\"Num. cites\", ylab=\"Proportion\")"
   ]
  },
  {
   "cell_type": "code",
   "execution_count": 9,
   "id": "5bce8084-00c6-4f54-8cb4-e87629154c1f",
   "metadata": {},
   "outputs": [
    {
     "data": {
      "text/html": [
       "44.795"
      ],
      "text/latex": [
       "44.795"
      ],
      "text/markdown": [
       "44.795"
      ],
      "text/plain": [
       "[1] 44.795"
      ]
     },
     "metadata": {},
     "output_type": "display_data"
    },
    {
     "data": {
      "text/html": [
       "2540.734"
      ],
      "text/latex": [
       "2540.734"
      ],
      "text/markdown": [
       "2540.734"
      ],
      "text/plain": [
       "[1] 2540.734"
      ]
     },
     "metadata": {},
     "output_type": "display_data"
    },
    {
     "data": {
      "text/html": [
       "56.719"
      ],
      "text/latex": [
       "56.719"
      ],
      "text/markdown": [
       "56.719"
      ],
      "text/plain": [
       "[1] 56.719"
      ]
     },
     "metadata": {},
     "output_type": "display_data"
    }
   ],
   "source": [
    "round(mean(Cites),3)\n",
    "round(var(Cites),3)\n",
    "round(var(Cites)/mean(Cites),3)"
   ]
  },
  {
   "cell_type": "markdown",
   "id": "f4089f20-8de5-4edb-9634-ddedc96d8911",
   "metadata": {},
   "source": [
    "The expectation and variance of  $Y\\sim\\negbindist(r,p)$ are:\n",
    "\n",
    "$$\n",
    "    \\mskip-100mu\n",
    "    \\operatorname{E}(Y)=\\dfrac{r\\cdot (1-p)}{p},\\mskip50mu\\operatorname{var}(Y)=\\dfrac{r\\cdot (1-p)}{p^{2}}.\n",
    "$$\n",
    "\n"
   ]
  },
  {
   "cell_type": "markdown",
   "id": "ed1f156d-2296-417e-85a5-77749b74c33c",
   "metadata": {},
   "source": [
    "An alternative parameterization is to use $(\\mu,\\theta)$ instead of $(p,r)$ where $\\mu=\\operatorname{E}(Y)=\\dfrac{r\\cdot (1-p)}{p}$  and $\\theta=r$.\n",
    "\n",
    "With this parameterization:\n",
    "\n",
    "$$\n",
    "    \\mskip-100mu\n",
    "    \\operatorname{E}(Y)=\\mu,\\mskip50mu\\operatorname{var}(Y)=\\mu+\\dfrac{\\mu^{2}}{\\theta}.\n",
    "$$"
   ]
  },
  {
   "cell_type": "markdown",
   "id": "8fe5b3da-a165-4b09-a78e-cfdeb8c4accf",
   "metadata": {},
   "source": [
    "A rough estimate of the $\\theta$ parameter in a Negative Binomial is:\n",
    "\n",
    "$$\n",
    "    v\\equiv\\var(Y)=\\mu+\\dfrac{\\mu^{2}}{\\theta}=\\mu\\cdot\\left(1+\\dfrac{\\mu}{\\theta}\\right),\n",
    "    \\mskip40mu \\hat{\\theta}=\\dfrac{\\mu}{v/\\mu-1}.\n",
    "$$\n",
    "\n",
    "In this case:"
   ]
  },
  {
   "cell_type": "code",
   "execution_count": 10,
   "id": "7f0b75d2-9abb-4f5d-a31b-10c90e416e27",
   "metadata": {},
   "outputs": [
    {
     "data": {
      "text/html": [
       "0.804"
      ],
      "text/latex": [
       "0.804"
      ],
      "text/markdown": [
       "0.804"
      ],
      "text/plain": [
       "[1] 0.804"
      ]
     },
     "metadata": {},
     "output_type": "display_data"
    }
   ],
   "source": [
    "theta.hat<-mean(Cites)/(var(Cites)/mean(Cites)-1)\n",
    "round(theta.hat,3)"
   ]
  },
  {
   "cell_type": "markdown",
   "id": "f84ca448-f78e-44c6-a7ad-c67fc8025353",
   "metadata": {},
   "source": [
    "#### Predictors description"
   ]
  },
  {
   "cell_type": "code",
   "execution_count": 11,
   "id": "50e53d52-f75e-4e9d-ab40-8ea08d00420e",
   "metadata": {
    "tags": []
   },
   "outputs": [
    {
     "data": {
      "text/plain": [
       "   othercites         journal         Lpag            EqPag       \n",
       " Min.   :  0.0   AmNat    :121   Min.   :0.6931   Min.   :0.0000  \n",
       " 1st Qu.: 15.0   Evolution:186   1st Qu.:1.7918   1st Qu.:0.0000  \n",
       " Median : 30.0   ProcB    :342   Median :1.9459   Median :0.0000  \n",
       " Mean   : 44.8                   Mean   :2.0674   Mean   :0.4317  \n",
       " 3rd Qu.: 54.0                   3rd Qu.:2.3026   3rd Qu.:0.3750  \n",
       " Max.   :374.0                   Max.   :3.2189   Max.   :7.2857  "
      ]
     },
     "metadata": {},
     "output_type": "display_data"
    }
   ],
   "source": [
    "summary(EqCit)"
   ]
  },
  {
   "cell_type": "code",
   "execution_count": 12,
   "id": "aec8d849-14d5-4f4b-9e78-871a8042b3ef",
   "metadata": {},
   "outputs": [
    {
     "data": {
      "image/png": "[encoded data removed]",
      "text/plain": [
       "plot without title"
      ]
     },
     "metadata": {
      "image/png": {
       "height": 420,
       "width": 420
      }
     },
     "output_type": "display_data"
    }
   ],
   "source": [
    "Num.pred<-c(3,4)\n",
    "options(repr.plot.width=7,repr.plot.height=7)\n",
    "boxplot(EqCit[,Num.pred],col=\"CornflowerBlue\")"
   ]
  },
  {
   "cell_type": "code",
   "execution_count": 13,
   "id": "aab4f135-e784-4510-8ad4-49af9da2f51d",
   "metadata": {},
   "outputs": [
    {
     "data": {
      "text/html": [
       "<table class=\"dataframe\">\n",
       "<caption>A matrix: 3 × 3 of type dbl</caption>\n",
       "<thead>\n",
       "\t<tr><th></th><th scope=col>othercites</th><th scope=col>Lpag</th><th scope=col>EqPag</th></tr>\n",
       "</thead>\n",
       "<tbody>\n",
       "\t<tr><th scope=row>othercites</th><td> 1.00</td><td>0.16</td><td>-0.06</td></tr>\n",
       "\t<tr><th scope=row>Lpag</th><td> 0.16</td><td>1.00</td><td> 0.06</td></tr>\n",
       "\t<tr><th scope=row>EqPag</th><td>-0.06</td><td>0.06</td><td> 1.00</td></tr>\n",
       "</tbody>\n",
       "</table>\n"
      ],
      "text/latex": [
       "A matrix: 3 × 3 of type dbl\n",
       "\\begin{tabular}{r|lll}\n",
       "  & othercites & Lpag & EqPag\\\\\n",
       "\\hline\n",
       "\tothercites &  1.00 & 0.16 & -0.06\\\\\n",
       "\tLpag &  0.16 & 1.00 &  0.06\\\\\n",
       "\tEqPag & -0.06 & 0.06 &  1.00\\\\\n",
       "\\end{tabular}\n"
      ],
      "text/markdown": [
       "\n",
       "A matrix: 3 × 3 of type dbl\n",
       "\n",
       "| <!--/--> | othercites | Lpag | EqPag |\n",
       "|---|---|---|---|\n",
       "| othercites |  1.00 | 0.16 | -0.06 |\n",
       "| Lpag |  0.16 | 1.00 |  0.06 |\n",
       "| EqPag | -0.06 | 0.06 |  1.00 |\n",
       "\n"
      ],
      "text/plain": [
       "           othercites Lpag EqPag\n",
       "othercites  1.00      0.16 -0.06\n",
       "Lpag        0.16      1.00  0.06\n",
       "EqPag      -0.06      0.06  1.00"
      ]
     },
     "metadata": {},
     "output_type": "display_data"
    }
   ],
   "source": [
    "Num.vars<-c(1,3,4)\n",
    "round(cor(EqCit[,Num.vars]),2)"
   ]
  },
  {
   "cell_type": "code",
   "execution_count": 14,
   "id": "14a283ab-bd05-41e6-9ae5-478f67a2d46f",
   "metadata": {},
   "outputs": [
    {
     "data": {
      "image/png": "[encoded data removed]",
      "text/plain": [
       "plot without title"
      ]
     },
     "metadata": {
      "image/png": {
       "height": 420,
       "width": 420
      }
     },
     "output_type": "display_data"
    }
   ],
   "source": [
    "options(repr.plot.width=7,repr.plot.height=7)\n",
    "pairs(EqCit[,Num.vars],col=\"CornflowerBlue\")"
   ]
  },
  {
   "cell_type": "markdown",
   "id": "35917992-db6e-4cd8-bcbe-fdbd0bd8b13c",
   "metadata": {},
   "source": [
    "# 01 - Frequentist Poisson regression with `glm`"
   ]
  },
  {
   "cell_type": "markdown",
   "id": "6c478472-a203-4394-93f6-64f44b63c4ad",
   "metadata": {},
   "source": [
    "The default link function for the `poisson`  family is `log()`. That is, the model is\n",
    "\n",
    "$$\n",
    "    \\log(\\mu_{i})=\\eta_{i},\\mskip40mu \\eta_{i}=\\beta_{0}+x_{i}\\cdot \\beta,\\mskip40mu 1\\leq i\\leq n.\n",
    "$$"
   ]
  },
  {
   "cell_type": "code",
   "execution_count": 15,
   "id": "e821c98a-3c70-483b-9761-af6dcd1f57c9",
   "metadata": {},
   "outputs": [
    {
     "data": {
      "text/plain": [
       "\n",
       "Call:\n",
       "glm(formula = othercites ~ ., family = poisson, data = EqCit)\n",
       "\n",
       "Deviance Residuals: \n",
       "   Min      1Q  Median      3Q     Max  \n",
       "-9.718  -4.734  -2.270   1.321  30.128  \n",
       "\n",
       "Coefficients:\n",
       "                  Estimate Std. Error z value Pr(>|z|)    \n",
       "(Intercept)       2.729497   0.046925  58.167  < 2e-16 ***\n",
       "journalEvolution -0.113239   0.017523  -6.462 1.03e-10 ***\n",
       "journalProcB      0.089792   0.018865   4.760 1.94e-06 ***\n",
       "Lpag              0.521725   0.017882  29.175  < 2e-16 ***\n",
       "EqPag            -0.099246   0.007164 -13.853  < 2e-16 ***\n",
       "---\n",
       "Signif. codes:  0 '***' 0.001 '**' 0.01 '*' 0.05 '.' 0.1 ' ' 1\n",
       "\n",
       "(Dispersion parameter for poisson family taken to be 1)\n",
       "\n",
       "    Null deviance: 25580  on 648  degrees of freedom\n",
       "Residual deviance: 24329  on 644  degrees of freedom\n",
       "AIC: 27690\n",
       "\n",
       "Number of Fisher Scoring iterations: 5\n"
      ]
     },
     "metadata": {},
     "output_type": "display_data"
    }
   ],
   "source": [
    "EqCit.Poisson.glm.01<-glm(othercites~.,family=poisson,data=EqCit)\n",
    "summary(EqCit.Poisson.glm.01)"
   ]
  },
  {
   "cell_type": "markdown",
   "id": "b697b03f-5cec-4789-97a5-0d599d933c92",
   "metadata": {
    "tags": []
   },
   "source": [
    "### Considering overdispersion"
   ]
  },
  {
   "cell_type": "markdown",
   "id": "39b324a9-f7d3-482f-9073-fdddd47fde5a",
   "metadata": {},
   "source": [
    "There is a formal test of overdispersion in the `AER` package. \n",
    "\n",
    "This is the companion of the book by Christian Kleiber and Achim Zeileis (2008), _Applied Econometrics with R._ Springer."
   ]
  },
  {
   "cell_type": "code",
   "execution_count": 16,
   "id": "2caaf46c-997a-473a-9e6e-1f5306b4a856",
   "metadata": {},
   "outputs": [
    {
     "data": {
      "text/plain": [
       "\n",
       "\tOverdispersion test\n",
       "\n",
       "data:  EqCit.Poisson.glm.01\n",
       "z = 6.4489, p-value = 5.632e-11\n",
       "alternative hypothesis: true dispersion is greater than 1\n",
       "sample estimates:\n",
       "dispersion \n",
       "  54.41636 \n"
      ]
     },
     "metadata": {},
     "output_type": "display_data"
    }
   ],
   "source": [
    "dispersiontest(EqCit.Poisson.glm.01)"
   ]
  },
  {
   "cell_type": "markdown",
   "id": "96940b31-1d3a-4d7b-95f0-56df92048b1b",
   "metadata": {},
   "source": [
    "### `quasipoisson` family in `glm`"
   ]
  },
  {
   "cell_type": "markdown",
   "id": "66a02c94-5292-46e3-8f1a-ee484cdfa1c2",
   "metadata": {},
   "source": [
    "There is a `quasipoisson` family in `glm` to allow for some overdispersion.   \n",
    "The default link is still `log()`.\n",
    "\n",
    "The estimation procedure does not require the pdf; only the variance as a function of the mean,   \n",
    "here it is $v=\\mu\\cdot \\alpha$, where $\\alpha$ has to be estimated.\n",
    "On the flip side, then there is no likelihood and quantities such as `AIC` cannot be computed."
   ]
  },
  {
   "cell_type": "code",
   "execution_count": 17,
   "id": "3f9ad36e-0eea-471d-bd6d-da41b6fb88b5",
   "metadata": {},
   "outputs": [
    {
     "data": {
      "text/plain": [
       "\n",
       "Call:\n",
       "glm(formula = othercites ~ ., family = quasipoisson, data = EqCit)\n",
       "\n",
       "Deviance Residuals: \n",
       "   Min      1Q  Median      3Q     Max  \n",
       "-9.718  -4.734  -2.270   1.321  30.128  \n",
       "\n",
       "Coefficients:\n",
       "                 Estimate Std. Error t value Pr(>|t|)    \n",
       "(Intercept)       2.72950    0.34749   7.855 1.68e-14 ***\n",
       "journalEvolution -0.11324    0.12976  -0.873   0.3832    \n",
       "journalProcB      0.08979    0.13970   0.643   0.5206    \n",
       "Lpag              0.52172    0.13242   3.940 9.05e-05 ***\n",
       "EqPag            -0.09925    0.05305  -1.871   0.0618 .  \n",
       "---\n",
       "Signif. codes:  0 '***' 0.001 '**' 0.01 '*' 0.05 '.' 0.1 ' ' 1\n",
       "\n",
       "(Dispersion parameter for quasipoisson family taken to be 54.83797)\n",
       "\n",
       "    Null deviance: 25580  on 648  degrees of freedom\n",
       "Residual deviance: 24329  on 644  degrees of freedom\n",
       "AIC: NA\n",
       "\n",
       "Number of Fisher Scoring iterations: 5\n"
      ]
     },
     "metadata": {},
     "output_type": "display_data"
    }
   ],
   "source": [
    "EqCit.Poisson.glm.02<-glm(othercites~.,family=quasipoisson,data=EqCit)\n",
    "summary(EqCit.Poisson.glm.02)"
   ]
  },
  {
   "cell_type": "markdown",
   "id": "76afcdb4-4b98-41d4-862c-815574047e6b",
   "metadata": {},
   "source": [
    "# 02 - Treating overdispersion with a $\\negbindist$ regression"
   ]
  },
  {
   "cell_type": "markdown",
   "id": "7fcc4b09-0c53-4002-bd54-4f6624e1ccf6",
   "metadata": {},
   "source": [
    "Another possibility is to use a regression model with a $\\negbindist$ response.\n",
    "\n",
    "The `glm()` does not have this possibility, but in the `MASS` package there is a function for this model"
   ]
  },
  {
   "cell_type": "code",
   "execution_count": 18,
   "id": "ff01559e-e605-4a84-a46d-ef03d05d1fd8",
   "metadata": {},
   "outputs": [],
   "source": [
    "require(MASS,quietly=TRUE)"
   ]
  },
  {
   "cell_type": "code",
   "execution_count": 19,
   "id": "e8f568eb-82c5-4468-a592-98d1a088a7df",
   "metadata": {},
   "outputs": [
    {
     "data": {
      "text/plain": [
       "\n",
       "Call:\n",
       "glm.nb(formula = othercites ~ ., data = EqCit, init.theta = 1.276461552, \n",
       "    link = log)\n",
       "\n",
       "Deviance Residuals: \n",
       "    Min       1Q   Median       3Q      Max  \n",
       "-3.0428  -0.9933  -0.3980   0.2051   3.7786  \n",
       "\n",
       "Coefficients:\n",
       "                 Estimate Std. Error z value Pr(>|z|)    \n",
       "(Intercept)       2.59984    0.26671   9.748  < 2e-16 ***\n",
       "journalEvolution -0.09104    0.10819  -0.841  0.40008    \n",
       "journalProcB      0.13023    0.11255   1.157  0.24725    \n",
       "Lpag              0.57241    0.10400   5.504 3.71e-08 ***\n",
       "EqPag            -0.10931    0.03652  -2.993  0.00276 ** \n",
       "---\n",
       "Signif. codes:  0 '***' 0.001 '**' 0.01 '*' 0.05 '.' 0.1 ' ' 1\n",
       "\n",
       "(Dispersion parameter for Negative Binomial(1.2765) family taken to be 1)\n",
       "\n",
       "    Null deviance: 760.87  on 648  degrees of freedom\n",
       "Residual deviance: 723.03  on 644  degrees of freedom\n",
       "AIC: 6209.2\n",
       "\n",
       "Number of Fisher Scoring iterations: 1\n",
       "\n",
       "\n",
       "              Theta:  1.2765 \n",
       "          Std. Err.:  0.0671 \n",
       "\n",
       " 2 x log-likelihood:  -6197.1660 "
      ]
     },
     "metadata": {},
     "output_type": "display_data"
    }
   ],
   "source": [
    "EqCit.NegBin.glm.01<-glm.nb(othercites~.,data=EqCit)\n",
    "summary(EqCit.NegBin.glm.01)"
   ]
  },
  {
   "cell_type": "markdown",
   "id": "403ba5ef-0360-4199-98f0-c85b8b2751b9",
   "metadata": {},
   "source": [
    "# 05a - Bayesian Poisson regression with Stan"
   ]
  },
  {
   "cell_type": "code",
   "execution_count": 20,
   "id": "1de6303f-d200-4b27-b677-4fe0ec1866ce",
   "metadata": {},
   "outputs": [
    {
     "name": "stderr",
     "output_type": "stream",
     "text": [
      "Loading required package: rstan\n",
      "\n",
      "Loading required package: StanHeaders\n",
      "\n",
      "Loading required package: ggplot2\n",
      "\n",
      "rstan (Version 2.21.2, GitRev: 2e1f913d3ca3)\n",
      "\n",
      "For execution on a local, multicore CPU with excess RAM we recommend calling\n",
      "options(mc.cores = parallel::detectCores()).\n",
      "To avoid recompilation of unchanged Stan programs, we recommend calling\n",
      "rstan_options(auto_write = TRUE)\n",
      "\n",
      "Do not specify '-march=native' in 'LOCAL_CPPFLAGS' or a Makevars file\n",
      "\n"
     ]
    }
   ],
   "source": [
    "#install.packages(\"rstan\",dependencies=TRUE,repos= \"https://cloud.r-project.org\")\n",
    "options(mc.cores = parallel::detectCores())\n",
    "require(rstan)\n",
    "rstan_options(auto_write = TRUE)\n",
    "Sys.setenv(LOCAL_CPPFLAGS = '-march=corei7 -mtune=corei7')"
   ]
  },
  {
   "cell_type": "code",
   "execution_count": 21,
   "id": "4b67351a-1ef8-482b-b6d7-1be6cf180e12",
   "metadata": {},
   "outputs": [
    {
     "name": "stdout",
     "output_type": "stream",
     "text": [
      " num [1:649, 1:4] 0 0 0 0 0 0 0 0 0 0 ...\n",
      " - attr(*, \"dimnames\")=List of 2\n",
      "  ..$ : chr [1:649] \"1\" \"2\" \"3\" \"4\" ...\n",
      "  ..$ : chr [1:4] \"journalEvolution\" \"journalProcB\" \"Lpag\" \"EqPag\"\n"
     ]
    },
    {
     "data": {
      "text/html": [
       "<style>\n",
       ".list-inline {list-style: none; margin:0; padding: 0}\n",
       ".list-inline>li {display: inline-block}\n",
       ".list-inline>li:not(:last-child)::after {content: \"\\00b7\"; padding: 0 .5ex}\n",
       "</style>\n",
       "<ol class=list-inline><li>649</li><li>4</li></ol>\n"
      ],
      "text/latex": [
       "\\begin{enumerate*}\n",
       "\\item 649\n",
       "\\item 4\n",
       "\\end{enumerate*}\n"
      ],
      "text/markdown": [
       "1. 649\n",
       "2. 4\n",
       "\n",
       "\n"
      ],
      "text/plain": [
       "[1] 649   4"
      ]
     },
     "metadata": {},
     "output_type": "display_data"
    }
   ],
   "source": [
    "X <- model.matrix(othercites~.,data=EqCit)[,-1] # Discard the intercept column. We will enter b0\n",
    "k<- ncol(X) # number of regression coefficients\n",
    "n<-nrow(X)  # number of observations\n",
    "str(X)\n",
    "c(n,k)"
   ]
  },
  {
   "cell_type": "code",
   "execution_count": 22,
   "id": "2aad5a87-2607-4d34-8d0c-5f1accb64100",
   "metadata": {},
   "outputs": [],
   "source": [
    "EqCit.Stan.01.model.string<-\"\n",
    "    data{\n",
    "       // Define variables in data\n",
    "       int<lower=0>     n;\n",
    "       int<lower=0>     k;\n",
    "       matrix[n,k]      X;\n",
    "       int            y[n]; \n",
    "       }\n",
    " \n",
    "    parameters{\n",
    "        real        b0;\n",
    "        vector[k]   b;\n",
    "        }\n",
    "\n",
    "    transformed parameters{\n",
    "        vector[n]      eta;          // linear predictor\n",
    "        vector[n]      mu;\n",
    "    \n",
    "        eta = b0+X*b;\n",
    "        mu  = exp(eta); // Mean\n",
    "        }\n",
    " \n",
    "    model {\n",
    "        y ~ poisson(mu); // Likelihood \n",
    "        }\n",
    "\n",
    "\"\n",
    "cat(EqCit.Stan.01.model.string,file=\"EqCit.Stan.01.stan\")"
   ]
  },
  {
   "cell_type": "code",
   "execution_count": 23,
   "id": "e6efa4eb-5d0e-4a1e-a1c3-faa714e51202",
   "metadata": {},
   "outputs": [],
   "source": [
    "EqCit.Stan.01.data.list<-list(X=X,y=EqCit$othercites,n=n,k=k)"
   ]
  },
  {
   "cell_type": "code",
   "execution_count": 24,
   "id": "39c6e9b9-95a7-47c6-bd7e-073a35b9864b",
   "metadata": {
    "tags": []
   },
   "outputs": [
    {
     "name": "stderr",
     "output_type": "stream",
     "text": [
      "recompiling to avoid crashing R session\n",
      "\n"
     ]
    }
   ],
   "source": [
    "EqCit.Stan.01.model<-stan_model(file=\"EqCit.Stan.01.stan\")"
   ]
  },
  {
   "cell_type": "markdown",
   "id": "eb80130b-3bb3-4a6b-87da-d7108aed0022",
   "metadata": {
    "tags": []
   },
   "source": [
    "### Sampling from the Stan model with MCMC _(HMC-NUTS)_"
   ]
  },
  {
   "cell_type": "code",
   "execution_count": 25,
   "id": "1cb027db-24ae-4e2d-bbf9-f6096165d5c4",
   "metadata": {},
   "outputs": [],
   "source": [
    "EqCit.Stan.01.samples<-sampling(EqCit.Stan.01.model, data = EqCit.Stan.01.data.list, \n",
    "    chains = 4, iter = 2000, warmup = 400, thin = 1) "
   ]
  },
  {
   "cell_type": "code",
   "execution_count": 26,
   "id": "f80b3c62-6de3-4d8f-b7a8-fa962a67c924",
   "metadata": {
    "tags": []
   },
   "outputs": [
    {
     "data": {
      "text/html": [
       "<table class=\"dataframe\">\n",
       "<caption>A matrix: 5 × 10 of type dbl</caption>\n",
       "<thead>\n",
       "\t<tr><th></th><th scope=col>mean</th><th scope=col>se_mean</th><th scope=col>sd</th><th scope=col>2.5%</th><th scope=col>25%</th><th scope=col>50%</th><th scope=col>75%</th><th scope=col>97.5%</th><th scope=col>n_eff</th><th scope=col>Rhat</th></tr>\n",
       "</thead>\n",
       "<tbody>\n",
       "\t<tr><th scope=row>b0</th><td> 2.72927400</td><td>0.0011436336</td><td>0.04634527</td><td> 2.63788124</td><td> 2.69831051</td><td> 2.72945770</td><td> 2.75936371</td><td> 2.82045021</td><td>1642.241</td><td>1.0019060</td></tr>\n",
       "\t<tr><th scope=row>b[1]</th><td>-0.11339523</td><td>0.0003389615</td><td>0.01742700</td><td>-0.14747411</td><td>-0.12565133</td><td>-0.11313540</td><td>-0.10163909</td><td>-0.07891163</td><td>2643.287</td><td>1.0007919</td></tr>\n",
       "\t<tr><th scope=row>b[2]</th><td> 0.08973093</td><td>0.0004286246</td><td>0.01845443</td><td> 0.05287544</td><td> 0.07746735</td><td> 0.08967547</td><td> 0.10202878</td><td> 0.12563900</td><td>1853.732</td><td>1.0013147</td></tr>\n",
       "\t<tr><th scope=row>b[3]</th><td> 0.52174385</td><td>0.0004085937</td><td>0.01784233</td><td> 0.48670928</td><td> 0.50999173</td><td> 0.52169646</td><td> 0.53355797</td><td> 0.55698476</td><td>1906.864</td><td>1.0018203</td></tr>\n",
       "\t<tr><th scope=row>b[4]</th><td>-0.09927694</td><td>0.0000998212</td><td>0.00705023</td><td>-0.11318351</td><td>-0.10405676</td><td>-0.09919330</td><td>-0.09452694</td><td>-0.08547867</td><td>4988.397</td><td>0.9996775</td></tr>\n",
       "</tbody>\n",
       "</table>\n"
      ],
      "text/latex": [
       "A matrix: 5 × 10 of type dbl\n",
       "\\begin{tabular}{r|llllllllll}\n",
       "  & mean & se\\_mean & sd & 2.5\\% & 25\\% & 50\\% & 75\\% & 97.5\\% & n\\_eff & Rhat\\\\\n",
       "\\hline\n",
       "\tb0 &  2.72927400 & 0.0011436336 & 0.04634527 &  2.63788124 &  2.69831051 &  2.72945770 &  2.75936371 &  2.82045021 & 1642.241 & 1.0019060\\\\\n",
       "\tb{[}1{]} & -0.11339523 & 0.0003389615 & 0.01742700 & -0.14747411 & -0.12565133 & -0.11313540 & -0.10163909 & -0.07891163 & 2643.287 & 1.0007919\\\\\n",
       "\tb{[}2{]} &  0.08973093 & 0.0004286246 & 0.01845443 &  0.05287544 &  0.07746735 &  0.08967547 &  0.10202878 &  0.12563900 & 1853.732 & 1.0013147\\\\\n",
       "\tb{[}3{]} &  0.52174385 & 0.0004085937 & 0.01784233 &  0.48670928 &  0.50999173 &  0.52169646 &  0.53355797 &  0.55698476 & 1906.864 & 1.0018203\\\\\n",
       "\tb{[}4{]} & -0.09927694 & 0.0000998212 & 0.00705023 & -0.11318351 & -0.10405676 & -0.09919330 & -0.09452694 & -0.08547867 & 4988.397 & 0.9996775\\\\\n",
       "\\end{tabular}\n"
      ],
      "text/markdown": [
       "\n",
       "A matrix: 5 × 10 of type dbl\n",
       "\n",
       "| <!--/--> | mean | se_mean | sd | 2.5% | 25% | 50% | 75% | 97.5% | n_eff | Rhat |\n",
       "|---|---|---|---|---|---|---|---|---|---|---|\n",
       "| b0 |  2.72927400 | 0.0011436336 | 0.04634527 |  2.63788124 |  2.69831051 |  2.72945770 |  2.75936371 |  2.82045021 | 1642.241 | 1.0019060 |\n",
       "| b[1] | -0.11339523 | 0.0003389615 | 0.01742700 | -0.14747411 | -0.12565133 | -0.11313540 | -0.10163909 | -0.07891163 | 2643.287 | 1.0007919 |\n",
       "| b[2] |  0.08973093 | 0.0004286246 | 0.01845443 |  0.05287544 |  0.07746735 |  0.08967547 |  0.10202878 |  0.12563900 | 1853.732 | 1.0013147 |\n",
       "| b[3] |  0.52174385 | 0.0004085937 | 0.01784233 |  0.48670928 |  0.50999173 |  0.52169646 |  0.53355797 |  0.55698476 | 1906.864 | 1.0018203 |\n",
       "| b[4] | -0.09927694 | 0.0000998212 | 0.00705023 | -0.11318351 | -0.10405676 | -0.09919330 | -0.09452694 | -0.08547867 | 4988.397 | 0.9996775 |\n",
       "\n"
      ],
      "text/plain": [
       "     mean        se_mean      sd         2.5%        25%         50%        \n",
       "b0    2.72927400 0.0011436336 0.04634527  2.63788124  2.69831051  2.72945770\n",
       "b[1] -0.11339523 0.0003389615 0.01742700 -0.14747411 -0.12565133 -0.11313540\n",
       "b[2]  0.08973093 0.0004286246 0.01845443  0.05287544  0.07746735  0.08967547\n",
       "b[3]  0.52174385 0.0004085937 0.01784233  0.48670928  0.50999173  0.52169646\n",
       "b[4] -0.09927694 0.0000998212 0.00705023 -0.11318351 -0.10405676 -0.09919330\n",
       "     75%         97.5%       n_eff    Rhat     \n",
       "b0    2.75936371  2.82045021 1642.241 1.0019060\n",
       "b[1] -0.10163909 -0.07891163 2643.287 1.0007919\n",
       "b[2]  0.10202878  0.12563900 1853.732 1.0013147\n",
       "b[3]  0.53355797  0.55698476 1906.864 1.0018203\n",
       "b[4] -0.09452694 -0.08547867 4988.397 0.9996775"
      ]
     },
     "metadata": {},
     "output_type": "display_data"
    }
   ],
   "source": [
    "summary(EqCit.Stan.01.samples,par=c(\"b0\",\"b\"),digits=2)$summary"
   ]
  },
  {
   "cell_type": "code",
   "execution_count": 27,
   "id": "7fd6ea4b-eb7f-4c11-955d-ff5bd1745757",
   "metadata": {},
   "outputs": [
    {
     "name": "stderr",
     "output_type": "stream",
     "text": [
      "This is bayesplot version 1.8.0\n",
      "\n",
      "- Online documentation and vignettes at mc-stan.org/bayesplot\n",
      "\n",
      "- bayesplot theme set to bayesplot::theme_default()\n",
      "\n",
      "   * Does _not_ affect other ggplot2 plots\n",
      "\n",
      "   * See ?bayesplot_theme_set for details on theme setting\n",
      "\n"
     ]
    }
   ],
   "source": [
    "#install.packages(\"bayesplot\",dependencies=TRUE,repos=\"https://cloud.r-project.org\")\n",
    "require(bayesplot,quietly=TRUE)\n",
    "color_scheme_set(\"brightblue\")"
   ]
  },
  {
   "cell_type": "code",
   "execution_count": 28,
   "id": "63cc7bc2-b32c-427a-b3e5-38672a64fc1a",
   "metadata": {},
   "outputs": [],
   "source": [
    "EqCit.Stan.01.a<-as.array(EqCit.Stan.01.samples)"
   ]
  },
  {
   "cell_type": "code",
   "execution_count": 30,
   "id": "6b81c3a5-d1cb-4d82-9f0b-0a37d870c84e",
   "metadata": {},
   "outputs": [
    {
     "data": {
      "image/png": "[encoded data removed]",
      "text/plain": [
       "plot without title"
      ]
     },
     "metadata": {
      "image/png": {
       "height": 720,
       "width": 720
      }
     },
     "output_type": "display_data"
    }
   ],
   "source": [
    "options(repr.plot.width=12,repr.plot.height=12)\n",
    "mcmc_combo(EqCit.Stan.01.a,pars = vars(contains(\"b\")),widths=c(1,3))"
   ]
  },
  {
   "cell_type": "code",
   "execution_count": 31,
   "id": "50db9a63-bdf2-44bc-bfff-887a3c337b88",
   "metadata": {},
   "outputs": [
    {
     "data": {
      "image/png": "[encoded data removed]",
      "text/plain": [
       "plot without title"
      ]
     },
     "metadata": {
      "image/png": {
       "height": 300,
       "width": 900
      }
     },
     "output_type": "display_data"
    }
   ],
   "source": [
    "options(repr.plot.width=15,repr.plot.height=5)\n",
    "mcmc_acf(EqCit.Stan.01.a, pars = vars(contains(\"b\")))"
   ]
  },
  {
   "cell_type": "markdown",
   "id": "3810859f-de0f-477c-9524-bb956af72fa0",
   "metadata": {
    "tags": []
   },
   "source": [
    "# 05b - Negative binomial regression with Stan"
   ]
  },
  {
   "cell_type": "code",
   "execution_count": 32,
   "id": "cb05ffad-689a-40fc-b3b8-2a96f1eb4eac",
   "metadata": {},
   "outputs": [],
   "source": [
    "#install.packages(\"rstan\",dependencies=TRUE,repos= \"https://cloud.r-project.org\")\n",
    "options(mc.cores = parallel::detectCores())\n",
    "require(rstan)\n",
    "rstan_options(auto_write = TRUE)\n",
    "Sys.setenv(LOCAL_CPPFLAGS = '-march=corei7 -mtune=corei7')"
   ]
  },
  {
   "cell_type": "code",
   "execution_count": 33,
   "id": "3c625572-62cf-4719-bfec-2efde1ccd7ca",
   "metadata": {},
   "outputs": [
    {
     "name": "stdout",
     "output_type": "stream",
     "text": [
      " num [1:649, 1:4] 0 0 0 0 0 0 0 0 0 0 ...\n",
      " - attr(*, \"dimnames\")=List of 2\n",
      "  ..$ : chr [1:649] \"1\" \"2\" \"3\" \"4\" ...\n",
      "  ..$ : chr [1:4] \"journalEvolution\" \"journalProcB\" \"Lpag\" \"EqPag\"\n"
     ]
    },
    {
     "data": {
      "text/html": [
       "<style>\n",
       ".list-inline {list-style: none; margin:0; padding: 0}\n",
       ".list-inline>li {display: inline-block}\n",
       ".list-inline>li:not(:last-child)::after {content: \"\\00b7\"; padding: 0 .5ex}\n",
       "</style>\n",
       "<ol class=list-inline><li>649</li><li>4</li></ol>\n"
      ],
      "text/latex": [
       "\\begin{enumerate*}\n",
       "\\item 649\n",
       "\\item 4\n",
       "\\end{enumerate*}\n"
      ],
      "text/markdown": [
       "1. 649\n",
       "2. 4\n",
       "\n",
       "\n"
      ],
      "text/plain": [
       "[1] 649   4"
      ]
     },
     "metadata": {},
     "output_type": "display_data"
    }
   ],
   "source": [
    "X <- model.matrix(othercites~.,data=EqCit)[,-1] # Discard the intercept column. We will enter b0\n",
    "k<- ncol(X) # number of regression coefficients\n",
    "n<-nrow(X)  # number of observations\n",
    "str(X)\n",
    "c(n,k)"
   ]
  },
  {
   "cell_type": "code",
   "execution_count": 34,
   "id": "a94ef16b-e5a4-4068-91ac-58cd6de366af",
   "metadata": {},
   "outputs": [],
   "source": [
    "EqCit.Stan.NB01.model.string<-\"\n",
    "    data{\n",
    "        int n;\n",
    "        int k;\n",
    "        matrix[n,k] X;\n",
    "        int y[n];\n",
    "        }\n",
    "        \n",
    "    parameters{\n",
    "        real        b0;\n",
    "        vector[k]   b;\n",
    "        real<lower=0, upper=1> p;\n",
    "        }\n",
    "        \n",
    "    transformed parameters{\n",
    "        vector[n] mu;\n",
    "        vector[n] alpha ;           \n",
    "        real beta ;\n",
    "                                \n",
    "        \n",
    "        beta = p/(1-p);\n",
    "        mu = exp(b0 + X * b);\n",
    "        alpha = beta * mu ;\n",
    "        }\n",
    "        \n",
    "    model{\n",
    "        y ~ neg_binomial(alpha, beta);\n",
    "        }\n",
    "\n",
    "\"\n",
    "cat(EqCit.Stan.NB01.model.string,file=\"EqCit.Stan.NB01.stan\")"
   ]
  },
  {
   "cell_type": "code",
   "execution_count": 35,
   "id": "a17768aa-d8e3-4098-8811-ff2fbfd99125",
   "metadata": {
    "tags": []
   },
   "outputs": [],
   "source": [
    "EqCit.Stan.NB01.data.list<-list(X=X,y=EqCit$othercites,n=n,k=k)"
   ]
  },
  {
   "cell_type": "code",
   "execution_count": 36,
   "id": "ec6d7d9f-ee10-4996-8850-c9d9456498ac",
   "metadata": {
    "tags": []
   },
   "outputs": [],
   "source": [
    "EqCit.Stan.NB01.model<-stan_model(file=\"EqCit.Stan.NB01.stan\")"
   ]
  },
  {
   "cell_type": "markdown",
   "id": "2ad8817f-0ef6-42e8-b12f-08a78c2bc62d",
   "metadata": {
    "tags": []
   },
   "source": [
    "### Sampling from the Stan model with MCMC _(HMC-NUTS)_"
   ]
  },
  {
   "cell_type": "code",
   "execution_count": 37,
   "id": "3d6c7389-daac-4c9d-a570-d344180cd59b",
   "metadata": {},
   "outputs": [],
   "source": [
    "EqCit.Stan.NB01.samples<-sampling(EqCit.Stan.NB01.model, data = EqCit.Stan.NB01.data.list, \n",
    "    chains = 4, iter = 2000, warmup = 500, thin = 1)"
   ]
  },
  {
   "cell_type": "code",
   "execution_count": 38,
   "id": "6e1c4e18-5632-4a74-b185-a0b7b0f41ccc",
   "metadata": {
    "tags": []
   },
   "outputs": [
    {
     "data": {
      "text/html": [
       "<table class=\"dataframe\">\n",
       "<caption>A matrix: 5 × 10 of type dbl</caption>\n",
       "<thead>\n",
       "\t<tr><th></th><th scope=col>mean</th><th scope=col>se_mean</th><th scope=col>sd</th><th scope=col>2.5%</th><th scope=col>25%</th><th scope=col>50%</th><th scope=col>75%</th><th scope=col>97.5%</th><th scope=col>n_eff</th><th scope=col>Rhat</th></tr>\n",
       "</thead>\n",
       "<tbody>\n",
       "\t<tr><th scope=row>b0</th><td> 2.97824488</td><td>0.0048993335</td><td>0.21428185</td><td> 2.5633757</td><td> 2.83409350</td><td> 2.98116912</td><td> 3.12197681</td><td> 3.40821452</td><td>1912.920</td><td>1.001538</td></tr>\n",
       "\t<tr><th scope=row>b[1]</th><td>-0.08830638</td><td>0.0014921252</td><td>0.08628600</td><td>-0.2587761</td><td>-0.14696282</td><td>-0.08856884</td><td>-0.03085316</td><td> 0.07837758</td><td>3344.030</td><td>1.000978</td></tr>\n",
       "\t<tr><th scope=row>b[2]</th><td>-0.02834778</td><td>0.0017725284</td><td>0.08798276</td><td>-0.2001805</td><td>-0.08761192</td><td>-0.02909564</td><td> 0.03029879</td><td> 0.14709489</td><td>2463.819</td><td>1.002154</td></tr>\n",
       "\t<tr><th scope=row>b[3]</th><td> 0.42722333</td><td>0.0017985397</td><td>0.08334202</td><td> 0.2569582</td><td> 0.37200744</td><td> 0.42792971</td><td> 0.48238031</td><td> 0.58976209</td><td>2147.276</td><td>1.001287</td></tr>\n",
       "\t<tr><th scope=row>b[4]</th><td>-0.09067579</td><td>0.0005280496</td><td>0.03316181</td><td>-0.1595721</td><td>-0.11196209</td><td>-0.08998606</td><td>-0.06801281</td><td>-0.02826663</td><td>3943.912</td><td>1.000105</td></tr>\n",
       "</tbody>\n",
       "</table>\n"
      ],
      "text/latex": [
       "A matrix: 5 × 10 of type dbl\n",
       "\\begin{tabular}{r|llllllllll}\n",
       "  & mean & se\\_mean & sd & 2.5\\% & 25\\% & 50\\% & 75\\% & 97.5\\% & n\\_eff & Rhat\\\\\n",
       "\\hline\n",
       "\tb0 &  2.97824488 & 0.0048993335 & 0.21428185 &  2.5633757 &  2.83409350 &  2.98116912 &  3.12197681 &  3.40821452 & 1912.920 & 1.001538\\\\\n",
       "\tb{[}1{]} & -0.08830638 & 0.0014921252 & 0.08628600 & -0.2587761 & -0.14696282 & -0.08856884 & -0.03085316 &  0.07837758 & 3344.030 & 1.000978\\\\\n",
       "\tb{[}2{]} & -0.02834778 & 0.0017725284 & 0.08798276 & -0.2001805 & -0.08761192 & -0.02909564 &  0.03029879 &  0.14709489 & 2463.819 & 1.002154\\\\\n",
       "\tb{[}3{]} &  0.42722333 & 0.0017985397 & 0.08334202 &  0.2569582 &  0.37200744 &  0.42792971 &  0.48238031 &  0.58976209 & 2147.276 & 1.001287\\\\\n",
       "\tb{[}4{]} & -0.09067579 & 0.0005280496 & 0.03316181 & -0.1595721 & -0.11196209 & -0.08998606 & -0.06801281 & -0.02826663 & 3943.912 & 1.000105\\\\\n",
       "\\end{tabular}\n"
      ],
      "text/markdown": [
       "\n",
       "A matrix: 5 × 10 of type dbl\n",
       "\n",
       "| <!--/--> | mean | se_mean | sd | 2.5% | 25% | 50% | 75% | 97.5% | n_eff | Rhat |\n",
       "|---|---|---|---|---|---|---|---|---|---|---|\n",
       "| b0 |  2.97824488 | 0.0048993335 | 0.21428185 |  2.5633757 |  2.83409350 |  2.98116912 |  3.12197681 |  3.40821452 | 1912.920 | 1.001538 |\n",
       "| b[1] | -0.08830638 | 0.0014921252 | 0.08628600 | -0.2587761 | -0.14696282 | -0.08856884 | -0.03085316 |  0.07837758 | 3344.030 | 1.000978 |\n",
       "| b[2] | -0.02834778 | 0.0017725284 | 0.08798276 | -0.2001805 | -0.08761192 | -0.02909564 |  0.03029879 |  0.14709489 | 2463.819 | 1.002154 |\n",
       "| b[3] |  0.42722333 | 0.0017985397 | 0.08334202 |  0.2569582 |  0.37200744 |  0.42792971 |  0.48238031 |  0.58976209 | 2147.276 | 1.001287 |\n",
       "| b[4] | -0.09067579 | 0.0005280496 | 0.03316181 | -0.1595721 | -0.11196209 | -0.08998606 | -0.06801281 | -0.02826663 | 3943.912 | 1.000105 |\n",
       "\n"
      ],
      "text/plain": [
       "     mean        se_mean      sd         2.5%       25%         50%        \n",
       "b0    2.97824488 0.0048993335 0.21428185  2.5633757  2.83409350  2.98116912\n",
       "b[1] -0.08830638 0.0014921252 0.08628600 -0.2587761 -0.14696282 -0.08856884\n",
       "b[2] -0.02834778 0.0017725284 0.08798276 -0.2001805 -0.08761192 -0.02909564\n",
       "b[3]  0.42722333 0.0017985397 0.08334202  0.2569582  0.37200744  0.42792971\n",
       "b[4] -0.09067579 0.0005280496 0.03316181 -0.1595721 -0.11196209 -0.08998606\n",
       "     75%         97.5%       n_eff    Rhat    \n",
       "b0    3.12197681  3.40821452 1912.920 1.001538\n",
       "b[1] -0.03085316  0.07837758 3344.030 1.000978\n",
       "b[2]  0.03029879  0.14709489 2463.819 1.002154\n",
       "b[3]  0.48238031  0.58976209 2147.276 1.001287\n",
       "b[4] -0.06801281 -0.02826663 3943.912 1.000105"
      ]
     },
     "metadata": {},
     "output_type": "display_data"
    }
   ],
   "source": [
    "summary(EqCit.Stan.NB01.samples,par=c(\"b0\",\"b\"),digits=2)$summary"
   ]
  },
  {
   "cell_type": "code",
   "execution_count": 39,
   "id": "e62a57df-f556-4f20-a633-1da86e7d4ff9",
   "metadata": {},
   "outputs": [],
   "source": [
    "EqCit.Stan.NB01.a<-as.array(EqCit.Stan.NB01.samples)"
   ]
  },
  {
   "cell_type": "code",
   "execution_count": 40,
   "id": "80de1a7e-b15b-48b6-b1c5-cf566ad84647",
   "metadata": {},
   "outputs": [
    {
     "data": {
      "image/png": "[encoded data removed]",
      "text/plain": [
       "plot without title"
      ]
     },
     "metadata": {
      "image/png": {
       "height": 720,
       "width": 720
      }
     },
     "output_type": "display_data"
    }
   ],
   "source": [
    "options(repr.plot.width=12,repr.plot.height=12)\n",
    "mcmc_combo(EqCit.Stan.NB01.a, pars = vars(contains(\"b\")), widths=c(1,3))"
   ]
  },
  {
   "cell_type": "code",
   "execution_count": 41,
   "id": "2eef53bf-66c2-4c60-b896-fc1c8b80d397",
   "metadata": {},
   "outputs": [
    {
     "data": {
      "image/png": "[encoded data removed]",
      "text/plain": [
       "plot without title"
      ]
     },
     "metadata": {
      "image/png": {
       "height": 300,
       "width": 1080
      }
     },
     "output_type": "display_data"
    }
   ],
   "source": [
    "options(repr.plot.width=18,repr.plot.height=5)\n",
    "mcmc_acf(EqCit.Stan.NB01.a, pars = vars(contains(\"b\")))"
   ]
  }
 ],
 "metadata": {
  "kernelspec": {
   "display_name": "R",
   "language": "R",
   "name": "ir"
  },
  "language_info": {
   "codemirror_mode": "r",
   "file_extension": ".r",
   "mimetype": "text/x-r-source",
   "name": "R",
   "pygments_lexer": "r",
   "version": "4.0.5"
  }
 },
 "nbformat": 4,
 "nbformat_minor": 5
}
