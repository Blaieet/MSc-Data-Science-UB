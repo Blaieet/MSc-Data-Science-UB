{
 "cells": [
  {
   "cell_type": "markdown",
   "metadata": {},
   "source": [
    "# Poisson and negative binomial distributions\n",
    "\n",
    "# _Useful formulas_"
   ]
  },
  {
   "cell_type": "markdown",
   "metadata": {},
   "source": [
    "## Josep Fortiana  2021-05-13"
   ]
  },
  {
   "cell_type": "markdown",
   "metadata": {
    "tags": []
   },
   "source": [
    "***\n",
    "###### LaTeX macros\n",
    "$\\def\\argmax{\\operatorname{arg\\,max}}$\n",
    "$\\def\\argmin{\\operatorname{arg\\,min}}$\n",
    "$\\def\\binomdist{\\operatorname{Binomial}}$\n",
    "$\\def\\berndist{\\operatorname{Bernoulli}}$\n",
    "$\\def\\betabinomdist{\\operatorname{Beta-Binomial}}$\n",
    "$\\def\\betadist{\\operatorname{Beta}}$\n",
    "$\\def\\betahat{\\kern1.3pt\\hat{\\kern-1.3pt \\beta}}$\n",
    "$\\def\\borel{\\operatorname{Borel}}$\n",
    "$\\def\\cauchydist{\\operatorname{Cauchy}}$\n",
    "$\\def\\CondTo{\\mathbin{|\\mskip0.5mu}}$\n",
    "$\\def\\cov{\\operatorname{cov}}$\n",
    "$\\def\\cor{\\operatorname{cor}}$\n",
    "$\\def\\dexpdist{\\operatorname{DExp}}$\n",
    "$\\def\\eqdef{\\stackrel{\\text{def}}{\\mskip3mu=\\mskip3mu}}$\n",
    "$\\def\\cE{\\cal E}$\n",
    "$\\def\\Ee{\\operatorname{E}}$\n",
    "$\\def\\expdist{\\operatorname{Exponential}}$\n",
    "$\\def\\fdist{\\operatorname{F}}$\n",
    "$\\def\\gammadist{\\operatorname{Gamma}}$\n",
    "$\\def\\geomdist{\\operatorname{Geom}}$\n",
    "$\\def\\halfcauchydist{\\operatorname{Cauchy}^{+}}$\n",
    "$\\def\\hyperdist{\\operatorname{Hypergeom}}$\n",
    "$\\def\\hypergeomdist{\\operatorname{Hypergeom}}$\n",
    "$\\def\\indep{\\perp{\\mskip-16mu}\\perp}$\n",
    "$\\DeclareMathOperator{\\indica}{\\mathbb{1}}$\n",
    "$\\DeclareMathOperator{\\invgammadist}{InvGamma}$\n",
    "$\\def\\laplacedist{\\operatorname{Laplace}}$\n",
    "$\\def\\lognormaldist{\\operatorname{Log-Normal}}$\n",
    "$\\DeclareMathOperator{\\multinomialdist}{Multinomial}$\n",
    "$\\DeclareMathOperator{\\multinomdist}{Multinomial}$\n",
    "$\\def\\N{\\mathbb{N}}$\n",
    "$\\def\\negbindist{\\operatorname{NegativeBinomial}}$\n",
    "$\\def\\normaldist{\\operatorname{Normal}}$\n",
    "$\\def\\cP{\\cal P}$\n",
    "$\\def\\poissondist{\\operatorname{Poisson}}$\n",
    "$\\def\\prob{P}$\n",
    "$\\def\\R{\\mathbb{R}}$ \n",
    "$\\def\\tdist{\\operatorname{t}}$\n",
    "$\\def\\unifdist{\\operatorname{Unif}}$\n",
    "$\\def\\va{\\text{v.a.}}$\n",
    "$\\def\\var{\\operatorname{var}}$\n",
    "$\\def\\Var{\\operatorname{Var}}$\n",
    "$\\def\\xbar{\\kern1.3pt\\overline{\\kern-1.3pt x}}$\n",
    "$\\def\\Xbar{\\kern1.3pt\\overline{\\kern-1.3pt X}}$\n",
    "$\\def\\yhat{\\kern1.3pt\\hat{\\kern-1.3pt y}}$\n",
    "$\\def\\Z{\\mathbb{Z}}$\n",
    "***"
   ]
  },
  {
   "cell_type": "markdown",
   "metadata": {},
   "source": [
    "# Poisson pdf"
   ]
  },
  {
   "cell_type": "markdown",
   "metadata": {},
   "source": [
    "A r.v. $Y\\sim\\operatorname{Poisson}(\\lambda)$ where $\\lambda>0$, that is, $\\lambda\\in\\mathbb{R}_{+}$, has the pmf:\n",
    "\n",
    "$$\n",
    "    f(y\\,|\\,\\lambda)=\\exp(-\\lambda)\\cdot\\dfrac{\\lambda^y}{y!},\\mskip30mu\\lambda>0,\\mskip30mu y=0,1,2,\\dots\n",
    "$$\n",
    "\n",
    "Its expectation and variance are:\n",
    "\n",
    "$$\n",
    "    \\mskip-100mu\n",
    "    \\operatorname{E}(Y)=\\lambda,\\mskip50mu\\operatorname{var}(Y)=\\lambda.\n",
    "$$"
   ]
  },
  {
   "cell_type": "markdown",
   "metadata": {},
   "source": [
    "# Negative binomial pdf"
   ]
  },
  {
   "cell_type": "markdown",
   "metadata": {},
   "source": [
    "A r.v. $Y\\sim\\operatorname{NegBin}(r,p)$, where $r>0$, that is, $r\\in\\mathbb{R}_{+}$, and $p\\in(0,1)$ has the pmf:\n",
    "\n",
    "$$\n",
    "    f(y\\,|\\,r,p)=\\dfrac{\\Gamma(r+y)}{\\Gamma(r)\\cdot y!}\\cdot p^{r}\\cdot (1-p)^{y},\n",
    "    \\mskip30mu r>0,\\mskip10mu p\\in(0,1), \\mskip30mu y=0,1,2,\\dots\n",
    "$$\n",
    "\n",
    "When $r=m\\in\\mathbb{N}$ is a positive integer, $Y$ may be interpreted as the number of i.i.d. $\\operatorname{Bernoulli}(p)$ trials needed to have $m$ occurrences of an event with probability $p$. \n",
    "In this case, $\\Gamma(m+y)=(m+y-1)!$ and $\\Gamma(m)=(m-1)!$, and:\n",
    "\n",
    "$$\n",
    "    \\dfrac{(m+y-1)!}{(m-1)!\\cdot y!}= {m+y-1 \\choose m-1} =\n",
    "    \\dfrac{(m+y-1)\\,(m+y-2)\\cdots(m+y-y)}{y!}=(-1)^{y}\\cdot {-m\\choose y},\n",
    "$$\n",
    "\n",
    "Hence the pmf may be written in its _negative binomial_ format:\n",
    "\n",
    "$$\n",
    "      f(y\\,|\\,m,p)={-m\\choose y}\\cdot p^{m} \\cdot (-q)^{y},\n",
    "          \\mskip30mu q=1-p,\\mskip30mu m\\in\\mathbb{N},\\mskip10mu p\\in(0,1), \\mskip30mu y=0,1,2,\\dots\n",
    "$$\n",
    "\n",
    "The expectation and variance of  $Y\\sim\\operatorname{NegBin}(r,p)$ are:\n",
    "\n",
    "$$\n",
    "    \\mskip-100mu\n",
    "    \\operatorname{E}(Y)=\\dfrac{r\\cdot (1-p)}{p},\\mskip50mu\\operatorname{var}(Y)=\\dfrac{r\\cdot (1-p)}{p^{2}}.\n",
    "$$"
   ]
  },
  {
   "cell_type": "markdown",
   "metadata": {},
   "source": [
    "An alternative parameterization is to use $(\\mu,\\theta)$ instead of $(p,r)$ where $\\mu=\\operatorname{E}(Y)=\\dfrac{r\\cdot (1-p)}{p}$  and $\\theta=r$. The `rnegbin` function in the `MASS` package uses the  $(\\mu,\\theta)$ parameterization, whereas the `dnbinom`, `pnbinom`, `qnbinom`, `rnbinom` in `stats` use $r=$ `size`, $p=$`prob` or $\\mu=$`mu`. \n",
    "\n",
    "The relationship beween both parameterizations is:\n",
    "\n",
    "$$\n",
    "    p=\\dfrac{\\theta}{\\mu+\\theta},\\mskip50mu r=\\theta=\\mu\\,\\dfrac{p}{1-p},\n",
    "$$\n",
    "\n",
    "In the $(\\mu,\\theta)$ parameterization the pmf is:\n",
    "\n",
    "$$\n",
    "    f(y\\,|\\,\\theta,\\mu)=\\dfrac{\\Gamma(\\theta+y)}{\\Gamma(\\theta)\\cdot y!}\\cdot \n",
    "    \\left(\\dfrac{\\theta}{\\mu+\\theta}\\right)^{\\theta}\\cdot\\left(\\dfrac{\\mu}{\\mu+\\theta}\\right)^{y}\n",
    "    =\\dfrac{\\Gamma(\\theta+y)}{\\Gamma(\\theta)\\cdot y!}\\cdot \n",
    "    \\dfrac{\\theta^{\\theta}\\cdot\\mu^{y}}{(\\mu+\\theta)^{\\theta+y}},\n",
    "    \\mskip30mu \\mu,\\theta>0,\\mskip30mu y=0,1,2,\\dots\n",
    "$$\n",
    "\n",
    "$$\n",
    "    \\mskip-100mu\n",
    "    \\operatorname{E}(Y)=\\mu,\\mskip50mu\\operatorname{var}(Y)=\\mu+\\dfrac{\\mu^{2}}{\\theta}.\n",
    "$$"
   ]
  },
  {
   "cell_type": "markdown",
   "metadata": {},
   "source": [
    "Still a third parameterization for the negative binomial distribution: with $\\phi=1/\\theta$ in this way:\n",
    "\n",
    "$$\n",
    "    \\mskip-100mu\n",
    "    \\operatorname{E}(Y)=\\mu,\\mskip50mu\\operatorname{var}(Y)=\\mu+\\phi\\cdot\\mu^{2},\n",
    "$$\n",
    "\n",
    "thus $\\phi$ can be thought of as a _dispersion_ parameter. In this $(\\mu,\\phi)$ parameterization, $p=\\dfrac{1}{1+\\mu\\cdot\\phi}$."
   ]
  },
  {
   "cell_type": "markdown",
   "metadata": {},
   "source": [
    "# Negative binomial for _overdisperse_  data\n",
    "\n",
    "At first sight, the Poisson distribution would appear as adequate for modelling count data. However, it has a big handicap, the fact that its variance is equal to its mean, hence it will not fit _underdisperse_ nor _overdisperse_ data. The negative binomial distribution can be used in this second case. Indeed, defining:\n",
    "\n",
    "$$\n",
    "    \\mu=\n",
    "    \\operatorname{E}(Y)=\\dfrac{r\\cdot (1-p)}{p},\\mskip30mu\\text{then}\\mskip30mu\n",
    "    \\operatorname{var}(Y)=\\dfrac{r\\cdot (1-p)}{p^{2}}=\\dfrac{\\mu}{p}>\\mu.\n",
    "$$\n",
    "\n",
    "With the $(\\mu,\\theta)$ parameterization it is also apparent that $\\operatorname{var}(Y)=\\mu+\\mu^{2}/\\theta>\\mu$."
   ]
  },
  {
   "cell_type": "markdown",
   "metadata": {},
   "source": [
    "# Comparing a Poisson and a negative binomial with equal mean"
   ]
  },
  {
   "cell_type": "code",
   "execution_count": 2,
   "metadata": {},
   "outputs": [
    {
     "data": {
      "image/png": "[encoded data removed]",
      "text/plain": [
       "Plot with title \"Poisson and negative binomial with equal mean\""
      ]
     },
     "metadata": {
      "image/png": {
       "height": 420,
       "width": 420
      }
     },
     "output_type": "display_data"
    }
   ],
   "source": [
    "lambda=9\n",
    "p=0.2\n",
    "r=lambda*p/(1-p)\n",
    "n<-floor(7*lambda)\n",
    "u<-0:n\n",
    "# Table of relative frequencies (proportions)\n",
    "f<-dpois(u,lambda=lambda)\n",
    "g<-dnbinom(u,size=r,prob=p)\n",
    "yfg<-cbind(f,g)\n",
    "y.max<-max(yfg)*1.2\n",
    "options(repr.plot.width=7,repr.plot.height=7)\n",
    "matplot(x=cbind(u-0.25,u+0.25),y=yfg,type=\"h\",lwd=3.5, lty=1,col=c(\"LightGreen\",\"DarkGreen\"),\n",
    "        ylim=c(0,y.max),xlab=\"x\",ylab=\"Rel. Freqs./Probs.\",\n",
    "        main=\"Poisson and negative binomial with equal mean\")\n",
    "legend(\"topright\",legend=c(\"Poisson\",\"Negative binomial\"),\n",
    "       lwd=4, lty=1,col=c(\"LightGreen\",\"DarkGreen\"))"
   ]
  },
  {
   "cell_type": "markdown",
   "metadata": {},
   "source": [
    "# Negative  binomial as a mixture of Poisson r.v.'s\n",
    "\n",
    "Consider the mixture of a continuous family of Poisson pdf's $\\big\\{\\operatorname{Poisson}(\\lambda);\\,\\lambda\\in\\mathbb{R}\\big\\}$, where the weight of each pdf is given by a $\\operatorname{Gamma}$ distribution   \n",
    "(equivalently, in a Bayesian model where the likelihood is $\\operatorname{Poisson}(\\lambda)$ and the prior is the conjugate $\\lambda\\sim\\operatorname{Gamma}(\\alpha,\\beta)$),    \n",
    "then the $Y$ marginal -the prior predictive pdf- is a $\\negbindist$. "
   ]
  },
  {
   "cell_type": "markdown",
   "metadata": {},
   "source": [
    "Choosing the parameterization of a Gamma pdf as: \n",
    "\n",
    "$$\n",
    "    h(\\lambda\\,|\\,\\alpha,\\beta)=\\dfrac{\\beta^{\\alpha}}{\\Gamma(\\alpha)}\\cdot\\lambda^{\\alpha-1}\\cdot\n",
    "    \\exp\\big(-\\beta\\,\\lambda\\big),\\mskip30mu\\lambda>0,\\mskip30mu\\alpha>0,\\mskip10mu\\beta>0.\n",
    "$$"
   ]
  },
  {
   "cell_type": "markdown",
   "metadata": {},
   "source": [
    "Then the (prior) expectation and variance of $\\lambda$ are:\n",
    "\n",
    "$$\n",
    "    \\mskip-100mu\n",
    "    \\operatorname{E}(\\lambda)=\\dfrac{\\alpha}{\\beta},\\mskip50mu\\operatorname{var}(\\lambda)=\\dfrac{\\alpha}{\\beta^{2}}.\n",
    "$$"
   ]
  },
  {
   "cell_type": "markdown",
   "metadata": {},
   "source": [
    "With this parameterization, the mixture of Poisson pdf's is a negative binomial pdf with parameters:\n",
    "\n",
    "$$\n",
    "    r=\\alpha,\\mskip 40mu p=\\dfrac{\\beta}{\\beta+1}.\n",
    "$$"
   ]
  },
  {
   "cell_type": "markdown",
   "metadata": {},
   "source": [
    "$\\bullet\\mskip10mu$ If the negative binomial is parameterized with  $(\\mu,\\theta)$, the $(\\alpha,\\beta)$ parameters in the Gamma pdf are:\n",
    "\n",
    "$$\n",
    "    \\alpha=\\theta,\\mskip30mu\\beta=\\dfrac{\\theta}{\\mu},\\mskip30mu\\text{and, given }\\alpha,\\beta,\\mskip30mu\n",
    "    \\theta=\\alpha,\\mskip30mu\\mu=\\dfrac{\\theta}{\\beta}.\n",
    "$$"
   ]
  },
  {
   "cell_type": "markdown",
   "metadata": {},
   "source": [
    "$\\bullet\\mskip10mu$ Sometimes $\\phi=1/\\theta$ is used instead of $\\theta$, Then\n",
    "\n",
    "$$\n",
    "    \\alpha=1/\\phi,\\mskip30mu\\beta=\\dfrac{1}{\\phi\\cdot\\mu},\\mskip30mu\\text{and, given }\\alpha,\\beta,\\mskip30mu\n",
    "    \\phi=1/\\alpha,\\mskip30mu\\mu=\\dfrac{1}{\\phi\\cdot\\beta}.\n",
    "$$"
   ]
  },
  {
   "cell_type": "markdown",
   "metadata": {},
   "source": [
    "$\\bullet\\mskip10mu$ In JAGS, `dnegbin` has parameters:\n",
    "\n",
    "$$\n",
    "    p=\\dfrac{\\beta}{\\beta+1}=\\dfrac{1/\\phi\\cdot\\mu}{1/\\phi\\cdot\\mu+1}=\\dfrac{1}{\\phi\\cdot\\mu+1}, \\mskip40mu\n",
    "    r=\\alpha=1/\\phi.\n",
    "$$"
   ]
  },
  {
   "cell_type": "markdown",
   "metadata": {},
   "source": [
    "$\\bullet\\mskip10mu$ In Stan, the $\\operatorname{neg\\_binomial}(n\\,|\\,\\alpha,\\beta)$ function inherits its parameters from the mixing $\\operatorname{Gamma}$ distribution. \n",
    "\n",
    "$$\n",
    "     \\mu=\\dfrac{\\alpha}{\\beta},\\mskip30mu p=\\dfrac{\\beta}{\\beta+1},\n",
    "     \\mskip30mu \\beta=\\dfrac{p}{1-p},\\mskip30mu \\alpha=\\theta=r=\\mu\\cdot \\beta=\\mu\\cdot\\dfrac{p}{1-p}.\n",
    "$$"
   ]
  },
  {
   "cell_type": "markdown",
   "metadata": {},
   "source": [
    "$\\bullet\\mskip10mu$ With the parameter $\\phi=1/\\theta$ instead of $\\theta$:\n",
    "\n",
    "$$\n",
    "    f(y\\,|\\,\\phi,\\mu)\n",
    "    =\\dfrac{\\Gamma(y+\\theta)}{\\Gamma(\\theta)\\cdot y!}\\cdot \n",
    "    \\left(\\dfrac{\\theta}{\\mu+\\theta}\\right)^{\\theta}\\cdot\\left(\\dfrac{\\mu}{\\mu+\\theta}\\right)^{y}\n",
    "    =\\dfrac{\\Gamma(y+1/\\phi)}{\\Gamma(1/\\phi)\\cdot y!}\\cdot \n",
    "    \\left(\\dfrac{1/\\phi}{\\mu+1/\\phi}\\right)^{1/\\phi}\\cdot\\left(\\dfrac{\\mu}{\\mu+1/\\phi}\\right)^{y},\n",
    "    \\mskip30mu \\mu,\\theta>0,\\mskip30mu y=0,1,2,\\dots\n",
    "$$\n",
    "\n",
    "$$\n",
    "    u=\\dfrac{\\theta}{\\mu+\\theta}=\\dfrac{1/\\phi}{\\mu+1/\\phi},\\mskip50mu \n",
    "    1-u=\\dfrac{\\mu}{\\mu+\\theta}=\\dfrac{\\mu}{\\mu+1/\\phi}.\n",
    "$$"
   ]
  },
  {
   "cell_type": "markdown",
   "metadata": {},
   "source": [
    "# Generalized Poisson distribution"
   ]
  },
  {
   "cell_type": "markdown",
   "metadata": {},
   "source": [
    "$$\n",
    "    f(y\\,|\\,\\mu,\\delta)=\\exp\\{-\\mu-\\delta\\,y\\}\\cdot\\dfrac{\\mu\\cdot(\\mu+\\delta\\,y)^{y-1}}{y!},\n",
    "    \\mskip30mu\\mu>0,\\mskip30mu -1<\\delta<1 ,\\mskip30mu y=0,1,2,\\dots\n",
    "$$\n",
    "\n",
    "Its expectation and variance are:\n",
    "\n",
    "$$\n",
    "    \\mskip-100mu\n",
    "    \\operatorname{E}(Y)=\\dfrac{\\lambda}{1-\\delta},\n",
    "    \\mskip50mu\\operatorname{var}(Y)=\\dfrac{\\lambda}{(1-\\delta)^{2}}.\n",
    "$$"
   ]
  },
  {
   "cell_type": "code",
   "execution_count": null,
   "metadata": {},
   "outputs": [],
   "source": []
  }
 ],
 "metadata": {
  "kernelspec": {
   "display_name": "R",
   "language": "R",
   "name": "ir"
  },
  "language_info": {
   "codemirror_mode": "r",
   "file_extension": ".r",
   "mimetype": "text/x-r-source",
   "name": "R",
   "pygments_lexer": "r",
   "version": "4.0.5"
  }
 },
 "nbformat": 4,
 "nbformat_minor": 4
}
