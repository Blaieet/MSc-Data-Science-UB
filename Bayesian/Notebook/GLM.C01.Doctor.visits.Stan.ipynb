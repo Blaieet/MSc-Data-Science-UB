{
 "cells": [
  {
   "cell_type": "markdown",
   "id": "1e53be22-7e98-45fc-813b-4ec9ae586343",
   "metadata": {},
   "source": [
    "# GLM C01 - Count data - Doctor visits - Stan"
   ]
  },
  {
   "cell_type": "markdown",
   "id": "6966016c-f74c-42c6-9468-e67a8e6d2cc8",
   "metadata": {},
   "source": [
    "## Josep Fortiana $\\mskip100mu$ 2021-05-13"
   ]
  },
  {
   "cell_type": "markdown",
   "id": "d4f7a854-6bc1-4102-ad3a-e07e58de9888",
   "metadata": {
    "tags": []
   },
   "source": [
    "***\n",
    "###### LaTeX macros\n",
    "$\\def\\argmax{\\operatorname{arg\\,max}}$\n",
    "$\\def\\argmin{\\operatorname{arg\\,min}}$\n",
    "$\\def\\binomdist{\\operatorname{Binomial}}$\n",
    "$\\def\\berndist{\\operatorname{Bernoulli}}$\n",
    "$\\def\\betabinomdist{\\operatorname{Beta-Binomial}}$\n",
    "$\\def\\betadist{\\operatorname{Beta}}$\n",
    "$\\def\\betahat{\\kern1.3pt\\hat{\\kern-1.3pt \\beta}}$\n",
    "$\\def\\borel{\\operatorname{Borel}}$\n",
    "$\\def\\cauchydist{\\operatorname{Cauchy}}$\n",
    "$\\def\\CondTo{\\mathbin{|\\mskip0.5mu}}$\n",
    "$\\def\\cov{\\operatorname{cov}}$\n",
    "$\\def\\cor{\\operatorname{cor}}$\n",
    "$\\def\\dexpdist{\\operatorname{DExp}}$\n",
    "$\\def\\eqdef{\\stackrel{\\text{def}}{\\mskip3mu=\\mskip3mu}}$\n",
    "$\\def\\cE{\\cal E}$\n",
    "$\\def\\Ee{\\operatorname{E}}$\n",
    "$\\def\\expdist{\\operatorname{Exponential}}$\n",
    "$\\def\\fdist{\\operatorname{F}}$\n",
    "$\\def\\gammadist{\\operatorname{Gamma}}$\n",
    "$\\def\\geomdist{\\operatorname{Geom}}$\n",
    "$\\def\\halfcauchydist{\\operatorname{Cauchy}^{+}}$\n",
    "$\\def\\hyperdist{\\operatorname{Hypergeom}}$\n",
    "$\\def\\hypergeomdist{\\operatorname{Hypergeom}}$\n",
    "$\\def\\indep{\\perp{\\mskip-16mu}\\perp}$\n",
    "$\\DeclareMathOperator{\\indica}{\\mathbb{1}}$\n",
    "$\\DeclareMathOperator{\\invgammadist}{InvGamma}$\n",
    "$\\def\\laplacedist{\\operatorname{Laplace}}$\n",
    "$\\def\\lognormaldist{\\operatorname{Log-Normal}}$\n",
    "$\\DeclareMathOperator{\\multinomialdist}{Multinomial}$\n",
    "$\\DeclareMathOperator{\\multinomdist}{Multinomial}$\n",
    "$\\def\\N{\\mathbb{N}}$\n",
    "$\\def\\negbindist{\\operatorname{NegativeBinomial}}$\n",
    "$\\def\\normaldist{\\operatorname{Normal}}$\n",
    "$\\def\\cP{\\cal P}$\n",
    "$\\def\\poissondist{\\operatorname{Poisson}}$\n",
    "$\\def\\prob{P}$\n",
    "$\\def\\R{\\mathbb{R}}$ \n",
    "$\\def\\tdist{\\operatorname{t}}$\n",
    "$\\def\\unifdist{\\operatorname{Unif}}$\n",
    "$\\def\\va{\\text{v.a.}}$\n",
    "$\\def\\var{\\operatorname{var}}$\n",
    "$\\def\\Var{\\operatorname{Var}}$\n",
    "$\\def\\xbar{\\kern1.3pt\\overline{\\kern-1.3pt x}}$\n",
    "$\\def\\Xbar{\\kern1.3pt\\overline{\\kern-1.3pt X}}$\n",
    "$\\def\\yhat{\\kern1.3pt\\hat{\\kern-1.3pt y}}$\n",
    "$\\def\\Z{\\mathbb{Z}}$\n",
    "***"
   ]
  },
  {
   "cell_type": "markdown",
   "id": "2c3dc1f4-afa1-41d6-b0bc-fe21d6e4343c",
   "metadata": {},
   "source": [
    "From [Cameron, A. C. & Trivedi, P. K. (2013) - _Regression Analysis of Count data, 2nd  edition,_ Chapter 3.](http://faculty.econ.ucdavis.edu/faculty/cameron/racd2/RACD2programs.html)"
   ]
  },
  {
   "cell_type": "markdown",
   "id": "b8c79a6d-4387-4e54-9095-7aafa624ca0c",
   "metadata": {},
   "source": [
    "## Doctor visits data\n",
    "\n",
    "Consider the following example of the number of doctor visits in the past two weeks for a single-adult sample of size $5190$    \n",
    "from the Australian Health Survey 1977–78.    \n",
    "\n",
    "This and several other measures of health service utilization such as days in hospital and number of medicines taken   \n",
    "were analyzed in (${}^{\\star}$) in the light of an economic model of joint determination of health service utilization and health insurance choice.\n",
    "\n",
    "(${}^{\\star}$) Cameron, Trivedi, Milne, and Piggott (1988) _A Microeconometric Model of the Demand for Health Care and Health\n",
    "Insurance in Australia,_ The Review of Economic Studies, Volume 55, Issue 1 (Jan., 1988), 85-106. "
   ]
  },
  {
   "cell_type": "markdown",
   "id": "ab999df4-a4ee-422d-94a5-2d14ff834f7d",
   "metadata": {},
   "source": [
    "### Variables\n",
    "\n",
    "01. `Sex`:             Equals 1 If Female  \n",
    "02. `Age`:             Age In Years Divided By 100               \n",
    "03. `Agesq`:           Age Squared    \n",
    "04. `Income`:          Annual Income In Tens Of Thousands Of Dollars\n",
    "05. `Levyplus`:        Equals 1 If Private Health Insurance\n",
    "06. `Freepoor`:        Equals 1 If Free Government Health Insurance Due To Low Income\n",
    "07. `Freerepa`:        Equals 1 If Free Government Health Insurance Due To Old Age, Disability, Or Veteran Status\n",
    "08. `Illness`:         Number Of Illnesses In Past Two Weeks        \n",
    "09. `Actdays`:         Number Of Days Of Reduced Activity In Past Two Weeks Due To Illness Or Injury\n",
    "10. `Hscore`:          General Health Questionnaire Score Using Goldberg's Method\n",
    "11. `Chcond1`:         Equals 1 If Chronic Condition Not Limiting Activity \n",
    "12. `Chcond2`:         Equals1 If Chronic Condition Limiting Activity  \n",
    "13. `Dvisits`:         Number Of Doctor Visits In Past Two Weeks    \n",
    "\n",
    "The actual dataset contains 7 more variables not used in the present study"
   ]
  },
  {
   "cell_type": "code",
   "execution_count": 1,
   "id": "96d404d4-9a1a-40a7-8ba9-e0d6e7d8723a",
   "metadata": {},
   "outputs": [
    {
     "name": "stdout",
     "output_type": "stream",
     "text": [
      "'data.frame':\t5190 obs. of  20 variables:\n",
      " $ Sex     : int  1 1 0 0 0 1 1 1 1 0 ...\n",
      " $ Age     : num  0.19 0.19 0.19 0.19 0.19 ...\n",
      " $ Agesq   : num  0.0361 0.0361 0.0361 0.0361 0.0361 ...\n",
      " $ Income  : num  0.55 0.45 0.9 0.15 0.45 ...\n",
      " $ Levyplus: int  1 1 0 0 0 0 0 0 1 1 ...\n",
      " $ Freepoor: int  0 0 0 0 0 0 0 0 0 0 ...\n",
      " $ Freerepa: int  0 0 0 0 0 0 0 0 0 0 ...\n",
      " $ Illness : int  1 1 3 1 2 5 4 3 2 1 ...\n",
      " $ Actdays : int  4 2 0 0 5 1 0 0 0 0 ...\n",
      " $ Hscore  : int  1 1 0 0 1 9 2 6 5 0 ...\n",
      " $ Chcond1 : int  0 0 0 0 1 1 0 0 0 0 ...\n",
      " $ Chcond2 : int  0 0 0 0 0 0 0 0 0 0 ...\n",
      " $ Dvisits : int  1 1 1 1 1 1 1 1 1 1 ...\n",
      " $ Nondocco: int  0 0 0 0 0 0 0 0 0 0 ...\n",
      " $ Hospadmi: int  0 0 1 0 0 0 0 0 0 0 ...\n",
      " $ Hospdays: int  0 0 4 0 0 0 0 0 0 0 ...\n",
      " $ Medicine: int  1 2 2 0 3 1 0 1 1 1 ...\n",
      " $ Prescrib: int  1 1 1 0 1 1 0 1 0 1 ...\n",
      " $ Nonpresc: int  0 1 1 0 2 0 0 0 1 0 ...\n",
      " $ Constant: int  1 1 1 1 1 1 1 1 1 1 ...\n"
     ]
    }
   ],
   "source": [
    "Docvis<-read.csv(\"Doctor.visits.csv\")\n",
    "str(Docvis)"
   ]
  },
  {
   "cell_type": "code",
   "execution_count": 2,
   "id": "56861b3e-1df1-4d18-8835-83ca76cde201",
   "metadata": {},
   "outputs": [
    {
     "name": "stdout",
     "output_type": "stream",
     "text": [
      "'data.frame':\t5190 obs. of  13 variables:\n",
      " $ Sex     : int  1 1 0 0 0 1 1 1 1 0 ...\n",
      " $ Age     : num  0.19 0.19 0.19 0.19 0.19 ...\n",
      " $ Agesq   : num  0.0361 0.0361 0.0361 0.0361 0.0361 ...\n",
      " $ Income  : num  0.55 0.45 0.9 0.15 0.45 ...\n",
      " $ Levyplus: int  1 1 0 0 0 0 0 0 1 1 ...\n",
      " $ Freepoor: int  0 0 0 0 0 0 0 0 0 0 ...\n",
      " $ Freerepa: int  0 0 0 0 0 0 0 0 0 0 ...\n",
      " $ Illness : int  1 1 3 1 2 5 4 3 2 1 ...\n",
      " $ Actdays : int  4 2 0 0 5 1 0 0 0 0 ...\n",
      " $ Hscore  : int  1 1 0 0 1 9 2 6 5 0 ...\n",
      " $ Chcond1 : int  0 0 0 0 1 1 0 0 0 0 ...\n",
      " $ Chcond2 : int  0 0 0 0 0 0 0 0 0 0 ...\n",
      " $ Dvisits : int  1 1 1 1 1 1 1 1 1 1 ...\n"
     ]
    }
   ],
   "source": [
    "# Variables 14-20 are not used in this study\n",
    "Docvis<-Docvis[,1:13]\n",
    "str(Docvis)"
   ]
  },
  {
   "cell_type": "code",
   "execution_count": 3,
   "id": "3e693ad4-1fec-45cd-8b3f-067d6dd1b2ee",
   "metadata": {},
   "outputs": [
    {
     "name": "stdout",
     "output_type": "stream",
     "text": [
      " int [1:5190] 1 1 1 1 1 1 1 1 1 1 ...\n"
     ]
    },
    {
     "data": {
      "text/plain": [
       "   Min. 1st Qu.  Median    Mean 3rd Qu.    Max. \n",
       " 0.0000  0.0000  0.0000  0.3017  0.0000  9.0000 "
      ]
     },
     "metadata": {},
     "output_type": "display_data"
    }
   ],
   "source": [
    "Dvisits<-Docvis$Dvisits\n",
    "str(Dvisits)\n",
    "summary(Dvisits)"
   ]
  },
  {
   "cell_type": "code",
   "execution_count": 4,
   "id": "a5d14af6-49d1-4396-b21a-5cc4f41157d5",
   "metadata": {},
   "outputs": [
    {
     "data": {
      "text/html": [
       "5190"
      ],
      "text/latex": [
       "5190"
      ],
      "text/markdown": [
       "5190"
      ],
      "text/plain": [
       "[1] 5190"
      ]
     },
     "metadata": {},
     "output_type": "display_data"
    },
    {
     "data": {
      "text/html": [
       "<table class=\"dataframe\">\n",
       "<caption>A matrix: 3 × 10 of type dbl</caption>\n",
       "<tbody>\n",
       "\t<tr><th scope=row>Count</th><td>   0.000</td><td>  1.000</td><td>  2.000</td><td>3e+00</td><td> 4.000</td><td>5.000</td><td> 6.000</td><td> 7.000</td><td>8.000</td><td>9</td></tr>\n",
       "\t<tr><th scope=row>Freq</th><td>4141.000</td><td>782.000</td><td>174.000</td><td>3e+01</td><td>24.000</td><td>9.000</td><td>12.000</td><td>12.000</td><td>5.000</td><td>1</td></tr>\n",
       "\t<tr><th scope=row>Rel.freq. f</th><td>   0.798</td><td>  0.151</td><td>  0.034</td><td>6e-03</td><td> 0.005</td><td>0.002</td><td> 0.002</td><td> 0.002</td><td>0.001</td><td>0</td></tr>\n",
       "</tbody>\n",
       "</table>\n"
      ],
      "text/latex": [
       "A matrix: 3 × 10 of type dbl\n",
       "\\begin{tabular}{r|llllllllll}\n",
       "\tCount &    0.000 &   1.000 &   2.000 & 3e+00 &  4.000 & 5.000 &  6.000 &  7.000 & 8.000 & 9\\\\\n",
       "\tFreq & 4141.000 & 782.000 & 174.000 & 3e+01 & 24.000 & 9.000 & 12.000 & 12.000 & 5.000 & 1\\\\\n",
       "\tRel.freq. f &    0.798 &   0.151 &   0.034 & 6e-03 &  0.005 & 0.002 &  0.002 &  0.002 & 0.001 & 0\\\\\n",
       "\\end{tabular}\n"
      ],
      "text/markdown": [
       "\n",
       "A matrix: 3 × 10 of type dbl\n",
       "\n",
       "| Count |    0.000 |   1.000 |   2.000 | 3e+00 |  4.000 | 5.000 |  6.000 |  7.000 | 8.000 | 9 |\n",
       "| Freq | 4141.000 | 782.000 | 174.000 | 3e+01 | 24.000 | 9.000 | 12.000 | 12.000 | 5.000 | 1 |\n",
       "| Rel.freq. f |    0.798 |   0.151 |   0.034 | 6e-03 |  0.005 | 0.002 |  0.002 |  0.002 | 0.001 | 0 |\n",
       "\n"
      ],
      "text/plain": [
       "            [,1]     [,2]    [,3]    [,4]  [,5]   [,6]  [,7]   [,8]   [,9] \n",
       "Count          0.000   1.000   2.000 3e+00  4.000 5.000  6.000  7.000 8.000\n",
       "Freq        4141.000 782.000 174.000 3e+01 24.000 9.000 12.000 12.000 5.000\n",
       "Rel.freq. f    0.798   0.151   0.034 6e-03  0.005 0.002  0.002  0.002 0.001\n",
       "            [,10]\n",
       "Count       9    \n",
       "Freq        1    \n",
       "Rel.freq. f 0    "
      ]
     },
     "metadata": {},
     "output_type": "display_data"
    }
   ],
   "source": [
    "Tvisits<-tabulate(Dvisits+1)\n",
    "sum(Tvisits)\n",
    "fvisits<-Tvisits/sum(Tvisits)\n",
    "Tf<-rbind(Count=0:9,Freq=Tvisits,\"Rel.freq. f\"=round(fvisits,3))\n",
    "Tf"
   ]
  },
  {
   "cell_type": "code",
   "execution_count": 5,
   "id": "c90ae655-694d-4462-9a18-a7b5c4f4a7d2",
   "metadata": {},
   "outputs": [
    {
     "data": {
      "image/png": "[encoded data removed]",
      "text/plain": [
       "plot without title"
      ]
     },
     "metadata": {
      "image/png": {
       "height": 420,
       "width": 420
      }
     },
     "output_type": "display_data"
    }
   ],
   "source": [
    "options(repr.plot.width=7,repr.plot.height=7)\n",
    "matplot(x=0:9,y=fvisits,type=\"h\",col=\"LightGreen\",lwd=15,\n",
    "       xlab=\"Num. visits\", ylab=\"Proportion\")"
   ]
  },
  {
   "cell_type": "code",
   "execution_count": 6,
   "id": "44afb9bb-b757-4ae3-a94f-cb0acbd8c36b",
   "metadata": {},
   "outputs": [
    {
     "data": {
      "text/html": [
       "0.302"
      ],
      "text/latex": [
       "0.302"
      ],
      "text/markdown": [
       "0.302"
      ],
      "text/plain": [
       "[1] 0.302"
      ]
     },
     "metadata": {},
     "output_type": "display_data"
    },
    {
     "data": {
      "text/html": [
       "0.637"
      ],
      "text/latex": [
       "0.637"
      ],
      "text/markdown": [
       "0.637"
      ],
      "text/plain": [
       "[1] 0.637"
      ]
     },
     "metadata": {},
     "output_type": "display_data"
    },
    {
     "data": {
      "text/html": [
       "2.111"
      ],
      "text/latex": [
       "2.111"
      ],
      "text/markdown": [
       "2.111"
      ],
      "text/plain": [
       "[1] 2.111"
      ]
     },
     "metadata": {},
     "output_type": "display_data"
    }
   ],
   "source": [
    "round(mean(Dvisits),3)\n",
    "round(var(Dvisits),3)\n",
    "round(var(Dvisits)/mean(Dvisits),3)"
   ]
  },
  {
   "cell_type": "markdown",
   "id": "3b01cac9-c4c3-4f73-98f2-98b5c4044742",
   "metadata": {},
   "source": [
    "The variance is larger than the mean but not so large as to warrant an overdisperse classification."
   ]
  },
  {
   "cell_type": "markdown",
   "id": "c8223928-ac80-4fa1-9c61-0bbf8b13bc5f",
   "metadata": {},
   "source": [
    "The expectation and variance of  $Y\\sim\\negbindist(r,p)$ are:\n",
    "\n",
    "$$\n",
    "    \\mskip-100mu\n",
    "    \\operatorname{E}(Y)=\\dfrac{r\\cdot (1-p)}{p},\\mskip50mu\\operatorname{var}(Y)=\\dfrac{r\\cdot (1-p)}{p^{2}}.\n",
    "$$\n",
    "\n"
   ]
  },
  {
   "cell_type": "markdown",
   "id": "38ec10e9-172a-4fb6-b934-2c9728697bcc",
   "metadata": {},
   "source": [
    "An alternative parameterization is to use $(\\mu,\\theta)$ instead of $(p,r)$ where $\\mu=\\operatorname{E}(Y)=\\dfrac{r\\cdot (1-p)}{p}$  and $\\theta=r$.\n",
    "\n",
    "With this parameterization:\n",
    "\n",
    "$$\n",
    "    \\mskip-100mu\n",
    "    \\operatorname{E}(Y)=\\mu,\\mskip50mu\\operatorname{var}(Y)=\\mu+\\dfrac{\\mu^{2}}{\\theta}.\n",
    "$$"
   ]
  },
  {
   "cell_type": "markdown",
   "id": "15574d26-ea96-4fad-b54d-8071b3256050",
   "metadata": {},
   "source": [
    "A rough estimate of the $\\theta$ parameter in a Negative Binomial is:\n",
    "\n",
    "$$\n",
    "    v\\equiv\\var(Y)=\\mu+\\dfrac{\\mu^{2}}{\\theta}=\\mu\\cdot\\left(1+\\dfrac{\\mu}{\\theta}\\right),\n",
    "    \\mskip40mu \\hat{\\theta}=\\dfrac{\\mu}{v/\\mu-1}.\n",
    "$$\n",
    "\n",
    "In this case:"
   ]
  },
  {
   "cell_type": "code",
   "execution_count": 7,
   "id": "aa1da61f-340f-40e2-9316-58601c963792",
   "metadata": {},
   "outputs": [
    {
     "data": {
      "text/html": [
       "0.272"
      ],
      "text/latex": [
       "0.272"
      ],
      "text/markdown": [
       "0.272"
      ],
      "text/plain": [
       "[1] 0.272"
      ]
     },
     "metadata": {},
     "output_type": "display_data"
    }
   ],
   "source": [
    "theta.hat<-mean(Dvisits)/(var(Dvisits)/mean(Dvisits)-1)\n",
    "round(theta.hat,3)"
   ]
  },
  {
   "cell_type": "markdown",
   "id": "68b08188-dbbc-4c96-93b6-59d4025bc7c4",
   "metadata": {},
   "source": [
    "#### Predictors description"
   ]
  },
  {
   "cell_type": "code",
   "execution_count": 8,
   "id": "6ccc06bc-6d29-4f6f-a4c6-64eabf7aa777",
   "metadata": {},
   "outputs": [
    {
     "data": {
      "text/plain": [
       "      Sex              Age             Agesq            Income      \n",
       " Min.   :0.0000   Min.   :0.1900   Min.   :0.0361   Min.   :0.0000  \n",
       " 1st Qu.:0.0000   1st Qu.:0.2200   1st Qu.:0.0484   1st Qu.:0.2500  \n",
       " Median :1.0000   Median :0.3200   Median :0.1024   Median :0.5500  \n",
       " Mean   :0.5206   Mean   :0.4064   Mean   :0.2071   Mean   :0.5832  \n",
       " 3rd Qu.:1.0000   3rd Qu.:0.6200   3rd Qu.:0.3844   3rd Qu.:0.9000  \n",
       " Max.   :1.0000   Max.   :0.7200   Max.   :0.5184   Max.   :1.5000  \n",
       "    Levyplus         Freepoor          Freerepa         Illness     \n",
       " Min.   :0.0000   Min.   :0.00000   Min.   :0.0000   Min.   :0.000  \n",
       " 1st Qu.:0.0000   1st Qu.:0.00000   1st Qu.:0.0000   1st Qu.:0.000  \n",
       " Median :0.0000   Median :0.00000   Median :0.0000   Median :1.000  \n",
       " Mean   :0.4428   Mean   :0.04277   Mean   :0.2102   Mean   :1.432  \n",
       " 3rd Qu.:1.0000   3rd Qu.:0.00000   3rd Qu.:0.0000   3rd Qu.:2.000  \n",
       " Max.   :1.0000   Max.   :1.00000   Max.   :1.0000   Max.   :5.000  \n",
       "    Actdays            Hscore          Chcond1          Chcond2      \n",
       " Min.   : 0.0000   Min.   : 0.000   Min.   :0.0000   Min.   :0.0000  \n",
       " 1st Qu.: 0.0000   1st Qu.: 0.000   1st Qu.:0.0000   1st Qu.:0.0000  \n",
       " Median : 0.0000   Median : 0.000   Median :0.0000   Median :0.0000  \n",
       " Mean   : 0.8619   Mean   : 1.218   Mean   :0.4031   Mean   :0.1166  \n",
       " 3rd Qu.: 0.0000   3rd Qu.: 2.000   3rd Qu.:1.0000   3rd Qu.:0.0000  \n",
       " Max.   :14.0000   Max.   :12.000   Max.   :1.0000   Max.   :1.0000  "
      ]
     },
     "metadata": {},
     "output_type": "display_data"
    }
   ],
   "source": [
    "summary(Docvis[,1:12])"
   ]
  },
  {
   "cell_type": "code",
   "execution_count": 9,
   "id": "76a81270-1edb-4284-b6f3-1e5e2ae80967",
   "metadata": {},
   "outputs": [
    {
     "data": {
      "image/png": "[encoded data removed]",
      "text/plain": [
       "plot without title"
      ]
     },
     "metadata": {
      "image/png": {
       "height": 420,
       "width": 420
      }
     },
     "output_type": "display_data"
    }
   ],
   "source": [
    "Num.vars<-c(2,3,4,8,9,10)\n",
    "Bin.vars<-c(1,5,6,7,11,12)\n",
    "options(repr.plot.width=7,repr.plot.height=7)\n",
    "boxplot(Docvis[,Num.vars],col=\"LightGreen\")"
   ]
  },
  {
   "cell_type": "code",
   "execution_count": 10,
   "id": "8efa7c15-90fc-44f5-8f24-0ccd61736db2",
   "metadata": {},
   "outputs": [
    {
     "data": {
      "text/html": [
       "<table class=\"dataframe\">\n",
       "<caption>A matrix: 6 × 6 of type dbl</caption>\n",
       "<thead>\n",
       "\t<tr><th></th><th scope=col>Age</th><th scope=col>Agesq</th><th scope=col>Income</th><th scope=col>Illness</th><th scope=col>Actdays</th><th scope=col>Hscore</th></tr>\n",
       "</thead>\n",
       "<tbody>\n",
       "\t<tr><th scope=row>Age</th><td> 1.00</td><td> 0.99</td><td>-0.27</td><td> 0.20</td><td> 0.09</td><td> 0.02</td></tr>\n",
       "\t<tr><th scope=row>Agesq</th><td> 0.99</td><td> 1.00</td><td>-0.32</td><td> 0.21</td><td> 0.09</td><td> 0.02</td></tr>\n",
       "\t<tr><th scope=row>Income</th><td>-0.27</td><td>-0.32</td><td> 1.00</td><td>-0.15</td><td>-0.05</td><td>-0.09</td></tr>\n",
       "\t<tr><th scope=row>Illness</th><td> 0.20</td><td> 0.21</td><td>-0.15</td><td> 1.00</td><td> 0.22</td><td> 0.36</td></tr>\n",
       "\t<tr><th scope=row>Actdays</th><td> 0.09</td><td> 0.09</td><td>-0.05</td><td> 0.22</td><td> 1.00</td><td> 0.28</td></tr>\n",
       "\t<tr><th scope=row>Hscore</th><td> 0.02</td><td> 0.02</td><td>-0.09</td><td> 0.36</td><td> 0.28</td><td> 1.00</td></tr>\n",
       "</tbody>\n",
       "</table>\n"
      ],
      "text/latex": [
       "A matrix: 6 × 6 of type dbl\n",
       "\\begin{tabular}{r|llllll}\n",
       "  & Age & Agesq & Income & Illness & Actdays & Hscore\\\\\n",
       "\\hline\n",
       "\tAge &  1.00 &  0.99 & -0.27 &  0.20 &  0.09 &  0.02\\\\\n",
       "\tAgesq &  0.99 &  1.00 & -0.32 &  0.21 &  0.09 &  0.02\\\\\n",
       "\tIncome & -0.27 & -0.32 &  1.00 & -0.15 & -0.05 & -0.09\\\\\n",
       "\tIllness &  0.20 &  0.21 & -0.15 &  1.00 &  0.22 &  0.36\\\\\n",
       "\tActdays &  0.09 &  0.09 & -0.05 &  0.22 &  1.00 &  0.28\\\\\n",
       "\tHscore &  0.02 &  0.02 & -0.09 &  0.36 &  0.28 &  1.00\\\\\n",
       "\\end{tabular}\n"
      ],
      "text/markdown": [
       "\n",
       "A matrix: 6 × 6 of type dbl\n",
       "\n",
       "| <!--/--> | Age | Agesq | Income | Illness | Actdays | Hscore |\n",
       "|---|---|---|---|---|---|---|\n",
       "| Age |  1.00 |  0.99 | -0.27 |  0.20 |  0.09 |  0.02 |\n",
       "| Agesq |  0.99 |  1.00 | -0.32 |  0.21 |  0.09 |  0.02 |\n",
       "| Income | -0.27 | -0.32 |  1.00 | -0.15 | -0.05 | -0.09 |\n",
       "| Illness |  0.20 |  0.21 | -0.15 |  1.00 |  0.22 |  0.36 |\n",
       "| Actdays |  0.09 |  0.09 | -0.05 |  0.22 |  1.00 |  0.28 |\n",
       "| Hscore |  0.02 |  0.02 | -0.09 |  0.36 |  0.28 |  1.00 |\n",
       "\n"
      ],
      "text/plain": [
       "        Age   Agesq Income Illness Actdays Hscore\n",
       "Age      1.00  0.99 -0.27   0.20    0.09    0.02 \n",
       "Agesq    0.99  1.00 -0.32   0.21    0.09    0.02 \n",
       "Income  -0.27 -0.32  1.00  -0.15   -0.05   -0.09 \n",
       "Illness  0.20  0.21 -0.15   1.00    0.22    0.36 \n",
       "Actdays  0.09  0.09 -0.05   0.22    1.00    0.28 \n",
       "Hscore   0.02  0.02 -0.09   0.36    0.28    1.00 "
      ]
     },
     "metadata": {},
     "output_type": "display_data"
    }
   ],
   "source": [
    "round(cor(Docvis[,Num.vars]),2)"
   ]
  },
  {
   "cell_type": "code",
   "execution_count": 11,
   "id": "4fb27958-fac5-4be4-b7c5-37b3ab65d7b6",
   "metadata": {},
   "outputs": [
    {
     "data": {
      "image/png": "[encoded data removed]",
      "text/plain": [
       "plot without title"
      ]
     },
     "metadata": {
      "image/png": {
       "height": 600,
       "width": 600
      }
     },
     "output_type": "display_data"
    }
   ],
   "source": [
    "options(repr.plot.width=10,repr.plot.height=10)\n",
    "pairs(Docvis[,Num.vars],col=\"LightGreen\")"
   ]
  },
  {
   "cell_type": "markdown",
   "id": "9ef2c44a-1b7c-439e-b05c-6de29154ab87",
   "metadata": {},
   "source": [
    "# 01 - Frequentist Poisson regression with `glm`"
   ]
  },
  {
   "cell_type": "markdown",
   "id": "040bdd88-f272-4230-bd69-4337e61f692a",
   "metadata": {},
   "source": [
    "The default link function for the `poisson`  family is `log()`. That is, the model is\n",
    "\n",
    "$$\n",
    "    \\log(\\mu_{i})=\\eta_{i},\\mskip40mu \\eta_{i}=\\beta_{0}+x_{i}\\cdot \\beta,\\mskip40mu 1\\leq i\\leq n.\n",
    "$$"
   ]
  },
  {
   "cell_type": "code",
   "execution_count": 12,
   "id": "f3e850f5-adfd-4658-9240-14aeb60396c6",
   "metadata": {},
   "outputs": [
    {
     "data": {
      "text/plain": [
       "\n",
       "Call:\n",
       "glm(formula = Dvisits ~ ., family = poisson, data = Docvis)\n",
       "\n",
       "Deviance Residuals: \n",
       "    Min       1Q   Median       3Q      Max  \n",
       "-2.9170  -0.6862  -0.5743  -0.4839   5.7005  \n",
       "\n",
       "Coefficients:\n",
       "             Estimate Std. Error z value Pr(>|z|)    \n",
       "(Intercept) -2.223848   0.189816 -11.716   <2e-16 ***\n",
       "Sex          0.156882   0.056137   2.795   0.0052 ** \n",
       "Age          1.056299   1.000781   1.055   0.2912    \n",
       "Agesq       -0.848704   1.077785  -0.787   0.4310    \n",
       "Income      -0.205321   0.088379  -2.323   0.0202 *  \n",
       "Levyplus     0.123185   0.071640   1.720   0.0855 .  \n",
       "Freepoor    -0.440061   0.179811  -2.447   0.0144 *  \n",
       "Freerepa     0.079798   0.092060   0.867   0.3860    \n",
       "Illness      0.186948   0.018281  10.227   <2e-16 ***\n",
       "Actdays      0.126846   0.005034  25.198   <2e-16 ***\n",
       "Hscore       0.030081   0.010099   2.979   0.0029 ** \n",
       "Chcond1      0.114085   0.066640   1.712   0.0869 .  \n",
       "Chcond2      0.141158   0.083145   1.698   0.0896 .  \n",
       "---\n",
       "Signif. codes:  0 '***' 0.001 '**' 0.01 '*' 0.05 '.' 0.1 ' ' 1\n",
       "\n",
       "(Dispersion parameter for poisson family taken to be 1)\n",
       "\n",
       "    Null deviance: 5634.8  on 5189  degrees of freedom\n",
       "Residual deviance: 4379.5  on 5177  degrees of freedom\n",
       "AIC: 6737.1\n",
       "\n",
       "Number of Fisher Scoring iterations: 6\n"
      ]
     },
     "metadata": {},
     "output_type": "display_data"
    }
   ],
   "source": [
    "Docvis.Poisson.glm.01<-glm(Dvisits~.,family=poisson,data=Docvis)\n",
    "summary(Docvis.Poisson.glm.01)"
   ]
  },
  {
   "cell_type": "markdown",
   "id": "39b6dba6-4860-4889-817a-ddaa377fed7a",
   "metadata": {
    "tags": []
   },
   "source": [
    "### Considering overdispersion"
   ]
  },
  {
   "cell_type": "markdown",
   "id": "ce474f7a-cb5a-4e7f-a5a7-0ecc8973a378",
   "metadata": {},
   "source": [
    "There is a formal test of overdispersion in the `AER` package.\n",
    "\n",
    "This is the companion of the book by Christian Kleiber and Achim Zeileis (2008), _Applied Econometrics with R._ Springer."
   ]
  },
  {
   "cell_type": "code",
   "execution_count": 13,
   "id": "bdbd946a-4bea-495d-9ab6-c6cab1e567f7",
   "metadata": {
    "tags": []
   },
   "outputs": [
    {
     "name": "stderr",
     "output_type": "stream",
     "text": [
      "Loading required package: AER\n",
      "\n",
      "Loading required package: car\n",
      "\n",
      "Loading required package: carData\n",
      "\n",
      "Loading required package: lmtest\n",
      "\n",
      "Loading required package: zoo\n",
      "\n",
      "\n",
      "Attaching package: 'zoo'\n",
      "\n",
      "\n",
      "The following objects are masked from 'package:base':\n",
      "\n",
      "    as.Date, as.Date.numeric\n",
      "\n",
      "\n",
      "Loading required package: sandwich\n",
      "\n",
      "Loading required package: survival\n",
      "\n"
     ]
    }
   ],
   "source": [
    "#install.packages(\"AER\",dependencies=TRUE,repos=\"https://cloud.r-project.org\")\n",
    "require(AER)"
   ]
  },
  {
   "cell_type": "code",
   "execution_count": 14,
   "id": "4ba3bac3-3539-4ba7-ac34-4a83af01737a",
   "metadata": {},
   "outputs": [
    {
     "data": {
      "text/plain": [
       "\n",
       "\tOverdispersion test\n",
       "\n",
       "data:  Docvis.Poisson.glm.01\n",
       "z = 6.5428, p-value = 3.019e-11\n",
       "alternative hypothesis: true dispersion is greater than 1\n",
       "sample estimates:\n",
       "dispersion \n",
       "  1.414427 \n"
      ]
     },
     "metadata": {},
     "output_type": "display_data"
    }
   ],
   "source": [
    "dispersiontest(Docvis.Poisson.glm.01)"
   ]
  },
  {
   "cell_type": "markdown",
   "id": "7439f2df-9b18-454e-8f06-ba4f4dbaaae9",
   "metadata": {},
   "source": [
    "### `quasipoisson` family in `glm`"
   ]
  },
  {
   "cell_type": "markdown",
   "id": "867fa931-68fe-4d4a-b142-e4d006ba084e",
   "metadata": {},
   "source": [
    "There is a `quasipoisson` family in `glm` to allow for some overdispersion.   \n",
    "The default link is still `log()`.\n",
    "\n",
    "The estimation procedure does not require the pdf; only the variance as a function of the mean,   \n",
    "here it is $v=\\mu\\cdot \\alpha$, where $\\alpha$ has to be estimated.\n",
    "On the flip side, then there is no likelihood and quantities such as `AIC` cannot be computed."
   ]
  },
  {
   "cell_type": "code",
   "execution_count": 15,
   "id": "211f764f-a3a7-4b33-b259-a10508b6ce01",
   "metadata": {},
   "outputs": [
    {
     "data": {
      "text/plain": [
       "\n",
       "Call:\n",
       "glm(formula = Dvisits ~ ., family = quasipoisson, data = Docvis)\n",
       "\n",
       "Deviance Residuals: \n",
       "    Min       1Q   Median       3Q      Max  \n",
       "-2.9170  -0.6862  -0.5743  -0.4839   5.7005  \n",
       "\n",
       "Coefficients:\n",
       "             Estimate Std. Error t value Pr(>|t|)    \n",
       "(Intercept) -2.223848   0.218725 -10.167  < 2e-16 ***\n",
       "Sex          0.156882   0.064686   2.425  0.01533 *  \n",
       "Age          1.056299   1.153198   0.916  0.35972    \n",
       "Agesq       -0.848704   1.241930  -0.683  0.49440    \n",
       "Income      -0.205321   0.101839  -2.016  0.04384 *  \n",
       "Levyplus     0.123185   0.082551   1.492  0.13570    \n",
       "Freepoor    -0.440061   0.207197  -2.124  0.03373 *  \n",
       "Freerepa     0.079798   0.106081   0.752  0.45194    \n",
       "Illness      0.186948   0.021065   8.875  < 2e-16 ***\n",
       "Actdays      0.126846   0.005801  21.868  < 2e-16 ***\n",
       "Hscore       0.030081   0.011637   2.585  0.00977 ** \n",
       "Chcond1      0.114085   0.076789   1.486  0.13742    \n",
       "Chcond2      0.141158   0.095808   1.473  0.14072    \n",
       "---\n",
       "Signif. codes:  0 '***' 0.001 '**' 0.01 '*' 0.05 '.' 0.1 ' ' 1\n",
       "\n",
       "(Dispersion parameter for quasipoisson family taken to be 1.327793)\n",
       "\n",
       "    Null deviance: 5634.8  on 5189  degrees of freedom\n",
       "Residual deviance: 4379.5  on 5177  degrees of freedom\n",
       "AIC: NA\n",
       "\n",
       "Number of Fisher Scoring iterations: 6\n"
      ]
     },
     "metadata": {},
     "output_type": "display_data"
    }
   ],
   "source": [
    "Docvis.Poisson.glm.02<-glm(Dvisits~.,family=quasipoisson,data=Docvis)\n",
    "summary(Docvis.Poisson.glm.02)"
   ]
  },
  {
   "cell_type": "markdown",
   "id": "160cd0c5-0264-47a3-8caf-38aaadfc418c",
   "metadata": {},
   "source": [
    "# 02 - Treating overdispersion with a $\\negbindist$ regression"
   ]
  },
  {
   "cell_type": "markdown",
   "id": "d5d11377-4bc4-48a0-a7be-7c90f68e745a",
   "metadata": {},
   "source": [
    "Another possibility is to use a regression model with a $\\negbindist$ response.\n",
    "\n",
    "The `glm()` function does not have this possibility, but in the `MASS` package there is a function for this model"
   ]
  },
  {
   "cell_type": "code",
   "execution_count": 16,
   "id": "d2ca80f9-7bdd-4f87-8038-7affcc29dd7a",
   "metadata": {},
   "outputs": [
    {
     "name": "stderr",
     "output_type": "stream",
     "text": [
      "Loading required package: MASS\n",
      "\n"
     ]
    }
   ],
   "source": [
    "require(MASS)"
   ]
  },
  {
   "cell_type": "code",
   "execution_count": 17,
   "id": "7438fc15-4113-42c6-9629-ab824d810584",
   "metadata": {},
   "outputs": [
    {
     "data": {
      "text/plain": [
       "\n",
       "Call:\n",
       "glm.nb(formula = Dvisits ~ ., data = Docvis, init.theta = 0.9284725349, \n",
       "    link = log)\n",
       "\n",
       "Deviance Residuals: \n",
       "    Min       1Q   Median       3Q      Max  \n",
       "-1.9711  -0.6354  -0.5277  -0.4408   4.0071  \n",
       "\n",
       "Coefficients:\n",
       "             Estimate Std. Error z value Pr(>|z|)    \n",
       "(Intercept) -2.190007   0.233592  -9.375  < 2e-16 ***\n",
       "Sex          0.216644   0.069697   3.108  0.00188 ** \n",
       "Age         -0.216158   1.266701  -0.171  0.86450    \n",
       "Agesq        0.609158   1.383245   0.440  0.65966    \n",
       "Income      -0.142202   0.108417  -1.312  0.18965    \n",
       "Levyplus     0.118064   0.085806   1.376  0.16884    \n",
       "Freepoor    -0.496611   0.210803  -2.356  0.01848 *  \n",
       "Freerepa     0.144982   0.115970   1.250  0.21124    \n",
       "Illness      0.214341   0.023579   9.090  < 2e-16 ***\n",
       "Actdays      0.143754   0.007311  19.662  < 2e-16 ***\n",
       "Hscore       0.038060   0.013654   2.788  0.00531 ** \n",
       "Chcond1      0.099355   0.079303   1.253  0.21026    \n",
       "Chcond2      0.190327   0.104357   1.824  0.06818 .  \n",
       "---\n",
       "Signif. codes:  0 '***' 0.001 '**' 0.01 '*' 0.05 '.' 0.1 ' ' 1\n",
       "\n",
       "(Dispersion parameter for Negative Binomial(0.9285) family taken to be 1)\n",
       "\n",
       "    Null deviance: 3928.7  on 5189  degrees of freedom\n",
       "Residual deviance: 3028.3  on 5177  degrees of freedom\n",
       "AIC: 6425.5\n",
       "\n",
       "Number of Fisher Scoring iterations: 1\n",
       "\n",
       "\n",
       "              Theta:  0.9285 \n",
       "          Std. Err.:  0.0864 \n",
       "\n",
       " 2 x log-likelihood:  -6397.4880 "
      ]
     },
     "metadata": {},
     "output_type": "display_data"
    }
   ],
   "source": [
    "Docvis.NegBin.glm.01<-glm.nb(Dvisits~.,data=Docvis)\n",
    "summary(Docvis.NegBin.glm.01)"
   ]
  },
  {
   "cell_type": "code",
   "execution_count": 18,
   "id": "22e125e7-e264-40ff-a07e-cbb630534e0b",
   "metadata": {
    "tags": []
   },
   "outputs": [],
   "source": [
    "#install.packages(\"COUNT\",dependencies=TRUE,repos=\"https://cloud.r-project.org\")\n",
    "#require(COUNT)   \n",
    "# not needed for the moment"
   ]
  },
  {
   "cell_type": "markdown",
   "id": "403ba5ef-0360-4199-98f0-c85b8b2751b9",
   "metadata": {},
   "source": [
    "# 06 - Bayesian Poisson regression with Stan"
   ]
  },
  {
   "cell_type": "code",
   "execution_count": 19,
   "id": "1de6303f-d200-4b27-b677-4fe0ec1866ce",
   "metadata": {},
   "outputs": [
    {
     "name": "stderr",
     "output_type": "stream",
     "text": [
      "Loading required package: rstan\n",
      "\n",
      "Loading required package: StanHeaders\n",
      "\n",
      "Loading required package: ggplot2\n",
      "\n",
      "rstan (Version 2.21.2, GitRev: 2e1f913d3ca3)\n",
      "\n",
      "For execution on a local, multicore CPU with excess RAM we recommend calling\n",
      "options(mc.cores = parallel::detectCores()).\n",
      "To avoid recompilation of unchanged Stan programs, we recommend calling\n",
      "rstan_options(auto_write = TRUE)\n",
      "\n",
      "Do not specify '-march=native' in 'LOCAL_CPPFLAGS' or a Makevars file\n",
      "\n"
     ]
    }
   ],
   "source": [
    "#install.packages(\"rstan\",dependencies=TRUE,repos= \"https://cloud.r-project.org\")\n",
    "options(mc.cores = parallel::detectCores())\n",
    "require(rstan)\n",
    "rstan_options(auto_write = TRUE)\n",
    "Sys.setenv(LOCAL_CPPFLAGS = '-march=corei7 -mtune=corei7')"
   ]
  },
  {
   "cell_type": "code",
   "execution_count": 20,
   "id": "37c24418-aa08-432c-99b7-3d558a787a0a",
   "metadata": {},
   "outputs": [
    {
     "name": "stdout",
     "output_type": "stream",
     "text": [
      " num [1:5190, 1:12] 1 1 0 0 0 1 1 1 1 0 ...\n",
      " - attr(*, \"dimnames\")=List of 2\n",
      "  ..$ : chr [1:5190] \"1\" \"2\" \"3\" \"4\" ...\n",
      "  ..$ : chr [1:12] \"Sex\" \"Age\" \"Agesq\" \"Income\" ...\n"
     ]
    },
    {
     "data": {
      "text/html": [
       "<style>\n",
       ".list-inline {list-style: none; margin:0; padding: 0}\n",
       ".list-inline>li {display: inline-block}\n",
       ".list-inline>li:not(:last-child)::after {content: \"\\00b7\"; padding: 0 .5ex}\n",
       "</style>\n",
       "<ol class=list-inline><li>5190</li><li>12</li></ol>\n"
      ],
      "text/latex": [
       "\\begin{enumerate*}\n",
       "\\item 5190\n",
       "\\item 12\n",
       "\\end{enumerate*}\n"
      ],
      "text/markdown": [
       "1. 5190\n",
       "2. 12\n",
       "\n",
       "\n"
      ],
      "text/plain": [
       "[1] 5190   12"
      ]
     },
     "metadata": {},
     "output_type": "display_data"
    }
   ],
   "source": [
    "X <- model.matrix(Dvisits~.,data=Docvis)[,-1] # Discard the intercept column. We will enter b0\n",
    "k<- ncol(X) # number of regression coefficients\n",
    "n<-nrow(X)  # number of observations\n",
    "str(X)\n",
    "c(n,k)"
   ]
  },
  {
   "cell_type": "code",
   "execution_count": 21,
   "id": "2aad5a87-2607-4d34-8d0c-5f1accb64100",
   "metadata": {},
   "outputs": [],
   "source": [
    "Docvis.Stan.01.model.string<-\"\n",
    "    data{\n",
    "       // Define variables in data\n",
    "       int<lower=0>     n;\n",
    "       int<lower=0>     k;\n",
    "       matrix[n,k]      X;\n",
    "       int            y[n]; \n",
    "       }\n",
    " \n",
    "    parameters{\n",
    "        real        b0;\n",
    "        vector[k]   b;\n",
    "        }\n",
    "\n",
    "    transformed parameters{\n",
    "        vector[n]      eta;          // linear predictor\n",
    "        vector[n]      mu;\n",
    "    \n",
    "        eta = b0+X*b;\n",
    "        mu  = exp(eta); // Mean\n",
    "        }\n",
    " \n",
    "    model {\n",
    "        y ~ poisson(mu); // Likelihood \n",
    "        }\n",
    "\n",
    "\"\n",
    "cat(Docvis.Stan.01.model.string,file=\"Docvis.Stan.01.stan\")"
   ]
  },
  {
   "cell_type": "code",
   "execution_count": 22,
   "id": "e6efa4eb-5d0e-4a1e-a1c3-faa714e51202",
   "metadata": {},
   "outputs": [],
   "source": [
    "Docvis.Stan.01.data.list<-list(X=X,y=Docvis$Dvisits,n=n,k=k)"
   ]
  },
  {
   "cell_type": "code",
   "execution_count": 23,
   "id": "39c6e9b9-95a7-47c6-bd7e-073a35b9864b",
   "metadata": {
    "tags": []
   },
   "outputs": [],
   "source": [
    "Docvis.Stan.01.model<-stan_model(file=\"Docvis.Stan.01.stan\")"
   ]
  },
  {
   "cell_type": "markdown",
   "id": "eb80130b-3bb3-4a6b-87da-d7108aed0022",
   "metadata": {
    "tags": []
   },
   "source": [
    "### Sampling from the Stan model with MCMC _(HMC-NUTS)_"
   ]
  },
  {
   "cell_type": "code",
   "execution_count": 24,
   "id": "1cb027db-24ae-4e2d-bbf9-f6096165d5c4",
   "metadata": {},
   "outputs": [],
   "source": [
    "Docvis.Stan.01.samples<-sampling(Docvis.Stan.01.model, data = Docvis.Stan.01.data.list, \n",
    "    chains = 4, iter = 1500, warmup = 300, thin = 1) \n",
    "# ,control = list(adapt_delta=0.9,max_treedepth = 17)"
   ]
  },
  {
   "cell_type": "markdown",
   "id": "3467f16c-f45c-40aa-ad3f-be70139dc822",
   "metadata": {},
   "source": [
    "Control parameters are adjusted following the directions given in the first version of output"
   ]
  },
  {
   "cell_type": "code",
   "execution_count": 25,
   "id": "f80b3c62-6de3-4d8f-b7a8-fa962a67c924",
   "metadata": {
    "tags": []
   },
   "outputs": [
    {
     "data": {
      "text/html": [
       "<table class=\"dataframe\">\n",
       "<caption>A matrix: 13 × 10 of type dbl</caption>\n",
       "<thead>\n",
       "\t<tr><th></th><th scope=col>mean</th><th scope=col>se_mean</th><th scope=col>sd</th><th scope=col>2.5%</th><th scope=col>25%</th><th scope=col>50%</th><th scope=col>75%</th><th scope=col>97.5%</th><th scope=col>n_eff</th><th scope=col>Rhat</th></tr>\n",
       "</thead>\n",
       "<tbody>\n",
       "\t<tr><th scope=row>b0</th><td>-2.22561104</td><td>3.816329e-03</td><td>0.192097642</td><td>-2.604378999</td><td>-2.35693902</td><td>-2.22474403</td><td>-2.09139908</td><td>-1.85503597</td><td>2533.684</td><td>1.0000313</td></tr>\n",
       "\t<tr><th scope=row>b[1]</th><td> 0.15743512</td><td>7.020955e-04</td><td>0.055625010</td><td> 0.050536930</td><td> 0.11940758</td><td> 0.15672777</td><td> 0.19586389</td><td> 0.26575861</td><td>6276.938</td><td>0.9996679</td></tr>\n",
       "\t<tr><th scope=row>b[2]</th><td> 1.03508319</td><td>2.096002e-02</td><td>1.010543161</td><td>-0.944734926</td><td> 0.34711769</td><td> 1.02117932</td><td> 1.72348739</td><td> 2.98902067</td><td>2324.483</td><td>0.9999733</td></tr>\n",
       "\t<tr><th scope=row>b[3]</th><td>-0.82902893</td><td>2.249400e-02</td><td>1.090069055</td><td>-2.945867730</td><td>-1.56685401</td><td>-0.81786838</td><td>-0.08378146</td><td> 1.31118379</td><td>2348.414</td><td>0.9999947</td></tr>\n",
       "\t<tr><th scope=row>b[4]</th><td>-0.20482245</td><td>1.243306e-03</td><td>0.090460836</td><td>-0.377692917</td><td>-0.26698680</td><td>-0.20540755</td><td>-0.14294589</td><td>-0.03003953</td><td>5293.773</td><td>0.9997405</td></tr>\n",
       "\t<tr><th scope=row>b[5]</th><td> 0.12446424</td><td>1.055164e-03</td><td>0.069238953</td><td>-0.011162443</td><td> 0.07930588</td><td> 0.12369093</td><td> 0.17068112</td><td> 0.26108495</td><td>4305.867</td><td>1.0001466</td></tr>\n",
       "\t<tr><th scope=row>b[6]</th><td>-0.45137152</td><td>2.504053e-03</td><td>0.180848442</td><td>-0.807879365</td><td>-0.57380406</td><td>-0.45032601</td><td>-0.32717047</td><td>-0.10734622</td><td>5216.059</td><td>1.0006320</td></tr>\n",
       "\t<tr><th scope=row>b[7]</th><td> 0.08211454</td><td>1.381571e-03</td><td>0.091195328</td><td>-0.098594475</td><td> 0.02070754</td><td> 0.08198560</td><td> 0.14193800</td><td> 0.26089659</td><td>4357.114</td><td>1.0000402</td></tr>\n",
       "\t<tr><th scope=row>b[8]</th><td> 0.18730945</td><td>2.472385e-04</td><td>0.018012384</td><td> 0.152627933</td><td> 0.17518288</td><td> 0.18723649</td><td> 0.19940522</td><td> 0.22268878</td><td>5307.747</td><td>1.0000967</td></tr>\n",
       "\t<tr><th scope=row>b[9]</th><td> 0.12672391</td><td>5.923868e-05</td><td>0.005070475</td><td> 0.116707401</td><td> 0.12337938</td><td> 0.12676146</td><td> 0.13001948</td><td> 0.13674569</td><td>7326.332</td><td>0.9995503</td></tr>\n",
       "\t<tr><th scope=row>b[10]</th><td> 0.02988523</td><td>1.339132e-04</td><td>0.010257972</td><td> 0.009177129</td><td> 0.02323404</td><td> 0.02997846</td><td> 0.03674895</td><td> 0.04982697</td><td>5867.813</td><td>1.0000959</td></tr>\n",
       "\t<tr><th scope=row>b[11]</th><td> 0.11549464</td><td>9.968538e-04</td><td>0.066875533</td><td>-0.014851331</td><td> 0.06953582</td><td> 0.11562009</td><td> 0.15977427</td><td> 0.24948167</td><td>4500.612</td><td>1.0003839</td></tr>\n",
       "\t<tr><th scope=row>b[12]</th><td> 0.14217900</td><td>1.276209e-03</td><td>0.083503561</td><td>-0.021021818</td><td> 0.08610492</td><td> 0.14264992</td><td> 0.19834802</td><td> 0.30499491</td><td>4281.207</td><td>1.0001779</td></tr>\n",
       "</tbody>\n",
       "</table>\n"
      ],
      "text/latex": [
       "A matrix: 13 × 10 of type dbl\n",
       "\\begin{tabular}{r|llllllllll}\n",
       "  & mean & se\\_mean & sd & 2.5\\% & 25\\% & 50\\% & 75\\% & 97.5\\% & n\\_eff & Rhat\\\\\n",
       "\\hline\n",
       "\tb0 & -2.22561104 & 3.816329e-03 & 0.192097642 & -2.604378999 & -2.35693902 & -2.22474403 & -2.09139908 & -1.85503597 & 2533.684 & 1.0000313\\\\\n",
       "\tb{[}1{]} &  0.15743512 & 7.020955e-04 & 0.055625010 &  0.050536930 &  0.11940758 &  0.15672777 &  0.19586389 &  0.26575861 & 6276.938 & 0.9996679\\\\\n",
       "\tb{[}2{]} &  1.03508319 & 2.096002e-02 & 1.010543161 & -0.944734926 &  0.34711769 &  1.02117932 &  1.72348739 &  2.98902067 & 2324.483 & 0.9999733\\\\\n",
       "\tb{[}3{]} & -0.82902893 & 2.249400e-02 & 1.090069055 & -2.945867730 & -1.56685401 & -0.81786838 & -0.08378146 &  1.31118379 & 2348.414 & 0.9999947\\\\\n",
       "\tb{[}4{]} & -0.20482245 & 1.243306e-03 & 0.090460836 & -0.377692917 & -0.26698680 & -0.20540755 & -0.14294589 & -0.03003953 & 5293.773 & 0.9997405\\\\\n",
       "\tb{[}5{]} &  0.12446424 & 1.055164e-03 & 0.069238953 & -0.011162443 &  0.07930588 &  0.12369093 &  0.17068112 &  0.26108495 & 4305.867 & 1.0001466\\\\\n",
       "\tb{[}6{]} & -0.45137152 & 2.504053e-03 & 0.180848442 & -0.807879365 & -0.57380406 & -0.45032601 & -0.32717047 & -0.10734622 & 5216.059 & 1.0006320\\\\\n",
       "\tb{[}7{]} &  0.08211454 & 1.381571e-03 & 0.091195328 & -0.098594475 &  0.02070754 &  0.08198560 &  0.14193800 &  0.26089659 & 4357.114 & 1.0000402\\\\\n",
       "\tb{[}8{]} &  0.18730945 & 2.472385e-04 & 0.018012384 &  0.152627933 &  0.17518288 &  0.18723649 &  0.19940522 &  0.22268878 & 5307.747 & 1.0000967\\\\\n",
       "\tb{[}9{]} &  0.12672391 & 5.923868e-05 & 0.005070475 &  0.116707401 &  0.12337938 &  0.12676146 &  0.13001948 &  0.13674569 & 7326.332 & 0.9995503\\\\\n",
       "\tb{[}10{]} &  0.02988523 & 1.339132e-04 & 0.010257972 &  0.009177129 &  0.02323404 &  0.02997846 &  0.03674895 &  0.04982697 & 5867.813 & 1.0000959\\\\\n",
       "\tb{[}11{]} &  0.11549464 & 9.968538e-04 & 0.066875533 & -0.014851331 &  0.06953582 &  0.11562009 &  0.15977427 &  0.24948167 & 4500.612 & 1.0003839\\\\\n",
       "\tb{[}12{]} &  0.14217900 & 1.276209e-03 & 0.083503561 & -0.021021818 &  0.08610492 &  0.14264992 &  0.19834802 &  0.30499491 & 4281.207 & 1.0001779\\\\\n",
       "\\end{tabular}\n"
      ],
      "text/markdown": [
       "\n",
       "A matrix: 13 × 10 of type dbl\n",
       "\n",
       "| <!--/--> | mean | se_mean | sd | 2.5% | 25% | 50% | 75% | 97.5% | n_eff | Rhat |\n",
       "|---|---|---|---|---|---|---|---|---|---|---|\n",
       "| b0 | -2.22561104 | 3.816329e-03 | 0.192097642 | -2.604378999 | -2.35693902 | -2.22474403 | -2.09139908 | -1.85503597 | 2533.684 | 1.0000313 |\n",
       "| b[1] |  0.15743512 | 7.020955e-04 | 0.055625010 |  0.050536930 |  0.11940758 |  0.15672777 |  0.19586389 |  0.26575861 | 6276.938 | 0.9996679 |\n",
       "| b[2] |  1.03508319 | 2.096002e-02 | 1.010543161 | -0.944734926 |  0.34711769 |  1.02117932 |  1.72348739 |  2.98902067 | 2324.483 | 0.9999733 |\n",
       "| b[3] | -0.82902893 | 2.249400e-02 | 1.090069055 | -2.945867730 | -1.56685401 | -0.81786838 | -0.08378146 |  1.31118379 | 2348.414 | 0.9999947 |\n",
       "| b[4] | -0.20482245 | 1.243306e-03 | 0.090460836 | -0.377692917 | -0.26698680 | -0.20540755 | -0.14294589 | -0.03003953 | 5293.773 | 0.9997405 |\n",
       "| b[5] |  0.12446424 | 1.055164e-03 | 0.069238953 | -0.011162443 |  0.07930588 |  0.12369093 |  0.17068112 |  0.26108495 | 4305.867 | 1.0001466 |\n",
       "| b[6] | -0.45137152 | 2.504053e-03 | 0.180848442 | -0.807879365 | -0.57380406 | -0.45032601 | -0.32717047 | -0.10734622 | 5216.059 | 1.0006320 |\n",
       "| b[7] |  0.08211454 | 1.381571e-03 | 0.091195328 | -0.098594475 |  0.02070754 |  0.08198560 |  0.14193800 |  0.26089659 | 4357.114 | 1.0000402 |\n",
       "| b[8] |  0.18730945 | 2.472385e-04 | 0.018012384 |  0.152627933 |  0.17518288 |  0.18723649 |  0.19940522 |  0.22268878 | 5307.747 | 1.0000967 |\n",
       "| b[9] |  0.12672391 | 5.923868e-05 | 0.005070475 |  0.116707401 |  0.12337938 |  0.12676146 |  0.13001948 |  0.13674569 | 7326.332 | 0.9995503 |\n",
       "| b[10] |  0.02988523 | 1.339132e-04 | 0.010257972 |  0.009177129 |  0.02323404 |  0.02997846 |  0.03674895 |  0.04982697 | 5867.813 | 1.0000959 |\n",
       "| b[11] |  0.11549464 | 9.968538e-04 | 0.066875533 | -0.014851331 |  0.06953582 |  0.11562009 |  0.15977427 |  0.24948167 | 4500.612 | 1.0003839 |\n",
       "| b[12] |  0.14217900 | 1.276209e-03 | 0.083503561 | -0.021021818 |  0.08610492 |  0.14264992 |  0.19834802 |  0.30499491 | 4281.207 | 1.0001779 |\n",
       "\n"
      ],
      "text/plain": [
       "      mean        se_mean      sd          2.5%         25%         50%        \n",
       "b0    -2.22561104 3.816329e-03 0.192097642 -2.604378999 -2.35693902 -2.22474403\n",
       "b[1]   0.15743512 7.020955e-04 0.055625010  0.050536930  0.11940758  0.15672777\n",
       "b[2]   1.03508319 2.096002e-02 1.010543161 -0.944734926  0.34711769  1.02117932\n",
       "b[3]  -0.82902893 2.249400e-02 1.090069055 -2.945867730 -1.56685401 -0.81786838\n",
       "b[4]  -0.20482245 1.243306e-03 0.090460836 -0.377692917 -0.26698680 -0.20540755\n",
       "b[5]   0.12446424 1.055164e-03 0.069238953 -0.011162443  0.07930588  0.12369093\n",
       "b[6]  -0.45137152 2.504053e-03 0.180848442 -0.807879365 -0.57380406 -0.45032601\n",
       "b[7]   0.08211454 1.381571e-03 0.091195328 -0.098594475  0.02070754  0.08198560\n",
       "b[8]   0.18730945 2.472385e-04 0.018012384  0.152627933  0.17518288  0.18723649\n",
       "b[9]   0.12672391 5.923868e-05 0.005070475  0.116707401  0.12337938  0.12676146\n",
       "b[10]  0.02988523 1.339132e-04 0.010257972  0.009177129  0.02323404  0.02997846\n",
       "b[11]  0.11549464 9.968538e-04 0.066875533 -0.014851331  0.06953582  0.11562009\n",
       "b[12]  0.14217900 1.276209e-03 0.083503561 -0.021021818  0.08610492  0.14264992\n",
       "      75%         97.5%       n_eff    Rhat     \n",
       "b0    -2.09139908 -1.85503597 2533.684 1.0000313\n",
       "b[1]   0.19586389  0.26575861 6276.938 0.9996679\n",
       "b[2]   1.72348739  2.98902067 2324.483 0.9999733\n",
       "b[3]  -0.08378146  1.31118379 2348.414 0.9999947\n",
       "b[4]  -0.14294589 -0.03003953 5293.773 0.9997405\n",
       "b[5]   0.17068112  0.26108495 4305.867 1.0001466\n",
       "b[6]  -0.32717047 -0.10734622 5216.059 1.0006320\n",
       "b[7]   0.14193800  0.26089659 4357.114 1.0000402\n",
       "b[8]   0.19940522  0.22268878 5307.747 1.0000967\n",
       "b[9]   0.13001948  0.13674569 7326.332 0.9995503\n",
       "b[10]  0.03674895  0.04982697 5867.813 1.0000959\n",
       "b[11]  0.15977427  0.24948167 4500.612 1.0003839\n",
       "b[12]  0.19834802  0.30499491 4281.207 1.0001779"
      ]
     },
     "metadata": {},
     "output_type": "display_data"
    }
   ],
   "source": [
    "summary(Docvis.Stan.01.samples,par=c(\"b0\",\"b\"),digits=2)$summary"
   ]
  },
  {
   "cell_type": "code",
   "execution_count": 26,
   "id": "7fd6ea4b-eb7f-4c11-955d-ff5bd1745757",
   "metadata": {},
   "outputs": [
    {
     "name": "stderr",
     "output_type": "stream",
     "text": [
      "Loading required package: bayesplot\n",
      "\n",
      "This is bayesplot version 1.8.0\n",
      "\n",
      "- Online documentation and vignettes at mc-stan.org/bayesplot\n",
      "\n",
      "- bayesplot theme set to bayesplot::theme_default()\n",
      "\n",
      "   * Does _not_ affect other ggplot2 plots\n",
      "\n",
      "   * See ?bayesplot_theme_set for details on theme setting\n",
      "\n"
     ]
    }
   ],
   "source": [
    "#install.packages(\"bayesplot\",dependencies=TRUE,repos=\"https://cloud.r-project.org\")\n",
    "require(bayesplot)"
   ]
  },
  {
   "cell_type": "code",
   "execution_count": 27,
   "id": "63cc7bc2-b32c-427a-b3e5-38672a64fc1a",
   "metadata": {},
   "outputs": [],
   "source": [
    "Docvis.Stan.01.mcmc<-As.mcmc.list(Docvis.Stan.01.samples)"
   ]
  },
  {
   "cell_type": "code",
   "execution_count": 28,
   "id": "6b81c3a5-d1cb-4d82-9f0b-0a37d870c84e",
   "metadata": {},
   "outputs": [],
   "source": [
    "#options(repr.plot.width=12,repr.plot.height=25)\n",
    "#mcmc_combo(Docvis.Stan.01.mcmc,pars = c(\"b0\", \"b\"),widths=c(1,3))"
   ]
  },
  {
   "cell_type": "code",
   "execution_count": 29,
   "id": "50db9a63-bdf2-44bc-bfff-887a3c337b88",
   "metadata": {},
   "outputs": [],
   "source": [
    "#options(repr.plot.width=18,repr.plot.height=5)\n",
    "#mcmc_acf(Docvis.Stan.01.mcmc,pars = c(\"b0\", \"b\"))"
   ]
  },
  {
   "cell_type": "markdown",
   "id": "3810859f-de0f-477c-9524-bb956af72fa0",
   "metadata": {
    "tags": []
   },
   "source": [
    "# 07 - Negative binomial regression with Stan"
   ]
  },
  {
   "cell_type": "code",
   "execution_count": 30,
   "id": "cb05ffad-689a-40fc-b3b8-2a96f1eb4eac",
   "metadata": {},
   "outputs": [],
   "source": [
    "#install.packages(\"rstan\",dependencies=TRUE,repos= \"https://cloud.r-project.org\")\n",
    "options(mc.cores = parallel::detectCores())\n",
    "require(rstan)\n",
    "rstan_options(auto_write = TRUE)\n",
    "Sys.setenv(LOCAL_CPPFLAGS = '-march=corei7 -mtune=corei7')"
   ]
  },
  {
   "cell_type": "code",
   "execution_count": 31,
   "id": "4b22b1e3-2d08-4a82-8438-f694d168e91a",
   "metadata": {},
   "outputs": [
    {
     "name": "stdout",
     "output_type": "stream",
     "text": [
      " num [1:5190, 1:12] 1 1 0 0 0 1 1 1 1 0 ...\n",
      " - attr(*, \"dimnames\")=List of 2\n",
      "  ..$ : chr [1:5190] \"1\" \"2\" \"3\" \"4\" ...\n",
      "  ..$ : chr [1:12] \"Sex\" \"Age\" \"Agesq\" \"Income\" ...\n"
     ]
    },
    {
     "data": {
      "text/html": [
       "<style>\n",
       ".list-inline {list-style: none; margin:0; padding: 0}\n",
       ".list-inline>li {display: inline-block}\n",
       ".list-inline>li:not(:last-child)::after {content: \"\\00b7\"; padding: 0 .5ex}\n",
       "</style>\n",
       "<ol class=list-inline><li>5190</li><li>12</li></ol>\n"
      ],
      "text/latex": [
       "\\begin{enumerate*}\n",
       "\\item 5190\n",
       "\\item 12\n",
       "\\end{enumerate*}\n"
      ],
      "text/markdown": [
       "1. 5190\n",
       "2. 12\n",
       "\n",
       "\n"
      ],
      "text/plain": [
       "[1] 5190   12"
      ]
     },
     "metadata": {},
     "output_type": "display_data"
    }
   ],
   "source": [
    "X <- model.matrix(Dvisits~.,data=Docvis)[,-1] # Discard the intercept column. We will enter b0\n",
    "k<- ncol(X) # number of regression coefficients\n",
    "n<-nrow(X)  # number of observations\n",
    "str(X)\n",
    "c(n,k)"
   ]
  },
  {
   "cell_type": "code",
   "execution_count": 32,
   "id": "a94ef16b-e5a4-4068-91ac-58cd6de366af",
   "metadata": {},
   "outputs": [],
   "source": [
    "Docvis.Stan.NB01.model.string<-\"\n",
    "    data{\n",
    "        int n;\n",
    "        int k;\n",
    "        matrix[n,k] X;\n",
    "        int y[n];\n",
    "        }\n",
    "        \n",
    "    parameters{\n",
    "        real        b0;\n",
    "        vector[k]   b;\n",
    "        real<lower=0, upper=1> p;\n",
    "        }\n",
    "        \n",
    "    transformed parameters{\n",
    "        vector[n] mu;\n",
    "        vector[n] alpha ;           \n",
    "        real beta ;\n",
    "                                \n",
    "        \n",
    "        beta = p/(1-p);\n",
    "        mu = exp(b0 + X * b);\n",
    "        alpha = beta * mu ;\n",
    "        }\n",
    "        \n",
    "    model{\n",
    "        y ~ neg_binomial(alpha, beta);\n",
    "        }\n",
    "\n",
    "\"\n",
    "cat(Docvis.Stan.NB01.model.string,file=\"Docvis.Stan.NB01.stan\")"
   ]
  },
  {
   "cell_type": "code",
   "execution_count": 33,
   "id": "a17768aa-d8e3-4098-8811-ff2fbfd99125",
   "metadata": {
    "tags": []
   },
   "outputs": [],
   "source": [
    "Docvis.Stan.NB01.data.list<-list(X=X,y=Docvis$Dvisits,n=n,k=k)"
   ]
  },
  {
   "cell_type": "code",
   "execution_count": 34,
   "id": "ec6d7d9f-ee10-4996-8850-c9d9456498ac",
   "metadata": {
    "tags": []
   },
   "outputs": [
    {
     "name": "stderr",
     "output_type": "stream",
     "text": [
      "recompiling to avoid crashing R session\n",
      "\n"
     ]
    }
   ],
   "source": [
    "Docvis.Stan.NB01.model<-stan_model(file=\"Docvis.Stan.NB01.stan\")"
   ]
  },
  {
   "cell_type": "markdown",
   "id": "2ad8817f-0ef6-42e8-b12f-08a78c2bc62d",
   "metadata": {
    "tags": []
   },
   "source": [
    "### Sampling from the Stan model with MCMC _(HMC-NUTS)_"
   ]
  },
  {
   "cell_type": "code",
   "execution_count": 35,
   "id": "3d6c7389-daac-4c9d-a570-d344180cd59b",
   "metadata": {},
   "outputs": [],
   "source": [
    "Docvis.Stan.NB01.samples<-sampling(Docvis.Stan.NB01.model, data = Docvis.Stan.NB01.data.list, \n",
    "    chains = 4, iter = 2000, warmup = 500, thin = 1)\n",
    "# ,control = list(adapt_delta=0.9,max_treedepth = 17)"
   ]
  },
  {
   "cell_type": "code",
   "execution_count": 36,
   "id": "6e1c4e18-5632-4a74-b185-a0b7b0f41ccc",
   "metadata": {
    "tags": []
   },
   "outputs": [
    {
     "data": {
      "text/html": [
       "<table class=\"dataframe\">\n",
       "<caption>A matrix: 13 × 10 of type dbl</caption>\n",
       "<thead>\n",
       "\t<tr><th></th><th scope=col>mean</th><th scope=col>se_mean</th><th scope=col>sd</th><th scope=col>2.5%</th><th scope=col>25%</th><th scope=col>50%</th><th scope=col>75%</th><th scope=col>97.5%</th><th scope=col>n_eff</th><th scope=col>Rhat</th></tr>\n",
       "</thead>\n",
       "<tbody>\n",
       "\t<tr><th scope=row>b0</th><td>-2.20078063</td><td>3.910175e-03</td><td>0.220429660</td><td>-2.638060294</td><td>-2.34839906</td><td>-2.20429915</td><td>-2.05028270</td><td>-1.77415598</td><td>3177.954</td><td>0.9997283</td></tr>\n",
       "\t<tr><th scope=row>b[1]</th><td> 0.16428412</td><td>8.629809e-04</td><td>0.066562809</td><td> 0.036800543</td><td> 0.11787056</td><td> 0.16421392</td><td> 0.20869605</td><td> 0.29829372</td><td>5949.232</td><td>0.9998596</td></tr>\n",
       "\t<tr><th scope=row>b[2]</th><td> 0.25139319</td><td>2.181614e-02</td><td>1.160729686</td><td>-1.987464424</td><td>-0.51751565</td><td> 0.24246761</td><td> 1.02834724</td><td> 2.52959870</td><td>2830.782</td><td>0.9994928</td></tr>\n",
       "\t<tr><th scope=row>b[3]</th><td> 0.05029582</td><td>2.330882e-02</td><td>1.253297264</td><td>-2.379585402</td><td>-0.78987274</td><td> 0.07059037</td><td> 0.88308704</td><td> 2.46987569</td><td>2891.130</td><td>0.9995297</td></tr>\n",
       "\t<tr><th scope=row>b[4]</th><td>-0.13478049</td><td>1.348773e-03</td><td>0.101341933</td><td>-0.337034024</td><td>-0.20180796</td><td>-0.13477901</td><td>-0.06675308</td><td> 0.06938914</td><td>5645.477</td><td>1.0001927</td></tr>\n",
       "\t<tr><th scope=row>b[5]</th><td> 0.21403399</td><td>1.261436e-03</td><td>0.082988762</td><td> 0.054782275</td><td> 0.15816540</td><td> 0.21331782</td><td> 0.26963604</td><td> 0.37709849</td><td>4328.206</td><td>0.9997397</td></tr>\n",
       "\t<tr><th scope=row>b[6]</th><td>-0.56043229</td><td>3.187408e-03</td><td>0.229748137</td><td>-1.026133728</td><td>-0.70684737</td><td>-0.55415859</td><td>-0.40144379</td><td>-0.12228712</td><td>5195.517</td><td>1.0001199</td></tr>\n",
       "\t<tr><th scope=row>b[7]</th><td> 0.21077308</td><td>1.598310e-03</td><td>0.105757068</td><td> 0.007297652</td><td> 0.13787816</td><td> 0.20951626</td><td> 0.28345653</td><td> 0.41982759</td><td>4378.213</td><td>1.0002708</td></tr>\n",
       "\t<tr><th scope=row>b[8]</th><td> 0.19528493</td><td>2.690040e-04</td><td>0.020984838</td><td> 0.154867078</td><td> 0.18090936</td><td> 0.19496053</td><td> 0.20977173</td><td> 0.23634187</td><td>6085.463</td><td>1.0005335</td></tr>\n",
       "\t<tr><th scope=row>b[9]</th><td> 0.11208658</td><td>7.291152e-05</td><td>0.006177335</td><td> 0.099687372</td><td> 0.10791884</td><td> 0.11217742</td><td> 0.11630479</td><td> 0.12395210</td><td>7178.109</td><td>0.9994388</td></tr>\n",
       "\t<tr><th scope=row>b[10]</th><td> 0.03562358</td><td>1.514956e-04</td><td>0.011691833</td><td> 0.012224437</td><td> 0.02768204</td><td> 0.03579939</td><td> 0.04346456</td><td> 0.05795978</td><td>5956.147</td><td>1.0001150</td></tr>\n",
       "\t<tr><th scope=row>b[11]</th><td> 0.13292249</td><td>1.084026e-03</td><td>0.077532456</td><td>-0.021814668</td><td> 0.08034565</td><td> 0.13332122</td><td> 0.18594713</td><td> 0.28456050</td><td>5115.491</td><td>1.0000262</td></tr>\n",
       "\t<tr><th scope=row>b[12]</th><td> 0.17358915</td><td>1.385094e-03</td><td>0.097447344</td><td>-0.015964962</td><td> 0.10630124</td><td> 0.17512885</td><td> 0.23935958</td><td> 0.36111572</td><td>4949.731</td><td>0.9999380</td></tr>\n",
       "</tbody>\n",
       "</table>\n"
      ],
      "text/latex": [
       "A matrix: 13 × 10 of type dbl\n",
       "\\begin{tabular}{r|llllllllll}\n",
       "  & mean & se\\_mean & sd & 2.5\\% & 25\\% & 50\\% & 75\\% & 97.5\\% & n\\_eff & Rhat\\\\\n",
       "\\hline\n",
       "\tb0 & -2.20078063 & 3.910175e-03 & 0.220429660 & -2.638060294 & -2.34839906 & -2.20429915 & -2.05028270 & -1.77415598 & 3177.954 & 0.9997283\\\\\n",
       "\tb{[}1{]} &  0.16428412 & 8.629809e-04 & 0.066562809 &  0.036800543 &  0.11787056 &  0.16421392 &  0.20869605 &  0.29829372 & 5949.232 & 0.9998596\\\\\n",
       "\tb{[}2{]} &  0.25139319 & 2.181614e-02 & 1.160729686 & -1.987464424 & -0.51751565 &  0.24246761 &  1.02834724 &  2.52959870 & 2830.782 & 0.9994928\\\\\n",
       "\tb{[}3{]} &  0.05029582 & 2.330882e-02 & 1.253297264 & -2.379585402 & -0.78987274 &  0.07059037 &  0.88308704 &  2.46987569 & 2891.130 & 0.9995297\\\\\n",
       "\tb{[}4{]} & -0.13478049 & 1.348773e-03 & 0.101341933 & -0.337034024 & -0.20180796 & -0.13477901 & -0.06675308 &  0.06938914 & 5645.477 & 1.0001927\\\\\n",
       "\tb{[}5{]} &  0.21403399 & 1.261436e-03 & 0.082988762 &  0.054782275 &  0.15816540 &  0.21331782 &  0.26963604 &  0.37709849 & 4328.206 & 0.9997397\\\\\n",
       "\tb{[}6{]} & -0.56043229 & 3.187408e-03 & 0.229748137 & -1.026133728 & -0.70684737 & -0.55415859 & -0.40144379 & -0.12228712 & 5195.517 & 1.0001199\\\\\n",
       "\tb{[}7{]} &  0.21077308 & 1.598310e-03 & 0.105757068 &  0.007297652 &  0.13787816 &  0.20951626 &  0.28345653 &  0.41982759 & 4378.213 & 1.0002708\\\\\n",
       "\tb{[}8{]} &  0.19528493 & 2.690040e-04 & 0.020984838 &  0.154867078 &  0.18090936 &  0.19496053 &  0.20977173 &  0.23634187 & 6085.463 & 1.0005335\\\\\n",
       "\tb{[}9{]} &  0.11208658 & 7.291152e-05 & 0.006177335 &  0.099687372 &  0.10791884 &  0.11217742 &  0.11630479 &  0.12395210 & 7178.109 & 0.9994388\\\\\n",
       "\tb{[}10{]} &  0.03562358 & 1.514956e-04 & 0.011691833 &  0.012224437 &  0.02768204 &  0.03579939 &  0.04346456 &  0.05795978 & 5956.147 & 1.0001150\\\\\n",
       "\tb{[}11{]} &  0.13292249 & 1.084026e-03 & 0.077532456 & -0.021814668 &  0.08034565 &  0.13332122 &  0.18594713 &  0.28456050 & 5115.491 & 1.0000262\\\\\n",
       "\tb{[}12{]} &  0.17358915 & 1.385094e-03 & 0.097447344 & -0.015964962 &  0.10630124 &  0.17512885 &  0.23935958 &  0.36111572 & 4949.731 & 0.9999380\\\\\n",
       "\\end{tabular}\n"
      ],
      "text/markdown": [
       "\n",
       "A matrix: 13 × 10 of type dbl\n",
       "\n",
       "| <!--/--> | mean | se_mean | sd | 2.5% | 25% | 50% | 75% | 97.5% | n_eff | Rhat |\n",
       "|---|---|---|---|---|---|---|---|---|---|---|\n",
       "| b0 | -2.20078063 | 3.910175e-03 | 0.220429660 | -2.638060294 | -2.34839906 | -2.20429915 | -2.05028270 | -1.77415598 | 3177.954 | 0.9997283 |\n",
       "| b[1] |  0.16428412 | 8.629809e-04 | 0.066562809 |  0.036800543 |  0.11787056 |  0.16421392 |  0.20869605 |  0.29829372 | 5949.232 | 0.9998596 |\n",
       "| b[2] |  0.25139319 | 2.181614e-02 | 1.160729686 | -1.987464424 | -0.51751565 |  0.24246761 |  1.02834724 |  2.52959870 | 2830.782 | 0.9994928 |\n",
       "| b[3] |  0.05029582 | 2.330882e-02 | 1.253297264 | -2.379585402 | -0.78987274 |  0.07059037 |  0.88308704 |  2.46987569 | 2891.130 | 0.9995297 |\n",
       "| b[4] | -0.13478049 | 1.348773e-03 | 0.101341933 | -0.337034024 | -0.20180796 | -0.13477901 | -0.06675308 |  0.06938914 | 5645.477 | 1.0001927 |\n",
       "| b[5] |  0.21403399 | 1.261436e-03 | 0.082988762 |  0.054782275 |  0.15816540 |  0.21331782 |  0.26963604 |  0.37709849 | 4328.206 | 0.9997397 |\n",
       "| b[6] | -0.56043229 | 3.187408e-03 | 0.229748137 | -1.026133728 | -0.70684737 | -0.55415859 | -0.40144379 | -0.12228712 | 5195.517 | 1.0001199 |\n",
       "| b[7] |  0.21077308 | 1.598310e-03 | 0.105757068 |  0.007297652 |  0.13787816 |  0.20951626 |  0.28345653 |  0.41982759 | 4378.213 | 1.0002708 |\n",
       "| b[8] |  0.19528493 | 2.690040e-04 | 0.020984838 |  0.154867078 |  0.18090936 |  0.19496053 |  0.20977173 |  0.23634187 | 6085.463 | 1.0005335 |\n",
       "| b[9] |  0.11208658 | 7.291152e-05 | 0.006177335 |  0.099687372 |  0.10791884 |  0.11217742 |  0.11630479 |  0.12395210 | 7178.109 | 0.9994388 |\n",
       "| b[10] |  0.03562358 | 1.514956e-04 | 0.011691833 |  0.012224437 |  0.02768204 |  0.03579939 |  0.04346456 |  0.05795978 | 5956.147 | 1.0001150 |\n",
       "| b[11] |  0.13292249 | 1.084026e-03 | 0.077532456 | -0.021814668 |  0.08034565 |  0.13332122 |  0.18594713 |  0.28456050 | 5115.491 | 1.0000262 |\n",
       "| b[12] |  0.17358915 | 1.385094e-03 | 0.097447344 | -0.015964962 |  0.10630124 |  0.17512885 |  0.23935958 |  0.36111572 | 4949.731 | 0.9999380 |\n",
       "\n"
      ],
      "text/plain": [
       "      mean        se_mean      sd          2.5%         25%         50%        \n",
       "b0    -2.20078063 3.910175e-03 0.220429660 -2.638060294 -2.34839906 -2.20429915\n",
       "b[1]   0.16428412 8.629809e-04 0.066562809  0.036800543  0.11787056  0.16421392\n",
       "b[2]   0.25139319 2.181614e-02 1.160729686 -1.987464424 -0.51751565  0.24246761\n",
       "b[3]   0.05029582 2.330882e-02 1.253297264 -2.379585402 -0.78987274  0.07059037\n",
       "b[4]  -0.13478049 1.348773e-03 0.101341933 -0.337034024 -0.20180796 -0.13477901\n",
       "b[5]   0.21403399 1.261436e-03 0.082988762  0.054782275  0.15816540  0.21331782\n",
       "b[6]  -0.56043229 3.187408e-03 0.229748137 -1.026133728 -0.70684737 -0.55415859\n",
       "b[7]   0.21077308 1.598310e-03 0.105757068  0.007297652  0.13787816  0.20951626\n",
       "b[8]   0.19528493 2.690040e-04 0.020984838  0.154867078  0.18090936  0.19496053\n",
       "b[9]   0.11208658 7.291152e-05 0.006177335  0.099687372  0.10791884  0.11217742\n",
       "b[10]  0.03562358 1.514956e-04 0.011691833  0.012224437  0.02768204  0.03579939\n",
       "b[11]  0.13292249 1.084026e-03 0.077532456 -0.021814668  0.08034565  0.13332122\n",
       "b[12]  0.17358915 1.385094e-03 0.097447344 -0.015964962  0.10630124  0.17512885\n",
       "      75%         97.5%       n_eff    Rhat     \n",
       "b0    -2.05028270 -1.77415598 3177.954 0.9997283\n",
       "b[1]   0.20869605  0.29829372 5949.232 0.9998596\n",
       "b[2]   1.02834724  2.52959870 2830.782 0.9994928\n",
       "b[3]   0.88308704  2.46987569 2891.130 0.9995297\n",
       "b[4]  -0.06675308  0.06938914 5645.477 1.0001927\n",
       "b[5]   0.26963604  0.37709849 4328.206 0.9997397\n",
       "b[6]  -0.40144379 -0.12228712 5195.517 1.0001199\n",
       "b[7]   0.28345653  0.41982759 4378.213 1.0002708\n",
       "b[8]   0.20977173  0.23634187 6085.463 1.0005335\n",
       "b[9]   0.11630479  0.12395210 7178.109 0.9994388\n",
       "b[10]  0.04346456  0.05795978 5956.147 1.0001150\n",
       "b[11]  0.18594713  0.28456050 5115.491 1.0000262\n",
       "b[12]  0.23935958  0.36111572 4949.731 0.9999380"
      ]
     },
     "metadata": {},
     "output_type": "display_data"
    }
   ],
   "source": [
    "summary(Docvis.Stan.NB01.samples,par=c(\"b0\",\"b\"),digits=2)$summary"
   ]
  },
  {
   "cell_type": "code",
   "execution_count": 37,
   "id": "e62a57df-f556-4f20-a633-1da86e7d4ff9",
   "metadata": {},
   "outputs": [],
   "source": [
    "Docvis.Stan.NB01.mcmc<-As.mcmc.list(Docvis.Stan.NB01.samples)"
   ]
  },
  {
   "cell_type": "code",
   "execution_count": 38,
   "id": "80de1a7e-b15b-48b6-b1c5-cf566ad84647",
   "metadata": {},
   "outputs": [],
   "source": [
    "#options(repr.plot.width=12,repr.plot.height=25)\n",
    "#mcmc_combo(Docvis.Stan.NB01.mcmc,pars = c(\"b0\", \"b\"),widths=c(1,3))"
   ]
  },
  {
   "cell_type": "code",
   "execution_count": 40,
   "id": "2eef53bf-66c2-4c60-b896-fc1c8b80d397",
   "metadata": {},
   "outputs": [],
   "source": [
    "#options(repr.plot.width=18,repr.plot.height=5)\n",
    "#mcmc_acf(Docvis.Stan.NB01.mcmc,pars = c(\"b0\", \"b\"))"
   ]
  },
  {
   "cell_type": "code",
   "execution_count": null,
   "id": "de23bf02-10b0-4c05-b15b-e51492fe9523",
   "metadata": {},
   "outputs": [],
   "source": []
  }
 ],
 "metadata": {
  "kernelspec": {
   "display_name": "R",
   "language": "R",
   "name": "ir"
  },
  "language_info": {
   "codemirror_mode": "r",
   "file_extension": ".r",
   "mimetype": "text/x-r-source",
   "name": "R",
   "pygments_lexer": "r",
   "version": "4.0.5"
  }
 },
 "nbformat": 4,
 "nbformat_minor": 5
}
