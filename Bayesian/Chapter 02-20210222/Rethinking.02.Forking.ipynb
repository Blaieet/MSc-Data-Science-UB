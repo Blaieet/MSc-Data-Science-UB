{
 "cells": [
  {
   "cell_type": "markdown",
   "metadata": {},
   "source": [
    "# rethinking\n",
    "\n",
    "(From McElreath's page, with some editing)\n",
    "\n",
    "This R package accompanies a course and book on Bayesian data analysis: McElreath 2020. Statistical Rethinking, 2nd edition, CRC Press. \n",
    "\n",
    "It contains tools for conducting both quick quadratic approximation of the posterior distribution as well as Hamiltonian Monte Carlo (through RStan or cmdstanr - mc-stan.org). \n",
    "\n",
    "Many packages do this. \n",
    "\n",
    "The signature difference of this package is that it forces the user to specify the model as a list of explicit distributional assumptions. \n",
    "\n",
    "This is more tedious than typical formula-based tools, but it is also much more flexible and powerful and---most important---useful for teaching and learning. When students have to write out every detail of the model, they actually learn the model.\n",
    "\n",
    "For example, a simple Gaussian model could be specified with this list of formulas:\n",
    "\n",
    "```\n",
    "f <- alist(\n",
    "    y ~ dnorm( mu , sigma ),\n",
    "    mu ~ dnorm( 0 , 10 ),\n",
    "    sigma ~ dexp( 1 )\n",
    ")\n",
    "```\n",
    "\n",
    "The first formula in the list is the probability of the outcome (likelihood); the second is the prior for mu; the third is the prior for sigma.\n",
    "\n",
    "## Quick Installation\n",
    "\n",
    "You can find a manual with [expanded installation and usage instructions here.](http://xcelab.net/rm/software/)\n",
    "\n",
    "Here's the brief version.\n",
    "\n",
    "You'll need to install rstan first.\n",
    "\n",
    "### Advice: Install R packages from the R console, either the R command line or RSudio (but not from a Jupyter notebook).\n",
    "\n",
    "(This is not mandatory: sometimes `install.package()` from a notebook cell will work, but $\\;\\dots$\n",
    "\n",
    "### Another advice: before calling `install.package()` close Jupyter notebooks or, at least, restart R in RStudio.\n",
    "\n",
    "Otherwise some R package files are blocked and cannot be overwritten, etc.\n",
    "\n",
    "Go to [MC.Stan.org](http://mc-stan.org) and follow the instructions for your platform. The biggest challenge is getting a C++ compiler configured to work with your installation of R. The instructions at [RStan Getting Started](https://github.com/stan-dev/rstan/wiki/RStan-Getting-Started) are quite thorough. \n",
    "\n",
    "Obey them, and you'll likely succeed. Essentially this amounts to:\n",
    "\n",
    "```\n",
    "install.packages(\"rstan\", dependencies = TRUE)\n",
    "```\n",
    "\n",
    "The following packages are needed at some point, so better make sure they are installed:\n",
    "\n",
    "```\n",
    "install.packages(c(\"coda\",\"mvtnorm\",\"devtools\",\"loo\",\"dagitty\"),dependencies=TRUE)\n",
    "```"
   ]
  },
  {
   "cell_type": "markdown",
   "metadata": {},
   "source": [
    "For the time being we will not require the command line version, 'cmdstanr'. Anyway here there are the installation instructions:\n",
    "\n",
    ">There are some advantages to accessing Stan through `cmdstanr` rather than `rstan`. These advantages include faster updates and therefore quicker access to new features. \n",
    "\n",
    ">If you want to access Stan using the `cmdstanr` package instead, then you may install that as well with\n",
    "\n",
    "```\n",
    "    devtools::install_github(\"stan-dev/cmdstanr\")\n",
    "```\n",
    "\n",
    ">If you haven't installed `cmdstan` previously, you will also need to do that with `install_cmdstan()`.\n",
    "\n",
    ">The `install_cmdstan()` function attempts to download and install the latest release of [CmdStan](https://github.com/stan-dev/cmdstan/releases/latest). \n",
    "\n",
    ">See the first few sections of the [CmdStan installation guide](https://mc-stan.org/docs/cmdstan-guide/cmdstan-installation.html) for details on the C++ toolchain required for installing CmdStan.\n",
    "\n",
    ">Then you need to add `cmdstan=TRUE` to any `ulam` code to use `cmdstan` instead of `rstan`. To use `cmdstan` as the default interface, do `set_ulam_cmdstan(TRUE)`."
   ]
  },
  {
   "cell_type": "markdown",
   "metadata": {},
   "source": [
    "Once `rstan` and/or `cmdstan´ are installed (almost there), then you can install `rethinking` from within R using:\n",
    "\n",
    "```\n",
    "devtools::install_github(\"rmcelreath/rethinking\",dependencies=TRUE)\n",
    "```\n",
    "\n",
    "If there are any problems, they likely arise when trying to install `rstan`, so the `rethinking` package has little to do with it. \n",
    "\n",
    "Consult the RStan section of the website at mc-stan.org for the latest information on RStan."
   ]
  },
  {
   "cell_type": "code",
   "execution_count": 1,
   "metadata": {},
   "outputs": [
    {
     "data": {
      "text/html": [
       "<style>\n",
       ".list-inline {list-style: none; margin:0; padding: 0}\n",
       ".list-inline>li {display: inline-block}\n",
       ".list-inline>li:not(:last-child)::after {content: \"\\00b7\"; padding: 0 .5ex}\n",
       "</style>\n",
       "<ol class=list-inline><li>0</li><li>0.15</li><li>0.4</li><li>0.45</li><li>0</li></ol>\n"
      ],
      "text/latex": [
       "\\begin{enumerate*}\n",
       "\\item 0\n",
       "\\item 0.15\n",
       "\\item 0.4\n",
       "\\item 0.45\n",
       "\\item 0\n",
       "\\end{enumerate*}\n"
      ],
      "text/markdown": [
       "1. 0\n",
       "2. 0.15\n",
       "3. 0.4\n",
       "4. 0.45\n",
       "5. 0\n",
       "\n",
       "\n"
      ],
      "text/plain": [
       "[1] 0.00 0.15 0.40 0.45 0.00"
      ]
     },
     "metadata": {},
     "output_type": "display_data"
    }
   ],
   "source": [
    "## R code 2.1\n",
    "ways <- c( 0 , 3 , 8 , 9 , 0 )\n",
    "ways/sum(ways)"
   ]
  },
  {
   "cell_type": "code",
   "execution_count": 2,
   "metadata": {},
   "outputs": [
    {
     "data": {
      "text/html": [
       "0.1640625"
      ],
      "text/latex": [
       "0.1640625"
      ],
      "text/markdown": [
       "0.1640625"
      ],
      "text/plain": [
       "[1] 0.1640625"
      ]
     },
     "metadata": {},
     "output_type": "display_data"
    }
   ],
   "source": [
    "## R code 2.2\n",
    "dbinom( 6 , size=9 , prob=0.5 )"
   ]
  },
  {
   "cell_type": "code",
   "execution_count": 3,
   "metadata": {},
   "outputs": [],
   "source": [
    "## R code 2.3\n",
    "# define grid\n",
    "p_grid <- seq( from=0 , to=1 , length.out=20 )"
   ]
  },
  {
   "cell_type": "code",
   "execution_count": 4,
   "metadata": {},
   "outputs": [],
   "source": [
    "# define prior\n",
    "prior <- rep( 1 , 20 )"
   ]
  },
  {
   "cell_type": "code",
   "execution_count": 5,
   "metadata": {},
   "outputs": [],
   "source": [
    "# compute likelihood at each value in grid\n",
    "likelihood <- dbinom( 6 , size=9 , prob=p_grid )"
   ]
  },
  {
   "cell_type": "code",
   "execution_count": 6,
   "metadata": {},
   "outputs": [],
   "source": [
    "# compute product of likelihood and prior\n",
    "unstd.posterior <- likelihood * prior"
   ]
  },
  {
   "cell_type": "code",
   "execution_count": 7,
   "metadata": {},
   "outputs": [],
   "source": [
    "# standardize the posterior, so it sums to 1\n",
    "posterior <- unstd.posterior / sum(unstd.posterior)"
   ]
  },
  {
   "cell_type": "code",
   "execution_count": 8,
   "metadata": {},
   "outputs": [
    {
     "data": {
      "image/png": "[encoded data removed]",
      "text/plain": [
       "plot without title"
      ]
     },
     "metadata": {
      "image/png": {
       "height": 420,
       "width": 420
      }
     },
     "output_type": "display_data"
    }
   ],
   "source": [
    "## R code 2.4\n",
    "plot( p_grid , posterior , type=\"b\" ,\n",
    "    xlab=\"probability of water\" , ylab=\"posterior probability\" )\n",
    "mtext( \"20 points\" )"
   ]
  },
  {
   "cell_type": "code",
   "execution_count": 9,
   "metadata": {},
   "outputs": [],
   "source": [
    "## R code 2.5\n",
    "prior <- ifelse( p_grid < 0.5 , 0 , 1 )\n",
    "prior <- exp( -5*abs( p_grid - 0.5 ) )"
   ]
  },
  {
   "cell_type": "code",
   "execution_count": 10,
   "metadata": {},
   "outputs": [
    {
     "name": "stderr",
     "output_type": "stream",
     "text": [
      "Loading required package: rethinking\n",
      "\n",
      "Loading required package: rstan\n",
      "\n",
      "Loading required package: StanHeaders\n",
      "\n",
      "Loading required package: ggplot2\n",
      "\n",
      "rstan (Version 2.21.2, GitRev: 2e1f913d3ca3)\n",
      "\n",
      "For execution on a local, multicore CPU with excess RAM we recommend calling\n",
      "options(mc.cores = parallel::detectCores()).\n",
      "To avoid recompilation of unchanged Stan programs, we recommend calling\n",
      "rstan_options(auto_write = TRUE)\n",
      "\n",
      "Do not specify '-march=native' in 'LOCAL_CPPFLAGS' or a Makevars file\n",
      "\n",
      "Loading required package: parallel\n",
      "\n",
      "rethinking (Version 2.13)\n",
      "\n",
      "\n",
      "Attaching package: 'rethinking'\n",
      "\n",
      "\n",
      "The following object is masked from 'package:stats':\n",
      "\n",
      "    rstudent\n",
      "\n",
      "\n"
     ]
    }
   ],
   "source": [
    "## R code 2.6\n",
    "require(rethinking)\n",
    "#\n",
    "options(mc.cores = parallel::detectCores()).\n",
    "rstan_options(auto_write = TRUE)\n",
    "#\n",
    "globe.qa <- map(\n",
    "    alist(\n",
    "        w ~ dbinom(9,p) ,  # binomial likelihood\n",
    "        p ~ dunif(0,1)     # uniform prior\n",
    "    ) ,\n",
    "    data=list(w=6) )"
   ]
  },
  {
   "cell_type": "code",
   "execution_count": 11,
   "metadata": {},
   "outputs": [
    {
     "data": {
      "text/html": [
       "<table class=\"dataframe\">\n",
       "<caption>A precis: 1 × 4</caption>\n",
       "<thead>\n",
       "\t<tr><th></th><th scope=col>mean</th><th scope=col>sd</th><th scope=col>5.5%</th><th scope=col>94.5%</th></tr>\n",
       "\t<tr><th></th><th scope=col>&lt;dbl&gt;</th><th scope=col>&lt;dbl&gt;</th><th scope=col>&lt;dbl&gt;</th><th scope=col>&lt;dbl&gt;</th></tr>\n",
       "</thead>\n",
       "<tbody>\n",
       "\t<tr><th scope=row>p</th><td>0.6666666</td><td>0.1571338</td><td>0.4155365</td><td>0.9177968</td></tr>\n",
       "</tbody>\n",
       "</table>\n"
      ],
      "text/latex": [
       "A precis: 1 × 4\n",
       "\\begin{tabular}{r|llll}\n",
       "  & mean & sd & 5.5\\% & 94.5\\%\\\\\n",
       "  & <dbl> & <dbl> & <dbl> & <dbl>\\\\\n",
       "\\hline\n",
       "\tp & 0.6666666 & 0.1571338 & 0.4155365 & 0.9177968\\\\\n",
       "\\end{tabular}\n"
      ],
      "text/markdown": [
       "\n",
       "A precis: 1 × 4\n",
       "\n",
       "| <!--/--> | mean &lt;dbl&gt; | sd &lt;dbl&gt; | 5.5% &lt;dbl&gt; | 94.5% &lt;dbl&gt; |\n",
       "|---|---|---|---|---|\n",
       "| p | 0.6666666 | 0.1571338 | 0.4155365 | 0.9177968 |\n",
       "\n"
      ],
      "text/plain": [
       "  mean      sd        5.5%      94.5%    \n",
       "p 0.6666666 0.1571338 0.4155365 0.9177968"
      ]
     },
     "metadata": {},
     "output_type": "display_data"
    }
   ],
   "source": [
    "# display summary of quadratic approximation\n",
    "precis( globe.qa )"
   ]
  },
  {
   "cell_type": "code",
   "execution_count": 12,
   "metadata": {},
   "outputs": [
    {
     "data": {
      "image/png": "[encoded data removed]",
      "text/plain": [
       "plot without title"
      ]
     },
     "metadata": {
      "image/png": {
       "height": 420,
       "width": 420
      }
     },
     "output_type": "display_data"
    }
   ],
   "source": [
    "## R code 2.7\n",
    "# analytical calculation\n",
    "w <- 6\n",
    "n <- 9\n",
    "curve( dbeta( x , w+1 , n-w+1 ) , from=0 , to=1 )\n",
    "# quadratic approximation\n",
    "curve( dnorm( x , 0.67 , 0.16 ) , lty=2 , add=TRUE )"
   ]
  },
  {
   "cell_type": "code",
   "execution_count": null,
   "metadata": {},
   "outputs": [],
   "source": []
  }
 ],
 "metadata": {
  "kernelspec": {
   "display_name": "R",
   "language": "R",
   "name": "ir"
  },
  "language_info": {
   "codemirror_mode": "r",
   "file_extension": ".r",
   "mimetype": "text/x-r-source",
   "name": "R",
   "pygments_lexer": "r",
   "version": "4.0.4"
  }
 },
 "nbformat": 4,
 "nbformat_minor": 4
}
