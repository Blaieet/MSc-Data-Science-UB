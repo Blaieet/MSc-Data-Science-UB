{
 "cells": [
  {
   "cell_type": "markdown",
   "metadata": {},
   "source": [
    "<h1 style=\"color:blue\"> Bayesian Statistics and Probabilistic Programming</h1>\n",
    "\n",
    "<h1 style=\"color:blue\"> Spring 2021 - Homework 02</h1>\n",
    "\n",
    "<h3 style=\"color:blue\">2021-05-31</h3>\n",
    "\n",
    "<h3 style=\"color:blue\"> Authors: David Farré Gil, Blai Ras Jimenez, Irene Bonafonte Pardàs </h3>"
   ]
  },
  {
   "cell_type": "markdown",
   "metadata": {},
   "source": [
    "***\n",
    "###### LaTeX macros\n",
    "$\\def\\prob{P}$\n",
    "$\\def\\argmax{\\operatorname{arg\\,max}}$\n",
    "$\\def\\argmin{\\operatorname{arg\\,min}}$\n",
    "$\\def\\borel{\\operatorname{Borel}}$\n",
    "$\\def\\cE{\\cal E}$\n",
    "$\\def\\cP{\\cal P}$\n",
    "$\\def\\R{\\mathbb{R}}$ \n",
    "$\\def\\N{\\mathbb{N}}$\n",
    "$\\def\\Z{\\mathbb{Z}}$\n",
    "$\\def\\Ee{\\operatorname{E}}$\n",
    "$\\def\\va{\\text{v.a.}}$\n",
    "$\\def\\var{\\operatorname{var}}$\n",
    "$\\def\\cov{\\operatorname{cov}}$\n",
    "$\\def\\cor{\\operatorname{cor}}$\n",
    "$\\def\\binomdist{\\operatorname{Binom}}$\n",
    "$\\def\\berndist{\\operatorname{Ber}}$\n",
    "$\\def\\betabinomdist{\\operatorname{Beta-Binom}}$\n",
    "$\\def\\betadist{\\operatorname{Beta}}$\n",
    "$\\def\\expdist{\\operatorname{Exp}}$\n",
    "$\\def\\gammadist{\\operatorname{Gamma}}$\n",
    "$\\def\\hyperdist{\\operatorname{Hypergeom}}$\n",
    "$\\def\\hypergeomdist{\\operatorname{Hypergeom}}$\n",
    "$\\DeclareMathOperator{\\multinomialdist}{Multinomial}$\n",
    "$\\DeclareMathOperator{\\multinomdist}{Multinom}$\n",
    "$\\def\\poissondist{\\operatorname{Poisson}}$\n",
    "$\\def\\geomdist{\\operatorname{Geom}}$\n",
    "$\\def\\normaldist{\\operatorname{N}}$\n",
    "$\\def\\unifdist{\\operatorname{Unif}}$\n",
    "$\\DeclareMathOperator{\\indica}{\\mathbb{1}}$\n",
    "$\\def\\CondTo{\\mathbin{|\\mskip0.5mu}}$\n",
    "***"
   ]
  },
  {
   "cell_type": "markdown",
   "metadata": {},
   "source": [
    "## Data Reading"
   ]
  },
  {
   "cell_type": "code",
   "execution_count": 1,
   "metadata": {
    "ExecuteTime": {
     "end_time": "2021-05-29T14:54:20.119087Z",
     "start_time": "2021-05-29T14:53:10.304Z"
    }
   },
   "outputs": [],
   "source": [
    "data <- read.csv(\"aug_train.csv\")\n",
    "test <- read.csv(\"aug_test.csv\")"
   ]
  },
  {
   "cell_type": "code",
   "execution_count": 2,
   "metadata": {
    "ExecuteTime": {
     "end_time": "2021-05-29T14:54:20.184049Z",
     "start_time": "2021-05-29T14:53:10.423Z"
    }
   },
   "outputs": [],
   "source": [
    "test_response <- read.csv(\"Test_Response.csv\")"
   ]
  },
  {
   "cell_type": "code",
   "execution_count": 3,
   "metadata": {
    "ExecuteTime": {
     "end_time": "2021-05-29T14:54:20.204053Z",
     "start_time": "2021-05-29T14:53:10.568Z"
    }
   },
   "outputs": [],
   "source": [
    "test$Response <- test_response$Response"
   ]
  },
  {
   "cell_type": "markdown",
   "metadata": {},
   "source": [
    "## Data Analysis\n",
    "\n",
    "### Variables\n",
    "\n",
    "01. `id`:        id of the subject.   \n",
    "02. `Gender`:        Sex of the subject.\n",
    "03. `Age`:         Age of the subject.\n",
    "04. `Driving License`:      Whether if the subject has or not a driver's license.\n",
    "05. `Region_Code`:          Coded region name.\n",
    "06. `Previously_Insured`:      Whether if the subject has already a health insurance.\n",
    "07. `Vehicle_Age`:  Number of years of the subject's car.\n",
    "08. `Vehicle_Damage`:   Measure of detriment of the subject's car.\n",
    "09. `Annual_Premium`:          Number of citations in total.\n",
    "10. `Policy_Sales_Channel`:      Sum of money that the subject needs to pay regularly to an insurance company.\n",
    "11. `Vintage`:     Days the subject is insured until now.\n",
    "12. `Response`: Whether the subject said yes or no to getting a vehicle insurance.\n",
    "\n",
    "As we can see, we will get rid of the variables `id`, `Region_Code` and `Policy_Sales_Channel` since they do not bring any substantial information towards the goal of predicting whether a customer would be interested in Vehicle Insurance. Even if they did, they should not be used towards that goal, it may even be a case of spurious correlation."
   ]
  },
  {
   "cell_type": "code",
   "execution_count": 4,
   "metadata": {
    "ExecuteTime": {
     "end_time": "2021-05-29T14:54:20.231051Z",
     "start_time": "2021-05-29T14:53:12.260Z"
    }
   },
   "outputs": [],
   "source": [
    "data <- data[c(\"Gender\",\"Age\",\"Driving_License\",\"Previously_Insured\",\"Vehicle_Age\",\"Vehicle_Damage\",\"Annual_Premium\",\"Vintage\",\"Response\")]"
   ]
  },
  {
   "cell_type": "code",
   "execution_count": 5,
   "metadata": {
    "ExecuteTime": {
     "end_time": "2021-05-29T14:54:20.261049Z",
     "start_time": "2021-05-29T14:53:12.403Z"
    }
   },
   "outputs": [
    {
     "name": "stdout",
     "output_type": "stream",
     "text": [
      "'data.frame':\t382154 obs. of  9 variables:\n",
      " $ Gender            : chr  \"Male\" \"Male\" \"Female\" \"Female\" ...\n",
      " $ Age               : int  22 42 66 22 28 25 51 38 45 42 ...\n",
      " $ Driving_License   : int  1 1 1 1 1 1 1 1 1 1 ...\n",
      " $ Previously_Insured: int  1 0 0 0 1 1 0 1 0 0 ...\n",
      " $ Vehicle_Age       : chr  \"< 1 Year\" \"1-2 Year\" \"1-2 Year\" \"< 1 Year\" ...\n",
      " $ Vehicle_Damage    : chr  \"No\" \"Yes\" \"Yes\" \"No\" ...\n",
      " $ Annual_Premium    : num  2630 43327 35841 27645 29023 ...\n",
      " $ Vintage           : int  16 135 253 69 211 23 209 51 262 217 ...\n",
      " $ Response          : int  0 0 0 0 0 0 0 0 0 1 ...\n"
     ]
    }
   ],
   "source": [
    "str(data)"
   ]
  },
  {
   "cell_type": "markdown",
   "metadata": {},
   "source": [
    "As we can see, there's a few categorical columns. For the sake of the model creation and training, we will convert them to numerical, e.g. ``Female`` is coded to ``1`` and ``Male`` is coded to  ``0``, thanks to the ``preprocess`` function below."
   ]
  },
  {
   "cell_type": "code",
   "execution_count": 6,
   "metadata": {
    "ExecuteTime": {
     "end_time": "2021-05-29T14:54:20.282051Z",
     "start_time": "2021-05-29T14:53:12.689Z"
    }
   },
   "outputs": [],
   "source": [
    "preprocess <- function(data) {\n",
    "    data$Vehicle_Age <- as.numeric(factor(data$Vehicle_Age, levels=c('< 1 Year','1-2 Year','> 2 Years')))\n",
    "    data$Vehicle_Damage <- as.numeric(factor(data$Vehicle_Damage, levels=c('No','Yes'))) \n",
    "    data$Gender <- as.numeric(factor(data$Gender))\n",
    "    return(data)\n",
    "}"
   ]
  },
  {
   "cell_type": "code",
   "execution_count": 7,
   "metadata": {
    "ExecuteTime": {
     "end_time": "2021-05-29T14:54:20.355050Z",
     "start_time": "2021-05-29T14:53:13.911Z"
    }
   },
   "outputs": [],
   "source": [
    "data <- preprocess(data)\n",
    "test <- preprocess(test)"
   ]
  },
  {
   "cell_type": "code",
   "execution_count": 8,
   "metadata": {
    "ExecuteTime": {
     "end_time": "2021-05-29T14:54:20.404049Z",
     "start_time": "2021-05-29T14:53:14.393Z"
    }
   },
   "outputs": [
    {
     "data": {
      "text/html": [
       "<table class=\"dataframe\">\n",
       "<caption>A data.frame: 5 × 9</caption>\n",
       "<thead>\n",
       "\t<tr><th></th><th scope=col>Gender</th><th scope=col>Age</th><th scope=col>Driving_License</th><th scope=col>Previously_Insured</th><th scope=col>Vehicle_Age</th><th scope=col>Vehicle_Damage</th><th scope=col>Annual_Premium</th><th scope=col>Vintage</th><th scope=col>Response</th></tr>\n",
       "\t<tr><th></th><th scope=col>&lt;dbl&gt;</th><th scope=col>&lt;int&gt;</th><th scope=col>&lt;int&gt;</th><th scope=col>&lt;int&gt;</th><th scope=col>&lt;dbl&gt;</th><th scope=col>&lt;dbl&gt;</th><th scope=col>&lt;dbl&gt;</th><th scope=col>&lt;int&gt;</th><th scope=col>&lt;int&gt;</th></tr>\n",
       "</thead>\n",
       "<tbody>\n",
       "\t<tr><th scope=row>1</th><td>2</td><td>22</td><td>1</td><td>1</td><td>1</td><td>1</td><td> 2630</td><td> 16</td><td>0</td></tr>\n",
       "\t<tr><th scope=row>2</th><td>2</td><td>42</td><td>1</td><td>0</td><td>2</td><td>2</td><td>43327</td><td>135</td><td>0</td></tr>\n",
       "\t<tr><th scope=row>3</th><td>1</td><td>66</td><td>1</td><td>0</td><td>2</td><td>2</td><td>35841</td><td>253</td><td>0</td></tr>\n",
       "\t<tr><th scope=row>4</th><td>1</td><td>22</td><td>1</td><td>0</td><td>1</td><td>1</td><td>27645</td><td> 69</td><td>0</td></tr>\n",
       "\t<tr><th scope=row>5</th><td>2</td><td>28</td><td>1</td><td>1</td><td>1</td><td>1</td><td>29023</td><td>211</td><td>0</td></tr>\n",
       "</tbody>\n",
       "</table>\n"
      ],
      "text/latex": [
       "A data.frame: 5 × 9\n",
       "\\begin{tabular}{r|lllllllll}\n",
       "  & Gender & Age & Driving\\_License & Previously\\_Insured & Vehicle\\_Age & Vehicle\\_Damage & Annual\\_Premium & Vintage & Response\\\\\n",
       "  & <dbl> & <int> & <int> & <int> & <dbl> & <dbl> & <dbl> & <int> & <int>\\\\\n",
       "\\hline\n",
       "\t1 & 2 & 22 & 1 & 1 & 1 & 1 &  2630 &  16 & 0\\\\\n",
       "\t2 & 2 & 42 & 1 & 0 & 2 & 2 & 43327 & 135 & 0\\\\\n",
       "\t3 & 1 & 66 & 1 & 0 & 2 & 2 & 35841 & 253 & 0\\\\\n",
       "\t4 & 1 & 22 & 1 & 0 & 1 & 1 & 27645 &  69 & 0\\\\\n",
       "\t5 & 2 & 28 & 1 & 1 & 1 & 1 & 29023 & 211 & 0\\\\\n",
       "\\end{tabular}\n"
      ],
      "text/markdown": [
       "\n",
       "A data.frame: 5 × 9\n",
       "\n",
       "| <!--/--> | Gender &lt;dbl&gt; | Age &lt;int&gt; | Driving_License &lt;int&gt; | Previously_Insured &lt;int&gt; | Vehicle_Age &lt;dbl&gt; | Vehicle_Damage &lt;dbl&gt; | Annual_Premium &lt;dbl&gt; | Vintage &lt;int&gt; | Response &lt;int&gt; |\n",
       "|---|---|---|---|---|---|---|---|---|---|\n",
       "| 1 | 2 | 22 | 1 | 1 | 1 | 1 |  2630 |  16 | 0 |\n",
       "| 2 | 2 | 42 | 1 | 0 | 2 | 2 | 43327 | 135 | 0 |\n",
       "| 3 | 1 | 66 | 1 | 0 | 2 | 2 | 35841 | 253 | 0 |\n",
       "| 4 | 1 | 22 | 1 | 0 | 1 | 1 | 27645 |  69 | 0 |\n",
       "| 5 | 2 | 28 | 1 | 1 | 1 | 1 | 29023 | 211 | 0 |\n",
       "\n"
      ],
      "text/plain": [
       "  Gender Age Driving_License Previously_Insured Vehicle_Age Vehicle_Damage\n",
       "1 2      22  1               1                  1           1             \n",
       "2 2      42  1               0                  2           2             \n",
       "3 1      66  1               0                  2           2             \n",
       "4 1      22  1               0                  1           1             \n",
       "5 2      28  1               1                  1           1             \n",
       "  Annual_Premium Vintage Response\n",
       "1  2630           16     0       \n",
       "2 43327          135     0       \n",
       "3 35841          253     0       \n",
       "4 27645           69     0       \n",
       "5 29023          211     0       "
      ]
     },
     "metadata": {},
     "output_type": "display_data"
    }
   ],
   "source": [
    "data[1:5,]"
   ]
  },
  {
   "cell_type": "markdown",
   "metadata": {
    "ExecuteTime": {
     "end_time": "2021-05-27T16:04:40.744684Z",
     "start_time": "2021-05-27T16:04:40.354Z"
    }
   },
   "source": [
    "Let's check the distribution of each variable in the data set:"
   ]
  },
  {
   "cell_type": "code",
   "execution_count": 9,
   "metadata": {
    "ExecuteTime": {
     "end_time": "2021-05-29T14:37:56.430753Z",
     "start_time": "2021-05-29T14:37:52.687Z"
    },
    "scrolled": true
   },
   "outputs": [
    {
     "name": "stdout",
     "output_type": "stream",
     "text": [
      "[1] \"Gender\"\n",
      "[1] \"Age\"\n"
     ]
    },
    {
     "data": {
      "image/png": "[encoded data removed]",
      "text/plain": [
       "plot without title"
      ]
     },
     "metadata": {
      "image/png": {
       "height": 420,
       "width": 1200
      }
     },
     "output_type": "display_data"
    },
    {
     "name": "stdout",
     "output_type": "stream",
     "text": [
      "[1] \"Driving_License\"\n"
     ]
    },
    {
     "data": {
      "image/png": "[encoded data removed]",
      "text/plain": [
       "plot without title"
      ]
     },
     "metadata": {
      "image/png": {
       "height": 420,
       "width": 1200
      }
     },
     "output_type": "display_data"
    },
    {
     "name": "stdout",
     "output_type": "stream",
     "text": [
      "[1] \"Previously_Insured\"\n"
     ]
    },
    {
     "data": {
      "image/png": "[encoded data removed]",
      "text/plain": [
       "plot without title"
      ]
     },
     "metadata": {
      "image/png": {
       "height": 420,
       "width": 1200
      }
     },
     "output_type": "display_data"
    },
    {
     "name": "stdout",
     "output_type": "stream",
     "text": [
      "[1] \"Vehicle_Age\"\n"
     ]
    },
    {
     "data": {
      "image/png": "[encoded data removed]",
      "text/plain": [
       "plot without title"
      ]
     },
     "metadata": {
      "image/png": {
       "height": 420,
       "width": 1200
      }
     },
     "output_type": "display_data"
    },
    {
     "name": "stdout",
     "output_type": "stream",
     "text": [
      "[1] \"Vehicle_Damage\"\n"
     ]
    },
    {
     "data": {
      "image/png": "[encoded data removed]",
      "text/plain": [
       "plot without title"
      ]
     },
     "metadata": {
      "image/png": {
       "height": 420,
       "width": 1200
      }
     },
     "output_type": "display_data"
    },
    {
     "name": "stdout",
     "output_type": "stream",
     "text": [
      "[1] \"Annual_Premium\"\n"
     ]
    },
    {
     "data": {
      "image/png": "[encoded data removed]",
      "text/plain": [
       "plot without title"
      ]
     },
     "metadata": {
      "image/png": {
       "height": 420,
       "width": 1200
      }
     },
     "output_type": "display_data"
    },
    {
     "name": "stdout",
     "output_type": "stream",
     "text": [
      "[1] \"Vintage\"\n"
     ]
    },
    {
     "data": {
      "image/png": "[encoded data removed]",
      "text/plain": [
       "plot without title"
      ]
     },
     "metadata": {
      "image/png": {
       "height": 420,
       "width": 1200
      }
     },
     "output_type": "display_data"
    },
    {
     "name": "stdout",
     "output_type": "stream",
     "text": [
      "[1] \"Response\"\n"
     ]
    },
    {
     "data": {
      "image/png": "[encoded data removed]",
      "text/plain": [
       "plot without title"
      ]
     },
     "metadata": {
      "image/png": {
       "height": 420,
       "width": 1200
      }
     },
     "output_type": "display_data"
    },
    {
     "data": {
      "image/png": "[encoded data removed]",
      "text/plain": [
       "plot without title"
      ]
     },
     "metadata": {
      "image/png": {
       "height": 420,
       "width": 1200
      }
     },
     "output_type": "display_data"
    }
   ],
   "source": [
    "options(repr.plot.width=20,repr.plot.height=7)\n",
    "for (i in 1:ncol(data)) {\n",
    "    print(colnames(data)[i])\n",
    "    boxplot(data[,i],col=\"seagreen\")\n",
    "    \n",
    "}"
   ]
  },
  {
   "cell_type": "markdown",
   "metadata": {},
   "source": [
    "And now, the possible correlation that might occurr betwen this variables.\n",
    "\n",
    "We can see that ``Age`` is highly correlated with ``Vehicle_age``, an understandable relationship since both variables count years and frequently, a person's age matches his car's age.\n",
    "\n",
    "Denote also the negative correlation between ``Previously_Insured`` and ``Vehicle_Damage``. [DISCUTIR]\n",
    "\n"
   ]
  },
  {
   "cell_type": "code",
   "execution_count": 10,
   "metadata": {
    "ExecuteTime": {
     "end_time": "2021-05-29T14:37:58.431682Z",
     "start_time": "2021-05-29T14:37:58.364Z"
    }
   },
   "outputs": [
    {
     "data": {
      "text/html": [
       "<table class=\"dataframe\">\n",
       "<caption>A matrix: 9 × 9 of type dbl</caption>\n",
       "<thead>\n",
       "\t<tr><th></th><th scope=col>Gender</th><th scope=col>Age</th><th scope=col>Driving_License</th><th scope=col>Previously_Insured</th><th scope=col>Vehicle_Age</th><th scope=col>Vehicle_Damage</th><th scope=col>Annual_Premium</th><th scope=col>Vintage</th><th scope=col>Response</th></tr>\n",
       "</thead>\n",
       "<tbody>\n",
       "\t<tr><th scope=row>Gender</th><td> 1.00</td><td> 0.15</td><td>-0.02</td><td>-0.09</td><td> 0.16</td><td> 0.10</td><td> 0.00</td><td>0</td><td> 0.07</td></tr>\n",
       "\t<tr><th scope=row>Age</th><td> 0.15</td><td> 1.00</td><td>-0.08</td><td>-0.26</td><td> 0.76</td><td> 0.27</td><td> 0.07</td><td>0</td><td> 0.13</td></tr>\n",
       "\t<tr><th scope=row>Driving_License</th><td>-0.02</td><td>-0.08</td><td> 1.00</td><td> 0.01</td><td>-0.03</td><td>-0.01</td><td>-0.01</td><td>0</td><td> 0.01</td></tr>\n",
       "\t<tr><th scope=row>Previously_Insured</th><td>-0.09</td><td>-0.26</td><td> 0.01</td><td> 1.00</td><td>-0.42</td><td>-0.85</td><td> 0.00</td><td>0</td><td>-0.43</td></tr>\n",
       "\t<tr><th scope=row>Vehicle_Age</th><td> 0.16</td><td> 0.76</td><td>-0.03</td><td>-0.42</td><td> 1.00</td><td> 0.43</td><td> 0.04</td><td>0</td><td> 0.29</td></tr>\n",
       "\t<tr><th scope=row>Vehicle_Damage</th><td> 0.10</td><td> 0.27</td><td>-0.01</td><td>-0.85</td><td> 0.43</td><td> 1.00</td><td> 0.01</td><td>0</td><td> 0.45</td></tr>\n",
       "\t<tr><th scope=row>Annual_Premium</th><td> 0.00</td><td> 0.07</td><td>-0.01</td><td> 0.00</td><td> 0.04</td><td> 0.01</td><td> 1.00</td><td>0</td><td> 0.03</td></tr>\n",
       "\t<tr><th scope=row>Vintage</th><td> 0.00</td><td> 0.00</td><td> 0.00</td><td> 0.00</td><td> 0.00</td><td> 0.00</td><td> 0.00</td><td>1</td><td> 0.00</td></tr>\n",
       "\t<tr><th scope=row>Response</th><td> 0.07</td><td> 0.13</td><td> 0.01</td><td>-0.43</td><td> 0.29</td><td> 0.45</td><td> 0.03</td><td>0</td><td> 1.00</td></tr>\n",
       "</tbody>\n",
       "</table>\n"
      ],
      "text/latex": [
       "A matrix: 9 × 9 of type dbl\n",
       "\\begin{tabular}{r|lllllllll}\n",
       "  & Gender & Age & Driving\\_License & Previously\\_Insured & Vehicle\\_Age & Vehicle\\_Damage & Annual\\_Premium & Vintage & Response\\\\\n",
       "\\hline\n",
       "\tGender &  1.00 &  0.15 & -0.02 & -0.09 &  0.16 &  0.10 &  0.00 & 0 &  0.07\\\\\n",
       "\tAge &  0.15 &  1.00 & -0.08 & -0.26 &  0.76 &  0.27 &  0.07 & 0 &  0.13\\\\\n",
       "\tDriving\\_License & -0.02 & -0.08 &  1.00 &  0.01 & -0.03 & -0.01 & -0.01 & 0 &  0.01\\\\\n",
       "\tPreviously\\_Insured & -0.09 & -0.26 &  0.01 &  1.00 & -0.42 & -0.85 &  0.00 & 0 & -0.43\\\\\n",
       "\tVehicle\\_Age &  0.16 &  0.76 & -0.03 & -0.42 &  1.00 &  0.43 &  0.04 & 0 &  0.29\\\\\n",
       "\tVehicle\\_Damage &  0.10 &  0.27 & -0.01 & -0.85 &  0.43 &  1.00 &  0.01 & 0 &  0.45\\\\\n",
       "\tAnnual\\_Premium &  0.00 &  0.07 & -0.01 &  0.00 &  0.04 &  0.01 &  1.00 & 0 &  0.03\\\\\n",
       "\tVintage &  0.00 &  0.00 &  0.00 &  0.00 &  0.00 &  0.00 &  0.00 & 1 &  0.00\\\\\n",
       "\tResponse &  0.07 &  0.13 &  0.01 & -0.43 &  0.29 &  0.45 &  0.03 & 0 &  1.00\\\\\n",
       "\\end{tabular}\n"
      ],
      "text/markdown": [
       "\n",
       "A matrix: 9 × 9 of type dbl\n",
       "\n",
       "| <!--/--> | Gender | Age | Driving_License | Previously_Insured | Vehicle_Age | Vehicle_Damage | Annual_Premium | Vintage | Response |\n",
       "|---|---|---|---|---|---|---|---|---|---|\n",
       "| Gender |  1.00 |  0.15 | -0.02 | -0.09 |  0.16 |  0.10 |  0.00 | 0 |  0.07 |\n",
       "| Age |  0.15 |  1.00 | -0.08 | -0.26 |  0.76 |  0.27 |  0.07 | 0 |  0.13 |\n",
       "| Driving_License | -0.02 | -0.08 |  1.00 |  0.01 | -0.03 | -0.01 | -0.01 | 0 |  0.01 |\n",
       "| Previously_Insured | -0.09 | -0.26 |  0.01 |  1.00 | -0.42 | -0.85 |  0.00 | 0 | -0.43 |\n",
       "| Vehicle_Age |  0.16 |  0.76 | -0.03 | -0.42 |  1.00 |  0.43 |  0.04 | 0 |  0.29 |\n",
       "| Vehicle_Damage |  0.10 |  0.27 | -0.01 | -0.85 |  0.43 |  1.00 |  0.01 | 0 |  0.45 |\n",
       "| Annual_Premium |  0.00 |  0.07 | -0.01 |  0.00 |  0.04 |  0.01 |  1.00 | 0 |  0.03 |\n",
       "| Vintage |  0.00 |  0.00 |  0.00 |  0.00 |  0.00 |  0.00 |  0.00 | 1 |  0.00 |\n",
       "| Response |  0.07 |  0.13 |  0.01 | -0.43 |  0.29 |  0.45 |  0.03 | 0 |  1.00 |\n",
       "\n"
      ],
      "text/plain": [
       "                   Gender Age   Driving_License Previously_Insured Vehicle_Age\n",
       "Gender              1.00   0.15 -0.02           -0.09               0.16      \n",
       "Age                 0.15   1.00 -0.08           -0.26               0.76      \n",
       "Driving_License    -0.02  -0.08  1.00            0.01              -0.03      \n",
       "Previously_Insured -0.09  -0.26  0.01            1.00              -0.42      \n",
       "Vehicle_Age         0.16   0.76 -0.03           -0.42               1.00      \n",
       "Vehicle_Damage      0.10   0.27 -0.01           -0.85               0.43      \n",
       "Annual_Premium      0.00   0.07 -0.01            0.00               0.04      \n",
       "Vintage             0.00   0.00  0.00            0.00               0.00      \n",
       "Response            0.07   0.13  0.01           -0.43               0.29      \n",
       "                   Vehicle_Damage Annual_Premium Vintage Response\n",
       "Gender              0.10           0.00          0        0.07   \n",
       "Age                 0.27           0.07          0        0.13   \n",
       "Driving_License    -0.01          -0.01          0        0.01   \n",
       "Previously_Insured -0.85           0.00          0       -0.43   \n",
       "Vehicle_Age         0.43           0.04          0        0.29   \n",
       "Vehicle_Damage      1.00           0.01          0        0.45   \n",
       "Annual_Premium      0.01           1.00          0        0.03   \n",
       "Vintage             0.00           0.00          1        0.00   \n",
       "Response            0.45           0.03          0        1.00   "
      ]
     },
     "metadata": {},
     "output_type": "display_data"
    }
   ],
   "source": [
    "round(cor(data),2)"
   ]
  },
  {
   "cell_type": "code",
   "execution_count": 73,
   "metadata": {
    "ExecuteTime": {
     "end_time": "2021-05-27T16:31:36.650751Z",
     "start_time": "2021-05-27T16:15:00.188Z"
    }
   },
   "outputs": [
    {
     "data": {
      "image/png": "[encoded data removed]",
      "text/plain": [
       "plot without title"
      ]
     },
     "metadata": {
      "image/png": {
       "height": 600,
       "width": 600
      }
     },
     "output_type": "display_data"
    }
   ],
   "source": [
    "#16 min, do not load!!!\n",
    "\n",
    "\n",
    "# options(repr.plot.width=10,repr.plot.height=10)\n",
    "# pairs(data,col=\"seagreen\")"
   ]
  },
  {
   "cell_type": "markdown",
   "metadata": {},
   "source": [
    "Do we have to deal with null values in the dataset? No."
   ]
  },
  {
   "cell_type": "code",
   "execution_count": 11,
   "metadata": {
    "ExecuteTime": {
     "end_time": "2021-05-29T14:38:01.271665Z",
     "start_time": "2021-05-29T14:38:01.227Z"
    }
   },
   "outputs": [
    {
     "data": {
      "text/html": [
       "0"
      ],
      "text/latex": [
       "0"
      ],
      "text/markdown": [
       "0"
      ],
      "text/plain": [
       "[1] 0"
      ]
     },
     "metadata": {},
     "output_type": "display_data"
    },
    {
     "data": {
      "text/html": [
       "0"
      ],
      "text/latex": [
       "0"
      ],
      "text/markdown": [
       "0"
      ],
      "text/plain": [
       "[1] 0"
      ]
     },
     "metadata": {},
     "output_type": "display_data"
    }
   ],
   "source": [
    "sum(is.na(data))\n",
    "sum(is.na(test))"
   ]
  },
  {
   "cell_type": "markdown",
   "metadata": {},
   "source": [
    "Let's look at this class imbalance we've been told:"
   ]
  },
  {
   "cell_type": "code",
   "execution_count": 12,
   "metadata": {
    "ExecuteTime": {
     "end_time": "2021-05-29T14:38:01.731658Z",
     "start_time": "2021-05-29T14:38:01.673Z"
    }
   },
   "outputs": [
    {
     "data": {
      "text/plain": [
       "\n",
       "     0      1 \n",
       "319553  62601 "
      ]
     },
     "metadata": {},
     "output_type": "display_data"
    }
   ],
   "source": [
    "table(data$Response)"
   ]
  },
  {
   "cell_type": "code",
   "execution_count": 13,
   "metadata": {
    "ExecuteTime": {
     "end_time": "2021-05-29T14:38:02.175628Z",
     "start_time": "2021-05-29T14:38:02.123Z"
    }
   },
   "outputs": [
    {
     "data": {
      "text/plain": [
       "\n",
       "    0     1 \n",
       "83.62 16.38 "
      ]
     },
     "metadata": {},
     "output_type": "display_data"
    }
   ],
   "source": [
    "round(table(data$Response)/nrow(data)*100,2)"
   ]
  },
  {
   "cell_type": "markdown",
   "metadata": {},
   "source": [
    "Huge! Our first approach to deal with this problem is resampling with the function ``resample`` that we have below. It takes as parameter the amount of samples we want from each class and returns the filtered dataframe. "
   ]
  },
  {
   "cell_type": "code",
   "execution_count": 9,
   "metadata": {
    "ExecuteTime": {
     "end_time": "2021-05-29T14:54:20.422049Z",
     "start_time": "2021-05-29T14:53:18.490Z"
    }
   },
   "outputs": [],
   "source": [
    "resample <- function(data,size) {\n",
    "    total = size * 2\n",
    "    if (total > nrow(data)) {\n",
    "        cat(\"Not enough data to create a dataframe of size \",total)\n",
    "        return(data)\n",
    "    } else if (size > 62601) {\n",
    "        print(\"Not enough samples!\")\n",
    "        return(data)\n",
    "    }\n",
    "    negative <- sample(x=which(data$Response == 0), size=size, replace=FALSE)\n",
    "    positive <- sample(x=which(data$Response == 1), size=size, replace=FALSE)\n",
    "    resampled_idx <- c(negative, positive)\n",
    "    return(data[resampled_idx, ])\n",
    "}"
   ]
  },
  {
   "cell_type": "code",
   "execution_count": 12,
   "metadata": {
    "ExecuteTime": {
     "end_time": "2021-05-29T14:54:20.535049Z",
     "start_time": "2021-05-29T14:53:29.717Z"
    }
   },
   "outputs": [
    {
     "data": {
      "text/html": [
       "<style>\n",
       ".list-inline {list-style: none; margin:0; padding: 0}\n",
       ".list-inline>li {display: inline-block}\n",
       ".list-inline>li:not(:last-child)::after {content: \"\\00b7\"; padding: 0 .5ex}\n",
       "</style>\n",
       "<ol class=list-inline><li>2000</li><li>9</li></ol>\n"
      ],
      "text/latex": [
       "\\begin{enumerate*}\n",
       "\\item 2000\n",
       "\\item 9\n",
       "\\end{enumerate*}\n"
      ],
      "text/markdown": [
       "1. 2000\n",
       "2. 9\n",
       "\n",
       "\n"
      ],
      "text/plain": [
       "[1] 2000    9"
      ]
     },
     "metadata": {},
     "output_type": "display_data"
    },
    {
     "data": {
      "text/plain": [
       "\n",
       "   0    1 \n",
       "1000 1000 "
      ]
     },
     "metadata": {},
     "output_type": "display_data"
    }
   ],
   "source": [
    "df <- resample(data,1000)\n",
    "dim(df)\n",
    "table(df$Response)"
   ]
  },
  {
   "cell_type": "markdown",
   "metadata": {},
   "source": [
    "A common practice in Machine Learning is perform feature scaling, which helps most models to converge more quickly towards the minima. We can perform this method with the function ``scale``:"
   ]
  },
  {
   "cell_type": "code",
   "execution_count": 13,
   "metadata": {
    "ExecuteTime": {
     "end_time": "2021-05-29T14:54:20.591050Z",
     "start_time": "2021-05-29T14:53:32.818Z"
    }
   },
   "outputs": [
    {
     "data": {
      "text/html": [
       "<table class=\"dataframe\">\n",
       "<caption>A data.frame: 5 × 9</caption>\n",
       "<thead>\n",
       "\t<tr><th></th><th scope=col>Gender</th><th scope=col>Age</th><th scope=col>Driving_License</th><th scope=col>Previously_Insured</th><th scope=col>Vehicle_Age</th><th scope=col>Vehicle_Damage</th><th scope=col>Annual_Premium</th><th scope=col>Vintage</th><th scope=col>Response</th></tr>\n",
       "\t<tr><th></th><th scope=col>&lt;dbl&gt;</th><th scope=col>&lt;dbl&gt;</th><th scope=col>&lt;dbl&gt;</th><th scope=col>&lt;dbl&gt;</th><th scope=col>&lt;dbl&gt;</th><th scope=col>&lt;dbl&gt;</th><th scope=col>&lt;dbl&gt;</th><th scope=col>&lt;dbl&gt;</th><th scope=col>&lt;int&gt;</th></tr>\n",
       "</thead>\n",
       "<tbody>\n",
       "\t<tr><th scope=row>256880</th><td>-1.1808946</td><td>-1.2932671</td><td>0.03163069</td><td> 1.5681127</td><td>-1.3731678</td><td>-1.4640976</td><td>-0.2556571</td><td> 0.5658137</td><td>0</td></tr>\n",
       "\t<tr><th scope=row>191324</th><td> 0.8463922</td><td> 0.4553757</td><td>0.03163069</td><td> 1.5681127</td><td> 0.3986616</td><td>-1.4640976</td><td>-0.3744550</td><td>-0.9413322</td><td>0</td></tr>\n",
       "\t<tr><th scope=row>107184</th><td> 0.8463922</td><td> 1.1839769</td><td>0.03163069</td><td>-0.6373904</td><td> 0.3986616</td><td> 0.6826731</td><td>-0.2775245</td><td> 1.5705776</td><td>0</td></tr>\n",
       "\t<tr><th scope=row>230385</th><td> 0.8463922</td><td>-0.2732254</td><td>0.03163069</td><td> 1.5681127</td><td> 0.3986616</td><td> 0.6826731</td><td>-0.1200347</td><td> 1.0442727</td><td>0</td></tr>\n",
       "\t<tr><th scope=row>244476</th><td> 0.8463922</td><td>-1.2204070</td><td>0.03163069</td><td> 1.5681127</td><td>-1.3731678</td><td>-1.4640976</td><td>-0.5433694</td><td> 1.2356563</td><td>0</td></tr>\n",
       "</tbody>\n",
       "</table>\n"
      ],
      "text/latex": [
       "A data.frame: 5 × 9\n",
       "\\begin{tabular}{r|lllllllll}\n",
       "  & Gender & Age & Driving\\_License & Previously\\_Insured & Vehicle\\_Age & Vehicle\\_Damage & Annual\\_Premium & Vintage & Response\\\\\n",
       "  & <dbl> & <dbl> & <dbl> & <dbl> & <dbl> & <dbl> & <dbl> & <dbl> & <int>\\\\\n",
       "\\hline\n",
       "\t256880 & -1.1808946 & -1.2932671 & 0.03163069 &  1.5681127 & -1.3731678 & -1.4640976 & -0.2556571 &  0.5658137 & 0\\\\\n",
       "\t191324 &  0.8463922 &  0.4553757 & 0.03163069 &  1.5681127 &  0.3986616 & -1.4640976 & -0.3744550 & -0.9413322 & 0\\\\\n",
       "\t107184 &  0.8463922 &  1.1839769 & 0.03163069 & -0.6373904 &  0.3986616 &  0.6826731 & -0.2775245 &  1.5705776 & 0\\\\\n",
       "\t230385 &  0.8463922 & -0.2732254 & 0.03163069 &  1.5681127 &  0.3986616 &  0.6826731 & -0.1200347 &  1.0442727 & 0\\\\\n",
       "\t244476 &  0.8463922 & -1.2204070 & 0.03163069 &  1.5681127 & -1.3731678 & -1.4640976 & -0.5433694 &  1.2356563 & 0\\\\\n",
       "\\end{tabular}\n"
      ],
      "text/markdown": [
       "\n",
       "A data.frame: 5 × 9\n",
       "\n",
       "| <!--/--> | Gender &lt;dbl&gt; | Age &lt;dbl&gt; | Driving_License &lt;dbl&gt; | Previously_Insured &lt;dbl&gt; | Vehicle_Age &lt;dbl&gt; | Vehicle_Damage &lt;dbl&gt; | Annual_Premium &lt;dbl&gt; | Vintage &lt;dbl&gt; | Response &lt;int&gt; |\n",
       "|---|---|---|---|---|---|---|---|---|---|\n",
       "| 256880 | -1.1808946 | -1.2932671 | 0.03163069 |  1.5681127 | -1.3731678 | -1.4640976 | -0.2556571 |  0.5658137 | 0 |\n",
       "| 191324 |  0.8463922 |  0.4553757 | 0.03163069 |  1.5681127 |  0.3986616 | -1.4640976 | -0.3744550 | -0.9413322 | 0 |\n",
       "| 107184 |  0.8463922 |  1.1839769 | 0.03163069 | -0.6373904 |  0.3986616 |  0.6826731 | -0.2775245 |  1.5705776 | 0 |\n",
       "| 230385 |  0.8463922 | -0.2732254 | 0.03163069 |  1.5681127 |  0.3986616 |  0.6826731 | -0.1200347 |  1.0442727 | 0 |\n",
       "| 244476 |  0.8463922 | -1.2204070 | 0.03163069 |  1.5681127 | -1.3731678 | -1.4640976 | -0.5433694 |  1.2356563 | 0 |\n",
       "\n"
      ],
      "text/plain": [
       "       Gender     Age        Driving_License Previously_Insured Vehicle_Age\n",
       "256880 -1.1808946 -1.2932671 0.03163069       1.5681127         -1.3731678 \n",
       "191324  0.8463922  0.4553757 0.03163069       1.5681127          0.3986616 \n",
       "107184  0.8463922  1.1839769 0.03163069      -0.6373904          0.3986616 \n",
       "230385  0.8463922 -0.2732254 0.03163069       1.5681127          0.3986616 \n",
       "244476  0.8463922 -1.2204070 0.03163069       1.5681127         -1.3731678 \n",
       "       Vehicle_Damage Annual_Premium Vintage    Response\n",
       "256880 -1.4640976     -0.2556571      0.5658137 0       \n",
       "191324 -1.4640976     -0.3744550     -0.9413322 0       \n",
       "107184  0.6826731     -0.2775245      1.5705776 0       \n",
       "230385  0.6826731     -0.1200347      1.0442727 0       \n",
       "244476 -1.4640976     -0.5433694      1.2356563 0       "
      ]
     },
     "metadata": {},
     "output_type": "display_data"
    }
   ],
   "source": [
    "response <- df$Response\n",
    "df <- df[,-(9:9),drop=FALSE]\n",
    "df <- as.data.frame(scale(df))\n",
    "df <- cbind(df, Response = response)\n",
    "df[1:5,]"
   ]
  },
  {
   "cell_type": "markdown",
   "metadata": {},
   "source": [
    "## Model creation\n",
    "\n",
    "Below we can observe each model creation. We've decided to use ``rstanarm``, ``rstan``. ``JAGS`` and ``MCMCpack``.\n",
    "\n",
    "## RStan\n",
    "\n",
    "For RStan and JAGS we need to combine all variables into a list and state also the number of rows of our dataset. "
   ]
  },
  {
   "cell_type": "code",
   "execution_count": 31,
   "metadata": {
    "ExecuteTime": {
     "end_time": "2021-05-29T15:18:49.442861Z",
     "start_time": "2021-05-29T15:18:49.423Z"
    }
   },
   "outputs": [],
   "source": [
    "dfCombined <- as.list(df[, c('Gender','Age','Driving_License','Previously_Insured','Vehicle_Age','Vehicle_Damage',\n",
    "                             'Annual_Premium','Vintage','Response')])\n",
    "dfCombined$nrows <- nrow(df)"
   ]
  },
  {
   "cell_type": "code",
   "execution_count": 28,
   "metadata": {
    "ExecuteTime": {
     "end_time": "2021-05-29T15:17:36.183481Z",
     "start_time": "2021-05-29T15:17:36.165Z"
    }
   },
   "outputs": [],
   "source": [
    "stan <- paste(\" \n",
    "data {\n",
    "    int<lower=0> nrows; //Number of data items\n",
    "    int<lower=0,upper=1> Response[nrows]; //Outcome vector\n",
    "    //Predictors\n",
    "    vector[nrows] Gender;\n",
    "    vector[nrows] Age;\n",
    "    vector[nrows] Driving_License;\n",
    "    vector[nrows] Previously_Insured;\n",
    "    vector[nrows] Vehicle_Age;\n",
    "    vector[nrows] Vehicle_Damage;\n",
    "    vector[nrows] Annual_Premium;\n",
    "    vector[nrows] Vintage;\n",
    "\n",
    "}\n",
    "parameters {\n",
    "  vector[9] b; //Coefficients for predictors\n",
    "}\n",
    "model {\n",
    "  Response ~ bernoulli_logit(b[9] + b[2] * Gender + b[3] * Age + b[4] * Driving_License + b[5] * Previously_Insured + \n",
    "        b[6] * Vehicle_Age + b[7] * Vehicle_Damage + b[8] * Vintage);\n",
    "  for(i in 1:9){\n",
    "    b[i] ~ normal(0, 3); \n",
    "  }\n",
    "}\n",
    "\n",
    "\")\n",
    "writeLines(stan, \"model_stan\")    "
   ]
  },
  {
   "cell_type": "code",
   "execution_count": 23,
   "metadata": {
    "ExecuteTime": {
     "end_time": "2021-05-29T15:14:50.745511Z",
     "start_time": "2021-05-29T15:14:50.727Z"
    }
   },
   "outputs": [],
   "source": [
    "library(\"rstan\")"
   ]
  },
  {
   "cell_type": "code",
   "execution_count": 32,
   "metadata": {
    "ExecuteTime": {
     "end_time": "2021-05-29T15:18:52.436087Z",
     "start_time": "2021-05-29T15:18:52.416Z"
    }
   },
   "outputs": [],
   "source": [
    "rstan_options(auto_write = TRUE)\n",
    "options(mc.cores = parallel::detectCores())"
   ]
  },
  {
   "cell_type": "code",
   "execution_count": 33,
   "metadata": {
    "ExecuteTime": {
     "end_time": "2021-05-29T15:20:15.806608Z",
     "start_time": "2021-05-29T15:18:52.575Z"
    }
   },
   "outputs": [
    {
     "name": "stderr",
     "output_type": "stream",
     "text": [
      "recompiling to avoid crashing R session\n",
      "\n"
     ]
    }
   ],
   "source": [
    "stan_model <- stan(file = \"model_stan\",  \n",
    "           data = dfCombined,         \n",
    "           pars = c(\"b\"),     \n",
    "           chains = 4,        \n",
    "           iter = 2000,       \n",
    "           seed = 123)  "
   ]
  },
  {
   "cell_type": "code",
   "execution_count": 19,
   "metadata": {
    "ExecuteTime": {
     "end_time": "2021-05-29T15:11:39.946703Z",
     "start_time": "2021-05-29T15:11:39.920Z"
    }
   },
   "outputs": [
    {
     "data": {
      "text/html": [
       "<style>\n",
       ".list-inline {list-style: none; margin:0; padding: 0}\n",
       ".list-inline>li {display: inline-block}\n",
       ".list-inline>li:not(:last-child)::after {content: \"\\00b7\"; padding: 0 .5ex}\n",
       "</style>\n",
       "<ol class=list-inline><li>'Gender'</li><li>'Age'</li><li>'Driving_License'</li><li>'Previously_Insured'</li><li>'Vehicle_Age'</li><li>'Vehicle_Damage'</li><li>'Annual_Premium'</li><li>'Vintage'</li><li>'Response'</li></ol>\n"
      ],
      "text/latex": [
       "\\begin{enumerate*}\n",
       "\\item 'Gender'\n",
       "\\item 'Age'\n",
       "\\item 'Driving\\_License'\n",
       "\\item 'Previously\\_Insured'\n",
       "\\item 'Vehicle\\_Age'\n",
       "\\item 'Vehicle\\_Damage'\n",
       "\\item 'Annual\\_Premium'\n",
       "\\item 'Vintage'\n",
       "\\item 'Response'\n",
       "\\end{enumerate*}\n"
      ],
      "text/markdown": [
       "1. 'Gender'\n",
       "2. 'Age'\n",
       "3. 'Driving_License'\n",
       "4. 'Previously_Insured'\n",
       "5. 'Vehicle_Age'\n",
       "6. 'Vehicle_Damage'\n",
       "7. 'Annual_Premium'\n",
       "8. 'Vintage'\n",
       "9. 'Response'\n",
       "\n",
       "\n"
      ],
      "text/plain": [
       "[1] \"Gender\"             \"Age\"                \"Driving_License\"   \n",
       "[4] \"Previously_Insured\" \"Vehicle_Age\"        \"Vehicle_Damage\"    \n",
       "[7] \"Annual_Premium\"     \"Vintage\"            \"Response\"          "
      ]
     },
     "metadata": {},
     "output_type": "display_data"
    }
   ],
   "source": [
    "colnames(df)"
   ]
  },
  {
   "cell_type": "code",
   "execution_count": 35,
   "metadata": {
    "ExecuteTime": {
     "end_time": "2021-05-29T15:21:14.865007Z",
     "start_time": "2021-05-29T15:21:14.771Z"
    },
    "scrolled": true
   },
   "outputs": [
    {
     "data": {
      "text/html": [
       "<dl>\n",
       "\t<dt>$summary</dt>\n",
       "\t\t<dd><table class=\"dataframe\">\n",
       "<caption>A matrix: 10 × 10 of type dbl</caption>\n",
       "<thead>\n",
       "\t<tr><th></th><th scope=col>mean</th><th scope=col>se_mean</th><th scope=col>sd</th><th scope=col>2.5%</th><th scope=col>25%</th><th scope=col>50%</th><th scope=col>75%</th><th scope=col>97.5%</th><th scope=col>n_eff</th><th scope=col>Rhat</th></tr>\n",
       "</thead>\n",
       "<tbody>\n",
       "\t<tr><th scope=row>b[1]</th><td>   0.08619152</td><td>0.056972029</td><td>2.99054276</td><td>  -5.9276967</td><td>  -1.89051843</td><td>   0.08338914</td><td> 2.048268e+00</td><td>   6.0319584</td><td>2755.349</td><td>1.0003068</td></tr>\n",
       "\t<tr><th scope=row>b[2]</th><td>  -0.01215147</td><td>0.001200739</td><td>0.06427773</td><td>  -0.1362203</td><td>  -0.05488413</td><td>  -0.01266952</td><td> 3.128259e-02</td><td>   0.1118174</td><td>2865.655</td><td>0.9996138</td></tr>\n",
       "\t<tr><th scope=row>b[3]</th><td>  -0.33592351</td><td>0.002117026</td><td>0.08724257</td><td>  -0.5079945</td><td>  -0.39372445</td><td>  -0.33720985</td><td>-2.769614e-01</td><td>  -0.1699277</td><td>1698.261</td><td>1.0011938</td></tr>\n",
       "\t<tr><th scope=row>b[4]</th><td>   2.43915864</td><td>0.058142661</td><td>1.86369148</td><td>   0.1086765</td><td>   0.98423281</td><td>   2.01106368</td><td> 3.472629e+00</td><td>   6.9496655</td><td>1027.444</td><td>1.0002488</td></tr>\n",
       "\t<tr><th scope=row>b[5]</th><td>  -2.10335372</td><td>0.009743403</td><td>0.34681922</td><td>  -2.9129760</td><td>  -2.29695853</td><td>  -2.07350865</td><td>-1.867943e+00</td><td>  -1.5403579</td><td>1267.025</td><td>1.0026183</td></tr>\n",
       "\t<tr><th scope=row>b[6]</th><td>   0.69658822</td><td>0.002268633</td><td>0.09628761</td><td>   0.5155472</td><td>   0.62759284</td><td>   0.69640528</td><td> 7.611394e-01</td><td>   0.8897071</td><td>1801.408</td><td>1.0016069</td></tr>\n",
       "\t<tr><th scope=row>b[7]</th><td>   0.96773478</td><td>0.002562843</td><td>0.13396820</td><td>   0.7104116</td><td>   0.87804757</td><td>   0.96358362</td><td> 1.053923e+00</td><td>   1.2411701</td><td>2732.496</td><td>1.0002148</td></tr>\n",
       "\t<tr><th scope=row>b[8]</th><td>  -0.04893468</td><td>0.001265520</td><td>0.06128639</td><td>  -0.1681941</td><td>  -0.08984567</td><td>  -0.05019468</td><td>-7.220252e-03</td><td>   0.0728337</td><td>2345.255</td><td>1.0033553</td></tr>\n",
       "\t<tr><th scope=row>b[9]</th><td>  -1.17953355</td><td>0.006825038</td><td>0.22932607</td><td>  -1.7102093</td><td>  -1.31897138</td><td>  -1.15452497</td><td>-1.018868e+00</td><td>  -0.7995647</td><td>1129.007</td><td>1.0023082</td></tr>\n",
       "\t<tr><th scope=row>lp__</th><td>-811.01501406</td><td>0.058183374</td><td>2.15531784</td><td>-816.0580666</td><td>-812.23722540</td><td>-810.67312044</td><td>-8.094065e+02</td><td>-807.8310714</td><td>1372.223</td><td>1.0045093</td></tr>\n",
       "</tbody>\n",
       "</table>\n",
       "</dd>\n",
       "\t<dt>$c_summary</dt>\n",
       "\t\t<dd><style>\n",
       ".list-inline {list-style: none; margin:0; padding: 0}\n",
       ".list-inline>li {display: inline-block}\n",
       ".list-inline>li:not(:last-child)::after {content: \"\\00b7\"; padding: 0 .5ex}\n",
       "</style>\n",
       "<ol class=list-inline><li>0.0247936082407007</li><li>-0.0127132693014662</li><li>-0.342866416332887</li><li>2.35074672657619</li><li>-2.07488604099695</li><li>0.70479054249412</li><li>0.969319672410368</li><li>-0.0502927910930044</li><li>-1.16044629059285</li><li>-810.848781314778</li><li>3.03924938908766</li><li>0.059581585019511</li><li>0.0838160775150072</li><li>1.74773773446684</li><li>0.3126047813076</li><li>0.0944819752899086</li><li>0.139240582769753</li><li>0.0598389897206279</li><li>0.21799160720217</li><li>2.11005402425514</li><li>-6.10510252699546</li><li>-0.129251786884956</li><li>-0.506289846403165</li><li>0.086306912219023</li><li>-2.74652820640331</li><li>0.538957257615687</li><li>0.719496336552282</li><li>-0.171399666890222</li><li>-1.61920802293279</li><li>-815.919467347643</li><li>-1.97087428646314</li><li>-0.050295390955964</li><li>-0.39822122462618</li><li>0.978342619936003</li><li>-2.26147226347035</li><li>0.636348201781468</li><li>0.872293929487587</li><li>-0.0897818508354548</li><li>-1.30474512036308</li><li>-811.979896386797</li><li>0.135272569307404</li><li>-0.0136165322325408</li><li>-0.346623617597924</li><li>1.97417569257186</li><li>-2.05946355029352</li><li>0.705306255444123</li><li>0.95901904823403</li><li>-0.0502754866698021</li><li>-1.1361354193105</li><li>-810.506429108244</li><li>1.943970160731</li><li>0.0257397944540053</li><li>-0.288182561684537</li><li>3.44233708087121</li><li>-1.85298039769156</li><li>0.770001365200811</li><li>1.06057916731555</li><li>-0.0107646736704961</li><li>-1.00455912274114</li><li>-809.303840236522</li><li>5.95321700668136</li><li>0.106687400116802</li><li>-0.179364114593426</li><li>6.35322190452901</li><li>-1.55268923138977</li><li>0.893950429484976</li><li>1.25974627495651</li><li>0.0694804932607733</li><li>-0.796491915792863</li><li>-807.719785708918</li><li>0.0132069883601092</li><li>-0.0134052934817555</li><li>-0.33561435442885</li><li>2.54299813193753</li><li>-2.09381390145779</li><li>0.69485804724589</li><li>0.967876651784369</li><li>-0.0487081637907687</li><li>-1.17765777550258</li><li>-811.11614867045</li><li>3.0087750573999</li><li>0.0648554812298336</li><li>0.0867417658255771</li><li>2.02129535995522</li><li>0.345983566584389</li><li>0.0955735262747876</li><li>0.13628631791123</li><li>0.062338505733881</li><li>0.229082084411476</li><li>2.15060033990929</li><li>-5.96881829890491</li><li>-0.134271440965682</li><li>-0.508012663569784</li><li>0.108202175786178</li><li>-2.83566359247795</li><li>0.512154493386381</li><li>0.710387286113891</li><li>-0.168890250211296</li><li>-1.65027478149747</li><li>-816.602439811876</li><li>-2.02268348651232</li><li>-0.0590402451936684</li><li>-0.392158892961098</li><li>0.935325638691171</li><li>-2.31279306421984</li><li>0.626532890044876</li><li>0.877706359611139</li><li>-0.0889429836533141</li><li>-1.33379635315422</li><li>-812.320161080267</li><li>-0.0479864856621472</li><li>-0.0154742852318347</li><li>-0.33528485725626</li><li>2.07950512073645</li><li>-2.06971465486361</li><li>0.692739586411137</li><li>0.960784082302922</li><li>-0.0497787266218154</li><li>-1.15635739185026</li><li>-810.812271922724</li><li>2.00406136340886</li><li>0.0328550205883511</li><li>-0.271330257895454</li><li>3.59102001235346</li><li>-1.85807371117002</li><li>0.756174729202469</li><li>1.06545141763183</li><li>-0.00747509657007671</li><li>-1.00509264193697</li><li>-809.555012586233</li><li>5.97775733643393</li><li>0.120528289573632</li><li>-0.172063486168361</li><li>7.41205884734232</li><li>-1.5218422405725</li><li>0.885814046998816</li><li>1.24573455438881</li><li>0.0752296987960272</li><li>-0.797236814391644</li><li>-807.897057949051</li><li>-0.000244826412986156</li><li>-0.0122171561423013</li><li>-0.330470058841237</li><li>2.45565059409849</li><li>-2.13213932952961</li><li>0.689843095421481</li><li>0.969907209113928</li><li>-0.0463375433822008</li><li>-1.19824147627356</li><li>-811.084090142201</li><li>2.87733759554793</li><li>0.0629966638553291</li><li>0.0871433073219062</li><li>1.81487600960432</li><li>0.371685453094039</li><li>0.0978704461522806</li><li>0.133307603959032</li><li>0.0643230185462249</li><li>0.243652728232714</li><li>2.17165942635722</li><li>-5.32040070657397</li><li>-0.135958748569911</li><li>-0.508129287142978</li><li>0.126715523184098</li><li>-3.0380991161397</li><li>0.511531765134227</li><li>0.704548234979584</li><li>-0.168741076267089</li><li>-1.80557963730037</li><li>-815.927248942742</li><li>-1.89032949145428</li><li>-0.0528944493774413</li><li>-0.383571049240527</li><li>1.05540621777618</li><li>-2.33131294970812</li><li>0.62053932841684</li><li>0.883311801628297</li><li>-0.0902458319722651</li><li>-1.33928354886286</li><li>-812.404597431014</li><li>-0.0889357065865137</li><li>-0.0152762289181247</li><li>-0.329548173634954</li><li>2.06185096655021</li><li>-2.09117224030785</li><li>0.688614046175635</li><li>0.967929024812267</li><li>-0.0482617256942471</li><li>-1.1673159266824</li><li>-810.64512455992</li><li>1.84903294151179</li><li>0.0273891709556254</li><li>-0.272472458922137</li><li>3.41882279634342</li><li>-1.88060832994124</li><li>0.756718750780665</li><li>1.05166106632168</li><li>0.000783777685210115</li><li>-1.02548340327378</li><li>-809.417549258768</li><li>6.17103367845452</li><li>0.111266303511586</li><li>-0.170414116614112</li><li>6.8516169218875</li><li>-1.55271594150709</li><li>0.877379756994294</li><li>1.24124052964506</li><li>0.0752594883270144</li><li>-0.809200884744556</li><li>-807.902201832256</li><li>0.307010323310672</li><li>-0.0102701553868714</li><li>-0.334743193996684</li><li>2.4072391254387</li><li>-2.11257560523605</li><li>0.696861179195227</li><li>0.963835603765416</li><li>-0.0504002124270052</li><li>-1.18178864053608</li><li>-811.011036121899</li><li>3.0275420777676</li><li>0.0693447796812837</li><li>0.0908029940046489</li><li>1.85739253603676</li><li>0.352281360149395</li><li>0.0967333005681029</li><li>0.126840531737479</li><li>0.0584835156346386</li><li>0.224567321977596</li><li>2.18158753157544</li><li>-5.99627418952992</li><li>-0.140042053723316</li><li>-0.508640620169586</li><li>0.120908219670637</li><li>-3.08248413786861</li><li>0.502316152934214</li><li>0.712955403428696</li><li>-0.161720913561187</li><li>-1.76167337356421</li><li>-816.059847585985</li><li>-1.63524586242398</li><li>-0.0586939207150786</li><li>-0.395426938906242</li><li>0.964661710375233</li><li>-2.28258702804476</li><li>0.628924003040968</li><li>0.87616194063362</li><li>-0.0900825951189995</li><li>-1.29877294584225</li><li>-812.245765726994</li><li>0.289002723025159</li><li>-0.0060003270106072</li><li>-0.336447117299613</li><li>1.96691495923375</li><li>-2.07189273649188</li><li>0.698486687149061</li><li>0.96695777623338</li><li>-0.0526360090368967</li><li>-1.1558366586554</li><li>-810.744688399815</li><li>2.37763756339574</li><li>0.0376123301391681</li><li>-0.274704867264822</li><li>3.41361203576594</li><li>-1.88759723260005</li><li>0.761869152304163</li><li>1.0432202670877</li><li>-0.012552028756947</li><li>-1.03222233682077</li><li>-809.343006526354</li><li>6.03195835740766</li><li>0.11253115500855</li><li>-0.157481519908259</li><li>6.93005429739183</li><li>-1.5569857021458</li><li>0.89321691671831</li><li>1.22014255116164</li><li>0.0634948192835166</li><li>-0.803386394405604</li><li>-807.83229486371</li></ol>\n",
       "</dd>\n",
       "</dl>\n"
      ],
      "text/latex": [
       "\\begin{description}\n",
       "\\item[\\$summary] A matrix: 10 × 10 of type dbl\n",
       "\\begin{tabular}{r|llllllllll}\n",
       "  & mean & se\\_mean & sd & 2.5\\% & 25\\% & 50\\% & 75\\% & 97.5\\% & n\\_eff & Rhat\\\\\n",
       "\\hline\n",
       "\tb{[}1{]} &    0.08619152 & 0.056972029 & 2.99054276 &   -5.9276967 &   -1.89051843 &    0.08338914 &  2.048268e+00 &    6.0319584 & 2755.349 & 1.0003068\\\\\n",
       "\tb{[}2{]} &   -0.01215147 & 0.001200739 & 0.06427773 &   -0.1362203 &   -0.05488413 &   -0.01266952 &  3.128259e-02 &    0.1118174 & 2865.655 & 0.9996138\\\\\n",
       "\tb{[}3{]} &   -0.33592351 & 0.002117026 & 0.08724257 &   -0.5079945 &   -0.39372445 &   -0.33720985 & -2.769614e-01 &   -0.1699277 & 1698.261 & 1.0011938\\\\\n",
       "\tb{[}4{]} &    2.43915864 & 0.058142661 & 1.86369148 &    0.1086765 &    0.98423281 &    2.01106368 &  3.472629e+00 &    6.9496655 & 1027.444 & 1.0002488\\\\\n",
       "\tb{[}5{]} &   -2.10335372 & 0.009743403 & 0.34681922 &   -2.9129760 &   -2.29695853 &   -2.07350865 & -1.867943e+00 &   -1.5403579 & 1267.025 & 1.0026183\\\\\n",
       "\tb{[}6{]} &    0.69658822 & 0.002268633 & 0.09628761 &    0.5155472 &    0.62759284 &    0.69640528 &  7.611394e-01 &    0.8897071 & 1801.408 & 1.0016069\\\\\n",
       "\tb{[}7{]} &    0.96773478 & 0.002562843 & 0.13396820 &    0.7104116 &    0.87804757 &    0.96358362 &  1.053923e+00 &    1.2411701 & 2732.496 & 1.0002148\\\\\n",
       "\tb{[}8{]} &   -0.04893468 & 0.001265520 & 0.06128639 &   -0.1681941 &   -0.08984567 &   -0.05019468 & -7.220252e-03 &    0.0728337 & 2345.255 & 1.0033553\\\\\n",
       "\tb{[}9{]} &   -1.17953355 & 0.006825038 & 0.22932607 &   -1.7102093 &   -1.31897138 &   -1.15452497 & -1.018868e+00 &   -0.7995647 & 1129.007 & 1.0023082\\\\\n",
       "\tlp\\_\\_ & -811.01501406 & 0.058183374 & 2.15531784 & -816.0580666 & -812.23722540 & -810.67312044 & -8.094065e+02 & -807.8310714 & 1372.223 & 1.0045093\\\\\n",
       "\\end{tabular}\n",
       "\n",
       "\\item[\\$c\\_summary] \\begin{enumerate*}\n",
       "\\item 0.0247936082407007\n",
       "\\item -0.0127132693014662\n",
       "\\item -0.342866416332887\n",
       "\\item 2.35074672657619\n",
       "\\item -2.07488604099695\n",
       "\\item 0.70479054249412\n",
       "\\item 0.969319672410368\n",
       "\\item -0.0502927910930044\n",
       "\\item -1.16044629059285\n",
       "\\item -810.848781314778\n",
       "\\item 3.03924938908766\n",
       "\\item 0.059581585019511\n",
       "\\item 0.0838160775150072\n",
       "\\item 1.74773773446684\n",
       "\\item 0.3126047813076\n",
       "\\item 0.0944819752899086\n",
       "\\item 0.139240582769753\n",
       "\\item 0.0598389897206279\n",
       "\\item 0.21799160720217\n",
       "\\item 2.11005402425514\n",
       "\\item -6.10510252699546\n",
       "\\item -0.129251786884956\n",
       "\\item -0.506289846403165\n",
       "\\item 0.086306912219023\n",
       "\\item -2.74652820640331\n",
       "\\item 0.538957257615687\n",
       "\\item 0.719496336552282\n",
       "\\item -0.171399666890222\n",
       "\\item -1.61920802293279\n",
       "\\item -815.919467347643\n",
       "\\item -1.97087428646314\n",
       "\\item -0.050295390955964\n",
       "\\item -0.39822122462618\n",
       "\\item 0.978342619936003\n",
       "\\item -2.26147226347035\n",
       "\\item 0.636348201781468\n",
       "\\item 0.872293929487587\n",
       "\\item -0.0897818508354548\n",
       "\\item -1.30474512036308\n",
       "\\item -811.979896386797\n",
       "\\item 0.135272569307404\n",
       "\\item -0.0136165322325408\n",
       "\\item -0.346623617597924\n",
       "\\item 1.97417569257186\n",
       "\\item -2.05946355029352\n",
       "\\item 0.705306255444123\n",
       "\\item 0.95901904823403\n",
       "\\item -0.0502754866698021\n",
       "\\item -1.1361354193105\n",
       "\\item -810.506429108244\n",
       "\\item 1.943970160731\n",
       "\\item 0.0257397944540053\n",
       "\\item -0.288182561684537\n",
       "\\item 3.44233708087121\n",
       "\\item -1.85298039769156\n",
       "\\item 0.770001365200811\n",
       "\\item 1.06057916731555\n",
       "\\item -0.0107646736704961\n",
       "\\item -1.00455912274114\n",
       "\\item -809.303840236522\n",
       "\\item 5.95321700668136\n",
       "\\item 0.106687400116802\n",
       "\\item -0.179364114593426\n",
       "\\item 6.35322190452901\n",
       "\\item -1.55268923138977\n",
       "\\item 0.893950429484976\n",
       "\\item 1.25974627495651\n",
       "\\item 0.0694804932607733\n",
       "\\item -0.796491915792863\n",
       "\\item -807.719785708918\n",
       "\\item 0.0132069883601092\n",
       "\\item -0.0134052934817555\n",
       "\\item -0.33561435442885\n",
       "\\item 2.54299813193753\n",
       "\\item -2.09381390145779\n",
       "\\item 0.69485804724589\n",
       "\\item 0.967876651784369\n",
       "\\item -0.0487081637907687\n",
       "\\item -1.17765777550258\n",
       "\\item -811.11614867045\n",
       "\\item 3.0087750573999\n",
       "\\item 0.0648554812298336\n",
       "\\item 0.0867417658255771\n",
       "\\item 2.02129535995522\n",
       "\\item 0.345983566584389\n",
       "\\item 0.0955735262747876\n",
       "\\item 0.13628631791123\n",
       "\\item 0.062338505733881\n",
       "\\item 0.229082084411476\n",
       "\\item 2.15060033990929\n",
       "\\item -5.96881829890491\n",
       "\\item -0.134271440965682\n",
       "\\item -0.508012663569784\n",
       "\\item 0.108202175786178\n",
       "\\item -2.83566359247795\n",
       "\\item 0.512154493386381\n",
       "\\item 0.710387286113891\n",
       "\\item -0.168890250211296\n",
       "\\item -1.65027478149747\n",
       "\\item -816.602439811876\n",
       "\\item -2.02268348651232\n",
       "\\item -0.0590402451936684\n",
       "\\item -0.392158892961098\n",
       "\\item 0.935325638691171\n",
       "\\item -2.31279306421984\n",
       "\\item 0.626532890044876\n",
       "\\item 0.877706359611139\n",
       "\\item -0.0889429836533141\n",
       "\\item -1.33379635315422\n",
       "\\item -812.320161080267\n",
       "\\item -0.0479864856621472\n",
       "\\item -0.0154742852318347\n",
       "\\item -0.33528485725626\n",
       "\\item 2.07950512073645\n",
       "\\item -2.06971465486361\n",
       "\\item 0.692739586411137\n",
       "\\item 0.960784082302922\n",
       "\\item -0.0497787266218154\n",
       "\\item -1.15635739185026\n",
       "\\item -810.812271922724\n",
       "\\item 2.00406136340886\n",
       "\\item 0.0328550205883511\n",
       "\\item -0.271330257895454\n",
       "\\item 3.59102001235346\n",
       "\\item -1.85807371117002\n",
       "\\item 0.756174729202469\n",
       "\\item 1.06545141763183\n",
       "\\item -0.00747509657007671\n",
       "\\item -1.00509264193697\n",
       "\\item -809.555012586233\n",
       "\\item 5.97775733643393\n",
       "\\item 0.120528289573632\n",
       "\\item -0.172063486168361\n",
       "\\item 7.41205884734232\n",
       "\\item -1.5218422405725\n",
       "\\item 0.885814046998816\n",
       "\\item 1.24573455438881\n",
       "\\item 0.0752296987960272\n",
       "\\item -0.797236814391644\n",
       "\\item -807.897057949051\n",
       "\\item -0.000244826412986156\n",
       "\\item -0.0122171561423013\n",
       "\\item -0.330470058841237\n",
       "\\item 2.45565059409849\n",
       "\\item -2.13213932952961\n",
       "\\item 0.689843095421481\n",
       "\\item 0.969907209113928\n",
       "\\item -0.0463375433822008\n",
       "\\item -1.19824147627356\n",
       "\\item -811.084090142201\n",
       "\\item 2.87733759554793\n",
       "\\item 0.0629966638553291\n",
       "\\item 0.0871433073219062\n",
       "\\item 1.81487600960432\n",
       "\\item 0.371685453094039\n",
       "\\item 0.0978704461522806\n",
       "\\item 0.133307603959032\n",
       "\\item 0.0643230185462249\n",
       "\\item 0.243652728232714\n",
       "\\item 2.17165942635722\n",
       "\\item -5.32040070657397\n",
       "\\item -0.135958748569911\n",
       "\\item -0.508129287142978\n",
       "\\item 0.126715523184098\n",
       "\\item -3.0380991161397\n",
       "\\item 0.511531765134227\n",
       "\\item 0.704548234979584\n",
       "\\item -0.168741076267089\n",
       "\\item -1.80557963730037\n",
       "\\item -815.927248942742\n",
       "\\item -1.89032949145428\n",
       "\\item -0.0528944493774413\n",
       "\\item -0.383571049240527\n",
       "\\item 1.05540621777618\n",
       "\\item -2.33131294970812\n",
       "\\item 0.62053932841684\n",
       "\\item 0.883311801628297\n",
       "\\item -0.0902458319722651\n",
       "\\item -1.33928354886286\n",
       "\\item -812.404597431014\n",
       "\\item -0.0889357065865137\n",
       "\\item -0.0152762289181247\n",
       "\\item -0.329548173634954\n",
       "\\item 2.06185096655021\n",
       "\\item -2.09117224030785\n",
       "\\item 0.688614046175635\n",
       "\\item 0.967929024812267\n",
       "\\item -0.0482617256942471\n",
       "\\item -1.1673159266824\n",
       "\\item -810.64512455992\n",
       "\\item 1.84903294151179\n",
       "\\item 0.0273891709556254\n",
       "\\item -0.272472458922137\n",
       "\\item 3.41882279634342\n",
       "\\item -1.88060832994124\n",
       "\\item 0.756718750780665\n",
       "\\item 1.05166106632168\n",
       "\\item 0.000783777685210115\n",
       "\\item -1.02548340327378\n",
       "\\item -809.417549258768\n",
       "\\item 6.17103367845452\n",
       "\\item 0.111266303511586\n",
       "\\item -0.170414116614112\n",
       "\\item 6.8516169218875\n",
       "\\item -1.55271594150709\n",
       "\\item 0.877379756994294\n",
       "\\item 1.24124052964506\n",
       "\\item 0.0752594883270144\n",
       "\\item -0.809200884744556\n",
       "\\item -807.902201832256\n",
       "\\item 0.307010323310672\n",
       "\\item -0.0102701553868714\n",
       "\\item -0.334743193996684\n",
       "\\item 2.4072391254387\n",
       "\\item -2.11257560523605\n",
       "\\item 0.696861179195227\n",
       "\\item 0.963835603765416\n",
       "\\item -0.0504002124270052\n",
       "\\item -1.18178864053608\n",
       "\\item -811.011036121899\n",
       "\\item 3.0275420777676\n",
       "\\item 0.0693447796812837\n",
       "\\item 0.0908029940046489\n",
       "\\item 1.85739253603676\n",
       "\\item 0.352281360149395\n",
       "\\item 0.0967333005681029\n",
       "\\item 0.126840531737479\n",
       "\\item 0.0584835156346386\n",
       "\\item 0.224567321977596\n",
       "\\item 2.18158753157544\n",
       "\\item -5.99627418952992\n",
       "\\item -0.140042053723316\n",
       "\\item -0.508640620169586\n",
       "\\item 0.120908219670637\n",
       "\\item -3.08248413786861\n",
       "\\item 0.502316152934214\n",
       "\\item 0.712955403428696\n",
       "\\item -0.161720913561187\n",
       "\\item -1.76167337356421\n",
       "\\item -816.059847585985\n",
       "\\item -1.63524586242398\n",
       "\\item -0.0586939207150786\n",
       "\\item -0.395426938906242\n",
       "\\item 0.964661710375233\n",
       "\\item -2.28258702804476\n",
       "\\item 0.628924003040968\n",
       "\\item 0.87616194063362\n",
       "\\item -0.0900825951189995\n",
       "\\item -1.29877294584225\n",
       "\\item -812.245765726994\n",
       "\\item 0.289002723025159\n",
       "\\item -0.0060003270106072\n",
       "\\item -0.336447117299613\n",
       "\\item 1.96691495923375\n",
       "\\item -2.07189273649188\n",
       "\\item 0.698486687149061\n",
       "\\item 0.96695777623338\n",
       "\\item -0.0526360090368967\n",
       "\\item -1.1558366586554\n",
       "\\item -810.744688399815\n",
       "\\item 2.37763756339574\n",
       "\\item 0.0376123301391681\n",
       "\\item -0.274704867264822\n",
       "\\item 3.41361203576594\n",
       "\\item -1.88759723260005\n",
       "\\item 0.761869152304163\n",
       "\\item 1.0432202670877\n",
       "\\item -0.012552028756947\n",
       "\\item -1.03222233682077\n",
       "\\item -809.343006526354\n",
       "\\item 6.03195835740766\n",
       "\\item 0.11253115500855\n",
       "\\item -0.157481519908259\n",
       "\\item 6.93005429739183\n",
       "\\item -1.5569857021458\n",
       "\\item 0.89321691671831\n",
       "\\item 1.22014255116164\n",
       "\\item 0.0634948192835166\n",
       "\\item -0.803386394405604\n",
       "\\item -807.83229486371\n",
       "\\end{enumerate*}\n",
       "\n",
       "\\end{description}\n"
      ],
      "text/markdown": [
       "$summary\n",
       ":   \n",
       "A matrix: 10 × 10 of type dbl\n",
       "\n",
       "| <!--/--> | mean | se_mean | sd | 2.5% | 25% | 50% | 75% | 97.5% | n_eff | Rhat |\n",
       "|---|---|---|---|---|---|---|---|---|---|---|\n",
       "| b[1] |    0.08619152 | 0.056972029 | 2.99054276 |   -5.9276967 |   -1.89051843 |    0.08338914 |  2.048268e+00 |    6.0319584 | 2755.349 | 1.0003068 |\n",
       "| b[2] |   -0.01215147 | 0.001200739 | 0.06427773 |   -0.1362203 |   -0.05488413 |   -0.01266952 |  3.128259e-02 |    0.1118174 | 2865.655 | 0.9996138 |\n",
       "| b[3] |   -0.33592351 | 0.002117026 | 0.08724257 |   -0.5079945 |   -0.39372445 |   -0.33720985 | -2.769614e-01 |   -0.1699277 | 1698.261 | 1.0011938 |\n",
       "| b[4] |    2.43915864 | 0.058142661 | 1.86369148 |    0.1086765 |    0.98423281 |    2.01106368 |  3.472629e+00 |    6.9496655 | 1027.444 | 1.0002488 |\n",
       "| b[5] |   -2.10335372 | 0.009743403 | 0.34681922 |   -2.9129760 |   -2.29695853 |   -2.07350865 | -1.867943e+00 |   -1.5403579 | 1267.025 | 1.0026183 |\n",
       "| b[6] |    0.69658822 | 0.002268633 | 0.09628761 |    0.5155472 |    0.62759284 |    0.69640528 |  7.611394e-01 |    0.8897071 | 1801.408 | 1.0016069 |\n",
       "| b[7] |    0.96773478 | 0.002562843 | 0.13396820 |    0.7104116 |    0.87804757 |    0.96358362 |  1.053923e+00 |    1.2411701 | 2732.496 | 1.0002148 |\n",
       "| b[8] |   -0.04893468 | 0.001265520 | 0.06128639 |   -0.1681941 |   -0.08984567 |   -0.05019468 | -7.220252e-03 |    0.0728337 | 2345.255 | 1.0033553 |\n",
       "| b[9] |   -1.17953355 | 0.006825038 | 0.22932607 |   -1.7102093 |   -1.31897138 |   -1.15452497 | -1.018868e+00 |   -0.7995647 | 1129.007 | 1.0023082 |\n",
       "| lp__ | -811.01501406 | 0.058183374 | 2.15531784 | -816.0580666 | -812.23722540 | -810.67312044 | -8.094065e+02 | -807.8310714 | 1372.223 | 1.0045093 |\n",
       "\n",
       "\n",
       "$c_summary\n",
       ":   1. 0.0247936082407007\n",
       "2. -0.0127132693014662\n",
       "3. -0.342866416332887\n",
       "4. 2.35074672657619\n",
       "5. -2.07488604099695\n",
       "6. 0.70479054249412\n",
       "7. 0.969319672410368\n",
       "8. -0.0502927910930044\n",
       "9. -1.16044629059285\n",
       "10. -810.848781314778\n",
       "11. 3.03924938908766\n",
       "12. 0.059581585019511\n",
       "13. 0.0838160775150072\n",
       "14. 1.74773773446684\n",
       "15. 0.3126047813076\n",
       "16. 0.0944819752899086\n",
       "17. 0.139240582769753\n",
       "18. 0.0598389897206279\n",
       "19. 0.21799160720217\n",
       "20. 2.11005402425514\n",
       "21. -6.10510252699546\n",
       "22. -0.129251786884956\n",
       "23. -0.506289846403165\n",
       "24. 0.086306912219023\n",
       "25. -2.74652820640331\n",
       "26. 0.538957257615687\n",
       "27. 0.719496336552282\n",
       "28. -0.171399666890222\n",
       "29. -1.61920802293279\n",
       "30. -815.919467347643\n",
       "31. -1.97087428646314\n",
       "32. -0.050295390955964\n",
       "33. -0.39822122462618\n",
       "34. 0.978342619936003\n",
       "35. -2.26147226347035\n",
       "36. 0.636348201781468\n",
       "37. 0.872293929487587\n",
       "38. -0.0897818508354548\n",
       "39. -1.30474512036308\n",
       "40. -811.979896386797\n",
       "41. 0.135272569307404\n",
       "42. -0.0136165322325408\n",
       "43. -0.346623617597924\n",
       "44. 1.97417569257186\n",
       "45. -2.05946355029352\n",
       "46. 0.705306255444123\n",
       "47. 0.95901904823403\n",
       "48. -0.0502754866698021\n",
       "49. -1.1361354193105\n",
       "50. -810.506429108244\n",
       "51. 1.943970160731\n",
       "52. 0.0257397944540053\n",
       "53. -0.288182561684537\n",
       "54. 3.44233708087121\n",
       "55. -1.85298039769156\n",
       "56. 0.770001365200811\n",
       "57. 1.06057916731555\n",
       "58. -0.0107646736704961\n",
       "59. -1.00455912274114\n",
       "60. -809.303840236522\n",
       "61. 5.95321700668136\n",
       "62. 0.106687400116802\n",
       "63. -0.179364114593426\n",
       "64. 6.35322190452901\n",
       "65. -1.55268923138977\n",
       "66. 0.893950429484976\n",
       "67. 1.25974627495651\n",
       "68. 0.0694804932607733\n",
       "69. -0.796491915792863\n",
       "70. -807.719785708918\n",
       "71. 0.0132069883601092\n",
       "72. -0.0134052934817555\n",
       "73. -0.33561435442885\n",
       "74. 2.54299813193753\n",
       "75. -2.09381390145779\n",
       "76. 0.69485804724589\n",
       "77. 0.967876651784369\n",
       "78. -0.0487081637907687\n",
       "79. -1.17765777550258\n",
       "80. -811.11614867045\n",
       "81. 3.0087750573999\n",
       "82. 0.0648554812298336\n",
       "83. 0.0867417658255771\n",
       "84. 2.02129535995522\n",
       "85. 0.345983566584389\n",
       "86. 0.0955735262747876\n",
       "87. 0.13628631791123\n",
       "88. 0.062338505733881\n",
       "89. 0.229082084411476\n",
       "90. 2.15060033990929\n",
       "91. -5.96881829890491\n",
       "92. -0.134271440965682\n",
       "93. -0.508012663569784\n",
       "94. 0.108202175786178\n",
       "95. -2.83566359247795\n",
       "96. 0.512154493386381\n",
       "97. 0.710387286113891\n",
       "98. -0.168890250211296\n",
       "99. -1.65027478149747\n",
       "100. -816.602439811876\n",
       "101. -2.02268348651232\n",
       "102. -0.0590402451936684\n",
       "103. -0.392158892961098\n",
       "104. 0.935325638691171\n",
       "105. -2.31279306421984\n",
       "106. 0.626532890044876\n",
       "107. 0.877706359611139\n",
       "108. -0.0889429836533141\n",
       "109. -1.33379635315422\n",
       "110. -812.320161080267\n",
       "111. -0.0479864856621472\n",
       "112. -0.0154742852318347\n",
       "113. -0.33528485725626\n",
       "114. 2.07950512073645\n",
       "115. -2.06971465486361\n",
       "116. 0.692739586411137\n",
       "117. 0.960784082302922\n",
       "118. -0.0497787266218154\n",
       "119. -1.15635739185026\n",
       "120. -810.812271922724\n",
       "121. 2.00406136340886\n",
       "122. 0.0328550205883511\n",
       "123. -0.271330257895454\n",
       "124. 3.59102001235346\n",
       "125. -1.85807371117002\n",
       "126. 0.756174729202469\n",
       "127. 1.06545141763183\n",
       "128. -0.00747509657007671\n",
       "129. -1.00509264193697\n",
       "130. -809.555012586233\n",
       "131. 5.97775733643393\n",
       "132. 0.120528289573632\n",
       "133. -0.172063486168361\n",
       "134. 7.41205884734232\n",
       "135. -1.5218422405725\n",
       "136. 0.885814046998816\n",
       "137. 1.24573455438881\n",
       "138. 0.0752296987960272\n",
       "139. -0.797236814391644\n",
       "140. -807.897057949051\n",
       "141. -0.000244826412986156\n",
       "142. -0.0122171561423013\n",
       "143. -0.330470058841237\n",
       "144. 2.45565059409849\n",
       "145. -2.13213932952961\n",
       "146. 0.689843095421481\n",
       "147. 0.969907209113928\n",
       "148. -0.0463375433822008\n",
       "149. -1.19824147627356\n",
       "150. -811.084090142201\n",
       "151. 2.87733759554793\n",
       "152. 0.0629966638553291\n",
       "153. 0.0871433073219062\n",
       "154. 1.81487600960432\n",
       "155. 0.371685453094039\n",
       "156. 0.0978704461522806\n",
       "157. 0.133307603959032\n",
       "158. 0.0643230185462249\n",
       "159. 0.243652728232714\n",
       "160. 2.17165942635722\n",
       "161. -5.32040070657397\n",
       "162. -0.135958748569911\n",
       "163. -0.508129287142978\n",
       "164. 0.126715523184098\n",
       "165. -3.0380991161397\n",
       "166. 0.511531765134227\n",
       "167. 0.704548234979584\n",
       "168. -0.168741076267089\n",
       "169. -1.80557963730037\n",
       "170. -815.927248942742\n",
       "171. -1.89032949145428\n",
       "172. -0.0528944493774413\n",
       "173. -0.383571049240527\n",
       "174. 1.05540621777618\n",
       "175. -2.33131294970812\n",
       "176. 0.62053932841684\n",
       "177. 0.883311801628297\n",
       "178. -0.0902458319722651\n",
       "179. -1.33928354886286\n",
       "180. -812.404597431014\n",
       "181. -0.0889357065865137\n",
       "182. -0.0152762289181247\n",
       "183. -0.329548173634954\n",
       "184. 2.06185096655021\n",
       "185. -2.09117224030785\n",
       "186. 0.688614046175635\n",
       "187. 0.967929024812267\n",
       "188. -0.0482617256942471\n",
       "189. -1.1673159266824\n",
       "190. -810.64512455992\n",
       "191. 1.84903294151179\n",
       "192. 0.0273891709556254\n",
       "193. -0.272472458922137\n",
       "194. 3.41882279634342\n",
       "195. -1.88060832994124\n",
       "196. 0.756718750780665\n",
       "197. 1.05166106632168\n",
       "198. 0.000783777685210115\n",
       "199. -1.02548340327378\n",
       "200. -809.417549258768\n",
       "201. 6.17103367845452\n",
       "202. 0.111266303511586\n",
       "203. -0.170414116614112\n",
       "204. 6.8516169218875\n",
       "205. -1.55271594150709\n",
       "206. 0.877379756994294\n",
       "207. 1.24124052964506\n",
       "208. 0.0752594883270144\n",
       "209. -0.809200884744556\n",
       "210. -807.902201832256\n",
       "211. 0.307010323310672\n",
       "212. -0.0102701553868714\n",
       "213. -0.334743193996684\n",
       "214. 2.4072391254387\n",
       "215. -2.11257560523605\n",
       "216. 0.696861179195227\n",
       "217. 0.963835603765416\n",
       "218. -0.0504002124270052\n",
       "219. -1.18178864053608\n",
       "220. -811.011036121899\n",
       "221. 3.0275420777676\n",
       "222. 0.0693447796812837\n",
       "223. 0.0908029940046489\n",
       "224. 1.85739253603676\n",
       "225. 0.352281360149395\n",
       "226. 0.0967333005681029\n",
       "227. 0.126840531737479\n",
       "228. 0.0584835156346386\n",
       "229. 0.224567321977596\n",
       "230. 2.18158753157544\n",
       "231. -5.99627418952992\n",
       "232. -0.140042053723316\n",
       "233. -0.508640620169586\n",
       "234. 0.120908219670637\n",
       "235. -3.08248413786861\n",
       "236. 0.502316152934214\n",
       "237. 0.712955403428696\n",
       "238. -0.161720913561187\n",
       "239. -1.76167337356421\n",
       "240. -816.059847585985\n",
       "241. -1.63524586242398\n",
       "242. -0.0586939207150786\n",
       "243. -0.395426938906242\n",
       "244. 0.964661710375233\n",
       "245. -2.28258702804476\n",
       "246. 0.628924003040968\n",
       "247. 0.87616194063362\n",
       "248. -0.0900825951189995\n",
       "249. -1.29877294584225\n",
       "250. -812.245765726994\n",
       "251. 0.289002723025159\n",
       "252. -0.0060003270106072\n",
       "253. -0.336447117299613\n",
       "254. 1.96691495923375\n",
       "255. -2.07189273649188\n",
       "256. 0.698486687149061\n",
       "257. 0.96695777623338\n",
       "258. -0.0526360090368967\n",
       "259. -1.1558366586554\n",
       "260. -810.744688399815\n",
       "261. 2.37763756339574\n",
       "262. 0.0376123301391681\n",
       "263. -0.274704867264822\n",
       "264. 3.41361203576594\n",
       "265. -1.88759723260005\n",
       "266. 0.761869152304163\n",
       "267. 1.0432202670877\n",
       "268. -0.012552028756947\n",
       "269. -1.03222233682077\n",
       "270. -809.343006526354\n",
       "271. 6.03195835740766\n",
       "272. 0.11253115500855\n",
       "273. -0.157481519908259\n",
       "274. 6.93005429739183\n",
       "275. -1.5569857021458\n",
       "276. 0.89321691671831\n",
       "277. 1.22014255116164\n",
       "278. 0.0634948192835166\n",
       "279. -0.803386394405604\n",
       "280. -807.83229486371\n",
       "\n",
       "\n",
       "\n",
       "\n",
       "\n"
      ],
      "text/plain": [
       "$summary\n",
       "              mean     se_mean         sd         2.5%           25%\n",
       "b[1]    0.08619152 0.056972029 2.99054276   -5.9276967   -1.89051843\n",
       "b[2]   -0.01215147 0.001200739 0.06427773   -0.1362203   -0.05488413\n",
       "b[3]   -0.33592351 0.002117026 0.08724257   -0.5079945   -0.39372445\n",
       "b[4]    2.43915864 0.058142661 1.86369148    0.1086765    0.98423281\n",
       "b[5]   -2.10335372 0.009743403 0.34681922   -2.9129760   -2.29695853\n",
       "b[6]    0.69658822 0.002268633 0.09628761    0.5155472    0.62759284\n",
       "b[7]    0.96773478 0.002562843 0.13396820    0.7104116    0.87804757\n",
       "b[8]   -0.04893468 0.001265520 0.06128639   -0.1681941   -0.08984567\n",
       "b[9]   -1.17953355 0.006825038 0.22932607   -1.7102093   -1.31897138\n",
       "lp__ -811.01501406 0.058183374 2.15531784 -816.0580666 -812.23722540\n",
       "               50%           75%        97.5%    n_eff      Rhat\n",
       "b[1]    0.08338914  2.048268e+00    6.0319584 2755.349 1.0003068\n",
       "b[2]   -0.01266952  3.128259e-02    0.1118174 2865.655 0.9996138\n",
       "b[3]   -0.33720985 -2.769614e-01   -0.1699277 1698.261 1.0011938\n",
       "b[4]    2.01106368  3.472629e+00    6.9496655 1027.444 1.0002488\n",
       "b[5]   -2.07350865 -1.867943e+00   -1.5403579 1267.025 1.0026183\n",
       "b[6]    0.69640528  7.611394e-01    0.8897071 1801.408 1.0016069\n",
       "b[7]    0.96358362  1.053923e+00    1.2411701 2732.496 1.0002148\n",
       "b[8]   -0.05019468 -7.220252e-03    0.0728337 2345.255 1.0033553\n",
       "b[9]   -1.15452497 -1.018868e+00   -0.7995647 1129.007 1.0023082\n",
       "lp__ -810.67312044 -8.094065e+02 -807.8310714 1372.223 1.0045093\n",
       "\n",
       "$c_summary\n",
       ", , chains = chain:1\n",
       "\n",
       "         stats\n",
       "parameter          mean         sd          2.5%           25%           50%\n",
       "     b[1]    0.02479361 3.03924939   -6.10510253   -1.97087429    0.13527257\n",
       "     b[2]   -0.01271327 0.05958159   -0.12925179   -0.05029539   -0.01361653\n",
       "     b[3]   -0.34286642 0.08381608   -0.50628985   -0.39822122   -0.34662362\n",
       "     b[4]    2.35074673 1.74773773    0.08630691    0.97834262    1.97417569\n",
       "     b[5]   -2.07488604 0.31260478   -2.74652821   -2.26147226   -2.05946355\n",
       "     b[6]    0.70479054 0.09448198    0.53895726    0.63634820    0.70530626\n",
       "     b[7]    0.96931967 0.13924058    0.71949634    0.87229393    0.95901905\n",
       "     b[8]   -0.05029279 0.05983899   -0.17139967   -0.08978185   -0.05027549\n",
       "     b[9]   -1.16044629 0.21799161   -1.61920802   -1.30474512   -1.13613542\n",
       "     lp__ -810.84878131 2.11005402 -815.91946735 -811.97989639 -810.50642911\n",
       "         stats\n",
       "parameter           75%         97.5%\n",
       "     b[1]    1.94397016    5.95321701\n",
       "     b[2]    0.02573979    0.10668740\n",
       "     b[3]   -0.28818256   -0.17936411\n",
       "     b[4]    3.44233708    6.35322190\n",
       "     b[5]   -1.85298040   -1.55268923\n",
       "     b[6]    0.77000137    0.89395043\n",
       "     b[7]    1.06057917    1.25974627\n",
       "     b[8]   -0.01076467    0.06948049\n",
       "     b[9]   -1.00455912   -0.79649192\n",
       "     lp__ -809.30384024 -807.71978571\n",
       "\n",
       ", , chains = chain:2\n",
       "\n",
       "         stats\n",
       "parameter          mean         sd         2.5%           25%           50%\n",
       "     b[1]    0.01320699 3.00877506   -5.9688183   -2.02268349   -0.04798649\n",
       "     b[2]   -0.01340529 0.06485548   -0.1342714   -0.05904025   -0.01547429\n",
       "     b[3]   -0.33561435 0.08674177   -0.5080127   -0.39215889   -0.33528486\n",
       "     b[4]    2.54299813 2.02129536    0.1082022    0.93532564    2.07950512\n",
       "     b[5]   -2.09381390 0.34598357   -2.8356636   -2.31279306   -2.06971465\n",
       "     b[6]    0.69485805 0.09557353    0.5121545    0.62653289    0.69273959\n",
       "     b[7]    0.96787665 0.13628632    0.7103873    0.87770636    0.96078408\n",
       "     b[8]   -0.04870816 0.06233851   -0.1688903   -0.08894298   -0.04977873\n",
       "     b[9]   -1.17765778 0.22908208   -1.6502748   -1.33379635   -1.15635739\n",
       "     lp__ -811.11614867 2.15060034 -816.6024398 -812.32016108 -810.81227192\n",
       "         stats\n",
       "parameter           75%        97.5%\n",
       "     b[1]  2.004061e+00    5.9777573\n",
       "     b[2]  3.285502e-02    0.1205283\n",
       "     b[3] -2.713303e-01   -0.1720635\n",
       "     b[4]  3.591020e+00    7.4120588\n",
       "     b[5] -1.858074e+00   -1.5218422\n",
       "     b[6]  7.561747e-01    0.8858140\n",
       "     b[7]  1.065451e+00    1.2457346\n",
       "     b[8] -7.475097e-03    0.0752297\n",
       "     b[9] -1.005093e+00   -0.7972368\n",
       "     lp__ -8.095550e+02 -807.8970579\n",
       "\n",
       ", , chains = chain:3\n",
       "\n",
       "         stats\n",
       "parameter          mean         sd         2.5%           25%           50%\n",
       "     b[1] -2.448264e-04 2.87733760   -5.3204007   -1.89032949   -0.08893571\n",
       "     b[2] -1.221716e-02 0.06299666   -0.1359587   -0.05289445   -0.01527623\n",
       "     b[3] -3.304701e-01 0.08714331   -0.5081293   -0.38357105   -0.32954817\n",
       "     b[4]  2.455651e+00 1.81487601    0.1267155    1.05540622    2.06185097\n",
       "     b[5] -2.132139e+00 0.37168545   -3.0380991   -2.33131295   -2.09117224\n",
       "     b[6]  6.898431e-01 0.09787045    0.5115318    0.62053933    0.68861405\n",
       "     b[7]  9.699072e-01 0.13330760    0.7045482    0.88331180    0.96792902\n",
       "     b[8] -4.633754e-02 0.06432302   -0.1687411   -0.09024583   -0.04826173\n",
       "     b[9] -1.198241e+00 0.24365273   -1.8055796   -1.33928355   -1.16731593\n",
       "     lp__ -8.110841e+02 2.17165943 -815.9272489 -812.40459743 -810.64512456\n",
       "         stats\n",
       "parameter           75%         97.5%\n",
       "     b[1]  1.849033e+00    6.17103368\n",
       "     b[2]  2.738917e-02    0.11126630\n",
       "     b[3] -2.724725e-01   -0.17041412\n",
       "     b[4]  3.418823e+00    6.85161692\n",
       "     b[5] -1.880608e+00   -1.55271594\n",
       "     b[6]  7.567188e-01    0.87737976\n",
       "     b[7]  1.051661e+00    1.24124053\n",
       "     b[8]  7.837777e-04    0.07525949\n",
       "     b[9] -1.025483e+00   -0.80920088\n",
       "     lp__ -8.094175e+02 -807.90220183\n",
       "\n",
       ", , chains = chain:4\n",
       "\n",
       "         stats\n",
       "parameter          mean         sd         2.5%           25%           50%\n",
       "     b[1]    0.30701032 3.02754208   -5.9962742   -1.63524586  2.890027e-01\n",
       "     b[2]   -0.01027016 0.06934478   -0.1400421   -0.05869392 -6.000327e-03\n",
       "     b[3]   -0.33474319 0.09080299   -0.5086406   -0.39542694 -3.364471e-01\n",
       "     b[4]    2.40723913 1.85739254    0.1209082    0.96466171  1.966915e+00\n",
       "     b[5]   -2.11257561 0.35228136   -3.0824841   -2.28258703 -2.071893e+00\n",
       "     b[6]    0.69686118 0.09673330    0.5023162    0.62892400  6.984867e-01\n",
       "     b[7]    0.96383560 0.12684053    0.7129554    0.87616194  9.669578e-01\n",
       "     b[8]   -0.05040021 0.05848352   -0.1617209   -0.09008260 -5.263601e-02\n",
       "     b[9]   -1.18178864 0.22456732   -1.7616734   -1.29877295 -1.155837e+00\n",
       "     lp__ -811.01103612 2.18158753 -816.0598476 -812.24576573 -8.107447e+02\n",
       "         stats\n",
       "parameter           75%         97.5%\n",
       "     b[1]    2.37763756    6.03195836\n",
       "     b[2]    0.03761233    0.11253116\n",
       "     b[3]   -0.27470487   -0.15748152\n",
       "     b[4]    3.41361204    6.93005430\n",
       "     b[5]   -1.88759723   -1.55698570\n",
       "     b[6]    0.76186915    0.89321692\n",
       "     b[7]    1.04322027    1.22014255\n",
       "     b[8]   -0.01255203    0.06349482\n",
       "     b[9]   -1.03222234   -0.80338639\n",
       "     lp__ -809.34300653 -807.83229486\n",
       "\n"
      ]
     },
     "metadata": {},
     "output_type": "display_data"
    }
   ],
   "source": [
    "summary(stan_model)"
   ]
  },
  {
   "cell_type": "code",
   "execution_count": 37,
   "metadata": {
    "ExecuteTime": {
     "end_time": "2021-05-29T15:21:59.703318Z",
     "start_time": "2021-05-29T15:21:59.492Z"
    }
   },
   "outputs": [
    {
     "name": "stderr",
     "output_type": "stream",
     "text": [
      "Warning message:\n",
      "\"package 'BayesPostEst' was built under R version 4.0.5\"\n"
     ]
    }
   ],
   "source": [
    "library(\"BayesPostEst\")"
   ]
  },
  {
   "cell_type": "code",
   "execution_count": 38,
   "metadata": {
    "ExecuteTime": {
     "end_time": "2021-05-29T15:22:01.610937Z",
     "start_time": "2021-05-29T15:22:01.541Z"
    }
   },
   "outputs": [
    {
     "data": {
      "text/html": [
       "<table class=\"dataframe\">\n",
       "<caption>A data.frame: 10 × 5</caption>\n",
       "<thead>\n",
       "\t<tr><th scope=col>Variable</th><th scope=col>Median</th><th scope=col>SD</th><th scope=col>Lower</th><th scope=col>Upper</th></tr>\n",
       "\t<tr><th scope=col>&lt;fct&gt;</th><th scope=col>&lt;dbl&gt;</th><th scope=col>&lt;dbl&gt;</th><th scope=col>&lt;dbl&gt;</th><th scope=col>&lt;dbl&gt;</th></tr>\n",
       "</thead>\n",
       "<tbody>\n",
       "\t<tr><td>b[1]</td><td>   0.083</td><td>2.991</td><td>  -5.928</td><td>   6.032</td></tr>\n",
       "\t<tr><td>b[2]</td><td>  -0.013</td><td>0.064</td><td>  -0.136</td><td>   0.112</td></tr>\n",
       "\t<tr><td>b[3]</td><td>  -0.337</td><td>0.087</td><td>  -0.508</td><td>  -0.170</td></tr>\n",
       "\t<tr><td>b[4]</td><td>   2.011</td><td>1.864</td><td>   0.109</td><td>   6.950</td></tr>\n",
       "\t<tr><td>b[5]</td><td>  -2.074</td><td>0.347</td><td>  -2.913</td><td>  -1.540</td></tr>\n",
       "\t<tr><td>b[6]</td><td>   0.696</td><td>0.096</td><td>   0.516</td><td>   0.890</td></tr>\n",
       "\t<tr><td>b[7]</td><td>   0.964</td><td>0.134</td><td>   0.710</td><td>   1.241</td></tr>\n",
       "\t<tr><td>b[8]</td><td>  -0.050</td><td>0.061</td><td>  -0.168</td><td>   0.073</td></tr>\n",
       "\t<tr><td>b[9]</td><td>  -1.155</td><td>0.229</td><td>  -1.710</td><td>  -0.800</td></tr>\n",
       "\t<tr><td>lp__</td><td>-810.673</td><td>2.155</td><td>-816.058</td><td>-807.831</td></tr>\n",
       "</tbody>\n",
       "</table>\n"
      ],
      "text/latex": [
       "A data.frame: 10 × 5\n",
       "\\begin{tabular}{lllll}\n",
       " Variable & Median & SD & Lower & Upper\\\\\n",
       " <fct> & <dbl> & <dbl> & <dbl> & <dbl>\\\\\n",
       "\\hline\n",
       "\t b{[}1{]} &    0.083 & 2.991 &   -5.928 &    6.032\\\\\n",
       "\t b{[}2{]} &   -0.013 & 0.064 &   -0.136 &    0.112\\\\\n",
       "\t b{[}3{]} &   -0.337 & 0.087 &   -0.508 &   -0.170\\\\\n",
       "\t b{[}4{]} &    2.011 & 1.864 &    0.109 &    6.950\\\\\n",
       "\t b{[}5{]} &   -2.074 & 0.347 &   -2.913 &   -1.540\\\\\n",
       "\t b{[}6{]} &    0.696 & 0.096 &    0.516 &    0.890\\\\\n",
       "\t b{[}7{]} &    0.964 & 0.134 &    0.710 &    1.241\\\\\n",
       "\t b{[}8{]} &   -0.050 & 0.061 &   -0.168 &    0.073\\\\\n",
       "\t b{[}9{]} &   -1.155 & 0.229 &   -1.710 &   -0.800\\\\\n",
       "\t lp\\_\\_ & -810.673 & 2.155 & -816.058 & -807.831\\\\\n",
       "\\end{tabular}\n"
      ],
      "text/markdown": [
       "\n",
       "A data.frame: 10 × 5\n",
       "\n",
       "| Variable &lt;fct&gt; | Median &lt;dbl&gt; | SD &lt;dbl&gt; | Lower &lt;dbl&gt; | Upper &lt;dbl&gt; |\n",
       "|---|---|---|---|---|\n",
       "| b[1] |    0.083 | 2.991 |   -5.928 |    6.032 |\n",
       "| b[2] |   -0.013 | 0.064 |   -0.136 |    0.112 |\n",
       "| b[3] |   -0.337 | 0.087 |   -0.508 |   -0.170 |\n",
       "| b[4] |    2.011 | 1.864 |    0.109 |    6.950 |\n",
       "| b[5] |   -2.074 | 0.347 |   -2.913 |   -1.540 |\n",
       "| b[6] |    0.696 | 0.096 |    0.516 |    0.890 |\n",
       "| b[7] |    0.964 | 0.134 |    0.710 |    1.241 |\n",
       "| b[8] |   -0.050 | 0.061 |   -0.168 |    0.073 |\n",
       "| b[9] |   -1.155 | 0.229 |   -1.710 |   -0.800 |\n",
       "| lp__ | -810.673 | 2.155 | -816.058 | -807.831 |\n",
       "\n"
      ],
      "text/plain": [
       "   Variable Median   SD    Lower    Upper   \n",
       "1  b[1]        0.083 2.991   -5.928    6.032\n",
       "2  b[2]       -0.013 0.064   -0.136    0.112\n",
       "3  b[3]       -0.337 0.087   -0.508   -0.170\n",
       "4  b[4]        2.011 1.864    0.109    6.950\n",
       "5  b[5]       -2.074 0.347   -2.913   -1.540\n",
       "6  b[6]        0.696 0.096    0.516    0.890\n",
       "7  b[7]        0.964 0.134    0.710    1.241\n",
       "8  b[8]       -0.050 0.061   -0.168    0.073\n",
       "9  b[9]       -1.155 0.229   -1.710   -0.800\n",
       "10 lp__     -810.673 2.155 -816.058 -807.831"
      ]
     },
     "metadata": {},
     "output_type": "display_data"
    }
   ],
   "source": [
    "mcmcTab(stan_model)"
   ]
  },
  {
   "cell_type": "code",
   "execution_count": 39,
   "metadata": {
    "ExecuteTime": {
     "end_time": "2021-05-29T15:23:42.899629Z",
     "start_time": "2021-05-29T15:23:42.864Z"
    }
   },
   "outputs": [
    {
     "data": {
      "text/html": [
       "<table class=\"dataframe\">\n",
       "<caption>A data.frame: 10 × 6</caption>\n",
       "<thead>\n",
       "\t<tr><th scope=col>Variable</th><th scope=col>Median</th><th scope=col>SD</th><th scope=col>Lower</th><th scope=col>Upper</th><th scope=col>Pr</th></tr>\n",
       "\t<tr><th scope=col>&lt;fct&gt;</th><th scope=col>&lt;dbl&gt;</th><th scope=col>&lt;dbl&gt;</th><th scope=col>&lt;dbl&gt;</th><th scope=col>&lt;dbl&gt;</th><th scope=col>&lt;dbl&gt;</th></tr>\n",
       "</thead>\n",
       "<tbody>\n",
       "\t<tr><td>b[1]</td><td>   0.083</td><td>2.991</td><td>  -5.928</td><td>   6.032</td><td>0.509</td></tr>\n",
       "\t<tr><td>b[2]</td><td>  -0.013</td><td>0.064</td><td>  -0.136</td><td>   0.112</td><td>0.575</td></tr>\n",
       "\t<tr><td>b[3]</td><td>  -0.337</td><td>0.087</td><td>  -0.508</td><td>  -0.170</td><td>1.000</td></tr>\n",
       "\t<tr><td>b[4]</td><td>   2.011</td><td>1.864</td><td>   0.109</td><td>   6.950</td><td>0.997</td></tr>\n",
       "\t<tr><td>b[5]</td><td>  -2.074</td><td>0.347</td><td>  -2.913</td><td>  -1.540</td><td>1.000</td></tr>\n",
       "\t<tr><td>b[6]</td><td>   0.696</td><td>0.096</td><td>   0.516</td><td>   0.890</td><td>1.000</td></tr>\n",
       "\t<tr><td>b[7]</td><td>   0.964</td><td>0.134</td><td>   0.710</td><td>   1.241</td><td>1.000</td></tr>\n",
       "\t<tr><td>b[8]</td><td>  -0.050</td><td>0.061</td><td>  -0.168</td><td>   0.073</td><td>0.782</td></tr>\n",
       "\t<tr><td>b[9]</td><td>  -1.155</td><td>0.229</td><td>  -1.710</td><td>  -0.800</td><td>1.000</td></tr>\n",
       "\t<tr><td>lp__</td><td>-810.673</td><td>2.155</td><td>-816.058</td><td>-807.831</td><td>1.000</td></tr>\n",
       "</tbody>\n",
       "</table>\n"
      ],
      "text/latex": [
       "A data.frame: 10 × 6\n",
       "\\begin{tabular}{llllll}\n",
       " Variable & Median & SD & Lower & Upper & Pr\\\\\n",
       " <fct> & <dbl> & <dbl> & <dbl> & <dbl> & <dbl>\\\\\n",
       "\\hline\n",
       "\t b{[}1{]} &    0.083 & 2.991 &   -5.928 &    6.032 & 0.509\\\\\n",
       "\t b{[}2{]} &   -0.013 & 0.064 &   -0.136 &    0.112 & 0.575\\\\\n",
       "\t b{[}3{]} &   -0.337 & 0.087 &   -0.508 &   -0.170 & 1.000\\\\\n",
       "\t b{[}4{]} &    2.011 & 1.864 &    0.109 &    6.950 & 0.997\\\\\n",
       "\t b{[}5{]} &   -2.074 & 0.347 &   -2.913 &   -1.540 & 1.000\\\\\n",
       "\t b{[}6{]} &    0.696 & 0.096 &    0.516 &    0.890 & 1.000\\\\\n",
       "\t b{[}7{]} &    0.964 & 0.134 &    0.710 &    1.241 & 1.000\\\\\n",
       "\t b{[}8{]} &   -0.050 & 0.061 &   -0.168 &    0.073 & 0.782\\\\\n",
       "\t b{[}9{]} &   -1.155 & 0.229 &   -1.710 &   -0.800 & 1.000\\\\\n",
       "\t lp\\_\\_ & -810.673 & 2.155 & -816.058 & -807.831 & 1.000\\\\\n",
       "\\end{tabular}\n"
      ],
      "text/markdown": [
       "\n",
       "A data.frame: 10 × 6\n",
       "\n",
       "| Variable &lt;fct&gt; | Median &lt;dbl&gt; | SD &lt;dbl&gt; | Lower &lt;dbl&gt; | Upper &lt;dbl&gt; | Pr &lt;dbl&gt; |\n",
       "|---|---|---|---|---|---|\n",
       "| b[1] |    0.083 | 2.991 |   -5.928 |    6.032 | 0.509 |\n",
       "| b[2] |   -0.013 | 0.064 |   -0.136 |    0.112 | 0.575 |\n",
       "| b[3] |   -0.337 | 0.087 |   -0.508 |   -0.170 | 1.000 |\n",
       "| b[4] |    2.011 | 1.864 |    0.109 |    6.950 | 0.997 |\n",
       "| b[5] |   -2.074 | 0.347 |   -2.913 |   -1.540 | 1.000 |\n",
       "| b[6] |    0.696 | 0.096 |    0.516 |    0.890 | 1.000 |\n",
       "| b[7] |    0.964 | 0.134 |    0.710 |    1.241 | 1.000 |\n",
       "| b[8] |   -0.050 | 0.061 |   -0.168 |    0.073 | 0.782 |\n",
       "| b[9] |   -1.155 | 0.229 |   -1.710 |   -0.800 | 1.000 |\n",
       "| lp__ | -810.673 | 2.155 | -816.058 | -807.831 | 1.000 |\n",
       "\n"
      ],
      "text/plain": [
       "   Variable Median   SD    Lower    Upper    Pr   \n",
       "1  b[1]        0.083 2.991   -5.928    6.032 0.509\n",
       "2  b[2]       -0.013 0.064   -0.136    0.112 0.575\n",
       "3  b[3]       -0.337 0.087   -0.508   -0.170 1.000\n",
       "4  b[4]        2.011 1.864    0.109    6.950 0.997\n",
       "5  b[5]       -2.074 0.347   -2.913   -1.540 1.000\n",
       "6  b[6]        0.696 0.096    0.516    0.890 1.000\n",
       "7  b[7]        0.964 0.134    0.710    1.241 1.000\n",
       "8  b[8]       -0.050 0.061   -0.168    0.073 0.782\n",
       "9  b[9]       -1.155 0.229   -1.710   -0.800 1.000\n",
       "10 lp__     -810.673 2.155 -816.058 -807.831 1.000"
      ]
     },
     "metadata": {},
     "output_type": "display_data"
    }
   ],
   "source": [
    "mcmcTab(stan_model, Pr = TRUE)"
   ]
  },
  {
   "cell_type": "code",
   "execution_count": 40,
   "metadata": {
    "ExecuteTime": {
     "end_time": "2021-05-29T15:24:12.548014Z",
     "start_time": "2021-05-29T15:24:12.529Z"
    }
   },
   "outputs": [],
   "source": [
    "matrix_stan <- as.matrix(stan_model)"
   ]
  },
  {
   "cell_type": "code",
   "execution_count": 41,
   "metadata": {
    "ExecuteTime": {
     "end_time": "2021-05-29T15:24:29.254607Z",
     "start_time": "2021-05-29T15:24:29.236Z"
    }
   },
   "outputs": [],
   "source": [
    "mm <- model.matrix(Response ~ Gender + Age + Driving_License + Previously_Insured + \n",
    "                         Vehicle_Age + Vehicle_Damage + Annual_Premium + Vintage,\n",
    "                   data = df)"
   ]
  },
  {
   "cell_type": "code",
   "execution_count": 75,
   "metadata": {
    "ExecuteTime": {
     "end_time": "2021-05-29T15:39:03.884256Z",
     "start_time": "2021-05-29T15:39:03.854Z"
    }
   },
   "outputs": [],
   "source": [
    "aveprob.Insured.stan <- mcmcAveProb(modelmatrix = mm,\n",
    "            mcmcout = matrix_stan[, 1:ncol(mm)],\n",
    "            xcol = 4,\n",
    "            xrange = c(0, 1),\n",
    "            link = \"logit\",\n",
    "            ci = c(0.025, 0.975),\n",
    "            fullsims = TRUE)"
   ]
  },
  {
   "cell_type": "code",
   "execution_count": 76,
   "metadata": {
    "ExecuteTime": {
     "end_time": "2021-05-29T15:39:31.328355Z",
     "start_time": "2021-05-29T15:39:31.144Z"
    }
   },
   "outputs": [
    {
     "name": "stderr",
     "output_type": "stream",
     "text": [
      "Picking joint bandwidth of 0.0298\n",
      "\n"
     ]
    },
    {
     "data": {
      "image/png": "[encoded data removed]",
      "text/plain": [
       "plot without title"
      ]
     },
     "metadata": {
      "image/png": {
       "height": 420,
       "width": 420
      }
     },
     "output_type": "display_data"
    }
   ],
   "source": [
    "library(\"ggplot2\")\n",
    "library(\"ggridges\")\n",
    "ggplot(data = aveprob.Insured.stan, \n",
    "       aes(y = factor(x), x = pp)) + \n",
    "  stat_density_ridges(quantile_lines = TRUE, \n",
    "                quantiles = c(0.025, 0.5, 0.975), vline_color = \"white\") + \n",
    "  scale_y_discrete(labels = c(\"Non-Insured\", \"Insured\")) + \n",
    "  ylab(\"\") + \n",
    "  xlab(\"Estimated probability of volunteering\") + \n",
    "  labs(title = \"Probability based on average-case approach\") +\n",
    "  theme_minimal()"
   ]
  },
  {
   "cell_type": "code",
   "execution_count": 28,
   "metadata": {
    "ExecuteTime": {
     "end_time": "2021-05-28T22:13:08.317812Z",
     "start_time": "2021-05-28T22:13:08.218Z"
    }
   },
   "outputs": [
    {
     "data": {
      "text/html": [
       "<style>\n",
       ".list-inline {list-style: none; margin:0; padding: 0}\n",
       ".list-inline>li {display: inline-block}\n",
       ".list-inline>li:not(:last-child)::after {content: \"\\00b7\"; padding: 0 .5ex}\n",
       "</style>\n",
       "<ol class=list-inline><li>'Gender'</li><li>'Age'</li><li>'Driving_License'</li><li>'Previously_Insured'</li><li>'Vehicle_Age'</li><li>'Vehicle_Damage'</li><li>'Annual_Premium'</li><li>'Vintage'</li><li>'Response'</li></ol>\n"
      ],
      "text/latex": [
       "\\begin{enumerate*}\n",
       "\\item 'Gender'\n",
       "\\item 'Age'\n",
       "\\item 'Driving\\_License'\n",
       "\\item 'Previously\\_Insured'\n",
       "\\item 'Vehicle\\_Age'\n",
       "\\item 'Vehicle\\_Damage'\n",
       "\\item 'Annual\\_Premium'\n",
       "\\item 'Vintage'\n",
       "\\item 'Response'\n",
       "\\end{enumerate*}\n"
      ],
      "text/markdown": [
       "1. 'Gender'\n",
       "2. 'Age'\n",
       "3. 'Driving_License'\n",
       "4. 'Previously_Insured'\n",
       "5. 'Vehicle_Age'\n",
       "6. 'Vehicle_Damage'\n",
       "7. 'Annual_Premium'\n",
       "8. 'Vintage'\n",
       "9. 'Response'\n",
       "\n",
       "\n"
      ],
      "text/plain": [
       "[1] \"Gender\"             \"Age\"                \"Driving_License\"   \n",
       "[4] \"Previously_Insured\" \"Vehicle_Age\"        \"Vehicle_Damage\"    \n",
       "[7] \"Annual_Premium\"     \"Vintage\"            \"Response\"          "
      ]
     },
     "metadata": {},
     "output_type": "display_data"
    }
   ],
   "source": [
    "colnames(df)"
   ]
  },
  {
   "cell_type": "code",
   "execution_count": 53,
   "metadata": {
    "ExecuteTime": {
     "end_time": "2021-05-29T15:27:29.035543Z",
     "start_time": "2021-05-29T15:27:28.981Z"
    }
   },
   "outputs": [],
   "source": [
    "aveprob.Vehicle_Age.stan <- mcmcAveProb(modelmatrix = mm,\n",
    "            mcmcout = matrix_stan[, 1:ncol(mm)],\n",
    "            xcol = 5,\n",
    "            xrange = seq(min(df$Vehicle_Age), max(df$Vehicle_Age), length.out = 20),\n",
    "            link = \"logit\",\n",
    "            ci = c(0.025, 0.975),\n",
    "            fullsims = FALSE)"
   ]
  },
  {
   "cell_type": "code",
   "execution_count": 54,
   "metadata": {
    "ExecuteTime": {
     "end_time": "2021-05-29T15:27:29.293094Z",
     "start_time": "2021-05-29T15:27:29.117Z"
    }
   },
   "outputs": [
    {
     "data": {
      "image/png": "[encoded data removed]",
      "text/plain": [
       "plot without title"
      ]
     },
     "metadata": {
      "image/png": {
       "height": 420,
       "width": 420
      }
     },
     "output_type": "display_data"
    }
   ],
   "source": [
    "ggplot(data = aveprob.Vehicle_Age.stan, \n",
    "       aes(x = x, y = median_pp)) + \n",
    "  geom_ribbon(aes(ymin = lower_pp, ymax = upper_pp), fill = \"gray\") + \n",
    "  geom_line() + \n",
    "  xlab(\"Vehicle_Age\") + \n",
    "  ylab(\"Estimated probability of Applying\") + \n",
    "  ylim(0, 1) + \n",
    "  labs(title = \"Probability based on average-case approach\") +\n",
    "  theme_minimal()"
   ]
  },
  {
   "cell_type": "code",
   "execution_count": 56,
   "metadata": {
    "ExecuteTime": {
     "end_time": "2021-05-29T15:28:03.052168Z",
     "start_time": "2021-05-29T15:28:02.952Z"
    }
   },
   "outputs": [
    {
     "data": {
      "text/plain": [
       "   median_fd             lower_fd             upper_fd         \n",
       " Min.   :-0.5687908   Min.   :-0.8750268   Min.   :-0.0100550  \n",
       " 1st Qu.:-0.0506125   1st Qu.:-0.2427741   1st Qu.:-0.0002056  \n",
       " Median :-0.0004644   Median :-0.0307555   Median : 0.0028532  \n",
       " Mean   :-0.0538745   Mean   :-0.1998843   Mean   : 0.1102380  \n",
       " 3rd Qu.: 0.0238401   3rd Qu.: 0.0001256   3rd Qu.: 0.1072720  \n",
       " Max.   : 0.1934150   Max.   : 0.0013045   Max.   : 0.5264432  \n",
       "   VarName              VarID     \n",
       " Length:8           Min.   :1.00  \n",
       " Class :character   1st Qu.:2.75  \n",
       " Mode  :character   Median :4.50  \n",
       "                    Mean   :4.50  \n",
       "                    3rd Qu.:6.25  \n",
       "                    Max.   :8.00  "
      ]
     },
     "metadata": {},
     "output_type": "display_data"
    }
   ],
   "source": [
    "fdsum.stan <- mcmcFD(modelmatrix = mm,\n",
    "                  mcmcout = matrix_stan[, 1:ncol(mm)],\n",
    "                  link = \"logit\",\n",
    "                  ci = c(0.025, 0.975),\n",
    "                  fullsims = FALSE)\n",
    "summary(fdsum.stan)"
   ]
  },
  {
   "cell_type": "code",
   "execution_count": 57,
   "metadata": {
    "ExecuteTime": {
     "end_time": "2021-05-29T15:28:14.653781Z",
     "start_time": "2021-05-29T15:28:14.490Z"
    }
   },
   "outputs": [
    {
     "data": {
      "image/png": "[encoded data removed]",
      "text/plain": [
       "plot without title"
      ]
     },
     "metadata": {
      "image/png": {
       "height": 420,
       "width": 420
      }
     },
     "output_type": "display_data"
    }
   ],
   "source": [
    "ggplot(data = fdsum.stan, \n",
    "       aes(x = median_fd, y = VarName)) + \n",
    "  geom_point() + \n",
    "  geom_segment(aes(x = lower_fd, xend = upper_fd, yend = VarName)) + \n",
    "  geom_vline(xintercept = 0) + \n",
    "  xlab(\"Change in Pr(Volunteering)\") + \n",
    "  ylab(\"\") +\n",
    "  theme_minimal()"
   ]
  },
  {
   "cell_type": "code",
   "execution_count": 61,
   "metadata": {
    "ExecuteTime": {
     "end_time": "2021-05-29T15:30:37.083890Z",
     "start_time": "2021-05-29T15:30:35.484Z"
    }
   },
   "outputs": [],
   "source": [
    "fitstats <- mcmcRocPrc(object = stan_model,\n",
    "                       data=dfCombined,\n",
    "                       yname  = \"Response\",\n",
    "                       xnames = c('Gender','Age','Driving_License','Previously_Insured','Vehicle_Age',\n",
    "                                  'Vehicle_Damage','Annual_Premium','Vintage'),\n",
    "                       curves = TRUE,\n",
    "                       fullsims = FALSE)"
   ]
  },
  {
   "cell_type": "code",
   "execution_count": 62,
   "metadata": {
    "ExecuteTime": {
     "end_time": "2021-05-29T15:30:38.641573Z",
     "start_time": "2021-05-29T15:30:38.618Z"
    }
   },
   "outputs": [
    {
     "data": {
      "text/html": [
       "<strong>V1:</strong> 0.830421499999991"
      ],
      "text/latex": [
       "\\textbf{V1:} 0.830421499999991"
      ],
      "text/markdown": [
       "**V1:** 0.830421499999991"
      ],
      "text/plain": [
       "       V1 \n",
       "0.8304215 "
      ]
     },
     "metadata": {},
     "output_type": "display_data"
    }
   ],
   "source": [
    "fitstats$area_under_roc"
   ]
  },
  {
   "cell_type": "code",
   "execution_count": 63,
   "metadata": {
    "ExecuteTime": {
     "end_time": "2021-05-29T15:30:39.926579Z",
     "start_time": "2021-05-29T15:30:39.907Z"
    }
   },
   "outputs": [
    {
     "data": {
      "text/html": [
       "<strong>V1:</strong> 0.760108578693024"
      ],
      "text/latex": [
       "\\textbf{V1:} 0.760108578693024"
      ],
      "text/markdown": [
       "**V1:** 0.760108578693024"
      ],
      "text/plain": [
       "       V1 \n",
       "0.7601086 "
      ]
     },
     "metadata": {},
     "output_type": "display_data"
    }
   ],
   "source": [
    "fitstats$area_under_prc"
   ]
  },
  {
   "cell_type": "code",
   "execution_count": 64,
   "metadata": {
    "ExecuteTime": {
     "end_time": "2021-05-29T15:31:17.710439Z",
     "start_time": "2021-05-29T15:31:17.532Z"
    }
   },
   "outputs": [
    {
     "data": {
      "image/png": "[encoded data removed]",
      "text/plain": [
       "plot without title"
      ]
     },
     "metadata": {
      "image/png": {
       "height": 420,
       "width": 420
      }
     },
     "output_type": "display_data"
    }
   ],
   "source": [
    "ggplot(data = as.data.frame(fitstats, what = \"roc\"), aes(x = x, y = y)) +\n",
    "  geom_line() + \n",
    "  geom_abline(intercept = 0, slope = 1, color = \"gray\") + \n",
    "  labs(title = \"ROC curve\") + \n",
    "  xlab(\"1 - Specificity\") + \n",
    "  ylab(\"Sensitivity\") +\n",
    "  theme_minimal()"
   ]
  },
  {
   "cell_type": "code",
   "execution_count": 65,
   "metadata": {
    "ExecuteTime": {
     "end_time": "2021-05-29T15:31:20.303712Z",
     "start_time": "2021-05-29T15:31:20.116Z"
    }
   },
   "outputs": [
    {
     "name": "stderr",
     "output_type": "stream",
     "text": [
      "Warning message:\n",
      "\"Removed 1 row(s) containing missing values (geom_path).\"\n"
     ]
    },
    {
     "data": {
      "image/png": "[encoded data removed]",
      "text/plain": [
       "plot without title"
      ]
     },
     "metadata": {
      "image/png": {
       "height": 420,
       "width": 420
      }
     },
     "output_type": "display_data"
    }
   ],
   "source": [
    "ggplot(data = as.data.frame(fitstats, what = \"prc\"), aes(x = x, y = y)) +\n",
    "  geom_line() + \n",
    "  labs(title = \"Precision-Recall curve\") + \n",
    "  xlab(\"Recall\") + \n",
    "  ylab(\"Precision\") +\n",
    "  theme_minimal()"
   ]
  },
  {
   "cell_type": "code",
   "execution_count": 70,
   "metadata": {
    "ExecuteTime": {
     "end_time": "2021-05-29T15:34:21.846739Z",
     "start_time": "2021-05-29T15:34:15.913Z"
    }
   },
   "outputs": [],
   "source": [
    "fitstats.fullsims <- mcmcRocPrc(object = stan_model,\n",
    "                        data = dfCombined,\n",
    "                        yname  = \"Response\",\n",
    "                        xnames = c('Gender','Age','Driving_License','Previously_Insured','Vehicle_Age',\n",
    "                                  'Vehicle_Damage','Annual_Premium','Vintage'),\n",
    "                        curves = FALSE,\n",
    "                        fullsims = TRUE)"
   ]
  },
  {
   "cell_type": "code",
   "execution_count": 71,
   "metadata": {
    "ExecuteTime": {
     "end_time": "2021-05-29T15:34:22.013700Z",
     "start_time": "2021-05-29T15:34:18.193Z"
    }
   },
   "outputs": [
    {
     "data": {
      "image/png": "[encoded data removed]",
      "text/plain": [
       "plot without title"
      ]
     },
     "metadata": {
      "image/png": {
       "height": 420,
       "width": 420
      }
     },
     "output_type": "display_data"
    }
   ],
   "source": [
    "ggplot(as.data.frame(fitstats.fullsims), \n",
    "       aes(x = area_under_roc)) +\n",
    "  geom_density() +\n",
    "  labs(title = \"Area under the ROC curve\") +\n",
    "  theme_minimal()"
   ]
  },
  {
   "cell_type": "code",
   "execution_count": 72,
   "metadata": {
    "ExecuteTime": {
     "end_time": "2021-05-29T15:34:31.390815Z",
     "start_time": "2021-05-29T15:34:31.235Z"
    }
   },
   "outputs": [
    {
     "data": {
      "image/png": "[encoded data removed]",
      "text/plain": [
       "plot without title"
      ]
     },
     "metadata": {
      "image/png": {
       "height": 420,
       "width": 420
      }
     },
     "output_type": "display_data"
    }
   ],
   "source": [
    "ggplot(as.data.frame(fitstats.fullsims), \n",
    "       aes(x = area_under_prc)) +\n",
    "  geom_density() +\n",
    "  labs(title = \"Area under the Precision-Recall curve\") +\n",
    "  theme_minimal()"
   ]
  },
  {
   "cell_type": "code",
   "execution_count": null,
   "metadata": {},
   "outputs": [],
   "source": []
  }
 ],
 "metadata": {
  "kernelspec": {
   "display_name": "R",
   "language": "R",
   "name": "ir"
  },
  "language_info": {
   "codemirror_mode": "r",
   "file_extension": ".r",
   "mimetype": "text/x-r-source",
   "name": "R",
   "pygments_lexer": "r",
   "version": "4.0.4"
  }
 },
 "nbformat": 4,
 "nbformat_minor": 4
}
