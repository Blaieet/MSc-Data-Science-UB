{
 "cells": [
  {
   "cell_type": "markdown",
   "metadata": {},
   "source": [
    "<h1 style=\"color:blue\"> Bayesian Statistics and Probabilistic Programming</h1>\n",
    "\n",
    "<h1 style=\"color:blue\"> Spring 2021 - Homework 02</h1>\n",
    "\n",
    "<h3 style=\"color:blue\">2021-05-31</h3>\n",
    "\n",
    "<h3 style=\"color:blue\"> Authors: David Farré Gil, Blai Ras Jimenez, Irene Bonafonte Pardàs </h3>"
   ]
  },
  {
   "cell_type": "markdown",
   "metadata": {},
   "source": [
    "***\n",
    "###### LaTeX macros\n",
    "$\\def\\prob{P}$\n",
    "$\\def\\argmax{\\operatorname{arg\\,max}}$\n",
    "$\\def\\argmin{\\operatorname{arg\\,min}}$\n",
    "$\\def\\borel{\\operatorname{Borel}}$\n",
    "$\\def\\cE{\\cal E}$\n",
    "$\\def\\cP{\\cal P}$\n",
    "$\\def\\R{\\mathbb{R}}$ \n",
    "$\\def\\N{\\mathbb{N}}$\n",
    "$\\def\\Z{\\mathbb{Z}}$\n",
    "$\\def\\Ee{\\operatorname{E}}$\n",
    "$\\def\\va{\\text{v.a.}}$\n",
    "$\\def\\var{\\operatorname{var}}$\n",
    "$\\def\\cov{\\operatorname{cov}}$\n",
    "$\\def\\cor{\\operatorname{cor}}$\n",
    "$\\def\\binomdist{\\operatorname{Binom}}$\n",
    "$\\def\\berndist{\\operatorname{Ber}}$\n",
    "$\\def\\betabinomdist{\\operatorname{Beta-Binom}}$\n",
    "$\\def\\betadist{\\operatorname{Beta}}$\n",
    "$\\def\\expdist{\\operatorname{Exp}}$\n",
    "$\\def\\gammadist{\\operatorname{Gamma}}$\n",
    "$\\def\\hyperdist{\\operatorname{Hypergeom}}$\n",
    "$\\def\\hypergeomdist{\\operatorname{Hypergeom}}$\n",
    "$\\DeclareMathOperator{\\multinomialdist}{Multinomial}$\n",
    "$\\DeclareMathOperator{\\multinomdist}{Multinom}$\n",
    "$\\def\\poissondist{\\operatorname{Poisson}}$\n",
    "$\\def\\geomdist{\\operatorname{Geom}}$\n",
    "$\\def\\normaldist{\\operatorname{N}}$\n",
    "$\\def\\unifdist{\\operatorname{Unif}}$\n",
    "$\\DeclareMathOperator{\\indica}{\\mathbb{1}}$\n",
    "$\\def\\CondTo{\\mathbin{|\\mskip0.5mu}}$\n",
    "***"
   ]
  },
  {
   "cell_type": "markdown",
   "metadata": {},
   "source": [
    "## Data Reading"
   ]
  },
  {
   "cell_type": "code",
   "execution_count": 1,
   "metadata": {
    "ExecuteTime": {
     "end_time": "2021-05-28T22:07:31.102523Z",
     "start_time": "2021-05-28T22:06:17.552Z"
    }
   },
   "outputs": [],
   "source": [
    "data <- read.csv(\"aug_train.csv\")\n",
    "test <- read.csv(\"aug_test.csv\")"
   ]
  },
  {
   "cell_type": "code",
   "execution_count": 2,
   "metadata": {
    "ExecuteTime": {
     "end_time": "2021-05-28T22:07:31.228547Z",
     "start_time": "2021-05-28T22:06:17.727Z"
    }
   },
   "outputs": [],
   "source": [
    "test_response <- read.csv(\"Test_Response.csv\")"
   ]
  },
  {
   "cell_type": "code",
   "execution_count": 3,
   "metadata": {
    "ExecuteTime": {
     "end_time": "2021-05-28T22:07:31.277545Z",
     "start_time": "2021-05-28T22:06:17.841Z"
    }
   },
   "outputs": [],
   "source": [
    "test$Response <- test_response$Response"
   ]
  },
  {
   "cell_type": "markdown",
   "metadata": {},
   "source": [
    "## Data Analysis\n",
    "\n",
    "### Variables\n",
    "\n",
    "01. `id`:        id of the subject.   \n",
    "02. `Gender`:        Sex of the subject.\n",
    "03. `Age`:         Age of the subject.\n",
    "04. `Driving License`:      Whether if the subject has or not a driver's license.\n",
    "05. `Region_Code`:          Coded region name.\n",
    "06. `Previously_Insured`:      Whether if the subject has already a health insurance.\n",
    "07. `Vehicle_Age`:  Number of years of the subject's car.\n",
    "08. `Vehicle_Damage`:   Measure of detriment of the subject's car.\n",
    "09. `Annual_Premium`:          Number of citations in total.\n",
    "10. `Policy_Sales_Channel`:      Sum of money that the subject needs to pay regularly to an insurance company.\n",
    "11. `Vintage`:     Days the subject is insured until now.\n",
    "12. `Response`: Whether the subject said yes or no to getting a vehicle insurance.\n",
    "\n",
    "As we can see, we will get rid of the variables `id`, `Region_Code` and `Policy_Sales_Channel` since they do not bring any substantial information towards the goal of predicting whether a customer would be interested in Vehicle Insurance. Even if they did, they should not be used towards that goal, it may even be a case of spurious correlation."
   ]
  },
  {
   "cell_type": "code",
   "execution_count": 4,
   "metadata": {
    "ExecuteTime": {
     "end_time": "2021-05-28T22:07:31.329523Z",
     "start_time": "2021-05-28T22:06:20.356Z"
    }
   },
   "outputs": [],
   "source": [
    "data <- data[c(\"Gender\",\"Age\",\"Driving_License\",\"Previously_Insured\",\"Vehicle_Age\",\"Vehicle_Damage\",\"Annual_Premium\",\"Vintage\",\"Response\")]"
   ]
  },
  {
   "cell_type": "code",
   "execution_count": 5,
   "metadata": {
    "ExecuteTime": {
     "end_time": "2021-05-28T21:36:41.456747Z",
     "start_time": "2021-05-28T21:36:41.122Z"
    }
   },
   "outputs": [
    {
     "name": "stdout",
     "output_type": "stream",
     "text": [
      "'data.frame':\t382154 obs. of  9 variables:\n",
      " $ Gender            : chr  \"Male\" \"Male\" \"Female\" \"Female\" ...\n",
      " $ Age               : int  22 42 66 22 28 25 51 38 45 42 ...\n",
      " $ Driving_License   : int  1 1 1 1 1 1 1 1 1 1 ...\n",
      " $ Previously_Insured: int  1 0 0 0 1 1 0 1 0 0 ...\n",
      " $ Vehicle_Age       : chr  \"< 1 Year\" \"1-2 Year\" \"1-2 Year\" \"< 1 Year\" ...\n",
      " $ Vehicle_Damage    : chr  \"No\" \"Yes\" \"Yes\" \"No\" ...\n",
      " $ Annual_Premium    : num  2630 43327 35841 27645 29023 ...\n",
      " $ Vintage           : int  16 135 253 69 211 23 209 51 262 217 ...\n",
      " $ Response          : int  0 0 0 0 0 0 0 0 0 1 ...\n"
     ]
    }
   ],
   "source": [
    "str(data)"
   ]
  },
  {
   "cell_type": "markdown",
   "metadata": {},
   "source": [
    "As we can see, there's a few categorical columns. For the sake of the model creation and training, we will convert them to numerical, e.g. ``Female`` is coded to ``1`` and ``Male`` is coded to  ``0``, thanks to the ``preprocess`` function below."
   ]
  },
  {
   "cell_type": "code",
   "execution_count": 5,
   "metadata": {
    "ExecuteTime": {
     "end_time": "2021-05-28T22:07:31.379523Z",
     "start_time": "2021-05-28T22:06:23.001Z"
    }
   },
   "outputs": [],
   "source": [
    "preprocess <- function(data) {\n",
    "    data$Vehicle_Age <- as.numeric(factor(data$Vehicle_Age, levels=c('< 1 Year','1-2 Year','> 2 Years')))\n",
    "    data$Vehicle_Damage <- as.numeric(factor(data$Vehicle_Damage, levels=c('No','Yes'))) \n",
    "    data$Gender <- as.numeric(factor(data$Gender))\n",
    "    return(data)\n",
    "}"
   ]
  },
  {
   "cell_type": "code",
   "execution_count": 6,
   "metadata": {
    "ExecuteTime": {
     "end_time": "2021-05-28T22:07:31.544527Z",
     "start_time": "2021-05-28T22:06:23.206Z"
    }
   },
   "outputs": [],
   "source": [
    "data <- preprocess(data)\n",
    "test <- preprocess(test)"
   ]
  },
  {
   "cell_type": "code",
   "execution_count": 8,
   "metadata": {
    "ExecuteTime": {
     "end_time": "2021-05-28T21:36:41.933689Z",
     "start_time": "2021-05-28T21:36:41.863Z"
    }
   },
   "outputs": [
    {
     "data": {
      "text/html": [
       "<table class=\"dataframe\">\n",
       "<caption>A data.frame: 5 × 9</caption>\n",
       "<thead>\n",
       "\t<tr><th></th><th scope=col>Gender</th><th scope=col>Age</th><th scope=col>Driving_License</th><th scope=col>Previously_Insured</th><th scope=col>Vehicle_Age</th><th scope=col>Vehicle_Damage</th><th scope=col>Annual_Premium</th><th scope=col>Vintage</th><th scope=col>Response</th></tr>\n",
       "\t<tr><th></th><th scope=col>&lt;dbl&gt;</th><th scope=col>&lt;int&gt;</th><th scope=col>&lt;int&gt;</th><th scope=col>&lt;int&gt;</th><th scope=col>&lt;dbl&gt;</th><th scope=col>&lt;dbl&gt;</th><th scope=col>&lt;dbl&gt;</th><th scope=col>&lt;int&gt;</th><th scope=col>&lt;int&gt;</th></tr>\n",
       "</thead>\n",
       "<tbody>\n",
       "\t<tr><th scope=row>1</th><td>2</td><td>22</td><td>1</td><td>1</td><td>1</td><td>1</td><td> 2630</td><td> 16</td><td>0</td></tr>\n",
       "\t<tr><th scope=row>2</th><td>2</td><td>42</td><td>1</td><td>0</td><td>2</td><td>2</td><td>43327</td><td>135</td><td>0</td></tr>\n",
       "\t<tr><th scope=row>3</th><td>1</td><td>66</td><td>1</td><td>0</td><td>2</td><td>2</td><td>35841</td><td>253</td><td>0</td></tr>\n",
       "\t<tr><th scope=row>4</th><td>1</td><td>22</td><td>1</td><td>0</td><td>1</td><td>1</td><td>27645</td><td> 69</td><td>0</td></tr>\n",
       "\t<tr><th scope=row>5</th><td>2</td><td>28</td><td>1</td><td>1</td><td>1</td><td>1</td><td>29023</td><td>211</td><td>0</td></tr>\n",
       "</tbody>\n",
       "</table>\n"
      ],
      "text/latex": [
       "A data.frame: 5 × 9\n",
       "\\begin{tabular}{r|lllllllll}\n",
       "  & Gender & Age & Driving\\_License & Previously\\_Insured & Vehicle\\_Age & Vehicle\\_Damage & Annual\\_Premium & Vintage & Response\\\\\n",
       "  & <dbl> & <int> & <int> & <int> & <dbl> & <dbl> & <dbl> & <int> & <int>\\\\\n",
       "\\hline\n",
       "\t1 & 2 & 22 & 1 & 1 & 1 & 1 &  2630 &  16 & 0\\\\\n",
       "\t2 & 2 & 42 & 1 & 0 & 2 & 2 & 43327 & 135 & 0\\\\\n",
       "\t3 & 1 & 66 & 1 & 0 & 2 & 2 & 35841 & 253 & 0\\\\\n",
       "\t4 & 1 & 22 & 1 & 0 & 1 & 1 & 27645 &  69 & 0\\\\\n",
       "\t5 & 2 & 28 & 1 & 1 & 1 & 1 & 29023 & 211 & 0\\\\\n",
       "\\end{tabular}\n"
      ],
      "text/markdown": [
       "\n",
       "A data.frame: 5 × 9\n",
       "\n",
       "| <!--/--> | Gender &lt;dbl&gt; | Age &lt;int&gt; | Driving_License &lt;int&gt; | Previously_Insured &lt;int&gt; | Vehicle_Age &lt;dbl&gt; | Vehicle_Damage &lt;dbl&gt; | Annual_Premium &lt;dbl&gt; | Vintage &lt;int&gt; | Response &lt;int&gt; |\n",
       "|---|---|---|---|---|---|---|---|---|---|\n",
       "| 1 | 2 | 22 | 1 | 1 | 1 | 1 |  2630 |  16 | 0 |\n",
       "| 2 | 2 | 42 | 1 | 0 | 2 | 2 | 43327 | 135 | 0 |\n",
       "| 3 | 1 | 66 | 1 | 0 | 2 | 2 | 35841 | 253 | 0 |\n",
       "| 4 | 1 | 22 | 1 | 0 | 1 | 1 | 27645 |  69 | 0 |\n",
       "| 5 | 2 | 28 | 1 | 1 | 1 | 1 | 29023 | 211 | 0 |\n",
       "\n"
      ],
      "text/plain": [
       "  Gender Age Driving_License Previously_Insured Vehicle_Age Vehicle_Damage\n",
       "1 2      22  1               1                  1           1             \n",
       "2 2      42  1               0                  2           2             \n",
       "3 1      66  1               0                  2           2             \n",
       "4 1      22  1               0                  1           1             \n",
       "5 2      28  1               1                  1           1             \n",
       "  Annual_Premium Vintage Response\n",
       "1  2630           16     0       \n",
       "2 43327          135     0       \n",
       "3 35841          253     0       \n",
       "4 27645           69     0       \n",
       "5 29023          211     0       "
      ]
     },
     "metadata": {},
     "output_type": "display_data"
    }
   ],
   "source": [
    "data[1:5,]"
   ]
  },
  {
   "cell_type": "code",
   "execution_count": 7,
   "metadata": {
    "ExecuteTime": {
     "end_time": "2021-05-30T09:57:37.277406Z",
     "start_time": "2021-05-30T09:57:37.245Z"
    }
   },
   "outputs": [],
   "source": [
    "Num.vars<-c(2,7,8)\n",
    "Bin.vars<-c(1,3,4,5,6,9)"
   ]
  },
  {
   "cell_type": "markdown",
   "metadata": {
    "ExecuteTime": {
     "end_time": "2021-05-27T16:04:40.744684Z",
     "start_time": "2021-05-27T16:04:40.354Z"
    }
   },
   "source": [
    "Let's check the distribution of each variable in the data set:"
   ]
  },
  {
   "cell_type": "code",
   "execution_count": 13,
   "metadata": {
    "ExecuteTime": {
     "end_time": "2021-05-30T09:31:38.874146Z",
     "start_time": "2021-05-30T09:31:37.845Z"
    },
    "scrolled": true
   },
   "outputs": [
    {
     "name": "stdout",
     "output_type": "stream",
     "text": [
      "[1] \"Age\"\n",
      "[1] \"Annual_Premium\"\n"
     ]
    },
    {
     "data": {
      "image/png": "[encoded data removed]",
      "text/plain": [
       "plot without title"
      ]
     },
     "metadata": {},
     "output_type": "display_data"
    },
    {
     "name": "stdout",
     "output_type": "stream",
     "text": [
      "[1] \"Vintage\"\n"
     ]
    },
    {
     "data": {
      "image/png": "[encoded data removed]",
      "text/plain": [
       "plot without title"
      ]
     },
     "metadata": {},
     "output_type": "display_data"
    },
    {
     "data": {
      "image/png": "[encoded data removed]",
      "text/plain": [
       "plot without title"
      ]
     },
     "metadata": {},
     "output_type": "display_data"
    }
   ],
   "source": [
    "options(repr.plot.width=20,repr.plot.height=7)\n",
    "for (i in Num.vars) {\n",
    "    print(colnames(data)[i])\n",
    "    boxplot(data[,i],col=\"seagreen\")\n",
    "    \n",
    "}"
   ]
  },
  {
   "cell_type": "markdown",
   "metadata": {},
   "source": [
    "And now, the possible correlation that might occurr betwen this variables.\n",
    "\n",
    "No apparent relationships in between numerical variables. Let's plot this correlation just in case:\n",
    "\n"
   ]
  },
  {
   "cell_type": "code",
   "execution_count": 14,
   "metadata": {
    "ExecuteTime": {
     "end_time": "2021-05-30T09:32:00.814907Z",
     "start_time": "2021-05-30T09:32:00.753Z"
    }
   },
   "outputs": [
    {
     "data": {
      "text/html": [
       "<table>\n",
       "<thead><tr><th></th><th scope=col>Age</th><th scope=col>Annual_Premium</th><th scope=col>Vintage</th></tr></thead>\n",
       "<tbody>\n",
       "\t<tr><th scope=row>Age</th><td>1.00</td><td>0.07</td><td>0   </td></tr>\n",
       "\t<tr><th scope=row>Annual_Premium</th><td>0.07</td><td>1.00</td><td>0   </td></tr>\n",
       "\t<tr><th scope=row>Vintage</th><td>0.00</td><td>0.00</td><td>1   </td></tr>\n",
       "</tbody>\n",
       "</table>\n"
      ],
      "text/latex": [
       "\\begin{tabular}{r|lll}\n",
       "  & Age & Annual\\_Premium & Vintage\\\\\n",
       "\\hline\n",
       "\tAge & 1.00 & 0.07 & 0   \\\\\n",
       "\tAnnual\\_Premium & 0.07 & 1.00 & 0   \\\\\n",
       "\tVintage & 0.00 & 0.00 & 1   \\\\\n",
       "\\end{tabular}\n"
      ],
      "text/markdown": [
       "\n",
       "| <!--/--> | Age | Annual_Premium | Vintage |\n",
       "|---|---|---|---|\n",
       "| Age | 1.00 | 0.07 | 0    |\n",
       "| Annual_Premium | 0.07 | 1.00 | 0    |\n",
       "| Vintage | 0.00 | 0.00 | 1    |\n",
       "\n"
      ],
      "text/plain": [
       "               Age  Annual_Premium Vintage\n",
       "Age            1.00 0.07           0      \n",
       "Annual_Premium 0.07 1.00           0      \n",
       "Vintage        0.00 0.00           1      "
      ]
     },
     "metadata": {},
     "output_type": "display_data"
    }
   ],
   "source": [
    "round(cor(data[,Num.vars]),2)"
   ]
  },
  {
   "cell_type": "code",
   "execution_count": 15,
   "metadata": {
    "ExecuteTime": {
     "end_time": "2021-05-30T09:34:18.578130Z",
     "start_time": "2021-05-30T09:32:29.693Z"
    }
   },
   "outputs": [
    {
     "data": {
      "image/png": "[encoded data removed]",
      "text/plain": [
       "plot without title"
      ]
     },
     "metadata": {},
     "output_type": "display_data"
    }
   ],
   "source": [
    "#Lasts 1 min 48 secs\n",
    "options(repr.plot.width=10,repr.plot.height=10)\n",
    "pairs(data[,Num.vars],col=\"seagreen\")"
   ]
  },
  {
   "cell_type": "markdown",
   "metadata": {},
   "source": [
    "Do we have to deal with null values in the dataset? No."
   ]
  },
  {
   "cell_type": "code",
   "execution_count": 116,
   "metadata": {
    "ExecuteTime": {
     "end_time": "2021-05-27T17:37:18.700962Z",
     "start_time": "2021-05-27T17:37:18.668Z"
    }
   },
   "outputs": [
    {
     "data": {
      "text/html": [
       "0"
      ],
      "text/latex": [
       "0"
      ],
      "text/markdown": [
       "0"
      ],
      "text/plain": [
       "[1] 0"
      ]
     },
     "metadata": {},
     "output_type": "display_data"
    },
    {
     "data": {
      "text/html": [
       "0"
      ],
      "text/latex": [
       "0"
      ],
      "text/markdown": [
       "0"
      ],
      "text/plain": [
       "[1] 0"
      ]
     },
     "metadata": {},
     "output_type": "display_data"
    }
   ],
   "source": [
    "sum(is.na(data))\n",
    "sum(is.na(test))"
   ]
  },
  {
   "cell_type": "markdown",
   "metadata": {},
   "source": [
    "Let's look at this class imbalance we've been told:"
   ]
  },
  {
   "cell_type": "code",
   "execution_count": 117,
   "metadata": {
    "ExecuteTime": {
     "end_time": "2021-05-27T17:37:19.966074Z",
     "start_time": "2021-05-27T17:37:19.933Z"
    }
   },
   "outputs": [
    {
     "data": {
      "text/plain": [
       "\n",
       "     0      1 \n",
       "319553  62601 "
      ]
     },
     "metadata": {},
     "output_type": "display_data"
    }
   ],
   "source": [
    "table(data$Response)"
   ]
  },
  {
   "cell_type": "code",
   "execution_count": 118,
   "metadata": {
    "ExecuteTime": {
     "end_time": "2021-05-27T17:37:21.139435Z",
     "start_time": "2021-05-27T17:37:21.106Z"
    }
   },
   "outputs": [
    {
     "data": {
      "text/plain": [
       "\n",
       "    0     1 \n",
       "83.62 16.38 "
      ]
     },
     "metadata": {},
     "output_type": "display_data"
    }
   ],
   "source": [
    "round(table(data$Response)/nrow(data)*100,2)"
   ]
  },
  {
   "cell_type": "markdown",
   "metadata": {},
   "source": [
    "Huge! Our first approach to deal with this problem is resampling with the function ``resample`` that we have below. It takes as parameter the amount of samples we want from each class and returns the filtered dataframe. "
   ]
  },
  {
   "cell_type": "code",
   "execution_count": 7,
   "metadata": {
    "ExecuteTime": {
     "end_time": "2021-05-28T22:07:31.591540Z",
     "start_time": "2021-05-28T22:06:29.218Z"
    }
   },
   "outputs": [],
   "source": [
    "resample <- function(data,size) {\n",
    "    total = size * 2\n",
    "    if (total > nrow(data)) {\n",
    "        cat(\"Not enough data to create a dataframe of size \",total)\n",
    "        return(data)\n",
    "    } else if (size > 62601) {\n",
    "        print(\"Not enough samples!\")\n",
    "        return(data)\n",
    "    }\n",
    "    negative <- sample(x=which(data$Response == 0), size=size, replace=FALSE)\n",
    "    positive <- sample(x=which(data$Response == 1), size=size, replace=FALSE)\n",
    "    resampled_idx <- c(negative, positive)\n",
    "    return(data[resampled_idx, ])\n",
    "}"
   ]
  },
  {
   "cell_type": "code",
   "execution_count": 8,
   "metadata": {
    "ExecuteTime": {
     "end_time": "2021-05-28T22:07:31.675636Z",
     "start_time": "2021-05-28T22:06:37.944Z"
    }
   },
   "outputs": [
    {
     "data": {
      "text/html": [
       "<style>\n",
       ".list-inline {list-style: none; margin:0; padding: 0}\n",
       ".list-inline>li {display: inline-block}\n",
       ".list-inline>li:not(:last-child)::after {content: \"\\00b7\"; padding: 0 .5ex}\n",
       "</style>\n",
       "<ol class=list-inline><li>1400</li><li>9</li></ol>\n"
      ],
      "text/latex": [
       "\\begin{enumerate*}\n",
       "\\item 1400\n",
       "\\item 9\n",
       "\\end{enumerate*}\n"
      ],
      "text/markdown": [
       "1. 1400\n",
       "2. 9\n",
       "\n",
       "\n"
      ],
      "text/plain": [
       "[1] 1400    9"
      ]
     },
     "metadata": {},
     "output_type": "display_data"
    },
    {
     "data": {
      "text/plain": [
       "\n",
       "  0   1 \n",
       "700 700 "
      ]
     },
     "metadata": {},
     "output_type": "display_data"
    }
   ],
   "source": [
    "df <- resample(data,700)\n",
    "dim(df)\n",
    "table(df$Response)"
   ]
  },
  {
   "cell_type": "markdown",
   "metadata": {},
   "source": [
    "A common practice in Machine Learning is perform feature scaling, which helps most models to converge more quickly towards the minima. We can perform this method with the function ``scale``:"
   ]
  },
  {
   "cell_type": "code",
   "execution_count": 9,
   "metadata": {
    "ExecuteTime": {
     "end_time": "2021-05-28T22:08:31.841101Z",
     "start_time": "2021-05-28T22:08:31.662Z"
    }
   },
   "outputs": [
    {
     "data": {
      "text/html": [
       "<table class=\"dataframe\">\n",
       "<caption>A data.frame: 5 × 9</caption>\n",
       "<thead>\n",
       "\t<tr><th></th><th scope=col>Gender</th><th scope=col>Age</th><th scope=col>Driving_License</th><th scope=col>Previously_Insured</th><th scope=col>Vehicle_Age</th><th scope=col>Vehicle_Damage</th><th scope=col>Annual_Premium</th><th scope=col>Vintage</th><th scope=col>Response</th></tr>\n",
       "\t<tr><th></th><th scope=col>&lt;dbl&gt;</th><th scope=col>&lt;dbl&gt;</th><th scope=col>&lt;dbl&gt;</th><th scope=col>&lt;dbl&gt;</th><th scope=col>&lt;dbl&gt;</th><th scope=col>&lt;dbl&gt;</th><th scope=col>&lt;dbl&gt;</th><th scope=col>&lt;dbl&gt;</th><th scope=col>&lt;int&gt;</th></tr>\n",
       "</thead>\n",
       "<tbody>\n",
       "\t<tr><th scope=row>323456</th><td>0.9094422</td><td> 2.2574635</td><td>0.03780996</td><td>-0.655533</td><td> 0.4518717</td><td> 0.6959004</td><td> 1.2715160</td><td>-0.87871820</td><td>0</td></tr>\n",
       "\t<tr><th scope=row>135768</th><td>0.9094422</td><td> 0.3905620</td><td>0.03780996</td><td>-0.655533</td><td> 0.4518717</td><td> 0.6959004</td><td>-1.4755992</td><td>-1.49751587</td><td>0</td></tr>\n",
       "\t<tr><th scope=row>87575</th><td>0.9094422</td><td>-1.2609279</td><td>0.03780996</td><td>-0.655533</td><td>-1.3765108</td><td> 0.6959004</td><td> 0.7400316</td><td> 0.33507724</td><td>0</td></tr>\n",
       "\t<tr><th scope=row>153785</th><td>0.9094422</td><td>-0.7583005</td><td>0.03780996</td><td>-0.655533</td><td>-1.3765108</td><td> 0.6959004</td><td> 0.8776513</td><td>-0.01002146</td><td>0</td></tr>\n",
       "\t<tr><th scope=row>118444</th><td>0.9094422</td><td>-1.3327318</td><td>0.03780996</td><td> 1.524387</td><td> 0.4518717</td><td>-1.4359608</td><td>-0.3936360</td><td>-0.25992052</td><td>0</td></tr>\n",
       "</tbody>\n",
       "</table>\n"
      ],
      "text/latex": [
       "A data.frame: 5 × 9\n",
       "\\begin{tabular}{r|lllllllll}\n",
       "  & Gender & Age & Driving\\_License & Previously\\_Insured & Vehicle\\_Age & Vehicle\\_Damage & Annual\\_Premium & Vintage & Response\\\\\n",
       "  & <dbl> & <dbl> & <dbl> & <dbl> & <dbl> & <dbl> & <dbl> & <dbl> & <int>\\\\\n",
       "\\hline\n",
       "\t323456 & 0.9094422 &  2.2574635 & 0.03780996 & -0.655533 &  0.4518717 &  0.6959004 &  1.2715160 & -0.87871820 & 0\\\\\n",
       "\t135768 & 0.9094422 &  0.3905620 & 0.03780996 & -0.655533 &  0.4518717 &  0.6959004 & -1.4755992 & -1.49751587 & 0\\\\\n",
       "\t87575 & 0.9094422 & -1.2609279 & 0.03780996 & -0.655533 & -1.3765108 &  0.6959004 &  0.7400316 &  0.33507724 & 0\\\\\n",
       "\t153785 & 0.9094422 & -0.7583005 & 0.03780996 & -0.655533 & -1.3765108 &  0.6959004 &  0.8776513 & -0.01002146 & 0\\\\\n",
       "\t118444 & 0.9094422 & -1.3327318 & 0.03780996 &  1.524387 &  0.4518717 & -1.4359608 & -0.3936360 & -0.25992052 & 0\\\\\n",
       "\\end{tabular}\n"
      ],
      "text/markdown": [
       "\n",
       "A data.frame: 5 × 9\n",
       "\n",
       "| <!--/--> | Gender &lt;dbl&gt; | Age &lt;dbl&gt; | Driving_License &lt;dbl&gt; | Previously_Insured &lt;dbl&gt; | Vehicle_Age &lt;dbl&gt; | Vehicle_Damage &lt;dbl&gt; | Annual_Premium &lt;dbl&gt; | Vintage &lt;dbl&gt; | Response &lt;int&gt; |\n",
       "|---|---|---|---|---|---|---|---|---|---|\n",
       "| 323456 | 0.9094422 |  2.2574635 | 0.03780996 | -0.655533 |  0.4518717 |  0.6959004 |  1.2715160 | -0.87871820 | 0 |\n",
       "| 135768 | 0.9094422 |  0.3905620 | 0.03780996 | -0.655533 |  0.4518717 |  0.6959004 | -1.4755992 | -1.49751587 | 0 |\n",
       "| 87575 | 0.9094422 | -1.2609279 | 0.03780996 | -0.655533 | -1.3765108 |  0.6959004 |  0.7400316 |  0.33507724 | 0 |\n",
       "| 153785 | 0.9094422 | -0.7583005 | 0.03780996 | -0.655533 | -1.3765108 |  0.6959004 |  0.8776513 | -0.01002146 | 0 |\n",
       "| 118444 | 0.9094422 | -1.3327318 | 0.03780996 |  1.524387 |  0.4518717 | -1.4359608 | -0.3936360 | -0.25992052 | 0 |\n",
       "\n"
      ],
      "text/plain": [
       "       Gender    Age        Driving_License Previously_Insured Vehicle_Age\n",
       "323456 0.9094422  2.2574635 0.03780996      -0.655533           0.4518717 \n",
       "135768 0.9094422  0.3905620 0.03780996      -0.655533           0.4518717 \n",
       "87575  0.9094422 -1.2609279 0.03780996      -0.655533          -1.3765108 \n",
       "153785 0.9094422 -0.7583005 0.03780996      -0.655533          -1.3765108 \n",
       "118444 0.9094422 -1.3327318 0.03780996       1.524387           0.4518717 \n",
       "       Vehicle_Damage Annual_Premium Vintage     Response\n",
       "323456  0.6959004      1.2715160     -0.87871820 0       \n",
       "135768  0.6959004     -1.4755992     -1.49751587 0       \n",
       "87575   0.6959004      0.7400316      0.33507724 0       \n",
       "153785  0.6959004      0.8776513     -0.01002146 0       \n",
       "118444 -1.4359608     -0.3936360     -0.25992052 0       "
      ]
     },
     "metadata": {},
     "output_type": "display_data"
    }
   ],
   "source": [
    "response <- df$Response\n",
    "df <- df[,-(9:9),drop=FALSE]\n",
    "df <- as.data.frame(scale(df))\n",
    "df <- cbind(df, Response = response)\n",
    "df[1:5,]"
   ]
  },
  {
   "cell_type": "code",
   "execution_count": null,
   "metadata": {
    "ExecuteTime": {
     "end_time": "2021-05-26T12:29:39.730262Z",
     "start_time": "2021-05-26T12:29:23.106Z"
    }
   },
   "outputs": [],
   "source": [
    "# install.packages(\"BayesPostEst\")\n",
    "# install.packages(\"rstanarm\")"
   ]
  },
  {
   "cell_type": "code",
   "execution_count": 11,
   "metadata": {
    "ExecuteTime": {
     "end_time": "2021-05-28T22:08:47.387458Z",
     "start_time": "2021-05-28T22:08:40.548Z"
    }
   },
   "outputs": [
    {
     "name": "stderr",
     "output_type": "stream",
     "text": [
      "Warning message:\n",
      "\"package 'BayesPostEst' was built under R version 4.0.5\"\n",
      "Warning message:\n",
      "\"package 'rstanarm' was built under R version 4.0.5\"\n",
      "Loading required package: Rcpp\n",
      "\n",
      "This is rstanarm version 2.21.1\n",
      "\n",
      "- See https://mc-stan.org/rstanarm/articles/priors for changes to default priors!\n",
      "\n",
      "- Default priors may change, so it's safest to specify priors, even if equivalent to the defaults.\n",
      "\n",
      "- For execution on a local, multicore CPU with excess RAM we recommend calling\n",
      "\n",
      "  options(mc.cores = parallel::detectCores())\n",
      "\n"
     ]
    }
   ],
   "source": [
    "library(\"BayesPostEst\")\n",
    "library(\"rstanarm\")"
   ]
  },
  {
   "cell_type": "code",
   "execution_count": 58,
   "metadata": {
    "ExecuteTime": {
     "end_time": "2021-05-28T21:51:49.865875Z",
     "start_time": "2021-05-28T21:51:49.840Z"
    }
   },
   "outputs": [
    {
     "data": {
      "text/html": [
       "<style>\n",
       ".list-inline {list-style: none; margin:0; padding: 0}\n",
       ".list-inline>li {display: inline-block}\n",
       ".list-inline>li:not(:last-child)::after {content: \"\\00b7\"; padding: 0 .5ex}\n",
       "</style>\n",
       "<ol class=list-inline><li>'Gender'</li><li>'Age'</li><li>'Driving_License'</li><li>'Previously_Insured'</li><li>'Vehicle_Age'</li><li>'Vehicle_Damage'</li><li>'Annual_Premium'</li><li>'Vintage'</li><li>'Response'</li></ol>\n"
      ],
      "text/latex": [
       "\\begin{enumerate*}\n",
       "\\item 'Gender'\n",
       "\\item 'Age'\n",
       "\\item 'Driving\\_License'\n",
       "\\item 'Previously\\_Insured'\n",
       "\\item 'Vehicle\\_Age'\n",
       "\\item 'Vehicle\\_Damage'\n",
       "\\item 'Annual\\_Premium'\n",
       "\\item 'Vintage'\n",
       "\\item 'Response'\n",
       "\\end{enumerate*}\n"
      ],
      "text/markdown": [
       "1. 'Gender'\n",
       "2. 'Age'\n",
       "3. 'Driving_License'\n",
       "4. 'Previously_Insured'\n",
       "5. 'Vehicle_Age'\n",
       "6. 'Vehicle_Damage'\n",
       "7. 'Annual_Premium'\n",
       "8. 'Vintage'\n",
       "9. 'Response'\n",
       "\n",
       "\n"
      ],
      "text/plain": [
       "[1] \"Gender\"             \"Age\"                \"Driving_License\"   \n",
       "[4] \"Previously_Insured\" \"Vehicle_Age\"        \"Vehicle_Damage\"    \n",
       "[7] \"Annual_Premium\"     \"Vintage\"            \"Response\"          "
      ]
     },
     "metadata": {},
     "output_type": "display_data"
    }
   ],
   "source": [
    "colnames(df)"
   ]
  },
  {
   "cell_type": "code",
   "execution_count": 12,
   "metadata": {
    "ExecuteTime": {
     "end_time": "2021-05-28T22:09:49.372593Z",
     "start_time": "2021-05-28T22:08:41.474Z"
    }
   },
   "outputs": [
    {
     "name": "stdout",
     "output_type": "stream",
     "text": [
      "\n",
      "SAMPLING FOR MODEL 'bernoulli' NOW (CHAIN 1).\n",
      "Chain 1: \n",
      "Chain 1: Gradient evaluation took 0 seconds\n",
      "Chain 1: 1000 transitions using 10 leapfrog steps per transition would take 0 seconds.\n",
      "Chain 1: Adjust your expectations accordingly!\n",
      "Chain 1: \n",
      "Chain 1: \n",
      "Chain 1: Iteration:    1 / 2000 [  0%]  (Warmup)\n",
      "Chain 1: Iteration:  200 / 2000 [ 10%]  (Warmup)\n",
      "Chain 1: Iteration:  400 / 2000 [ 20%]  (Warmup)\n",
      "Chain 1: Iteration:  600 / 2000 [ 30%]  (Warmup)\n",
      "Chain 1: Iteration:  800 / 2000 [ 40%]  (Warmup)\n",
      "Chain 1: Iteration: 1000 / 2000 [ 50%]  (Warmup)\n",
      "Chain 1: Iteration: 1001 / 2000 [ 50%]  (Sampling)\n",
      "Chain 1: Iteration: 1200 / 2000 [ 60%]  (Sampling)\n",
      "Chain 1: Iteration: 1400 / 2000 [ 70%]  (Sampling)\n",
      "Chain 1: Iteration: 1600 / 2000 [ 80%]  (Sampling)\n",
      "Chain 1: Iteration: 1800 / 2000 [ 90%]  (Sampling)\n",
      "Chain 1: Iteration: 2000 / 2000 [100%]  (Sampling)\n",
      "Chain 1: \n",
      "Chain 1:  Elapsed Time: 7.864 seconds (Warm-up)\n",
      "Chain 1:                8.489 seconds (Sampling)\n",
      "Chain 1:                16.353 seconds (Total)\n",
      "Chain 1: \n",
      "\n",
      "SAMPLING FOR MODEL 'bernoulli' NOW (CHAIN 2).\n",
      "Chain 2: \n",
      "Chain 2: Gradient evaluation took 0 seconds\n",
      "Chain 2: 1000 transitions using 10 leapfrog steps per transition would take 0 seconds.\n",
      "Chain 2: Adjust your expectations accordingly!\n",
      "Chain 2: \n",
      "Chain 2: \n",
      "Chain 2: Iteration:    1 / 2000 [  0%]  (Warmup)\n",
      "Chain 2: Iteration:  200 / 2000 [ 10%]  (Warmup)\n",
      "Chain 2: Iteration:  400 / 2000 [ 20%]  (Warmup)\n",
      "Chain 2: Iteration:  600 / 2000 [ 30%]  (Warmup)\n",
      "Chain 2: Iteration:  800 / 2000 [ 40%]  (Warmup)\n",
      "Chain 2: Iteration: 1000 / 2000 [ 50%]  (Warmup)\n",
      "Chain 2: Iteration: 1001 / 2000 [ 50%]  (Sampling)\n",
      "Chain 2: Iteration: 1200 / 2000 [ 60%]  (Sampling)\n",
      "Chain 2: Iteration: 1400 / 2000 [ 70%]  (Sampling)\n",
      "Chain 2: Iteration: 1600 / 2000 [ 80%]  (Sampling)\n",
      "Chain 2: Iteration: 1800 / 2000 [ 90%]  (Sampling)\n",
      "Chain 2: Iteration: 2000 / 2000 [100%]  (Sampling)\n",
      "Chain 2: \n",
      "Chain 2:  Elapsed Time: 9.152 seconds (Warm-up)\n",
      "Chain 2:                9.291 seconds (Sampling)\n",
      "Chain 2:                18.443 seconds (Total)\n",
      "Chain 2: \n",
      "\n",
      "SAMPLING FOR MODEL 'bernoulli' NOW (CHAIN 3).\n",
      "Chain 3: \n",
      "Chain 3: Gradient evaluation took 0 seconds\n",
      "Chain 3: 1000 transitions using 10 leapfrog steps per transition would take 0 seconds.\n",
      "Chain 3: Adjust your expectations accordingly!\n",
      "Chain 3: \n",
      "Chain 3: \n",
      "Chain 3: Iteration:    1 / 2000 [  0%]  (Warmup)\n",
      "Chain 3: Iteration:  200 / 2000 [ 10%]  (Warmup)\n",
      "Chain 3: Iteration:  400 / 2000 [ 20%]  (Warmup)\n",
      "Chain 3: Iteration:  600 / 2000 [ 30%]  (Warmup)\n",
      "Chain 3: Iteration:  800 / 2000 [ 40%]  (Warmup)\n",
      "Chain 3: Iteration: 1000 / 2000 [ 50%]  (Warmup)\n",
      "Chain 3: Iteration: 1001 / 2000 [ 50%]  (Sampling)\n",
      "Chain 3: Iteration: 1200 / 2000 [ 60%]  (Sampling)\n",
      "Chain 3: Iteration: 1400 / 2000 [ 70%]  (Sampling)\n",
      "Chain 3: Iteration: 1600 / 2000 [ 80%]  (Sampling)\n",
      "Chain 3: Iteration: 1800 / 2000 [ 90%]  (Sampling)\n",
      "Chain 3: Iteration: 2000 / 2000 [100%]  (Sampling)\n",
      "Chain 3: \n",
      "Chain 3:  Elapsed Time: 6.48 seconds (Warm-up)\n",
      "Chain 3:                6.828 seconds (Sampling)\n",
      "Chain 3:                13.308 seconds (Total)\n",
      "Chain 3: \n",
      "\n",
      "SAMPLING FOR MODEL 'bernoulli' NOW (CHAIN 4).\n",
      "Chain 4: \n",
      "Chain 4: Gradient evaluation took 0 seconds\n",
      "Chain 4: 1000 transitions using 10 leapfrog steps per transition would take 0 seconds.\n",
      "Chain 4: Adjust your expectations accordingly!\n",
      "Chain 4: \n",
      "Chain 4: \n",
      "Chain 4: Iteration:    1 / 2000 [  0%]  (Warmup)\n",
      "Chain 4: Iteration:  200 / 2000 [ 10%]  (Warmup)\n",
      "Chain 4: Iteration:  400 / 2000 [ 20%]  (Warmup)\n",
      "Chain 4: Iteration:  600 / 2000 [ 30%]  (Warmup)\n",
      "Chain 4: Iteration:  800 / 2000 [ 40%]  (Warmup)\n",
      "Chain 4: Iteration: 1000 / 2000 [ 50%]  (Warmup)\n",
      "Chain 4: Iteration: 1001 / 2000 [ 50%]  (Sampling)\n",
      "Chain 4: Iteration: 1200 / 2000 [ 60%]  (Sampling)\n",
      "Chain 4: Iteration: 1400 / 2000 [ 70%]  (Sampling)\n",
      "Chain 4: Iteration: 1600 / 2000 [ 80%]  (Sampling)\n",
      "Chain 4: Iteration: 1800 / 2000 [ 90%]  (Sampling)\n",
      "Chain 4: Iteration: 2000 / 2000 [100%]  (Sampling)\n",
      "Chain 4: \n",
      "Chain 4:  Elapsed Time: 6.638 seconds (Warm-up)\n",
      "Chain 4:                6.78 seconds (Sampling)\n",
      "Chain 4:                13.418 seconds (Total)\n",
      "Chain 4: \n"
     ]
    }
   ],
   "source": [
    "fit.rstanarm <- stan_glm(Response ~ Gender + Age + Driving_License + Previously_Insured + \n",
    "                         Vehicle_Age + Vehicle_Damage + Annual_Premium + Vintage,\n",
    "                            data = df, family = binomial(link = \"logit\"),\n",
    "                            prior = normal(0, 3),\n",
    "                            prior_intercept = normal(0, 3),\n",
    "                            chains = 4, \n",
    "                            iter = 2000,\n",
    "                            seed = 123)"
   ]
  },
  {
   "cell_type": "code",
   "execution_count": 14,
   "metadata": {
    "ExecuteTime": {
     "end_time": "2021-05-28T22:10:45.210759Z",
     "start_time": "2021-05-28T22:10:45.075Z"
    }
   },
   "outputs": [],
   "source": [
    "rhat <- summary(fit.rstanarm)[, \"Rhat\"]"
   ]
  },
  {
   "cell_type": "code",
   "execution_count": 19,
   "metadata": {
    "ExecuteTime": {
     "end_time": "2021-05-28T22:11:28.349885Z",
     "start_time": "2021-05-28T22:11:28.283Z"
    }
   },
   "outputs": [
    {
     "data": {
      "text/html": [
       "<table class=\"dataframe\">\n",
       "<caption>A data.frame: 11 × 1</caption>\n",
       "<thead>\n",
       "\t<tr><th></th><th scope=col>rhat</th></tr>\n",
       "\t<tr><th></th><th scope=col>&lt;dbl&gt;</th></tr>\n",
       "</thead>\n",
       "<tbody>\n",
       "\t<tr><th scope=row>(Intercept)</th><td>1.0023211</td></tr>\n",
       "\t<tr><th scope=row>Gender</th><td>0.9998698</td></tr>\n",
       "\t<tr><th scope=row>Age</th><td>0.9995277</td></tr>\n",
       "\t<tr><th scope=row>Driving_License</th><td>1.0027107</td></tr>\n",
       "\t<tr><th scope=row>Previously_Insured</th><td>1.0012544</td></tr>\n",
       "\t<tr><th scope=row>Vehicle_Age</th><td>0.9997627</td></tr>\n",
       "\t<tr><th scope=row>Vehicle_Damage</th><td>1.0012603</td></tr>\n",
       "\t<tr><th scope=row>Annual_Premium</th><td>1.0003056</td></tr>\n",
       "\t<tr><th scope=row>Vintage</th><td>0.9998251</td></tr>\n",
       "\t<tr><th scope=row>mean_PPD</th><td>1.0009528</td></tr>\n",
       "\t<tr><th scope=row>log-posterior</th><td>1.0027568</td></tr>\n",
       "</tbody>\n",
       "</table>\n"
      ],
      "text/latex": [
       "A data.frame: 11 × 1\n",
       "\\begin{tabular}{r|l}\n",
       "  & rhat\\\\\n",
       "  & <dbl>\\\\\n",
       "\\hline\n",
       "\t(Intercept) & 1.0023211\\\\\n",
       "\tGender & 0.9998698\\\\\n",
       "\tAge & 0.9995277\\\\\n",
       "\tDriving\\_License & 1.0027107\\\\\n",
       "\tPreviously\\_Insured & 1.0012544\\\\\n",
       "\tVehicle\\_Age & 0.9997627\\\\\n",
       "\tVehicle\\_Damage & 1.0012603\\\\\n",
       "\tAnnual\\_Premium & 1.0003056\\\\\n",
       "\tVintage & 0.9998251\\\\\n",
       "\tmean\\_PPD & 1.0009528\\\\\n",
       "\tlog-posterior & 1.0027568\\\\\n",
       "\\end{tabular}\n"
      ],
      "text/markdown": [
       "\n",
       "A data.frame: 11 × 1\n",
       "\n",
       "| <!--/--> | rhat &lt;dbl&gt; |\n",
       "|---|---|\n",
       "| (Intercept) | 1.0023211 |\n",
       "| Gender | 0.9998698 |\n",
       "| Age | 0.9995277 |\n",
       "| Driving_License | 1.0027107 |\n",
       "| Previously_Insured | 1.0012544 |\n",
       "| Vehicle_Age | 0.9997627 |\n",
       "| Vehicle_Damage | 1.0012603 |\n",
       "| Annual_Premium | 1.0003056 |\n",
       "| Vintage | 0.9998251 |\n",
       "| mean_PPD | 1.0009528 |\n",
       "| log-posterior | 1.0027568 |\n",
       "\n"
      ],
      "text/plain": [
       "                   rhat     \n",
       "(Intercept)        1.0023211\n",
       "Gender             0.9998698\n",
       "Age                0.9995277\n",
       "Driving_License    1.0027107\n",
       "Previously_Insured 1.0012544\n",
       "Vehicle_Age        0.9997627\n",
       "Vehicle_Damage     1.0012603\n",
       "Annual_Premium     1.0003056\n",
       "Vintage            0.9998251\n",
       "mean_PPD           1.0009528\n",
       "log-posterior      1.0027568"
      ]
     },
     "metadata": {},
     "output_type": "display_data"
    }
   ],
   "source": [
    "as.data.frame(rhat)"
   ]
  },
  {
   "cell_type": "code",
   "execution_count": 18,
   "metadata": {
    "ExecuteTime": {
     "end_time": "2021-05-28T22:11:15.671135Z",
     "start_time": "2021-05-28T22:11:15.625Z"
    }
   },
   "outputs": [
    {
     "data": {
      "text/html": [
       "FALSE"
      ],
      "text/latex": [
       "FALSE"
      ],
      "text/markdown": [
       "FALSE"
      ],
      "text/plain": [
       "[1] FALSE"
      ]
     },
     "metadata": {},
     "output_type": "display_data"
    }
   ],
   "source": [
    "any(summary(fit.rstanarm)[, \"Rhat\"] > 1.1)"
   ]
  },
  {
   "cell_type": "code",
   "execution_count": null,
   "metadata": {},
   "outputs": [],
   "source": []
  },
  {
   "cell_type": "code",
   "execution_count": 20,
   "metadata": {
    "ExecuteTime": {
     "end_time": "2021-05-28T22:11:48.800358Z",
     "start_time": "2021-05-28T22:11:48.719Z"
    }
   },
   "outputs": [
    {
     "data": {
      "text/html": [
       "<table class=\"dataframe\">\n",
       "<caption>A data.frame: 9 × 5</caption>\n",
       "<thead>\n",
       "\t<tr><th scope=col>Variable</th><th scope=col>Median</th><th scope=col>SD</th><th scope=col>Lower</th><th scope=col>Upper</th></tr>\n",
       "\t<tr><th scope=col>&lt;fct&gt;</th><th scope=col>&lt;dbl&gt;</th><th scope=col>&lt;dbl&gt;</th><th scope=col>&lt;dbl&gt;</th><th scope=col>&lt;dbl&gt;</th></tr>\n",
       "</thead>\n",
       "<tbody>\n",
       "\t<tr><td>(Intercept)       </td><td>-1.439</td><td>0.354</td><td>-2.322</td><td>-0.906</td></tr>\n",
       "\t<tr><td>Gender            </td><td> 0.158</td><td>0.077</td><td> 0.009</td><td> 0.310</td></tr>\n",
       "\t<tr><td>Age               </td><td>-0.516</td><td>0.111</td><td>-0.736</td><td>-0.292</td></tr>\n",
       "\t<tr><td>Driving_License   </td><td> 1.869</td><td>1.833</td><td>-0.001</td><td> 6.911</td></tr>\n",
       "\t<tr><td>Previously_Insured</td><td>-1.894</td><td>0.522</td><td>-3.167</td><td>-1.095</td></tr>\n",
       "\t<tr><td>Vehicle_Age       </td><td> 0.848</td><td>0.124</td><td> 0.615</td><td> 1.100</td></tr>\n",
       "\t<tr><td>Vehicle_Damage    </td><td> 1.603</td><td>0.240</td><td> 1.192</td><td> 2.133</td></tr>\n",
       "\t<tr><td>Annual_Premium    </td><td>-0.064</td><td>0.083</td><td>-0.228</td><td> 0.098</td></tr>\n",
       "\t<tr><td>Vintage           </td><td>-0.030</td><td>0.077</td><td>-0.182</td><td> 0.123</td></tr>\n",
       "</tbody>\n",
       "</table>\n"
      ],
      "text/latex": [
       "A data.frame: 9 × 5\n",
       "\\begin{tabular}{lllll}\n",
       " Variable & Median & SD & Lower & Upper\\\\\n",
       " <fct> & <dbl> & <dbl> & <dbl> & <dbl>\\\\\n",
       "\\hline\n",
       "\t (Intercept)        & -1.439 & 0.354 & -2.322 & -0.906\\\\\n",
       "\t Gender             &  0.158 & 0.077 &  0.009 &  0.310\\\\\n",
       "\t Age                & -0.516 & 0.111 & -0.736 & -0.292\\\\\n",
       "\t Driving\\_License    &  1.869 & 1.833 & -0.001 &  6.911\\\\\n",
       "\t Previously\\_Insured & -1.894 & 0.522 & -3.167 & -1.095\\\\\n",
       "\t Vehicle\\_Age        &  0.848 & 0.124 &  0.615 &  1.100\\\\\n",
       "\t Vehicle\\_Damage     &  1.603 & 0.240 &  1.192 &  2.133\\\\\n",
       "\t Annual\\_Premium     & -0.064 & 0.083 & -0.228 &  0.098\\\\\n",
       "\t Vintage            & -0.030 & 0.077 & -0.182 &  0.123\\\\\n",
       "\\end{tabular}\n"
      ],
      "text/markdown": [
       "\n",
       "A data.frame: 9 × 5\n",
       "\n",
       "| Variable &lt;fct&gt; | Median &lt;dbl&gt; | SD &lt;dbl&gt; | Lower &lt;dbl&gt; | Upper &lt;dbl&gt; |\n",
       "|---|---|---|---|---|\n",
       "| (Intercept)        | -1.439 | 0.354 | -2.322 | -0.906 |\n",
       "| Gender             |  0.158 | 0.077 |  0.009 |  0.310 |\n",
       "| Age                | -0.516 | 0.111 | -0.736 | -0.292 |\n",
       "| Driving_License    |  1.869 | 1.833 | -0.001 |  6.911 |\n",
       "| Previously_Insured | -1.894 | 0.522 | -3.167 | -1.095 |\n",
       "| Vehicle_Age        |  0.848 | 0.124 |  0.615 |  1.100 |\n",
       "| Vehicle_Damage     |  1.603 | 0.240 |  1.192 |  2.133 |\n",
       "| Annual_Premium     | -0.064 | 0.083 | -0.228 |  0.098 |\n",
       "| Vintage            | -0.030 | 0.077 | -0.182 |  0.123 |\n",
       "\n"
      ],
      "text/plain": [
       "  Variable           Median SD    Lower  Upper \n",
       "1 (Intercept)        -1.439 0.354 -2.322 -0.906\n",
       "2 Gender              0.158 0.077  0.009  0.310\n",
       "3 Age                -0.516 0.111 -0.736 -0.292\n",
       "4 Driving_License     1.869 1.833 -0.001  6.911\n",
       "5 Previously_Insured -1.894 0.522 -3.167 -1.095\n",
       "6 Vehicle_Age         0.848 0.124  0.615  1.100\n",
       "7 Vehicle_Damage      1.603 0.240  1.192  2.133\n",
       "8 Annual_Premium     -0.064 0.083 -0.228  0.098\n",
       "9 Vintage            -0.030 0.077 -0.182  0.123"
      ]
     },
     "metadata": {},
     "output_type": "display_data"
    }
   ],
   "source": [
    "mcmcTab(fit.rstanarm)"
   ]
  },
  {
   "cell_type": "code",
   "execution_count": 21,
   "metadata": {
    "ExecuteTime": {
     "end_time": "2021-05-28T22:11:51.259332Z",
     "start_time": "2021-05-28T22:11:51.118Z"
    }
   },
   "outputs": [
    {
     "data": {
      "text/html": [
       "<table class=\"dataframe\">\n",
       "<caption>A data.frame: 9 × 6</caption>\n",
       "<thead>\n",
       "\t<tr><th scope=col>Variable</th><th scope=col>Median</th><th scope=col>SD</th><th scope=col>Lower</th><th scope=col>Upper</th><th scope=col>Pr</th></tr>\n",
       "\t<tr><th scope=col>&lt;fct&gt;</th><th scope=col>&lt;dbl&gt;</th><th scope=col>&lt;dbl&gt;</th><th scope=col>&lt;dbl&gt;</th><th scope=col>&lt;dbl&gt;</th><th scope=col>&lt;dbl&gt;</th></tr>\n",
       "</thead>\n",
       "<tbody>\n",
       "\t<tr><td>(Intercept)       </td><td>-1.439</td><td>0.354</td><td>-2.322</td><td>-0.906</td><td>1.000</td></tr>\n",
       "\t<tr><td>Gender            </td><td> 0.158</td><td>0.077</td><td> 0.009</td><td> 0.310</td><td>0.981</td></tr>\n",
       "\t<tr><td>Age               </td><td>-0.516</td><td>0.111</td><td>-0.736</td><td>-0.292</td><td>1.000</td></tr>\n",
       "\t<tr><td>Driving_License   </td><td> 1.869</td><td>1.833</td><td>-0.001</td><td> 6.911</td><td>0.975</td></tr>\n",
       "\t<tr><td>Previously_Insured</td><td>-1.894</td><td>0.522</td><td>-3.167</td><td>-1.095</td><td>1.000</td></tr>\n",
       "\t<tr><td>Vehicle_Age       </td><td> 0.848</td><td>0.124</td><td> 0.615</td><td> 1.100</td><td>1.000</td></tr>\n",
       "\t<tr><td>Vehicle_Damage    </td><td> 1.603</td><td>0.240</td><td> 1.192</td><td> 2.133</td><td>1.000</td></tr>\n",
       "\t<tr><td>Annual_Premium    </td><td>-0.064</td><td>0.083</td><td>-0.228</td><td> 0.098</td><td>0.785</td></tr>\n",
       "\t<tr><td>Vintage           </td><td>-0.030</td><td>0.077</td><td>-0.182</td><td> 0.123</td><td>0.651</td></tr>\n",
       "</tbody>\n",
       "</table>\n"
      ],
      "text/latex": [
       "A data.frame: 9 × 6\n",
       "\\begin{tabular}{llllll}\n",
       " Variable & Median & SD & Lower & Upper & Pr\\\\\n",
       " <fct> & <dbl> & <dbl> & <dbl> & <dbl> & <dbl>\\\\\n",
       "\\hline\n",
       "\t (Intercept)        & -1.439 & 0.354 & -2.322 & -0.906 & 1.000\\\\\n",
       "\t Gender             &  0.158 & 0.077 &  0.009 &  0.310 & 0.981\\\\\n",
       "\t Age                & -0.516 & 0.111 & -0.736 & -0.292 & 1.000\\\\\n",
       "\t Driving\\_License    &  1.869 & 1.833 & -0.001 &  6.911 & 0.975\\\\\n",
       "\t Previously\\_Insured & -1.894 & 0.522 & -3.167 & -1.095 & 1.000\\\\\n",
       "\t Vehicle\\_Age        &  0.848 & 0.124 &  0.615 &  1.100 & 1.000\\\\\n",
       "\t Vehicle\\_Damage     &  1.603 & 0.240 &  1.192 &  2.133 & 1.000\\\\\n",
       "\t Annual\\_Premium     & -0.064 & 0.083 & -0.228 &  0.098 & 0.785\\\\\n",
       "\t Vintage            & -0.030 & 0.077 & -0.182 &  0.123 & 0.651\\\\\n",
       "\\end{tabular}\n"
      ],
      "text/markdown": [
       "\n",
       "A data.frame: 9 × 6\n",
       "\n",
       "| Variable &lt;fct&gt; | Median &lt;dbl&gt; | SD &lt;dbl&gt; | Lower &lt;dbl&gt; | Upper &lt;dbl&gt; | Pr &lt;dbl&gt; |\n",
       "|---|---|---|---|---|---|\n",
       "| (Intercept)        | -1.439 | 0.354 | -2.322 | -0.906 | 1.000 |\n",
       "| Gender             |  0.158 | 0.077 |  0.009 |  0.310 | 0.981 |\n",
       "| Age                | -0.516 | 0.111 | -0.736 | -0.292 | 1.000 |\n",
       "| Driving_License    |  1.869 | 1.833 | -0.001 |  6.911 | 0.975 |\n",
       "| Previously_Insured | -1.894 | 0.522 | -3.167 | -1.095 | 1.000 |\n",
       "| Vehicle_Age        |  0.848 | 0.124 |  0.615 |  1.100 | 1.000 |\n",
       "| Vehicle_Damage     |  1.603 | 0.240 |  1.192 |  2.133 | 1.000 |\n",
       "| Annual_Premium     | -0.064 | 0.083 | -0.228 |  0.098 | 0.785 |\n",
       "| Vintage            | -0.030 | 0.077 | -0.182 |  0.123 | 0.651 |\n",
       "\n"
      ],
      "text/plain": [
       "  Variable           Median SD    Lower  Upper  Pr   \n",
       "1 (Intercept)        -1.439 0.354 -2.322 -0.906 1.000\n",
       "2 Gender              0.158 0.077  0.009  0.310 0.981\n",
       "3 Age                -0.516 0.111 -0.736 -0.292 1.000\n",
       "4 Driving_License     1.869 1.833 -0.001  6.911 0.975\n",
       "5 Previously_Insured -1.894 0.522 -3.167 -1.095 1.000\n",
       "6 Vehicle_Age         0.848 0.124  0.615  1.100 1.000\n",
       "7 Vehicle_Damage      1.603 0.240  1.192  2.133 1.000\n",
       "8 Annual_Premium     -0.064 0.083 -0.228  0.098 0.785\n",
       "9 Vintage            -0.030 0.077 -0.182  0.123 0.651"
      ]
     },
     "metadata": {},
     "output_type": "display_data"
    }
   ],
   "source": [
    "mcmcTab(fit.rstanarm, Pr = TRUE)"
   ]
  },
  {
   "cell_type": "code",
   "execution_count": 41,
   "metadata": {
    "ExecuteTime": {
     "end_time": "2021-05-26T17:58:31.696539Z",
     "start_time": "2021-05-26T17:58:31.656Z"
    }
   },
   "outputs": [
    {
     "ename": "ERROR",
     "evalue": "Error in sims[, pars]: subscript out of bounds\n",
     "output_type": "error",
     "traceback": [
      "Error in sims[, pars]: subscript out of bounds\nTraceback:\n",
      "1. mcmcTab(fit.rstanarm, pars = c(\"b[2]\", \"b[3]\", \"b[4]\"), ROPE = c(-0.1, \n .     0.1))",
      "2. matrix(sims[, pars], nrow = nrow(sims), byrow = FALSE, dimnames = list(NULL, \n .     pars))"
     ]
    }
   ],
   "source": [
    "mcmcTab(fit.rstanarm, pars = c(\"b[2]\", \"b[3]\", \"b[4]\"), ROPE = c(-0.1, 0.1))"
   ]
  },
  {
   "cell_type": "code",
   "execution_count": 31,
   "metadata": {
    "ExecuteTime": {
     "end_time": "2021-05-28T22:16:15.367791Z",
     "start_time": "2021-05-28T22:16:15.341Z"
    }
   },
   "outputs": [],
   "source": [
    "mcmcmat.rstanarm <- as.matrix(fit.rstanarm)"
   ]
  },
  {
   "cell_type": "code",
   "execution_count": 33,
   "metadata": {
    "ExecuteTime": {
     "end_time": "2021-05-28T22:16:22.586633Z",
     "start_time": "2021-05-28T22:16:22.557Z"
    }
   },
   "outputs": [],
   "source": [
    "mm <- model.matrix(Response ~ Gender + Age + Driving_License + Previously_Insured + \n",
    "                         Vehicle_Age + Vehicle_Damage + Annual_Premium + Vintage,\n",
    "                   data = df)"
   ]
  },
  {
   "cell_type": "code",
   "execution_count": 34,
   "metadata": {
    "ExecuteTime": {
     "end_time": "2021-05-28T22:16:22.759674Z",
     "start_time": "2021-05-28T22:16:22.710Z"
    }
   },
   "outputs": [],
   "source": [
    "aveprob.Gender.rstanarm <- mcmcAveProb(modelmatrix = mm,\n",
    "            mcmcout = mcmcmat.rstanarm[, 1:ncol(mm)],\n",
    "            xcol = 1,\n",
    "            xrange = c(0, 1),\n",
    "            link = \"logit\",\n",
    "            ci = c(0.025, 0.975),\n",
    "            fullsims = TRUE)"
   ]
  },
  {
   "cell_type": "code",
   "execution_count": 35,
   "metadata": {
    "ExecuteTime": {
     "end_time": "2021-05-28T22:16:26.388764Z",
     "start_time": "2021-05-28T22:16:26.060Z"
    }
   },
   "outputs": [
    {
     "name": "stderr",
     "output_type": "stream",
     "text": [
      "Picking joint bandwidth of 0.00288\n",
      "\n"
     ]
    },
    {
     "data": {
      "image/png": "[encoded data removed]",
      "text/plain": [
       "plot without title"
      ]
     },
     "metadata": {
      "image/png": {
       "height": 420,
       "width": 420
      }
     },
     "output_type": "display_data"
    }
   ],
   "source": [
    "library(\"ggplot2\")\n",
    "library(\"ggridges\")\n",
    "ggplot(data = aveprob.Gender.rstanarm, \n",
    "       aes(y = factor(x), x = pp)) + \n",
    "  stat_density_ridges(quantile_lines = TRUE, \n",
    "                quantiles = c(0.025, 0.5, 0.975), vline_color = \"white\") + \n",
    "  scale_y_discrete(labels = c(\"Male\", \"Female\")) + \n",
    "  ylab(\"\") + \n",
    "  xlab(\"Estimated probability of volunteering\") + \n",
    "  labs(title = \"Probability based on average-case approach\") +\n",
    "  theme_minimal()"
   ]
  },
  {
   "cell_type": "code",
   "execution_count": 28,
   "metadata": {
    "ExecuteTime": {
     "end_time": "2021-05-28T22:13:08.317812Z",
     "start_time": "2021-05-28T22:13:08.218Z"
    }
   },
   "outputs": [
    {
     "data": {
      "text/html": [
       "<style>\n",
       ".list-inline {list-style: none; margin:0; padding: 0}\n",
       ".list-inline>li {display: inline-block}\n",
       ".list-inline>li:not(:last-child)::after {content: \"\\00b7\"; padding: 0 .5ex}\n",
       "</style>\n",
       "<ol class=list-inline><li>'Gender'</li><li>'Age'</li><li>'Driving_License'</li><li>'Previously_Insured'</li><li>'Vehicle_Age'</li><li>'Vehicle_Damage'</li><li>'Annual_Premium'</li><li>'Vintage'</li><li>'Response'</li></ol>\n"
      ],
      "text/latex": [
       "\\begin{enumerate*}\n",
       "\\item 'Gender'\n",
       "\\item 'Age'\n",
       "\\item 'Driving\\_License'\n",
       "\\item 'Previously\\_Insured'\n",
       "\\item 'Vehicle\\_Age'\n",
       "\\item 'Vehicle\\_Damage'\n",
       "\\item 'Annual\\_Premium'\n",
       "\\item 'Vintage'\n",
       "\\item 'Response'\n",
       "\\end{enumerate*}\n"
      ],
      "text/markdown": [
       "1. 'Gender'\n",
       "2. 'Age'\n",
       "3. 'Driving_License'\n",
       "4. 'Previously_Insured'\n",
       "5. 'Vehicle_Age'\n",
       "6. 'Vehicle_Damage'\n",
       "7. 'Annual_Premium'\n",
       "8. 'Vintage'\n",
       "9. 'Response'\n",
       "\n",
       "\n"
      ],
      "text/plain": [
       "[1] \"Gender\"             \"Age\"                \"Driving_License\"   \n",
       "[4] \"Previously_Insured\" \"Vehicle_Age\"        \"Vehicle_Damage\"    \n",
       "[7] \"Annual_Premium\"     \"Vintage\"            \"Response\"          "
      ]
     },
     "metadata": {},
     "output_type": "display_data"
    }
   ],
   "source": [
    "colnames(df)"
   ]
  },
  {
   "cell_type": "code",
   "execution_count": 36,
   "metadata": {
    "ExecuteTime": {
     "end_time": "2021-05-28T22:16:30.097402Z",
     "start_time": "2021-05-28T22:16:30.005Z"
    }
   },
   "outputs": [],
   "source": [
    "aveprob.Vehicle_Damage.rstanarm <- mcmcAveProb(modelmatrix = mm,\n",
    "            mcmcout = mcmcmat.rstanarm[, 1:ncol(mm)],\n",
    "            xcol = 6,\n",
    "            xrange = seq(min(df$Vehicle_Damage), max(df$Vehicle_Damage), length.out = 20),\n",
    "            link = \"logit\",\n",
    "            ci = c(0.025, 0.975),\n",
    "            fullsims = FALSE)"
   ]
  },
  {
   "cell_type": "code",
   "execution_count": 37,
   "metadata": {
    "ExecuteTime": {
     "end_time": "2021-05-28T22:16:31.437891Z",
     "start_time": "2021-05-28T22:16:31.129Z"
    }
   },
   "outputs": [
    {
     "data": {
      "image/png": "[encoded data removed]",
      "text/plain": [
       "plot without title"
      ]
     },
     "metadata": {
      "image/png": {
       "height": 420,
       "width": 420
      }
     },
     "output_type": "display_data"
    }
   ],
   "source": [
    "ggplot(data = aveprob.Vehicle_Damage.rstanarm, \n",
    "       aes(x = x, y = median_pp)) + \n",
    "  geom_ribbon(aes(ymin = lower_pp, ymax = upper_pp), fill = \"gray\") + \n",
    "  geom_line() + \n",
    "  xlab(\"Vehicle Damage\") + \n",
    "  ylab(\"Estimated probability of Applying\") + \n",
    "  ylim(0, 1) + \n",
    "  labs(title = \"Probability based on average-case approach\") +\n",
    "  theme_minimal()"
   ]
  },
  {
   "cell_type": "code",
   "execution_count": 38,
   "metadata": {
    "ExecuteTime": {
     "end_time": "2021-05-28T22:18:55.340130Z",
     "start_time": "2021-05-28T22:18:55.241Z"
    }
   },
   "outputs": [
    {
     "data": {
      "text/plain": [
       "     Gender              Age           Driving_License Previously_Insured\n",
       " Min.   :-0.02588   Min.   :-0.17412   Min.   :0       Min.   :-0.8594   \n",
       " 1st Qu.: 0.03410   1st Qu.:-0.12476   1st Qu.:0       1st Qu.:-0.7860   \n",
       " Median : 0.05121   Median :-0.11144   Median :0       Median :-0.7499   \n",
       " Mean   : 0.05142   Mean   :-0.11085   Mean   :0       Mean   :-0.7303   \n",
       " 3rd Qu.: 0.06813   3rd Qu.:-0.09778   3rd Qu.:0       3rd Qu.:-0.6947   \n",
       " Max.   : 0.15542   Max.   :-0.01500   Max.   :0       Max.   :-0.2403   \n",
       "  Vehicle_Age     Vehicle_Damage   Annual_Premium         Vintage         \n",
       " Min.   :0.1503   Min.   :0.3954   Min.   :-0.044738   Min.   :-0.097505  \n",
       " 1st Qu.:0.2925   1st Qu.:0.6490   1st Qu.:-0.014364   1st Qu.:-0.019902  \n",
       " Median :0.3267   Median :0.6884   Median :-0.007563   Median :-0.007273  \n",
       " Mean   :0.3282   Mean   :0.6832   Mean   :-0.007737   Mean   :-0.007379  \n",
       " 3rd Qu.:0.3635   3rd Qu.:0.7242   3rd Qu.:-0.001190   3rd Qu.: 0.005485  \n",
       " Max.   :0.5251   Max.   :0.8363   Max.   : 0.029674   Max.   : 0.063367  "
      ]
     },
     "metadata": {},
     "output_type": "display_data"
    }
   ],
   "source": [
    "fdfull.rstanarm <- mcmcFD(modelmatrix = mm,\n",
    "                  mcmcout = mcmcmat.rstanarm[, 1:ncol(mm)],\n",
    "                  link = \"logit\",\n",
    "                  ci = c(0.025, 0.975),\n",
    "                  fullsims = TRUE)\n",
    "summary(fdfull.rstanarm)"
   ]
  },
  {
   "cell_type": "code",
   "execution_count": 39,
   "metadata": {
    "ExecuteTime": {
     "end_time": "2021-05-28T22:19:02.533616Z",
     "start_time": "2021-05-28T22:19:02.402Z"
    }
   },
   "outputs": [
    {
     "data": {
      "text/plain": [
       "   median_fd            lower_fd           upper_fd          VarName         \n",
       " Min.   :-0.749892   Min.   :-0.82788   Min.   :-0.52481   Length:8          \n",
       " 1st Qu.:-0.033531   1st Qu.:-0.07185   1st Qu.:-0.01706   Class :character  \n",
       " Median :-0.003637   Median :-0.01372   Median : 0.02091   Mode  :character  \n",
       " Mean   : 0.023767   Mean   :-0.03293   Mean   : 0.09480                     \n",
       " 3rd Qu.: 0.120074   3rd Qu.: 0.05961   3rd Qu.: 0.18374                     \n",
       " Max.   : 0.688421   Max.   : 0.55511   Max.   : 0.77816                     \n",
       "     VarID     \n",
       " Min.   :1.00  \n",
       " 1st Qu.:2.75  \n",
       " Median :4.50  \n",
       " Mean   :4.50  \n",
       " 3rd Qu.:6.25  \n",
       " Max.   :8.00  "
      ]
     },
     "metadata": {},
     "output_type": "display_data"
    }
   ],
   "source": [
    "fdsum.rstanarm <- mcmcFD(modelmatrix = mm,\n",
    "                  mcmcout = mcmcmat.rstanarm[, 1:ncol(mm)],\n",
    "                  link = \"logit\",\n",
    "                  ci = c(0.025, 0.975),\n",
    "                  fullsims = FALSE)\n",
    "summary(fdsum.rstanarm)"
   ]
  },
  {
   "cell_type": "code",
   "execution_count": 40,
   "metadata": {
    "ExecuteTime": {
     "end_time": "2021-05-28T22:19:14.560353Z",
     "start_time": "2021-05-28T22:19:14.344Z"
    }
   },
   "outputs": [
    {
     "data": {
      "image/png": "[encoded data removed]",
      "text/plain": [
       "plot without title"
      ]
     },
     "metadata": {
      "image/png": {
       "height": 420,
       "width": 420
      }
     },
     "output_type": "display_data"
    }
   ],
   "source": [
    "ggplot(data = fdsum.rstanarm, \n",
    "       aes(x = median_fd, y = VarName)) + \n",
    "  geom_point() + \n",
    "  geom_segment(aes(x = lower_fd, xend = upper_fd, yend = VarName)) + \n",
    "  geom_vline(xintercept = 0) + \n",
    "  xlab(\"Change in Pr(Volunteering)\") + \n",
    "  ylab(\"\") +\n",
    "  theme_minimal()"
   ]
  },
  {
   "cell_type": "code",
   "execution_count": 42,
   "metadata": {
    "ExecuteTime": {
     "end_time": "2021-05-28T22:20:02.120003Z",
     "start_time": "2021-05-28T22:19:59.378Z"
    }
   },
   "outputs": [
    {
     "name": "stderr",
     "output_type": "stream",
     "text": [
      "Instead of posterior_linpred(..., transform=TRUE) please call posterior_epred(), which provides equivalent functionality.\n",
      "\n"
     ]
    }
   ],
   "source": [
    "fitstats <- mcmcRocPrc(object = fit.rstanarm,\n",
    "                       yname  = \"Response\",\n",
    "                       xnames = c('Gender','Age','Driving_License','Previously_Insured','Vehicle_Age',\n",
    "                                  'Vehicle_Damage','Annual_Premium','Vintage'),\n",
    "                       curves = TRUE,\n",
    "                       fullsims = FALSE)"
   ]
  },
  {
   "cell_type": "code",
   "execution_count": 43,
   "metadata": {
    "ExecuteTime": {
     "end_time": "2021-05-28T22:20:04.095342Z",
     "start_time": "2021-05-28T22:20:04.047Z"
    }
   },
   "outputs": [
    {
     "data": {
      "text/html": [
       "<strong>V1:</strong> 0.882424489795918"
      ],
      "text/latex": [
       "\\textbf{V1:} 0.882424489795918"
      ],
      "text/markdown": [
       "**V1:** 0.882424489795918"
      ],
      "text/plain": [
       "       V1 \n",
       "0.8824245 "
      ]
     },
     "metadata": {},
     "output_type": "display_data"
    }
   ],
   "source": [
    "fitstats$area_under_roc"
   ]
  },
  {
   "cell_type": "code",
   "execution_count": 44,
   "metadata": {
    "ExecuteTime": {
     "end_time": "2021-05-28T22:20:05.081621Z",
     "start_time": "2021-05-28T22:20:05.055Z"
    }
   },
   "outputs": [
    {
     "data": {
      "text/html": [
       "<strong>V1:</strong> 0.820859448452087"
      ],
      "text/latex": [
       "\\textbf{V1:} 0.820859448452087"
      ],
      "text/markdown": [
       "**V1:** 0.820859448452087"
      ],
      "text/plain": [
       "       V1 \n",
       "0.8208594 "
      ]
     },
     "metadata": {},
     "output_type": "display_data"
    }
   ],
   "source": [
    "fitstats$area_under_prc"
   ]
  },
  {
   "cell_type": "code",
   "execution_count": 45,
   "metadata": {
    "ExecuteTime": {
     "end_time": "2021-05-28T22:20:08.228206Z",
     "start_time": "2021-05-28T22:20:07.970Z"
    }
   },
   "outputs": [
    {
     "data": {
      "image/png": "[encoded data removed]",
      "text/plain": [
       "plot without title"
      ]
     },
     "metadata": {
      "image/png": {
       "height": 420,
       "width": 420
      }
     },
     "output_type": "display_data"
    }
   ],
   "source": [
    "ggplot(data = as.data.frame(fitstats, what = \"roc\"), aes(x = x, y = y)) +\n",
    "  geom_line() + \n",
    "  geom_abline(intercept = 0, slope = 1, color = \"gray\") + \n",
    "  labs(title = \"ROC curve\") + \n",
    "  xlab(\"1 - Specificity\") + \n",
    "  ylab(\"Sensitivity\") +\n",
    "  theme_minimal()"
   ]
  },
  {
   "cell_type": "code",
   "execution_count": 46,
   "metadata": {
    "ExecuteTime": {
     "end_time": "2021-05-28T22:20:11.084261Z",
     "start_time": "2021-05-28T22:20:10.858Z"
    }
   },
   "outputs": [
    {
     "name": "stderr",
     "output_type": "stream",
     "text": [
      "Warning message:\n",
      "\"Removed 1 row(s) containing missing values (geom_path).\"\n"
     ]
    },
    {
     "data": {
      "image/png": "[encoded data removed]",
      "text/plain": [
       "plot without title"
      ]
     },
     "metadata": {
      "image/png": {
       "height": 420,
       "width": 420
      }
     },
     "output_type": "display_data"
    }
   ],
   "source": [
    "ggplot(data = as.data.frame(fitstats, what = \"prc\"), aes(x = x, y = y)) +\n",
    "  geom_line() + \n",
    "  labs(title = \"Precision-Recall curve\") + \n",
    "  xlab(\"Recall\") + \n",
    "  ylab(\"Precision\") +\n",
    "  theme_minimal()"
   ]
  },
  {
   "cell_type": "code",
   "execution_count": 49,
   "metadata": {
    "ExecuteTime": {
     "end_time": "2021-05-28T22:21:44.753449Z",
     "start_time": "2021-05-28T22:21:43.154Z"
    }
   },
   "outputs": [
    {
     "name": "stderr",
     "output_type": "stream",
     "text": [
      "Instead of posterior_linpred(..., transform=TRUE) please call posterior_epred(), which provides equivalent functionality.\n",
      "\n"
     ]
    }
   ],
   "source": [
    "fitstats.fullsims <- mcmcRocPrc(object = fit.rstanarm,\n",
    "                       yname  = \"Response\",\n",
    "                       xnames = c('Gender','Age','Driving_License','Previously_Insured','Vehicle_Age',\n",
    "                                  'Vehicle_Damage','Annual_Premium','Vintage'),\n",
    "                       curves = FALSE,\n",
    "                       fullsims = FALSE)"
   ]
  },
  {
   "cell_type": "code",
   "execution_count": 50,
   "metadata": {
    "ExecuteTime": {
     "end_time": "2021-05-28T22:21:45.010453Z",
     "start_time": "2021-05-28T22:21:44.079Z"
    }
   },
   "outputs": [
    {
     "name": "stderr",
     "output_type": "stream",
     "text": [
      "Warning message:\n",
      "\"Groups with fewer than two data points have been dropped.\"\n",
      "Warning message in max(ids, na.rm = TRUE):\n",
      "\"no non-missing arguments to max; returning -Inf\"\n"
     ]
    },
    {
     "data": {
      "image/png": "[encoded data removed]",
      "text/plain": [
       "plot without title"
      ]
     },
     "metadata": {
      "image/png": {
       "height": 420,
       "width": 420
      }
     },
     "output_type": "display_data"
    }
   ],
   "source": [
    "ggplot(as.data.frame(fitstats.fullsims), \n",
    "       aes(x = area_under_roc)) +\n",
    "  geom_density() +\n",
    "  labs(title = \"Area under the ROC curve\") +\n",
    "  theme_minimal()"
   ]
  },
  {
   "cell_type": "code",
   "execution_count": null,
   "metadata": {},
   "outputs": [],
   "source": []
  },
  {
   "cell_type": "code",
   "execution_count": null,
   "metadata": {},
   "outputs": [],
   "source": []
  },
  {
   "cell_type": "code",
   "execution_count": null,
   "metadata": {},
   "outputs": [],
   "source": []
  },
  {
   "cell_type": "code",
   "execution_count": 9,
   "metadata": {
    "ExecuteTime": {
     "end_time": "2021-05-26T17:43:36.343502Z",
     "start_time": "2021-05-26T17:43:32.825Z"
    }
   },
   "outputs": [],
   "source": [
    "library(\"carData\")"
   ]
  },
  {
   "cell_type": "code",
   "execution_count": 10,
   "metadata": {
    "ExecuteTime": {
     "end_time": "2021-05-26T17:43:36.383499Z",
     "start_time": "2021-05-26T17:43:32.996Z"
    }
   },
   "outputs": [],
   "source": [
    "df <- carData::Cowles"
   ]
  },
  {
   "cell_type": "code",
   "execution_count": 11,
   "metadata": {
    "ExecuteTime": {
     "end_time": "2021-05-26T17:43:36.425500Z",
     "start_time": "2021-05-26T17:43:33.773Z"
    }
   },
   "outputs": [],
   "source": [
    "df$female <- (as.numeric(df$sex) - 2) * (-1)\n",
    "df$volunteer <- as.numeric(df$volunteer) - 1\n",
    "df$extraversion <- (df$extraversion - mean(df$extraversion)) / (2 * sd(df$extraversion))\n",
    "df$neuroticism <- (df$neuroticism - mean(df$neuroticism)) / (2 * sd(df$neuroticism))"
   ]
  },
  {
   "cell_type": "code",
   "execution_count": 12,
   "metadata": {
    "ExecuteTime": {
     "end_time": "2021-05-26T17:43:36.461500Z",
     "start_time": "2021-05-26T17:43:34.418Z"
    }
   },
   "outputs": [
    {
     "data": {
      "text/html": [
       "<style>\n",
       ".list-inline {list-style: none; margin:0; padding: 0}\n",
       ".list-inline>li {display: inline-block}\n",
       ".list-inline>li:not(:last-child)::after {content: \"\\00b7\"; padding: 0 .5ex}\n",
       "</style>\n",
       "<ol class=list-inline><li>1421</li><li>5</li></ol>\n"
      ],
      "text/latex": [
       "\\begin{enumerate*}\n",
       "\\item 1421\n",
       "\\item 5\n",
       "\\end{enumerate*}\n"
      ],
      "text/markdown": [
       "1. 1421\n",
       "2. 5\n",
       "\n",
       "\n"
      ],
      "text/plain": [
       "[1] 1421    5"
      ]
     },
     "metadata": {},
     "output_type": "display_data"
    }
   ],
   "source": [
    "dim(df)"
   ]
  },
  {
   "cell_type": "code",
   "execution_count": 13,
   "metadata": {
    "ExecuteTime": {
     "end_time": "2021-05-26T17:43:43.156389Z",
     "start_time": "2021-05-26T17:43:43.111Z"
    }
   },
   "outputs": [
    {
     "data": {
      "text/html": [
       "<table class=\"dataframe\">\n",
       "<caption>A data.frame: 10 × 5</caption>\n",
       "<thead>\n",
       "\t<tr><th></th><th scope=col>neuroticism</th><th scope=col>extraversion</th><th scope=col>sex</th><th scope=col>volunteer</th><th scope=col>female</th></tr>\n",
       "\t<tr><th></th><th scope=col>&lt;dbl&gt;</th><th scope=col>&lt;dbl&gt;</th><th scope=col>&lt;fct&gt;</th><th scope=col>&lt;dbl&gt;</th><th scope=col>&lt;dbl&gt;</th></tr>\n",
       "</thead>\n",
       "<tbody>\n",
       "\t<tr><th scope=row>1</th><td> 0.46231843</td><td> 0.08051795</td><td>female</td><td>0</td><td>1</td></tr>\n",
       "\t<tr><th scope=row>2</th><td>-0.35415445</td><td> 0.20893098</td><td>male  </td><td>0</td><td>0</td></tr>\n",
       "\t<tr><th scope=row>3</th><td>-0.66033178</td><td> 0.46575703</td><td>male  </td><td>0</td><td>0</td></tr>\n",
       "\t<tr><th scope=row>4</th><td>-0.35415445</td><td> 0.97940914</td><td>female</td><td>0</td><td>1</td></tr>\n",
       "\t<tr><th scope=row>5</th><td>-0.25209534</td><td> 0.85099611</td><td>male  </td><td>0</td><td>0</td></tr>\n",
       "\t<tr><th scope=row>6</th><td>-0.55827267</td><td> 0.33734400</td><td>male  </td><td>0</td><td>0</td></tr>\n",
       "\t<tr><th scope=row>7</th><td>-0.35415445</td><td>-0.30472113</td><td>female</td><td>0</td><td>1</td></tr>\n",
       "\t<tr><th scope=row>8</th><td> 0.05408199</td><td>-0.17630810</td><td>male  </td><td>0</td><td>0</td></tr>\n",
       "\t<tr><th scope=row>9</th><td> 0.36025932</td><td> 0.46575703</td><td>male  </td><td>0</td><td>0</td></tr>\n",
       "\t<tr><th scope=row>10</th><td> 0.66643665</td><td>-0.68996021</td><td>male  </td><td>0</td><td>0</td></tr>\n",
       "</tbody>\n",
       "</table>\n"
      ],
      "text/latex": [
       "A data.frame: 10 × 5\n",
       "\\begin{tabular}{r|lllll}\n",
       "  & neuroticism & extraversion & sex & volunteer & female\\\\\n",
       "  & <dbl> & <dbl> & <fct> & <dbl> & <dbl>\\\\\n",
       "\\hline\n",
       "\t1 &  0.46231843 &  0.08051795 & female & 0 & 1\\\\\n",
       "\t2 & -0.35415445 &  0.20893098 & male   & 0 & 0\\\\\n",
       "\t3 & -0.66033178 &  0.46575703 & male   & 0 & 0\\\\\n",
       "\t4 & -0.35415445 &  0.97940914 & female & 0 & 1\\\\\n",
       "\t5 & -0.25209534 &  0.85099611 & male   & 0 & 0\\\\\n",
       "\t6 & -0.55827267 &  0.33734400 & male   & 0 & 0\\\\\n",
       "\t7 & -0.35415445 & -0.30472113 & female & 0 & 1\\\\\n",
       "\t8 &  0.05408199 & -0.17630810 & male   & 0 & 0\\\\\n",
       "\t9 &  0.36025932 &  0.46575703 & male   & 0 & 0\\\\\n",
       "\t10 &  0.66643665 & -0.68996021 & male   & 0 & 0\\\\\n",
       "\\end{tabular}\n"
      ],
      "text/markdown": [
       "\n",
       "A data.frame: 10 × 5\n",
       "\n",
       "| <!--/--> | neuroticism &lt;dbl&gt; | extraversion &lt;dbl&gt; | sex &lt;fct&gt; | volunteer &lt;dbl&gt; | female &lt;dbl&gt; |\n",
       "|---|---|---|---|---|---|\n",
       "| 1 |  0.46231843 |  0.08051795 | female | 0 | 1 |\n",
       "| 2 | -0.35415445 |  0.20893098 | male   | 0 | 0 |\n",
       "| 3 | -0.66033178 |  0.46575703 | male   | 0 | 0 |\n",
       "| 4 | -0.35415445 |  0.97940914 | female | 0 | 1 |\n",
       "| 5 | -0.25209534 |  0.85099611 | male   | 0 | 0 |\n",
       "| 6 | -0.55827267 |  0.33734400 | male   | 0 | 0 |\n",
       "| 7 | -0.35415445 | -0.30472113 | female | 0 | 1 |\n",
       "| 8 |  0.05408199 | -0.17630810 | male   | 0 | 0 |\n",
       "| 9 |  0.36025932 |  0.46575703 | male   | 0 | 0 |\n",
       "| 10 |  0.66643665 | -0.68996021 | male   | 0 | 0 |\n",
       "\n"
      ],
      "text/plain": [
       "   neuroticism extraversion sex    volunteer female\n",
       "1   0.46231843  0.08051795  female 0         1     \n",
       "2  -0.35415445  0.20893098  male   0         0     \n",
       "3  -0.66033178  0.46575703  male   0         0     \n",
       "4  -0.35415445  0.97940914  female 0         1     \n",
       "5  -0.25209534  0.85099611  male   0         0     \n",
       "6  -0.55827267  0.33734400  male   0         0     \n",
       "7  -0.35415445 -0.30472113  female 0         1     \n",
       "8   0.05408199 -0.17630810  male   0         0     \n",
       "9   0.36025932  0.46575703  male   0         0     \n",
       "10  0.66643665 -0.68996021  male   0         0     "
      ]
     },
     "metadata": {},
     "output_type": "display_data"
    }
   ],
   "source": [
    "df[1:10,]"
   ]
  },
  {
   "cell_type": "code",
   "execution_count": 14,
   "metadata": {
    "ExecuteTime": {
     "end_time": "2021-05-26T14:03:05.977647Z",
     "start_time": "2021-05-26T14:02:59.280Z"
    }
   },
   "outputs": [
    {
     "name": "stdout",
     "output_type": "stream",
     "text": [
      "\n",
      "SAMPLING FOR MODEL 'bernoulli' NOW (CHAIN 1).\n",
      "Chain 1: \n",
      "Chain 1: Gradient evaluation took 0 seconds\n",
      "Chain 1: 1000 transitions using 10 leapfrog steps per transition would take 0 seconds.\n",
      "Chain 1: Adjust your expectations accordingly!\n",
      "Chain 1: \n",
      "Chain 1: \n",
      "Chain 1: Iteration:    1 / 2000 [  0%]  (Warmup)\n",
      "Chain 1: Iteration:  200 / 2000 [ 10%]  (Warmup)\n",
      "Chain 1: Iteration:  400 / 2000 [ 20%]  (Warmup)\n",
      "Chain 1: Iteration:  600 / 2000 [ 30%]  (Warmup)\n",
      "Chain 1: Iteration:  800 / 2000 [ 40%]  (Warmup)\n",
      "Chain 1: Iteration: 1000 / 2000 [ 50%]  (Warmup)\n",
      "Chain 1: Iteration: 1001 / 2000 [ 50%]  (Sampling)\n",
      "Chain 1: Iteration: 1200 / 2000 [ 60%]  (Sampling)\n",
      "Chain 1: Iteration: 1400 / 2000 [ 70%]  (Sampling)\n",
      "Chain 1: Iteration: 1600 / 2000 [ 80%]  (Sampling)\n",
      "Chain 1: Iteration: 1800 / 2000 [ 90%]  (Sampling)\n",
      "Chain 1: Iteration: 2000 / 2000 [100%]  (Sampling)\n",
      "Chain 1: \n",
      "Chain 1:  Elapsed Time: 0.577 seconds (Warm-up)\n",
      "Chain 1:                0.671 seconds (Sampling)\n",
      "Chain 1:                1.248 seconds (Total)\n",
      "Chain 1: \n",
      "\n",
      "SAMPLING FOR MODEL 'bernoulli' NOW (CHAIN 2).\n",
      "Chain 2: \n",
      "Chain 2: Gradient evaluation took 0 seconds\n",
      "Chain 2: 1000 transitions using 10 leapfrog steps per transition would take 0 seconds.\n",
      "Chain 2: Adjust your expectations accordingly!\n",
      "Chain 2: \n",
      "Chain 2: \n",
      "Chain 2: Iteration:    1 / 2000 [  0%]  (Warmup)\n",
      "Chain 2: Iteration:  200 / 2000 [ 10%]  (Warmup)\n",
      "Chain 2: Iteration:  400 / 2000 [ 20%]  (Warmup)\n",
      "Chain 2: Iteration:  600 / 2000 [ 30%]  (Warmup)\n",
      "Chain 2: Iteration:  800 / 2000 [ 40%]  (Warmup)\n",
      "Chain 2: Iteration: 1000 / 2000 [ 50%]  (Warmup)\n",
      "Chain 2: Iteration: 1001 / 2000 [ 50%]  (Sampling)\n",
      "Chain 2: Iteration: 1200 / 2000 [ 60%]  (Sampling)\n",
      "Chain 2: Iteration: 1400 / 2000 [ 70%]  (Sampling)\n",
      "Chain 2: Iteration: 1600 / 2000 [ 80%]  (Sampling)\n",
      "Chain 2: Iteration: 1800 / 2000 [ 90%]  (Sampling)\n",
      "Chain 2: Iteration: 2000 / 2000 [100%]  (Sampling)\n",
      "Chain 2: \n",
      "Chain 2:  Elapsed Time: 0.528 seconds (Warm-up)\n",
      "Chain 2:                0.586 seconds (Sampling)\n",
      "Chain 2:                1.114 seconds (Total)\n",
      "Chain 2: \n",
      "\n",
      "SAMPLING FOR MODEL 'bernoulli' NOW (CHAIN 3).\n",
      "Chain 3: \n",
      "Chain 3: Gradient evaluation took 0 seconds\n",
      "Chain 3: 1000 transitions using 10 leapfrog steps per transition would take 0 seconds.\n",
      "Chain 3: Adjust your expectations accordingly!\n",
      "Chain 3: \n",
      "Chain 3: \n",
      "Chain 3: Iteration:    1 / 2000 [  0%]  (Warmup)\n",
      "Chain 3: Iteration:  200 / 2000 [ 10%]  (Warmup)\n",
      "Chain 3: Iteration:  400 / 2000 [ 20%]  (Warmup)\n",
      "Chain 3: Iteration:  600 / 2000 [ 30%]  (Warmup)\n",
      "Chain 3: Iteration:  800 / 2000 [ 40%]  (Warmup)\n",
      "Chain 3: Iteration: 1000 / 2000 [ 50%]  (Warmup)\n",
      "Chain 3: Iteration: 1001 / 2000 [ 50%]  (Sampling)\n",
      "Chain 3: Iteration: 1200 / 2000 [ 60%]  (Sampling)\n",
      "Chain 3: Iteration: 1400 / 2000 [ 70%]  (Sampling)\n",
      "Chain 3: Iteration: 1600 / 2000 [ 80%]  (Sampling)\n",
      "Chain 3: Iteration: 1800 / 2000 [ 90%]  (Sampling)\n",
      "Chain 3: Iteration: 2000 / 2000 [100%]  (Sampling)\n",
      "Chain 3: \n",
      "Chain 3:  Elapsed Time: 0.531 seconds (Warm-up)\n",
      "Chain 3:                0.623 seconds (Sampling)\n",
      "Chain 3:                1.154 seconds (Total)\n",
      "Chain 3: \n",
      "\n",
      "SAMPLING FOR MODEL 'bernoulli' NOW (CHAIN 4).\n",
      "Chain 4: \n",
      "Chain 4: Gradient evaluation took 0 seconds\n",
      "Chain 4: 1000 transitions using 10 leapfrog steps per transition would take 0 seconds.\n",
      "Chain 4: Adjust your expectations accordingly!\n",
      "Chain 4: \n",
      "Chain 4: \n",
      "Chain 4: Iteration:    1 / 2000 [  0%]  (Warmup)\n",
      "Chain 4: Iteration:  200 / 2000 [ 10%]  (Warmup)\n",
      "Chain 4: Iteration:  400 / 2000 [ 20%]  (Warmup)\n",
      "Chain 4: Iteration:  600 / 2000 [ 30%]  (Warmup)\n",
      "Chain 4: Iteration:  800 / 2000 [ 40%]  (Warmup)\n",
      "Chain 4: Iteration: 1000 / 2000 [ 50%]  (Warmup)\n",
      "Chain 4: Iteration: 1001 / 2000 [ 50%]  (Sampling)\n",
      "Chain 4: Iteration: 1200 / 2000 [ 60%]  (Sampling)\n",
      "Chain 4: Iteration: 1400 / 2000 [ 70%]  (Sampling)\n",
      "Chain 4: Iteration: 1600 / 2000 [ 80%]  (Sampling)\n",
      "Chain 4: Iteration: 1800 / 2000 [ 90%]  (Sampling)\n",
      "Chain 4: Iteration: 2000 / 2000 [100%]  (Sampling)\n",
      "Chain 4: \n",
      "Chain 4:  Elapsed Time: 0.525 seconds (Warm-up)\n",
      "Chain 4:                0.631 seconds (Sampling)\n",
      "Chain 4:                1.156 seconds (Total)\n",
      "Chain 4: \n"
     ]
    }
   ],
   "source": [
    "fit.rstanarm <- stan_glm(volunteer ~ female + neuroticism + extraversion, \n",
    "                          data = df, family = binomial(link = \"logit\"),\n",
    "                         prior = normal(0, 3),\n",
    "                         prior_intercept = normal(0, 3),\n",
    "                         chains = 4, \n",
    "                         iter = 2000,\n",
    "                         seed = 123)"
   ]
  },
  {
   "cell_type": "code",
   "execution_count": null,
   "metadata": {},
   "outputs": [],
   "source": []
  }
 ],
 "metadata": {
  "kernelspec": {
   "display_name": "R",
   "language": "R",
   "name": "ir"
  },
  "language_info": {
   "codemirror_mode": "r",
   "file_extension": ".r",
   "mimetype": "text/x-r-source",
   "name": "R",
   "pygments_lexer": "r",
   "version": "3.6.1"
  }
 },
 "nbformat": 4,
 "nbformat_minor": 4
}
