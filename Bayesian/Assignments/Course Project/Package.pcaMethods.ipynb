{
 "cells": [
  {
   "cell_type": "markdown",
   "metadata": {},
   "source": [
    "# Data Loading"
   ]
  },
  {
   "cell_type": "code",
   "execution_count": 1,
   "metadata": {
    "ExecuteTime": {
     "end_time": "2021-07-03T18:59:59.003448Z",
     "start_time": "2021-07-03T18:59:58.885Z"
    }
   },
   "outputs": [
    {
     "data": {
      "text/html": [
       "<table class=\"dataframe\">\n",
       "<caption>A data.frame: 6 × 10</caption>\n",
       "<thead>\n",
       "\t<tr><th></th><th scope=col>Athlete</th><th scope=col>Country</th><th scope=col>Overall.points</th><th scope=col>X100.m.H</th><th scope=col>HJ</th><th scope=col>SP</th><th scope=col>X200.m</th><th scope=col>LJ</th><th scope=col>JT</th><th scope=col>X800.m</th></tr>\n",
       "\t<tr><th></th><th scope=col>&lt;chr&gt;</th><th scope=col>&lt;chr&gt;</th><th scope=col>&lt;int&gt;</th><th scope=col>&lt;int&gt;</th><th scope=col>&lt;int&gt;</th><th scope=col>&lt;int&gt;</th><th scope=col>&lt;int&gt;</th><th scope=col>&lt;int&gt;</th><th scope=col>&lt;int&gt;</th><th scope=col>&lt;int&gt;</th></tr>\n",
       "</thead>\n",
       "<tbody>\n",
       "\t<tr><th scope=row>1</th><td>Nataliya Dobrynska</td><td>Ukraine      </td><td>6733</td><td>1059</td><td> 978</td><td>1015</td><td> 944</td><td>1049</td><td>833</td><td> 855</td></tr>\n",
       "\t<tr><th scope=row>2</th><td>Hyleas Fountain   </td><td>United States</td><td>6619</td><td>1158</td><td>1093</td><td> 751</td><td>1058</td><td> 969</td><td>704</td><td> 886</td></tr>\n",
       "\t<tr><th scope=row>3</th><td>Kelly Sotherton   </td><td>Great Britain</td><td>6517</td><td>1097</td><td>1016</td><td> 785</td><td>1040</td><td> 953</td><td>622</td><td>1004</td></tr>\n",
       "\t<tr><th scope=row>4</th><td>Jessica Zelinka   </td><td>Canada       </td><td>6490</td><td>1129</td><td> 941</td><td> 780</td><td>1016</td><td> 887</td><td>742</td><td> 995</td></tr>\n",
       "\t<tr><th scope=row>5</th><td>Anna Bogdanova    </td><td>Russia       </td><td>6465</td><td>1111</td><td>1054</td><td> 799</td><td> 958</td><td> 991</td><td>579</td><td> 973</td></tr>\n",
       "\t<tr><th scope=row>6</th><td>Karolina Tyminska </td><td>Poland       </td><td>6428</td><td>1033</td><td> 941</td><td> 799</td><td>1040</td><td>1017</td><td>590</td><td>1008</td></tr>\n",
       "</tbody>\n",
       "</table>\n"
      ],
      "text/latex": [
       "A data.frame: 6 × 10\n",
       "\\begin{tabular}{r|llllllllll}\n",
       "  & Athlete & Country & Overall.points & X100.m.H & HJ & SP & X200.m & LJ & JT & X800.m\\\\\n",
       "  & <chr> & <chr> & <int> & <int> & <int> & <int> & <int> & <int> & <int> & <int>\\\\\n",
       "\\hline\n",
       "\t1 & Nataliya Dobrynska & Ukraine       & 6733 & 1059 &  978 & 1015 &  944 & 1049 & 833 &  855\\\\\n",
       "\t2 & Hyleas Fountain    & United States & 6619 & 1158 & 1093 &  751 & 1058 &  969 & 704 &  886\\\\\n",
       "\t3 & Kelly Sotherton    & Great Britain & 6517 & 1097 & 1016 &  785 & 1040 &  953 & 622 & 1004\\\\\n",
       "\t4 & Jessica Zelinka    & Canada        & 6490 & 1129 &  941 &  780 & 1016 &  887 & 742 &  995\\\\\n",
       "\t5 & Anna Bogdanova     & Russia        & 6465 & 1111 & 1054 &  799 &  958 &  991 & 579 &  973\\\\\n",
       "\t6 & Karolina Tyminska  & Poland        & 6428 & 1033 &  941 &  799 & 1040 & 1017 & 590 & 1008\\\\\n",
       "\\end{tabular}\n"
      ],
      "text/markdown": [
       "\n",
       "A data.frame: 6 × 10\n",
       "\n",
       "| <!--/--> | Athlete &lt;chr&gt; | Country &lt;chr&gt; | Overall.points &lt;int&gt; | X100.m.H &lt;int&gt; | HJ &lt;int&gt; | SP &lt;int&gt; | X200.m &lt;int&gt; | LJ &lt;int&gt; | JT &lt;int&gt; | X800.m &lt;int&gt; |\n",
       "|---|---|---|---|---|---|---|---|---|---|---|\n",
       "| 1 | Nataliya Dobrynska | Ukraine       | 6733 | 1059 |  978 | 1015 |  944 | 1049 | 833 |  855 |\n",
       "| 2 | Hyleas Fountain    | United States | 6619 | 1158 | 1093 |  751 | 1058 |  969 | 704 |  886 |\n",
       "| 3 | Kelly Sotherton    | Great Britain | 6517 | 1097 | 1016 |  785 | 1040 |  953 | 622 | 1004 |\n",
       "| 4 | Jessica Zelinka    | Canada        | 6490 | 1129 |  941 |  780 | 1016 |  887 | 742 |  995 |\n",
       "| 5 | Anna Bogdanova     | Russia        | 6465 | 1111 | 1054 |  799 |  958 |  991 | 579 |  973 |\n",
       "| 6 | Karolina Tyminska  | Poland        | 6428 | 1033 |  941 |  799 | 1040 | 1017 | 590 | 1008 |\n",
       "\n"
      ],
      "text/plain": [
       "  Athlete            Country       Overall.points X100.m.H HJ   SP   X200.m\n",
       "1 Nataliya Dobrynska Ukraine       6733           1059      978 1015  944  \n",
       "2 Hyleas Fountain    United States 6619           1158     1093  751 1058  \n",
       "3 Kelly Sotherton    Great Britain 6517           1097     1016  785 1040  \n",
       "4 Jessica Zelinka    Canada        6490           1129      941  780 1016  \n",
       "5 Anna Bogdanova     Russia        6465           1111     1054  799  958  \n",
       "6 Karolina Tyminska  Poland        6428           1033      941  799 1040  \n",
       "  LJ   JT  X800.m\n",
       "1 1049 833  855  \n",
       "2  969 704  886  \n",
       "3  953 622 1004  \n",
       "4  887 742  995  \n",
       "5  991 579  973  \n",
       "6 1017 590 1008  "
      ]
     },
     "metadata": {},
     "output_type": "display_data"
    }
   ],
   "source": [
    "Hepta2008 <- read.csv(\"Data/ProcessedDatasets/2008WomanHeptathlon.csv\")\n",
    "head(Hepta2008)\n",
    "Hepta2008 <- as.matrix(Hepta2008[4:ncol(Hepta2008)])"
   ]
  },
  {
   "cell_type": "markdown",
   "metadata": {},
   "source": [
    "# PcaMethods\n",
    "\n",
    "## Probabilistic PCA implementation"
   ]
  },
  {
   "cell_type": "code",
   "execution_count": 2,
   "metadata": {
    "ExecuteTime": {
     "end_time": "2021-07-03T18:59:59.907517Z",
     "start_time": "2021-07-03T18:59:59.841Z"
    }
   },
   "outputs": [],
   "source": [
    "# if (!requireNamespace(\"BiocManager\", quietly=TRUE))\n",
    "#     install.packages(\"BiocManager\")\n",
    "# BiocManager::install(\"pcaMethods\")"
   ]
  },
  {
   "cell_type": "code",
   "execution_count": null,
   "metadata": {
    "ExecuteTime": {
     "end_time": "2021-07-03T19:00:00.423047Z",
     "start_time": "2021-07-03T19:00:00.015Z"
    }
   },
   "outputs": [],
   "source": [
    "library(\"pcaMethods\")"
   ]
  },
  {
   "cell_type": "code",
   "execution_count": 3,
   "metadata": {
    "ExecuteTime": {
     "end_time": "2021-07-02T14:42:45.597474Z",
     "start_time": "2021-07-02T14:42:45.546Z"
    }
   },
   "outputs": [],
   "source": [
    "pdim3 <- pca(Hepta2008, method=\"ppca\", nPcs=3, seed=123)"
   ]
  },
  {
   "cell_type": "markdown",
   "metadata": {},
   "source": [
    "### Scores"
   ]
  },
  {
   "cell_type": "code",
   "execution_count": 4,
   "metadata": {
    "ExecuteTime": {
     "end_time": "2021-07-01T15:21:28.187273Z",
     "start_time": "2021-07-01T15:21:28.164Z"
    }
   },
   "outputs": [
    {
     "data": {
      "text/html": [
       "<table class=\"dataframe\">\n",
       "<caption>A matrix: 6 × 3 of type dbl</caption>\n",
       "<thead>\n",
       "\t<tr><th scope=col>PC1</th><th scope=col>PC2</th><th scope=col>PC3</th></tr>\n",
       "</thead>\n",
       "<tbody>\n",
       "\t<tr><td>-208.7208</td><td> 117.42744</td><td>-209.28028</td></tr>\n",
       "\t<tr><td>-210.6921</td><td>-128.73086</td><td> -47.78518</td></tr>\n",
       "\t<tr><td>-188.2587</td><td>-166.32425</td><td> -28.48004</td></tr>\n",
       "\t<tr><td>-104.7511</td><td> -72.82841</td><td> -79.56153</td></tr>\n",
       "\t<tr><td>-212.6062</td><td>-164.65304</td><td> -13.66601</td></tr>\n",
       "\t<tr><td>-214.8728</td><td>-115.95187</td><td>  28.68121</td></tr>\n",
       "</tbody>\n",
       "</table>\n"
      ],
      "text/latex": [
       "A matrix: 6 × 3 of type dbl\n",
       "\\begin{tabular}{lll}\n",
       " PC1 & PC2 & PC3\\\\\n",
       "\\hline\n",
       "\t -208.7208 &  117.42744 & -209.28028\\\\\n",
       "\t -210.6921 & -128.73086 &  -47.78518\\\\\n",
       "\t -188.2587 & -166.32425 &  -28.48004\\\\\n",
       "\t -104.7511 &  -72.82841 &  -79.56153\\\\\n",
       "\t -212.6062 & -164.65304 &  -13.66601\\\\\n",
       "\t -214.8728 & -115.95187 &   28.68121\\\\\n",
       "\\end{tabular}\n"
      ],
      "text/markdown": [
       "\n",
       "A matrix: 6 × 3 of type dbl\n",
       "\n",
       "| PC1 | PC2 | PC3 |\n",
       "|---|---|---|\n",
       "| -208.7208 |  117.42744 | -209.28028 |\n",
       "| -210.6921 | -128.73086 |  -47.78518 |\n",
       "| -188.2587 | -166.32425 |  -28.48004 |\n",
       "| -104.7511 |  -72.82841 |  -79.56153 |\n",
       "| -212.6062 | -164.65304 |  -13.66601 |\n",
       "| -214.8728 | -115.95187 |   28.68121 |\n",
       "\n"
      ],
      "text/plain": [
       "     PC1       PC2        PC3       \n",
       "[1,] -208.7208  117.42744 -209.28028\n",
       "[2,] -210.6921 -128.73086  -47.78518\n",
       "[3,] -188.2587 -166.32425  -28.48004\n",
       "[4,] -104.7511  -72.82841  -79.56153\n",
       "[5,] -212.6062 -164.65304  -13.66601\n",
       "[6,] -214.8728 -115.95187   28.68121"
      ]
     },
     "metadata": {},
     "output_type": "display_data"
    }
   ],
   "source": [
    "head(pdim3@scores)"
   ]
  },
  {
   "cell_type": "markdown",
   "metadata": {},
   "source": [
    "### Loadings"
   ]
  },
  {
   "cell_type": "code",
   "execution_count": 4,
   "metadata": {
    "ExecuteTime": {
     "end_time": "2021-07-02T14:42:48.884412Z",
     "start_time": "2021-07-02T14:42:48.863Z"
    }
   },
   "outputs": [
    {
     "data": {
      "text/html": [
       "<table class=\"dataframe\">\n",
       "<caption>A matrix: 7 × 3 of type dbl</caption>\n",
       "<thead>\n",
       "\t<tr><th></th><th scope=col>PC1</th><th scope=col>PC2</th><th scope=col>PC3</th></tr>\n",
       "</thead>\n",
       "<tbody>\n",
       "\t<tr><th scope=row>X100.m.H</th><td>-0.23737177</td><td>-0.16820691</td><td>-0.193102067</td></tr>\n",
       "\t<tr><th scope=row>HJ</th><td>-0.24480817</td><td>-0.49190624</td><td>-0.329688209</td></tr>\n",
       "\t<tr><th scope=row>SP</th><td>-0.07107381</td><td> 0.06320192</td><td>-0.685728913</td></tr>\n",
       "\t<tr><th scope=row>X200.m</th><td>-0.23639631</td><td>-0.31523847</td><td>-0.008417587</td></tr>\n",
       "\t<tr><th scope=row>LJ</th><td>-0.88528583</td><td> 0.36444512</td><td> 0.228046800</td></tr>\n",
       "\t<tr><th scope=row>JT</th><td> 0.05480220</td><td> 0.63385605</td><td>-0.505738726</td></tr>\n",
       "\t<tr><th scope=row>X800.m</th><td>-0.18988054</td><td>-0.30293756</td><td>-0.275581705</td></tr>\n",
       "</tbody>\n",
       "</table>\n"
      ],
      "text/latex": [
       "A matrix: 7 × 3 of type dbl\n",
       "\\begin{tabular}{r|lll}\n",
       "  & PC1 & PC2 & PC3\\\\\n",
       "\\hline\n",
       "\tX100.m.H & -0.23737177 & -0.16820691 & -0.193102067\\\\\n",
       "\tHJ & -0.24480817 & -0.49190624 & -0.329688209\\\\\n",
       "\tSP & -0.07107381 &  0.06320192 & -0.685728913\\\\\n",
       "\tX200.m & -0.23639631 & -0.31523847 & -0.008417587\\\\\n",
       "\tLJ & -0.88528583 &  0.36444512 &  0.228046800\\\\\n",
       "\tJT &  0.05480220 &  0.63385605 & -0.505738726\\\\\n",
       "\tX800.m & -0.18988054 & -0.30293756 & -0.275581705\\\\\n",
       "\\end{tabular}\n"
      ],
      "text/markdown": [
       "\n",
       "A matrix: 7 × 3 of type dbl\n",
       "\n",
       "| <!--/--> | PC1 | PC2 | PC3 |\n",
       "|---|---|---|---|\n",
       "| X100.m.H | -0.23737177 | -0.16820691 | -0.193102067 |\n",
       "| HJ | -0.24480817 | -0.49190624 | -0.329688209 |\n",
       "| SP | -0.07107381 |  0.06320192 | -0.685728913 |\n",
       "| X200.m | -0.23639631 | -0.31523847 | -0.008417587 |\n",
       "| LJ | -0.88528583 |  0.36444512 |  0.228046800 |\n",
       "| JT |  0.05480220 |  0.63385605 | -0.505738726 |\n",
       "| X800.m | -0.18988054 | -0.30293756 | -0.275581705 |\n",
       "\n"
      ],
      "text/plain": [
       "         PC1         PC2         PC3         \n",
       "X100.m.H -0.23737177 -0.16820691 -0.193102067\n",
       "HJ       -0.24480817 -0.49190624 -0.329688209\n",
       "SP       -0.07107381  0.06320192 -0.685728913\n",
       "X200.m   -0.23639631 -0.31523847 -0.008417587\n",
       "LJ       -0.88528583  0.36444512  0.228046800\n",
       "JT        0.05480220  0.63385605 -0.505738726\n",
       "X800.m   -0.18988054 -0.30293756 -0.275581705"
      ]
     },
     "metadata": {},
     "output_type": "display_data"
    }
   ],
   "source": [
    "pdim3@loadings"
   ]
  },
  {
   "cell_type": "code",
   "execution_count": 7,
   "metadata": {
    "ExecuteTime": {
     "end_time": "2021-07-01T15:22:13.064420Z",
     "start_time": "2021-07-01T15:22:12.972Z"
    }
   },
   "outputs": [
    {
     "data": {
      "image/png": "[encoded data removed]",
      "text/plain": [
       "plot without title"
      ]
     },
     "metadata": {
      "image/png": {
       "height": 420,
       "width": 420
      }
     },
     "output_type": "display_data"
    }
   ],
   "source": [
    "# Get the estimated complete observations\n",
    "cObs <- completeObs(pdim3)\n",
    "# Plot the scores\n",
    "plotPcs(pdim3, type = \"scores\")"
   ]
  },
  {
   "cell_type": "code",
   "execution_count": 12,
   "metadata": {
    "ExecuteTime": {
     "end_time": "2021-07-02T14:45:44.762181Z",
     "start_time": "2021-07-02T14:45:44.735Z"
    }
   },
   "outputs": [],
   "source": [
    "# write.csv(pdim3@loadings,\"loadings_pcaM_probabilistic.csv\",row.names=FALSE)\n",
    "# write.csv(pca(Hepta2008, method=\"ppca\", nPcs=5, seed=123)@loadings,\"loadings_pcaM_probabilistic5.csv\",row.names=FALSE)"
   ]
  },
  {
   "cell_type": "markdown",
   "metadata": {},
   "source": [
    "Hinton plot can be found in the ``hinton.plots`` notebook, that's why we save the matrix.\n",
    "\n",
    "## Bayesian PCA implementation"
   ]
  },
  {
   "cell_type": "code",
   "execution_count": 6,
   "metadata": {
    "ExecuteTime": {
     "end_time": "2021-07-02T14:43:06.210549Z",
     "start_time": "2021-07-02T14:43:06.155Z"
    }
   },
   "outputs": [],
   "source": [
    "bdim3 <- pca(Hepta2008, method=\"bpca\", nPcs=3, seed=123)"
   ]
  },
  {
   "cell_type": "markdown",
   "metadata": {},
   "source": [
    "### Scores"
   ]
  },
  {
   "cell_type": "code",
   "execution_count": 9,
   "metadata": {
    "ExecuteTime": {
     "end_time": "2021-07-01T15:22:54.758156Z",
     "start_time": "2021-07-01T15:22:54.735Z"
    }
   },
   "outputs": [
    {
     "data": {
      "text/html": [
       "<table class=\"dataframe\">\n",
       "<caption>A matrix: 6 × 3 of type dbl</caption>\n",
       "<thead>\n",
       "\t<tr><th scope=col>PC1</th><th scope=col>PC2</th><th scope=col>PC3</th></tr>\n",
       "</thead>\n",
       "<tbody>\n",
       "\t<tr><td>-1.0963809</td><td> 0.9316470</td><td> 1.6939358</td></tr>\n",
       "\t<tr><td>-1.1067361</td><td>-1.0213263</td><td> 0.3867775</td></tr>\n",
       "\t<tr><td>-0.9888965</td><td>-1.3195853</td><td> 0.2305208</td></tr>\n",
       "\t<tr><td>-0.5502426</td><td>-0.5778069</td><td> 0.6439790</td></tr>\n",
       "\t<tr><td>-1.1167906</td><td>-1.3063261</td><td> 0.1106143</td></tr>\n",
       "\t<tr><td>-1.1286967</td><td>-0.9199404</td><td>-0.2321470</td></tr>\n",
       "</tbody>\n",
       "</table>\n"
      ],
      "text/latex": [
       "A matrix: 6 × 3 of type dbl\n",
       "\\begin{tabular}{lll}\n",
       " PC1 & PC2 & PC3\\\\\n",
       "\\hline\n",
       "\t -1.0963809 &  0.9316470 &  1.6939358\\\\\n",
       "\t -1.1067361 & -1.0213263 &  0.3867775\\\\\n",
       "\t -0.9888965 & -1.3195853 &  0.2305208\\\\\n",
       "\t -0.5502426 & -0.5778069 &  0.6439790\\\\\n",
       "\t -1.1167906 & -1.3063261 &  0.1106143\\\\\n",
       "\t -1.1286967 & -0.9199404 & -0.2321470\\\\\n",
       "\\end{tabular}\n"
      ],
      "text/markdown": [
       "\n",
       "A matrix: 6 × 3 of type dbl\n",
       "\n",
       "| PC1 | PC2 | PC3 |\n",
       "|---|---|---|\n",
       "| -1.0963809 |  0.9316470 |  1.6939358 |\n",
       "| -1.1067361 | -1.0213263 |  0.3867775 |\n",
       "| -0.9888965 | -1.3195853 |  0.2305208 |\n",
       "| -0.5502426 | -0.5778069 |  0.6439790 |\n",
       "| -1.1167906 | -1.3063261 |  0.1106143 |\n",
       "| -1.1286967 | -0.9199404 | -0.2321470 |\n",
       "\n"
      ],
      "text/plain": [
       "     PC1        PC2        PC3       \n",
       "[1,] -1.0963809  0.9316470  1.6939358\n",
       "[2,] -1.1067361 -1.0213263  0.3867775\n",
       "[3,] -0.9888965 -1.3195853  0.2305208\n",
       "[4,] -0.5502426 -0.5778069  0.6439790\n",
       "[5,] -1.1167906 -1.3063261  0.1106143\n",
       "[6,] -1.1286967 -0.9199404 -0.2321470"
      ]
     },
     "metadata": {},
     "output_type": "display_data"
    }
   ],
   "source": [
    "head(bdim3@scores)"
   ]
  },
  {
   "cell_type": "markdown",
   "metadata": {},
   "source": [
    "### Loadings"
   ]
  },
  {
   "cell_type": "code",
   "execution_count": 10,
   "metadata": {
    "ExecuteTime": {
     "end_time": "2021-07-01T15:22:56.692310Z",
     "start_time": "2021-07-01T15:22:56.668Z"
    }
   },
   "outputs": [
    {
     "data": {
      "text/html": [
       "<table class=\"dataframe\">\n",
       "<caption>A matrix: 7 × 3 of type dbl</caption>\n",
       "<thead>\n",
       "\t<tr><th></th><th scope=col>PC1</th><th scope=col>PC2</th><th scope=col>PC3</th></tr>\n",
       "</thead>\n",
       "<tbody>\n",
       "\t<tr><th scope=row>X100.m.H</th><td> -39.658448</td><td>-12.527982</td><td> 11.5700962</td></tr>\n",
       "\t<tr><th scope=row>HJ</th><td> -40.900871</td><td>-36.636963</td><td> 19.7538400</td></tr>\n",
       "\t<tr><th scope=row>SP</th><td> -11.874524</td><td>  4.707245</td><td> 41.0868309</td></tr>\n",
       "\t<tr><th scope=row>X200.m</th><td> -39.495475</td><td>-23.478833</td><td>  0.5043967</td></tr>\n",
       "\t<tr><th scope=row>LJ</th><td>-147.907490</td><td> 27.143719</td><td>-13.6638640</td></tr>\n",
       "\t<tr><th scope=row>JT</th><td>   9.155976</td><td> 47.209336</td><td> 30.3022703</td></tr>\n",
       "\t<tr><th scope=row>X800.m</th><td> -31.723939</td><td>-22.562661</td><td> 16.5119919</td></tr>\n",
       "</tbody>\n",
       "</table>\n"
      ],
      "text/latex": [
       "A matrix: 7 × 3 of type dbl\n",
       "\\begin{tabular}{r|lll}\n",
       "  & PC1 & PC2 & PC3\\\\\n",
       "\\hline\n",
       "\tX100.m.H &  -39.658448 & -12.527982 &  11.5700962\\\\\n",
       "\tHJ &  -40.900871 & -36.636963 &  19.7538400\\\\\n",
       "\tSP &  -11.874524 &   4.707245 &  41.0868309\\\\\n",
       "\tX200.m &  -39.495475 & -23.478833 &   0.5043967\\\\\n",
       "\tLJ & -147.907490 &  27.143719 & -13.6638640\\\\\n",
       "\tJT &    9.155976 &  47.209336 &  30.3022703\\\\\n",
       "\tX800.m &  -31.723939 & -22.562661 &  16.5119919\\\\\n",
       "\\end{tabular}\n"
      ],
      "text/markdown": [
       "\n",
       "A matrix: 7 × 3 of type dbl\n",
       "\n",
       "| <!--/--> | PC1 | PC2 | PC3 |\n",
       "|---|---|---|---|\n",
       "| X100.m.H |  -39.658448 | -12.527982 |  11.5700962 |\n",
       "| HJ |  -40.900871 | -36.636963 |  19.7538400 |\n",
       "| SP |  -11.874524 |   4.707245 |  41.0868309 |\n",
       "| X200.m |  -39.495475 | -23.478833 |   0.5043967 |\n",
       "| LJ | -147.907490 |  27.143719 | -13.6638640 |\n",
       "| JT |    9.155976 |  47.209336 |  30.3022703 |\n",
       "| X800.m |  -31.723939 | -22.562661 |  16.5119919 |\n",
       "\n"
      ],
      "text/plain": [
       "         PC1         PC2        PC3        \n",
       "X100.m.H  -39.658448 -12.527982  11.5700962\n",
       "HJ        -40.900871 -36.636963  19.7538400\n",
       "SP        -11.874524   4.707245  41.0868309\n",
       "X200.m    -39.495475 -23.478833   0.5043967\n",
       "LJ       -147.907490  27.143719 -13.6638640\n",
       "JT          9.155976  47.209336  30.3022703\n",
       "X800.m    -31.723939 -22.562661  16.5119919"
      ]
     },
     "metadata": {},
     "output_type": "display_data"
    }
   ],
   "source": [
    "bdim3@loadings"
   ]
  },
  {
   "cell_type": "code",
   "execution_count": 8,
   "metadata": {
    "ExecuteTime": {
     "end_time": "2021-07-02T14:43:17.893836Z",
     "start_time": "2021-07-02T14:43:17.857Z"
    }
   },
   "outputs": [],
   "source": [
    "# write.csv(pdim3@loadings,\"loadings_pcaM_bayesian.csv\",row.names=FALSE)\n",
    "# write.csv(pca(Hepta2008, method=\"bpca\", nPcs=5, seed=123)@loadings,\"loadings_pcaM_bayesian5.csv\",row.names=FALSE)"
   ]
  },
  {
   "cell_type": "markdown",
   "metadata": {},
   "source": [
    "## Plot Comparison\n",
    "\n",
    "Probabilistic"
   ]
  },
  {
   "cell_type": "code",
   "execution_count": 15,
   "metadata": {
    "ExecuteTime": {
     "end_time": "2021-07-01T15:30:18.379324Z",
     "start_time": "2021-07-01T15:30:18.298Z"
    }
   },
   "outputs": [
    {
     "data": {
      "image/png": "[encoded data removed]",
      "text/plain": [
       "plot without title"
      ]
     },
     "metadata": {
      "image/png": {
       "height": 420,
       "width": 420
      }
     },
     "output_type": "display_data"
    }
   ],
   "source": [
    "cObs <- completeObs(bdim3)\n",
    "# Plot the scores\n",
    "plotPcs(pdim3, type = \"scores\")"
   ]
  },
  {
   "cell_type": "markdown",
   "metadata": {},
   "source": [
    "Bayesian"
   ]
  },
  {
   "cell_type": "code",
   "execution_count": 16,
   "metadata": {
    "ExecuteTime": {
     "end_time": "2021-07-01T15:30:22.664839Z",
     "start_time": "2021-07-01T15:30:22.567Z"
    }
   },
   "outputs": [
    {
     "data": {
      "image/png": "[encoded data removed]",
      "text/plain": [
       "plot without title"
      ]
     },
     "metadata": {
      "image/png": {
       "height": 420,
       "width": 420
      }
     },
     "output_type": "display_data"
    }
   ],
   "source": [
    "cObs <- completeObs(bdim3)\n",
    "# Plot the scores\n",
    "plotPcs(bdim3, type = \"scores\")"
   ]
  },
  {
   "cell_type": "markdown",
   "metadata": {},
   "source": [
    "We will now test with only 2 components\n",
    "\n",
    "Probabilistic"
   ]
  },
  {
   "cell_type": "code",
   "execution_count": 19,
   "metadata": {
    "ExecuteTime": {
     "end_time": "2021-07-01T15:31:33.461153Z",
     "start_time": "2021-07-01T15:31:33.383Z"
    }
   },
   "outputs": [
    {
     "data": {
      "image/png": "[encoded data removed]",
      "text/plain": [
       "Plot with title \"Loadings\""
      ]
     },
     "metadata": {
      "image/png": {
       "height": 420,
       "width": 420
      }
     },
     "output_type": "display_data"
    }
   ],
   "source": [
    "pc <- pca(t(Hepta2008), method=\"ppca\", nPcs=2)\n",
    "slplot(pc)"
   ]
  },
  {
   "cell_type": "markdown",
   "metadata": {},
   "source": [
    "Bayesian"
   ]
  },
  {
   "cell_type": "code",
   "execution_count": 20,
   "metadata": {
    "ExecuteTime": {
     "end_time": "2021-07-01T15:31:40.450056Z",
     "start_time": "2021-07-01T15:31:40.356Z"
    }
   },
   "outputs": [
    {
     "data": {
      "image/png": "[encoded data removed]",
      "text/plain": [
       "Plot with title \"Loadings\""
      ]
     },
     "metadata": {
      "image/png": {
       "height": 420,
       "width": 420
      }
     },
     "output_type": "display_data"
    }
   ],
   "source": [
    "pc <- pca(t(Hepta2008), method=\"bpca\", nPcs=2)\n",
    "slplot(pc)"
   ]
  },
  {
   "cell_type": "markdown",
   "metadata": {},
   "source": [
    "Conventional PCA"
   ]
  },
  {
   "cell_type": "code",
   "execution_count": 23,
   "metadata": {
    "ExecuteTime": {
     "end_time": "2021-07-01T16:11:12.503222Z",
     "start_time": "2021-07-01T16:11:12.419Z"
    }
   },
   "outputs": [
    {
     "data": {
      "image/png": "[encoded data removed]",
      "text/plain": [
       "Plot with title \"Loadings\""
      ]
     },
     "metadata": {
      "image/png": {
       "height": 420,
       "width": 420
      }
     },
     "output_type": "display_data"
    }
   ],
   "source": [
    "pc <- pca(t(Hepta2008), method=\"svd\", nPcs=2)\n",
    "slplot(pc)"
   ]
  },
  {
   "cell_type": "markdown",
   "metadata": {},
   "source": [
    "### All together"
   ]
  },
  {
   "cell_type": "code",
   "execution_count": 8,
   "metadata": {
    "ExecuteTime": {
     "end_time": "2021-07-03T19:02:53.316205Z",
     "start_time": "2021-07-03T19:02:53.175Z"
    }
   },
   "outputs": [
    {
     "data": {
      "image/png": "[encoded data removed]",
      "text/plain": [
       "Plot with title \"Probabilistic PCA\""
      ]
     },
     "metadata": {
      "image/png": {
       "height": 420,
       "width": 420
      }
     },
     "output_type": "display_data"
    },
    {
     "data": {
      "image/png": "[encoded data removed]",
      "text/plain": [
       "Plot with title \"Bayesian PCA\""
      ]
     },
     "metadata": {
      "image/png": {
       "height": 420,
       "width": 420
      }
     },
     "output_type": "display_data"
    }
   ],
   "source": [
    "pca <- pca(t(Hepta2008), method=\"svd\", nPcs=1)\n",
    "ppca <- pca(t(Hepta2008), method=\"ppca\", nPcs=1)\n",
    "bpca <- pca(t(Hepta2008), method=\"bpca\", nPcs=1)\n",
    "## Visualize\n",
    "opar <- par(no.readonly=TRUE)\n",
    "par(mfrow=c(1,2))\n",
    "plot(pca@scores,  pch=10,  main=\"PCA\")\n",
    "plot(ppca@scores, pch=10,  main=\"Probabilistic PCA\")\n",
    "plot(bpca@scores, pch=10,  main=\"Bayesian PCA\")\n",
    "par(opar)"
   ]
  },
  {
   "cell_type": "code",
   "execution_count": null,
   "metadata": {},
   "outputs": [],
   "source": []
  }
 ],
 "metadata": {
  "kernelspec": {
   "display_name": "R",
   "language": "R",
   "name": "ir"
  },
  "language_info": {
   "codemirror_mode": "r",
   "file_extension": ".r",
   "mimetype": "text/x-r-source",
   "name": "R",
   "pygments_lexer": "r",
   "version": "4.0.3"
  }
 },
 "nbformat": 4,
 "nbformat_minor": 4
}
