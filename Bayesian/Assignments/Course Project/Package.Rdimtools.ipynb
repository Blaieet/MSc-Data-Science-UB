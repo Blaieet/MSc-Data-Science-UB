{
 "cells": [
  {
   "cell_type": "markdown",
   "metadata": {},
   "source": [
    "# Data Loading"
   ]
  },
  {
   "cell_type": "code",
   "execution_count": 1,
   "metadata": {
    "ExecuteTime": {
     "end_time": "2021-07-03T18:53:46.920871Z",
     "start_time": "2021-07-03T18:53:46.438Z"
    }
   },
   "outputs": [
    {
     "data": {
      "text/html": [
       "<table class=\"dataframe\">\n",
       "<caption>A data.frame: 6 × 10</caption>\n",
       "<thead>\n",
       "\t<tr><th></th><th scope=col>Athlete</th><th scope=col>Country</th><th scope=col>Overall.points</th><th scope=col>X100.m.H</th><th scope=col>HJ</th><th scope=col>SP</th><th scope=col>X200.m</th><th scope=col>LJ</th><th scope=col>JT</th><th scope=col>X800.m</th></tr>\n",
       "\t<tr><th></th><th scope=col>&lt;chr&gt;</th><th scope=col>&lt;chr&gt;</th><th scope=col>&lt;int&gt;</th><th scope=col>&lt;int&gt;</th><th scope=col>&lt;int&gt;</th><th scope=col>&lt;int&gt;</th><th scope=col>&lt;int&gt;</th><th scope=col>&lt;int&gt;</th><th scope=col>&lt;int&gt;</th><th scope=col>&lt;int&gt;</th></tr>\n",
       "</thead>\n",
       "<tbody>\n",
       "\t<tr><th scope=row>1</th><td>Nataliya Dobrynska</td><td>Ukraine      </td><td>6733</td><td>1059</td><td> 978</td><td>1015</td><td> 944</td><td>1049</td><td>833</td><td> 855</td></tr>\n",
       "\t<tr><th scope=row>2</th><td>Hyleas Fountain   </td><td>United States</td><td>6619</td><td>1158</td><td>1093</td><td> 751</td><td>1058</td><td> 969</td><td>704</td><td> 886</td></tr>\n",
       "\t<tr><th scope=row>3</th><td>Kelly Sotherton   </td><td>Great Britain</td><td>6517</td><td>1097</td><td>1016</td><td> 785</td><td>1040</td><td> 953</td><td>622</td><td>1004</td></tr>\n",
       "\t<tr><th scope=row>4</th><td>Jessica Zelinka   </td><td>Canada       </td><td>6490</td><td>1129</td><td> 941</td><td> 780</td><td>1016</td><td> 887</td><td>742</td><td> 995</td></tr>\n",
       "\t<tr><th scope=row>5</th><td>Anna Bogdanova    </td><td>Russia       </td><td>6465</td><td>1111</td><td>1054</td><td> 799</td><td> 958</td><td> 991</td><td>579</td><td> 973</td></tr>\n",
       "\t<tr><th scope=row>6</th><td>Karolina Tyminska </td><td>Poland       </td><td>6428</td><td>1033</td><td> 941</td><td> 799</td><td>1040</td><td>1017</td><td>590</td><td>1008</td></tr>\n",
       "</tbody>\n",
       "</table>\n"
      ],
      "text/latex": [
       "A data.frame: 6 × 10\n",
       "\\begin{tabular}{r|llllllllll}\n",
       "  & Athlete & Country & Overall.points & X100.m.H & HJ & SP & X200.m & LJ & JT & X800.m\\\\\n",
       "  & <chr> & <chr> & <int> & <int> & <int> & <int> & <int> & <int> & <int> & <int>\\\\\n",
       "\\hline\n",
       "\t1 & Nataliya Dobrynska & Ukraine       & 6733 & 1059 &  978 & 1015 &  944 & 1049 & 833 &  855\\\\\n",
       "\t2 & Hyleas Fountain    & United States & 6619 & 1158 & 1093 &  751 & 1058 &  969 & 704 &  886\\\\\n",
       "\t3 & Kelly Sotherton    & Great Britain & 6517 & 1097 & 1016 &  785 & 1040 &  953 & 622 & 1004\\\\\n",
       "\t4 & Jessica Zelinka    & Canada        & 6490 & 1129 &  941 &  780 & 1016 &  887 & 742 &  995\\\\\n",
       "\t5 & Anna Bogdanova     & Russia        & 6465 & 1111 & 1054 &  799 &  958 &  991 & 579 &  973\\\\\n",
       "\t6 & Karolina Tyminska  & Poland        & 6428 & 1033 &  941 &  799 & 1040 & 1017 & 590 & 1008\\\\\n",
       "\\end{tabular}\n"
      ],
      "text/markdown": [
       "\n",
       "A data.frame: 6 × 10\n",
       "\n",
       "| <!--/--> | Athlete &lt;chr&gt; | Country &lt;chr&gt; | Overall.points &lt;int&gt; | X100.m.H &lt;int&gt; | HJ &lt;int&gt; | SP &lt;int&gt; | X200.m &lt;int&gt; | LJ &lt;int&gt; | JT &lt;int&gt; | X800.m &lt;int&gt; |\n",
       "|---|---|---|---|---|---|---|---|---|---|---|\n",
       "| 1 | Nataliya Dobrynska | Ukraine       | 6733 | 1059 |  978 | 1015 |  944 | 1049 | 833 |  855 |\n",
       "| 2 | Hyleas Fountain    | United States | 6619 | 1158 | 1093 |  751 | 1058 |  969 | 704 |  886 |\n",
       "| 3 | Kelly Sotherton    | Great Britain | 6517 | 1097 | 1016 |  785 | 1040 |  953 | 622 | 1004 |\n",
       "| 4 | Jessica Zelinka    | Canada        | 6490 | 1129 |  941 |  780 | 1016 |  887 | 742 |  995 |\n",
       "| 5 | Anna Bogdanova     | Russia        | 6465 | 1111 | 1054 |  799 |  958 |  991 | 579 |  973 |\n",
       "| 6 | Karolina Tyminska  | Poland        | 6428 | 1033 |  941 |  799 | 1040 | 1017 | 590 | 1008 |\n",
       "\n"
      ],
      "text/plain": [
       "  Athlete            Country       Overall.points X100.m.H HJ   SP   X200.m\n",
       "1 Nataliya Dobrynska Ukraine       6733           1059      978 1015  944  \n",
       "2 Hyleas Fountain    United States 6619           1158     1093  751 1058  \n",
       "3 Kelly Sotherton    Great Britain 6517           1097     1016  785 1040  \n",
       "4 Jessica Zelinka    Canada        6490           1129      941  780 1016  \n",
       "5 Anna Bogdanova     Russia        6465           1111     1054  799  958  \n",
       "6 Karolina Tyminska  Poland        6428           1033      941  799 1040  \n",
       "  LJ   JT  X800.m\n",
       "1 1049 833  855  \n",
       "2  969 704  886  \n",
       "3  953 622 1004  \n",
       "4  887 742  995  \n",
       "5  991 579  973  \n",
       "6 1017 590 1008  "
      ]
     },
     "metadata": {},
     "output_type": "display_data"
    }
   ],
   "source": [
    "Hepta2008 <- read.csv(\"Data/ProcessedDatasets/2008WomanHeptathlon.csv\")\n",
    "head(Hepta2008)\n",
    "Hepta2008 <- as.matrix(Hepta2008[4:ncol(Hepta2008)])"
   ]
  },
  {
   "cell_type": "markdown",
   "metadata": {},
   "source": [
    "# Rdimtools\n",
    "\n",
    "## Probabilistic PCA implementation"
   ]
  },
  {
   "cell_type": "code",
   "execution_count": 2,
   "metadata": {
    "ExecuteTime": {
     "end_time": "2021-07-03T18:53:46.979871Z",
     "start_time": "2021-07-03T18:53:46.938Z"
    }
   },
   "outputs": [],
   "source": [
    "# install.packages(\"Rdimtools\")"
   ]
  },
  {
   "cell_type": "code",
   "execution_count": null,
   "metadata": {
    "ExecuteTime": {
     "end_time": "2021-07-03T18:53:49.040889Z",
     "start_time": "2021-07-03T18:53:47.153Z"
    }
   },
   "outputs": [],
   "source": [
    "library(\"Rdimtools\")"
   ]
  },
  {
   "cell_type": "code",
   "execution_count": 6,
   "metadata": {
    "ExecuteTime": {
     "end_time": "2021-07-03T18:54:05.427032Z",
     "start_time": "2021-07-03T18:54:05.409Z"
    }
   },
   "outputs": [],
   "source": [
    "pdim3 <- do.ppca(Hepta2008, ndim = 3)"
   ]
  },
  {
   "cell_type": "markdown",
   "metadata": {},
   "source": [
    "### Scores"
   ]
  },
  {
   "cell_type": "code",
   "execution_count": 7,
   "metadata": {
    "ExecuteTime": {
     "end_time": "2021-07-03T18:54:05.707427Z",
     "start_time": "2021-07-03T18:54:05.680Z"
    }
   },
   "outputs": [
    {
     "data": {
      "text/html": [
       "<table class=\"dataframe\">\n",
       "<caption>A matrix: 6 × 3 of type dbl</caption>\n",
       "<tbody>\n",
       "\t<tr><td>-1831.460</td><td>241.3572</td><td>-1648.573</td></tr>\n",
       "\t<tr><td>-1833.431</td><td>487.5155</td><td>-1487.078</td></tr>\n",
       "\t<tr><td>-1810.998</td><td>525.1089</td><td>-1467.773</td></tr>\n",
       "\t<tr><td>-1727.490</td><td>431.6130</td><td>-1518.854</td></tr>\n",
       "\t<tr><td>-1835.345</td><td>523.4377</td><td>-1452.959</td></tr>\n",
       "\t<tr><td>-1837.612</td><td>474.7365</td><td>-1410.611</td></tr>\n",
       "</tbody>\n",
       "</table>\n"
      ],
      "text/latex": [
       "A matrix: 6 × 3 of type dbl\n",
       "\\begin{tabular}{lll}\n",
       "\t -1831.460 & 241.3572 & -1648.573\\\\\n",
       "\t -1833.431 & 487.5155 & -1487.078\\\\\n",
       "\t -1810.998 & 525.1089 & -1467.773\\\\\n",
       "\t -1727.490 & 431.6130 & -1518.854\\\\\n",
       "\t -1835.345 & 523.4377 & -1452.959\\\\\n",
       "\t -1837.612 & 474.7365 & -1410.611\\\\\n",
       "\\end{tabular}\n"
      ],
      "text/markdown": [
       "\n",
       "A matrix: 6 × 3 of type dbl\n",
       "\n",
       "| -1831.460 | 241.3572 | -1648.573 |\n",
       "| -1833.431 | 487.5155 | -1487.078 |\n",
       "| -1810.998 | 525.1089 | -1467.773 |\n",
       "| -1727.490 | 431.6130 | -1518.854 |\n",
       "| -1835.345 | 523.4377 | -1452.959 |\n",
       "| -1837.612 | 474.7365 | -1410.611 |\n",
       "\n"
      ],
      "text/plain": [
       "     [,1]      [,2]     [,3]     \n",
       "[1,] -1831.460 241.3572 -1648.573\n",
       "[2,] -1833.431 487.5155 -1487.078\n",
       "[3,] -1810.998 525.1089 -1467.773\n",
       "[4,] -1727.490 431.6130 -1518.854\n",
       "[5,] -1835.345 523.4377 -1452.959\n",
       "[6,] -1837.612 474.7365 -1410.611"
      ]
     },
     "metadata": {},
     "output_type": "display_data"
    }
   ],
   "source": [
    "head(pdim3$Y)"
   ]
  },
  {
   "cell_type": "markdown",
   "metadata": {},
   "source": [
    "### Loadings"
   ]
  },
  {
   "cell_type": "code",
   "execution_count": 8,
   "metadata": {
    "ExecuteTime": {
     "end_time": "2021-07-03T18:54:05.974714Z",
     "start_time": "2021-07-03T18:54:05.952Z"
    }
   },
   "outputs": [
    {
     "data": {
      "text/html": [
       "<table class=\"dataframe\">\n",
       "<caption>A matrix: 7 × 3 of type dbl</caption>\n",
       "<tbody>\n",
       "\t<tr><td>-0.23737177</td><td> 0.16820693</td><td>-0.193102299</td></tr>\n",
       "\t<tr><td>-0.24480817</td><td> 0.49190615</td><td>-0.329687138</td></tr>\n",
       "\t<tr><td>-0.07107381</td><td>-0.06320183</td><td>-0.685729951</td></tr>\n",
       "\t<tr><td>-0.23639631</td><td> 0.31523853</td><td>-0.008418267</td></tr>\n",
       "\t<tr><td>-0.88528583</td><td>-0.36444512</td><td> 0.228046812</td></tr>\n",
       "\t<tr><td> 0.05480220</td><td>-0.63385611</td><td>-0.505738065</td></tr>\n",
       "\t<tr><td>-0.18988054</td><td> 0.30293754</td><td>-0.275581425</td></tr>\n",
       "</tbody>\n",
       "</table>\n"
      ],
      "text/latex": [
       "A matrix: 7 × 3 of type dbl\n",
       "\\begin{tabular}{lll}\n",
       "\t -0.23737177 &  0.16820693 & -0.193102299\\\\\n",
       "\t -0.24480817 &  0.49190615 & -0.329687138\\\\\n",
       "\t -0.07107381 & -0.06320183 & -0.685729951\\\\\n",
       "\t -0.23639631 &  0.31523853 & -0.008418267\\\\\n",
       "\t -0.88528583 & -0.36444512 &  0.228046812\\\\\n",
       "\t  0.05480220 & -0.63385611 & -0.505738065\\\\\n",
       "\t -0.18988054 &  0.30293754 & -0.275581425\\\\\n",
       "\\end{tabular}\n"
      ],
      "text/markdown": [
       "\n",
       "A matrix: 7 × 3 of type dbl\n",
       "\n",
       "| -0.23737177 |  0.16820693 | -0.193102299 |\n",
       "| -0.24480817 |  0.49190615 | -0.329687138 |\n",
       "| -0.07107381 | -0.06320183 | -0.685729951 |\n",
       "| -0.23639631 |  0.31523853 | -0.008418267 |\n",
       "| -0.88528583 | -0.36444512 |  0.228046812 |\n",
       "|  0.05480220 | -0.63385611 | -0.505738065 |\n",
       "| -0.18988054 |  0.30293754 | -0.275581425 |\n",
       "\n"
      ],
      "text/plain": [
       "     [,1]        [,2]        [,3]        \n",
       "[1,] -0.23737177  0.16820693 -0.193102299\n",
       "[2,] -0.24480817  0.49190615 -0.329687138\n",
       "[3,] -0.07107381 -0.06320183 -0.685729951\n",
       "[4,] -0.23639631  0.31523853 -0.008418267\n",
       "[5,] -0.88528583 -0.36444512  0.228046812\n",
       "[6,]  0.05480220 -0.63385611 -0.505738065\n",
       "[7,] -0.18988054  0.30293754 -0.275581425"
      ]
     },
     "metadata": {},
     "output_type": "display_data"
    }
   ],
   "source": [
    "pdim3$projection"
   ]
  },
  {
   "cell_type": "code",
   "execution_count": 9,
   "metadata": {
    "ExecuteTime": {
     "end_time": "2021-07-03T18:54:06.121354Z",
     "start_time": "2021-07-03T18:54:06.088Z"
    }
   },
   "outputs": [],
   "source": [
    "# write.csv(pdim3$projection,\"loadings_rdim_probabilistic.csv\",row.names=FALSE)\n",
    "# write.csv(do.ppca(Hepta2008, ndim = 5)$projection,\"loadings_rdim_probabilistic5.csv\",row.names=FALSE)"
   ]
  },
  {
   "cell_type": "markdown",
   "metadata": {},
   "source": [
    "Hinton plot can be found in the ``hinton.plots`` notebook\n",
    "\n",
    "## Bayesian PCA implementation"
   ]
  },
  {
   "cell_type": "code",
   "execution_count": 10,
   "metadata": {
    "ExecuteTime": {
     "end_time": "2021-07-03T18:54:06.396066Z",
     "start_time": "2021-07-03T18:54:06.373Z"
    }
   },
   "outputs": [],
   "source": [
    "bdim3 <- do.bpca(Hepta2008, ndim = 3)"
   ]
  },
  {
   "cell_type": "markdown",
   "metadata": {},
   "source": [
    "### Scores"
   ]
  },
  {
   "cell_type": "code",
   "execution_count": 11,
   "metadata": {
    "ExecuteTime": {
     "end_time": "2021-07-03T18:54:06.710882Z",
     "start_time": "2021-07-03T18:54:06.687Z"
    }
   },
   "outputs": [
    {
     "data": {
      "text/html": [
       "<table class=\"dataframe\">\n",
       "<caption>A matrix: 6 × 3 of type dbl</caption>\n",
       "<tbody>\n",
       "\t<tr><td>2541.255</td><td>2541.255</td><td>2541.255</td></tr>\n",
       "\t<tr><td>2531.305</td><td>2531.305</td><td>2531.305</td></tr>\n",
       "\t<tr><td>2490.534</td><td>2490.534</td><td>2490.534</td></tr>\n",
       "\t<tr><td>2472.903</td><td>2472.903</td><td>2472.903</td></tr>\n",
       "\t<tr><td>2472.892</td><td>2472.892</td><td>2472.892</td></tr>\n",
       "\t<tr><td>2452.264</td><td>2452.264</td><td>2452.264</td></tr>\n",
       "</tbody>\n",
       "</table>\n"
      ],
      "text/latex": [
       "A matrix: 6 × 3 of type dbl\n",
       "\\begin{tabular}{lll}\n",
       "\t 2541.255 & 2541.255 & 2541.255\\\\\n",
       "\t 2531.305 & 2531.305 & 2531.305\\\\\n",
       "\t 2490.534 & 2490.534 & 2490.534\\\\\n",
       "\t 2472.903 & 2472.903 & 2472.903\\\\\n",
       "\t 2472.892 & 2472.892 & 2472.892\\\\\n",
       "\t 2452.264 & 2452.264 & 2452.264\\\\\n",
       "\\end{tabular}\n"
      ],
      "text/markdown": [
       "\n",
       "A matrix: 6 × 3 of type dbl\n",
       "\n",
       "| 2541.255 | 2541.255 | 2541.255 |\n",
       "| 2531.305 | 2531.305 | 2531.305 |\n",
       "| 2490.534 | 2490.534 | 2490.534 |\n",
       "| 2472.903 | 2472.903 | 2472.903 |\n",
       "| 2472.892 | 2472.892 | 2472.892 |\n",
       "| 2452.264 | 2452.264 | 2452.264 |\n",
       "\n"
      ],
      "text/plain": [
       "     [,1]     [,2]     [,3]    \n",
       "[1,] 2541.255 2541.255 2541.255\n",
       "[2,] 2531.305 2531.305 2531.305\n",
       "[3,] 2490.534 2490.534 2490.534\n",
       "[4,] 2472.903 2472.903 2472.903\n",
       "[5,] 2472.892 2472.892 2472.892\n",
       "[6,] 2452.264 2452.264 2452.264"
      ]
     },
     "metadata": {},
     "output_type": "display_data"
    }
   ],
   "source": [
    "head(bdim3$Y)"
   ]
  },
  {
   "cell_type": "markdown",
   "metadata": {},
   "source": [
    "### Loadings\n"
   ]
  },
  {
   "cell_type": "code",
   "execution_count": 12,
   "metadata": {
    "ExecuteTime": {
     "end_time": "2021-07-03T18:54:07.014070Z",
     "start_time": "2021-07-03T18:54:06.994Z"
    }
   },
   "outputs": [],
   "source": [
    "bdim5 <- do.bpca(Hepta2008, ndim = 5)"
   ]
  },
  {
   "cell_type": "code",
   "execution_count": 13,
   "metadata": {
    "ExecuteTime": {
     "end_time": "2021-07-03T18:54:07.168828Z",
     "start_time": "2021-07-03T18:54:07.145Z"
    }
   },
   "outputs": [
    {
     "data": {
      "text/html": [
       "<table class=\"dataframe\">\n",
       "<caption>A matrix: 7 × 3 of type dbl</caption>\n",
       "<tbody>\n",
       "\t<tr><td>0.4378705</td><td>0.4378705</td><td>0.4378705</td></tr>\n",
       "\t<tr><td>0.4023572</td><td>0.4023572</td><td>0.4023572</td></tr>\n",
       "\t<tr><td>0.3259671</td><td>0.3259672</td><td>0.3259671</td></tr>\n",
       "\t<tr><td>0.3967391</td><td>0.3967391</td><td>0.3967391</td></tr>\n",
       "\t<tr><td>0.3737783</td><td>0.3737783</td><td>0.3737783</td></tr>\n",
       "\t<tr><td>0.3147512</td><td>0.3147513</td><td>0.3147512</td></tr>\n",
       "\t<tr><td>0.3793982</td><td>0.3793982</td><td>0.3793982</td></tr>\n",
       "</tbody>\n",
       "</table>\n"
      ],
      "text/latex": [
       "A matrix: 7 × 3 of type dbl\n",
       "\\begin{tabular}{lll}\n",
       "\t 0.4378705 & 0.4378705 & 0.4378705\\\\\n",
       "\t 0.4023572 & 0.4023572 & 0.4023572\\\\\n",
       "\t 0.3259671 & 0.3259672 & 0.3259671\\\\\n",
       "\t 0.3967391 & 0.3967391 & 0.3967391\\\\\n",
       "\t 0.3737783 & 0.3737783 & 0.3737783\\\\\n",
       "\t 0.3147512 & 0.3147513 & 0.3147512\\\\\n",
       "\t 0.3793982 & 0.3793982 & 0.3793982\\\\\n",
       "\\end{tabular}\n"
      ],
      "text/markdown": [
       "\n",
       "A matrix: 7 × 3 of type dbl\n",
       "\n",
       "| 0.4378705 | 0.4378705 | 0.4378705 |\n",
       "| 0.4023572 | 0.4023572 | 0.4023572 |\n",
       "| 0.3259671 | 0.3259672 | 0.3259671 |\n",
       "| 0.3967391 | 0.3967391 | 0.3967391 |\n",
       "| 0.3737783 | 0.3737783 | 0.3737783 |\n",
       "| 0.3147512 | 0.3147513 | 0.3147512 |\n",
       "| 0.3793982 | 0.3793982 | 0.3793982 |\n",
       "\n"
      ],
      "text/plain": [
       "     [,1]      [,2]      [,3]     \n",
       "[1,] 0.4378705 0.4378705 0.4378705\n",
       "[2,] 0.4023572 0.4023572 0.4023572\n",
       "[3,] 0.3259671 0.3259672 0.3259671\n",
       "[4,] 0.3967391 0.3967391 0.3967391\n",
       "[5,] 0.3737783 0.3737783 0.3737783\n",
       "[6,] 0.3147512 0.3147513 0.3147512\n",
       "[7,] 0.3793982 0.3793982 0.3793982"
      ]
     },
     "metadata": {},
     "output_type": "display_data"
    }
   ],
   "source": [
    "bdim3$projection"
   ]
  },
  {
   "cell_type": "code",
   "execution_count": 14,
   "metadata": {
    "ExecuteTime": {
     "end_time": "2021-07-03T18:54:07.330929Z",
     "start_time": "2021-07-03T18:54:07.307Z"
    }
   },
   "outputs": [],
   "source": [
    "# write.csv(bdim3$projection,\"loadings_rdim_bayesian.csv\",row.names=FALSE)\n",
    "# write.csv(do.bpca(Hepta2008, ndim = 5)$projection,\"loadings_rdim_bayesian5.csv\",row.names=FALSE)"
   ]
  },
  {
   "cell_type": "markdown",
   "metadata": {},
   "source": [
    "Hinton plot can be found in the ``hinton.plots`` notebook\n",
    "\n",
    "## Comparison\n",
    "\n",
    "PPCA vs. Bayesian PCA"
   ]
  },
  {
   "cell_type": "code",
   "execution_count": 15,
   "metadata": {
    "ExecuteTime": {
     "end_time": "2021-07-03T18:54:07.929969Z",
     "start_time": "2021-07-03T18:54:07.829Z"
    }
   },
   "outputs": [
    {
     "data": {
      "image/png": "[encoded data removed]",
      "text/plain": [
       "Plot with title \"Bayesian implementation\""
      ]
     },
     "metadata": {
      "image/png": {
       "height": 420,
       "width": 420
      }
     },
     "output_type": "display_data"
    }
   ],
   "source": [
    "opar <- par(no.readonly=TRUE)\n",
    "par(mfrow=c(1,2))\n",
    "plot(pdim3$Y,  pch=10,  main=\"Probabilistic implementation\")\n",
    "plot(bdim3$Y, pch=10,  main=\"Bayesian implementation\")\n",
    "par(opar)"
   ]
  },
  {
   "cell_type": "markdown",
   "metadata": {
    "ExecuteTime": {
     "end_time": "2021-07-01T15:37:58.430541Z",
     "start_time": "2021-07-01T15:37:58.414Z"
    }
   },
   "source": [
    "Regular PCA vs. PPCA & Bayesian PCA"
   ]
  },
  {
   "cell_type": "code",
   "execution_count": 16,
   "metadata": {
    "ExecuteTime": {
     "end_time": "2021-07-03T18:54:10.380407Z",
     "start_time": "2021-07-03T18:54:10.251Z"
    }
   },
   "outputs": [
    {
     "data": {
      "image/png": "[encoded data removed]",
      "text/plain": [
       "Plot with title \"Probabilistic PCA\""
      ]
     },
     "metadata": {
      "image/png": {
       "height": 420,
       "width": 420
      }
     },
     "output_type": "display_data"
    },
    {
     "data": {
      "image/png": "[encoded data removed]",
      "text/plain": [
       "Plot with title \"Bayesian PCA\""
      ]
     },
     "metadata": {
      "image/png": {
       "height": 420,
       "width": 420
      }
     },
     "output_type": "display_data"
    }
   ],
   "source": [
    "pca  <- do.pca(Hepta2008, ndim=2)\n",
    "## Visualize\n",
    "opar <- par(no.readonly=TRUE)\n",
    "par(mfrow=c(1,2))\n",
    "plot(pca$Y,  pch=10,  main=\"PCA\")\n",
    "plot(pdim3$Y, pch=10,  main=\"Probabilistic PCA\")\n",
    "plot(bdim3$Y, pch=10,  main=\"Bayesian PCA\")\n",
    "par(opar)"
   ]
  },
  {
   "cell_type": "code",
   "execution_count": 22,
   "metadata": {
    "ExecuteTime": {
     "end_time": "2021-07-03T18:57:11.670886Z",
     "start_time": "2021-07-03T18:57:11.650Z"
    }
   },
   "outputs": [],
   "source": [
    "# write.csv(do.pca(Hepta2008, ndim = 3)$projection,\"loadings_rdim_conventional.csv\",row.names=FALSE)\n",
    "# write.csv(do.pca(Hepta2008, ndim = 5)$projection,\"loadings_rdim_conventional5.csv\",row.names=FALSE)"
   ]
  }
 ],
 "metadata": {
  "kernelspec": {
   "display_name": "R",
   "language": "R",
   "name": "ir"
  },
  "language_info": {
   "codemirror_mode": "r",
   "file_extension": ".r",
   "mimetype": "text/x-r-source",
   "name": "R",
   "pygments_lexer": "r",
   "version": "4.0.3"
  }
 },
 "nbformat": 4,
 "nbformat_minor": 4
}
