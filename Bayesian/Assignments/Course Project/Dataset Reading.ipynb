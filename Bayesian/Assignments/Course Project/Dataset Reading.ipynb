{
 "cells": [
  {
   "cell_type": "markdown",
   "metadata": {},
   "source": [
    "# Decathlon 2\n",
    "\n",
    "27 rows 13 columns"
   ]
  },
  {
   "cell_type": "code",
   "execution_count": 33,
   "metadata": {
    "ExecuteTime": {
     "end_time": "2021-06-22T16:48:16.359754Z",
     "start_time": "2021-06-22T16:48:16.342Z"
    }
   },
   "outputs": [],
   "source": [
    "# install.packages('factoextra')\n",
    "# install.packages('HSAUR')"
   ]
  },
  {
   "cell_type": "code",
   "execution_count": 2,
   "metadata": {
    "ExecuteTime": {
     "end_time": "2021-06-22T19:41:44.726701Z",
     "start_time": "2021-06-22T19:41:44.679Z"
    }
   },
   "outputs": [],
   "source": [
    "library(factoextra)\n",
    "library(HSAUR)"
   ]
  },
  {
   "cell_type": "markdown",
   "metadata": {},
   "source": [
    "# Decathlon ?\n",
    "\n",
    "27 x 13"
   ]
  },
  {
   "cell_type": "code",
   "execution_count": 4,
   "metadata": {
    "ExecuteTime": {
     "end_time": "2021-06-22T19:41:51.077433Z",
     "start_time": "2021-06-22T19:41:51.051Z"
    }
   },
   "outputs": [],
   "source": [
    "data(\"decathlon2\", package = \"factoextra\")"
   ]
  },
  {
   "cell_type": "code",
   "execution_count": 5,
   "metadata": {
    "ExecuteTime": {
     "end_time": "2021-06-22T19:41:57.794230Z",
     "start_time": "2021-06-22T19:41:57.757Z"
    }
   },
   "outputs": [
    {
     "data": {
      "text/html": [
       "<table class=\"dataframe\">\n",
       "<caption>A data.frame: 3 × 13</caption>\n",
       "<thead>\n",
       "\t<tr><th></th><th scope=col>X100m</th><th scope=col>Long.jump</th><th scope=col>Shot.put</th><th scope=col>High.jump</th><th scope=col>X400m</th><th scope=col>X110m.hurdle</th><th scope=col>Discus</th><th scope=col>Pole.vault</th><th scope=col>Javeline</th><th scope=col>X1500m</th><th scope=col>Rank</th><th scope=col>Points</th><th scope=col>Competition</th></tr>\n",
       "\t<tr><th></th><th scope=col>&lt;dbl&gt;</th><th scope=col>&lt;dbl&gt;</th><th scope=col>&lt;dbl&gt;</th><th scope=col>&lt;dbl&gt;</th><th scope=col>&lt;dbl&gt;</th><th scope=col>&lt;dbl&gt;</th><th scope=col>&lt;dbl&gt;</th><th scope=col>&lt;dbl&gt;</th><th scope=col>&lt;dbl&gt;</th><th scope=col>&lt;dbl&gt;</th><th scope=col>&lt;int&gt;</th><th scope=col>&lt;int&gt;</th><th scope=col>&lt;fct&gt;</th></tr>\n",
       "</thead>\n",
       "<tbody>\n",
       "\t<tr><th scope=row>SEBRLE</th><td>11.04</td><td>7.58</td><td>14.83</td><td>2.07</td><td>49.81</td><td>14.69</td><td>43.75</td><td>5.02</td><td>63.19</td><td>291.7</td><td>1</td><td>8217</td><td>Decastar</td></tr>\n",
       "\t<tr><th scope=row>CLAY</th><td>10.76</td><td>7.40</td><td>14.26</td><td>1.86</td><td>49.37</td><td>14.05</td><td>50.72</td><td>4.92</td><td>60.15</td><td>301.5</td><td>2</td><td>8122</td><td>Decastar</td></tr>\n",
       "\t<tr><th scope=row>BERNARD</th><td>11.02</td><td>7.23</td><td>14.25</td><td>1.92</td><td>48.93</td><td>14.99</td><td>40.87</td><td>5.32</td><td>62.77</td><td>280.1</td><td>4</td><td>8067</td><td>Decastar</td></tr>\n",
       "</tbody>\n",
       "</table>\n"
      ],
      "text/latex": [
       "A data.frame: 3 × 13\n",
       "\\begin{tabular}{r|lllllllllllll}\n",
       "  & X100m & Long.jump & Shot.put & High.jump & X400m & X110m.hurdle & Discus & Pole.vault & Javeline & X1500m & Rank & Points & Competition\\\\\n",
       "  & <dbl> & <dbl> & <dbl> & <dbl> & <dbl> & <dbl> & <dbl> & <dbl> & <dbl> & <dbl> & <int> & <int> & <fct>\\\\\n",
       "\\hline\n",
       "\tSEBRLE & 11.04 & 7.58 & 14.83 & 2.07 & 49.81 & 14.69 & 43.75 & 5.02 & 63.19 & 291.7 & 1 & 8217 & Decastar\\\\\n",
       "\tCLAY & 10.76 & 7.40 & 14.26 & 1.86 & 49.37 & 14.05 & 50.72 & 4.92 & 60.15 & 301.5 & 2 & 8122 & Decastar\\\\\n",
       "\tBERNARD & 11.02 & 7.23 & 14.25 & 1.92 & 48.93 & 14.99 & 40.87 & 5.32 & 62.77 & 280.1 & 4 & 8067 & Decastar\\\\\n",
       "\\end{tabular}\n"
      ],
      "text/markdown": [
       "\n",
       "A data.frame: 3 × 13\n",
       "\n",
       "| <!--/--> | X100m &lt;dbl&gt; | Long.jump &lt;dbl&gt; | Shot.put &lt;dbl&gt; | High.jump &lt;dbl&gt; | X400m &lt;dbl&gt; | X110m.hurdle &lt;dbl&gt; | Discus &lt;dbl&gt; | Pole.vault &lt;dbl&gt; | Javeline &lt;dbl&gt; | X1500m &lt;dbl&gt; | Rank &lt;int&gt; | Points &lt;int&gt; | Competition &lt;fct&gt; |\n",
       "|---|---|---|---|---|---|---|---|---|---|---|---|---|---|\n",
       "| SEBRLE | 11.04 | 7.58 | 14.83 | 2.07 | 49.81 | 14.69 | 43.75 | 5.02 | 63.19 | 291.7 | 1 | 8217 | Decastar |\n",
       "| CLAY | 10.76 | 7.40 | 14.26 | 1.86 | 49.37 | 14.05 | 50.72 | 4.92 | 60.15 | 301.5 | 2 | 8122 | Decastar |\n",
       "| BERNARD | 11.02 | 7.23 | 14.25 | 1.92 | 48.93 | 14.99 | 40.87 | 5.32 | 62.77 | 280.1 | 4 | 8067 | Decastar |\n",
       "\n"
      ],
      "text/plain": [
       "        X100m Long.jump Shot.put High.jump X400m X110m.hurdle Discus Pole.vault\n",
       "SEBRLE  11.04 7.58      14.83    2.07      49.81 14.69        43.75  5.02      \n",
       "CLAY    10.76 7.40      14.26    1.86      49.37 14.05        50.72  4.92      \n",
       "BERNARD 11.02 7.23      14.25    1.92      48.93 14.99        40.87  5.32      \n",
       "        Javeline X1500m Rank Points Competition\n",
       "SEBRLE  63.19    291.7  1    8217   Decastar   \n",
       "CLAY    60.15    301.5  2    8122   Decastar   \n",
       "BERNARD 62.77    280.1  4    8067   Decastar   "
      ]
     },
     "metadata": {},
     "output_type": "display_data"
    }
   ],
   "source": [
    "decathlon2[1:3,]"
   ]
  },
  {
   "cell_type": "markdown",
   "metadata": {},
   "source": [
    "# 2008 Woman Heptathlon \n",
    "\n",
    "33 x 10"
   ]
  },
  {
   "cell_type": "code",
   "execution_count": 35,
   "metadata": {
    "ExecuteTime": {
     "end_time": "2021-06-22T16:49:16.235560Z",
     "start_time": "2021-06-22T16:49:16.215Z"
    }
   },
   "outputs": [],
   "source": [
    "Hepta2008 <- read.csv(\"Data/ProcessedDatasets/2008WomanHeptathlon.csv\")"
   ]
  },
  {
   "cell_type": "code",
   "execution_count": 36,
   "metadata": {
    "ExecuteTime": {
     "end_time": "2021-06-22T16:49:18.904742Z",
     "start_time": "2021-06-22T16:49:18.868Z"
    }
   },
   "outputs": [
    {
     "data": {
      "text/html": [
       "<table class=\"dataframe\">\n",
       "<caption>A data.frame: 3 × 10</caption>\n",
       "<thead>\n",
       "\t<tr><th></th><th scope=col>Athlete</th><th scope=col>Country</th><th scope=col>Overall.points</th><th scope=col>X100.m.H</th><th scope=col>HJ</th><th scope=col>SP</th><th scope=col>X200.m</th><th scope=col>LJ</th><th scope=col>JT</th><th scope=col>X800.m</th></tr>\n",
       "\t<tr><th></th><th scope=col>&lt;chr&gt;</th><th scope=col>&lt;chr&gt;</th><th scope=col>&lt;int&gt;</th><th scope=col>&lt;int&gt;</th><th scope=col>&lt;int&gt;</th><th scope=col>&lt;int&gt;</th><th scope=col>&lt;int&gt;</th><th scope=col>&lt;int&gt;</th><th scope=col>&lt;int&gt;</th><th scope=col>&lt;int&gt;</th></tr>\n",
       "</thead>\n",
       "<tbody>\n",
       "\t<tr><th scope=row>1</th><td>Nataliya Dobrynska</td><td>Ukraine      </td><td>6733</td><td>1059</td><td> 978</td><td>1015</td><td> 944</td><td>1049</td><td>833</td><td> 855</td></tr>\n",
       "\t<tr><th scope=row>2</th><td>Hyleas Fountain   </td><td>United States</td><td>6619</td><td>1158</td><td>1093</td><td> 751</td><td>1058</td><td> 969</td><td>704</td><td> 886</td></tr>\n",
       "\t<tr><th scope=row>3</th><td>Kelly Sotherton   </td><td>Great Britain</td><td>6517</td><td>1097</td><td>1016</td><td> 785</td><td>1040</td><td> 953</td><td>622</td><td>1004</td></tr>\n",
       "</tbody>\n",
       "</table>\n"
      ],
      "text/latex": [
       "A data.frame: 3 × 10\n",
       "\\begin{tabular}{r|llllllllll}\n",
       "  & Athlete & Country & Overall.points & X100.m.H & HJ & SP & X200.m & LJ & JT & X800.m\\\\\n",
       "  & <chr> & <chr> & <int> & <int> & <int> & <int> & <int> & <int> & <int> & <int>\\\\\n",
       "\\hline\n",
       "\t1 & Nataliya Dobrynska & Ukraine       & 6733 & 1059 &  978 & 1015 &  944 & 1049 & 833 &  855\\\\\n",
       "\t2 & Hyleas Fountain    & United States & 6619 & 1158 & 1093 &  751 & 1058 &  969 & 704 &  886\\\\\n",
       "\t3 & Kelly Sotherton    & Great Britain & 6517 & 1097 & 1016 &  785 & 1040 &  953 & 622 & 1004\\\\\n",
       "\\end{tabular}\n"
      ],
      "text/markdown": [
       "\n",
       "A data.frame: 3 × 10\n",
       "\n",
       "| <!--/--> | Athlete &lt;chr&gt; | Country &lt;chr&gt; | Overall.points &lt;int&gt; | X100.m.H &lt;int&gt; | HJ &lt;int&gt; | SP &lt;int&gt; | X200.m &lt;int&gt; | LJ &lt;int&gt; | JT &lt;int&gt; | X800.m &lt;int&gt; |\n",
       "|---|---|---|---|---|---|---|---|---|---|---|\n",
       "| 1 | Nataliya Dobrynska | Ukraine       | 6733 | 1059 |  978 | 1015 |  944 | 1049 | 833 |  855 |\n",
       "| 2 | Hyleas Fountain    | United States | 6619 | 1158 | 1093 |  751 | 1058 |  969 | 704 |  886 |\n",
       "| 3 | Kelly Sotherton    | Great Britain | 6517 | 1097 | 1016 |  785 | 1040 |  953 | 622 | 1004 |\n",
       "\n"
      ],
      "text/plain": [
       "  Athlete            Country       Overall.points X100.m.H HJ   SP   X200.m\n",
       "1 Nataliya Dobrynska Ukraine       6733           1059      978 1015  944  \n",
       "2 Hyleas Fountain    United States 6619           1158     1093  751 1058  \n",
       "3 Kelly Sotherton    Great Britain 6517           1097     1016  785 1040  \n",
       "  LJ   JT  X800.m\n",
       "1 1049 833  855  \n",
       "2  969 704  886  \n",
       "3  953 622 1004  "
      ]
     },
     "metadata": {},
     "output_type": "display_data"
    }
   ],
   "source": [
    "Hepta2008[1:3,]"
   ]
  },
  {
   "cell_type": "markdown",
   "metadata": {},
   "source": [
    "# Olympic Heptathlon Seoul 1988\n",
    "\n",
    "25 x 8 "
   ]
  },
  {
   "cell_type": "code",
   "execution_count": 31,
   "metadata": {
    "ExecuteTime": {
     "end_time": "2021-06-22T16:48:05.980776Z",
     "start_time": "2021-06-22T16:48:05.951Z"
    }
   },
   "outputs": [],
   "source": [
    "data(\"heptathlon\", package = \"HSAUR\")"
   ]
  },
  {
   "cell_type": "code",
   "execution_count": 37,
   "metadata": {
    "ExecuteTime": {
     "end_time": "2021-06-22T16:49:36.608453Z",
     "start_time": "2021-06-22T16:49:36.580Z"
    }
   },
   "outputs": [
    {
     "data": {
      "text/html": [
       "<table class=\"dataframe\">\n",
       "<caption>A data.frame: 3 × 8</caption>\n",
       "<thead>\n",
       "\t<tr><th></th><th scope=col>hurdles</th><th scope=col>highjump</th><th scope=col>shot</th><th scope=col>run200m</th><th scope=col>longjump</th><th scope=col>javelin</th><th scope=col>run800m</th><th scope=col>score</th></tr>\n",
       "\t<tr><th></th><th scope=col>&lt;dbl&gt;</th><th scope=col>&lt;dbl&gt;</th><th scope=col>&lt;dbl&gt;</th><th scope=col>&lt;dbl&gt;</th><th scope=col>&lt;dbl&gt;</th><th scope=col>&lt;dbl&gt;</th><th scope=col>&lt;dbl&gt;</th><th scope=col>&lt;int&gt;</th></tr>\n",
       "</thead>\n",
       "<tbody>\n",
       "\t<tr><th scope=row>Joyner-Kersee (USA)</th><td>12.69</td><td>1.86</td><td>15.80</td><td>22.56</td><td>7.27</td><td>45.66</td><td>128.51</td><td>7291</td></tr>\n",
       "\t<tr><th scope=row>John (GDR)</th><td>12.85</td><td>1.80</td><td>16.23</td><td>23.65</td><td>6.71</td><td>42.56</td><td>126.12</td><td>6897</td></tr>\n",
       "\t<tr><th scope=row>Behmer (GDR)</th><td>13.20</td><td>1.83</td><td>14.20</td><td>23.10</td><td>6.68</td><td>44.54</td><td>124.20</td><td>6858</td></tr>\n",
       "</tbody>\n",
       "</table>\n"
      ],
      "text/latex": [
       "A data.frame: 3 × 8\n",
       "\\begin{tabular}{r|llllllll}\n",
       "  & hurdles & highjump & shot & run200m & longjump & javelin & run800m & score\\\\\n",
       "  & <dbl> & <dbl> & <dbl> & <dbl> & <dbl> & <dbl> & <dbl> & <int>\\\\\n",
       "\\hline\n",
       "\tJoyner-Kersee (USA) & 12.69 & 1.86 & 15.80 & 22.56 & 7.27 & 45.66 & 128.51 & 7291\\\\\n",
       "\tJohn (GDR) & 12.85 & 1.80 & 16.23 & 23.65 & 6.71 & 42.56 & 126.12 & 6897\\\\\n",
       "\tBehmer (GDR) & 13.20 & 1.83 & 14.20 & 23.10 & 6.68 & 44.54 & 124.20 & 6858\\\\\n",
       "\\end{tabular}\n"
      ],
      "text/markdown": [
       "\n",
       "A data.frame: 3 × 8\n",
       "\n",
       "| <!--/--> | hurdles &lt;dbl&gt; | highjump &lt;dbl&gt; | shot &lt;dbl&gt; | run200m &lt;dbl&gt; | longjump &lt;dbl&gt; | javelin &lt;dbl&gt; | run800m &lt;dbl&gt; | score &lt;int&gt; |\n",
       "|---|---|---|---|---|---|---|---|---|\n",
       "| Joyner-Kersee (USA) | 12.69 | 1.86 | 15.80 | 22.56 | 7.27 | 45.66 | 128.51 | 7291 |\n",
       "| John (GDR) | 12.85 | 1.80 | 16.23 | 23.65 | 6.71 | 42.56 | 126.12 | 6897 |\n",
       "| Behmer (GDR) | 13.20 | 1.83 | 14.20 | 23.10 | 6.68 | 44.54 | 124.20 | 6858 |\n",
       "\n"
      ],
      "text/plain": [
       "                    hurdles highjump shot  run200m longjump javelin run800m\n",
       "Joyner-Kersee (USA) 12.69   1.86     15.80 22.56   7.27     45.66   128.51 \n",
       "John (GDR)          12.85   1.80     16.23 23.65   6.71     42.56   126.12 \n",
       "Behmer (GDR)        13.20   1.83     14.20 23.10   6.68     44.54   124.20 \n",
       "                    score\n",
       "Joyner-Kersee (USA) 7291 \n",
       "John (GDR)          6897 \n",
       "Behmer (GDR)        6858 "
      ]
     },
     "metadata": {},
     "output_type": "display_data"
    }
   ],
   "source": [
    "heptathlon[1:3,]"
   ]
  },
  {
   "cell_type": "markdown",
   "metadata": {},
   "source": [
    "# Decathlon Austria 1982\n"
   ]
  },
  {
   "cell_type": "code",
   "execution_count": 1,
   "metadata": {
    "ExecuteTime": {
     "end_time": "2021-06-24T16:37:31.109282Z",
     "start_time": "2021-06-24T16:37:31.079Z"
    }
   },
   "outputs": [],
   "source": [
    "decaAustria <- read.csv(\"Data/ProcessedDatasets/Decathlon_Austria82.csv\")[2:10]"
   ]
  },
  {
   "cell_type": "code",
   "execution_count": 2,
   "metadata": {
    "ExecuteTime": {
     "end_time": "2021-06-24T16:37:36.117296Z",
     "start_time": "2021-06-24T16:37:36.070Z"
    }
   },
   "outputs": [
    {
     "data": {
      "text/html": [
       "<style>\n",
       ".list-inline {list-style: none; margin:0; padding: 0}\n",
       ".list-inline>li {display: inline-block}\n",
       ".list-inline>li:not(:last-child)::after {content: \"\\00b7\"; padding: 0 .5ex}\n",
       "</style>\n",
       "<ol class=list-inline><li>20</li><li>9</li></ol>\n"
      ],
      "text/latex": [
       "\\begin{enumerate*}\n",
       "\\item 20\n",
       "\\item 9\n",
       "\\end{enumerate*}\n"
      ],
      "text/markdown": [
       "1. 20\n",
       "2. 9\n",
       "\n",
       "\n"
      ],
      "text/plain": [
       "[1] 20  9"
      ]
     },
     "metadata": {},
     "output_type": "display_data"
    }
   ],
   "source": [
    "dim(decaAustria)"
   ]
  },
  {
   "cell_type": "code",
   "execution_count": 74,
   "metadata": {
    "ExecuteTime": {
     "end_time": "2021-06-22T17:02:41.446847Z",
     "start_time": "2021-06-22T17:02:41.420Z"
    },
    "scrolled": true
   },
   "outputs": [
    {
     "data": {
      "text/html": [
       "<table class=\"dataframe\">\n",
       "<caption>A data.frame: 3 × 9</caption>\n",
       "<thead>\n",
       "\t<tr><th></th><th scope=col>X100m</th><th scope=col>Salt.Longitud</th><th scope=col>Llençament.Pes</th><th scope=col>Salt.Alçada</th><th scope=col>X400m</th><th scope=col>X110.Tanques</th><th scope=col>Llençament.Disc</th><th scope=col>Salt.Perxa</th><th scope=col>Javelina</th></tr>\n",
       "\t<tr><th></th><th scope=col>&lt;int&gt;</th><th scope=col>&lt;int&gt;</th><th scope=col>&lt;int&gt;</th><th scope=col>&lt;int&gt;</th><th scope=col>&lt;int&gt;</th><th scope=col>&lt;int&gt;</th><th scope=col>&lt;int&gt;</th><th scope=col>&lt;int&gt;</th><th scope=col>&lt;int&gt;</th></tr>\n",
       "</thead>\n",
       "<tbody>\n",
       "\t<tr><th scope=row>1</th><td>935</td><td>1010</td><td>807</td><td>925</td><td>955</td><td>926</td><td>769</td><td>1028</td><td>767</td></tr>\n",
       "\t<tr><th scope=row>2</th><td>817</td><td>1004</td><td>844</td><td>950</td><td>905</td><td>901</td><td>781</td><td> 957</td><td>738</td></tr>\n",
       "\t<tr><th scope=row>3</th><td>768</td><td> 893</td><td>759</td><td>900</td><td>825</td><td>859</td><td>868</td><td> 981</td><td>732</td></tr>\n",
       "</tbody>\n",
       "</table>\n"
      ],
      "text/latex": [
       "A data.frame: 3 × 9\n",
       "\\begin{tabular}{r|lllllllll}\n",
       "  & X100m & Salt.Longitud & Llençament.Pes & Salt.Alçada & X400m & X110.Tanques & Llençament.Disc & Salt.Perxa & Javelina\\\\\n",
       "  & <int> & <int> & <int> & <int> & <int> & <int> & <int> & <int> & <int>\\\\\n",
       "\\hline\n",
       "\t1 & 935 & 1010 & 807 & 925 & 955 & 926 & 769 & 1028 & 767\\\\\n",
       "\t2 & 817 & 1004 & 844 & 950 & 905 & 901 & 781 &  957 & 738\\\\\n",
       "\t3 & 768 &  893 & 759 & 900 & 825 & 859 & 868 &  981 & 732\\\\\n",
       "\\end{tabular}\n"
      ],
      "text/markdown": [
       "\n",
       "A data.frame: 3 × 9\n",
       "\n",
       "| <!--/--> | X100m &lt;int&gt; | Salt.Longitud &lt;int&gt; | Llençament.Pes &lt;int&gt; | Salt.Alçada &lt;int&gt; | X400m &lt;int&gt; | X110.Tanques &lt;int&gt; | Llençament.Disc &lt;int&gt; | Salt.Perxa &lt;int&gt; | Javelina &lt;int&gt; |\n",
       "|---|---|---|---|---|---|---|---|---|---|\n",
       "| 1 | 935 | 1010 | 807 | 925 | 955 | 926 | 769 | 1028 | 767 |\n",
       "| 2 | 817 | 1004 | 844 | 950 | 905 | 901 | 781 |  957 | 738 |\n",
       "| 3 | 768 |  893 | 759 | 900 | 825 | 859 | 868 |  981 | 732 |\n",
       "\n"
      ],
      "text/plain": [
       "  X100m Salt.Longitud Llençament.Pes Salt.Alçada X400m X110.Tanques\n",
       "1 935   1010          807            925         955   926         \n",
       "2 817   1004          844            950         905   901         \n",
       "3 768    893          759            900         825   859         \n",
       "  Llençament.Disc Salt.Perxa Javelina\n",
       "1 769             1028       767     \n",
       "2 781              957       738     \n",
       "3 868              981       732     "
      ]
     },
     "metadata": {},
     "output_type": "display_data"
    }
   ],
   "source": [
    "decaAustria[1:3,]"
   ]
  },
  {
   "cell_type": "markdown",
   "metadata": {},
   "source": [
    "# UK deacathlon best performances of all times"
   ]
  },
  {
   "cell_type": "code",
   "execution_count": 3,
   "metadata": {},
   "outputs": [
    {
     "data": {
      "text/html": [
       "<style>\n",
       ".list-inline {list-style: none; margin:0; padding: 0}\n",
       ".list-inline>li {display: inline-block}\n",
       ".list-inline>li:not(:last-child)::after {content: \"\\00b7\"; padding: 0 .5ex}\n",
       "</style>\n",
       "<ol class=list-inline><li>317</li><li>12</li></ol>\n"
      ],
      "text/latex": [
       "\\begin{enumerate*}\n",
       "\\item 317\n",
       "\\item 12\n",
       "\\end{enumerate*}\n"
      ],
      "text/markdown": [
       "1. 317\n",
       "2. 12\n",
       "\n",
       "\n"
      ],
      "text/plain": [
       "[1] 317  12"
      ]
     },
     "metadata": {},
     "output_type": "display_data"
    },
    {
     "data": {
      "text/html": [
       "<table>\n",
       "<caption>A data.frame: 6 × 12</caption>\n",
       "<thead>\n",
       "\t<tr><th></th><th scope=col>100</th><th scope=col>LJ</th><th scope=col>SP7.26K</th><th scope=col>HJ</th><th scope=col>400</th><th scope=col>110H</th><th scope=col>DT2K</th><th scope=col>PV</th><th scope=col>JT800</th><th scope=col>1500</th><th scope=col>Year</th><th scope=col>Athlete</th></tr>\n",
       "\t<tr><th></th><th scope=col>&lt;dbl&gt;</th><th scope=col>&lt;dbl&gt;</th><th scope=col>&lt;dbl&gt;</th><th scope=col>&lt;dbl&gt;</th><th scope=col>&lt;dbl&gt;</th><th scope=col>&lt;dbl&gt;</th><th scope=col>&lt;dbl&gt;</th><th scope=col>&lt;dbl&gt;</th><th scope=col>&lt;dbl&gt;</th><th scope=col>&lt;dbl&gt;</th><th scope=col>&lt;fct&gt;</th><th scope=col>&lt;fct&gt;</th></tr>\n",
       "</thead>\n",
       "<tbody>\n",
       "\t<tr><th scope=row>PB</th><td>11.02</td><td>7.14</td><td>15.19</td><td>2.04</td><td>50.65</td><td>15.15</td><td>53.94</td><td>4.60</td><td>58.14</td><td>278.46</td><td>PB  </td><td>105383</td></tr>\n",
       "\t<tr><th scope=row>2015</th><td>11.19</td><td>7.02</td><td>15.19</td><td>1.99</td><td>50.65</td><td>15.15</td><td>53.94</td><td>4.36</td><td>55.04</td><td>289.21</td><td>2015</td><td>105383</td></tr>\n",
       "\t<tr><th scope=row>2014</th><td>11.03</td><td>7.14</td><td>15.06</td><td>2.04</td><td>51.24</td><td>15.33</td><td>51.47</td><td>4.60</td><td>58.14</td><td>294.06</td><td>2014</td><td>105383</td></tr>\n",
       "\t<tr><th scope=row>2013</th><td>11.14</td><td>6.99</td><td>14.40</td><td>2.04</td><td>51.22</td><td>15.81</td><td>49.65</td><td>4.20</td><td>53.86</td><td>278.46</td><td>2013</td><td>105383</td></tr>\n",
       "\t<tr><th scope=row>2012</th><td>11.02</td><td>7.05</td><td>14.31</td><td>1.95</td><td>50.70</td><td>15.63</td><td>44.60</td><td>4.12</td><td>53.61</td><td>284.49</td><td>2012</td><td>105383</td></tr>\n",
       "\t<tr><th scope=row>2011</th><td>11.70</td><td>7.04</td><td>10.57</td><td>1.95</td><td>52.30</td><td>17.00</td><td>36.90</td><td>2.45</td><td>55.51</td><td>285.00</td><td>2011</td><td>105383</td></tr>\n",
       "</tbody>\n",
       "</table>\n"
      ],
      "text/latex": [
       "A data.frame: 6 × 12\n",
       "\\begin{tabular}{r|llllllllllll}\n",
       "  & 100 & LJ & SP7.26K & HJ & 400 & 110H & DT2K & PV & JT800 & 1500 & Year & Athlete\\\\\n",
       "  & <dbl> & <dbl> & <dbl> & <dbl> & <dbl> & <dbl> & <dbl> & <dbl> & <dbl> & <dbl> & <fct> & <fct>\\\\\n",
       "\\hline\n",
       "\tPB & 11.02 & 7.14 & 15.19 & 2.04 & 50.65 & 15.15 & 53.94 & 4.60 & 58.14 & 278.46 & PB   & 105383\\\\\n",
       "\t2015 & 11.19 & 7.02 & 15.19 & 1.99 & 50.65 & 15.15 & 53.94 & 4.36 & 55.04 & 289.21 & 2015 & 105383\\\\\n",
       "\t2014 & 11.03 & 7.14 & 15.06 & 2.04 & 51.24 & 15.33 & 51.47 & 4.60 & 58.14 & 294.06 & 2014 & 105383\\\\\n",
       "\t2013 & 11.14 & 6.99 & 14.40 & 2.04 & 51.22 & 15.81 & 49.65 & 4.20 & 53.86 & 278.46 & 2013 & 105383\\\\\n",
       "\t2012 & 11.02 & 7.05 & 14.31 & 1.95 & 50.70 & 15.63 & 44.60 & 4.12 & 53.61 & 284.49 & 2012 & 105383\\\\\n",
       "\t2011 & 11.70 & 7.04 & 10.57 & 1.95 & 52.30 & 17.00 & 36.90 & 2.45 & 55.51 & 285.00 & 2011 & 105383\\\\\n",
       "\\end{tabular}\n"
      ],
      "text/markdown": [
       "\n",
       "A data.frame: 6 × 12\n",
       "\n",
       "| <!--/--> | 100 &lt;dbl&gt; | LJ &lt;dbl&gt; | SP7.26K &lt;dbl&gt; | HJ &lt;dbl&gt; | 400 &lt;dbl&gt; | 110H &lt;dbl&gt; | DT2K &lt;dbl&gt; | PV &lt;dbl&gt; | JT800 &lt;dbl&gt; | 1500 &lt;dbl&gt; | Year &lt;fct&gt; | Athlete &lt;fct&gt; |\n",
       "|---|---|---|---|---|---|---|---|---|---|---|---|---|\n",
       "| PB | 11.02 | 7.14 | 15.19 | 2.04 | 50.65 | 15.15 | 53.94 | 4.60 | 58.14 | 278.46 | PB   | 105383 |\n",
       "| 2015 | 11.19 | 7.02 | 15.19 | 1.99 | 50.65 | 15.15 | 53.94 | 4.36 | 55.04 | 289.21 | 2015 | 105383 |\n",
       "| 2014 | 11.03 | 7.14 | 15.06 | 2.04 | 51.24 | 15.33 | 51.47 | 4.60 | 58.14 | 294.06 | 2014 | 105383 |\n",
       "| 2013 | 11.14 | 6.99 | 14.40 | 2.04 | 51.22 | 15.81 | 49.65 | 4.20 | 53.86 | 278.46 | 2013 | 105383 |\n",
       "| 2012 | 11.02 | 7.05 | 14.31 | 1.95 | 50.70 | 15.63 | 44.60 | 4.12 | 53.61 | 284.49 | 2012 | 105383 |\n",
       "| 2011 | 11.70 | 7.04 | 10.57 | 1.95 | 52.30 | 17.00 | 36.90 | 2.45 | 55.51 | 285.00 | 2011 | 105383 |\n",
       "\n"
      ],
      "text/plain": [
       "     100   LJ   SP7.26K HJ   400   110H  DT2K  PV   JT800 1500   Year Athlete\n",
       "PB   11.02 7.14 15.19   2.04 50.65 15.15 53.94 4.60 58.14 278.46 PB   105383 \n",
       "2015 11.19 7.02 15.19   1.99 50.65 15.15 53.94 4.36 55.04 289.21 2015 105383 \n",
       "2014 11.03 7.14 15.06   2.04 51.24 15.33 51.47 4.60 58.14 294.06 2014 105383 \n",
       "2013 11.14 6.99 14.40   2.04 51.22 15.81 49.65 4.20 53.86 278.46 2013 105383 \n",
       "2012 11.02 7.05 14.31   1.95 50.70 15.63 44.60 4.12 53.61 284.49 2012 105383 \n",
       "2011 11.70 7.04 10.57   1.95 52.30 17.00 36.90 2.45 55.51 285.00 2011 105383 "
      ]
     },
     "metadata": {},
     "output_type": "display_data"
    }
   ],
   "source": [
    "decaUK <- readRDS(\"Data/ProcessedDatasets/UK_all_time_decathlon.RDS\")\n",
    "dim(decaUK)\n",
    "head(decaUK)"
   ]
  },
  {
   "cell_type": "markdown",
   "metadata": {},
   "source": [
    "# UK hepathlon best performances of all times"
   ]
  },
  {
   "cell_type": "code",
   "execution_count": 4,
   "metadata": {},
   "outputs": [
    {
     "data": {
      "text/html": [
       "<style>\n",
       ".list-inline {list-style: none; margin:0; padding: 0}\n",
       ".list-inline>li {display: inline-block}\n",
       ".list-inline>li:not(:last-child)::after {content: \"\\00b7\"; padding: 0 .5ex}\n",
       "</style>\n",
       "<ol class=list-inline><li>565</li><li>9</li></ol>\n"
      ],
      "text/latex": [
       "\\begin{enumerate*}\n",
       "\\item 565\n",
       "\\item 9\n",
       "\\end{enumerate*}\n"
      ],
      "text/markdown": [
       "1. 565\n",
       "2. 9\n",
       "\n",
       "\n"
      ],
      "text/plain": [
       "[1] 565   9"
      ]
     },
     "metadata": {},
     "output_type": "display_data"
    },
    {
     "data": {
      "text/html": [
       "<table>\n",
       "<caption>A data.frame: 6 × 9</caption>\n",
       "<thead>\n",
       "\t<tr><th></th><th scope=col>100HW</th><th scope=col>HJ</th><th scope=col>SP4K</th><th scope=col>200</th><th scope=col>LJ</th><th scope=col>JT600</th><th scope=col>800</th><th scope=col>Year</th><th scope=col>Athlete</th></tr>\n",
       "\t<tr><th></th><th scope=col>&lt;dbl&gt;</th><th scope=col>&lt;dbl&gt;</th><th scope=col>&lt;dbl&gt;</th><th scope=col>&lt;dbl&gt;</th><th scope=col>&lt;dbl&gt;</th><th scope=col>&lt;dbl&gt;</th><th scope=col>&lt;dbl&gt;</th><th scope=col>&lt;fct&gt;</th><th scope=col>&lt;fct&gt;</th></tr>\n",
       "</thead>\n",
       "<tbody>\n",
       "\t<tr><th scope=row>PB</th><td>14.80</td><td>1.66</td><td>11.33</td><td>25.33</td><td>6.04</td><td>34.08</td><td>131.64</td><td>PB  </td><td>111969</td></tr>\n",
       "\t<tr><th scope=row>2016</th><td>14.80</td><td>1.62</td><td>11.32</td><td>25.46</td><td>6.04</td><td>30.99</td><td>135.55</td><td>2016</td><td>111969</td></tr>\n",
       "\t<tr><th scope=row>2015</th><td>15.10</td><td>1.61</td><td>11.33</td><td>25.61</td><td>5.53</td><td>30.84</td><td>137.75</td><td>2015</td><td>111969</td></tr>\n",
       "\t<tr><th scope=row>PB1</th><td>14.13</td><td>1.92</td><td>12.27</td><td>26.00</td><td>6.13</td><td>33.44</td><td>129.00</td><td>PB  </td><td>11728 </td></tr>\n",
       "\t<tr><th scope=row>2018</th><td>16.10</td><td>1.60</td><td>11.10</td><td>27.90</td><td>5.53</td><td>28.12</td><td>168.40</td><td>2018</td><td>11728 </td></tr>\n",
       "\t<tr><th scope=row>2017</th><td>15.50</td><td>1.63</td><td>10.41</td><td>27.92</td><td>5.03</td><td>28.03</td><td>162.76</td><td>2017</td><td>11728 </td></tr>\n",
       "</tbody>\n",
       "</table>\n"
      ],
      "text/latex": [
       "A data.frame: 6 × 9\n",
       "\\begin{tabular}{r|lllllllll}\n",
       "  & 100HW & HJ & SP4K & 200 & LJ & JT600 & 800 & Year & Athlete\\\\\n",
       "  & <dbl> & <dbl> & <dbl> & <dbl> & <dbl> & <dbl> & <dbl> & <fct> & <fct>\\\\\n",
       "\\hline\n",
       "\tPB & 14.80 & 1.66 & 11.33 & 25.33 & 6.04 & 34.08 & 131.64 & PB   & 111969\\\\\n",
       "\t2016 & 14.80 & 1.62 & 11.32 & 25.46 & 6.04 & 30.99 & 135.55 & 2016 & 111969\\\\\n",
       "\t2015 & 15.10 & 1.61 & 11.33 & 25.61 & 5.53 & 30.84 & 137.75 & 2015 & 111969\\\\\n",
       "\tPB1 & 14.13 & 1.92 & 12.27 & 26.00 & 6.13 & 33.44 & 129.00 & PB   & 11728 \\\\\n",
       "\t2018 & 16.10 & 1.60 & 11.10 & 27.90 & 5.53 & 28.12 & 168.40 & 2018 & 11728 \\\\\n",
       "\t2017 & 15.50 & 1.63 & 10.41 & 27.92 & 5.03 & 28.03 & 162.76 & 2017 & 11728 \\\\\n",
       "\\end{tabular}\n"
      ],
      "text/markdown": [
       "\n",
       "A data.frame: 6 × 9\n",
       "\n",
       "| <!--/--> | 100HW &lt;dbl&gt; | HJ &lt;dbl&gt; | SP4K &lt;dbl&gt; | 200 &lt;dbl&gt; | LJ &lt;dbl&gt; | JT600 &lt;dbl&gt; | 800 &lt;dbl&gt; | Year &lt;fct&gt; | Athlete &lt;fct&gt; |\n",
       "|---|---|---|---|---|---|---|---|---|---|\n",
       "| PB | 14.80 | 1.66 | 11.33 | 25.33 | 6.04 | 34.08 | 131.64 | PB   | 111969 |\n",
       "| 2016 | 14.80 | 1.62 | 11.32 | 25.46 | 6.04 | 30.99 | 135.55 | 2016 | 111969 |\n",
       "| 2015 | 15.10 | 1.61 | 11.33 | 25.61 | 5.53 | 30.84 | 137.75 | 2015 | 111969 |\n",
       "| PB1 | 14.13 | 1.92 | 12.27 | 26.00 | 6.13 | 33.44 | 129.00 | PB   | 11728  |\n",
       "| 2018 | 16.10 | 1.60 | 11.10 | 27.90 | 5.53 | 28.12 | 168.40 | 2018 | 11728  |\n",
       "| 2017 | 15.50 | 1.63 | 10.41 | 27.92 | 5.03 | 28.03 | 162.76 | 2017 | 11728  |\n",
       "\n"
      ],
      "text/plain": [
       "     100HW HJ   SP4K  200   LJ   JT600 800    Year Athlete\n",
       "PB   14.80 1.66 11.33 25.33 6.04 34.08 131.64 PB   111969 \n",
       "2016 14.80 1.62 11.32 25.46 6.04 30.99 135.55 2016 111969 \n",
       "2015 15.10 1.61 11.33 25.61 5.53 30.84 137.75 2015 111969 \n",
       "PB1  14.13 1.92 12.27 26.00 6.13 33.44 129.00 PB   11728  \n",
       "2018 16.10 1.60 11.10 27.90 5.53 28.12 168.40 2018 11728  \n",
       "2017 15.50 1.63 10.41 27.92 5.03 28.03 162.76 2017 11728  "
      ]
     },
     "metadata": {},
     "output_type": "display_data"
    }
   ],
   "source": [
    "heptaUK <- readRDS(\"Data/ProcessedDatasets/UK_all_time_heptathlon.RDS\")\n",
    "dim(heptaUK)\n",
    "head(heptaUK)"
   ]
  },
  {
   "cell_type": "code",
   "execution_count": null,
   "metadata": {},
   "outputs": [],
   "source": []
  }
 ],
 "metadata": {
  "kernelspec": {
   "display_name": "R",
   "language": "R",
   "name": "ir"
  },
  "language_info": {
   "codemirror_mode": "r",
   "file_extension": ".r",
   "mimetype": "text/x-r-source",
   "name": "R",
   "pygments_lexer": "r",
   "version": "4.0.4"
  }
 },
 "nbformat": 4,
 "nbformat_minor": 4
}
