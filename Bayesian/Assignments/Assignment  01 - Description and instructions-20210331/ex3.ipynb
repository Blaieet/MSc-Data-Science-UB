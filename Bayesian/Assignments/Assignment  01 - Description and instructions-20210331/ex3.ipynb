{
 "cells": [
  {
   "cell_type": "code",
   "execution_count": null,
   "metadata": {},
   "outputs": [],
   "source": [
    "sample_size <- 20000\n",
    "n_throws <- 10\n",
    "m_heads <- 3\n",
    "\n",
    "# Choose a random coin (from the mixture of betas distribution)\n",
    "source_beta <- sample(c(1,2,3), replace = TRUE, size = sample_size, prob=c(0.5, 0.2, 0.3))\n",
    "\n",
    "# Generate thetas values choosing coins from the corresponding beta distribution\n",
    "thetas <- c(rbeta(sample_size,10,20)[source_beta == 1], \n",
    "            rbeta(sample_size,15,15)[source_beta == 2], \n",
    "            rbeta(sample_size,20,10)[source_beta == 3])\n",
    "\n",
    "# Simulated prior\n",
    "hist(thetas, breaks=50)\n",
    "\n",
    "# Number of heads in m trials\n",
    "heads <- rbinom(n = sample_size, size = n_throws, prob = thetas)\n",
    "\n",
    "# Absolute frequencies\n",
    "print(\"Absolute frequency of m heads:\")\n",
    "table(heads)\n",
    "# Relative frequencies. \n",
    "# The relative frequency of 3 heads is the X-marginal for X=m=3.\n",
    "# Obtaining m=3 heads is not the most likely outcome, based on this prior\n",
    "print(\"Relative frequency of m heads:\")\n",
    "f <- table(heads)/sum(table(heads))\n",
    "f\n",
    "matplot(x=names(f),y=f,type=\"h\",lwd=7, lty=1,\n",
    "        xlab=\"x\",ylab=\"Rel. Freqs..\",\n",
    "        main=\"Simulated prior predictive pmf\")\n",
    "\n",
    "# Cases in which we get m heads\n",
    "m.heads.idx <- heads == m_heads\n",
    "\n",
    "# Proportion of cases in which we get m heads\n",
    "print(\"Proportion of cases that we keep to calculate the posterior:\")\n",
    "sum(m.heads.idx)/length(m.heads.idx)\n",
    "\n",
    "# Thetas that have generated m heads\n",
    "thetas.m.heads <- thetas[m.heads.idx]\n",
    "\n",
    "# Based on this simulation, the MAP is around 0.3\n",
    "hist(thetas.m.heads, breaks=50, freq=FALSE, main = \"Histogram of thetas producing m heads\")\n",
    "\n"
   ]
  },
  {
   "cell_type": "code",
   "execution_count": null,
   "metadata": {},
   "outputs": [],
   "source": [
    "# Finding the maximum a posteriori (MAP)\n",
    "thetas.m.heads.density <-density(thetas.m.heads)\n",
    "Sim.MAP <- thetas.m.heads.density$x[which.max(thetas.m.heads.density$y)]\n",
    "hist(thetas.m.heads, breaks=50, freq=FALSE, main=\"Histogram of thetas producing m heads\")\n",
    "abline(v=Sim.MAP,col=\"DarkRed\",lwd=4)\n",
    "text(0.42, 0.5, \"Simulated MAP\", col=\"DarkRed\")\n",
    "print(paste0(\"Simulated MAP: \", round(Sim.MAP,3)))"
   ]
  },
  {
   "cell_type": "code",
   "execution_count": null,
   "metadata": {},
   "outputs": [],
   "source": [
    "# Simulated Expectation\n",
    "print(paste0(\"Simulation based posterior expectation:\",round(mean(thetas.m.heads),3)))\n",
    "\n",
    "# Simulated Variance\n",
    "print(paste0(\"Simulation based posterior variance:\",round(var(thetas.m.heads),3)))\n",
    "\n",
    "\n",
    "# Simulated Quantiles\n",
    "print(\"Simulation based posterior quantiles:\")\n",
    "quantiles <- quantile(thetas.m.heads,c(0,0.25,0.50,0.75,1))\n",
    "round(quantiles,4)"
   ]
  },
  {
   "cell_type": "code",
   "execution_count": null,
   "metadata": {},
   "outputs": [],
   "source": [
    "# 90% credible interval for theta\n",
    "y.max<-max(thetas.m.heads.density$y)\n",
    "gamma <- 0.9\n",
    "Sim.gamma <-function(s){\n",
    "    CI.thetas<-(thetas.m.heads.density$x)[which(thetas.m.heads.density$y>=(y.max-s))]\n",
    "    return(sum((min(CI.thetas)<=thetas.m.heads)&(thetas.m.heads<=max(CI.thetas)))/length(thetas.m.heads)-gamma)\n",
    "    }\n",
    "G.s <- uniroot(Sim.gamma,c(0,y.max))\n",
    "Sim.s<-G.s$root\n",
    "round(Sim.s,4)\n",
    "\n",
    "CI.thetas<-(thetas.m.heads.density$x)[which(thetas.m.heads.density$y>=Sim.s)]\n",
    "Credible.Interval <-c(min(CI.thetas),max(CI.thetas))\n",
    "cat(sprintf(\"Credible interval 03 (%5.2f %%): (%6.4f, %6.4f)\",gamma*100, \n",
    "            round(Credible.Interval[1],4),round(Credible.Interval[2],4)))\n",
    "width <-diff(Credible.Interval)\n",
    "round(width,4)"
   ]
  }
 ],
 "metadata": {
  "kernelspec": {
   "display_name": "R",
   "language": "R",
   "name": "ir"
  },
  "language_info": {
   "codemirror_mode": "r",
   "file_extension": ".r",
   "mimetype": "text/x-r-source",
   "name": "R",
   "pygments_lexer": "r",
   "version": "4.0.4"
  }
 },
 "nbformat": 4,
 "nbformat_minor": 4
}
