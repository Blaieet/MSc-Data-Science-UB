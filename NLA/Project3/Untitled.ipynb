{
 "cells": [
  {
   "cell_type": "code",
   "execution_count": 1,
   "metadata": {},
   "outputs": [],
   "source": [
    "import numpy as np\n",
    "import numpy.linalg as npli\n",
    "import scipy.io as sio\n",
    "import scipy.sparse as sp\n",
    "import scipy.sparse.linalg\n",
    "import time"
   ]
  },
  {
   "cell_type": "code",
   "execution_count": null,
   "metadata": {},
   "outputs": [],
   "source": []
  },
  {
   "cell_type": "code",
   "execution_count": 2,
   "metadata": {},
   "outputs": [],
   "source": [
    "matrix = sio.mmread(\"p2p-Gnutella30.mtx\")"
   ]
  },
  {
   "cell_type": "code",
   "execution_count": 3,
   "metadata": {},
   "outputs": [],
   "source": [
    "matrix = sp.csr_matrix(matrix)"
   ]
  },
  {
   "cell_type": "code",
   "execution_count": 5,
   "metadata": {},
   "outputs": [],
   "source": [
    "D = D(matrix)\n",
    "A = sp.csr_matrix(matrix.dot(D))"
   ]
  },
  {
   "cell_type": "code",
   "execution_count": 8,
   "metadata": {},
   "outputs": [],
   "source": [
    "eig, a = scipy.sparse.linalg.eigs(A, k=2, which='LR')"
   ]
  },
  {
   "cell_type": "code",
   "execution_count": 9,
   "metadata": {},
   "outputs": [
    {
     "data": {
      "text/plain": [
       "0.7370423311656258"
      ]
     },
     "execution_count": 9,
     "metadata": {},
     "output_type": "execute_result"
    }
   ],
   "source": [
    "abs(eig[1])/abs(eig[0])"
   ]
  },
  {
   "cell_type": "code",
   "execution_count": 10,
   "metadata": {},
   "outputs": [
    {
     "data": {
      "text/plain": [
       "(0.4916804933129786-0.03081023377250906j)"
      ]
     },
     "execution_count": 10,
     "metadata": {},
     "output_type": "execute_result"
    }
   ],
   "source": [
    "eig[1]"
   ]
  },
  {
   "cell_type": "code",
   "execution_count": 11,
   "metadata": {},
   "outputs": [
    {
     "data": {
      "text/plain": [
       "(0.6684078503924712+0j)"
      ]
     },
     "execution_count": 11,
     "metadata": {},
     "output_type": "execute_result"
    }
   ],
   "source": [
    "eig[0]"
   ]
  },
  {
   "cell_type": "code",
   "execution_count": 4,
   "metadata": {},
   "outputs": [
    {
     "ename": "TypeError",
     "evalue": "dot() missing 1 required positional argument: 'other'",
     "output_type": "error",
     "traceback": [
      "\u001b[1;31m---------------------------------------------------------------------------\u001b[0m",
      "\u001b[1;31mTypeError\u001b[0m                                 Traceback (most recent call last)",
      "\u001b[1;32m<ipython-input-4-e15e66bf427a>\u001b[0m in \u001b[0;36m<module>\u001b[1;34m\u001b[0m\n\u001b[1;32m----> 1\u001b[1;33m \u001b[0mA\u001b[0m \u001b[1;33m=\u001b[0m \u001b[0mmatrix\u001b[0m\u001b[1;33m.\u001b[0m\u001b[0mdot\u001b[0m\u001b[1;33m(\u001b[0m\u001b[1;33m)\u001b[0m\u001b[1;33m\u001b[0m\u001b[1;33m\u001b[0m\u001b[0m\n\u001b[0m",
      "\u001b[1;31mTypeError\u001b[0m: dot() missing 1 required positional argument: 'other'"
     ]
    }
   ],
   "source": [
    "A = matrix.dot()"
   ]
  },
  {
   "cell_type": "code",
   "execution_count": null,
   "metadata": {},
   "outputs": [],
   "source": [
    "m = 0.15\n",
    "n = matrix.shape[0]\n",
    "e = np.ones((1,n))\n",
    "z = np.full((1,n),m/n)\n",
    "z.shape"
   ]
  },
  {
   "cell_type": "code",
   "execution_count": 5,
   "metadata": {},
   "outputs": [
    {
     "name": "stdout",
     "output_type": "stream",
     "text": [
      "[ 0  1  7  0  0  0  2 19]\n"
     ]
    }
   ],
   "source": [
    "a = np.array([[0, 1, 7, 0],\n",
    "              [0, 0, 2, 19]])\n",
    "print(a.reshape(-1))"
   ]
  },
  {
   "cell_type": "code",
   "execution_count": 6,
   "metadata": {},
   "outputs": [
    {
     "name": "stderr",
     "output_type": "stream",
     "text": [
      "<ipython-input-6-a0039928a334>:1: RuntimeWarning: divide by zero encountered in true_divide\n",
      "  c = 1/a.sum(axis=0).reshape(-1)\n"
     ]
    }
   ],
   "source": [
    "c = 1/a.sum(axis=0).reshape(-1)"
   ]
  },
  {
   "cell_type": "code",
   "execution_count": 7,
   "metadata": {},
   "outputs": [],
   "source": [
    "c[ ~ np.isfinite(c)] = 0"
   ]
  },
  {
   "cell_type": "code",
   "execution_count": 8,
   "metadata": {},
   "outputs": [
    {
     "data": {
      "text/plain": [
       "array([0.        , 1.        , 0.11111111, 0.05263158])"
      ]
     },
     "execution_count": 8,
     "metadata": {},
     "output_type": "execute_result"
    }
   ],
   "source": [
    "c"
   ]
  },
  {
   "cell_type": "code",
   "execution_count": 9,
   "metadata": {},
   "outputs": [
    {
     "data": {
      "text/plain": [
       "<36682x1 sparse matrix of type '<class 'numpy.float64'>'\n",
       "\twith 6 stored elements in Compressed Sparse Row format>"
      ]
     },
     "execution_count": 9,
     "metadata": {},
     "output_type": "execute_result"
    }
   ],
   "source": [
    "matrix[:,1]"
   ]
  },
  {
   "cell_type": "code",
   "execution_count": 10,
   "metadata": {},
   "outputs": [
    {
     "ename": "SyntaxError",
     "evalue": "invalid syntax (<ipython-input-10-709e030f5c9b>, line 1)",
     "output_type": "error",
     "traceback": [
      "\u001b[1;36m  File \u001b[1;32m\"<ipython-input-10-709e030f5c9b>\"\u001b[1;36m, line \u001b[1;32m1\u001b[0m\n\u001b[1;33m    A[,:1]\u001b[0m\n\u001b[1;37m      ^\u001b[0m\n\u001b[1;31mSyntaxError\u001b[0m\u001b[1;31m:\u001b[0m invalid syntax\n"
     ]
    }
   ],
   "source": [
    "A[,:1]"
   ]
  },
  {
   "cell_type": "code",
   "execution_count": 11,
   "metadata": {},
   "outputs": [
    {
     "ename": "NameError",
     "evalue": "name 'A' is not defined",
     "output_type": "error",
     "traceback": [
      "\u001b[1;31m---------------------------------------------------------------------------\u001b[0m",
      "\u001b[1;31mNameError\u001b[0m                                 Traceback (most recent call last)",
      "\u001b[1;32m<ipython-input-11-5ce6d9a80595>\u001b[0m in \u001b[0;36m<module>\u001b[1;34m\u001b[0m\n\u001b[1;32m----> 1\u001b[1;33m \u001b[0mnp\u001b[0m\u001b[1;33m.\u001b[0m\u001b[0mshape\u001b[0m\u001b[1;33m(\u001b[0m\u001b[0mA\u001b[0m\u001b[1;33m)\u001b[0m\u001b[1;33m\u001b[0m\u001b[1;33m\u001b[0m\u001b[0m\n\u001b[0m\u001b[0;32m      2\u001b[0m \u001b[0mnp\u001b[0m\u001b[1;33m.\u001b[0m\u001b[0mshape\u001b[0m\u001b[1;33m(\u001b[0m\u001b[0mmatrix\u001b[0m\u001b[1;33m)\u001b[0m\u001b[1;33m\u001b[0m\u001b[1;33m\u001b[0m\u001b[0m\n",
      "\u001b[1;31mNameError\u001b[0m: name 'A' is not defined"
     ]
    }
   ],
   "source": [
    "np.shape(A)\n",
    "np.shape(matrix)"
   ]
  },
  {
   "cell_type": "code",
   "execution_count": 12,
   "metadata": {},
   "outputs": [
    {
     "ename": "NameError",
     "evalue": "name 'n' is not defined",
     "output_type": "error",
     "traceback": [
      "\u001b[1;31m---------------------------------------------------------------------------\u001b[0m",
      "\u001b[1;31mNameError\u001b[0m                                 Traceback (most recent call last)",
      "\u001b[1;32m<ipython-input-12-0a36c92cc8a5>\u001b[0m in \u001b[0;36m<module>\u001b[1;34m\u001b[0m\n\u001b[1;32m----> 1\u001b[1;33m \u001b[0mzj\u001b[0m \u001b[1;33m=\u001b[0m \u001b[1;33m[\u001b[0m\u001b[0mm\u001b[0m\u001b[1;33m/\u001b[0m\u001b[0mn\u001b[0m \u001b[1;32mif\u001b[0m \u001b[0mA\u001b[0m\u001b[1;33m[\u001b[0m\u001b[1;33m:\u001b[0m\u001b[1;33m,\u001b[0m\u001b[0mi\u001b[0m\u001b[1;33m]\u001b[0m\u001b[1;33m.\u001b[0m\u001b[0mcount_nonzero\u001b[0m\u001b[1;33m(\u001b[0m\u001b[1;33m)\u001b[0m\u001b[1;33m>\u001b[0m\u001b[1;36m0\u001b[0m \u001b[1;32melse\u001b[0m \u001b[1;36m1.\u001b[0m\u001b[1;33m/\u001b[0m\u001b[0mn\u001b[0m \u001b[1;32mfor\u001b[0m \u001b[0mi\u001b[0m \u001b[1;32min\u001b[0m \u001b[0mrange\u001b[0m\u001b[1;33m(\u001b[0m\u001b[0mn\u001b[0m\u001b[1;33m)\u001b[0m\u001b[1;33m]\u001b[0m\u001b[1;33m\u001b[0m\u001b[1;33m\u001b[0m\u001b[0m\n\u001b[0m",
      "\u001b[1;31mNameError\u001b[0m: name 'n' is not defined"
     ]
    }
   ],
   "source": [
    "zj = [m/n if A[:,i].count_nonzero()>0 else 1./n for i in range(n)]"
   ]
  },
  {
   "cell_type": "code",
   "execution_count": 13,
   "metadata": {},
   "outputs": [
    {
     "ename": "NameError",
     "evalue": "name 'zj' is not defined",
     "output_type": "error",
     "traceback": [
      "\u001b[1;31m---------------------------------------------------------------------------\u001b[0m",
      "\u001b[1;31mNameError\u001b[0m                                 Traceback (most recent call last)",
      "\u001b[1;32m<ipython-input-13-11efd8c0f5ca>\u001b[0m in \u001b[0;36m<module>\u001b[1;34m\u001b[0m\n\u001b[1;32m----> 1\u001b[1;33m \u001b[0mzj\u001b[0m\u001b[1;33m\u001b[0m\u001b[1;33m\u001b[0m\u001b[0m\n\u001b[0m",
      "\u001b[1;31mNameError\u001b[0m: name 'zj' is not defined"
     ]
    }
   ],
   "source": [
    "zj"
   ]
  },
  {
   "cell_type": "code",
   "execution_count": 14,
   "metadata": {},
   "outputs": [
    {
     "ename": "NameError",
     "evalue": "name 'D' is not defined",
     "output_type": "error",
     "traceback": [
      "\u001b[1;31m---------------------------------------------------------------------------\u001b[0m",
      "\u001b[1;31mNameError\u001b[0m                                 Traceback (most recent call last)",
      "\u001b[1;32m<ipython-input-14-5cd2aed39a84>\u001b[0m in \u001b[0;36m<module>\u001b[1;34m\u001b[0m\n\u001b[1;32m----> 1\u001b[1;33m \u001b[0mA\u001b[0m \u001b[1;33m=\u001b[0m \u001b[0msp\u001b[0m\u001b[1;33m.\u001b[0m\u001b[0mcsr_matrix\u001b[0m\u001b[1;33m(\u001b[0m\u001b[0mmatrix\u001b[0m\u001b[1;33m.\u001b[0m\u001b[0mdot\u001b[0m\u001b[1;33m(\u001b[0m\u001b[0mD\u001b[0m\u001b[1;33m)\u001b[0m\u001b[1;33m)\u001b[0m\u001b[1;33m\u001b[0m\u001b[1;33m\u001b[0m\u001b[0m\n\u001b[0m",
      "\u001b[1;31mNameError\u001b[0m: name 'D' is not defined"
     ]
    }
   ],
   "source": [
    "A = sp.csr_matrix(matrix.dot(D))"
   ]
  },
  {
   "cell_type": "code",
   "execution_count": 4,
   "metadata": {},
   "outputs": [],
   "source": [
    "def D(G):\n",
    "    with np.errstate(divide='ignore', invalid='ignore'):\n",
    "        d = np.divide(1.,np.asarray(G.sum(axis=0)).reshape(-1))\n",
    "    #Remove NaN's and Inf's\n",
    "    d[d == np.isfinite(d)] = 0\n",
    "    #Construct a sparse matrix from diagonals.\n",
    "    return sp.diags(d)"
   ]
  },
  {
   "cell_type": "code",
   "execution_count": 16,
   "metadata": {},
   "outputs": [
    {
     "data": {
      "text/plain": [
       "0.0001"
      ]
     },
     "execution_count": 16,
     "metadata": {},
     "output_type": "execute_result"
    }
   ],
   "source": [
    "1e-4"
   ]
  },
  {
   "cell_type": "code",
   "execution_count": 17,
   "metadata": {},
   "outputs": [
    {
     "data": {
      "text/plain": [
       "0.001"
      ]
     },
     "execution_count": 17,
     "metadata": {},
     "output_type": "execute_result"
    }
   ],
   "source": [
    "10e-4"
   ]
  },
  {
   "cell_type": "code",
   "execution_count": 18,
   "metadata": {},
   "outputs": [
    {
     "ename": "NameError",
     "evalue": "name 'n' is not defined",
     "output_type": "error",
     "traceback": [
      "\u001b[1;31m---------------------------------------------------------------------------\u001b[0m",
      "\u001b[1;31mNameError\u001b[0m                                 Traceback (most recent call last)",
      "\u001b[1;32m<ipython-input-18-a3e91e0dcb1d>\u001b[0m in \u001b[0;36m<module>\u001b[1;34m\u001b[0m\n\u001b[1;32m----> 1\u001b[1;33m \u001b[0mxk_1\u001b[0m\u001b[1;33m=\u001b[0m  \u001b[0mnp\u001b[0m\u001b[1;33m.\u001b[0m\u001b[0mones\u001b[0m\u001b[1;33m(\u001b[0m\u001b[1;33m(\u001b[0m\u001b[0mn\u001b[0m\u001b[1;33m,\u001b[0m\u001b[1;36m1\u001b[0m\u001b[1;33m)\u001b[0m\u001b[1;33m)\u001b[0m\u001b[1;33m/\u001b[0m\u001b[0mn\u001b[0m\u001b[1;33m\u001b[0m\u001b[1;33m\u001b[0m\u001b[0m\n\u001b[0m\u001b[0;32m      2\u001b[0m \u001b[0mxk_1\u001b[0m\u001b[1;33m\u001b[0m\u001b[1;33m\u001b[0m\u001b[0m\n",
      "\u001b[1;31mNameError\u001b[0m: name 'n' is not defined"
     ]
    }
   ],
   "source": [
    "xk_1=  np.ones((n,1))/n\n",
    "xk_1"
   ]
  },
  {
   "cell_type": "code",
   "execution_count": 19,
   "metadata": {},
   "outputs": [],
   "source": [
    "def PM_PR(A,m,tol):\n",
    "    n = A.shape[0]\n",
    "    tic = time.time()\n",
    "    e = np.ones((n,1))\n",
    "    zj = np.asarray([m/n if A[:,i].count_nonzero()>0 else 1./n for i in range(n)])\n",
    "    \n",
    "    xk = np.ones((n,1))\n",
    "    xk1=  np.ones((n,1))/n\n",
    "    \n",
    "    while np.linalg.norm(xk1-xk) > tol:\n",
    "        xk = xk1\n",
    "        zxk = zj.dot(xk)\n",
    "        xk1 = (1-m)*A.dot(xk)+e*zxk\n",
    "    print(\"Execution time of the power method for PR:\",time.time()-tic,\"seconds\")\n",
    "    #Normalitzation\n",
    "    xk1 = xk1/np.sum(xk1)\n",
    "    return xk1\n",
    "        \n",
    "        \n",
    "    "
   ]
  },
  {
   "cell_type": "code",
   "execution_count": 20,
   "metadata": {},
   "outputs": [],
   "source": [
    "def diagonal(matrix):\n",
    "    with np.errstate(divide='ignore', invalid='ignore'):\n",
    "        d = np.divide(1.,np.asarray(matrix.sum(axis=0)).reshape(-1))\n",
    "    #Remove NaN's and Inf's\n",
    "    np.ma.masked_array(d, ~np.isfinite(d)).filled(0)\n",
    "    #Construct a sparse matrix from diagonals.\n",
    "    return sp.diags(d)"
   ]
  },
  {
   "cell_type": "code",
   "execution_count": 21,
   "metadata": {},
   "outputs": [
    {
     "name": "stdout",
     "output_type": "stream",
     "text": [
      "Execution time of the power method for PR: 20.65072250366211 seconds\n",
      "[[1.36630683e-04]\n",
      " [4.42875728e-06]\n",
      " [6.53321166e-05]\n",
      " ...\n",
      " [4.42875728e-06]\n",
      " [4.42875728e-06]\n",
      " [4.42875728e-06]]\n"
     ]
    }
   ],
   "source": [
    "matrix = sio.mmread(\"p2p-Gnutella30.mtx\")\n",
    "matrix = sp.csr_matrix(matrix)\n",
    "D = diagonal(matrix)\n",
    "A = sp.csr_matrix(matrix.dot(D))\n",
    "xk1 = PM_PR(A,0.15,10e-4)\n",
    "print(xk1)"
   ]
  },
  {
   "cell_type": "code",
   "execution_count": 22,
   "metadata": {},
   "outputs": [
    {
     "data": {
      "text/plain": [
       "array([[1.36630683e-04],\n",
       "       [4.42875728e-06],\n",
       "       [6.53321166e-05],\n",
       "       ...,\n",
       "       [4.42875728e-06],\n",
       "       [4.42875728e-06],\n",
       "       [4.42875728e-06]])"
      ]
     },
     "execution_count": 22,
     "metadata": {},
     "output_type": "execute_result"
    }
   ],
   "source": [
    "xk1"
   ]
  },
  {
   "cell_type": "code",
   "execution_count": 23,
   "metadata": {},
   "outputs": [
    {
     "data": {
      "text/plain": [
       "0.0001"
      ]
     },
     "execution_count": 23,
     "metadata": {},
     "output_type": "execute_result"
    }
   ],
   "source": [
    "10e-5"
   ]
  },
  {
   "cell_type": "code",
   "execution_count": 24,
   "metadata": {},
   "outputs": [
    {
     "data": {
      "text/plain": [
       "1e-05"
      ]
     },
     "execution_count": 24,
     "metadata": {},
     "output_type": "execute_result"
    }
   ],
   "source": [
    "float(1e-5)"
   ]
  },
  {
   "cell_type": "code",
   "execution_count": 25,
   "metadata": {},
   "outputs": [
    {
     "data": {
      "text/plain": [
       "False"
      ]
     },
     "execution_count": 25,
     "metadata": {},
     "output_type": "execute_result"
    }
   ],
   "source": [
    "1e-5 == 10e-4"
   ]
  },
  {
   "cell_type": "code",
   "execution_count": 26,
   "metadata": {},
   "outputs": [
    {
     "ename": "NameError",
     "evalue": "name 'spsp' is not defined",
     "output_type": "error",
     "traceback": [
      "\u001b[1;31m---------------------------------------------------------------------------\u001b[0m",
      "\u001b[1;31mNameError\u001b[0m                                 Traceback (most recent call last)",
      "\u001b[1;32m<ipython-input-26-bf9046d718ce>\u001b[0m in \u001b[0;36m<module>\u001b[1;34m\u001b[0m\n\u001b[1;32m----> 1\u001b[1;33m \u001b[0mA1\u001b[0m \u001b[1;33m=\u001b[0m \u001b[0mspsp\u001b[0m\u001b[1;33m.\u001b[0m\u001b[0mcsr_matrix\u001b[0m\u001b[1;33m(\u001b[0m\u001b[0mnp\u001b[0m\u001b[1;33m.\u001b[0m\u001b[0masarray\u001b[0m\u001b[1;33m(\u001b[0m\u001b[1;33m[\u001b[0m \u001b[1;33m[\u001b[0m\u001b[1;36m0\u001b[0m\u001b[1;33m,\u001b[0m \u001b[1;36m0\u001b[0m\u001b[1;33m,\u001b[0m \u001b[1;36m0\u001b[0m\u001b[1;33m,\u001b[0m \u001b[1;36m1.\u001b[0m\u001b[1;33m/\u001b[0m\u001b[1;36m2\u001b[0m\u001b[1;33m]\u001b[0m\u001b[1;33m,\u001b[0m \u001b[1;33m[\u001b[0m\u001b[1;36m1.\u001b[0m\u001b[1;33m/\u001b[0m\u001b[1;36m3\u001b[0m\u001b[1;33m,\u001b[0m \u001b[1;36m0\u001b[0m\u001b[1;33m,\u001b[0m \u001b[1;36m0\u001b[0m\u001b[1;33m,\u001b[0m \u001b[1;36m0\u001b[0m\u001b[1;33m]\u001b[0m\u001b[1;33m,\u001b[0m \u001b[1;33m[\u001b[0m\u001b[1;36m1.\u001b[0m\u001b[1;33m/\u001b[0m\u001b[1;36m3\u001b[0m\u001b[1;33m,\u001b[0m \u001b[1;36m1.\u001b[0m\u001b[1;33m/\u001b[0m\u001b[1;36m2\u001b[0m\u001b[1;33m,\u001b[0m \u001b[1;36m0\u001b[0m\u001b[1;33m,\u001b[0m \u001b[1;36m1.\u001b[0m\u001b[1;33m/\u001b[0m\u001b[1;36m2\u001b[0m\u001b[1;33m]\u001b[0m\u001b[1;33m,\u001b[0m \u001b[1;33m[\u001b[0m\u001b[1;36m1.\u001b[0m\u001b[1;33m/\u001b[0m\u001b[1;36m3\u001b[0m\u001b[1;33m,\u001b[0m \u001b[1;36m1.\u001b[0m\u001b[1;33m/\u001b[0m\u001b[1;36m2\u001b[0m\u001b[1;33m,\u001b[0m \u001b[1;36m0\u001b[0m\u001b[1;33m,\u001b[0m \u001b[1;36m0\u001b[0m\u001b[1;33m]\u001b[0m \u001b[1;33m]\u001b[0m\u001b[1;33m)\u001b[0m\u001b[1;33m)\u001b[0m\u001b[1;33m\u001b[0m\u001b[1;33m\u001b[0m\u001b[0m\n\u001b[0m",
      "\u001b[1;31mNameError\u001b[0m: name 'spsp' is not defined"
     ]
    }
   ],
   "source": [
    "A1 = spsp.csr_matrix(np.asarray([ [0, 0, 0, 1./2], [1./3, 0, 0, 0], [1./3, 1./2, 0, 1./2], [1./3, 1./2, 0, 0] ]))"
   ]
  },
  {
   "cell_type": "code",
   "execution_count": 30,
   "metadata": {},
   "outputs": [
    {
     "ename": "NameError",
     "evalue": "name 'A1' is not defined",
     "output_type": "error",
     "traceback": [
      "\u001b[1;31m---------------------------------------------------------------------------\u001b[0m",
      "\u001b[1;31mNameError\u001b[0m                                 Traceback (most recent call last)",
      "\u001b[1;32m<ipython-input-30-4a5b95edbea7>\u001b[0m in \u001b[0;36m<module>\u001b[1;34m\u001b[0m\n\u001b[1;32m----> 1\u001b[1;33m \u001b[0mA1\u001b[0m\u001b[1;33m\u001b[0m\u001b[1;33m\u001b[0m\u001b[0m\n\u001b[0m",
      "\u001b[1;31mNameError\u001b[0m: name 'A1' is not defined"
     ]
    }
   ],
   "source": [
    "A1"
   ]
  },
  {
   "cell_type": "code",
   "execution_count": 42,
   "metadata": {},
   "outputs": [
    {
     "data": {
      "text/plain": [
       "array([[0.        , 0.        , 1.        , 0.5       ],\n",
       "       [0.33333333, 0.        , 0.        , 0.        ],\n",
       "       [0.33333333, 0.5       , 0.        , 0.5       ],\n",
       "       [0.33333333, 0.5       , 0.        , 0.        ]])"
      ]
     },
     "execution_count": 42,
     "metadata": {},
     "output_type": "execute_result"
    }
   ],
   "source": [
    "A1 = np.asarray([ [0, 0, 1, 1./2], [1./3, 0, 0, 0], [1./3, 1./2, 0, 1./2], [1./3, 1./2, 0, 0] ])\n",
    "A1"
   ]
  },
  {
   "cell_type": "code",
   "execution_count": 43,
   "metadata": {},
   "outputs": [
    {
     "ename": "AttributeError",
     "evalue": "'numpy.ndarray' object has no attribute 'todense'",
     "output_type": "error",
     "traceback": [
      "\u001b[1;31m---------------------------------------------------------------------------\u001b[0m",
      "\u001b[1;31mAttributeError\u001b[0m                            Traceback (most recent call last)",
      "\u001b[1;32m<ipython-input-43-f512f9a7c25d>\u001b[0m in \u001b[0;36m<module>\u001b[1;34m\u001b[0m\n\u001b[1;32m----> 1\u001b[1;33m \u001b[0mprint\u001b[0m\u001b[1;33m(\u001b[0m\u001b[0mA1\u001b[0m\u001b[1;33m.\u001b[0m\u001b[0mtodense\u001b[0m\u001b[1;33m(\u001b[0m\u001b[1;33m)\u001b[0m\u001b[1;33m)\u001b[0m\u001b[1;33m\u001b[0m\u001b[1;33m\u001b[0m\u001b[0m\n\u001b[0m\u001b[0;32m      2\u001b[0m \u001b[0mprint\u001b[0m\u001b[1;33m(\u001b[0m\u001b[0mA1\u001b[0m\u001b[1;33m.\u001b[0m\u001b[0mshape\u001b[0m\u001b[1;33m)\u001b[0m\u001b[1;33m\u001b[0m\u001b[1;33m\u001b[0m\u001b[0m\n",
      "\u001b[1;31mAttributeError\u001b[0m: 'numpy.ndarray' object has no attribute 'todense'"
     ]
    }
   ],
   "source": [
    "print(A1.todense())\n",
    "print(A1.shape)"
   ]
  },
  {
   "cell_type": "code",
   "execution_count": 45,
   "metadata": {},
   "outputs": [
    {
     "ename": "AttributeError",
     "evalue": "'numpy.ndarray' object has no attribute 'todense'",
     "output_type": "error",
     "traceback": [
      "\u001b[1;31m---------------------------------------------------------------------------\u001b[0m",
      "\u001b[1;31mAttributeError\u001b[0m                            Traceback (most recent call last)",
      "\u001b[1;32m<ipython-input-45-29256128c6e9>\u001b[0m in \u001b[0;36m<module>\u001b[1;34m\u001b[0m\n\u001b[1;32m----> 1\u001b[1;33m \u001b[0mA1\u001b[0m\u001b[1;33m[\u001b[0m\u001b[1;36m0\u001b[0m\u001b[1;33m]\u001b[0m\u001b[1;33m.\u001b[0m\u001b[0mtodense\u001b[0m\u001b[1;33m(\u001b[0m\u001b[1;33m)\u001b[0m\u001b[1;33m\u001b[0m\u001b[1;33m\u001b[0m\u001b[0m\n\u001b[0m",
      "\u001b[1;31mAttributeError\u001b[0m: 'numpy.ndarray' object has no attribute 'todense'"
     ]
    }
   ],
   "source": [
    "A1[0].todense()"
   ]
  },
  {
   "cell_type": "code",
   "execution_count": 46,
   "metadata": {},
   "outputs": [],
   "source": [
    "rows = A1.nonzero()[0]\n",
    "columns = A1.nonzero()[1]"
   ]
  },
  {
   "cell_type": "code",
   "execution_count": 47,
   "metadata": {},
   "outputs": [
    {
     "data": {
      "text/plain": [
       "array([0, 0, 1, 2, 2, 2, 3, 3], dtype=int64)"
      ]
     },
     "execution_count": 47,
     "metadata": {},
     "output_type": "execute_result"
    }
   ],
   "source": [
    "rows"
   ]
  },
  {
   "cell_type": "code",
   "execution_count": 48,
   "metadata": {},
   "outputs": [],
   "source": [
    "L = L_(rows,columns)"
   ]
  },
  {
   "cell_type": "code",
   "execution_count": 49,
   "metadata": {},
   "outputs": [
    {
     "name": "stdout",
     "output_type": "stream",
     "text": [
      "[2 3 0 0 1 3 0 1]\n",
      "[0 0 1 2 2 2 3 3]\n"
     ]
    }
   ],
   "source": [
    "print(columns)\n",
    "print(rows)"
   ]
  },
  {
   "cell_type": "code",
   "execution_count": 50,
   "metadata": {},
   "outputs": [
    {
     "data": {
      "text/plain": [
       "{2: array([0], dtype=int64),\n",
       " 3: array([0, 2], dtype=int64),\n",
       " 0: array([1, 2, 3], dtype=int64),\n",
       " 1: array([2, 3], dtype=int64)}"
      ]
     },
     "execution_count": 50,
     "metadata": {},
     "output_type": "execute_result"
    }
   ],
   "source": [
    "L"
   ]
  },
  {
   "cell_type": "code",
   "execution_count": 51,
   "metadata": {},
   "outputs": [],
   "source": [
    "def makeIndices(rows,cols):\n",
    "\tindices = {}\n",
    "\tfor i in range(len(cols)):\n",
    "\t\tcolIndex = columns[i]\n",
    "\t\tif colIndex in indices:\n",
    "\t\t\tindices[colIndex] = np.append(indices[colIndex],rows[i])\n",
    "\t\telse:\n",
    "\t\t\tindices[i] = np.array([rows[i]])\n",
    "\t\treturn indices"
   ]
  },
  {
   "cell_type": "code",
   "execution_count": 52,
   "metadata": {},
   "outputs": [],
   "source": [
    "#Create L\n",
    "def L_(rows, columns):\n",
    "    L={}\n",
    "    for i in range(len(columns)):\n",
    "        col = columns[i]\n",
    "        if col in L:\n",
    "            L[col] = np.append(L[col], rows[i])\n",
    "        else:\n",
    "            L[col] = np.asarray([rows[i]])\n",
    "    return L\n",
    "\n",
    "def c_(L, j):\n",
    "    if j in L:\n",
    "        return len(L[j])\n",
    "    else:\n",
    "        return 0\n",
    "    \n",
    "def PR_method_nomatrix(rows, columns, m, n, tol=1e-5):\n",
    "    t0 = time.time()\n",
    "    x = np.ones((n,1))/n\n",
    "    xc = np.ones((n,1))\n",
    "    L = makeIndices(rows, columns)\n",
    "    while (npli.norm(x-xc, np.inf)>tol):\n",
    "        xc =  x\n",
    "        x = np.zeros((n,1))\n",
    "        for j in range(n):\n",
    "            print(\"J:\",j)\n",
    "            print(\"c: \",c_(L, j))\n",
    "            if (c_(L, j)==0):\n",
    "                x += xc[j]/n\n",
    "            else:\n",
    "                x[L[j]] += xc[j]/c_(L,j)\n",
    "        x = (1.-m)*x + m/n\n",
    "    print( \"Time using power method without storing the matrices\", time.time() - t0, 's')\n",
    "    print( x/np.sum(x))"
   ]
  },
  {
   "cell_type": "code",
   "execution_count": 53,
   "metadata": {},
   "outputs": [
    {
     "name": "stdout",
     "output_type": "stream",
     "text": [
      "J: 0\n",
      "c:  1\n",
      "J: 1\n",
      "c:  0\n",
      "J: 2\n",
      "c:  0\n",
      "J: 3\n",
      "c:  0\n",
      "J: 0\n",
      "c:  1\n",
      "J: 1\n",
      "c:  0\n",
      "J: 2\n",
      "c:  0\n",
      "J: 3\n",
      "c:  0\n",
      "J: 0\n",
      "c:  1\n",
      "J: 1\n",
      "c:  0\n",
      "J: 2\n",
      "c:  0\n",
      "J: 3\n",
      "c:  0\n",
      "J: 0\n",
      "c:  1\n",
      "J: 1\n",
      "c:  0\n",
      "J: 2\n",
      "c:  0\n",
      "J: 3\n",
      "c:  0\n",
      "J: 0\n",
      "c:  1\n",
      "J: 1\n",
      "c:  0\n",
      "J: 2\n",
      "c:  0\n",
      "J: 3\n",
      "c:  0\n",
      "J: 0\n",
      "c:  1\n",
      "J: 1\n",
      "c:  0\n",
      "J: 2\n",
      "c:  0\n",
      "J: 3\n",
      "c:  0\n",
      "J: 0\n",
      "c:  1\n",
      "J: 1\n",
      "c:  0\n",
      "J: 2\n",
      "c:  0\n",
      "J: 3\n",
      "c:  0\n",
      "J: 0\n",
      "c:  1\n",
      "J: 1\n",
      "c:  0\n",
      "J: 2\n",
      "c:  0\n",
      "J: 3\n",
      "c:  0\n",
      "J: 0\n",
      "c:  1\n",
      "J: 1\n",
      "c:  0\n",
      "J: 2\n",
      "c:  0\n",
      "J: 3\n",
      "c:  0\n",
      "J: 0\n",
      "c:  1\n",
      "J: 1\n",
      "c:  0\n",
      "J: 2\n",
      "c:  0\n",
      "J: 3\n",
      "c:  0\n",
      "J: 0\n",
      "c:  1\n",
      "J: 1\n",
      "c:  0\n",
      "J: 2\n",
      "c:  0\n",
      "J: 3\n",
      "c:  0\n",
      "J: 0\n",
      "c:  1\n",
      "J: 1\n",
      "c:  0\n",
      "J: 2\n",
      "c:  0\n",
      "J: 3\n",
      "c:  0\n",
      "J: 0\n",
      "c:  1\n",
      "J: 1\n",
      "c:  0\n",
      "J: 2\n",
      "c:  0\n",
      "J: 3\n",
      "c:  0\n",
      "J: 0\n",
      "c:  1\n",
      "J: 1\n",
      "c:  0\n",
      "J: 2\n",
      "c:  0\n",
      "J: 3\n",
      "c:  0\n",
      "J: 0\n",
      "c:  1\n",
      "J: 1\n",
      "c:  0\n",
      "J: 2\n",
      "c:  0\n",
      "J: 3\n",
      "c:  0\n",
      "J: 0\n",
      "c:  1\n",
      "J: 1\n",
      "c:  0\n",
      "J: 2\n",
      "c:  0\n",
      "J: 3\n",
      "c:  0\n",
      "J: 0\n",
      "c:  1\n",
      "J: 1\n",
      "c:  0\n",
      "J: 2\n",
      "c:  0\n",
      "J: 3\n",
      "c:  0\n",
      "J: 0\n",
      "c:  1\n",
      "J: 1\n",
      "c:  0\n",
      "J: 2\n",
      "c:  0\n",
      "J: 3\n",
      "c:  0\n",
      "J: 0\n",
      "c:  1\n",
      "J: 1\n",
      "c:  0\n",
      "J: 2\n",
      "c:  0\n",
      "J: 3\n",
      "c:  0\n",
      "J: 0\n",
      "c:  1\n",
      "J: 1\n",
      "c:  0\n",
      "J: 2\n",
      "c:  0\n",
      "J: 3\n",
      "c:  0\n",
      "J: 0\n",
      "c:  1\n",
      "J: 1\n",
      "c:  0\n",
      "J: 2\n",
      "c:  0\n",
      "J: 3\n",
      "c:  0\n",
      "J: 0\n",
      "c:  1\n",
      "J: 1\n",
      "c:  0\n",
      "J: 2\n",
      "c:  0\n",
      "J: 3\n",
      "c:  0\n",
      "J: 0\n",
      "c:  1\n",
      "J: 1\n",
      "c:  0\n",
      "J: 2\n",
      "c:  0\n",
      "J: 3\n",
      "c:  0\n",
      "Time using power method without storing the matrices 0.03590130805969238 s\n",
      "[[0.68964117]\n",
      " [0.10345294]\n",
      " [0.10345294]\n",
      " [0.10345294]]\n"
     ]
    }
   ],
   "source": [
    "PR_method_nomatrix(rows,columns,0.15,A1.shape[0],1e-5)"
   ]
  },
  {
   "cell_type": "code",
   "execution_count": null,
   "metadata": {},
   "outputs": [],
   "source": []
  },
  {
   "cell_type": "code",
   "execution_count": null,
   "metadata": {},
   "outputs": [],
   "source": []
  }
 ],
 "metadata": {
  "kernelspec": {
   "display_name": "Python 3",
   "language": "python",
   "name": "python3"
  },
  "language_info": {
   "codemirror_mode": {
    "name": "ipython",
    "version": 3
   },
   "file_extension": ".py",
   "mimetype": "text/x-python",
   "name": "python",
   "nbconvert_exporter": "python",
   "pygments_lexer": "ipython3",
   "version": "3.8.3"
  }
 },
 "nbformat": 4,
 "nbformat_minor": 4
}
