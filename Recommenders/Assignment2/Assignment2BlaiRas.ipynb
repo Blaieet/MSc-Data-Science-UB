{
 "cells": [
  {
   "cell_type": "markdown",
   "metadata": {},
   "source": [
    "# Blai Ras Jimenez\n",
    "\n",
    "## Assignment 2: Factorization Machines"
   ]
  },
  {
   "cell_type": "code",
   "execution_count": 48,
   "metadata": {
    "ExecuteTime": {
     "end_time": "2021-04-09T10:55:30.645709Z",
     "start_time": "2021-04-09T10:55:30.628711Z"
    },
    "_cell_guid": "b1076dfc-b9ad-4769-8c92-a6c4dae69d19",
    "_uuid": "8f2839f25d086af736a60e9eeb907d3b93b6e0e5"
   },
   "outputs": [
    {
     "name": "stdout",
     "output_type": "stream",
     "text": [
      "kaggle/input\\movielens-fds\\movielens-fds.zip\n",
      "kaggle/input\\movielens-fds\\sample_submission.csv\n",
      "kaggle/input\\movielens-fds\\test.csv\n",
      "kaggle/input\\movielens-fds\\training.csv\n"
     ]
    }
   ],
   "source": [
    "# This Python 3 environment comes with many helpful analytics libraries installed\n",
    "# It is defined by the kaggle/python Docker image: https://github.com/kaggle/docker-python\n",
    "# For example, here's several helpful packages to load\n",
    "\n",
    "import numpy as np # linear algebra\n",
    "import pandas as pd # data processing, CSV file I/O (e.g. pd.read_csv)\n",
    "import matplotlib.pylab as plt\n",
    "import time\n",
    "\n",
    "# Input data files are available in the read-only \"../input/\" directory\n",
    "# For example, running this (by clicking run or pressing Shift+Enter) will list all files under the input directory\n",
    "\n",
    "import os\n",
    "for dirname, _, filenames in os.walk('kaggle/input'):\n",
    "    for filename in filenames:\n",
    "        print(os.path.join(dirname, filename))\n",
    "\n",
    "# You can write up to 20GB to the current directory (/kaggle/working/) that gets preserved as output when you create a version using \"Save & Run All\" \n",
    "# You can also write temporary files to /kaggle/temp/, but they won't be saved outside of the current session"
   ]
  },
  {
   "cell_type": "code",
   "execution_count": 49,
   "metadata": {
    "ExecuteTime": {
     "end_time": "2021-04-09T10:55:31.025530Z",
     "start_time": "2021-04-09T10:55:31.010530Z"
    }
   },
   "outputs": [],
   "source": [
    "def evaluate(predict_f,data_test):\n",
    "    \"\"\" RMSE-based predictive performance evaluation with pandas. \"\"\"\n",
    "    ids_to_estimate = zip(data_test.user_id, data_test.movie_id)\n",
    "    estimated = np.array([predict_f(u,i) for (u,i) in ids_to_estimate ])\n",
    "    real = data_test.rating.values\n",
    "    return compute_rmse(estimated, real)\n",
    "\n",
    "\n",
    "def compute_rmse(y_pred, y_true):\n",
    "    \"\"\" Compute Root Mean Squared Error. \"\"\"\n",
    "    return np.sqrt(np.mean(np.power(y_pred - y_true, 2)))\n",
    "\n",
    "\n",
    "## Divide the data in two sets: training and test\n",
    "def assign_to_set(df):\n",
    "    sampled_ids = np.random.choice(df.index,\n",
    "                                   size=np.int64(np.ceil(df.index.size * 0.05)),\n",
    "                                   replace=False)\n",
    "    df['for_testing'] = False\n",
    "    df.loc[sampled_ids, 'for_testing'] = True\n",
    "    return df"
   ]
  },
  {
   "cell_type": "code",
   "execution_count": 50,
   "metadata": {
    "ExecuteTime": {
     "end_time": "2021-04-09T10:55:31.228856Z",
     "start_time": "2021-04-09T10:55:31.223856Z"
    }
   },
   "outputs": [],
   "source": [
    "# Discount Cumulative Gain function\n",
    "def ndcg(y_pred, y_true,k):\n",
    "    \n",
    "    # First sort my predicted scores\n",
    "    sort = np.argsort(y_pred)[::-1]\n",
    "    \n",
    "    # Take k elements of my array\n",
    "    y_true = np.take(y_true, sort[:k])\n",
    "    \n",
    "    # Compute the G: gains\n",
    "    G = 2 ** y_true - 1\n",
    "    \n",
    "    # Compute the D: discounts\n",
    "    D = np.log2(np.arange(2, G.size + 2))\n",
    "    \n",
    "    # Finally compute the DCG\n",
    "    dcg = np.sum(G/D)\n",
    "    \n",
    "    return dcg"
   ]
  },
  {
   "cell_type": "code",
   "execution_count": 57,
   "metadata": {
    "ExecuteTime": {
     "end_time": "2021-04-09T10:55:45.100098Z",
     "start_time": "2021-04-09T10:55:44.524828Z"
    }
   },
   "outputs": [],
   "source": [
    "df = pd.read_csv('kaggle/input/movielens-fds/training.csv',index_col=0)"
   ]
  },
  {
   "cell_type": "code",
   "execution_count": 58,
   "metadata": {
    "ExecuteTime": {
     "end_time": "2021-04-09T10:55:45.116049Z",
     "start_time": "2021-04-09T10:55:45.101999Z"
    }
   },
   "outputs": [
    {
     "data": {
      "text/plain": [
       "(945180, 5)"
      ]
     },
     "execution_count": 58,
     "metadata": {},
     "output_type": "execute_result"
    }
   ],
   "source": [
    "df.shape"
   ]
  },
  {
   "cell_type": "code",
   "execution_count": 59,
   "metadata": {
    "ExecuteTime": {
     "end_time": "2021-04-09T10:55:45.227108Z",
     "start_time": "2021-04-09T10:55:45.164000Z"
    }
   },
   "outputs": [],
   "source": [
    "# If you wish to do an small, quick train, re-sample the original dataset with less ratings.\n",
    "df = df.sample(100000)"
   ]
  },
  {
   "cell_type": "code",
   "execution_count": 60,
   "metadata": {
    "ExecuteTime": {
     "end_time": "2021-04-09T10:55:46.255068Z",
     "start_time": "2021-04-09T10:55:45.676960Z"
    }
   },
   "outputs": [],
   "source": [
    "df_test = pd.read_csv('kaggle/input/movielens-fds/test.csv',index_col=0)"
   ]
  },
  {
   "cell_type": "code",
   "execution_count": 27,
   "metadata": {
    "ExecuteTime": {
     "end_time": "2021-04-09T08:25:21.465940Z",
     "start_time": "2021-04-09T08:25:21.451978Z"
    }
   },
   "outputs": [
    {
     "data": {
      "text/plain": [
       "(848600, 4)"
      ]
     },
     "execution_count": 27,
     "metadata": {},
     "output_type": "execute_result"
    }
   ],
   "source": [
    "df_test.shape"
   ]
  },
  {
   "cell_type": "markdown",
   "metadata": {},
   "source": [
    "## Feature encoding\n",
    "\n",
    "I tried two different latent vectors (features) for my Factorization Machine approach: the genre and the releasing year of the movie.\n",
    "\n",
    "### Genre\n",
    "\n",
    "In order to encode this feature inside my recommender system I decided to categorize it using a one-hot encoding philosophy: multiple binary variables (dummy variables). \n",
    "\n",
    "The tricky part was slicing the \"genre\" column, encoded with the character \" | \" as separator. The way I dealt with this problem is using the sklearn Multi Label Binarizer. \n",
    "\n",
    "First, I get each genre of each movie splitting its text by \"|\". Then, I pass this Pandas series to the MLB, which is able to create multiple binary variables with indexing using its method $\\texttt{fit_transform}$. Therefore, it's easy to create a Pandas dataframe containing each dummy variable from it. \n",
    "\n",
    "At this point, all that's left is joining this one-hot encoding dataframe to the original dataframe. As a consequence, we can drop the genre original column and the one we created when slicing.\n",
    "\n",
    "There are movies with no genre listed. I decided to keep them under the column \"(no genres listed)\". There are also movies with the genre \"IMAX\" which is not really a \"genre\", but I keep them either way.\n",
    "\n",
    "I've implemented this approach in the function below:"
   ]
  },
  {
   "cell_type": "code",
   "execution_count": 61,
   "metadata": {
    "ExecuteTime": {
     "end_time": "2021-04-09T10:55:46.726611Z",
     "start_time": "2021-04-09T10:55:46.707612Z"
    }
   },
   "outputs": [],
   "source": [
    "from sklearn.preprocessing import MultiLabelBinarizer\n",
    "\n",
    "def genre_categorical(df):\n",
    "    \n",
    "    df['gen_list'] = df['genre'].str.split('|')\n",
    "\n",
    "    ## Column containing a genre list for each movie\n",
    "    serieList = pd.Series(df[\"gen_list\"])\n",
    "\n",
    "    mlb = MultiLabelBinarizer()\n",
    "\n",
    "    # Create a new dataframe of the genres from the list for each row \n",
    "    one_hot_genres = pd.DataFrame(mlb.fit_transform(serieList),columns=mlb.classes_,index=serieList.index)\n",
    "    \n",
    "    # Removing unwanted columns\n",
    "    df = df.drop([\"gen_list\",\"title\",\"genre\"],axis=1)\n",
    "    \n",
    "    # Merging\n",
    "    return pd.merge(df,one_hot_genres, left_index=True, right_index=True)"
   ]
  },
  {
   "cell_type": "markdown",
   "metadata": {},
   "source": [
    "### Year\n",
    "\n",
    "I also tried to aisle the year of each movie and work with it as a feature. The way the year is encoded is as text next to the movie title. Therefore, I used regex to extract it and save it to a new column, \"year\". \n",
    "\n",
    "In order to deal with the movies that have no year registered, I transform the type of this \"year\" column to datetime, getting \"NaN's\" when the year is invalid. I replaced this NaN's with the mean year of the overall movies.\n",
    "\n",
    "As a result, I get a lot of different years. It's not a good idea to binary categorize each year, because as a result I would get like 40 different columns if we count the binarized genres.\n",
    "\n",
    "Therefore, I splitted this \"year\" column into 3 new ones by its quantiles: \"year_old\" contains all the years from the oldest to the 0.25 quantile, \"year_mid\" from 0.25 to 0.75, and \"year_new\" from 0.75 to the newest year. \n",
    "In order to binarize it I just use the $\\texttt{pd.get_dummies}$ Pandas method.\n",
    "\n",
    "I coded this transformation in the function below:"
   ]
  },
  {
   "cell_type": "code",
   "execution_count": 62,
   "metadata": {
    "ExecuteTime": {
     "end_time": "2021-04-09T10:55:47.008810Z",
     "start_time": "2021-04-09T10:55:46.993780Z"
    }
   },
   "outputs": [],
   "source": [
    "def categorical_year(df):\n",
    "    # Year regex extraction\n",
    "    df['year'] = df.title.str.extract(\"\\((\\d{4})\\)\", expand=True)\n",
    "    # Year to Year datatime in order to get NaN's\n",
    "    df.year = pd.to_datetime(df.year, format='%Y')\n",
    "    df.year = df.year.dt.year\n",
    "    \n",
    "    # Replace NaN's with the overall mean\n",
    "    df[\"year\"] = df[\"year\"].fillna(int(np.nanmean(df.year.unique())))\n",
    "    \n",
    "    # Year into 3-way categorization by quantiles\n",
    "    df['year'] = pd.cut(df.year,\n",
    "                     bins=[df.year.quantile(0), df.year.quantile(0.25), df.year.quantile(0.75), df.year.quantile(1)],\n",
    "                     labels=[\"old\", \"mid\", \"new\"])\n",
    "    # Year binarization\n",
    "    return pd.get_dummies(df,columns=[\"year\"])"
   ]
  },
  {
   "cell_type": "markdown",
   "metadata": {},
   "source": [
    "Nevertheless, after various tests with this year one-hot encoding, **I decided not to add this feature**, due to poor performance in terms of RMSE. Probably, there are too many columns (25) if we categorize the genre and the year, and the model starts to overfit, as we can see below (k=10, lambda=0.03, lr=0.01, 60 iterations):\n",
    "\n",
    "<img src=\"TrainWithYearPlot.PNG\">\n",
    "\n",
    "In consequence, I decided to only add the genre as feature."
   ]
  },
  {
   "cell_type": "code",
   "execution_count": 63,
   "metadata": {
    "ExecuteTime": {
     "end_time": "2021-04-09T10:55:50.049013Z",
     "start_time": "2021-04-09T10:55:47.258550Z"
    }
   },
   "outputs": [],
   "source": [
    "# Transform my datasets with this genre one-hot encoding\n",
    "df = genre_categorical(df)\n",
    "df_test = genre_categorical(df_test)"
   ]
  },
  {
   "cell_type": "code",
   "execution_count": 64,
   "metadata": {
    "ExecuteTime": {
     "end_time": "2021-04-09T10:55:50.080953Z",
     "start_time": "2021-04-09T10:55:50.050979Z"
    }
   },
   "outputs": [
    {
     "data": {
      "text/html": [
       "<div>\n",
       "<style scoped>\n",
       "    .dataframe tbody tr th:only-of-type {\n",
       "        vertical-align: middle;\n",
       "    }\n",
       "\n",
       "    .dataframe tbody tr th {\n",
       "        vertical-align: top;\n",
       "    }\n",
       "\n",
       "    .dataframe thead th {\n",
       "        text-align: right;\n",
       "    }\n",
       "</style>\n",
       "<table border=\"1\" class=\"dataframe\">\n",
       "  <thead>\n",
       "    <tr style=\"text-align: right;\">\n",
       "      <th></th>\n",
       "      <th>user_id</th>\n",
       "      <th>movie_id</th>\n",
       "      <th>(no genres listed)</th>\n",
       "      <th>Action</th>\n",
       "      <th>Adventure</th>\n",
       "      <th>Animation</th>\n",
       "      <th>Children</th>\n",
       "      <th>Comedy</th>\n",
       "      <th>Crime</th>\n",
       "      <th>Documentary</th>\n",
       "      <th>...</th>\n",
       "      <th>Film-Noir</th>\n",
       "      <th>Horror</th>\n",
       "      <th>IMAX</th>\n",
       "      <th>Musical</th>\n",
       "      <th>Mystery</th>\n",
       "      <th>Romance</th>\n",
       "      <th>Sci-Fi</th>\n",
       "      <th>Thriller</th>\n",
       "      <th>War</th>\n",
       "      <th>Western</th>\n",
       "    </tr>\n",
       "  </thead>\n",
       "  <tbody>\n",
       "    <tr>\n",
       "      <th>0</th>\n",
       "      <td>1762</td>\n",
       "      <td>307</td>\n",
       "      <td>0</td>\n",
       "      <td>0</td>\n",
       "      <td>0</td>\n",
       "      <td>0</td>\n",
       "      <td>0</td>\n",
       "      <td>0</td>\n",
       "      <td>0</td>\n",
       "      <td>0</td>\n",
       "      <td>...</td>\n",
       "      <td>0</td>\n",
       "      <td>0</td>\n",
       "      <td>0</td>\n",
       "      <td>0</td>\n",
       "      <td>0</td>\n",
       "      <td>0</td>\n",
       "      <td>0</td>\n",
       "      <td>0</td>\n",
       "      <td>0</td>\n",
       "      <td>0</td>\n",
       "    </tr>\n",
       "    <tr>\n",
       "      <th>1</th>\n",
       "      <td>1762</td>\n",
       "      <td>67534</td>\n",
       "      <td>0</td>\n",
       "      <td>0</td>\n",
       "      <td>0</td>\n",
       "      <td>0</td>\n",
       "      <td>0</td>\n",
       "      <td>1</td>\n",
       "      <td>0</td>\n",
       "      <td>0</td>\n",
       "      <td>...</td>\n",
       "      <td>0</td>\n",
       "      <td>0</td>\n",
       "      <td>0</td>\n",
       "      <td>0</td>\n",
       "      <td>0</td>\n",
       "      <td>0</td>\n",
       "      <td>0</td>\n",
       "      <td>0</td>\n",
       "      <td>0</td>\n",
       "      <td>0</td>\n",
       "    </tr>\n",
       "    <tr>\n",
       "      <th>2</th>\n",
       "      <td>1762</td>\n",
       "      <td>2317</td>\n",
       "      <td>0</td>\n",
       "      <td>0</td>\n",
       "      <td>0</td>\n",
       "      <td>0</td>\n",
       "      <td>0</td>\n",
       "      <td>1</td>\n",
       "      <td>0</td>\n",
       "      <td>0</td>\n",
       "      <td>...</td>\n",
       "      <td>0</td>\n",
       "      <td>0</td>\n",
       "      <td>0</td>\n",
       "      <td>0</td>\n",
       "      <td>0</td>\n",
       "      <td>0</td>\n",
       "      <td>0</td>\n",
       "      <td>0</td>\n",
       "      <td>0</td>\n",
       "      <td>0</td>\n",
       "    </tr>\n",
       "    <tr>\n",
       "      <th>3</th>\n",
       "      <td>1762</td>\n",
       "      <td>94011</td>\n",
       "      <td>0</td>\n",
       "      <td>1</td>\n",
       "      <td>0</td>\n",
       "      <td>0</td>\n",
       "      <td>0</td>\n",
       "      <td>0</td>\n",
       "      <td>0</td>\n",
       "      <td>0</td>\n",
       "      <td>...</td>\n",
       "      <td>0</td>\n",
       "      <td>0</td>\n",
       "      <td>0</td>\n",
       "      <td>0</td>\n",
       "      <td>0</td>\n",
       "      <td>0</td>\n",
       "      <td>0</td>\n",
       "      <td>1</td>\n",
       "      <td>0</td>\n",
       "      <td>0</td>\n",
       "    </tr>\n",
       "    <tr>\n",
       "      <th>4</th>\n",
       "      <td>1762</td>\n",
       "      <td>164725</td>\n",
       "      <td>0</td>\n",
       "      <td>0</td>\n",
       "      <td>0</td>\n",
       "      <td>0</td>\n",
       "      <td>1</td>\n",
       "      <td>1</td>\n",
       "      <td>0</td>\n",
       "      <td>0</td>\n",
       "      <td>...</td>\n",
       "      <td>0</td>\n",
       "      <td>0</td>\n",
       "      <td>0</td>\n",
       "      <td>0</td>\n",
       "      <td>0</td>\n",
       "      <td>0</td>\n",
       "      <td>0</td>\n",
       "      <td>0</td>\n",
       "      <td>0</td>\n",
       "      <td>0</td>\n",
       "    </tr>\n",
       "  </tbody>\n",
       "</table>\n",
       "<p>5 rows × 22 columns</p>\n",
       "</div>"
      ],
      "text/plain": [
       "   user_id  movie_id  (no genres listed)  Action  Adventure  Animation  \\\n",
       "0     1762       307                   0       0          0          0   \n",
       "1     1762     67534                   0       0          0          0   \n",
       "2     1762      2317                   0       0          0          0   \n",
       "3     1762     94011                   0       1          0          0   \n",
       "4     1762    164725                   0       0          0          0   \n",
       "\n",
       "   Children  Comedy  Crime  Documentary  ...  Film-Noir  Horror  IMAX  \\\n",
       "0         0       0      0            0  ...          0       0     0   \n",
       "1         0       1      0            0  ...          0       0     0   \n",
       "2         0       1      0            0  ...          0       0     0   \n",
       "3         0       0      0            0  ...          0       0     0   \n",
       "4         1       1      0            0  ...          0       0     0   \n",
       "\n",
       "   Musical  Mystery  Romance  Sci-Fi  Thriller  War  Western  \n",
       "0        0        0        0       0         0    0        0  \n",
       "1        0        0        0       0         0    0        0  \n",
       "2        0        0        0       0         0    0        0  \n",
       "3        0        0        0       0         1    0        0  \n",
       "4        0        0        0       0         0    0        0  \n",
       "\n",
       "[5 rows x 22 columns]"
      ]
     },
     "execution_count": 64,
     "metadata": {},
     "output_type": "execute_result"
    }
   ],
   "source": [
    "df_test.head()"
   ]
  },
  {
   "cell_type": "markdown",
   "metadata": {},
   "source": [
    "### Data treatment\n",
    "\n",
    "This function below splits my dataframe into test/validation sets and also changes the column data type for \"user_id\" and \"movie_id\" so the model do not treat them as integers."
   ]
  },
  {
   "cell_type": "code",
   "execution_count": 65,
   "metadata": {
    "ExecuteTime": {
     "end_time": "2021-04-09T10:55:50.096987Z",
     "start_time": "2021-04-09T10:55:50.083977Z"
    }
   },
   "outputs": [],
   "source": [
    "def data_split(df,df_test):\n",
    "    grouped = df.groupby('user_id', group_keys=False).apply(assign_to_set)\n",
    "    df_train = df[grouped.for_testing == False]\n",
    "    df_val   = df[grouped.for_testing == True]\n",
    "    \n",
    "    val = df_val.copy()\n",
    "    train = df_train.copy()\n",
    "    test = df_test.copy()\n",
    "    \n",
    "    y_train = train['rating']\n",
    "    train.drop(['rating'], axis=1, inplace=True)\n",
    "\n",
    "    train['user_id'] = train['user_id'].astype('str')\n",
    "    train['movie_id'] = train['movie_id'].astype('str')\n",
    "\n",
    "    y_val = val[\"rating\"]\n",
    "    val.drop(['rating'], axis=1, inplace=True)\n",
    "    val['user_id'] = val['user_id'].astype('str')\n",
    "    val['movie_id'] = val['movie_id'].astype('str')\n",
    "\n",
    "    test['user_id'] = test['user_id'].astype('str')\n",
    "    test['movie_id'] = test['movie_id'].astype('str')\n",
    "    \n",
    "    return train,y_train,val,y_val,test"
   ]
  },
  {
   "cell_type": "code",
   "execution_count": 66,
   "metadata": {
    "ExecuteTime": {
     "end_time": "2021-04-09T10:56:00.284186Z",
     "start_time": "2021-04-09T10:55:50.097955Z"
    }
   },
   "outputs": [],
   "source": [
    "train,y_train,val,y_val,test = data_split(df,df_test)"
   ]
  },
  {
   "cell_type": "code",
   "execution_count": 67,
   "metadata": {
    "ExecuteTime": {
     "end_time": "2021-04-09T10:56:00.300195Z",
     "start_time": "2021-04-09T10:56:00.286187Z"
    }
   },
   "outputs": [
    {
     "name": "stdout",
     "output_type": "stream",
     "text": [
      "Train size: (88984, 22) \n",
      "Val size: (11016, 22) \n",
      "Test size: (848600, 22)\n"
     ]
    }
   ],
   "source": [
    "print(\"Train size:\",train.shape,\n",
    "      \"\\nVal size:\",val.shape,\n",
    "      \"\\nTest size:\",test.shape)"
   ]
  },
  {
   "cell_type": "markdown",
   "metadata": {},
   "source": [
    "## Model\n",
    "\n",
    "Below is the modified base code in order to perform the Factorization Machine model. Long story short, I changed the way we index each movie/user with the $\\texttt{getIdx}$ function and I perform the training inside the $\\texttt{sgd}$ function. "
   ]
  },
  {
   "cell_type": "code",
   "execution_count": 68,
   "metadata": {
    "ExecuteTime": {
     "end_time": "2021-04-09T10:56:04.439452Z",
     "start_time": "2021-04-09T10:56:04.411421Z"
    }
   },
   "outputs": [],
   "source": [
    "from scipy import sparse\n",
    "\n",
    "class RecSys_FM():\n",
    "    \"\"\" Collaborative filtering using a custom sim(u,u'). \"\"\"\n",
    "\n",
    "    def __init__(self,df_train,df_val,num_components=10,k=10):\n",
    "        \"\"\" Constructor \"\"\"\n",
    "        self.df_train = df_train\n",
    "        self.df_val = df_val\n",
    "        self.num_components=num_components\n",
    "        self.k = k\n",
    "        # We create a dictionary where we will store the user_id and movie_id which correspond \n",
    "        # to each index in the Rating matrix\n",
    "        \n",
    "        i = 0\n",
    "        cols = {}\n",
    "        for col in df_train.columns:\n",
    "            cols[col] = i\n",
    "            i += 1\n",
    "\n",
    "        idxs = {}\n",
    "        nonZero = 0\n",
    "        for col in df_train.columns:\n",
    "            if col == \"user_id\" or col == \"movie_id\":\n",
    "                idxs[cols[col]] = {}\n",
    "                colset = set(df_train[col])\n",
    "                for movieUserCol in colset:\n",
    "                    idxs[cols[col]][movieUserCol] = nonZero\n",
    "                    nonZero += 1\n",
    "            else:\n",
    "                idxs[cols[col]] = nonZero\n",
    "                nonZero += 1\n",
    "        self.idxs = idxs\n",
    "        self.nonZero = nonZero\n",
    "        \n",
    "        # initialize latent vectors\n",
    "        self.w0 = np.mean(df_val)\n",
    "        self.w1 = np.zeros(self.nonZero)\n",
    "        self.v = np.random.normal(scale=0.1,size=(self.nonZero, self.k))\n",
    "        \n",
    "        \n",
    "    def getIdx(self, vec):\n",
    "        idx = []\n",
    "        for col in range(len(vec)):\n",
    "            if isinstance(self.idxs[col], int) or isinstance(self.idxs[col], float):\n",
    "                idx.append((self.idxs[col], vec[col]))\n",
    "            else:\n",
    "                try:\n",
    "                    idx.append((self.idxs[col][vec[col]], 1.))\n",
    "                except:\n",
    "                    idx.append((0., 0.))\n",
    "        return idx\n",
    "        \n",
    "    def __sdg__(self):\n",
    "        df_train = np.array(self.df_train)\n",
    "        df_val = np.array(self.df_val)\n",
    "        learning_rate = self.learning_rate\n",
    "        lmbda = self.lmbda\n",
    "        w0 = self.w0\n",
    "        w1 = self.w1\n",
    "        v = self.v\n",
    "        nonZero = self.nonZero\n",
    "\n",
    "        m = df_train.shape[0]\n",
    "        n = df_train.shape[1]\n",
    "        \n",
    "        #SGD\n",
    "        for epoch in range(self.n_epochs):\n",
    "            start_time = time.perf_counter()\n",
    "            \n",
    "            predictions = []\n",
    "            for i in range(m):\n",
    "                x = df_train[i, :]\n",
    "                tempVals = self.getIdx(x)\n",
    "                idx = {}\n",
    "                firstSum = 0\n",
    "                secondSum = 0\n",
    "                thirdSum = np.zeros(self.k)\n",
    "\n",
    "                for col in range(n):\n",
    "                    index, value = tempVals[col]\n",
    "                    idx[index] = value\n",
    "                    firstSum += w1[index] * value\n",
    "\n",
    "                for j in range(self.k):\n",
    "                    jSum1 = 0.0\n",
    "                    jSum2 = 0.0\n",
    "                    for col in range(n):\n",
    "                        index, value = tempVals[col]\n",
    "                        tmp = v[index, j] * value\n",
    "                        jSum1 += tmp\n",
    "                        jSum2 += tmp * tmp\n",
    "                    thirdSum[j] = jSum1\n",
    "                    secondSum += jSum1 * jSum1 - jSum2\n",
    "\n",
    "                yhat = w0 + firstSum + 0.5 * secondSum\n",
    "                yhat = max(1., yhat)\n",
    "                yhat = min(5., yhat)\n",
    "                out = (yhat - df_val[i])\n",
    "\n",
    "                #Update Rule w0\n",
    "                w0 = w0 - (learning_rate * out) - learning_rate * w0 * lmbda\n",
    "\n",
    "                for col in range(n):\n",
    "                    index, value = tempVals[col]\n",
    "                    tmp = learning_rate * value * out\n",
    "                    w1[index] -= (tmp + (learning_rate*lmbda)*w1[index])\n",
    "                    for j in range(self.k):\n",
    "                        v[index, j] -= (tmp * (thirdSum[j] - v[index, j] * value) + (learning_rate*lmbda)*v[index, j])\n",
    "            \n",
    "            self.train_rmse.append(compute_rmse(yhat,df_val))\n",
    "            self.test_rmse.append(compute_rmse(yhat,self.y_val))\n",
    "            \n",
    "            print(\"Epoch\",epoch,\"lasted:\",time.perf_counter()-start_time)\n",
    "            print('\\tTrain RMSE: %s' % self.train_rmse[-1])\n",
    "            print('\\tTest RMSE: %s' % self.test_rmse[-1])\n",
    "\n",
    "        self.w0 = w0\n",
    "        self.w1 = w1\n",
    "        self.v = v\n",
    "                                      \n",
    "        if(self.verbose):\n",
    "            self.__plot_learning_curves__()\n",
    "        \n",
    "    def fit(self,y_val,n_epochs = 10,learning_rate =0.001,lmbda=0.1,verbose =True):\n",
    "        \"\"\" We decompose the R matrix into to submatrices using the training data \"\"\"\n",
    "        self.verbose = verbose\n",
    "        self.learning_rate = learning_rate\n",
    "        self.lmbda = lmbda\n",
    "        self.y_val = y_val\n",
    "        self.n_epochs = n_epochs\n",
    "        self.train_rmse =[]\n",
    "        self.test_rmse = []\n",
    "        \n",
    "        self.__sdg__()\n",
    "        return\n",
    "    \n",
    "    def __plot_learning_curves__(self):\n",
    "        plt.plot(self.train_rmse,'--o',label=\"train_error\")\n",
    "        plt.plot(self.test_rmse,'--o',label=\"test_error\")\n",
    "        plt.legend()\n",
    "        plt.show()\n",
    "        \n",
    "    def predict(self, df, verbose=True):\n",
    "\n",
    "        df = np.array(df)\n",
    "        \n",
    "        w0 = self.w0\n",
    "        w1 = self.w1\n",
    "        v = self.v\n",
    "        nonZero = self.nonZero\n",
    "\n",
    "        m = df.shape[0]\n",
    "        n = df.shape[1]\n",
    "        \n",
    "        predictions = []\n",
    "        for i in range(m):\n",
    "            x = df[i, :]\n",
    "            tempVals = self.getIdx(x)\n",
    "            idx = {}\n",
    "            firstSum = 0\n",
    "            secondSum = 0\n",
    "            thirdSum = np.zeros(self.k)\n",
    "\n",
    "            for col in range(n):\n",
    "                index, value = tempVals[col]\n",
    "                idx[index] = value\n",
    "                index = int(index)\n",
    "                firstSum += w1[index] * value\n",
    "\n",
    "            for j in range(self.k):\n",
    "                jSum1 = 0\n",
    "                jSum2 = 0\n",
    "                for col in range(n):\n",
    "                    index, value = tempVals[col]\n",
    "                    index = int(index)\n",
    "                    tmp = v[index, j] * value\n",
    "                    jSum1 += tmp\n",
    "                    jSum2 += tmp * tmp\n",
    "                thirdSum[j] = jSum1\n",
    "                secondSum += jSum1 * jSum1 - jSum2\n",
    "\n",
    "            yhat = w0 + firstSum + 0.5 * secondSum\n",
    "            yhat = max(1., yhat)\n",
    "            yhat = min(5., yhat)\n",
    "            predictions.append(yhat)\n",
    "\n",
    "        return predictions\n",
    "        "
   ]
  },
  {
   "cell_type": "code",
   "execution_count": 76,
   "metadata": {
    "ExecuteTime": {
     "end_time": "2021-04-09T11:27:44.988433Z",
     "start_time": "2021-04-09T11:19:24.971539Z"
    },
    "scrolled": true
   },
   "outputs": [
    {
     "name": "stdout",
     "output_type": "stream",
     "text": [
      "Epoch 0 lasted: 50.78183259999969\n",
      "\tTrain RMSE: 1.256138521470077\n",
      "\tTest RMSE: 1.2469393908181268\n",
      "Epoch 1 lasted: 49.8561138999994\n",
      "\tTrain RMSE: 1.2922196725917083\n",
      "\tTest RMSE: 1.27945814289381\n",
      "Epoch 2 lasted: 49.421002600000065\n",
      "\tTrain RMSE: 1.250929302854489\n",
      "\tTest RMSE: 1.2422839402487964\n",
      "Epoch 3 lasted: 51.11197979999997\n",
      "\tTrain RMSE: 1.189462644369291\n",
      "\tTest RMSE: 1.188335396016673\n",
      "Epoch 4 lasted: 51.51828690000002\n",
      "\tTrain RMSE: 1.1508256556399155\n",
      "\tTest RMSE: 1.1557449548411467\n",
      "Epoch 5 lasted: 50.379704400000264\n",
      "\tTrain RMSE: 1.1242775923938868\n",
      "\tTest RMSE: 1.1343614536513607\n",
      "Epoch 6 lasted: 48.76578840000002\n",
      "\tTrain RMSE: 1.1028751867893418\n",
      "\tTest RMSE: 1.118177359099356\n",
      "Epoch 7 lasted: 48.76347859999987\n",
      "\tTrain RMSE: 1.0879856211141123\n",
      "\tTest RMSE: 1.1079813339017468\n",
      "Epoch 8 lasted: 49.46762269999999\n",
      "\tTrain RMSE: 1.0788139619152257\n",
      "\tTest RMSE: 1.1026353532477322\n",
      "Epoch 9 lasted: 49.765323499999795\n",
      "\tTrain RMSE: 1.0737578404491834\n",
      "\tTest RMSE: 1.10039777566761\n"
     ]
    },
    {
     "data": {
      "image/png": "[encoded data removed]",
      "text/plain": [
       "<Figure size 432x288 with 1 Axes>"
      ]
     },
     "metadata": {
      "needs_background": "light"
     },
     "output_type": "display_data"
    }
   ],
   "source": [
    "f = RecSys_FM(train,y_train,num_components=10,k=10)\n",
    "f.fit(y_val,n_epochs=10,learning_rate=0.05,lmbda=0.05)"
   ]
  },
  {
   "cell_type": "code",
   "execution_count": 77,
   "metadata": {
    "ExecuteTime": {
     "end_time": "2021-04-09T11:28:02.920421Z",
     "start_time": "2021-04-09T11:28:00.434545Z"
    }
   },
   "outputs": [],
   "source": [
    "y_pred = f.predict(val)"
   ]
  },
  {
   "cell_type": "markdown",
   "metadata": {},
   "source": [
    "## Evaluation\n",
    "\n",
    "### Basic RMSE"
   ]
  },
  {
   "cell_type": "code",
   "execution_count": 78,
   "metadata": {
    "ExecuteTime": {
     "end_time": "2021-04-09T11:28:02.936377Z",
     "start_time": "2021-04-09T11:28:02.921409Z"
    }
   },
   "outputs": [
    {
     "name": "stdout",
     "output_type": "stream",
     "text": [
      "RMSE for Collaborative Recomender: 1.1180573813554475\n"
     ]
    }
   ],
   "source": [
    "print('RMSE for Collaborative Recomender: %s' % compute_rmse(y_val,y_pred))"
   ]
  },
  {
   "cell_type": "markdown",
   "metadata": {},
   "source": [
    "### NDCG \n",
    "\n",
    "I also implemented a Normalized Discount Cumulative Gain evaluation function (above the notebook). My initial goal was to use it alongside my SGD as loss function, but I could not made it work due to lack of time (specially for others deliveries we had this week) and maybe lack of knowledge. \n",
    "\n",
    "What I did was use it as it is, after the training of my recommender system. I also tried to print it on each epoch, but its value does not change much, of course, specially if you \"pick\" a few movies (because you're sorting the k=10 movies or so).\n",
    "\n",
    "\\begin{align}\n",
    "DCG_k = \\sum_{i=1}^k \\frac{2^{rel_i} - 1}{\\log_2{\\left(i+1\\right)}}\n",
    "\\end{align}\n",
    "\n",
    "So, I use this evaluation method by first computing the DCG of the best ranking score and then divide it by the ideal DCG, getting a score between 0 and 1."
   ]
  },
  {
   "cell_type": "code",
   "execution_count": 79,
   "metadata": {
    "ExecuteTime": {
     "end_time": "2021-04-09T11:32:06.623507Z",
     "start_time": "2021-04-09T11:32:06.607505Z"
    }
   },
   "outputs": [
    {
     "name": "stdout",
     "output_type": "stream",
     "text": [
      "NDCG of Validation: 0.7830070575713997\n"
     ]
    }
   ],
   "source": [
    "ndcgTrain = ndcg(y_pred,y_val,10)\n",
    "possible = ndcg(y_val,y_val,10)\n",
    "print('NDCG of Validation:',ndcgTrain/possible)"
   ]
  },
  {
   "cell_type": "markdown",
   "metadata": {},
   "source": [
    "I did several parameter hypertunning in order to find out the optimal combination, evaluating each training with the methods just described and the Kaggle competition result. Below are a few of the total 21 submissions done:\n",
    "\n",
    "| K  | Epochs | Learning Rate | Lambda | Train RMSE | Val. RMSE | Time (hours) | Dataset size | Kaggle Score |\n",
    "|----|--------|---------------|--------|------------|-----------|--------------|--------------|--------------|\n",
    "| 10 | 60     | 0.01          | 0.03   | 0.46       | 1.06      | ~5           | 101k         | 0.69989      |\n",
    "| 10 | 60     | 0.01          | 0.01   | 0.41       | 1.06      | ~5           | 101k         | 0.69071      |\n",
    "| 5  | 66     | 0.01          | 0.03   | 0.42       | 1.08      | ~4           | 101k         | 0.68763      |\n",
    "| 10 | 80     | 0.01          | 0.03   | -          | -         | ~7           | 201k         | 0.67006      |\n",
    "| 10 | 100    | 0.01          | 0.03   | -          | 1.06      | ~7           | 101k         | 0.66658      |\n",
    "| 10 | 70     | 0.001         | 0.003  | 0.75       | 0.98      | ~10          | All          | 0.66382      |\n",
    "| 10 | 60     | 0.001         | 0.003  | 0.77       | 1.18      | ~10          | All          | 0.55420      |\n",
    "\n",
    "I got 0.69 just after finishing the code so I went berserk trying to at least get 0.7 but I could not make it. I tried to change the dataset size, increase and decrese the learning rate and lambda and also to increase or decrease the iterations performed, resulting in minor changes of the Kaggle score.\n",
    "\n",
    "## Submission\n",
    "\n",
    "Predict with my test set and sort!"
   ]
  },
  {
   "cell_type": "code",
   "execution_count": 73,
   "metadata": {
    "ExecuteTime": {
     "end_time": "2021-04-09T11:16:37.615488Z",
     "start_time": "2021-04-09T11:13:33.306732Z"
    }
   },
   "outputs": [],
   "source": [
    "testPred=f.predict(test)\n",
    "df_test[\"estimated\"] = testPred\n",
    "df_test.sort_values(by='estimated',ascending=False)[['user_id','movie_id']].to_csv('SubmissionBlaiRas.csv',index=None)"
   ]
  },
  {
   "cell_type": "code",
   "execution_count": null,
   "metadata": {},
   "outputs": [],
   "source": []
  }
 ],
 "metadata": {
  "kernelspec": {
   "display_name": "Python 3",
   "language": "python",
   "name": "python3"
  },
  "language_info": {
   "codemirror_mode": {
    "name": "ipython",
    "version": 3
   },
   "file_extension": ".py",
   "mimetype": "text/x-python",
   "name": "python",
   "nbconvert_exporter": "python",
   "pygments_lexer": "ipython3",
   "version": "3.8.3"
  }
 },
 "nbformat": 4,
 "nbformat_minor": 4
}
