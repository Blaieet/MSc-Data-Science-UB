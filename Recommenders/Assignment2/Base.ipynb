{
 "cells": [
  {
   "cell_type": "code",
   "execution_count": 2,
   "metadata": {
    "ExecuteTime": {
     "end_time": "2021-03-25T08:39:30.101556Z",
     "start_time": "2021-03-25T08:39:30.082556Z"
    },
    "_cell_guid": "b1076dfc-b9ad-4769-8c92-a6c4dae69d19",
    "_uuid": "8f2839f25d086af736a60e9eeb907d3b93b6e0e5",
    "execution": {
     "iopub.execute_input": "2021-03-23T19:06:10.905600Z",
     "iopub.status.busy": "2021-03-23T19:06:10.904932Z",
     "iopub.status.idle": "2021-03-23T19:06:10.913586Z",
     "shell.execute_reply": "2021-03-23T19:06:10.912428Z"
    },
    "papermill": {
     "duration": 0.022567,
     "end_time": "2021-03-23T19:06:10.913935",
     "exception": false,
     "start_time": "2021-03-23T19:06:10.891368",
     "status": "completed"
    },
    "tags": []
   },
   "outputs": [
    {
     "name": "stdout",
     "output_type": "stream",
     "text": [
      "kaggle/input\\movielens-fds\\movielens-fds.zip\n",
      "kaggle/input\\movielens-fds\\sample_submission.csv\n",
      "kaggle/input\\movielens-fds\\test.csv\n",
      "kaggle/input\\movielens-fds\\training.csv\n"
     ]
    }
   ],
   "source": [
    "# This Python 3 environment comes with many helpful analytics libraries installed\n",
    "# It is defined by the kaggle/python Docker image: https://github.com/kaggle/docker-python\n",
    "# For example, here's several helpful packages to load\n",
    "\n",
    "import numpy as np # linear algebra\n",
    "import pandas as pd # data processing, CSV file I/O (e.g. pd.read_csv)\n",
    "import matplotlib.pylab as plt\n",
    "\n",
    "# Input data files are available in the read-only \"../input/\" directory\n",
    "# For example, running this (by clicking run or pressing Shift+Enter) will list all files under the input directory\n",
    "\n",
    "import os\n",
    "for dirname, _, filenames in os.walk('kaggle/input'):\n",
    "    for filename in filenames:\n",
    "        print(os.path.join(dirname, filename))\n",
    "\n",
    "# You can write up to 20GB to the current directory (/kaggle/working/) that gets preserved as output when you create a version using \"Save & Run All\" \n",
    "# You can also write temporary files to /kaggle/temp/, but they won't be saved outside of the current session"
   ]
  },
  {
   "cell_type": "code",
   "execution_count": 3,
   "metadata": {
    "ExecuteTime": {
     "end_time": "2021-03-25T08:39:52.091054Z",
     "start_time": "2021-03-25T08:39:52.072058Z"
    },
    "execution": {
     "iopub.execute_input": "2021-03-23T19:06:10.931527Z",
     "iopub.status.busy": "2021-03-23T19:06:10.930922Z",
     "iopub.status.idle": "2021-03-23T19:06:10.939189Z",
     "shell.execute_reply": "2021-03-23T19:06:10.939692Z"
    },
    "papermill": {
     "duration": 0.017698,
     "end_time": "2021-03-23T19:06:10.939901",
     "exception": false,
     "start_time": "2021-03-23T19:06:10.922203",
     "status": "completed"
    },
    "tags": []
   },
   "outputs": [],
   "source": [
    "def evaluate(predict_f,data_test):\n",
    "    \"\"\" RMSE-based predictive performance evaluation with pandas. \"\"\"\n",
    "    ids_to_estimate = zip(data_test.user_id, data_test.movie_id)\n",
    "    estimated = np.array([predict_f(u,i) for (u,i) in ids_to_estimate ])\n",
    "    real = data_test.rating.values\n",
    "    return compute_rmse(estimated, real)\n",
    "\n",
    "\n",
    "def compute_rmse(y_pred, y_true):\n",
    "    \"\"\" Compute Root Mean Squared Error. \"\"\"\n",
    "    return np.sqrt(np.mean(np.power(y_pred - y_true, 2)))\n",
    "\n",
    "\n",
    "## Divide the data in two sets: training and test\n",
    "def assign_to_set(df):\n",
    "    sampled_ids = np.random.choice(df.index,\n",
    "                                   size=np.int64(np.ceil(df.index.size * 0.05)),\n",
    "                                   replace=False)\n",
    "    df['for_testing'] = False\n",
    "    df.loc[sampled_ids, 'for_testing'] = True\n",
    "    return df"
   ]
  },
  {
   "cell_type": "code",
   "execution_count": 9,
   "metadata": {
    "ExecuteTime": {
     "end_time": "2021-03-25T08:41:26.635451Z",
     "start_time": "2021-03-25T08:41:14.839107Z"
    },
    "execution": {
     "iopub.execute_input": "2021-03-23T19:06:10.955577Z",
     "iopub.status.busy": "2021-03-23T19:06:10.954990Z",
     "iopub.status.idle": "2021-03-23T19:06:26.323714Z",
     "shell.execute_reply": "2021-03-23T19:06:26.324263Z"
    },
    "papermill": {
     "duration": 15.378051,
     "end_time": "2021-03-23T19:06:26.324443",
     "exception": false,
     "start_time": "2021-03-23T19:06:10.946392",
     "status": "completed"
    },
    "tags": []
   },
   "outputs": [
    {
     "data": {
      "text/html": [
       "<div>\n",
       "<style scoped>\n",
       "    .dataframe tbody tr th:only-of-type {\n",
       "        vertical-align: middle;\n",
       "    }\n",
       "\n",
       "    .dataframe tbody tr th {\n",
       "        vertical-align: top;\n",
       "    }\n",
       "\n",
       "    .dataframe thead th {\n",
       "        text-align: right;\n",
       "    }\n",
       "</style>\n",
       "<table border=\"1\" class=\"dataframe\">\n",
       "  <thead>\n",
       "    <tr style=\"text-align: right;\">\n",
       "      <th></th>\n",
       "      <th>user_id</th>\n",
       "      <th>movie_id</th>\n",
       "      <th>rating</th>\n",
       "      <th>title</th>\n",
       "      <th>genre</th>\n",
       "    </tr>\n",
       "  </thead>\n",
       "  <tbody>\n",
       "    <tr>\n",
       "      <th>0</th>\n",
       "      <td>1</td>\n",
       "      <td>307</td>\n",
       "      <td>3.5</td>\n",
       "      <td>Three Colors: Blue (Trois couleurs: Bleu) (1993)</td>\n",
       "      <td>Drama</td>\n",
       "    </tr>\n",
       "    <tr>\n",
       "      <th>1</th>\n",
       "      <td>6</td>\n",
       "      <td>307</td>\n",
       "      <td>4.0</td>\n",
       "      <td>Three Colors: Blue (Trois couleurs: Bleu) (1993)</td>\n",
       "      <td>Drama</td>\n",
       "    </tr>\n",
       "    <tr>\n",
       "      <th>2</th>\n",
       "      <td>56</td>\n",
       "      <td>307</td>\n",
       "      <td>4.0</td>\n",
       "      <td>Three Colors: Blue (Trois couleurs: Bleu) (1993)</td>\n",
       "      <td>Drama</td>\n",
       "    </tr>\n",
       "    <tr>\n",
       "      <th>3</th>\n",
       "      <td>71</td>\n",
       "      <td>307</td>\n",
       "      <td>5.0</td>\n",
       "      <td>Three Colors: Blue (Trois couleurs: Bleu) (1993)</td>\n",
       "      <td>Drama</td>\n",
       "    </tr>\n",
       "    <tr>\n",
       "      <th>4</th>\n",
       "      <td>84</td>\n",
       "      <td>307</td>\n",
       "      <td>3.0</td>\n",
       "      <td>Three Colors: Blue (Trois couleurs: Bleu) (1993)</td>\n",
       "      <td>Drama</td>\n",
       "    </tr>\n",
       "  </tbody>\n",
       "</table>\n",
       "</div>"
      ],
      "text/plain": [
       "   user_id  movie_id  rating  \\\n",
       "0        1       307     3.5   \n",
       "1        6       307     4.0   \n",
       "2       56       307     4.0   \n",
       "3       71       307     5.0   \n",
       "4       84       307     3.0   \n",
       "\n",
       "                                              title  genre  \n",
       "0  Three Colors: Blue (Trois couleurs: Bleu) (1993)  Drama  \n",
       "1  Three Colors: Blue (Trois couleurs: Bleu) (1993)  Drama  \n",
       "2  Three Colors: Blue (Trois couleurs: Bleu) (1993)  Drama  \n",
       "3  Three Colors: Blue (Trois couleurs: Bleu) (1993)  Drama  \n",
       "4  Three Colors: Blue (Trois couleurs: Bleu) (1993)  Drama  "
      ]
     },
     "execution_count": 9,
     "metadata": {},
     "output_type": "execute_result"
    }
   ],
   "source": [
    "df = pd.read_csv('kaggle/input/movielens-fds/training.csv',index_col=0)\n",
    "\n",
    "\n",
    "grouped    = df.groupby('user_id', group_keys=False).apply(assign_to_set)\n",
    "df_train = df[grouped.for_testing == False]\n",
    "df_val   = df[grouped.for_testing == True]\n",
    "\n",
    "df.head()"
   ]
  },
  {
   "cell_type": "code",
   "execution_count": 7,
   "metadata": {
    "ExecuteTime": {
     "end_time": "2021-03-25T08:40:41.856008Z",
     "start_time": "2021-03-25T08:40:41.310298Z"
    },
    "execution": {
     "iopub.execute_input": "2021-03-23T19:06:26.341001Z",
     "iopub.status.busy": "2021-03-23T19:06:26.340425Z",
     "iopub.status.idle": "2021-03-23T19:06:27.888519Z",
     "shell.execute_reply": "2021-03-23T19:06:27.888014Z"
    },
    "papermill": {
     "duration": 1.557256,
     "end_time": "2021-03-23T19:06:27.888661",
     "exception": false,
     "start_time": "2021-03-23T19:06:26.331405",
     "status": "completed"
    },
    "tags": []
   },
   "outputs": [
    {
     "data": {
      "text/html": [
       "<div>\n",
       "<style scoped>\n",
       "    .dataframe tbody tr th:only-of-type {\n",
       "        vertical-align: middle;\n",
       "    }\n",
       "\n",
       "    .dataframe tbody tr th {\n",
       "        vertical-align: top;\n",
       "    }\n",
       "\n",
       "    .dataframe thead th {\n",
       "        text-align: right;\n",
       "    }\n",
       "</style>\n",
       "<table border=\"1\" class=\"dataframe\">\n",
       "  <thead>\n",
       "    <tr style=\"text-align: right;\">\n",
       "      <th></th>\n",
       "      <th>user_id</th>\n",
       "      <th>movie_id</th>\n",
       "      <th>title</th>\n",
       "      <th>genre</th>\n",
       "    </tr>\n",
       "  </thead>\n",
       "  <tbody>\n",
       "    <tr>\n",
       "      <th>0</th>\n",
       "      <td>1762</td>\n",
       "      <td>307</td>\n",
       "      <td>Three Colors: Blue (Trois couleurs: Bleu) (1993)</td>\n",
       "      <td>Drama</td>\n",
       "    </tr>\n",
       "    <tr>\n",
       "      <th>1</th>\n",
       "      <td>1762</td>\n",
       "      <td>67534</td>\n",
       "      <td>Big Stan (2007)</td>\n",
       "      <td>Comedy</td>\n",
       "    </tr>\n",
       "    <tr>\n",
       "      <th>2</th>\n",
       "      <td>1762</td>\n",
       "      <td>2317</td>\n",
       "      <td>Alarmist, The (a.k.a. Life During Wartime) (1997)</td>\n",
       "      <td>Comedy</td>\n",
       "    </tr>\n",
       "    <tr>\n",
       "      <th>3</th>\n",
       "      <td>1762</td>\n",
       "      <td>94011</td>\n",
       "      <td>Big Bang, The (2011)</td>\n",
       "      <td>Action|Thriller</td>\n",
       "    </tr>\n",
       "    <tr>\n",
       "      <th>4</th>\n",
       "      <td>1762</td>\n",
       "      <td>164725</td>\n",
       "      <td>The Cheetah Girls 2 (2006)</td>\n",
       "      <td>Children|Comedy|Drama</td>\n",
       "    </tr>\n",
       "  </tbody>\n",
       "</table>\n",
       "</div>"
      ],
      "text/plain": [
       "   user_id  movie_id                                              title  \\\n",
       "0     1762       307   Three Colors: Blue (Trois couleurs: Bleu) (1993)   \n",
       "1     1762     67534                                    Big Stan (2007)   \n",
       "2     1762      2317  Alarmist, The (a.k.a. Life During Wartime) (1997)   \n",
       "3     1762     94011                               Big Bang, The (2011)   \n",
       "4     1762    164725                         The Cheetah Girls 2 (2006)   \n",
       "\n",
       "                   genre  \n",
       "0                  Drama  \n",
       "1                 Comedy  \n",
       "2                 Comedy  \n",
       "3        Action|Thriller  \n",
       "4  Children|Comedy|Drama  "
      ]
     },
     "execution_count": 7,
     "metadata": {},
     "output_type": "execute_result"
    }
   ],
   "source": [
    "df_test = pd.read_csv('kaggle/input/movielens-fds/test.csv',index_col=0)\n",
    "df_test.head()"
   ]
  },
  {
   "cell_type": "code",
   "execution_count": 5,
   "metadata": {
    "execution": {
     "iopub.execute_input": "2021-03-23T19:06:27.930249Z",
     "iopub.status.busy": "2021-03-23T19:06:27.923406Z",
     "iopub.status.idle": "2021-03-23T19:06:28.037477Z",
     "shell.execute_reply": "2021-03-23T19:06:28.036736Z"
    },
    "papermill": {
     "duration": 0.141339,
     "end_time": "2021-03-23T19:06:28.037644",
     "exception": false,
     "start_time": "2021-03-23T19:06:27.896305",
     "status": "completed"
    },
    "tags": []
   },
   "outputs": [],
   "source": [
    "from scipy import sparse\n",
    "\n",
    "\n",
    "class RecSys_vanilla_mf_biases():\n",
    "    \"\"\" Collaborative filtering using a custom sim(u,u'). \"\"\"\n",
    "\n",
    "    def __init__(self,df_train,df_val, num_components=10):\n",
    "        \"\"\" Constructor \"\"\"\n",
    "        self.df_train = df_train\n",
    "        self.df_val = df_val\n",
    "        self.num_components=num_components\n",
    "        self.train = pd.pivot_table(self.df_train[['user_id','movie_id','rating']],columns='movie_id',index='user_id',values='rating')\n",
    "        \n",
    "        # We create a dictionary where we will store the user_id and movie_id which correspond \n",
    "        # to each index in the Rating matrix\n",
    "        \n",
    "        user_index = np.arange(len(self.train.index))\n",
    "        self.users = dict(zip(user_index,self.train.index ))\n",
    "        self.users_id2index = dict(zip(self.train.index,user_index)) \n",
    "        \n",
    "        movie_index = np.arange(len(self.train.columns))\n",
    "        self.movies = dict(zip(movie_index,self.train.columns )) \n",
    "        self.movies_id2index= dict(zip(self.train.columns, movie_index))\n",
    "        self.movies_index2id= dict(zip(movie_index,self.train.columns))\n",
    "        self.movie_id2title = dict(df.groupby(by=['movie_id','title']).count().index)\n",
    "    \n",
    "    def __sdg__(self):\n",
    "        for idx in self.training_indices:\n",
    "            u = self.sample_row[idx]\n",
    "            i = self.sample_col[idx]\n",
    "            user_id = self.users[u]\n",
    "            item_id = self.movies[i]\n",
    "            \n",
    "            prediction = self.predict(user_id, item_id)\n",
    "            error = (self.ratings[u,i] - prediction) # error\n",
    "            #Update latent factors\n",
    "            self.user_vecs[u, :] += self.learning_rate * \\\n",
    "                                    (error * self.item_vecs[i, :] - self.lmbda * self.user_vecs[u,:])\n",
    "            self.item_vecs[i, :] += self.learning_rate * \\\n",
    "                                    (error * self.user_vecs[u, :] - self.lmbda * self.item_vecs[i,:])\n",
    "            \n",
    "            self.bias_item[i] += self.learning_rate * (error - self.lmbda * self.bias_item[i]) \n",
    "            self.bias_user[u] += self.learning_rate * (error - self.lmbda * self.bias_user[u]) \n",
    "                \n",
    "                \n",
    "    def fit(self,n_epochs = 10,learning_rate =0.001,lmbda=0.1,verbose =True):\n",
    "        \"\"\" We decompose the R matrix into to submatrices using the training data \"\"\"\n",
    "        self.verbose = verbose\n",
    "        self.learning_rate = learning_rate\n",
    "        self.lmbda = lmbda\n",
    "        \n",
    "        self.ratings = np.float32(self.train.fillna(0).values)\n",
    "        self.mean_rating = self.ratings[self.ratings>0].mean() \n",
    "        self.n_users, self.n_items = self.train.shape\n",
    "        self.sample_row, self.sample_col = self.ratings.nonzero()\n",
    "        self.n_samples = len(self.sample_row)\n",
    "        \n",
    "        self.train_rmse =[]\n",
    "        self.test_rmse = []\n",
    "        iter_diff = 0\n",
    "        \n",
    "        # initialize latent vectors\n",
    "        self.user_vecs = np.random.normal(scale=1./self.num_components,\\\n",
    "                                          size=(self.n_users, self.num_components))\n",
    "        self.item_vecs = np.random.normal(scale=1./self.num_components,\n",
    "                                          size=(self.n_items, self.num_components))\n",
    "        self.bias_item = np.random.normal(scale=1/self.n_items,size=(self.n_items))\n",
    "        self.bias_user = np.random.normal(scale=1/self.n_users,size=(self.n_users))\n",
    "        \n",
    "\n",
    "        for epoch in range(n_epochs):\n",
    "            print('Epoch: {}'.format(epoch))\n",
    "            \n",
    "            self.training_indices = np.arange(self.n_samples)\n",
    "            \n",
    "            #shuffle training samples\n",
    "            np.random.shuffle(self.training_indices)\n",
    "            self.__sdg__()\n",
    "            \n",
    "            self.train_rmse.append(evaluate(self.predict,self.df_train))\n",
    "            self.test_rmse.append(evaluate(self.predict,self.df_val))\n",
    "            \n",
    "            \n",
    "            print('\\tTrain rmse: %s' % self.train_rmse[-1])\n",
    "            print('\\tTest rmse: %s' % self.test_rmse[-1])\n",
    "            \n",
    "        \n",
    "        if(self.verbose):\n",
    "            self.__plot_learning_curves__()\n",
    "    \n",
    "    def __plot_learning_curves__(self):\n",
    "        plt.plot(self.train_rmse,'--o',label=\"train_error\")\n",
    "        plt.plot(self.test_rmse,'--o',label=\"test_error\")\n",
    "        plt.legend()\n",
    "        plt.show()\n",
    "        \n",
    "    def predict(self, user_id, movie_id):\n",
    "        \"\"\" Single user and item prediction.\"\"\"\n",
    "        if(user_id in self.users_id2index):\n",
    "            user_index = self.users_id2index[user_id]\n",
    "        else:\n",
    "            return 3 #cold start user\n",
    "        if movie_id in self.movies_id2index:\n",
    "            item_index = self.movies_id2index[movie_id]\n",
    "            prediction =  self.mean_rating + self.user_vecs[user_index, :].dot(self.item_vecs[item_index, :].T) + self.bias_item[item_index] + self.bias_user[user_index]\n",
    "        else:\n",
    "            prediction = self.mean_rating # this is a new movie\n",
    "\n",
    "        return prediction\n",
    "    "
   ]
  },
  {
   "cell_type": "code",
   "execution_count": 7,
   "metadata": {
    "ExecuteTime": {
     "end_time": "2021-04-08T16:03:37.909926Z",
     "start_time": "2021-04-08T16:03:37.900932Z"
    }
   },
   "outputs": [
    {
     "data": {
      "text/plain": [
       "0.9486780275731066"
      ]
     },
     "execution_count": 7,
     "metadata": {},
     "output_type": "execute_result"
    }
   ],
   "source": [
    "np.sqrt(0.89999)"
   ]
  },
  {
   "cell_type": "code",
   "execution_count": 6,
   "metadata": {
    "execution": {
     "iopub.execute_input": "2021-03-23T19:06:28.070213Z",
     "iopub.status.busy": "2021-03-23T19:06:28.069536Z",
     "iopub.status.idle": "2021-03-23T19:10:25.303754Z",
     "shell.execute_reply": "2021-03-23T19:10:25.304470Z"
    },
    "papermill": {
     "duration": 237.25942,
     "end_time": "2021-03-23T19:10:25.304864",
     "exception": false,
     "start_time": "2021-03-23T19:06:28.045444",
     "status": "completed"
    },
    "tags": []
   },
   "outputs": [
    {
     "name": "stdout",
     "output_type": "stream",
     "text": [
      "Epoch: 0\n",
      "\tTrain rmse: 0.9151188055992497\n",
      "\tTest rmse: 0.9362395269544618\n",
      "Epoch: 1\n",
      "\tTrain rmse: 0.9028736088528077\n",
      "\tTest rmse: 0.9259989780488569\n",
      "Epoch: 2\n",
      "\tTrain rmse: 0.8971299009032024\n",
      "\tTest rmse: 0.9216920915040308\n",
      "Epoch: 3\n",
      "\tTrain rmse: 0.8938340844867382\n",
      "\tTest rmse: 0.9196295975213885\n",
      "Epoch: 4\n",
      "\tTrain rmse: 0.8914311620632174\n",
      "\tTest rmse: 0.9178114779031569\n"
     ]
    },
    {
     "data": {
      "image/png": "[encoded data removed]",
      "text/plain": [
       "<Figure size 432x288 with 1 Axes>"
      ]
     },
     "metadata": {
      "needs_background": "light"
     },
     "output_type": "display_data"
    },
    {
     "name": "stdout",
     "output_type": "stream",
     "text": [
      "RMSE for Collaborative Recomender: 0.9178114779031569\n"
     ]
    }
   ],
   "source": [
    "reco = RecSys_vanilla_mf_biases(df_train,df_val,num_components=5)\n",
    "reco.fit(n_epochs = 5,learning_rate=0.01,lmbda=0.5)\n",
    "print('RMSE for Collaborative Recomender: %s' % evaluate(reco.predict,df_val))"
   ]
  },
  {
   "cell_type": "code",
   "execution_count": 7,
   "metadata": {
    "execution": {
     "iopub.execute_input": "2021-03-23T19:10:25.349660Z",
     "iopub.status.busy": "2021-03-23T19:10:25.337676Z",
     "iopub.status.idle": "2021-03-23T19:10:35.327627Z",
     "shell.execute_reply": "2021-03-23T19:10:35.326691Z"
    },
    "papermill": {
     "duration": 10.012134,
     "end_time": "2021-03-23T19:10:35.327831",
     "exception": false,
     "start_time": "2021-03-23T19:10:25.315697",
     "status": "completed"
    },
    "tags": []
   },
   "outputs": [],
   "source": [
    "#estimate all pairs of user_id/movie_id from the test set\n",
    "ids_to_estimate = zip(df_test.user_id, df_test.movie_id)\n",
    "estimated = np.array([reco.predict(u,i) for (u,i) in ids_to_estimate ])\n",
    "\n",
    "# generate the submission file\n",
    "df_test['estimated'] = estimated\n",
    "df_test.sort_values(by='estimated',ascending=False)[['user_id','movie_id']].to_csv('baseline_submision.csv',index=None)"
   ]
  },
  {
   "cell_type": "code",
   "execution_count": null,
   "metadata": {
    "papermill": {
     "duration": 0.010398,
     "end_time": "2021-03-23T19:10:35.349432",
     "exception": false,
     "start_time": "2021-03-23T19:10:35.339034",
     "status": "completed"
    },
    "tags": []
   },
   "outputs": [],
   "source": []
  }
 ],
 "metadata": {
  "kernelspec": {
   "display_name": "Python 3",
   "language": "python",
   "name": "python3"
  },
  "language_info": {
   "codemirror_mode": {
    "name": "ipython",
    "version": 3
   },
   "file_extension": ".py",
   "mimetype": "text/x-python",
   "name": "python",
   "nbconvert_exporter": "python",
   "pygments_lexer": "ipython3",
   "version": "3.8.3"
  },
  "papermill": {
   "default_parameters": {},
   "duration": 270.695847,
   "end_time": "2021-03-23T19:10:35.969723",
   "environment_variables": {},
   "exception": null,
   "input_path": "__notebook__.ipynb",
   "output_path": "__notebook__.ipynb",
   "parameters": {},
   "start_time": "2021-03-23T19:06:05.273876",
   "version": "2.2.2"
  }
 },
 "nbformat": 4,
 "nbformat_minor": 4
}
