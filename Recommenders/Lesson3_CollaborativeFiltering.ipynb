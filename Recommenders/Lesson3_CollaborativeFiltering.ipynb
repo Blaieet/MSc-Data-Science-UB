{
 "cells": [
  {
   "cell_type": "markdown",
   "metadata": {},
   "source": [
    "<small><i>Updated February 2021 - This notebook was created by [Santi Seguí](https://ssegui.github.io/). </i></small>\n",
    "\n",
    "<div class=\"alert alert-success\" style = \"border-radius:10px;border-width:3px;border-color:darkgreen;font-family:Verdana,sans-serif;font-size:16px;\"><a class=\"anchor\" id=\"what-is-a-recommender\"></a><h3>Collaborative-based recommender systems</h3><br></div>\n",
    "\n",
    "\n",
    "Given an \"active user\" (Santi) and an item that has not been seen by the user, the goal is to estimate the rating for the item.\n",
    "<table style=\"width:60%\">\n",
    "  <tr>\n",
    "    <td></td>\n",
    "    <td>Superman</td> \n",
    "    <td>Star Wars 1</td>\n",
    "    <td>Matrix</td>\n",
    "    <td>Spiderman</td>\n",
    "    \n",
    "  </tr>\n",
    "  <tr>\n",
    "    <td>Santi</td>\n",
    "    <td>3</td> \n",
    "    <td>3.5</td>\n",
    "    <td>4.5</td>\n",
    "    <td><font color=\"red\"><b>¿?</b></font></td>\n",
    "  </tr>\n",
    "  <tr>\n",
    "    <td>Jake</td>\n",
    "    <td>3.5</td> \n",
    "    <td>4</td>\n",
    "    <td>5</td>\n",
    "    <td>5</td>\n",
    "  </tr>\n",
    "  <tr>\n",
    "    <td>Anne</td>\n",
    "    <td>3</td> \n",
    "    <td><font color=\"red\"><b>¿?</b></font></td>\n",
    "    <td>4.5</td>\n",
    "    <td>3</td>\n",
    "  </tr>\n",
    "  <tr>\n",
    "    <td>Caroline</td>\n",
    "    <td>3.5</td> \n",
    "    <td>5</td>\n",
    "    <td>3.5</td>\n",
    "    <td>2</td>\n",
    "  </tr>\n",
    "</table>\n",
    "\n",
    "<br><br><br><br>\n",
    "\n",
    "<h3>How to measure similarity between users?</h3>\n",
    "The computation of the similarity between the items is one critical step in the CF algorithms. The basic idea in similarity computation between two users <i>a</i> and <i>b</i> is to first isolate the items commonly rated by both users (set <i>P</i>), and then to apply a similarity computation technique to determine the similarity.\n",
    "    <ul>\n",
    "    <li>Euclidean distance</li>\n",
    "    $$sim(a,b) = 1 /(1+\\sqrt{\\sum_{p \\in P}{(r_{a,p} - r_{b,p})^2}})$$\n",
    "    <br>\n",
    "    <li>Pearson Correlation</li>\n",
    "    $$sim(a,b) = \\frac{\\sum_{p\\in P} (r_{a,p}-\\bar{r_a})(r_{b,p}-\\bar{r_b})}{\\sqrt{\\sum_{p \\in P}(r_{a,p}-\\bar{r_a})²}\\sqrt{\\sum_{p \\in P}(r_{b,p}-\\bar{r_b})²}}$$\n",
    "    <br>\n",
    "    <li>Cosine distance</li>\n",
    "    $$ sim(a,b) = \\frac{\\vec{a}· \\vec{b}}{|\\vec{a}| * |\\vec{b}|}$$\n",
    "    <br>\n",
    "    </ul>\n",
    "  \n",
    "<br>\n",
    "Where: \n",
    "\n",
    "* $sim(a,b)$ is the similarity between user \"a\" and user \"b\"\n",
    "* $P$ is the set of common rated movies by user \"a\" and \"b\"\n",
    "* $r_{a,p}$ is the rating of movie \"p\" by user \"a\"\n",
    "* $\\bar{r_a}$ is the mean rating given by user \"a\"\n",
    "\n",
    "<br>\n",
    "\n",
    "<h3>Some issues to take into accout</h3>\n",
    "<ul>\n",
    "<li>Pearson Correlation used to work better than euclidean distance since it is based more on the ranking than on the values.</li>\n",
    "<li>Cosine distance is usually used when our data is binary/unary, i.e. like vs. not like  or buy vs. not buy.</li>\n",
    "<li>What happens if two users have very few items in common?</li>\n",
    "</ul>\n",
    "\n",
    "\n",
    "<h3>How do we generate a prediction from the neighbour's ratings?</h3><br>\n",
    "\n",
    "$$pred(a,p) = \\frac{\\sum_{b \\in N}{sim(a,b)*(r_{b,p})}}{\\sum_{b \\in N}{sim(a,b)}}$$\n",
    "\n",
    "Example:\n",
    "<br>\n",
    "<table style=\"width:100%\">\n",
    "  <tr>\n",
    "    <td>Critic</td>\n",
    "    <td>$sim(a,b)$</td> \n",
    "    <td>Rating Movie1: $r_{b,p_1}$</td>\n",
    "    <td>$sim(a,b)*(r_{b,p_1})$</td>\n",
    "    <td>Rating Movie2: $r_{b,p_2}$</td>\n",
    "    <td>$sim(a,b)*(r_{b,p_2})$</td>\n",
    "    \n",
    "  </tr>\n",
    "  <tr>\n",
    "    <td>User1</td>\n",
    "    <td>0.99</td> \n",
    "    <td>3</td>\n",
    "    <td>2.97</td>\n",
    "    <td>2.5</td>\n",
    "    <td>2.48</td>\n",
    "    \n",
    "  </tr>\n",
    "  <tr>\n",
    "    <td>User2</td>\n",
    "    <td>0.38</td> \n",
    "    <td>3</td>\n",
    "    <td>1.14</td>\n",
    "    <td>3</td>\n",
    "    <td>1.14</td>\n",
    "  </tr>\n",
    "  <tr>\n",
    "    <td>User3</td>\n",
    "    <td>0.89</td>\n",
    "    <td>4.5</td>\n",
    "    <td>4.0</td>\n",
    "    <td> - </td>\n",
    "    <td> - </td>\n",
    "  </tr>\n",
    "  <tr>\n",
    "    <td>User4</td>\n",
    "    <td>0.92</td>\n",
    "    <td>3</td>\n",
    "    <td>2.77</td>\n",
    "    <td>3</td>\n",
    "    <td>2.77</td>\n",
    "  </tr>\n",
    "  <tr>\n",
    "    <td>$\\sum_{b \\in N}{sim(a,b)*(r_{b,p})}$</td>\n",
    "    <td></td> \n",
    "    <td></td>\n",
    "    <td>10.87</td>\n",
    "    <td></td>\n",
    "    <td>6.39</td>\n",
    "  </tr>\n",
    "  <tr>\n",
    "    <td>$\\sum_{b \\in N}{sim(a,b)}$</td>\n",
    "    <td></td> \n",
    "    <td></td>\n",
    "    <td>3.18</td>\n",
    "    <td></td>\n",
    "    <td>2.29</td>\n",
    "  </tr>\n",
    "  <tr>\n",
    "  <td>$pred(a,p)$</td>\n",
    "    <td></td> \n",
    "    <td></td>\n",
    "    <td>3.41</td>\n",
    "    <td></td>\n",
    "    <td>2.79</td>\n",
    "  </tr>\n",
    "</table>\n",
    "\n",
    "\n",
    "<br>\n",
    "<h3><br><b>How improve this prediction function?</b></h3>\n",
    "<h4> 1) Normalization: Predicitions scaled to the user domain.</h4><br>\n",
    "Users rate differntly, some rate high, while other low. This is the prediction function that was used in the original in Netflix system. Using this function we are scaling the prediction to our mean.<br>\n",
    "\n",
    "$$pred(a,p) = \\bar{r_a} + \\frac{\\sum_{b \\in N}{sim(a,b)*(r_{b,p}-\\bar{r_b})}}{\\sum_{b \\in N}{sim(a,b)}}$$\n",
    "<br>\n",
    "\n",
    "\n",
    "Example:<br>\n",
    "Preciction for the user \"a\" with  $\\bar{r_a} = 3.5$\n",
    "<table style=\"width:100%\">\n",
    "  <tr>\n",
    "    <td>Critic</td>\n",
    "    <td>$sim(a,b)$</td> \n",
    "    <td>Mean Ratings: $\\bar{r_b}$</td>\n",
    "    <td>Rating Movie1: $r_{b,p_1}$</td>\n",
    "    <td>$sim(a,b)*(r_{b,p_1}-\\bar{r_b})$</td>\n",
    "\n",
    "    \n",
    "  </tr>\n",
    "  <tr>\n",
    "    <td>User1</td>\n",
    "    <td>0.99</td> \n",
    "    <td>4.3</td> \n",
    "    <td>3</td>\n",
    "    <td>-1.28</td>\n",
    "\n",
    "    \n",
    "  </tr>\n",
    "  <tr>\n",
    "    <td>User2</td>\n",
    "    <td>0.38</td> \n",
    "    <td>2.73</td> \n",
    "    <td>3</td>\n",
    "    <td>0.10</td>\n",
    "\n",
    "  </tr>\n",
    "  <tr>\n",
    "    <td>User3</td>\n",
    "    <td>0.89</td>\n",
    "    <td>3.12</td>  \n",
    "    <td>4.5</td>\n",
    "    <td>1.22</td>\n",
    "\n",
    "  </tr>\n",
    "  <tr>\n",
    "    <td>User4</td>\n",
    "    <td>0.92</td>\n",
    "    <td>3.98</td>  \n",
    "    <td>3</td>\n",
    "    <td>-0.90</td>\n",
    "\n",
    "  </tr>\n",
    "  <tr>\n",
    "    <td>$\\sum_{b \\in N}{sim(a,b)*(r_{b,p}-\\bar{r_b})}$</td>\n",
    "    <td></td> \n",
    "    <td></td>\n",
    "    <td></td>\n",
    "    <td>-1.13</td>\n",
    "\n",
    "  </tr>\n",
    "  <tr>\n",
    "    <td>$\\sum_{b \\in N}{sim(a,b)}$</td>\n",
    "    <td></td> \n",
    "    <td></td>\n",
    "    <td></td>\n",
    "    <td>3.84</td>\n",
    "\n",
    "  </tr>\n",
    "  <tr>\n",
    "  <td>$pred(a,p)$</td>\n",
    "    <td></td> \n",
    "    <td></td>\n",
    "    <td></td>\n",
    "    <td>3.20</td>\n",
    "\n",
    "  </tr>\n",
    "</table>\n",
    "\n",
    "<h4> 2) Not all neighbor rating might be equally.</h4><br>\n",
    "Agreeement on commonly liked items is not as important as agreeement on controversial items. we can give a weigth correlated with the rating variance.\n",
    "\n",
    "<h4> 3) Value of number of co-rated items</h4>\n",
    "Reduce the similarity between users when the number of co-rated items is low or discard those users with a small number of co-rated items\n",
    "\n",
    "<h4> 4) Case amplificiation </h4>\n",
    "Increase the weigth to those users which are really really similars (~= 1)\n",
    "\n",
    "<h4> 5) Neighborhood selection</h4>\n",
    "Only a subset of similar user used to be used. Not-similar users used to be discarded\n",
    "\n",
    "<h4> 6) Recursive Methods</h4>\n",
    "In order to avoid cold-start we can apply a recursive method for new users.\n",
    "\n",
    "\n",
    "\n",
    "\n",
    "<h3>Problems:</h3><br>\n",
    "<ul>\n",
    "<li>\"Memory-based\" approach</li>\n",
    "<li>Need to be trained offline and updateted periodically</li>\n",
    "</ul>"
   ]
  },
  {
   "cell_type": "markdown",
   "metadata": {},
   "source": [
    "<h3>Evaluation: performance criterion</h3>\n",
    "Performance evaluation of recommendation systems is an entire topic all in itself. Some of the options include:<br>\n",
    "* $RMSE = \\sqrt{(\\frac{\\sum(\\hat{y}-y)^2}{n})}$\n",
    "<br>\n",
    "* Precision / Recall / F-scores\n",
    "* ROC curves\n",
    "* Cost curves"
   ]
  },
  {
   "cell_type": "code",
   "execution_count": 1,
   "metadata": {},
   "outputs": [],
   "source": [
    "def compute_rmse(y_pred, y_true):\n",
    "    \"\"\" Compute Root Mean Squared Error. \"\"\"\n",
    "    return np.sqrt(np.mean(np.power(y_pred - y_true, 2)))"
   ]
  },
  {
   "cell_type": "markdown",
   "metadata": {},
   "source": [
    "<h5>Download Movilens Database</h5>\n",
    "There is three different version of the database containing 100k, 1m and 10m ratings. We can download the smallest version for this demo.\n",
    "http://grouplens.org/datasets/movielens/\n",
    "\n"
   ]
  },
  {
   "cell_type": "code",
   "execution_count": 2,
   "metadata": {
    "scrolled": true
   },
   "outputs": [
    {
     "data": {
      "application/javascript": [
       "IPython.notebook.set_autosave_interval(150000)"
      ]
     },
     "metadata": {},
     "output_type": "display_data"
    },
    {
     "name": "stdout",
     "output_type": "stream",
     "text": [
      "Autosaving every 150 seconds\n",
      "La BD has 100000 ratings\n",
      "La BD has  943  users\n",
      "La BD has  1682  movies\n"
     ]
    },
    {
     "data": {
      "text/html": [
       "<div>\n",
       "<style scoped>\n",
       "    .dataframe tbody tr th:only-of-type {\n",
       "        vertical-align: middle;\n",
       "    }\n",
       "\n",
       "    .dataframe tbody tr th {\n",
       "        vertical-align: top;\n",
       "    }\n",
       "\n",
       "    .dataframe thead th {\n",
       "        text-align: right;\n",
       "    }\n",
       "</style>\n",
       "<table border=\"1\" class=\"dataframe\">\n",
       "  <thead>\n",
       "    <tr style=\"text-align: right;\">\n",
       "      <th></th>\n",
       "      <th>user_id</th>\n",
       "      <th>title</th>\n",
       "      <th>movie_id</th>\n",
       "      <th>rating</th>\n",
       "      <th>release_date</th>\n",
       "      <th>sex</th>\n",
       "      <th>age</th>\n",
       "    </tr>\n",
       "  </thead>\n",
       "  <tbody>\n",
       "    <tr>\n",
       "      <th>0</th>\n",
       "      <td>196</td>\n",
       "      <td>Kolya (1996)</td>\n",
       "      <td>242</td>\n",
       "      <td>3</td>\n",
       "      <td>24-Jan-1997</td>\n",
       "      <td>M</td>\n",
       "      <td>49</td>\n",
       "    </tr>\n",
       "    <tr>\n",
       "      <th>1</th>\n",
       "      <td>305</td>\n",
       "      <td>Kolya (1996)</td>\n",
       "      <td>242</td>\n",
       "      <td>5</td>\n",
       "      <td>24-Jan-1997</td>\n",
       "      <td>M</td>\n",
       "      <td>23</td>\n",
       "    </tr>\n",
       "    <tr>\n",
       "      <th>2</th>\n",
       "      <td>6</td>\n",
       "      <td>Kolya (1996)</td>\n",
       "      <td>242</td>\n",
       "      <td>4</td>\n",
       "      <td>24-Jan-1997</td>\n",
       "      <td>M</td>\n",
       "      <td>42</td>\n",
       "    </tr>\n",
       "    <tr>\n",
       "      <th>3</th>\n",
       "      <td>234</td>\n",
       "      <td>Kolya (1996)</td>\n",
       "      <td>242</td>\n",
       "      <td>4</td>\n",
       "      <td>24-Jan-1997</td>\n",
       "      <td>M</td>\n",
       "      <td>60</td>\n",
       "    </tr>\n",
       "    <tr>\n",
       "      <th>4</th>\n",
       "      <td>63</td>\n",
       "      <td>Kolya (1996)</td>\n",
       "      <td>242</td>\n",
       "      <td>3</td>\n",
       "      <td>24-Jan-1997</td>\n",
       "      <td>M</td>\n",
       "      <td>31</td>\n",
       "    </tr>\n",
       "  </tbody>\n",
       "</table>\n",
       "</div>"
      ],
      "text/plain": [
       "   user_id         title  movie_id  rating release_date sex  age\n",
       "0      196  Kolya (1996)       242       3  24-Jan-1997   M   49\n",
       "1      305  Kolya (1996)       242       5  24-Jan-1997   M   23\n",
       "2        6  Kolya (1996)       242       4  24-Jan-1997   M   42\n",
       "3      234  Kolya (1996)       242       4  24-Jan-1997   M   60\n",
       "4       63  Kolya (1996)       242       3  24-Jan-1997   M   31"
      ]
     },
     "execution_count": 2,
     "metadata": {},
     "output_type": "execute_result"
    }
   ],
   "source": [
    "#NETFLIX REAL 50.000.000 usuaris and 100.000 items\n",
    "%autosave 150\n",
    "%matplotlib inline\n",
    "import pandas as pd\n",
    "import numpy as np\n",
    "import math\n",
    "import matplotlib.pylab as plt\n",
    "\n",
    "# Load Data set\n",
    "u_cols = ['user_id', 'age', 'sex', 'occupation', 'zip_code']\n",
    "users = pd.read_csv('../data/ml-100k/u.user', sep='|', names=u_cols)\n",
    "\n",
    "r_cols = ['user_id', 'movie_id', 'rating', 'unix_timestamp']\n",
    "ratings = pd.read_csv('../data/ml-100k/u.data', sep='\\t', names=r_cols)\n",
    "\n",
    "# the movies file contains columns indicating the movie's genres\n",
    "# let's only load the first three columns of the file with usecols\n",
    "m_cols = ['movie_id', 'title', 'release_date']\n",
    "movies = pd.read_csv('../data/ml-100k/u.item', sep='|', names=m_cols, usecols=range(3), encoding='latin-1')\n",
    "\n",
    "# Construcció del DataFrame\n",
    "data = pd.merge(pd.merge(ratings, users), movies)\n",
    "data = data[['user_id','title', 'movie_id','rating','release_date','sex','age']]\n",
    "\n",
    "\n",
    "print(\"La BD has \"+ str(data.shape[0]) +\" ratings\")\n",
    "print(\"La BD has \", data.user_id.nunique(),\" users\")\n",
    "print(\"La BD has \", data.movie_id.nunique(), \" movies\")\n",
    "data.head()\n"
   ]
  },
  {
   "cell_type": "markdown",
   "metadata": {},
   "source": [
    "##### Divide the data in two sets: training and test"
   ]
  },
  {
   "cell_type": "code",
   "execution_count": 3,
   "metadata": {},
   "outputs": [
    {
     "name": "stdout",
     "output_type": "stream",
     "text": [
      "(79619, 8)\n",
      "(20381, 8)\n",
      "Int64Index([], dtype='int64')\n",
      "Training data_set has 79619 ratings\n",
      "Test data set has 20381 ratings\n",
      "La BD has  1682  movies\n"
     ]
    }
   ],
   "source": [
    "def assign_to_set(df):\n",
    "    sampled_ids = np.random.choice(df.index,\n",
    "                                   size=np.int64(np.ceil(df.index.size * 0.2)),\n",
    "                                   replace=False)\n",
    "    df.loc[sampled_ids, 'for_testing'] = True\n",
    "    return df\n",
    "\n",
    "data['for_testing'] = False\n",
    "grouped = data.groupby('user_id', group_keys=False).apply(assign_to_set)\n",
    "data_train = data[grouped.for_testing == False]\n",
    "data_test = data[grouped.for_testing == True]\n",
    "print(data_train.shape)\n",
    "print(data_test.shape)\n",
    "print(data_train.index & data_test.index)\n",
    "\n",
    "print(\"Training data_set has \"+ str(data_train.shape[0]) +\" ratings\")\n",
    "print(\"Test data set has \"+ str(data_test.shape[0]) +\" ratings\")\n",
    "print(\"La BD has \", data.movie_id.nunique(), \" movies\")\n"
   ]
  },
  {
   "cell_type": "markdown",
   "metadata": {},
   "source": [
    "##### How to get the set of movies from user with id  \"1\"?"
   ]
  },
  {
   "cell_type": "code",
   "execution_count": 4,
   "metadata": {},
   "outputs": [
    {
     "data": {
      "text/html": [
       "<div>\n",
       "<style scoped>\n",
       "    .dataframe tbody tr th:only-of-type {\n",
       "        vertical-align: middle;\n",
       "    }\n",
       "\n",
       "    .dataframe tbody tr th {\n",
       "        vertical-align: top;\n",
       "    }\n",
       "\n",
       "    .dataframe thead th {\n",
       "        text-align: right;\n",
       "    }\n",
       "</style>\n",
       "<table border=\"1\" class=\"dataframe\">\n",
       "  <thead>\n",
       "    <tr style=\"text-align: right;\">\n",
       "      <th></th>\n",
       "      <th>user_id</th>\n",
       "      <th>title</th>\n",
       "      <th>movie_id</th>\n",
       "      <th>rating</th>\n",
       "      <th>release_date</th>\n",
       "      <th>sex</th>\n",
       "      <th>age</th>\n",
       "      <th>for_testing</th>\n",
       "    </tr>\n",
       "  </thead>\n",
       "  <tbody>\n",
       "    <tr>\n",
       "      <th>14</th>\n",
       "      <td>1</td>\n",
       "      <td>Kolya (1996)</td>\n",
       "      <td>242</td>\n",
       "      <td>5</td>\n",
       "      <td>24-Jan-1997</td>\n",
       "      <td>M</td>\n",
       "      <td>24</td>\n",
       "      <td>False</td>\n",
       "    </tr>\n",
       "    <tr>\n",
       "      <th>417</th>\n",
       "      <td>1</td>\n",
       "      <td>Shall We Dance? (1996)</td>\n",
       "      <td>251</td>\n",
       "      <td>4</td>\n",
       "      <td>11-Jul-1997</td>\n",
       "      <td>M</td>\n",
       "      <td>24</td>\n",
       "      <td>False</td>\n",
       "    </tr>\n",
       "    <tr>\n",
       "      <th>708</th>\n",
       "      <td>1</td>\n",
       "      <td>Ace Ventura: Pet Detective (1994)</td>\n",
       "      <td>67</td>\n",
       "      <td>3</td>\n",
       "      <td>01-Jan-1994</td>\n",
       "      <td>M</td>\n",
       "      <td>24</td>\n",
       "      <td>False</td>\n",
       "    </tr>\n",
       "    <tr>\n",
       "      <th>940</th>\n",
       "      <td>1</td>\n",
       "      <td>Raising Arizona (1987)</td>\n",
       "      <td>238</td>\n",
       "      <td>4</td>\n",
       "      <td>01-Jan-1987</td>\n",
       "      <td>M</td>\n",
       "      <td>24</td>\n",
       "      <td>False</td>\n",
       "    </tr>\n",
       "    <tr>\n",
       "      <th>2363</th>\n",
       "      <td>1</td>\n",
       "      <td>Home Alone (1990)</td>\n",
       "      <td>94</td>\n",
       "      <td>2</td>\n",
       "      <td>01-Jan-1990</td>\n",
       "      <td>M</td>\n",
       "      <td>24</td>\n",
       "      <td>False</td>\n",
       "    </tr>\n",
       "  </tbody>\n",
       "</table>\n",
       "</div>"
      ],
      "text/plain": [
       "      user_id                              title  movie_id  rating  \\\n",
       "14          1                       Kolya (1996)       242       5   \n",
       "417         1             Shall We Dance? (1996)       251       4   \n",
       "708         1  Ace Ventura: Pet Detective (1994)        67       3   \n",
       "940         1             Raising Arizona (1987)       238       4   \n",
       "2363        1                  Home Alone (1990)        94       2   \n",
       "\n",
       "     release_date sex  age  for_testing  \n",
       "14    24-Jan-1997   M   24        False  \n",
       "417   11-Jul-1997   M   24        False  \n",
       "708   01-Jan-1994   M   24        False  \n",
       "940   01-Jan-1987   M   24        False  \n",
       "2363  01-Jan-1990   M   24        False  "
      ]
     },
     "execution_count": 4,
     "metadata": {},
     "output_type": "execute_result"
    }
   ],
   "source": [
    "data_train[data_train.user_id==1].head(5)"
   ]
  },
  {
   "cell_type": "markdown",
   "metadata": {},
   "source": [
    "##### Mean Rating of movies seen by user \"1\""
   ]
  },
  {
   "cell_type": "code",
   "execution_count": 5,
   "metadata": {},
   "outputs": [
    {
     "data": {
      "text/plain": [
       "3.5668202764976957"
      ]
     },
     "execution_count": 5,
     "metadata": {},
     "output_type": "execute_result"
    }
   ],
   "source": [
    "data_train[data_train.user_id==1].rating.mean()"
   ]
  },
  {
   "cell_type": "markdown",
   "metadata": {},
   "source": [
    "##### Mean rating of movie with title \"Seven (Se7en) (1995)\""
   ]
  },
  {
   "cell_type": "code",
   "execution_count": 6,
   "metadata": {},
   "outputs": [
    {
     "data": {
      "text/plain": [
       "3.841463414634146"
      ]
     },
     "execution_count": 6,
     "metadata": {},
     "output_type": "execute_result"
    }
   ],
   "source": [
    "data_train.rating[data_train.title==\"Seven (Se7en) (1995)\"].mean()"
   ]
  },
  {
   "cell_type": "markdown",
   "metadata": {},
   "source": [
    "##### Which are the 10 most rated movies?"
   ]
  },
  {
   "cell_type": "code",
   "execution_count": 7,
   "metadata": {},
   "outputs": [
    {
     "data": {
      "text/plain": [
       "title\n",
       "Star Wars (1977)                 463\n",
       "Fargo (1996)                     415\n",
       "Contact (1997)                   408\n",
       "Return of the Jedi (1983)        406\n",
       "English Patient, The (1996)      383\n",
       "Liar Liar (1997)                 383\n",
       "Scream (1996)                    362\n",
       "Toy Story (1995)                 359\n",
       "Independence Day (ID4) (1996)    348\n",
       "Godfather, The (1972)            336\n",
       "dtype: int64"
      ]
     },
     "execution_count": 7,
     "metadata": {},
     "output_type": "execute_result"
    }
   ],
   "source": [
    "data_train.groupby('title').size().sort_values(ascending=False).head(10)"
   ]
  },
  {
   "cell_type": "markdown",
   "metadata": {},
   "source": [
    "##### Which are the 10 movies with the highest score"
   ]
  },
  {
   "cell_type": "code",
   "execution_count": 8,
   "metadata": {},
   "outputs": [
    {
     "data": {
      "text/plain": [
       "title\n",
       "They Made Me a Criminal (1939)                       5.0\n",
       "Entertaining Angels: The Dorothy Day Story (1996)    5.0\n",
       "Tough and Deadly (1995)                              5.0\n",
       "Santa with Muscles (1996)                            5.0\n",
       "Some Mother's Son (1996)                             5.0\n",
       "Star Kid (1997)                                      5.0\n",
       "Saint of Fort Washington, The (1993)                 5.0\n",
       "Two or Three Things I Know About Her (1966)          5.0\n",
       "Prefontaine (1997)                                   5.0\n",
       "Marlene Dietrich: Shadow and Light (1996)            5.0\n",
       "Name: rating, dtype: float64"
      ]
     },
     "execution_count": 8,
     "metadata": {},
     "output_type": "execute_result"
    }
   ],
   "source": [
    "data_train.groupby('title').rating.mean().sort_values(ascending=False).head(10)"
   ]
  },
  {
   "cell_type": "code",
   "execution_count": 9,
   "metadata": {},
   "outputs": [
    {
     "data": {
      "text/plain": [
       "title\n",
       "Marlene Dietrich: Shadow and Light (1996)            5.0\n",
       "Prefontaine (1997)                                   5.0\n",
       "Two or Three Things I Know About Her (1966)          5.0\n",
       "Saint of Fort Washington, The (1993)                 5.0\n",
       "Star Kid (1997)                                      5.0\n",
       "Some Mother's Son (1996)                             5.0\n",
       "Santa with Muscles (1996)                            5.0\n",
       "Tough and Deadly (1995)                              5.0\n",
       "Entertaining Angels: The Dorothy Day Story (1996)    5.0\n",
       "They Made Me a Criminal (1939)                       5.0\n",
       "Name: rating, dtype: float64"
      ]
     },
     "execution_count": 9,
     "metadata": {},
     "output_type": "execute_result"
    }
   ],
   "source": [
    "data_train.groupby('title').rating.mean().sort_values().tail(10)"
   ]
  },
  {
   "cell_type": "markdown",
   "metadata": {},
   "source": [
    "##### Top movies rated more than 10 times"
   ]
  },
  {
   "cell_type": "code",
   "execution_count": 10,
   "metadata": {},
   "outputs": [
    {
     "data": {
      "text/plain": [
       "title\n",
       "Close Shave, A (1995)               4.505263\n",
       "Casablanca (1942)                   4.490099\n",
       "Schindler's List (1993)             4.487288\n",
       "Wrong Trousers, The (1993)          4.452381\n",
       "Shawshank Redemption, The (1994)    4.441964\n",
       "Name: rating, dtype: float64"
      ]
     },
     "execution_count": 10,
     "metadata": {},
     "output_type": "execute_result"
    }
   ],
   "source": [
    "size = data_train.groupby('title').size()\n",
    "mean_score = data_train.groupby('title').rating.mean()\n",
    "mean_score[size>10].sort_values(ascending=False).head()"
   ]
  },
  {
   "cell_type": "markdown",
   "metadata": {},
   "source": [
    "##### Which is the distibution of rated movies per user?"
   ]
  },
  {
   "cell_type": "code",
   "execution_count": 11,
   "metadata": {},
   "outputs": [
    {
     "data": {
      "text/plain": [
       "<matplotlib.axes._subplots.AxesSubplot at 0x7ffc917ab2b0>"
      ]
     },
     "execution_count": 11,
     "metadata": {},
     "output_type": "execute_result"
    },
    {
     "data": {
      "image/png": "[encoded data removed]",
      "text/plain": [
       "<Figure size 432x288 with 1 Axes>"
      ]
     },
     "metadata": {
      "needs_background": "light"
     },
     "output_type": "display_data"
    }
   ],
   "source": [
    "rated_movies = data_train.groupby('user_id').size().sort_values(ascending=False)\n",
    "rated_movies.hist(bins=100)\n"
   ]
  },
  {
   "cell_type": "code",
   "execution_count": 12,
   "metadata": {},
   "outputs": [
    {
     "name": "stdout",
     "output_type": "stream",
     "text": [
      "Max puntuation of user 2 is: 5\n",
      "32                        Kolya (1996)\n",
      "424             Shall We Dance? (1996)\n",
      "4627             Secrets & Lies (1996)\n",
      "6455          L.A. Confidential (1997)\n",
      "11911                     Fargo (1996)\n",
      "32768            Godfather, The (1972)\n",
      "33462                 Star Wars (1977)\n",
      "55954                   Titanic (1997)\n",
      "58130    Wings of the Dove, The (1997)\n",
      "63360     Sense and Sensibility (1995)\n",
      "71232         Good Will Hunting (1997)\n",
      "78981                      Emma (1996)\n",
      "82001        As Good As It Gets (1997)\n",
      "Name: title, dtype: object\n"
     ]
    }
   ],
   "source": [
    "def top_movies(dataFrame,usr):\n",
    "    max_i = dataFrame[dataFrame.user_id == usr].rating.max() \n",
    "    print(\"Max puntuation of user\", usr, \"is:\", max_i)\n",
    "    return dataFrame[(dataFrame['user_id'] == usr) & (dataFrame['rating'] == max_i )].title\n",
    "\n",
    "print(top_movies(data,2))"
   ]
  },
  {
   "cell_type": "markdown",
   "metadata": {},
   "source": [
    "##### <h5>Which is the similarity between user 1 and user 2?</h5> <h6>Let's look first for the common seen movies by the users </h6>"
   ]
  },
  {
   "cell_type": "code",
   "execution_count": 13,
   "metadata": {},
   "outputs": [
    {
     "name": "stdout",
     "output_type": "stream",
     "text": [
      "\n",
      "Number of common movies 12 \n",
      "\n",
      "                        title  rating\n",
      "14               Kolya (1996)       5\n",
      "417    Shall We Dance? (1996)       4\n",
      "3479      Men in Black (1997)       4\n",
      "5247  Mighty Aphrodite (1995)       5\n",
      "6080   Full Monty, The (1997)       5\n",
      "                        title  rating\n",
      "32               Kolya (1996)       5\n",
      "424    Shall We Dance? (1996)       5\n",
      "3510      Men in Black (1997)       4\n",
      "5270  Mighty Aphrodite (1995)       4\n",
      "6129   Full Monty, The (1997)       4\n"
     ]
    }
   ],
   "source": [
    "# dataframe with the data from user 1\n",
    "data_user_1 = data_train[data_train.user_id==1]\n",
    "# dataframe with the data from user 2\n",
    "data_user_2 = data_train[data_train.user_id==2]\n",
    "# We first compute the set of common movies\n",
    "common_movies = set(data_user_1.movie_id).intersection(data_user_2.movie_id)\n",
    "print(\"\\nNumber of common movies\",len(common_movies),'\\n')\n",
    "\n",
    "# creat the subdataframe with only with the common movies\n",
    "mask = (data_user_1.movie_id.isin(common_movies))\n",
    "data_user_1 = data_user_1[mask]\n",
    "print(data_user_1[['title','rating']].head())\n",
    "\n",
    "mask = (data_user_2.movie_id.isin(common_movies))\n",
    "data_user_2 = data_user_2[mask]\n",
    "print(data_user_2[['title','rating']].head())\n"
   ]
  },
  {
   "cell_type": "code",
   "execution_count": 14,
   "metadata": {},
   "outputs": [
    {
     "data": {
      "text/plain": [
       "(0     5\n",
       " 1     4\n",
       " 2     4\n",
       " 3     5\n",
       " 4     5\n",
       " 5     5\n",
       " 6     5\n",
       " 7     5\n",
       " 8     2\n",
       " 9     5\n",
       " 10    5\n",
       " 11    3\n",
       " Name: rating_x, dtype: int64,\n",
       " 0     5\n",
       " 1     5\n",
       " 2     4\n",
       " 3     4\n",
       " 4     4\n",
       " 5     3\n",
       " 6     5\n",
       " 7     5\n",
       " 8     4\n",
       " 9     4\n",
       " 10    4\n",
       " 11    2\n",
       " Name: rating_y, dtype: int64)"
      ]
     },
     "execution_count": 14,
     "metadata": {},
     "output_type": "execute_result"
    }
   ],
   "source": [
    "r = pd.merge(data_user_1[['user_id','movie_id','rating']],data_user_2[['user_id','movie_id','rating']],on='movie_id')\n",
    "\n",
    "r.rating_x,r.rating_y"
   ]
  },
  {
   "cell_type": "markdown",
   "metadata": {},
   "source": [
    "<h6>Let's define a function to compute the users similarity </h6>"
   ]
  },
  {
   "cell_type": "code",
   "execution_count": 15,
   "metadata": {},
   "outputs": [
    {
     "name": "stdout",
     "output_type": "stream",
     "text": [
      "0.3631958846466215\n",
      "0.21089672205953397\n"
     ]
    }
   ],
   "source": [
    "from scipy.stats import pearsonr\n",
    "from scipy.spatial.distance import euclidean\n",
    "\n",
    "# Returns a distance-based similarity score for person1 and person2\n",
    "def SimEuclid(DataFrame,User1,User2,min_common_items=1):\n",
    "    # GET MOVIES OF USER1\n",
    "    movies_user1=DataFrame[DataFrame['user_id'] ==User1 ]\n",
    "    # GET MOVIES OF USER2\n",
    "    movies_user2=DataFrame[DataFrame['user_id'] ==User2 ]\n",
    "    \n",
    "    # FIND SHARED FILMS\n",
    "    rep=pd.merge(movies_user1 ,movies_user2,on='movie_id')    \n",
    "    if len(rep)<2:\n",
    "        return 0\n",
    "    if(len(rep)<min_common_items):\n",
    "        return 0\n",
    "    #return distEuclid(rep['rating_x'],rep['rating_y']) \n",
    "    return 1.0/(1.0+euclidean(rep['rating_x'],rep['rating_y'])) \n",
    "\n",
    "# Returns a pearsonCorrealation-based similarity score for person1 and person2\n",
    "def SimPearson(DataFrame,User1,User2,min_common_items=1):\n",
    "    # GET MOVIES OF USER1\n",
    "    movies_user1=DataFrame[DataFrame['user_id'] ==User1 ]\n",
    "    # GET MOVIES OF USER2\n",
    "    movies_user2=DataFrame[DataFrame['user_id'] ==User2 ]\n",
    "    \n",
    "    # FIND SHARED FILMS\n",
    "    rep=pd.merge(movies_user1 ,movies_user2,on='movie_id',)\n",
    "    if len(rep)<2:\n",
    "        return 0    \n",
    "    if(len(rep)<min_common_items):\n",
    "        return 0    \n",
    "    res=pearsonr(rep['rating_x'],rep['rating_y'])[0]\n",
    "    if(np.isnan(res)):\n",
    "        return 0\n",
    "    return res\n",
    "\n",
    "print(SimPearson(data_train,1,2))\n",
    "print(SimEuclid(data_train,1,2))"
   ]
  },
  {
   "cell_type": "code",
   "execution_count": 16,
   "metadata": {},
   "outputs": [],
   "source": [
    "# Check similarities between users. \n",
    "# What do you think about the results? \n",
    "# Create a new user (YOU) and rate some movies.  Check the most similar users to you"
   ]
  },
  {
   "cell_type": "markdown",
   "metadata": {},
   "source": [
    "<h5>Let's build a Recommender System</h5>"
   ]
  },
  {
   "cell_type": "code",
   "execution_count": 17,
   "metadata": {},
   "outputs": [],
   "source": [
    "class CollaborativeFiltering:\n",
    "    \"\"\" Collaborative filtering using a custom sim(u,u'). \"\"\"\n",
    "    \n",
    "    def __init__(self,DataFrame, similarity=SimPearson):\n",
    "        \"\"\" Constructor \"\"\"\n",
    "        self.sim_method=similarity# Gets recommendations for a person by using a weighted average\n",
    "        self.df=DataFrame\n",
    "        self.sim = {}\n",
    "        \n",
    "    def fit(self):\n",
    "        \"\"\" Prepare data structures for estimation. Similarity matrix for users \"\"\"\n",
    "        allUsers=set(self.df['user_id'])\n",
    "        for person1 in allUsers:\n",
    "            self.sim.setdefault(person1, {})\n",
    "            a=data_train[data_train['user_id']==person1][['movie_id']]\n",
    "            data_reduced=pd.merge(data_train,a,on='movie_id')\n",
    "            for person2 in allUsers:\n",
    "                if person1==person2: continue\n",
    "                self.sim.setdefault(person2, {})\n",
    "                if(person1 in self.sim[person2]):continue # since is a simetric matrix\n",
    "                sim=self.sim_method(data_reduced,person1,person2)\n",
    "                if(sim<0):\n",
    "                    self.sim[person1][person2]=0\n",
    "                    self.sim[person2][person1]=0\n",
    "                else:\n",
    "                    self.sim[person1][person2]=sim\n",
    "                    self.sim[person2][person1]=sim\n",
    "                \n",
    "    def predict(self, user_id, movie_id):\n",
    "        totals={}\n",
    "        movie_users=self.df[self.df['movie_id'] ==movie_id]\n",
    "        rating_num=0.0\n",
    "        rating_den=0.0\n",
    "        allUsers=set(movie_users['user_id'])\n",
    "        for other in allUsers:\n",
    "            if user_id==other: continue \n",
    "            rating_num += self.sim[user_id][other] * float(movie_users[movie_users['user_id']==other]['rating'])\n",
    "            rating_den += self.sim[user_id][other]\n",
    "        if rating_den==0: \n",
    "            if self.df.rating[self.df['movie_id']==movie_id].mean()>0:\n",
    "                # return the mean movie rating if there is no similar for the computation\n",
    "                return self.df.rating[self.df['movie_id']==movie_id].mean()\n",
    "            else:\n",
    "                # else return mean user rating \n",
    "                return self.df.rating[self.df['user_id']==user_id].mean()\n",
    "        return rating_num/rating_den\n",
    "\n"
   ]
  },
  {
   "cell_type": "markdown",
   "metadata": {},
   "source": [
    "### Let's create a small dataset in order to reduce the computation cost and speedup the calculus in the class"
   ]
  },
  {
   "cell_type": "code",
   "execution_count": 18,
   "metadata": {},
   "outputs": [
    {
     "name": "stdout",
     "output_type": "stream",
     "text": [
      "(10960, 8)\n",
      "(8727, 8)\n",
      "(2233, 8)\n",
      "Usuaris: 99\n",
      "Films: 1232\n"
     ]
    },
    {
     "name": "stderr",
     "output_type": "stream",
     "text": [
      "/Users/santisegui/opt/anaconda3/lib/python3.8/site-packages/pandas/core/indexing.py:966: SettingWithCopyWarning: \n",
      "A value is trying to be set on a copy of a slice from a DataFrame.\n",
      "Try using .loc[row_indexer,col_indexer] = value instead\n",
      "\n",
      "See the caveats in the documentation: https://pandas.pydata.org/pandas-docs/stable/user_guide/indexing.html#returning-a-view-versus-a-copy\n",
      "  self.obj[item] = s\n"
     ]
    }
   ],
   "source": [
    "# for the development stage I'm create a new smaller dataset. In this way I will no have to wait that much\n",
    "dataSmall = data[data['user_id']<100] # get only data from 100 users\n",
    "print(dataSmall.shape)\n",
    "\n",
    "dataSmall.loc[:,'for_testing'] = False\n",
    "grouped = dataSmall.groupby('user_id', group_keys=False).apply(assign_to_set)\n",
    "dataSmall_train = dataSmall[grouped.for_testing == False]\n",
    "dataSmall_test = dataSmall[grouped.for_testing == True]\n",
    "\n",
    "print(dataSmall_train.shape )\n",
    "print(dataSmall_test.shape )\n",
    "\n",
    "print('Usuaris:', dataSmall.user_id.nunique() )\n",
    "print('Films:',dataSmall.movie_id.nunique() )"
   ]
  },
  {
   "cell_type": "code",
   "execution_count": 19,
   "metadata": {},
   "outputs": [
    {
     "name": "stderr",
     "output_type": "stream",
     "text": [
      "/Users/santisegui/opt/anaconda3/lib/python3.8/site-packages/scipy/stats/stats.py:3845: PearsonRConstantInputWarning: An input array is constant; the correlation coefficent is not defined.\n",
      "  warnings.warn(PearsonRConstantInputWarning())\n"
     ]
    },
    {
     "data": {
      "text/plain": [
       "3.671050155505572"
      ]
     },
     "execution_count": 19,
     "metadata": {},
     "output_type": "execute_result"
    }
   ],
   "source": [
    "reco = CollaborativeFiltering(dataSmall_train)\n",
    "reco.fit()\n",
    "reco.predict(user_id=2,movie_id=1)"
   ]
  },
  {
   "cell_type": "code",
   "execution_count": 20,
   "metadata": {},
   "outputs": [],
   "source": [
    "def evaluate(estimate_f,data_train,data_test):\n",
    "    \"\"\" RMSE-based predictive performance evaluation with pandas. \"\"\"\n",
    "    ids_to_estimate = zip(data_test.user_id, data_test.movie_id)\n",
    "    estimated = np.array([estimate_f(u,i) if u in data_train.user_id else 3 for (u,i) in ids_to_estimate ])\n",
    "    real = data_test.rating.values\n",
    "    return compute_rmse(estimated, real)"
   ]
  },
  {
   "cell_type": "code",
   "execution_count": 21,
   "metadata": {},
   "outputs": [
    {
     "name": "stdout",
     "output_type": "stream",
     "text": [
      "RMSE for Collaborative Recomender: 1.2474604654724817\n"
     ]
    }
   ],
   "source": [
    "print('RMSE for Collaborative Recomender: %s' % evaluate(reco.predict,dataSmall_train,dataSmall_test))"
   ]
  },
  {
   "cell_type": "markdown",
   "metadata": {},
   "source": [
    "<div class  = \"alert alert-success\"><b>EXERCISE 1</b><p>\n",
    "Modify the Recomender System using as a prediction function the following equation:\n",
    "$$pred(a,p) = \\bar{r_a} + \\frac{\\sum_{b \\in N}{sim(a,b)*(r_{b,p}-\\bar{r_b})}}{\\sum_{b \\in N}{sim(a,b)}}$$\n",
    "\n",
    "</div>"
   ]
  },
  {
   "cell_type": "code",
   "execution_count": null,
   "metadata": {},
   "outputs": [],
   "source": []
  },
  {
   "cell_type": "markdown",
   "metadata": {},
   "source": [
    "<div class=\"alert alert-success\">\n",
    "    <b>EXERCISE 2:</b><br>\n",
    "Modify the recomender system from the previous exercice, with one that in order to estimate the score of a movie B for the user A only uses the subset of the N most similar users to user A. Define N as a parameter of the Recommender.\n",
    "</div>"
   ]
  },
  {
   "cell_type": "code",
   "execution_count": null,
   "metadata": {},
   "outputs": [],
   "source": [
    "        "
   ]
  },
  {
   "cell_type": "markdown",
   "metadata": {},
   "source": [
    "<div class  = \"alert alert-success\"><b>EXERCISE 3</b><p>\n",
    "Modify the similarity function with the following:\n",
    "$$new\\_sim(a,b) = sim(a,b) * \\frac{min(50,|P_{ab}|)}{50} $$\n",
    "where $|P_{ab}|$ is the number of common items with user $a$ and user $b$\n",
    "</div>"
   ]
  },
  {
   "cell_type": "code",
   "execution_count": null,
   "metadata": {},
   "outputs": [],
   "source": []
  },
  {
   "cell_type": "markdown",
   "metadata": {},
   "source": [
    "<div class  = \"alert alert-success\"><b>EXERCISE 4</b><p>\n",
    "Is there a set of users where the systems work better than with othes users?\n",
    "Does it depend on the number of rating per user? Explain your conclusions and try to alleviate this problem\n",
    "</div>"
   ]
  },
  {
   "cell_type": "code",
   "execution_count": null,
   "metadata": {},
   "outputs": [],
   "source": []
  },
  {
   "cell_type": "markdown",
   "metadata": {},
   "source": [
    "<div class  = \"alert alert-success\"><b>EXERCISE 5</b><p>\n",
    "Create a Item-Based recomender system and compare its performance agains the User-Based\n",
    "</div>"
   ]
  },
  {
   "cell_type": "code",
   "execution_count": null,
   "metadata": {},
   "outputs": [],
   "source": []
  }
 ],
 "metadata": {
  "anaconda-cloud": {},
  "kernelspec": {
   "display_name": "Python 3",
   "language": "python",
   "name": "python3"
  },
  "language_info": {
   "codemirror_mode": {
    "name": "ipython",
    "version": 3
   },
   "file_extension": ".py",
   "mimetype": "text/x-python",
   "name": "python",
   "nbconvert_exporter": "python",
   "pygments_lexer": "ipython3",
   "version": "3.8.3"
  }
 },
 "nbformat": 4,
 "nbformat_minor": 1
}
