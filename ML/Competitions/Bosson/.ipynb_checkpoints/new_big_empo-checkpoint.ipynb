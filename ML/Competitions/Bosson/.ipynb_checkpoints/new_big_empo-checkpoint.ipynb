{
 "cells": [
  {
   "cell_type": "code",
   "execution_count": 1,
   "metadata": {},
   "outputs": [],
   "source": [
    "import pandas as pd\n",
    "import numpy as np\n",
    "import matplotlib.pyplot as plt\n",
    "import matplotlib as matplot\n",
    "import seaborn as sns\n",
    "%matplotlib inline\n",
    "# Scikit-Learn for Modeling\n",
    "import sklearn\n",
    "\n",
    "# Pickle for saving model files\n",
    "import pickle\n",
    "# Import Logistic Regression\n",
    "from sklearn.linear_model import LogisticRegression\n",
    "\n",
    "# Import RandomForestClassifier and GradientBoostingClassifer\n",
    "from sklearn.ensemble import (RandomForestClassifier, GradientBoostingClassifier)\n",
    "# Function for splitting training and test set\n",
    "from sklearn.model_selection import train_test_split\n",
    "\n",
    "# Function for creating model pipelines\n",
    "from sklearn.pipeline import  make_pipeline\n",
    "\n",
    "# For standardization\n",
    "from sklearn.preprocessing  import StandardScaler\n",
    "\n",
    "# Helper for cross-validation\n",
    "from sklearn.model_selection import GridSearchCV\n",
    "\n",
    "# Classification metrics (added later)\n",
    "from sklearn.metrics import roc_curve, auc\n",
    "# Function for splitting training and test set\n",
    "from sklearn.model_selection import train_test_split\n",
    "\n",
    "# Function for creating model pipelines\n",
    "from sklearn.pipeline import  make_pipeline\n",
    "\n",
    "# For standardization\n",
    "from sklearn.preprocessing  import StandardScaler\n",
    "\n",
    "# Helper for cross-validation\n",
    "from sklearn.model_selection import GridSearchCV\n",
    "\n",
    "# Classification metrics (added later)\n",
    "from sklearn.metrics import roc_curve, auc\n",
    "import time"
   ]
  },
  {
   "cell_type": "code",
   "execution_count": 40,
   "metadata": {},
   "outputs": [],
   "source": [
    "#import all required libraries\n",
    "#Data Analysis\n",
    "import pandas as pd\n",
    "import numpy as np\n",
    "import json\n",
    "#Visulaization libraries\n",
    "from bokeh.plotting import figure, show, output_file\n",
    "from bokeh.io import output_notebook\n",
    "from bokeh.models import ColumnDataSource, LabelSet\n",
    "from bokeh.palettes import Viridis5\n",
    "import seaborn as sns\n",
    "import matplotlib.pyplot as plt\n",
    "\n",
    "#model developemnt libraries\n",
    "from sklearn import preprocessing\n",
    "from sklearn.ensemble import AdaBoostClassifier\n",
    "from sklearn import metrics\n",
    "from sklearn.pipeline import Pipeline\n",
    "from sklearn.feature_selection import mutual_info_classif\n",
    "from sklearn.feature_selection import chi2\n",
    "\n",
    "from sklearn.metrics import classification_report\n",
    "#Bias Mitigation libraries\n",
    "\n",
    "from IPython.display import Markdown, display\n",
    "\n",
    "#\n",
    "from IPython.display import SVG, display\n",
    "import warnings\n",
    "warnings.filterwarnings(\"ignore\")\n",
    "#deployment library\n",
    "import cufflinks as cf\n",
    "from plotly.offline import download_plotlyjs, init_notebook_mode, plot, iplot\n",
    "import pygal\n",
    "from aif360.algorithms.preprocessing.reweighing import Reweighing\n",
    "from aif360.metrics import BinaryLabelDatasetMetric\n",
    "from aif360.datasets import BinaryLabelDataset"
   ]
  },
  {
   "cell_type": "code",
   "execution_count": 96,
   "metadata": {
    "scrolled": true
   },
   "outputs": [
    {
     "name": "stdout",
     "output_type": "stream",
     "text": [
      "--- 0.5000526905059814 seconds ---\n"
     ]
    }
   ],
   "source": [
    "start_time = time.time()\n",
    "df = pd.read_excel(\"D:/USUARIS/ALVTGTP/Desktop/ML/FastPlanTot/BECDDBB.xlsx\",index_col=0)\n",
    "print(\"--- %s seconds ---\" % (time.time() - start_time))"
   ]
  },
  {
   "cell_type": "code",
   "execution_count": 97,
   "metadata": {},
   "outputs": [
    {
     "data": {
      "text/plain": [
       "['Gender', 'Education', 'Area', 'Nationality', 'Center']"
      ]
     },
     "execution_count": 97,
     "metadata": {},
     "output_type": "execute_result"
    }
   ],
   "source": [
    "categorical = df.select_dtypes(include=['object']).columns.tolist()\n",
    "categorical"
   ]
  },
  {
   "cell_type": "code",
   "execution_count": 98,
   "metadata": {},
   "outputs": [
    {
     "name": "stdout",
     "output_type": "stream",
     "text": [
      "Feature Gender\n",
      "mapping {'M': 0, 'V': 1}\n",
      "Feature Education\n",
      "mapping {'Curso Externo': 0, 'Diplomado': 1, 'Estudios Secundarios': 2, 'Formación Profesional Media': 3, 'Formación Profesional Superior': 4, 'Graduado': 5, 'Ingeniero': 6, 'Ingeniero Técnico': 7, 'Licenciado': 8, 'Postgrado / Master': 9, 'Sin título': 10}\n",
      "Feature Area\n",
      "mapping {'B': 0, 'E': 1, 'F': 2, 'G': 3, 'L': 4, 'P': 5, 'R': 6, 'S': 7, 'SS': 8, 'V': 9, 'XM': 10}\n",
      "Feature Nationality\n",
      "mapping {'AD': 0, 'AR': 1, 'AT': 2, 'AZ': 3, 'BE': 4, 'BG': 5, 'BO': 6, 'BR': 7, 'BY': 8, 'CA': 9, 'CH': 10, 'CL': 11, 'CN': 12, 'CO': 13, 'CZ': 14, 'DE': 15, 'DM': 16, 'EC': 17, 'ES': 18, 'FI': 19, 'FK': 20, 'FR': 21, 'GT': 22, 'HN': 23, 'IL': 24, 'IR': 25, 'IT': 26, 'MA': 27, 'MO': 28, 'MX': 29, 'NI': 30, 'NL': 31, 'PE': 32, 'PK': 33, 'PT': 34, 'RO': 35, 'RU': 36, 'SK': 37, 'SV': 38, 'TR': 39, 'US': 40, 'VE': 41}\n",
      "Feature Center\n",
      "mapping {'ACR': 0, 'BRC': 1, 'CTS': 2, 'MDR': 3, 'MRT': 4, 'SCO': 5, 'SSP': 6, 'VLD': 7, 'XMO': 8}\n"
     ]
    }
   ],
   "source": [
    "#Deep copy the original data\n",
    "data_encoded = df.copy(deep=True)\n",
    "#Use Scikit-learn label encoding to encode character data\n",
    "lab_enc = preprocessing.LabelEncoder()\n",
    "for col in categorical:\n",
    "        data_encoded[col] = lab_enc.fit_transform(df[col])\n",
    "        le_name_mapping = dict(zip(lab_enc.classes_, lab_enc.transform(lab_enc.classes_)))\n",
    "        print('Feature', col)\n",
    "        print('mapping', le_name_mapping)"
   ]
  },
  {
   "cell_type": "code",
   "execution_count": 3,
   "metadata": {},
   "outputs": [
    {
     "ename": "KeyError",
     "evalue": "\"['Unnamed: 0'] not found in axis\"",
     "output_type": "error",
     "traceback": [
      "\u001b[1;31m---------------------------------------------------------------------------\u001b[0m",
      "\u001b[1;31mKeyError\u001b[0m                                  Traceback (most recent call last)",
      "\u001b[1;32m<ipython-input-3-51f4d71b6b01>\u001b[0m in \u001b[0;36m<module>\u001b[1;34m\u001b[0m\n\u001b[1;32m----> 1\u001b[1;33m \u001b[0mdf\u001b[0m \u001b[1;33m=\u001b[0m\u001b[0mdf\u001b[0m\u001b[1;33m.\u001b[0m\u001b[0mdrop\u001b[0m\u001b[1;33m(\u001b[0m\u001b[1;34m\"Unnamed: 0\"\u001b[0m\u001b[1;33m,\u001b[0m\u001b[0maxis\u001b[0m\u001b[1;33m=\u001b[0m\u001b[1;36m1\u001b[0m\u001b[1;33m)\u001b[0m\u001b[1;33m\u001b[0m\u001b[1;33m\u001b[0m\u001b[0m\n\u001b[0m",
      "\u001b[1;32m~\\AppData\\Local\\Continuum\\anaconda3\\lib\\site-packages\\pandas\\core\\frame.py\u001b[0m in \u001b[0;36mdrop\u001b[1;34m(self, labels, axis, index, columns, level, inplace, errors)\u001b[0m\n\u001b[0;32m   3938\u001b[0m                                            \u001b[0mindex\u001b[0m\u001b[1;33m=\u001b[0m\u001b[0mindex\u001b[0m\u001b[1;33m,\u001b[0m \u001b[0mcolumns\u001b[0m\u001b[1;33m=\u001b[0m\u001b[0mcolumns\u001b[0m\u001b[1;33m,\u001b[0m\u001b[1;33m\u001b[0m\u001b[1;33m\u001b[0m\u001b[0m\n\u001b[0;32m   3939\u001b[0m                                            \u001b[0mlevel\u001b[0m\u001b[1;33m=\u001b[0m\u001b[0mlevel\u001b[0m\u001b[1;33m,\u001b[0m \u001b[0minplace\u001b[0m\u001b[1;33m=\u001b[0m\u001b[0minplace\u001b[0m\u001b[1;33m,\u001b[0m\u001b[1;33m\u001b[0m\u001b[1;33m\u001b[0m\u001b[0m\n\u001b[1;32m-> 3940\u001b[1;33m                                            errors=errors)\n\u001b[0m\u001b[0;32m   3941\u001b[0m \u001b[1;33m\u001b[0m\u001b[0m\n\u001b[0;32m   3942\u001b[0m     @rewrite_axis_style_signature('mapper', [('copy', True),\n",
      "\u001b[1;32m~\\AppData\\Local\\Continuum\\anaconda3\\lib\\site-packages\\pandas\\core\\generic.py\u001b[0m in \u001b[0;36mdrop\u001b[1;34m(self, labels, axis, index, columns, level, inplace, errors)\u001b[0m\n\u001b[0;32m   3778\u001b[0m         \u001b[1;32mfor\u001b[0m \u001b[0maxis\u001b[0m\u001b[1;33m,\u001b[0m \u001b[0mlabels\u001b[0m \u001b[1;32min\u001b[0m \u001b[0maxes\u001b[0m\u001b[1;33m.\u001b[0m\u001b[0mitems\u001b[0m\u001b[1;33m(\u001b[0m\u001b[1;33m)\u001b[0m\u001b[1;33m:\u001b[0m\u001b[1;33m\u001b[0m\u001b[1;33m\u001b[0m\u001b[0m\n\u001b[0;32m   3779\u001b[0m             \u001b[1;32mif\u001b[0m \u001b[0mlabels\u001b[0m \u001b[1;32mis\u001b[0m \u001b[1;32mnot\u001b[0m \u001b[1;32mNone\u001b[0m\u001b[1;33m:\u001b[0m\u001b[1;33m\u001b[0m\u001b[1;33m\u001b[0m\u001b[0m\n\u001b[1;32m-> 3780\u001b[1;33m                 \u001b[0mobj\u001b[0m \u001b[1;33m=\u001b[0m \u001b[0mobj\u001b[0m\u001b[1;33m.\u001b[0m\u001b[0m_drop_axis\u001b[0m\u001b[1;33m(\u001b[0m\u001b[0mlabels\u001b[0m\u001b[1;33m,\u001b[0m \u001b[0maxis\u001b[0m\u001b[1;33m,\u001b[0m \u001b[0mlevel\u001b[0m\u001b[1;33m=\u001b[0m\u001b[0mlevel\u001b[0m\u001b[1;33m,\u001b[0m \u001b[0merrors\u001b[0m\u001b[1;33m=\u001b[0m\u001b[0merrors\u001b[0m\u001b[1;33m)\u001b[0m\u001b[1;33m\u001b[0m\u001b[1;33m\u001b[0m\u001b[0m\n\u001b[0m\u001b[0;32m   3781\u001b[0m \u001b[1;33m\u001b[0m\u001b[0m\n\u001b[0;32m   3782\u001b[0m         \u001b[1;32mif\u001b[0m \u001b[0minplace\u001b[0m\u001b[1;33m:\u001b[0m\u001b[1;33m\u001b[0m\u001b[1;33m\u001b[0m\u001b[0m\n",
      "\u001b[1;32m~\\AppData\\Local\\Continuum\\anaconda3\\lib\\site-packages\\pandas\\core\\generic.py\u001b[0m in \u001b[0;36m_drop_axis\u001b[1;34m(self, labels, axis, level, errors)\u001b[0m\n\u001b[0;32m   3810\u001b[0m                 \u001b[0mnew_axis\u001b[0m \u001b[1;33m=\u001b[0m \u001b[0maxis\u001b[0m\u001b[1;33m.\u001b[0m\u001b[0mdrop\u001b[0m\u001b[1;33m(\u001b[0m\u001b[0mlabels\u001b[0m\u001b[1;33m,\u001b[0m \u001b[0mlevel\u001b[0m\u001b[1;33m=\u001b[0m\u001b[0mlevel\u001b[0m\u001b[1;33m,\u001b[0m \u001b[0merrors\u001b[0m\u001b[1;33m=\u001b[0m\u001b[0merrors\u001b[0m\u001b[1;33m)\u001b[0m\u001b[1;33m\u001b[0m\u001b[1;33m\u001b[0m\u001b[0m\n\u001b[0;32m   3811\u001b[0m             \u001b[1;32melse\u001b[0m\u001b[1;33m:\u001b[0m\u001b[1;33m\u001b[0m\u001b[1;33m\u001b[0m\u001b[0m\n\u001b[1;32m-> 3812\u001b[1;33m                 \u001b[0mnew_axis\u001b[0m \u001b[1;33m=\u001b[0m \u001b[0maxis\u001b[0m\u001b[1;33m.\u001b[0m\u001b[0mdrop\u001b[0m\u001b[1;33m(\u001b[0m\u001b[0mlabels\u001b[0m\u001b[1;33m,\u001b[0m \u001b[0merrors\u001b[0m\u001b[1;33m=\u001b[0m\u001b[0merrors\u001b[0m\u001b[1;33m)\u001b[0m\u001b[1;33m\u001b[0m\u001b[1;33m\u001b[0m\u001b[0m\n\u001b[0m\u001b[0;32m   3813\u001b[0m             \u001b[0mresult\u001b[0m \u001b[1;33m=\u001b[0m \u001b[0mself\u001b[0m\u001b[1;33m.\u001b[0m\u001b[0mreindex\u001b[0m\u001b[1;33m(\u001b[0m\u001b[1;33m**\u001b[0m\u001b[1;33m{\u001b[0m\u001b[0maxis_name\u001b[0m\u001b[1;33m:\u001b[0m \u001b[0mnew_axis\u001b[0m\u001b[1;33m}\u001b[0m\u001b[1;33m)\u001b[0m\u001b[1;33m\u001b[0m\u001b[1;33m\u001b[0m\u001b[0m\n\u001b[0;32m   3814\u001b[0m \u001b[1;33m\u001b[0m\u001b[0m\n",
      "\u001b[1;32m~\\AppData\\Local\\Continuum\\anaconda3\\lib\\site-packages\\pandas\\core\\indexes\\base.py\u001b[0m in \u001b[0;36mdrop\u001b[1;34m(self, labels, errors)\u001b[0m\n\u001b[0;32m   4963\u001b[0m             \u001b[1;32mif\u001b[0m \u001b[0merrors\u001b[0m \u001b[1;33m!=\u001b[0m \u001b[1;34m'ignore'\u001b[0m\u001b[1;33m:\u001b[0m\u001b[1;33m\u001b[0m\u001b[1;33m\u001b[0m\u001b[0m\n\u001b[0;32m   4964\u001b[0m                 raise KeyError(\n\u001b[1;32m-> 4965\u001b[1;33m                     '{} not found in axis'.format(labels[mask]))\n\u001b[0m\u001b[0;32m   4966\u001b[0m             \u001b[0mindexer\u001b[0m \u001b[1;33m=\u001b[0m \u001b[0mindexer\u001b[0m\u001b[1;33m[\u001b[0m\u001b[1;33m~\u001b[0m\u001b[0mmask\u001b[0m\u001b[1;33m]\u001b[0m\u001b[1;33m\u001b[0m\u001b[1;33m\u001b[0m\u001b[0m\n\u001b[0;32m   4967\u001b[0m         \u001b[1;32mreturn\u001b[0m \u001b[0mself\u001b[0m\u001b[1;33m.\u001b[0m\u001b[0mdelete\u001b[0m\u001b[1;33m(\u001b[0m\u001b[0mindexer\u001b[0m\u001b[1;33m)\u001b[0m\u001b[1;33m\u001b[0m\u001b[1;33m\u001b[0m\u001b[0m\n",
      "\u001b[1;31mKeyError\u001b[0m: \"['Unnamed: 0'] not found in axis\""
     ]
    }
   ],
   "source": [
    "df =df.drop(\"Unnamed: 0\",axis=1)"
   ]
  },
  {
   "cell_type": "code",
   "execution_count": 4,
   "metadata": {},
   "outputs": [
    {
     "data": {
      "text/html": [
       "<div>\n",
       "<style scoped>\n",
       "    .dataframe tbody tr th:only-of-type {\n",
       "        vertical-align: middle;\n",
       "    }\n",
       "\n",
       "    .dataframe tbody tr th {\n",
       "        vertical-align: top;\n",
       "    }\n",
       "\n",
       "    .dataframe thead th {\n",
       "        text-align: right;\n",
       "    }\n",
       "</style>\n",
       "<table border=\"1\" class=\"dataframe\">\n",
       "  <thead>\n",
       "    <tr style=\"text-align: right;\">\n",
       "      <th></th>\n",
       "      <th>Gender</th>\n",
       "      <th>Age</th>\n",
       "      <th>Education</th>\n",
       "      <th>Area</th>\n",
       "      <th>Nationality</th>\n",
       "      <th>Center</th>\n",
       "      <th>Linea</th>\n",
       "      <th>Contracted</th>\n",
       "    </tr>\n",
       "    <tr>\n",
       "      <th>NIS</th>\n",
       "      <th></th>\n",
       "      <th></th>\n",
       "      <th></th>\n",
       "      <th></th>\n",
       "      <th></th>\n",
       "      <th></th>\n",
       "      <th></th>\n",
       "      <th></th>\n",
       "    </tr>\n",
       "  </thead>\n",
       "  <tbody>\n",
       "    <tr>\n",
       "      <th>73408</th>\n",
       "      <td>V</td>\n",
       "      <td>21</td>\n",
       "      <td>Graduado</td>\n",
       "      <td>P</td>\n",
       "      <td>FR</td>\n",
       "      <td>MRT</td>\n",
       "      <td>1</td>\n",
       "      <td>0</td>\n",
       "    </tr>\n",
       "    <tr>\n",
       "      <th>73405</th>\n",
       "      <td>V</td>\n",
       "      <td>25</td>\n",
       "      <td>Graduado</td>\n",
       "      <td>F</td>\n",
       "      <td>ES</td>\n",
       "      <td>MRT</td>\n",
       "      <td>1</td>\n",
       "      <td>0</td>\n",
       "    </tr>\n",
       "    <tr>\n",
       "      <th>73402</th>\n",
       "      <td>V</td>\n",
       "      <td>28</td>\n",
       "      <td>Graduado</td>\n",
       "      <td>S</td>\n",
       "      <td>ES</td>\n",
       "      <td>MRT</td>\n",
       "      <td>1</td>\n",
       "      <td>0</td>\n",
       "    </tr>\n",
       "    <tr>\n",
       "      <th>73401</th>\n",
       "      <td>V</td>\n",
       "      <td>24</td>\n",
       "      <td>Graduado</td>\n",
       "      <td>V</td>\n",
       "      <td>ES</td>\n",
       "      <td>MRT</td>\n",
       "      <td>1</td>\n",
       "      <td>0</td>\n",
       "    </tr>\n",
       "    <tr>\n",
       "      <th>73400</th>\n",
       "      <td>V</td>\n",
       "      <td>23</td>\n",
       "      <td>Graduado</td>\n",
       "      <td>E</td>\n",
       "      <td>ES</td>\n",
       "      <td>CTS</td>\n",
       "      <td>1</td>\n",
       "      <td>0</td>\n",
       "    </tr>\n",
       "  </tbody>\n",
       "</table>\n",
       "</div>"
      ],
      "text/plain": [
       "      Gender  Age Education Area Nationality Center  Linea  Contracted\n",
       "NIS                                                                   \n",
       "73408      V   21  Graduado    P          FR    MRT      1           0\n",
       "73405      V   25  Graduado    F          ES    MRT      1           0\n",
       "73402      V   28  Graduado    S          ES    MRT      1           0\n",
       "73401      V   24  Graduado    V          ES    MRT      1           0\n",
       "73400      V   23  Graduado    E          ES    CTS      1           0"
      ]
     },
     "execution_count": 4,
     "metadata": {},
     "output_type": "execute_result"
    }
   ],
   "source": [
    "df.head()"
   ]
  },
  {
   "cell_type": "code",
   "execution_count": 5,
   "metadata": {},
   "outputs": [
    {
     "data": {
      "text/plain": [
       "Gender         0\n",
       "Age            0\n",
       "Education      0\n",
       "Area           0\n",
       "Nationality    0\n",
       "Center         0\n",
       "Linea          0\n",
       "Contracted     0\n",
       "dtype: int64"
      ]
     },
     "execution_count": 5,
     "metadata": {},
     "output_type": "execute_result"
    }
   ],
   "source": [
    "df.isnull().sum()\n",
    "#f.dtypes"
   ]
  },
  {
   "cell_type": "code",
   "execution_count": 6,
   "metadata": {},
   "outputs": [
    {
     "name": "stdout",
     "output_type": "stream",
     "text": [
      "['Gender', 'Age', 'Education', 'Area', 'Nationality', 'Center', 'Linea', 'Contracted']\n",
      "['Gender', 'Education', 'Area', 'Nationality', 'Center']\n"
     ]
    }
   ],
   "source": [
    "# Create new dataframe with dummy features\n",
    "print(list(df.columns.values))\n",
    "\n",
    "categorical_feats = df.select_dtypes(include=['object']).columns.tolist()\n",
    "print(categorical_feats)\n"
   ]
  },
  {
   "cell_type": "code",
   "execution_count": 7,
   "metadata": {},
   "outputs": [
    {
     "name": "stdout",
     "output_type": "stream",
     "text": [
      "['Age', 'Linea', 'Contracted', 'Gender_M', 'Gender_V', 'Education_Curso Externo', 'Education_Diplomado', 'Education_Estudios Secundarios', 'Education_Formación Profesional Media', 'Education_Formación Profesional Superior', 'Education_Graduado', 'Education_Ingeniero', 'Education_Ingeniero Técnico', 'Education_Licenciado', 'Education_Postgrado / Master', 'Education_Sin título', 'Area_B', 'Area_E', 'Area_F', 'Area_G', 'Area_L', 'Area_P', 'Area_R', 'Area_S', 'Area_SS', 'Area_V', 'Area_XM', 'Nationality_AD', 'Nationality_AR', 'Nationality_AT', 'Nationality_AZ', 'Nationality_BE', 'Nationality_BG', 'Nationality_BO', 'Nationality_BR', 'Nationality_BY', 'Nationality_CA', 'Nationality_CH', 'Nationality_CL', 'Nationality_CN', 'Nationality_CO', 'Nationality_CZ', 'Nationality_DE', 'Nationality_DM', 'Nationality_EC', 'Nationality_ES', 'Nationality_FI', 'Nationality_FK', 'Nationality_FR', 'Nationality_GT', 'Nationality_HN', 'Nationality_IL', 'Nationality_IR', 'Nationality_IT', 'Nationality_MA', 'Nationality_MO', 'Nationality_MX', 'Nationality_NI', 'Nationality_NL', 'Nationality_PE', 'Nationality_PK', 'Nationality_PT', 'Nationality_RO', 'Nationality_RU', 'Nationality_SK', 'Nationality_SV', 'Nationality_TR', 'Nationality_US', 'Nationality_VE', 'Center_ACR', 'Center_BRC', 'Center_CTS', 'Center_MDR', 'Center_MRT', 'Center_SCO', 'Center_SSP', 'Center_VLD', 'Center_XMO']\n"
     ]
    }
   ],
   "source": [
    "df = pd.get_dummies(df, columns= categorical_feats)\n",
    "print((list(df.columns.values)))"
   ]
  },
  {
   "cell_type": "code",
   "execution_count": 99,
   "metadata": {},
   "outputs": [
    {
     "data": {
      "text/plain": [
       "(1316, 8)"
      ]
     },
     "execution_count": 99,
     "metadata": {},
     "output_type": "execute_result"
    }
   ],
   "source": [
    "data_encoded.shape"
   ]
  },
  {
   "cell_type": "code",
   "execution_count": 100,
   "metadata": {},
   "outputs": [],
   "source": [
    "# Create separate object for target variable\n",
    "y = data_encoded['Contracted']\n",
    "\n",
    "# Create separate object for input features\n",
    "X = data_encoded.drop('Contracted', axis=1)"
   ]
  },
  {
   "cell_type": "code",
   "execution_count": 101,
   "metadata": {},
   "outputs": [
    {
     "name": "stdout",
     "output_type": "stream",
     "text": [
      "1052 264\n",
      "1052 264\n"
     ]
    }
   ],
   "source": [
    "# Split X and y into train and test sets\n",
    "X_train, X_test, y_train, y_test  = train_test_split(X, y,\n",
    "                                                     test_size = 0.2,\n",
    "                                                     random_state = 123, \n",
    "                                                     stratify = data_encoded.Contracted)\n",
    "\n",
    "# Print number of observations in X_train, X_test, y_train, and y_test\n",
    "print(len(X_train), len(X_test))\n",
    "print(len(y_train), len(y_test))"
   ]
  },
  {
   "cell_type": "code",
   "execution_count": 11,
   "metadata": {},
   "outputs": [
    {
     "ename": "SyntaxError",
     "evalue": "invalid syntax (<ipython-input-11-660561b75057>, line 6)",
     "output_type": "error",
     "traceback": [
      "\u001b[1;36m  File \u001b[1;32m\"<ipython-input-11-660561b75057>\"\u001b[1;36m, line \u001b[1;32m6\u001b[0m\n\u001b[1;33m    'gb': make_pipeline(StandardScaler(),\u001b[0m\n\u001b[1;37m       ^\u001b[0m\n\u001b[1;31mSyntaxError\u001b[0m\u001b[1;31m:\u001b[0m invalid syntax\n"
     ]
    }
   ],
   "source": [
    "# Pipeline dictionary\n",
    "pipelines = {\n",
    "    \n",
    "    'rf': make_pipeline(StandardScaler(),\n",
    "                        RandomForestClassifier(random_state=123))\n",
    "    'gb': make_pipeline(StandardScaler(),\n",
    "                        #GradientBoostingClassifier(random_state=123))\n",
    "    \n",
    "\n",
    "    \n",
    "}"
   ]
  },
  {
   "cell_type": "code",
   "execution_count": 102,
   "metadata": {},
   "outputs": [],
   "source": [
    "# Pipeline dictionary\n",
    "pipelines = {\n",
    "    'l1': make_pipeline(StandardScaler(),\n",
    "                        LogisticRegression(penalty='l1',random_state=123)),\n",
    "    'l2': make_pipeline(StandardScaler(),\n",
    "                        LogisticRegression(penalty='l2',random_state=123)),\n",
    "    'rf': make_pipeline(StandardScaler(),\n",
    "                        RandomForestClassifier(random_state=123)),\n",
    "    'gb': make_pipeline(StandardScaler(),\n",
    "                        GradientBoostingClassifier(random_state=123))\n",
    "}"
   ]
  },
  {
   "cell_type": "code",
   "execution_count": 103,
   "metadata": {},
   "outputs": [],
   "source": [
    "# Logistic Regression hyperparameters\n",
    "l1_hyperparameters = {\n",
    "    'logisticregression__C': np.linspace(1e-3,1e3,10)\n",
    "}\n",
    "l2_hyperparameters = {\n",
    "    'logisticregression__C': np.linspace(1e-3,1e3,10)\n",
    "}"
   ]
  },
  {
   "cell_type": "code",
   "execution_count": 104,
   "metadata": {},
   "outputs": [],
   "source": [
    "# Random Forest hyperparameters\n",
    "rf_hyperparameters = {\n",
    "    'randomforestclassifier__n_estimators': [100,200],\n",
    "    'randomforestclassifier__max_features': ['auto','sqrt',0.33]\n",
    "}"
   ]
  },
  {
   "cell_type": "code",
   "execution_count": 105,
   "metadata": {},
   "outputs": [],
   "source": [
    "# Boosted Tree hyperparameters\n",
    "gb_hyperparameters = {\n",
    "    'gradientboostingclassifier__n_estimators': [100,200],\n",
    "    'gradientboostingclassifier__learning_rate': [0.05, 0.1,0.2],\n",
    "    'gradientboostingclassifier__max_depth': [1,3,5]\n",
    "}"
   ]
  },
  {
   "cell_type": "code",
   "execution_count": 106,
   "metadata": {},
   "outputs": [],
   "source": [
    "# Create hyperparameters dictionary\n",
    "hyperparameters = {'l1': l1_hyperparameters,\n",
    "                  'l2': l2_hyperparameters,\n",
    "                  'rf': rf_hyperparameters,\n",
    "                  'gb': gb_hyperparameters}"
   ]
  },
  {
   "cell_type": "code",
   "execution_count": 107,
   "metadata": {},
   "outputs": [
    {
     "name": "stdout",
     "output_type": "stream",
     "text": [
      "l1 has been fitted\n",
      "l2 has been fitted\n",
      "rf has been fitted\n",
      "gb has been fitted\n",
      "--- 21.892959356307983 seconds ---\n"
     ]
    }
   ],
   "source": [
    "# Create empty dictionary called fitted_models\n",
    "fitted_models = {}\n",
    "start_time = time.time()\n",
    "\n",
    "# Loop through model pipelines, tuning each one and saving it to fitted_models\n",
    "for name, pipeline in pipelines.items():\n",
    "    # Create cross-validation object from pipeline and hyperparameters\n",
    "    model = GridSearchCV(pipeline, hyperparameters[name], cv = 10, n_jobs=-1)\n",
    "    \n",
    "    # Fit model on X_train, y_train\n",
    "    model.fit(X_train, y_train)\n",
    "    \n",
    "    # Store model in fitted_models[name] \n",
    "    fitted_models[name] = model\n",
    "    \n",
    "    # Print '{name} has been fitted'\n",
    "    print('{0} has been fitted'.format(name))\n",
    "print(\"--- %s seconds ---\" % (time.time() - start_time))"
   ]
  },
  {
   "cell_type": "code",
   "execution_count": 108,
   "metadata": {},
   "outputs": [
    {
     "name": "stdout",
     "output_type": "stream",
     "text": [
      "l1 Score:  0.9144486692015209\n",
      "l2 Score:  0.9144486692015209\n",
      "rf Score:  0.8963878326996197\n",
      "gb Score:  0.9144486692015209\n"
     ]
    }
   ],
   "source": [
    "# Display best_score_ for each fitted model\n",
    "for name,model in fitted_models.items():\n",
    "    print(name, \"Score: \", model.best_score_)"
   ]
  },
  {
   "cell_type": "code",
   "execution_count": 16,
   "metadata": {},
   "outputs": [],
   "source": [
    "with open('model_rf_final.pkl', 'wb') as f:\n",
    "    pickle.dump(fitted_models['rf'].best_estimator_, f)"
   ]
  },
  {
   "cell_type": "code",
   "execution_count": 109,
   "metadata": {},
   "outputs": [],
   "source": [
    "# Predict PROBABILITIES using L1-regularized logistic regression\n",
    "pred = fitted_models['l1'].predict_proba(X_test)\n",
    "\n",
    "# Get just the prediction for the positive class (1)\n",
    "pred = [p[1] for p in pred]"
   ]
  },
  {
   "cell_type": "code",
   "execution_count": 110,
   "metadata": {},
   "outputs": [],
   "source": [
    "# Calculate ROC curve from y_test and pred\n",
    "fpr, tpr, thresholds = roc_curve(y_test, pred)"
   ]
  },
  {
   "cell_type": "code",
   "execution_count": 111,
   "metadata": {},
   "outputs": [
    {
     "data": {
      "text/html": [
       "<div>\n",
       "<style scoped>\n",
       "    .dataframe tbody tr th:only-of-type {\n",
       "        vertical-align: middle;\n",
       "    }\n",
       "\n",
       "    .dataframe tbody tr th {\n",
       "        vertical-align: top;\n",
       "    }\n",
       "\n",
       "    .dataframe thead th {\n",
       "        text-align: right;\n",
       "    }\n",
       "</style>\n",
       "<table border=\"1\" class=\"dataframe\">\n",
       "  <thead>\n",
       "    <tr style=\"text-align: right;\">\n",
       "      <th></th>\n",
       "      <th>FPR</th>\n",
       "      <th>TPR</th>\n",
       "      <th>Thresholds</th>\n",
       "    </tr>\n",
       "  </thead>\n",
       "  <tbody>\n",
       "    <tr>\n",
       "      <th>0</th>\n",
       "      <td>0.0</td>\n",
       "      <td>0.0</td>\n",
       "      <td>1.5</td>\n",
       "    </tr>\n",
       "    <tr>\n",
       "      <th>1</th>\n",
       "      <td>1.0</td>\n",
       "      <td>1.0</td>\n",
       "      <td>0.5</td>\n",
       "    </tr>\n",
       "  </tbody>\n",
       "</table>\n",
       "</div>"
      ],
      "text/plain": [
       "   FPR  TPR  Thresholds\n",
       "0  0.0  0.0         1.5\n",
       "1  1.0  1.0         0.5"
      ]
     },
     "execution_count": 111,
     "metadata": {},
     "output_type": "execute_result"
    }
   ],
   "source": [
    "# Store fpr, tpr, thresholds in DataFrame and display last 10\n",
    "pd.DataFrame({'FPR':fpr, 'TPR':tpr, 'Thresholds': thresholds}).tail(10)"
   ]
  },
  {
   "cell_type": "code",
   "execution_count": 112,
   "metadata": {},
   "outputs": [
    {
     "data": {
      "image/png": "[encoded data removed]",
      "text/plain": [
       "<Figure size 576x576 with 1 Axes>"
      ]
     },
     "metadata": {
      "needs_background": "light"
     },
     "output_type": "display_data"
    }
   ],
   "source": [
    "# Initialize figure\n",
    "fig = plt.figure(figsize=(8,8))\n",
    "plt.title('Receiver Operating Characteristic')\n",
    "\n",
    "# Plot ROC curve\n",
    "plt.plot(fpr, tpr, label='l1')\n",
    "\n",
    "# Diagonal 45 degree line\n",
    "plt.plot([0,1],[0,1], 'k--')\n",
    "\n",
    "# Axes limits and labels\n",
    "plt.xlim(-0.1,1.1)\n",
    "plt.ylim(-0.1,1.1)\n",
    "plt.ylabel('True Positive Rate')\n",
    "plt.xlabel('False Positive Rate')\n",
    "plt.show()"
   ]
  },
  {
   "cell_type": "code",
   "execution_count": 113,
   "metadata": {},
   "outputs": [
    {
     "name": "stdout",
     "output_type": "stream",
     "text": [
      "l1 0.5\n",
      "l2 0.6398159841241206\n",
      "rf 0.6918636117625835\n",
      "gb 0.7341692224427205\n"
     ]
    }
   ],
   "source": [
    "# Code here\n",
    "\n",
    "for name, model in fitted_models.items():\n",
    "    pred = model.predict_proba(X_test)\n",
    "    pred = [p[1] for p in pred]\n",
    "    fpr, tpr, thresholds = roc_curve(y_test, pred)\n",
    "    print(name, auc(fpr, tpr))"
   ]
  },
  {
   "cell_type": "code",
   "execution_count": 114,
   "metadata": {},
   "outputs": [],
   "source": [
    "model = fitted_models['l1'].best_estimator_"
   ]
  },
  {
   "cell_type": "code",
   "execution_count": 115,
   "metadata": {},
   "outputs": [],
   "source": [
    "dfTest = pd.read_excel(\"D:/USUARIS/ALVTGTP/Desktop/ML/FastPlanTot/BECDDBB.xlsx\",index_col=0,sheet_name = \"test\")"
   ]
  },
  {
   "cell_type": "code",
   "execution_count": 39,
   "metadata": {},
   "outputs": [],
   "source": [
    "#dfTest=dfTest.drop(\"DENCATE\",axis=1)\n",
    "dfTest=dfTest.drop(\"turnover\",axis=1)"
   ]
  },
  {
   "cell_type": "code",
   "execution_count": 76,
   "metadata": {},
   "outputs": [],
   "source": [
    "dfTest['DENC_Dur. temp. T. Parc. Eventual'] = 0"
   ]
  },
  {
   "cell_type": "code",
   "execution_count": 77,
   "metadata": {},
   "outputs": [],
   "source": [
    "dfTest['AREA_R'] = 0\n",
    "dfTest['AREA_L'] = 0"
   ]
  },
  {
   "cell_type": "code",
   "execution_count": 78,
   "metadata": {},
   "outputs": [],
   "source": [
    "dfTest['DENC_Dur. temp. T. Parc. Obras'] = 0\n",
    "dfTest['DENC_Indef. T. Comp. Transf. FE'] = 0"
   ]
  },
  {
   "cell_type": "code",
   "execution_count": 82,
   "metadata": {},
   "outputs": [
    {
     "data": {
      "text/plain": [
       "Gender         0\n",
       "Age            0\n",
       "Education      0\n",
       "Area           0\n",
       "Nationality    0\n",
       "Center         0\n",
       "Linea          0\n",
       "dtype: int64"
      ]
     },
     "execution_count": 82,
     "metadata": {},
     "output_type": "execute_result"
    }
   ],
   "source": [
    "dfTest.isnull().sum()"
   ]
  },
  {
   "cell_type": "code",
   "execution_count": 83,
   "metadata": {},
   "outputs": [
    {
     "data": {
      "text/plain": [
       "['Gender', 'Education', 'Area', 'Nationality', 'Center']"
      ]
     },
     "execution_count": 83,
     "metadata": {},
     "output_type": "execute_result"
    }
   ],
   "source": [
    "categorical = dfTest.select_dtypes(include=['object']).columns.tolist()\n",
    "categorical"
   ]
  },
  {
   "cell_type": "code",
   "execution_count": 116,
   "metadata": {},
   "outputs": [
    {
     "name": "stdout",
     "output_type": "stream",
     "text": [
      "Feature Gender\n",
      "mapping {'M': 0, 'V': 1}\n",
      "Feature Education\n",
      "mapping {'BUP / Bachillerato Logse': 0, 'Bachiller Superior': 1, 'CFS Administración y Finanzas': 2, 'CFS Prevención Riesgos Profesionales': 3, 'DIP Relaciones Laborales': 4, 'FP1 Electricidad': 5, 'Grad. Ing. Electrónica Industr./Automat.': 6, 'Grad. Ing. de Sist. de Telecomunicación': 7, 'Grad. Marketing e Investig. de Mercados': 8, 'Grad. Marketing y Comunidades Digitales': 9, 'Grad. Nego. Internac./Internat. Business': 10, 'Grad. Negocios/Marketing Internacionales': 11, 'Grad. Publicidad y Relaciones Publicas': 12, 'Graduado (pdte. homologar)': 13, 'Graduado Adminis. y Dirección de Empresa': 14, 'Graduado Educación Secundaria (ESO)': 15, 'Graduado Ing. de Organización Industrial': 16, 'Graduado Ing. de Tecnol. Industriales': 17, 'Graduado Ingeniería de Diseño Industrial': 18, 'Graduado Sistemas de Telecomunicación': 19, 'Graduado en Administración de Empresas': 20, 'Graduado en Ciencias Ambientales': 21, 'Graduado en Ciencias Económicas': 22, 'Graduado en Comercio Internacional': 23, 'Graduado en Comunicación': 24, 'Graduado en Contabilidad y Finanzas': 25, 'Graduado en Criminología y Seguridad': 26, 'Graduado en Derecho': 27, 'Graduado en Dirección de Empresas': 28, 'Graduado en Diseño': 29, 'Graduado en Economía': 30, 'Graduado en Empresa y Tecnología': 31, 'Graduado en Gestión de Negocios': 32, 'Graduado en Ingeniería Electrónica': 33, 'Graduado en Ingeniería Eléctrica': 34, 'Graduado en Ingeniería Mecatronica': 35, 'Graduado en Ingeniería Mecánica': 36, 'Graduado en Ingeniería de Materiales': 37, 'Graduado en Ingeniería de Organización': 38, 'Graduado en Ingeniería de la Energía': 39, 'Graduado en Marketing': 40, 'Graduado en Periodismo': 41, 'Graduado en Psicología': 42, 'Graduado en Relaciones Internacionales': 43, 'Graduado en Relaciones Laborales': 44, 'Graduado en Sociología': 45, 'ING Industrial': 46, 'ING TEC Industrial Mecánica': 47, 'LIC Economía': 48, 'Posgrado Ingeniería Automóvil': 49, 'Sin Titulo': 50, 'Téc. Sistemas Microinformáticos y Redes': 51, 'Téc. Sup. Automat. y Robótica Industrial': 52}\n",
      "Feature Area\n",
      "mapping {'B': 0, 'E': 1, 'F': 2, 'G': 3, 'L': 4, 'P': 5, 'S': 6, 'V': 7, 'XM': 8}\n",
      "Feature Nationality\n",
      "mapping {'AD': 0, 'AR': 1, 'AT': 2, 'BG': 3, 'BO': 4, 'BR': 5, 'CH': 6, 'CN': 7, 'CO': 8, 'DE': 9, 'DO': 10, 'EC': 11, 'ES': 12, 'FR': 13, 'GT': 14, 'HN': 15, 'IT': 16, 'KZ': 17, 'MX': 18, 'UA': 19, 'US': 20, 'VE': 21}\n",
      "Feature Center\n",
      "mapping {'ACR': 0, 'BRC': 1, 'CTS': 2, 'MDR': 3, 'MRT': 4, 'SCO': 5, 'XMO': 6}\n"
     ]
    }
   ],
   "source": [
    "#Deep copy the original data\n",
    "dfTest = dfTest.copy(deep=True)\n",
    "#Use Scikit-learn label encoding to encode character data\n",
    "lab_enc = preprocessing.LabelEncoder()\n",
    "for col in categorical:\n",
    "        dfTest[col] = lab_enc.fit_transform(dfTest[col])\n",
    "        le_name_mapping = dict(zip(lab_enc.classes_, lab_enc.transform(lab_enc.classes_)))\n",
    "        print('Feature', col)\n",
    "        print('mapping', le_name_mapping)"
   ]
  },
  {
   "cell_type": "code",
   "execution_count": 85,
   "metadata": {},
   "outputs": [
    {
     "name": "stdout",
     "output_type": "stream",
     "text": [
      "['Gender', 'Age', 'Education', 'Area', 'Nationality', 'Center', 'Linea']\n",
      "[]\n"
     ]
    }
   ],
   "source": [
    "print(list(dfTest.columns.values))\n",
    "\n",
    "categorical_feats_test = dfTest.select_dtypes(include=['object']).columns.tolist()\n",
    "print(categorical_feats_test)"
   ]
  },
  {
   "cell_type": "code",
   "execution_count": 30,
   "metadata": {},
   "outputs": [],
   "source": [
    "categorical_feats_test = dfTest.select_dtypes(include=['object']).columns.tolist()\n",
    "dfTest = pd.get_dummies(dfTest, columns= categorical_feats_test)"
   ]
  },
  {
   "cell_type": "code",
   "execution_count": 86,
   "metadata": {},
   "outputs": [
    {
     "data": {
      "text/plain": [
       "['Gender', 'Age', 'Education', 'Area', 'Nationality', 'Center', 'Linea']"
      ]
     },
     "execution_count": 86,
     "metadata": {},
     "output_type": "execute_result"
    }
   ],
   "source": [
    "a = (list(dfTest.columns.values))\n",
    "a"
   ]
  },
  {
   "cell_type": "code",
   "execution_count": 87,
   "metadata": {},
   "outputs": [
    {
     "data": {
      "text/plain": [
       "['Gender',\n",
       " 'Age',\n",
       " 'Education',\n",
       " 'Area',\n",
       " 'Nationality',\n",
       " 'Center',\n",
       " 'Linea',\n",
       " 'Contracted']"
      ]
     },
     "execution_count": 87,
     "metadata": {},
     "output_type": "execute_result"
    }
   ],
   "source": [
    "b = (list(df.columns.values))\n",
    "b"
   ]
  },
  {
   "cell_type": "code",
   "execution_count": 88,
   "metadata": {},
   "outputs": [
    {
     "name": "stdout",
     "output_type": "stream",
     "text": [
      "Contracted\n"
     ]
    }
   ],
   "source": [
    "for i in b:\n",
    "    if i not in a:\n",
    "        print(i)"
   ]
  },
  {
   "cell_type": "code",
   "execution_count": 89,
   "metadata": {},
   "outputs": [
    {
     "name": "stdout",
     "output_type": "stream",
     "text": [
      "(202, 7)\n",
      "(1316, 8)\n"
     ]
    }
   ],
   "source": [
    "\n",
    "print(dfTest.shape)\n",
    "print(df.shape)"
   ]
  },
  {
   "cell_type": "code",
   "execution_count": 117,
   "metadata": {},
   "outputs": [],
   "source": [
    "final_pred = model.predict(dfTest)"
   ]
  },
  {
   "cell_type": "code",
   "execution_count": 118,
   "metadata": {},
   "outputs": [],
   "source": [
    "final_pred = model.predict_proba(dfTest)"
   ]
  },
  {
   "cell_type": "code",
   "execution_count": null,
   "metadata": {},
   "outputs": [],
   "source": []
  },
  {
   "cell_type": "code",
   "execution_count": 119,
   "metadata": {},
   "outputs": [],
   "source": [
    "final = dfTest\n",
    "final['pred'] = final_pred[:,1]"
   ]
  },
  {
   "cell_type": "code",
   "execution_count": 120,
   "metadata": {},
   "outputs": [],
   "source": [
    "final.to_excel(\"l1BECS.xlsx\",index=True)"
   ]
  },
  {
   "cell_type": "code",
   "execution_count": 95,
   "metadata": {},
   "outputs": [
    {
     "name": "stdout",
     "output_type": "stream",
     "text": [
      "(0.05153418225639002, 'Linea')\n",
      "(0.06514353832493903, 'Gender')\n",
      "(0.06521465204756041, 'Center')\n",
      "(0.09674581498776565, 'Education')\n",
      "(0.10963254334569522, 'Nationality')\n",
      "(0.2344307957269039, 'Area')\n",
      "(0.3772984733107457, 'Age')\n"
     ]
    }
   ],
   "source": [
    "a=list(zip(fitted_models['rf'].best_estimator_.named_steps['randomforestclassifier'].feature_importances_,X_train))\n",
    "a.sort()\n",
    "for i in a:\n",
    "    print(i)"
   ]
  },
  {
   "cell_type": "code",
   "execution_count": null,
   "metadata": {},
   "outputs": [],
   "source": []
  }
 ],
 "metadata": {
  "kernelspec": {
   "display_name": "Python 3",
   "language": "python",
   "name": "python3"
  },
  "language_info": {
   "codemirror_mode": {
    "name": "ipython",
    "version": 3
   },
   "file_extension": ".py",
   "mimetype": "text/x-python",
   "name": "python",
   "nbconvert_exporter": "python",
   "pygments_lexer": "ipython3",
   "version": "3.8.3"
  }
 },
 "nbformat": 4,
 "nbformat_minor": 2
}
