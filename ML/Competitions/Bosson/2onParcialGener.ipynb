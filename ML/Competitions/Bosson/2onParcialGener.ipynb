{
 "cells": [
  {
   "cell_type": "markdown",
   "metadata": {},
   "source": [
    "# Examen 2on parcial d'Algorísmica (Gener 2020)\n",
    "\n",
    "Instruccions per fer l'examen:\n",
    "\n",
    "1. Entrar al campus virtual i baixar el notebook de l'examen.\n",
    "\n",
    "2. Desconnectar l'ordinador de la xarxa durant la realització de l'examen.\n",
    "\n",
    "3. Utilitzar Anaconda per executar el notebook i realitzar l'examen.\n",
    "\n",
    "4. Un cop decidiu lliurar-lo, reconnectar l'ordinador a la xarxa i fer el lliurament al Campus Virtual.\n",
    "\n",
    "> L'únic material que podeu ternir a la taula durant la realització de l'examen és la “xuleta” que us vam enviar i algun paper en blanc."
   ]
  },
  {
   "cell_type": "markdown",
   "metadata": {},
   "source": [
    "## Pregunta 1 (4 punts)\n",
    "\n",
    "Escriu una funció recursiva tal que donada una llista $a$ de nombres enters, retorni $True$ si hi ha un índex $i$ tal que $A[i]==i$. \n",
    "\n",
    "El comportament de l'algorisme ha de ser aquest:\n",
    "\n",
    "```\n",
    "index([-34,-56,-4,3,20,30,40,56,78]) -> True\n",
    "index([-34,-56,-4,30,20,30,40,56,78,1123]) -> False\n",
    "```"
   ]
  },
  {
   "cell_type": "code",
   "execution_count": 8,
   "metadata": {
    "inputHidden": false,
    "outputHidden": false
   },
   "outputs": [],
   "source": [
    "def index(a):\n",
    "    for i,j in enumerate(a):\n",
    "        if a[i] == i:\n",
    "            return True\n",
    "    return False\n",
    "    \n",
    "#########"
   ]
  },
  {
   "cell_type": "code",
   "execution_count": 11,
   "metadata": {},
   "outputs": [
    {
     "data": {
      "text/plain": [
       "True"
      ]
     },
     "execution_count": 11,
     "metadata": {},
     "output_type": "execute_result"
    }
   ],
   "source": [
    "index([-34,-56,2,523,230,30,40,56,78])"
   ]
  },
  {
   "cell_type": "markdown",
   "metadata": {},
   "source": [
    "## Pregunta 2 (4 punts)\n",
    "\n",
    "+ Escriu un algorisme que solucioni el problema de la motxil·la de forma exhaustiva. En aquest algorisme pots fer servir la funció `combinations` de Python, que us permet generar tots el subconjunts d´un conjunt:"
   ]
  },
  {
   "cell_type": "code",
   "execution_count": 1,
   "metadata": {
    "inputHidden": false,
    "outputHidden": false
   },
   "outputs": [
    {
     "name": "stdout",
     "output_type": "stream",
     "text": [
      "()\n",
      "(1,)\n",
      "(2,)\n",
      "(3,)\n",
      "(1, 2)\n",
      "(1, 3)\n",
      "(2, 3)\n"
     ]
    }
   ],
   "source": [
    "from itertools import combinations\n",
    "a =[1,2,3]\n",
    "for i in range(len(a)):\n",
    "    for j in combinations(a,i):\n",
    "         print(j)"
   ]
  },
  {
   "cell_type": "markdown",
   "metadata": {},
   "source": [
    "La funció que heu d'escriure ha de tenir dos paràmetres d'entrada:\n",
    "+ el pes màxim que pot soportar la motxil·la. \n",
    "+ llista de tuples que descriuen els ítems candidats a ser portats: `[(pes, preu), (pes, preu), ...] `\n",
    "\n",
    "La funció ha de maximitzar el preu dels ítems seleccionats i retornar aquest valor. \n",
    "\n",
    "Més concretament, si els ítems són  `[(1, 10), (10, 1000), (1, 10)]`, i la capacitat de la motxil·la és `2`, heu de retornar: `20` "
   ]
  },
  {
   "cell_type": "code",
   "execution_count": 47,
   "metadata": {
    "inputHidden": false,
    "outputHidden": false
   },
   "outputs": [],
   "source": [
    "def mot(pes_total, items):\n",
    "    '''\n",
    "    : pes_total: la capacitat de la motxil·la \n",
    "    : items: llista de tuples que descriuen els items: [(preu, pes), (preu, pes), ...]\n",
    "    '''\n",
    "    # escriu el teu codi aqui\n",
    "    \n",
    "    \n",
    "#######################\n",
    "    \n",
    "def mot_sol(capacity, weight_cost):\n",
    "    best_cost = 0\n",
    "    for way in range(len(weight_cost)):\n",
    "        for comb in combinations(weight_cost, way + 1):\n",
    "            weight = sum([wc[0] for wc in comb])\n",
    "            cost = sum([wc[1] for wc in comb])\n",
    "            if (best_cost == 0 or best_cost < cost) and weight <= capacity:\n",
    "                best_cost = cost\n",
    "    return best_cost"
   ]
  },
  {
   "cell_type": "markdown",
   "metadata": {},
   "source": [
    "Si obtens els següents resultats, l'algorisme segurament és correcte:\n",
    "\n",
    "```\n",
    "mot(2, [(1, 10), (10, 1000), (1, 10)]) -> 20\n",
    "mot(1,  [(1, 10), (10, 1000), (1, 30)]) -> 30\n",
    "```"
   ]
  },
  {
   "cell_type": "markdown",
   "metadata": {},
   "source": [
    "+ Quina complexitat té aquest algorisme?"
   ]
  },
  {
   "cell_type": "markdown",
   "metadata": {},
   "source": [
    "*Escriu la teva resposta aquí* ............... $O(2^n)$"
   ]
  },
  {
   "cell_type": "markdown",
   "metadata": {},
   "source": [
    "## Pregunta 3 (2 punts)\n",
    "\n",
    "Suposem que processem una llista qualsevol `list` amb el següent algorisme:\n",
    "\n",
    "```python\n",
    "def a(list):\n",
    "    if len(list) < 2:\n",
    "        return list\n",
    "    else:\n",
    "        middle = len(list) // 2\n",
    "        left = a(list[:middle])\n",
    "        right = a(list[middle:])\n",
    "        return b(left, right)\n",
    "    \n",
    "def b(left, right):\n",
    "    result = []\n",
    "    i ,j = 0, 0\n",
    "    while(i < len(left) and j < len(right)):\n",
    "        if (left[i] <= right[j]):\n",
    "            result.append(left[i])\n",
    "            i = i + 1\n",
    "        else:\n",
    "            result.append(right[j])\n",
    "            j = j + 1\n",
    "    result += left[i:]\n",
    "    result += right[j:]\n",
    "    return result\n",
    "``` \n",
    "\n",
    "+ Quins són els valors $(a,b,d)$ de la recurrència $T(n)=aT(n/b)+O(n^d)$ de l'algorisme $a$:"
   ]
  },
  {
   "cell_type": "markdown",
   "metadata": {},
   "source": [
    "*Escriu la teva resposta aquí*\n",
    "\n",
    "(2,2,1)"
   ]
  },
  {
   "cell_type": "markdown",
   "metadata": {},
   "source": [
    "* Quina complexitat té aquest algorisme?"
   ]
  },
  {
   "cell_type": "markdown",
   "metadata": {},
   "source": [
    "*Escriu la teva resposta aquí*\n",
    "\n",
    "$O(nlogn)$"
   ]
  }
 ],
 "metadata": {
  "kernel_info": {
   "name": "python3"
  },
  "kernelspec": {
   "display_name": "Python 3",
   "language": "python",
   "name": "python3"
  },
  "language_info": {
   "codemirror_mode": {
    "name": "ipython",
    "version": 3
   },
   "file_extension": ".py",
   "mimetype": "text/x-python",
   "name": "python",
   "nbconvert_exporter": "python",
   "pygments_lexer": "ipython3",
   "version": "3.8.3"
  },
  "nteract": {
   "version": "0.15.0"
  }
 },
 "nbformat": 4,
 "nbformat_minor": 4
}
