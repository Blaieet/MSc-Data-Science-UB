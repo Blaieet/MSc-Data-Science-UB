{
 "cells": [
  {
   "cell_type": "markdown",
   "metadata": {},
   "source": [
    "## Blai Ras Jimenez\n",
    "## Big Data: Assignment 1: Pymongo Queries"
   ]
  },
  {
   "cell_type": "code",
   "execution_count": 13,
   "metadata": {
    "ExecuteTime": {
     "end_time": "2021-03-24T10:20:38.397824Z",
     "start_time": "2021-03-24T10:20:38.392817Z"
    }
   },
   "outputs": [],
   "source": [
    "#Importing necessary packages\n",
    "import pymongo\n",
    "import datetime\n",
    "import pandas as pd\n",
    "from IPython.display import display, HTML"
   ]
  },
  {
   "cell_type": "code",
   "execution_count": 2,
   "metadata": {
    "ExecuteTime": {
     "end_time": "2021-03-24T10:00:00.486661Z",
     "start_time": "2021-03-24T10:00:00.444113Z"
    }
   },
   "outputs": [],
   "source": [
    "#Once I started my MongoDB Client locally on Docker, I can connect to it using a Python connector: Pymongo\n",
    "#Therefore, I just type my local adress (localhost) and the exposed port: 27017 in my case. \n",
    "\n",
    "myclient = pymongo.MongoClient(\"mongodb://localhost:27017/\")"
   ]
  },
  {
   "cell_type": "code",
   "execution_count": 3,
   "metadata": {
    "ExecuteTime": {
     "end_time": "2021-03-24T10:00:05.632580Z",
     "start_time": "2021-03-24T10:00:05.214849Z"
    }
   },
   "outputs": [
    {
     "data": {
      "text/plain": [
       "['admin', 'config', 'local', 'test', 'ub']"
      ]
     },
     "execution_count": 3,
     "metadata": {},
     "output_type": "execute_result"
    }
   ],
   "source": [
    "# Let's look what databases I have\n",
    "myclient.list_database_names()"
   ]
  },
  {
   "cell_type": "code",
   "execution_count": 31,
   "metadata": {
    "ExecuteTime": {
     "end_time": "2021-03-24T10:40:19.126367Z",
     "start_time": "2021-03-24T10:40:19.114370Z"
    }
   },
   "outputs": [],
   "source": [
    "#Get the database I'm interested in\n",
    "db = myclient[\"ub\"]"
   ]
  },
  {
   "cell_type": "code",
   "execution_count": 32,
   "metadata": {
    "ExecuteTime": {
     "end_time": "2021-03-24T10:40:29.412525Z",
     "start_time": "2021-03-24T10:40:29.398124Z"
    }
   },
   "outputs": [
    {
     "data": {
      "text/plain": [
       "['restaurants']"
      ]
     },
     "execution_count": 32,
     "metadata": {},
     "output_type": "execute_result"
    }
   ],
   "source": [
    "# And now look at their collection names\n",
    "db.list_collection_names()"
   ]
  },
  {
   "cell_type": "code",
   "execution_count": 33,
   "metadata": {
    "ExecuteTime": {
     "end_time": "2021-03-24T10:40:38.660525Z",
     "start_time": "2021-03-24T10:40:38.655493Z"
    }
   },
   "outputs": [],
   "source": [
    "#Get the collection I'm interested in\n",
    "rests = db[\"restaurants\"] "
   ]
  },
  {
   "cell_type": "code",
   "execution_count": 34,
   "metadata": {
    "ExecuteTime": {
     "end_time": "2021-03-24T10:41:13.106416Z",
     "start_time": "2021-03-24T10:41:13.089784Z"
    }
   },
   "outputs": [],
   "source": [
    "#Check if I have imported succesfully the 'restaurants.json' file in the collection \"restaurants\" inside the db \"ub\"\n",
    "if rests.count_documents({}) == 0:\n",
    "    print(\"Please import the json file 'restaurants.json' inside the 'restaurants' collection\")"
   ]
  },
  {
   "cell_type": "code",
   "execution_count": 35,
   "metadata": {
    "ExecuteTime": {
     "end_time": "2021-03-24T10:41:55.691199Z",
     "start_time": "2021-03-24T10:41:55.676180Z"
    }
   },
   "outputs": [],
   "source": [
    "# Function that given a list of curors (queries) returns a list of those queries results converted into Pandas dataframes\n",
    "def cursorToDF(cursors):\n",
    "    return [pd.DataFrame(list(cursor)) for cursor in cursors]"
   ]
  },
  {
   "cell_type": "markdown",
   "metadata": {},
   "source": [
    "## Queries Part 1"
   ]
  },
  {
   "cell_type": "code",
   "execution_count": 30,
   "metadata": {
    "ExecuteTime": {
     "end_time": "2021-03-24T10:39:07.339918Z",
     "start_time": "2021-03-24T10:39:07.216998Z"
    },
    "scrolled": false
   },
   "outputs": [
    {
     "name": "stdout",
     "output_type": "stream",
     "text": [
      "0 :\n",
      "\n"
     ]
    },
    {
     "data": {
      "text/html": [
       "<table border=\"1\" class=\"dataframe\">\n",
       "  <thead>\n",
       "    <tr style=\"text-align: right;\">\n",
       "      <th></th>\n",
       "      <th>_id</th>\n",
       "      <th>borough</th>\n",
       "      <th>cuisine</th>\n",
       "      <th>name</th>\n",
       "      <th>restaurant_id</th>\n",
       "    </tr>\n",
       "  </thead>\n",
       "  <tbody>\n",
       "    <tr>\n",
       "      <th>0</th>\n",
       "      <td>6059c884d6a4d029d0222f5a</td>\n",
       "      <td>Bronx</td>\n",
       "      <td>Bakery</td>\n",
       "      <td>Morris Park Bake Shop</td>\n",
       "      <td>30075445</td>\n",
       "    </tr>\n",
       "    <tr>\n",
       "      <th>1</th>\n",
       "      <td>6059c884d6a4d029d0222f5b</td>\n",
       "      <td>Brooklyn</td>\n",
       "      <td>Hamburgers</td>\n",
       "      <td>Wendy'S</td>\n",
       "      <td>30112340</td>\n",
       "    </tr>\n",
       "    <tr>\n",
       "      <th>2</th>\n",
       "      <td>6059c884d6a4d029d0222f5c</td>\n",
       "      <td>Manhattan</td>\n",
       "      <td>Irish</td>\n",
       "      <td>Dj Reynolds Pub And Restaurant</td>\n",
       "      <td>30191841</td>\n",
       "    </tr>\n",
       "    <tr>\n",
       "      <th>3</th>\n",
       "      <td>6059c884d6a4d029d0222f5d</td>\n",
       "      <td>Brooklyn</td>\n",
       "      <td>American</td>\n",
       "      <td>Riviera Caterer</td>\n",
       "      <td>40356018</td>\n",
       "    </tr>\n",
       "    <tr>\n",
       "      <th>4</th>\n",
       "      <td>6059c884d6a4d029d0222f5e</td>\n",
       "      <td>Queens</td>\n",
       "      <td>Jewish/Kosher</td>\n",
       "      <td>Tov Kosher Kitchen</td>\n",
       "      <td>40356068</td>\n",
       "    </tr>\n",
       "  </tbody>\n",
       "</table>"
      ],
      "text/plain": [
       "<IPython.core.display.HTML object>"
      ]
     },
     "metadata": {},
     "output_type": "display_data"
    },
    {
     "name": "stdout",
     "output_type": "stream",
     "text": [
      "1 :\n",
      "\n"
     ]
    },
    {
     "data": {
      "text/html": [
       "<table border=\"1\" class=\"dataframe\">\n",
       "  <thead>\n",
       "    <tr style=\"text-align: right;\">\n",
       "      <th></th>\n",
       "      <th>borough</th>\n",
       "      <th>cuisine</th>\n",
       "      <th>name</th>\n",
       "      <th>restaurant_id</th>\n",
       "    </tr>\n",
       "  </thead>\n",
       "  <tbody>\n",
       "    <tr>\n",
       "      <th>0</th>\n",
       "      <td>Bronx</td>\n",
       "      <td>Bakery</td>\n",
       "      <td>Morris Park Bake Shop</td>\n",
       "      <td>30075445</td>\n",
       "    </tr>\n",
       "    <tr>\n",
       "      <th>1</th>\n",
       "      <td>Brooklyn</td>\n",
       "      <td>Hamburgers</td>\n",
       "      <td>Wendy'S</td>\n",
       "      <td>30112340</td>\n",
       "    </tr>\n",
       "    <tr>\n",
       "      <th>2</th>\n",
       "      <td>Manhattan</td>\n",
       "      <td>Irish</td>\n",
       "      <td>Dj Reynolds Pub And Restaurant</td>\n",
       "      <td>30191841</td>\n",
       "    </tr>\n",
       "    <tr>\n",
       "      <th>3</th>\n",
       "      <td>Brooklyn</td>\n",
       "      <td>American</td>\n",
       "      <td>Riviera Caterer</td>\n",
       "      <td>40356018</td>\n",
       "    </tr>\n",
       "    <tr>\n",
       "      <th>4</th>\n",
       "      <td>Queens</td>\n",
       "      <td>Jewish/Kosher</td>\n",
       "      <td>Tov Kosher Kitchen</td>\n",
       "      <td>40356068</td>\n",
       "    </tr>\n",
       "  </tbody>\n",
       "</table>"
      ],
      "text/plain": [
       "<IPython.core.display.HTML object>"
      ]
     },
     "metadata": {},
     "output_type": "display_data"
    },
    {
     "name": "stdout",
     "output_type": "stream",
     "text": [
      "2 :\n",
      "\n"
     ]
    },
    {
     "data": {
      "text/html": [
       "<table border=\"1\" class=\"dataframe\">\n",
       "  <thead>\n",
       "    <tr style=\"text-align: right;\">\n",
       "      <th></th>\n",
       "      <th>_id</th>\n",
       "      <th>address</th>\n",
       "      <th>borough</th>\n",
       "      <th>cuisine</th>\n",
       "      <th>grades</th>\n",
       "      <th>name</th>\n",
       "      <th>restaurant_id</th>\n",
       "    </tr>\n",
       "  </thead>\n",
       "  <tbody>\n",
       "    <tr>\n",
       "      <th>0</th>\n",
       "      <td>6059c884d6a4d029d0222f5a</td>\n",
       "      <td>{'building': '1007', 'coord': [-73.856077, 40.848447], 'street': 'Morris Park Ave', 'zipcode': '10462'}</td>\n",
       "      <td>Bronx</td>\n",
       "      <td>Bakery</td>\n",
       "      <td>[{'date': 2014-03-03 00:00:00, 'grade': 'A', 'score': 2}, {'date': 2013-09-11 00:00:00, 'grade': 'A', 'score': 6}, {'date': 2013-01-24 00:00:00, 'grade': 'A', 'score': 10}, {'date': 2011-11-23 00:00:00, 'grade': 'A', 'score': 9}, {'date': 2011-03-10 00:00:00, 'grade': 'B', 'score': 14}]</td>\n",
       "      <td>Morris Park Bake Shop</td>\n",
       "      <td>30075445</td>\n",
       "    </tr>\n",
       "    <tr>\n",
       "      <th>1</th>\n",
       "      <td>6059c884d6a4d029d0222f64</td>\n",
       "      <td>{'building': '2300', 'coord': [-73.8786113, 40.8502883], 'street': 'Southern Boulevard', 'zipcode': '10460'}</td>\n",
       "      <td>Bronx</td>\n",
       "      <td>American</td>\n",
       "      <td>[{'date': 2014-05-28 00:00:00, 'grade': 'A', 'score': 11}, {'date': 2013-06-19 00:00:00, 'grade': 'A', 'score': 4}, {'date': 2012-06-15 00:00:00, 'grade': 'A', 'score': 3}]</td>\n",
       "      <td>Wild Asia</td>\n",
       "      <td>40357217</td>\n",
       "    </tr>\n",
       "    <tr>\n",
       "      <th>2</th>\n",
       "      <td>6059c884d6a4d029d0222f79</td>\n",
       "      <td>{'building': '1006', 'coord': [-73.84856870000002, 40.8903781], 'street': 'East 233 Street', 'zipcode': '10466'}</td>\n",
       "      <td>Bronx</td>\n",
       "      <td>Ice Cream, Gelato, Yogurt, Ices</td>\n",
       "      <td>[{'date': 2014-04-24 00:00:00, 'grade': 'A', 'score': 10}, {'date': 2013-09-05 00:00:00, 'grade': 'A', 'score': 10}, {'date': 2013-02-21 00:00:00, 'grade': 'A', 'score': 9}, {'date': 2012-07-03 00:00:00, 'grade': 'A', 'score': 11}, {'date': 2011-07-11 00:00:00, 'grade': 'A', 'score': 5}]</td>\n",
       "      <td>Carvel Ice Cream</td>\n",
       "      <td>40363093</td>\n",
       "    </tr>\n",
       "    <tr>\n",
       "      <th>3</th>\n",
       "      <td>6059c884d6a4d029d0222f7d</td>\n",
       "      <td>{'building': '1236', 'coord': [-73.8893654, 40.81376179999999], 'street': '238 Spofford Ave', 'zipcode': '10474'}</td>\n",
       "      <td>Bronx</td>\n",
       "      <td>Chinese</td>\n",
       "      <td>[{'date': 2013-12-30 00:00:00, 'grade': 'A', 'score': 8}, {'date': 2013-01-08 00:00:00, 'grade': 'A', 'score': 10}, {'date': 2012-06-12 00:00:00, 'grade': 'B', 'score': 15}]</td>\n",
       "      <td>Happy Garden</td>\n",
       "      <td>40363289</td>\n",
       "    </tr>\n",
       "    <tr>\n",
       "      <th>4</th>\n",
       "      <td>6059c884d6a4d029d0222f8f</td>\n",
       "      <td>{'building': '277', 'coord': [-73.8941893, 40.8634684], 'street': 'East Kingsbridge Road', 'zipcode': '10458'}</td>\n",
       "      <td>Bronx</td>\n",
       "      <td>Chinese</td>\n",
       "      <td>[{'date': 2014-03-03 00:00:00, 'grade': 'A', 'score': 10}, {'date': 2013-09-26 00:00:00, 'grade': 'A', 'score': 10}, {'date': 2013-03-19 00:00:00, 'grade': 'A', 'score': 10}, {'date': 2012-08-29 00:00:00, 'grade': 'A', 'score': 11}, {'date': 2011-08-17 00:00:00, 'grade': 'A', 'score': 13}]</td>\n",
       "      <td>Happy Garden</td>\n",
       "      <td>40364296</td>\n",
       "    </tr>\n",
       "  </tbody>\n",
       "</table>"
      ],
      "text/plain": [
       "<IPython.core.display.HTML object>"
      ]
     },
     "metadata": {},
     "output_type": "display_data"
    }
   ],
   "source": [
    "for i,df in enumerate(cursorToDF([rests.find({},{\"restaurant_id\":1,\"name\":1,\"borough\":1,\"cuisine\":1}),\n",
    "                      rests.find({},{\"restaurant_id\":1,\"name\":1,\"borough\":1,\"cuisine\" :1,\"_id\":0}),\n",
    "                      rests.find({\"borough\": \"Bronx\"})])):\n",
    "    print(i,\":\\n\")\n",
    "    display(HTML(df.head().to_html()))"
   ]
  },
  {
   "cell_type": "markdown",
   "metadata": {},
   "source": [
    "## Queries Part 2"
   ]
  },
  {
   "cell_type": "code",
   "execution_count": 29,
   "metadata": {
    "ExecuteTime": {
     "end_time": "2021-03-24T10:38:54.083081Z",
     "start_time": "2021-03-24T10:38:54.029107Z"
    }
   },
   "outputs": [
    {
     "name": "stdout",
     "output_type": "stream",
     "text": [
      "0 :\n",
      "\n"
     ]
    },
    {
     "data": {
      "text/html": [
       "<table border=\"1\" class=\"dataframe\">\n",
       "  <thead>\n",
       "    <tr style=\"text-align: right;\">\n",
       "      <th></th>\n",
       "      <th>_id</th>\n",
       "      <th>address</th>\n",
       "      <th>borough</th>\n",
       "      <th>cuisine</th>\n",
       "      <th>grades</th>\n",
       "      <th>name</th>\n",
       "      <th>restaurant_id</th>\n",
       "    </tr>\n",
       "  </thead>\n",
       "  <tbody>\n",
       "    <tr>\n",
       "      <th>0</th>\n",
       "      <td>6059c884d6a4d029d0222f5a</td>\n",
       "      <td>{'building': '1007', 'coord': [-73.856077, 40.848447], 'street': 'Morris Park Ave', 'zipcode': '10462'}</td>\n",
       "      <td>Bronx</td>\n",
       "      <td>Bakery</td>\n",
       "      <td>[{'date': 2014-03-03 00:00:00, 'grade': 'A', 'score': 2}, {'date': 2013-09-11 00:00:00, 'grade': 'A', 'score': 6}, {'date': 2013-01-24 00:00:00, 'grade': 'A', 'score': 10}, {'date': 2011-11-23 00:00:00, 'grade': 'A', 'score': 9}, {'date': 2011-03-10 00:00:00, 'grade': 'B', 'score': 14}]</td>\n",
       "      <td>Morris Park Bake Shop</td>\n",
       "      <td>30075445</td>\n",
       "    </tr>\n",
       "    <tr>\n",
       "      <th>1</th>\n",
       "      <td>6059c884d6a4d029d0222f64</td>\n",
       "      <td>{'building': '2300', 'coord': [-73.8786113, 40.8502883], 'street': 'Southern Boulevard', 'zipcode': '10460'}</td>\n",
       "      <td>Bronx</td>\n",
       "      <td>American</td>\n",
       "      <td>[{'date': 2014-05-28 00:00:00, 'grade': 'A', 'score': 11}, {'date': 2013-06-19 00:00:00, 'grade': 'A', 'score': 4}, {'date': 2012-06-15 00:00:00, 'grade': 'A', 'score': 3}]</td>\n",
       "      <td>Wild Asia</td>\n",
       "      <td>40357217</td>\n",
       "    </tr>\n",
       "    <tr>\n",
       "      <th>2</th>\n",
       "      <td>6059c884d6a4d029d0222f79</td>\n",
       "      <td>{'building': '1006', 'coord': [-73.84856870000002, 40.8903781], 'street': 'East 233 Street', 'zipcode': '10466'}</td>\n",
       "      <td>Bronx</td>\n",
       "      <td>Ice Cream, Gelato, Yogurt, Ices</td>\n",
       "      <td>[{'date': 2014-04-24 00:00:00, 'grade': 'A', 'score': 10}, {'date': 2013-09-05 00:00:00, 'grade': 'A', 'score': 10}, {'date': 2013-02-21 00:00:00, 'grade': 'A', 'score': 9}, {'date': 2012-07-03 00:00:00, 'grade': 'A', 'score': 11}, {'date': 2011-07-11 00:00:00, 'grade': 'A', 'score': 5}]</td>\n",
       "      <td>Carvel Ice Cream</td>\n",
       "      <td>40363093</td>\n",
       "    </tr>\n",
       "    <tr>\n",
       "      <th>3</th>\n",
       "      <td>6059c884d6a4d029d0222f7d</td>\n",
       "      <td>{'building': '1236', 'coord': [-73.8893654, 40.81376179999999], 'street': '238 Spofford Ave', 'zipcode': '10474'}</td>\n",
       "      <td>Bronx</td>\n",
       "      <td>Chinese</td>\n",
       "      <td>[{'date': 2013-12-30 00:00:00, 'grade': 'A', 'score': 8}, {'date': 2013-01-08 00:00:00, 'grade': 'A', 'score': 10}, {'date': 2012-06-12 00:00:00, 'grade': 'B', 'score': 15}]</td>\n",
       "      <td>Happy Garden</td>\n",
       "      <td>40363289</td>\n",
       "    </tr>\n",
       "    <tr>\n",
       "      <th>4</th>\n",
       "      <td>6059c884d6a4d029d0222f8f</td>\n",
       "      <td>{'building': '277', 'coord': [-73.8941893, 40.8634684], 'street': 'East Kingsbridge Road', 'zipcode': '10458'}</td>\n",
       "      <td>Bronx</td>\n",
       "      <td>Chinese</td>\n",
       "      <td>[{'date': 2014-03-03 00:00:00, 'grade': 'A', 'score': 10}, {'date': 2013-09-26 00:00:00, 'grade': 'A', 'score': 10}, {'date': 2013-03-19 00:00:00, 'grade': 'A', 'score': 10}, {'date': 2012-08-29 00:00:00, 'grade': 'A', 'score': 11}, {'date': 2011-08-17 00:00:00, 'grade': 'A', 'score': 13}]</td>\n",
       "      <td>Happy Garden</td>\n",
       "      <td>40364296</td>\n",
       "    </tr>\n",
       "  </tbody>\n",
       "</table>"
      ],
      "text/plain": [
       "<IPython.core.display.HTML object>"
      ]
     },
     "metadata": {},
     "output_type": "display_data"
    },
    {
     "name": "stdout",
     "output_type": "stream",
     "text": [
      "1 :\n",
      "\n"
     ]
    },
    {
     "data": {
      "text/html": [
       "<table border=\"1\" class=\"dataframe\">\n",
       "  <thead>\n",
       "    <tr style=\"text-align: right;\">\n",
       "      <th></th>\n",
       "      <th>_id</th>\n",
       "      <th>address</th>\n",
       "      <th>borough</th>\n",
       "      <th>cuisine</th>\n",
       "      <th>grades</th>\n",
       "      <th>name</th>\n",
       "      <th>restaurant_id</th>\n",
       "    </tr>\n",
       "  </thead>\n",
       "  <tbody>\n",
       "    <tr>\n",
       "      <th>0</th>\n",
       "      <td>6059c884d6a4d029d0222f97</td>\n",
       "      <td>{'building': '658', 'coord': [-73.81363999999999, 40.82941100000001], 'street': 'Clarence Ave', 'zipcode': '10465'}</td>\n",
       "      <td>Bronx</td>\n",
       "      <td>American</td>\n",
       "      <td>[{'date': 2014-06-21 00:00:00, 'grade': 'A', 'score': 5}, {'date': 2012-07-11 00:00:00, 'grade': 'A', 'score': 10}]</td>\n",
       "      <td>Manhem Club</td>\n",
       "      <td>40364363</td>\n",
       "    </tr>\n",
       "    <tr>\n",
       "      <th>1</th>\n",
       "      <td>6059c884d6a4d029d0222faf</td>\n",
       "      <td>{'building': '2222', 'coord': [-73.84971759999999, 40.8304811], 'street': 'Haviland Avenue', 'zipcode': '10462'}</td>\n",
       "      <td>Bronx</td>\n",
       "      <td>American</td>\n",
       "      <td>[{'date': 2014-12-18 00:00:00, 'grade': 'A', 'score': 7}, {'date': 2014-05-01 00:00:00, 'grade': 'B', 'score': 17}, {'date': 2013-03-14 00:00:00, 'grade': 'A', 'score': 12}, {'date': 2012-09-20 00:00:00, 'grade': 'A', 'score': 9}, {'date': 2012-02-08 00:00:00, 'grade': 'B', 'score': 19}]</td>\n",
       "      <td>The New Starling Athletic Club Of The Bronx</td>\n",
       "      <td>40364956</td>\n",
       "    </tr>\n",
       "    <tr>\n",
       "      <th>2</th>\n",
       "      <td>6059c884d6a4d029d0222fc7</td>\n",
       "      <td>{'building': '72', 'coord': [-73.92506, 40.8275556], 'street': 'East  161 Street', 'zipcode': '10451'}</td>\n",
       "      <td>Bronx</td>\n",
       "      <td>American</td>\n",
       "      <td>[{'date': 2014-04-15 00:00:00, 'grade': 'A', 'score': 9}, {'date': 2013-11-14 00:00:00, 'grade': 'A', 'score': 4}, {'date': 2013-07-29 00:00:00, 'grade': 'A', 'score': 10}, {'date': 2012-12-31 00:00:00, 'grade': 'B', 'score': 15}, {'date': 2012-05-30 00:00:00, 'grade': 'A', 'score': 13}, {'date': 2012-01-09 00:00:00, 'grade': 'A', 'score': 10}, {'date': 2011-08-15 00:00:00, 'grade': 'C', 'score': 37}]</td>\n",
       "      <td>Yankee Tavern</td>\n",
       "      <td>40365499</td>\n",
       "    </tr>\n",
       "    <tr>\n",
       "      <th>3</th>\n",
       "      <td>6059c884d6a4d029d0222fda</td>\n",
       "      <td>{'building': '331', 'coord': [-73.87786539999999, 40.8724377], 'street': 'East  204 Street', 'zipcode': '10467'}</td>\n",
       "      <td>Bronx</td>\n",
       "      <td>Irish</td>\n",
       "      <td>[{'date': 2014-08-26 00:00:00, 'grade': 'A', 'score': 10}, {'date': 2014-03-26 00:00:00, 'grade': 'B', 'score': 23}, {'date': 2013-09-11 00:00:00, 'grade': 'A', 'score': 13}, {'date': 2012-12-18 00:00:00, 'grade': 'B', 'score': 27}, {'date': 2011-10-20 00:00:00, 'grade': 'A', 'score': 13}]</td>\n",
       "      <td>Mcdwyers Pub</td>\n",
       "      <td>40365893</td>\n",
       "    </tr>\n",
       "    <tr>\n",
       "      <th>4</th>\n",
       "      <td>6059c884d6a4d029d0222ff3</td>\n",
       "      <td>{'building': '5820', 'coord': [-73.9002615, 40.885186], 'street': 'Broadway', 'zipcode': '10463'}</td>\n",
       "      <td>Bronx</td>\n",
       "      <td>American</td>\n",
       "      <td>[{'date': 2014-02-26 00:00:00, 'grade': 'A', 'score': 5}, {'date': 2013-10-09 00:00:00, 'grade': 'B', 'score': 19}, {'date': 2013-05-15 00:00:00, 'grade': 'A', 'score': 9}, {'date': 2012-11-20 00:00:00, 'grade': 'B', 'score': 18}, {'date': 2011-10-17 00:00:00, 'grade': 'A', 'score': 10}, {'date': 2011-06-22 00:00:00, 'grade': 'C', 'score': 35}]</td>\n",
       "      <td>The Punch Bowl</td>\n",
       "      <td>40366497</td>\n",
       "    </tr>\n",
       "  </tbody>\n",
       "</table>"
      ],
      "text/plain": [
       "<IPython.core.display.HTML object>"
      ]
     },
     "metadata": {},
     "output_type": "display_data"
    },
    {
     "name": "stdout",
     "output_type": "stream",
     "text": [
      "2 :\n",
      "\n"
     ]
    },
    {
     "data": {
      "text/html": [
       "<table border=\"1\" class=\"dataframe\">\n",
       "  <thead>\n",
       "    <tr style=\"text-align: right;\">\n",
       "      <th></th>\n",
       "      <th>_id</th>\n",
       "      <th>address</th>\n",
       "      <th>borough</th>\n",
       "      <th>cuisine</th>\n",
       "      <th>grades</th>\n",
       "      <th>name</th>\n",
       "      <th>restaurant_id</th>\n",
       "    </tr>\n",
       "  </thead>\n",
       "  <tbody>\n",
       "    <tr>\n",
       "      <th>0</th>\n",
       "      <td>6059c884d6a4d029d02230b8</td>\n",
       "      <td>{'building': '65', 'coord': [-73.9782725, 40.7624022], 'street': 'West   54 Street', 'zipcode': '10019'}</td>\n",
       "      <td>Manhattan</td>\n",
       "      <td>American</td>\n",
       "      <td>[{'date': 2014-08-22 00:00:00, 'grade': 'A', 'score': 11}, {'date': 2014-03-28 00:00:00, 'grade': 'C', 'score': 131}, {'date': 2013-09-25 00:00:00, 'grade': 'A', 'score': 11}, {'date': 2013-04-08 00:00:00, 'grade': 'B', 'score': 25}, {'date': 2012-10-15 00:00:00, 'grade': 'A', 'score': 11}, {'date': 2011-10-19 00:00:00, 'grade': 'A', 'score': 13}]</td>\n",
       "      <td>Murals On 54/Randolphs'S</td>\n",
       "      <td>40372466</td>\n",
       "    </tr>\n",
       "    <tr>\n",
       "      <th>1</th>\n",
       "      <td>6059c884d6a4d029d0223159</td>\n",
       "      <td>{'building': '345', 'coord': [-73.9864626, 40.7266739], 'street': 'East 6 Street', 'zipcode': '10003'}</td>\n",
       "      <td>Manhattan</td>\n",
       "      <td>Indian</td>\n",
       "      <td>[{'date': 2014-09-15 00:00:00, 'grade': 'A', 'score': 5}, {'date': 2014-01-14 00:00:00, 'grade': 'A', 'score': 8}, {'date': 2013-05-30 00:00:00, 'grade': 'A', 'score': 12}, {'date': 2013-04-24 00:00:00, 'grade': 'P', 'score': 2}, {'date': 2012-10-01 00:00:00, 'grade': 'A', 'score': 9}, {'date': 2012-04-06 00:00:00, 'grade': 'C', 'score': 92}, {'date': 2011-11-03 00:00:00, 'grade': 'C', 'score': 41}]</td>\n",
       "      <td>Gandhi</td>\n",
       "      <td>40381295</td>\n",
       "    </tr>\n",
       "    <tr>\n",
       "      <th>2</th>\n",
       "      <td>6059c884d6a4d029d02232bc</td>\n",
       "      <td>{'building': '130', 'coord': [-73.984758, 40.7457939], 'street': 'Madison Avenue', 'zipcode': '10016'}</td>\n",
       "      <td>Manhattan</td>\n",
       "      <td>Pizza/Italian</td>\n",
       "      <td>[{'date': 2014-12-24 00:00:00, 'grade': 'Z', 'score': 31}, {'date': 2014-06-17 00:00:00, 'grade': 'C', 'score': 98}, {'date': 2013-12-12 00:00:00, 'grade': 'C', 'score': 32}, {'date': 2013-05-22 00:00:00, 'grade': 'B', 'score': 21}, {'date': 2012-05-02 00:00:00, 'grade': 'A', 'score': 11}]</td>\n",
       "      <td>Bella Napoli</td>\n",
       "      <td>40393488</td>\n",
       "    </tr>\n",
       "  </tbody>\n",
       "</table>"
      ],
      "text/plain": [
       "<IPython.core.display.HTML object>"
      ]
     },
     "metadata": {},
     "output_type": "display_data"
    }
   ],
   "source": [
    "for i,df in enumerate(cursorToDF([rests.find({\"borough\":\"Bronx\"}).limit(5),\n",
    "                      rests.find({\"borough\":\"Bronx\"}).skip(5).limit(5),\n",
    "                      rests.find({\"grades\":{\"$elemMatch\":{\"score\":{\"$gt\":90}}}})])):\n",
    "    print(i,\":\\n\")\n",
    "    display(HTML(df.head().to_html()))"
   ]
  },
  {
   "cell_type": "markdown",
   "metadata": {},
   "source": [
    "## Queries Part 3"
   ]
  },
  {
   "cell_type": "code",
   "execution_count": 28,
   "metadata": {
    "ExecuteTime": {
     "end_time": "2021-03-24T10:38:24.020460Z",
     "start_time": "2021-03-24T10:38:23.955922Z"
    }
   },
   "outputs": [
    {
     "name": "stdout",
     "output_type": "stream",
     "text": [
      "0 :\n",
      "\n"
     ]
    },
    {
     "data": {
      "text/html": [
       "<table border=\"1\" class=\"dataframe\">\n",
       "  <thead>\n",
       "    <tr style=\"text-align: right;\">\n",
       "      <th></th>\n",
       "      <th>_id</th>\n",
       "      <th>address</th>\n",
       "      <th>borough</th>\n",
       "      <th>cuisine</th>\n",
       "      <th>grades</th>\n",
       "      <th>name</th>\n",
       "      <th>restaurant_id</th>\n",
       "    </tr>\n",
       "  </thead>\n",
       "  <tbody>\n",
       "    <tr>\n",
       "      <th>0</th>\n",
       "      <td>6059c884d6a4d029d0222f61</td>\n",
       "      <td>{'building': '7114', 'coord': [-73.9068506, 40.6199034], 'street': 'Avenue U', 'zipcode': '11234'}</td>\n",
       "      <td>Brooklyn</td>\n",
       "      <td>Delicatessen</td>\n",
       "      <td>[{'date': 2014-05-29 00:00:00, 'grade': 'A', 'score': 10}, {'date': 2014-01-14 00:00:00, 'grade': 'A', 'score': 10}, {'date': 2013-08-03 00:00:00, 'grade': 'A', 'score': 8}, {'date': 2012-07-18 00:00:00, 'grade': 'A', 'score': 10}, {'date': 2012-03-09 00:00:00, 'grade': 'A', 'score': 13}, {'date': 2011-10-14 00:00:00, 'grade': 'A', 'score': 9}]</td>\n",
       "      <td>Wilken'S Fine Food</td>\n",
       "      <td>40356483</td>\n",
       "    </tr>\n",
       "    <tr>\n",
       "      <th>1</th>\n",
       "      <td>6059c884d6a4d029d0222f64</td>\n",
       "      <td>{'building': '2300', 'coord': [-73.8786113, 40.8502883], 'street': 'Southern Boulevard', 'zipcode': '10460'}</td>\n",
       "      <td>Bronx</td>\n",
       "      <td>American</td>\n",
       "      <td>[{'date': 2014-05-28 00:00:00, 'grade': 'A', 'score': 11}, {'date': 2013-06-19 00:00:00, 'grade': 'A', 'score': 4}, {'date': 2012-06-15 00:00:00, 'grade': 'A', 'score': 3}]</td>\n",
       "      <td>Wild Asia</td>\n",
       "      <td>40357217</td>\n",
       "    </tr>\n",
       "    <tr>\n",
       "      <th>2</th>\n",
       "      <td>6059c885d6a4d029d0223d69</td>\n",
       "      <td>{'building': '605', 'coord': [-73.9020967, 40.81298], 'street': 'Southern Boulevard', 'zipcode': '10455'}</td>\n",
       "      <td>Bronx</td>\n",
       "      <td>Pizza</td>\n",
       "      <td>[{'date': 2014-09-18 00:00:00, 'grade': 'B', 'score': 21}, {'date': 2014-04-15 00:00:00, 'grade': 'C', 'score': 32}, {'date': 2013-10-08 00:00:00, 'grade': 'A', 'score': 5}, {'date': 2012-09-20 00:00:00, 'grade': 'A', 'score': 10}, {'date': 2012-05-07 00:00:00, 'grade': 'B', 'score': 19}, {'date': 2011-10-13 00:00:00, 'grade': 'B', 'score': 19}]</td>\n",
       "      <td>Wilbel Pizza</td>\n",
       "      <td>40871979</td>\n",
       "    </tr>\n",
       "  </tbody>\n",
       "</table>"
      ],
      "text/plain": [
       "<IPython.core.display.HTML object>"
      ]
     },
     "metadata": {},
     "output_type": "display_data"
    },
    {
     "name": "stdout",
     "output_type": "stream",
     "text": [
      "1 :\n",
      "\n"
     ]
    },
    {
     "data": {
      "text/html": [
       "<table border=\"1\" class=\"dataframe\">\n",
       "  <thead>\n",
       "    <tr style=\"text-align: right;\">\n",
       "      <th></th>\n",
       "      <th>_id</th>\n",
       "      <th>address</th>\n",
       "      <th>borough</th>\n",
       "      <th>cuisine</th>\n",
       "      <th>grades</th>\n",
       "      <th>name</th>\n",
       "      <th>restaurant_id</th>\n",
       "    </tr>\n",
       "  </thead>\n",
       "  <tbody>\n",
       "    <tr>\n",
       "      <th>0</th>\n",
       "      <td>6059c884d6a4d029d02233ed</td>\n",
       "      <td>{'building': '8', 'coord': [-74.000085, 40.733807], 'street': 'Christopher Street', 'zipcode': '10014'}</td>\n",
       "      <td>Manhattan</td>\n",
       "      <td>American</td>\n",
       "      <td>[{'date': 2014-12-22 00:00:00, 'grade': 'A', 'score': 7}, {'date': 2014-05-12 00:00:00, 'grade': 'A', 'score': 9}, {'date': 2013-03-06 00:00:00, 'grade': 'A', 'score': 7}, {'date': 2012-02-22 00:00:00, 'grade': 'A', 'score': 4}]</td>\n",
       "      <td>Pieces</td>\n",
       "      <td>40399910</td>\n",
       "    </tr>\n",
       "    <tr>\n",
       "      <th>1</th>\n",
       "      <td>6059c884d6a4d029d02234ac</td>\n",
       "      <td>{'building': '4605', 'coord': [-73.922226, 40.7276291], 'street': '56 Road', 'zipcode': '11378'}</td>\n",
       "      <td>Queens</td>\n",
       "      <td>American</td>\n",
       "      <td>[{'date': 2014-05-21 00:00:00, 'grade': 'A', 'score': 11}, {'date': 2013-12-12 00:00:00, 'grade': 'A', 'score': 7}, {'date': 2012-11-20 00:00:00, 'grade': 'A', 'score': 2}, {'date': 2011-12-05 00:00:00, 'grade': 'A', 'score': 12}, {'date': 2011-05-25 00:00:00, 'grade': 'A', 'score': 12}]</td>\n",
       "      <td>S.M.R Restaurant Services</td>\n",
       "      <td>40403857</td>\n",
       "    </tr>\n",
       "    <tr>\n",
       "      <th>2</th>\n",
       "      <td>6059c884d6a4d029d02234b2</td>\n",
       "      <td>{'building': '337', 'coord': [-73.9818651, 40.7337096], 'street': 'East 17 Street', 'zipcode': '10003'}</td>\n",
       "      <td>Manhattan</td>\n",
       "      <td>American</td>\n",
       "      <td>[{'date': 2014-09-18 00:00:00, 'grade': 'A', 'score': 10}, {'date': 2013-09-17 00:00:00, 'grade': 'A', 'score': 2}, {'date': 2012-09-21 00:00:00, 'grade': 'A', 'score': 10}, {'date': 2011-10-06 00:00:00, 'grade': 'A', 'score': 5}]</td>\n",
       "      <td>Good Shepherd Services</td>\n",
       "      <td>40403989</td>\n",
       "    </tr>\n",
       "    <tr>\n",
       "      <th>3</th>\n",
       "      <td>6059c884d6a4d029d0223965</td>\n",
       "      <td>{'building': '26421', 'coord': [-73.70820030000002, 40.7492044], 'street': 'Union Turnpike', 'zipcode': '11004'}</td>\n",
       "      <td>Queens</td>\n",
       "      <td>Ice Cream, Gelato, Yogurt, Ices</td>\n",
       "      <td>[{'date': 2014-05-19 00:00:00, 'grade': 'A', 'score': 9}, {'date': 2013-05-07 00:00:00, 'grade': 'A', 'score': 13}, {'date': 2012-04-12 00:00:00, 'grade': 'A', 'score': 4}, {'date': 2011-06-20 00:00:00, 'grade': 'A', 'score': 10}]</td>\n",
       "      <td>The Ice Box-Ralph'S Famous Italian Ices</td>\n",
       "      <td>40690899</td>\n",
       "    </tr>\n",
       "    <tr>\n",
       "      <th>4</th>\n",
       "      <td>6059c885d6a4d029d0223b67</td>\n",
       "      <td>{'building': '434', 'coord': [-73.968012, 40.597293], 'street': 'Avenue U', 'zipcode': '11223'}</td>\n",
       "      <td>Brooklyn</td>\n",
       "      <td>Jewish/Kosher</td>\n",
       "      <td>[{'date': 2014-10-29 00:00:00, 'grade': 'A', 'score': 11}, {'date': 2014-05-09 00:00:00, 'grade': 'A', 'score': 12}, {'date': 2013-09-18 00:00:00, 'grade': 'A', 'score': 13}, {'date': 2013-01-02 00:00:00, 'grade': 'A', 'score': 11}, {'date': 2012-02-02 00:00:00, 'grade': 'B', 'score': 27}]</td>\n",
       "      <td>Alices</td>\n",
       "      <td>40782042</td>\n",
       "    </tr>\n",
       "  </tbody>\n",
       "</table>"
      ],
      "text/plain": [
       "<IPython.core.display.HTML object>"
      ]
     },
     "metadata": {},
     "output_type": "display_data"
    },
    {
     "name": "stdout",
     "output_type": "stream",
     "text": [
      "2 :\n",
      "\n"
     ]
    },
    {
     "data": {
      "text/html": [
       "<table border=\"1\" class=\"dataframe\">\n",
       "  <thead>\n",
       "    <tr style=\"text-align: right;\">\n",
       "      <th></th>\n",
       "      <th>_id</th>\n",
       "      <th>address</th>\n",
       "      <th>borough</th>\n",
       "      <th>cuisine</th>\n",
       "      <th>grades</th>\n",
       "      <th>name</th>\n",
       "      <th>restaurant_id</th>\n",
       "    </tr>\n",
       "  </thead>\n",
       "  <tbody>\n",
       "    <tr>\n",
       "      <th>0</th>\n",
       "      <td>6059c884d6a4d029d0222f62</td>\n",
       "      <td>{'building': '6409', 'coord': [-74.00528899999999, 40.628886], 'street': '11 Avenue', 'zipcode': '11219'}</td>\n",
       "      <td>Brooklyn</td>\n",
       "      <td>American</td>\n",
       "      <td>[{'date': 2014-07-18 00:00:00, 'grade': 'A', 'score': 12}, {'date': 2013-07-30 00:00:00, 'grade': 'A', 'score': 12}, {'date': 2013-02-13 00:00:00, 'grade': 'A', 'score': 11}, {'date': 2012-08-16 00:00:00, 'grade': 'A', 'score': 2}, {'date': 2011-08-17 00:00:00, 'grade': 'A', 'score': 11}]</td>\n",
       "      <td>Regina Caterers</td>\n",
       "      <td>40356649</td>\n",
       "    </tr>\n",
       "    <tr>\n",
       "      <th>1</th>\n",
       "      <td>6059c884d6a4d029d022305f</td>\n",
       "      <td>{'building': '119', 'coord': [-74.00041689999999, 40.7302678], 'street': 'Mac Dougal Street', 'zipcode': '10012'}</td>\n",
       "      <td>Manhattan</td>\n",
       "      <td>Café/Coffee/Tea</td>\n",
       "      <td>[{'date': 2015-01-08 00:00:00, 'grade': 'A', 'score': 7}, {'date': 2014-07-22 00:00:00, 'grade': 'A', 'score': 12}, {'date': 2013-08-14 00:00:00, 'grade': 'A', 'score': 12}, {'date': 2013-03-28 00:00:00, 'grade': 'A', 'score': 13}, {'date': 2012-09-04 00:00:00, 'grade': 'A', 'score': 9}]</td>\n",
       "      <td>Caffe Reggio</td>\n",
       "      <td>40369418</td>\n",
       "    </tr>\n",
       "    <tr>\n",
       "      <th>2</th>\n",
       "      <td>6059c884d6a4d029d022316e</td>\n",
       "      <td>{'building': '540', 'coord': [-73.9692185, 40.7645497], 'street': 'Park Avenue', 'zipcode': '10065'}</td>\n",
       "      <td>Manhattan</td>\n",
       "      <td>American</td>\n",
       "      <td>[{'date': 2014-02-12 00:00:00, 'grade': 'A', 'score': 7}, {'date': 2011-10-06 00:00:00, 'grade': 'A', 'score': 13}]</td>\n",
       "      <td>Regency Hotel</td>\n",
       "      <td>40382679</td>\n",
       "    </tr>\n",
       "    <tr>\n",
       "      <th>3</th>\n",
       "      <td>6059c884d6a4d029d022348b</td>\n",
       "      <td>{'building': '15', 'coord': [-73.9681307, 40.7690148], 'street': 'East   67 Street', 'zipcode': '10065'}</td>\n",
       "      <td>Manhattan</td>\n",
       "      <td>American</td>\n",
       "      <td>[{'date': 2014-10-31 00:00:00, 'grade': 'A', 'score': 11}, {'date': 2014-06-06 00:00:00, 'grade': 'A', 'score': 11}, {'date': 2013-05-01 00:00:00, 'grade': 'A', 'score': 7}, {'date': 2012-12-05 00:00:00, 'grade': 'A', 'score': 9}, {'date': 2012-04-24 00:00:00, 'grade': 'B', 'score': 22}, {'date': 2011-11-17 00:00:00, 'grade': 'A', 'score': 12}]</td>\n",
       "      <td>Regency Whist Club</td>\n",
       "      <td>40402377</td>\n",
       "    </tr>\n",
       "    <tr>\n",
       "      <th>4</th>\n",
       "      <td>6059c884d6a4d029d022356e</td>\n",
       "      <td>{'building': '94-14', 'coord': [-73.86273609999999, 40.7289403], 'street': '63 Drive', 'zipcode': '11374'}</td>\n",
       "      <td>Queens</td>\n",
       "      <td>American</td>\n",
       "      <td>[{'date': 2014-12-23 00:00:00, 'grade': 'Z', 'score': 25}, {'date': 2014-08-20 00:00:00, 'grade': 'B', 'score': 26}, {'date': 2014-04-03 00:00:00, 'grade': 'B', 'score': 22}, {'date': 2013-07-03 00:00:00, 'grade': 'A', 'score': 12}, {'date': 2013-02-01 00:00:00, 'grade': 'C', 'score': 3}]</td>\n",
       "      <td>Rego Park Cafe</td>\n",
       "      <td>40523342</td>\n",
       "    </tr>\n",
       "  </tbody>\n",
       "</table>"
      ],
      "text/plain": [
       "<IPython.core.display.HTML object>"
      ]
     },
     "metadata": {},
     "output_type": "display_data"
    },
    {
     "name": "stdout",
     "output_type": "stream",
     "text": [
      "3 :\n",
      "\n"
     ]
    },
    {
     "data": {
      "text/html": [
       "<table border=\"1\" class=\"dataframe\">\n",
       "  <thead>\n",
       "    <tr style=\"text-align: right;\">\n",
       "      <th></th>\n",
       "      <th>_id</th>\n",
       "      <th>address</th>\n",
       "      <th>borough</th>\n",
       "      <th>cuisine</th>\n",
       "      <th>grades</th>\n",
       "      <th>name</th>\n",
       "      <th>restaurant_id</th>\n",
       "    </tr>\n",
       "  </thead>\n",
       "  <tbody>\n",
       "    <tr>\n",
       "      <th>0</th>\n",
       "      <td>6059c884d6a4d029d0222f7d</td>\n",
       "      <td>{'building': '1236', 'coord': [-73.8893654, 40.81376179999999], 'street': '238 Spofford Ave', 'zipcode': '10474'}</td>\n",
       "      <td>Bronx</td>\n",
       "      <td>Chinese</td>\n",
       "      <td>[{'date': 2013-12-30 00:00:00, 'grade': 'A', 'score': 8}, {'date': 2013-01-08 00:00:00, 'grade': 'A', 'score': 10}, {'date': 2012-06-12 00:00:00, 'grade': 'B', 'score': 15}]</td>\n",
       "      <td>Happy Garden</td>\n",
       "      <td>40363289</td>\n",
       "    </tr>\n",
       "    <tr>\n",
       "      <th>1</th>\n",
       "      <td>6059c884d6a4d029d0222f8f</td>\n",
       "      <td>{'building': '277', 'coord': [-73.8941893, 40.8634684], 'street': 'East Kingsbridge Road', 'zipcode': '10458'}</td>\n",
       "      <td>Bronx</td>\n",
       "      <td>Chinese</td>\n",
       "      <td>[{'date': 2014-03-03 00:00:00, 'grade': 'A', 'score': 10}, {'date': 2013-09-26 00:00:00, 'grade': 'A', 'score': 10}, {'date': 2013-03-19 00:00:00, 'grade': 'A', 'score': 10}, {'date': 2012-08-29 00:00:00, 'grade': 'A', 'score': 11}, {'date': 2011-08-17 00:00:00, 'grade': 'A', 'score': 13}]</td>\n",
       "      <td>Happy Garden</td>\n",
       "      <td>40364296</td>\n",
       "    </tr>\n",
       "    <tr>\n",
       "      <th>2</th>\n",
       "      <td>6059c884d6a4d029d0223507</td>\n",
       "      <td>{'building': '2459', 'coord': [-73.8929629, 40.8601605], 'street': 'Webster Avenue', 'zipcode': '10458'}</td>\n",
       "      <td>Bronx</td>\n",
       "      <td>Chinese</td>\n",
       "      <td>[{'date': 2014-12-23 00:00:00, 'grade': 'A', 'score': 7}, {'date': 2014-01-07 00:00:00, 'grade': 'A', 'score': 8}, {'date': 2012-12-28 00:00:00, 'grade': 'A', 'score': 11}, {'date': 2012-07-18 00:00:00, 'grade': 'A', 'score': 13}]</td>\n",
       "      <td>China Wok Ii</td>\n",
       "      <td>40510328</td>\n",
       "    </tr>\n",
       "    <tr>\n",
       "      <th>3</th>\n",
       "      <td>6059c884d6a4d029d0223592</td>\n",
       "      <td>{'building': '2102', 'coord': [-73.82609699999999, 40.8687177], 'street': 'Bartow Ave', 'zipcode': '10475'}</td>\n",
       "      <td>Bronx</td>\n",
       "      <td>Chinese</td>\n",
       "      <td>[{'date': 2014-08-04 00:00:00, 'grade': 'A', 'score': 7}, {'date': 2014-02-21 00:00:00, 'grade': 'A', 'score': 4}, {'date': 2013-05-30 00:00:00, 'grade': 'B', 'score': 17}, {'date': 2012-04-13 00:00:00, 'grade': 'A', 'score': 12}]</td>\n",
       "      <td>Dragon City</td>\n",
       "      <td>40529203</td>\n",
       "    </tr>\n",
       "    <tr>\n",
       "      <th>4</th>\n",
       "      <td>6059c884d6a4d029d0223641</td>\n",
       "      <td>{'building': '3511', 'coord': [-73.9100876, 40.8860444], 'street': 'Johnson Avenue', 'zipcode': '10463'}</td>\n",
       "      <td>Bronx</td>\n",
       "      <td>Chinese</td>\n",
       "      <td>[{'date': 2014-07-02 00:00:00, 'grade': 'A', 'score': 5}, {'date': 2013-11-06 00:00:00, 'grade': 'A', 'score': 8}, {'date': 2013-03-29 00:00:00, 'grade': 'B', 'score': 17}, {'date': 2012-06-20 00:00:00, 'grade': 'B', 'score': 27}]</td>\n",
       "      <td>Hunan Balcony</td>\n",
       "      <td>40551996</td>\n",
       "    </tr>\n",
       "  </tbody>\n",
       "</table>"
      ],
      "text/plain": [
       "<IPython.core.display.HTML object>"
      ]
     },
     "metadata": {},
     "output_type": "display_data"
    }
   ],
   "source": [
    "for i,df in enumerate(cursorToDF([rests.find({\"name\":{\"$regex\":\"^Wil\"}}),\n",
    "                      rests.find({\"name\":{\"$regex\":\"ces$\"}}),\n",
    "                      rests.find({\"name\":{\"$regex\":\".*Reg.*\"}}),\n",
    "                      rests.find({\"borough\":\"Bronx\",\n",
    "                                 \"$or\":[{\"cuisine\":\"American\"},\n",
    "                                        {\"cuisine\":\"Chinese\"}]})])):\n",
    "    print(i,\":\\n\")\n",
    "    display(HTML(df.head().to_html()))"
   ]
  },
  {
   "cell_type": "markdown",
   "metadata": {},
   "source": [
    "## My own query\n",
    "\n",
    "All the \"cafeterias\" (restaurants with 'cafe' in their name) which have a grade of \"A\" or \"B\" and their score is higher than 50. Print only the restaurant ID, name, borough and cuisine. "
   ]
  },
  {
   "cell_type": "code",
   "execution_count": 25,
   "metadata": {
    "ExecuteTime": {
     "end_time": "2021-03-24T10:37:26.520743Z",
     "start_time": "2021-03-24T10:37:26.495370Z"
    }
   },
   "outputs": [
    {
     "data": {
      "text/html": [
       "<table border=\"1\" class=\"dataframe\">\n",
       "  <thead>\n",
       "    <tr style=\"text-align: right;\">\n",
       "      <th></th>\n",
       "      <th>borough</th>\n",
       "      <th>cuisine</th>\n",
       "      <th>name</th>\n",
       "      <th>restaurant_id</th>\n",
       "    </tr>\n",
       "  </thead>\n",
       "  <tbody>\n",
       "    <tr>\n",
       "      <th>0</th>\n",
       "      <td>Manhattan</td>\n",
       "      <td>Spanish</td>\n",
       "      <td>Cafe Espanol</td>\n",
       "      <td>40370759</td>\n",
       "    </tr>\n",
       "    <tr>\n",
       "      <th>1</th>\n",
       "      <td>Manhattan</td>\n",
       "      <td>Café/Coffee/Tea</td>\n",
       "      <td>World Cup Cafe</td>\n",
       "      <td>40398588</td>\n",
       "    </tr>\n",
       "    <tr>\n",
       "      <th>2</th>\n",
       "      <td>Brooklyn</td>\n",
       "      <td>Bakery</td>\n",
       "      <td>Fortunato Bros Cafe &amp; Bakery</td>\n",
       "      <td>40400561</td>\n",
       "    </tr>\n",
       "    <tr>\n",
       "      <th>3</th>\n",
       "      <td>Manhattan</td>\n",
       "      <td>American</td>\n",
       "      <td>Europa Cafe</td>\n",
       "      <td>40698303</td>\n",
       "    </tr>\n",
       "    <tr>\n",
       "      <th>4</th>\n",
       "      <td>Brooklyn</td>\n",
       "      <td>American</td>\n",
       "      <td>Hanson Gourmet Deli &amp; Cafe</td>\n",
       "      <td>40727249</td>\n",
       "    </tr>\n",
       "  </tbody>\n",
       "</table>"
      ],
      "text/plain": [
       "<IPython.core.display.HTML object>"
      ]
     },
     "metadata": {},
     "output_type": "display_data"
    }
   ],
   "source": [
    "display(HTML(cursorToDF([rests.find({\"name\": { \"$regex\": \"Cafe\" },\n",
    "                       \"$and\":[{\"grades.grade\":{\"$in\":[\"A\",\"B\"]}},\n",
    "                              {\"grades.score\":{\"$gt\":50}}]},\n",
    "                                   {\"restaurant_id\" :1,\"name\":1,\"borough\":1,\"cuisine\":1,\"_id\":0})])[0].head().to_html()))"
   ]
  },
  {
   "cell_type": "code",
   "execution_count": null,
   "metadata": {},
   "outputs": [],
   "source": []
  }
 ],
 "metadata": {
  "kernelspec": {
   "display_name": "Python 3",
   "language": "python",
   "name": "python3"
  },
  "language_info": {
   "codemirror_mode": {
    "name": "ipython",
    "version": 3
   },
   "file_extension": ".py",
   "mimetype": "text/x-python",
   "name": "python",
   "nbconvert_exporter": "python",
   "pygments_lexer": "ipython3",
   "version": "3.8.3"
  }
 },
 "nbformat": 4,
 "nbformat_minor": 4
}
