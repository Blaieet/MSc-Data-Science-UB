{
 "cells": [
  {
   "cell_type": "markdown",
   "metadata": {},
   "source": [
    "\n",
    "<center>\n",
    "    <h1>Blai Ras Jimenez</h1>\n",
    "</center>\n",
    "\n",
    "# Ethical Data Science\n",
    "    \n",
    "## Assignment: Risk predicition of criminal re-offense\n"
   ]
  },
  {
   "cell_type": "markdown",
   "metadata": {},
   "source": [
    "\n",
    "**This notebook** presents an exploration of a sub-set of data from **[SAVRY](https://www.parinc.com/Products/Pkey/390)** (Structured Assessment of Violence Risk in Youth) applied to young offenders in Catalonia. \n",
    "\n",
    "SAVRY is a risk assessment tool, that supports structured professional judgement. SAVRY contains 24 risk factors, in which each item (variables `V65*` to `V88*`) can have one of three values (low=0, moderate=1, high=2), for a total score between 0 and 48 points. \n",
    "\n",
    "+ Human score: There is also a score by a professional (variable `V56_@R1_resum_risc_global_reverse`) that can be low, moderate, or high. \n",
    "+ Recividism: In this dataset, there is information about whether people committed a new crime after the evaluation.  The variable `V115_reincidencia_2015` represents Recidivism (year 2015).\n",
    "+ The variable `V60_SAVRY_total_score` contains a sum of scores in the risk items of SAVRY. This score can be seen as a baseline automatic method.\n",
    "\n",
    "Features values can be found in ``reincidenciaJusticiaMenors.xlsx``. The description of features can be found in ``recidivismJuvenileJustice_variables_EN.pdf``. The data file we use is a subset of data obtained by the Centre d'Estudis Jurídics i Formació Especialitzada of the Catalan government and released in 2017.\n",
    "\n",
    "The objectives of this assignment are: \n",
    "+ To compare the performance of SAVRY and ML-based methods, in terms of both performace and fairness metrics. \n",
    "+ To analyze the causes of unfairness.\n",
    "+ To explore a mitigation strategy."
   ]
  },
  {
   "cell_type": "code",
   "execution_count": 1,
   "metadata": {
    "ExecuteTime": {
     "end_time": "2021-04-30T15:41:13.505208Z",
     "start_time": "2021-04-30T15:41:12.282596Z"
    }
   },
   "outputs": [],
   "source": [
    "import numpy as np\n",
    "import pandas as pd\n",
    "import matplotlib.pyplot as plt\n",
    "\n",
    "from sklearn.feature_selection import SelectKBest\n",
    "from sklearn.feature_selection import chi2\n",
    "\n",
    "from sklearn.linear_model import LogisticRegression\n",
    "from sklearn.model_selection import train_test_split\n",
    "\n",
    "from sklearn.metrics import roc_auc_score, roc_curve, auc"
   ]
  },
  {
   "cell_type": "markdown",
   "metadata": {},
   "source": [
    "### Data Exploration"
   ]
  },
  {
   "cell_type": "code",
   "execution_count": 2,
   "metadata": {
    "ExecuteTime": {
     "end_time": "2021-04-30T15:41:19.558926Z",
     "start_time": "2021-04-30T15:41:13.507151Z"
    }
   },
   "outputs": [
    {
     "data": {
      "text/html": [
       "<div>\n",
       "<style scoped>\n",
       "    .dataframe tbody tr th:only-of-type {\n",
       "        vertical-align: middle;\n",
       "    }\n",
       "\n",
       "    .dataframe tbody tr th {\n",
       "        vertical-align: top;\n",
       "    }\n",
       "\n",
       "    .dataframe thead th {\n",
       "        text-align: right;\n",
       "    }\n",
       "</style>\n",
       "<table border=\"1\" class=\"dataframe\">\n",
       "  <thead>\n",
       "    <tr style=\"text-align: right;\">\n",
       "      <th></th>\n",
       "      <th>id</th>\n",
       "      <th>V1_sexe</th>\n",
       "      <th>V2_estranger</th>\n",
       "      <th>V3_nacionalitat</th>\n",
       "      <th>V4_nacionalitat_agrupat</th>\n",
       "      <th>V5_edat_fet_agrupat</th>\n",
       "      <th>V6_provincia</th>\n",
       "      <th>V7_comarca</th>\n",
       "      <th>V8_edat_fet</th>\n",
       "      <th>V9_edat_final_programa</th>\n",
       "      <th>...</th>\n",
       "      <th>V123_rein_fet_agrupat_2013</th>\n",
       "      <th>V124_rein_fet_violencia_2013</th>\n",
       "      <th>V125_rein_fet_tipus_2013</th>\n",
       "      <th>V126_primera_reincidencia_2013</th>\n",
       "      <th>V127_rein_programa_2013</th>\n",
       "      <th>V128_rein_programa_agrupat_2013</th>\n",
       "      <th>V129_on_reincidencia_2013</th>\n",
       "      <th>V130_nombre_rein_agrupat_2013</th>\n",
       "      <th>V131_severitat_puntuacio_2013</th>\n",
       "      <th>V132_REINCIDENCIA_2013</th>\n",
       "    </tr>\n",
       "  </thead>\n",
       "  <tbody>\n",
       "    <tr>\n",
       "      <th>0</th>\n",
       "      <td>691</td>\n",
       "      <td>Home</td>\n",
       "      <td>Espanyol</td>\n",
       "      <td>Espanya</td>\n",
       "      <td>NaN</td>\n",
       "      <td>14 i 15 anys</td>\n",
       "      <td>Lleida</td>\n",
       "      <td>Segrià</td>\n",
       "      <td>15.0</td>\n",
       "      <td>17</td>\n",
       "      <td>...</td>\n",
       "      <td>Contra la propietat no violent</td>\n",
       "      <td>No violent</td>\n",
       "      <td>Delicte</td>\n",
       "      <td>Presó</td>\n",
       "      <td>SIPC - Preventiva</td>\n",
       "      <td>Presó</td>\n",
       "      <td>Només Presó</td>\n",
       "      <td>2 o 3 reincidències</td>\n",
       "      <td>2.0</td>\n",
       "      <td>Sí</td>\n",
       "    </tr>\n",
       "    <tr>\n",
       "      <th>1</th>\n",
       "      <td>956</td>\n",
       "      <td>Dona</td>\n",
       "      <td>Espanyol</td>\n",
       "      <td>Espanya</td>\n",
       "      <td>NaN</td>\n",
       "      <td>14 i 15 anys</td>\n",
       "      <td>Barcelona</td>\n",
       "      <td>Barcelonès</td>\n",
       "      <td>14.0</td>\n",
       "      <td>15</td>\n",
       "      <td>...</td>\n",
       "      <td>Contra la propietat no violent</td>\n",
       "      <td>No violent</td>\n",
       "      <td>Delicte</td>\n",
       "      <td>Justícia juvenil</td>\n",
       "      <td>Assessorament tècnic menors</td>\n",
       "      <td>ATM</td>\n",
       "      <td>Només JJ</td>\n",
       "      <td>2 o 3 reincidències</td>\n",
       "      <td>1.0</td>\n",
       "      <td>Sí</td>\n",
       "    </tr>\n",
       "    <tr>\n",
       "      <th>2</th>\n",
       "      <td>2560</td>\n",
       "      <td>Home</td>\n",
       "      <td>Estranger</td>\n",
       "      <td>Marroc</td>\n",
       "      <td>Magrib</td>\n",
       "      <td>14 i 15 anys</td>\n",
       "      <td>Barcelona</td>\n",
       "      <td>Anoia</td>\n",
       "      <td>15.0</td>\n",
       "      <td>16</td>\n",
       "      <td>...</td>\n",
       "      <td>Altres</td>\n",
       "      <td>No violent</td>\n",
       "      <td>Delicte</td>\n",
       "      <td>Justícia juvenil</td>\n",
       "      <td>Realització de tasques socioeducatives</td>\n",
       "      <td>Altres MO</td>\n",
       "      <td>Justícia juvenil i presó</td>\n",
       "      <td>Més de 3 reincidències</td>\n",
       "      <td>2.0</td>\n",
       "      <td>Sí</td>\n",
       "    </tr>\n",
       "    <tr>\n",
       "      <th>3</th>\n",
       "      <td>2018</td>\n",
       "      <td>Home</td>\n",
       "      <td>Estranger</td>\n",
       "      <td>Marroc</td>\n",
       "      <td>Magrib</td>\n",
       "      <td>14 i 15 anys</td>\n",
       "      <td>Girona</td>\n",
       "      <td>Gironès</td>\n",
       "      <td>14.0</td>\n",
       "      <td>15</td>\n",
       "      <td>...</td>\n",
       "      <td>Altres</td>\n",
       "      <td>No violent</td>\n",
       "      <td>Delicte</td>\n",
       "      <td>Justícia juvenil</td>\n",
       "      <td>Permanència de cap de setmana en centre</td>\n",
       "      <td>Internament</td>\n",
       "      <td>Només JJ</td>\n",
       "      <td>Més de 3 reincidències</td>\n",
       "      <td>3.0</td>\n",
       "      <td>Sí</td>\n",
       "    </tr>\n",
       "    <tr>\n",
       "      <th>4</th>\n",
       "      <td>1650</td>\n",
       "      <td>Home</td>\n",
       "      <td>Espanyol</td>\n",
       "      <td>Espanya</td>\n",
       "      <td>NaN</td>\n",
       "      <td>16 i 17 anys</td>\n",
       "      <td>Tarragona</td>\n",
       "      <td>Tarragonès</td>\n",
       "      <td>17.0</td>\n",
       "      <td>20</td>\n",
       "      <td>...</td>\n",
       "      <td>Altres</td>\n",
       "      <td>No violent</td>\n",
       "      <td>Delicte</td>\n",
       "      <td>MPA</td>\n",
       "      <td>MPA - Treballs en benefici de la comunitat</td>\n",
       "      <td>TBC</td>\n",
       "      <td>Només MPA</td>\n",
       "      <td>1 reincidència</td>\n",
       "      <td>1.0</td>\n",
       "      <td>Sí</td>\n",
       "    </tr>\n",
       "  </tbody>\n",
       "</table>\n",
       "<p>5 rows × 142 columns</p>\n",
       "</div>"
      ],
      "text/plain": [
       "     id V1_sexe V2_estranger V3_nacionalitat V4_nacionalitat_agrupat  \\\n",
       "0   691    Home     Espanyol         Espanya                     NaN   \n",
       "1   956    Dona     Espanyol         Espanya                     NaN   \n",
       "2  2560    Home    Estranger          Marroc                  Magrib   \n",
       "3  2018    Home    Estranger          Marroc                  Magrib   \n",
       "4  1650    Home     Espanyol         Espanya                     NaN   \n",
       "\n",
       "  V5_edat_fet_agrupat V6_provincia  V7_comarca  V8_edat_fet  \\\n",
       "0        14 i 15 anys       Lleida      Segrià         15.0   \n",
       "1        14 i 15 anys    Barcelona  Barcelonès         14.0   \n",
       "2        14 i 15 anys    Barcelona       Anoia         15.0   \n",
       "3        14 i 15 anys       Girona     Gironès         14.0   \n",
       "4        16 i 17 anys    Tarragona  Tarragonès         17.0   \n",
       "\n",
       "   V9_edat_final_programa  ...      V123_rein_fet_agrupat_2013  \\\n",
       "0                      17  ...  Contra la propietat no violent   \n",
       "1                      15  ...  Contra la propietat no violent   \n",
       "2                      16  ...                          Altres   \n",
       "3                      15  ...                          Altres   \n",
       "4                      20  ...                          Altres   \n",
       "\n",
       "   V124_rein_fet_violencia_2013 V125_rein_fet_tipus_2013  \\\n",
       "0                    No violent                  Delicte   \n",
       "1                    No violent                  Delicte   \n",
       "2                    No violent                  Delicte   \n",
       "3                    No violent                  Delicte   \n",
       "4                    No violent                  Delicte   \n",
       "\n",
       "  V126_primera_reincidencia_2013                     V127_rein_programa_2013  \\\n",
       "0                          Presó                           SIPC - Preventiva   \n",
       "1               Justícia juvenil                 Assessorament tècnic menors   \n",
       "2               Justícia juvenil      Realització de tasques socioeducatives   \n",
       "3               Justícia juvenil     Permanència de cap de setmana en centre   \n",
       "4                            MPA  MPA - Treballs en benefici de la comunitat   \n",
       "\n",
       "  V128_rein_programa_agrupat_2013 V129_on_reincidencia_2013  \\\n",
       "0                           Presó               Només Presó   \n",
       "1                             ATM                  Només JJ   \n",
       "2                       Altres MO  Justícia juvenil i presó   \n",
       "3                     Internament                  Només JJ   \n",
       "4                             TBC                 Només MPA   \n",
       "\n",
       "  V130_nombre_rein_agrupat_2013 V131_severitat_puntuacio_2013  \\\n",
       "0           2 o 3 reincidències                           2.0   \n",
       "1           2 o 3 reincidències                           1.0   \n",
       "2        Més de 3 reincidències                           2.0   \n",
       "3        Més de 3 reincidències                           3.0   \n",
       "4                1 reincidència                           1.0   \n",
       "\n",
       "  V132_REINCIDENCIA_2013  \n",
       "0                     Sí  \n",
       "1                     Sí  \n",
       "2                     Sí  \n",
       "3                     Sí  \n",
       "4                     Sí  \n",
       "\n",
       "[5 rows x 142 columns]"
      ]
     },
     "execution_count": 2,
     "metadata": {},
     "output_type": "execute_result"
    }
   ],
   "source": [
    "FILENAME_DATASET = 'reincidenciaJusticiaMenors.xlsx'\n",
    "\n",
    "df = pd.read_excel(FILENAME_DATASET)\n",
    "df.head()"
   ]
  },
  {
   "cell_type": "code",
   "execution_count": 3,
   "metadata": {
    "ExecuteTime": {
     "end_time": "2021-04-30T15:41:19.588923Z",
     "start_time": "2021-04-30T15:41:19.560893Z"
    }
   },
   "outputs": [
    {
     "name": "stdout",
     "output_type": "stream",
     "text": [
      "0 id\n",
      "1 V1_sexe\n",
      "2 V2_estranger\n",
      "3 V3_nacionalitat\n",
      "4 V4_nacionalitat_agrupat\n",
      "5 V5_edat_fet_agrupat\n",
      "6 V6_provincia\n",
      "7 V7_comarca\n",
      "8 V8_edat_fet\n",
      "9 V9_edat_final_programa\n",
      "10 V10_data_naixement\n",
      "11 xxxxxxxx_FETS\n",
      "12 V11_antecedents\n",
      "13 V12_nombre_ante_agrupat\n",
      "14 V13_nombre_fets_agrupat\n",
      "15 V14_fet\n",
      "16 V15_fet_agrupat\n",
      "17 V16_fet_violencia\n",
      "18 V17_fet_tipus\n",
      "19 V19_fets_desagrupats\n",
      "20 V20_nombre_antecedents\n",
      "21 V21_fet_nombre\n",
      "22 V22_data_fet\n",
      "23 xxxxxxxx_PROGRAMA\n",
      "24 V23_territori\n",
      "25 V24_programa\n",
      "26 V25_programa_mesura\n",
      "27 V26_mesures\n",
      "28 V27_durada_programa_agrupat\n",
      "29 V28_temps_inici\n",
      "30 V29_durada_programa\n",
      "31 V30_data_inici_programa\n",
      "32 V31_data_fi_programa\n",
      "33 xxxxxxxxxxxxxx_MRM\n",
      "34 V32_MRM_resultat\n",
      "35 V33_MRM_participacio_victima\n",
      "36 V34_MRM_tipus\n",
      "37 V35_MRM_forma\n",
      "38 V36_MRM_negatiu\n",
      "39 V37_MRM_conciliacio_victimaexlus\n",
      "40 V38_MRM_reparacio_economica\n",
      "41 V39_MRM_reparacio_noeconomica\n",
      "42 V40_MRM_reparacio_comunitaria\n",
      "43 V41_MRM_participacio_trobada\n",
      "44 V42_MRM_participacio_notrobada\n",
      "45 V43_MRM_iniciativa_parts\n",
      "46 V44_MRM_norepa_actitudmen\n",
      "47 V45_MRM_noreparacio_decisio_med\n",
      "48 V46_MRM_fet_sensevictima\n",
      "49 V47_MRM_victima_nolocalitzabl\n",
      "50 V48_MRM_victima_rebutja_parti\n",
      "51 V49_MRM_victima_vol\n",
      "52 V50_MRM_escrit_reflexio\n",
      "53 V51_MRM_reparacio_social\n",
      "54 V52_MRM_reparacio_activitateducativa\n",
      "55 xxxxxxxx_ATM\n",
      "56 V53_ATM_tipus\n",
      "57 xxxxxxxx_SAVRY\n",
      "58 V54_SAVRYprograma\n",
      "59 V55_SAVRYdata\n",
      "60 V56_@R1_resum_risc_global_reverse\n",
      "61 V57_@R2_resum_risc_delictes_violents\n",
      "62 V58_@R3_resum_risc_violencia_centre\n",
      "63 V59_@R4_resum_risc_sortides_permisos\n",
      "64 V60_SAVRY_total_score\n",
      "65 V61_SAVRY_historics_total_score\n",
      "66 V62_SAVRY_socials_total_score\n",
      "67 V63_SAVRY_individuals_total_score\n",
      "68 V64_SAVRY_proteccio_total_score\n",
      "69 xxxxxxxx_SAVRY_FACTORS_RISC\n",
      "70 V65_@1_violencia_previa\n",
      "71 V66_@2_historia_delictes_no_violents\n",
      "72 V67_@3_inici_precoç_violencia\n",
      "73 V68_@4_fracas_intervencions_anteriors\n",
      "74 V69_@5_intents_autolesio_suicidi_anteriors\n",
      "75 V70_@6_exposicio_violencia_llar\n",
      "76 V71_@7_historia_maltracte_infantil\n",
      "77 V72_@8_delinquencia_pares\n",
      "78 V73_@9_separacio_precoç_pares\n",
      "79 V74_@10_baix_rendiment_escola\n",
      "80 V75_@11_delinquencia_grup_iguals\n",
      "81 V76_@12_rebuig_grup_iguals\n",
      "82 V77_@13_estrés_incapacitat_enfrontar_dificultats\n",
      "83 V78_@14_escassa_habilitat_pares_educar\n",
      "84 V79_@15_manca_suport_personal_social\n",
      "85 V80_@16_entorn_marginal\n",
      "86 V81_@17_actitud_negatives\n",
      "87 V82_@18_assumpcio_riscos_impulsivitat\n",
      "88 V83_@19_problemes_consum_toxics\n",
      "89 V84_@20_problemes_maneig_enuig\n",
      "90 V85_@21_baix_nivell_empatia_remordiment\n",
      "91 V86_@22_problemes_concentracio_hiperactivitat\n",
      "92 V87_@23_baixa_colaboracio_intervencions\n",
      "93 V88_@24_baix_compromis_escolar_laboral\n",
      "94 xxxxxxxx_SAVRY_FACTORS_PROTECCIÓ\n",
      "95 V89_@P1_impicacio_prosocial\n",
      "96 V90_@P2_suport_social_fort\n",
      "97 V91_@P3_forta_vinculacio_adult_prosocial\n",
      "98 V92_@P4_actitud_positiva_intervencions_autoritat\n",
      "99 V93_@P5_fort_compromis_escola_treball\n",
      "100 V94_@P6_perseverança_tret_personalitat\n",
      "101 xxxxxxxx_SAVRY_MODEL\n",
      "102 V95_FACT1mean_ANTISOCIAL\n",
      "103 V96_FACT2mean_DINAMICAFAM\n",
      "104 V97_FACT3mean_PERSONALITAT\n",
      "105 V98_FACT4mean_SUPORTSOCIAL\n",
      "106 V99_FACT5mean_SUSCEPTIBILITAT\n",
      "107 xxxxxxxx_REINCIDENCIA_2015\n",
      "108 V100_rein_nombre_fets_2015\n",
      "109 V101_rein_data_fet_2015\n",
      "110 V102_edat_reincidencia_2015\n",
      "111 V103_temps_reincidencia_2015\n",
      "112 V104_nombre_reincidencies_2015\n",
      "113 V105_temps_rein_agrupat_2015\n",
      "114 V106_rein_fet_2015\n",
      "115 V107_rein_fet_agrupat_2015\n",
      "116 V108_rein_fet_violencia_2015\n",
      "117 V109_rein_fet_tipus_2015\n",
      "118 V110_primera_reincidencia_2015\n",
      "119 V111_rein_programa_2015\n",
      "120 V112_rein_programa_agrupat_2015\n",
      "121 V113_on_reincidencia_2015\n",
      "122 V114_nombre_rein_agrupat_2015\n",
      "123 V115_reincidencia_2015\n",
      "124 xxxxxxxx_REINCIDENCIA_2013\n",
      "125 V116_rein_nombre_fets_2013\n",
      "126 V117_rein_data_fet_2013\n",
      "127 V118_edat_reincidencia_2013\n",
      "128 V119_temps_reincidencia_2013\n",
      "129 V120_nombre_reincidencies_2013\n",
      "130 V121_temps_rein_agrupat_2013\n",
      "131 V122_rein_fet_2013\n",
      "132 V123_rein_fet_agrupat_2013\n",
      "133 V124_rein_fet_violencia_2013\n",
      "134 V125_rein_fet_tipus_2013\n",
      "135 V126_primera_reincidencia_2013\n",
      "136 V127_rein_programa_2013\n",
      "137 V128_rein_programa_agrupat_2013\n",
      "138 V129_on_reincidencia_2013\n",
      "139 V130_nombre_rein_agrupat_2013\n",
      "140 V131_severitat_puntuacio_2013\n",
      "141 V132_REINCIDENCIA_2013\n"
     ]
    }
   ],
   "source": [
    "for k,i in enumerate(list(df.columns)):\n",
    "    print(k,i)"
   ]
  },
  {
   "cell_type": "code",
   "execution_count": 4,
   "metadata": {
    "ExecuteTime": {
     "end_time": "2021-04-30T15:41:19.604937Z",
     "start_time": "2021-04-30T15:41:19.589904Z"
    }
   },
   "outputs": [],
   "source": [
    "# data cleaning\n",
    "\n",
    "df = df.dropna(subset=[\"V60_SAVRY_total_score\", \n",
    "                       \"V8_edat_fet\", \n",
    "                       \"V20_nombre_antecedents\", \n",
    "                       \"V89_@P1_impicacio_prosocial\", \n",
    "                       \"V90_@P2_suport_social_fort\",\n",
    "                       \"V91_@P3_forta_vinculacio_adult_prosocial\", \n",
    "                       \"V92_@P4_actitud_positiva_intervencions_autoritat\",\n",
    "                       \"V93_@P5_fort_compromis_escola_treball\", \n",
    "                       \"V94_@P6_perseverança_tret_personalitat\"])\n",
    "df = df.drop(df[df[\"V60_SAVRY_total_score\"]>48].index)"
   ]
  },
  {
   "cell_type": "code",
   "execution_count": 5,
   "metadata": {
    "ExecuteTime": {
     "end_time": "2021-04-30T15:41:19.731154Z",
     "start_time": "2021-04-30T15:41:19.606901Z"
    }
   },
   "outputs": [
    {
     "data": {
      "image/png": "[encoded data removed]",
      "text/plain": [
       "<Figure size 432x288 with 1 Axes>"
      ]
     },
     "metadata": {
      "needs_background": "light"
     },
     "output_type": "display_data"
    }
   ],
   "source": [
    "# data distribution by gender\n",
    "\n",
    "_ = df['V1_sexe'].value_counts(ascending=True).plot(kind='barh', title='Gender')"
   ]
  },
  {
   "cell_type": "code",
   "execution_count": 6,
   "metadata": {
    "ExecuteTime": {
     "end_time": "2021-04-30T15:41:19.825195Z",
     "start_time": "2021-04-30T15:41:19.732187Z"
    }
   },
   "outputs": [
    {
     "data": {
      "image/png": "[encoded data removed]",
      "text/plain": [
       "<Figure size 432x288 with 1 Axes>"
      ]
     },
     "metadata": {
      "needs_background": "light"
     },
     "output_type": "display_data"
    }
   ],
   "source": [
    "# data distribution by nationality\n",
    "\n",
    "_ = df['V2_estranger'].value_counts(ascending=True).plot(kind='barh', title='Nationality')"
   ]
  },
  {
   "cell_type": "code",
   "execution_count": 7,
   "metadata": {
    "ExecuteTime": {
     "end_time": "2021-04-30T15:41:19.921189Z",
     "start_time": "2021-04-30T15:41:19.828152Z"
    }
   },
   "outputs": [
    {
     "data": {
      "image/png": "[encoded data removed]",
      "text/plain": [
       "<Figure size 432x288 with 1 Axes>"
      ]
     },
     "metadata": {
      "needs_background": "light"
     },
     "output_type": "display_data"
    }
   ],
   "source": [
    "# data distribution by age\n",
    "\n",
    "_ = df['V8_edat_fet'].value_counts(ascending=True).plot(kind='barh', title='Age of main crime')"
   ]
  },
  {
   "cell_type": "code",
   "execution_count": 8,
   "metadata": {
    "ExecuteTime": {
     "end_time": "2021-04-30T15:41:20.045189Z",
     "start_time": "2021-04-30T15:41:19.923153Z"
    }
   },
   "outputs": [
    {
     "data": {
      "image/png": "[encoded data removed]",
      "text/plain": [
       "<Figure size 432x288 with 1 Axes>"
      ]
     },
     "metadata": {
      "needs_background": "light"
     },
     "output_type": "display_data"
    }
   ],
   "source": [
    "# data distribution by type of index crime\n",
    "\n",
    "_ = df['V15_fet_agrupat'].value_counts(ascending=True).plot(kind='barh', title='Type of index crime')"
   ]
  },
  {
   "cell_type": "markdown",
   "metadata": {},
   "source": [
    "## SAVRY model (human assessment)\n",
    "\n",
    "The column `V56_@R1_resum_risc_global_reverse` is an evaluation done by a professional expert (that can be low, moderate, or high), based on the results of SAVRY but **applying his/her own judgment independently of the obtained score**.\n",
    "\n",
    "The expert rates each defendant as \"low\", \"medium\", or \"high\" risk. Ideally, defendants considered low risk should recidivate at a lower rate than defendants considered high risk."
   ]
  },
  {
   "cell_type": "code",
   "execution_count": 9,
   "metadata": {
    "ExecuteTime": {
     "end_time": "2021-04-30T15:41:20.139186Z",
     "start_time": "2021-04-30T15:41:20.046194Z"
    }
   },
   "outputs": [
    {
     "data": {
      "image/png": "[encoded data removed]",
      "text/plain": [
       "<Figure size 432x288 with 1 Axes>"
      ]
     },
     "metadata": {
      "needs_background": "light"
     },
     "output_type": "display_data"
    }
   ],
   "source": [
    "# human score distribution\n",
    "\n",
    "hist = df['V56_@R1_resum_risc_global_reverse'].hist(bins=3)"
   ]
  },
  {
   "cell_type": "code",
   "execution_count": 10,
   "metadata": {
    "ExecuteTime": {
     "end_time": "2021-04-30T15:41:20.265240Z",
     "start_time": "2021-04-30T15:41:20.140186Z"
    }
   },
   "outputs": [
    {
     "data": {
      "image/png": "[encoded data removed]",
      "text/plain": [
       "<Figure size 432x288 with 1 Axes>"
      ]
     },
     "metadata": {
      "needs_background": "light"
     },
     "output_type": "display_data"
    }
   ],
   "source": [
    "# human score distribution | recividism\n",
    "\n",
    "human_ctable = pd.crosstab(df['V56_@R1_resum_risc_global_reverse'], df['V115_reincidencia_2015'])\n",
    "human_ctable = human_ctable.reindex(index=[\"Baixa\", \"Moderada\", \"Alta\"])\n",
    "_ = human_ctable.plot(kind='barh')"
   ]
  },
  {
   "cell_type": "code",
   "execution_count": 11,
   "metadata": {
    "ExecuteTime": {
     "end_time": "2021-04-30T15:41:20.281152Z",
     "start_time": "2021-04-30T15:41:20.267154Z"
    }
   },
   "outputs": [
    {
     "data": {
      "text/html": [
       "<div>\n",
       "<style scoped>\n",
       "    .dataframe tbody tr th:only-of-type {\n",
       "        vertical-align: middle;\n",
       "    }\n",
       "\n",
       "    .dataframe tbody tr th {\n",
       "        vertical-align: top;\n",
       "    }\n",
       "\n",
       "    .dataframe thead th {\n",
       "        text-align: right;\n",
       "    }\n",
       "</style>\n",
       "<table border=\"1\" class=\"dataframe\">\n",
       "  <thead>\n",
       "    <tr style=\"text-align: right;\">\n",
       "      <th>V115_reincidencia_2015</th>\n",
       "      <th>No</th>\n",
       "      <th>Sí</th>\n",
       "      <th>recidivism_rate</th>\n",
       "    </tr>\n",
       "    <tr>\n",
       "      <th>V56_@R1_resum_risc_global_reverse</th>\n",
       "      <th></th>\n",
       "      <th></th>\n",
       "      <th></th>\n",
       "    </tr>\n",
       "  </thead>\n",
       "  <tbody>\n",
       "    <tr>\n",
       "      <th>Baixa</th>\n",
       "      <td>157</td>\n",
       "      <td>54</td>\n",
       "      <td>0.255924</td>\n",
       "    </tr>\n",
       "    <tr>\n",
       "      <th>Moderada</th>\n",
       "      <td>174</td>\n",
       "      <td>131</td>\n",
       "      <td>0.429508</td>\n",
       "    </tr>\n",
       "    <tr>\n",
       "      <th>Alta</th>\n",
       "      <td>43</td>\n",
       "      <td>91</td>\n",
       "      <td>0.679104</td>\n",
       "    </tr>\n",
       "  </tbody>\n",
       "</table>\n",
       "</div>"
      ],
      "text/plain": [
       "V115_reincidencia_2015              No   Sí  recidivism_rate\n",
       "V56_@R1_resum_risc_global_reverse                           \n",
       "Baixa                              157   54         0.255924\n",
       "Moderada                           174  131         0.429508\n",
       "Alta                                43   91         0.679104"
      ]
     },
     "execution_count": 11,
     "metadata": {},
     "output_type": "execute_result"
    }
   ],
   "source": [
    "# recividism rate per score\n",
    "\n",
    "human_ctable[\"recidivism_rate\"] = pd.Series(index=human_ctable.index, dtype='float')\n",
    "for index, row in human_ctable.iterrows():\n",
    "    recidivism_rate =row[\"Sí\"] / (row[\"Sí\"] + row[\"No\"])\n",
    "    human_ctable.at[index, \"recidivism_rate\"] = recidivism_rate\n",
    "    \n",
    "human_ctable"
   ]
  },
  {
   "cell_type": "markdown",
   "metadata": {},
   "source": [
    "### Baseline model\n",
    "\n",
    "Our baseline prediction can be based on the column `V60_SAVRY_total_score`, which contains a sum of scores in the risk items of SAVRY. The max value of this sum is 40."
   ]
  },
  {
   "cell_type": "code",
   "execution_count": 12,
   "metadata": {
    "ExecuteTime": {
     "end_time": "2021-04-30T15:41:20.297178Z",
     "start_time": "2021-04-30T15:41:20.282152Z"
    }
   },
   "outputs": [],
   "source": [
    "scores_recidivists = df[df[\"V115_reincidencia_2015\"]=='Sí'][\"V60_SAVRY_total_score\"].values\n",
    "scores_non_recidivists = df[df[\"V115_reincidencia_2015\"]=='No'][\"V60_SAVRY_total_score\"].values"
   ]
  },
  {
   "cell_type": "code",
   "execution_count": 13,
   "metadata": {
    "ExecuteTime": {
     "end_time": "2021-04-30T15:41:20.313177Z",
     "start_time": "2021-04-30T15:41:20.299152Z"
    }
   },
   "outputs": [],
   "source": [
    "def compare_histograms(scores1, scores2, title, label1='Recidivists', label2='Non recidivists'):\n",
    "    plt.figure(figsize=(10,6))\n",
    "    plt.hist(scores1, histtype='step', label=label1, density=True, color='red')\n",
    "    plt.hist(scores2, histtype='step', label=label2, density=True, color='blue')\n",
    "    plt.legend(loc='upper right', fontsize='x-large')\n",
    "    plt.ylabel('Probability')\n",
    "    plt.xlabel(title)\n",
    "    plt.show()"
   ]
  },
  {
   "cell_type": "code",
   "execution_count": 14,
   "metadata": {
    "ExecuteTime": {
     "end_time": "2021-04-30T15:41:20.453220Z",
     "start_time": "2021-04-30T15:41:20.314189Z"
    }
   },
   "outputs": [
    {
     "data": {
      "image/png": "[encoded data removed]",
      "text/plain": [
       "<Figure size 720x432 with 1 Axes>"
      ]
     },
     "metadata": {
      "needs_background": "light"
     },
     "output_type": "display_data"
    }
   ],
   "source": [
    "## baselin score distribution\n",
    "\n",
    "compare_histograms(scores_recidivists, scores_non_recidivists, 'Sum of all risk items')"
   ]
  },
  {
   "cell_type": "code",
   "execution_count": 15,
   "metadata": {
    "ExecuteTime": {
     "end_time": "2021-04-30T15:41:20.469186Z",
     "start_time": "2021-04-30T15:41:20.454187Z"
    }
   },
   "outputs": [],
   "source": [
    "def draw_roc_curve( ground_truth, predictions, pos_label=\"Sí\"):\n",
    "    fpr, tpr, thresholds = roc_curve(ground_truth, predictions, pos_label=pos_label)\n",
    "    roc_auc = auc(fpr, tpr)\n",
    "\n",
    "    plt.figure(figsize=(10,6))\n",
    "    lw = 2\n",
    "    plt.plot(fpr, tpr, color='darkorange',\n",
    "             lw=lw, label='ROC curve (AUC = %0.2f)' % roc_auc)\n",
    "    plt.plot([0, 1], [0, 1], color='navy', lw=lw, linestyle='--')\n",
    "    plt.xlim([0.0, 1.0])\n",
    "    plt.ylim([0.0, 1.05])\n",
    "    plt.xlabel('False Positive Rate')\n",
    "    plt.ylabel('True Positive Rate')\n",
    "    plt.title('Receiver Operating Characteristic')\n",
    "    plt.legend(loc=\"lower right\", fontsize='x-large')\n",
    "    plt.show()\n",
    "    return roc_auc"
   ]
  },
  {
   "cell_type": "code",
   "execution_count": 16,
   "metadata": {
    "ExecuteTime": {
     "end_time": "2021-04-30T15:41:20.593185Z",
     "start_time": "2021-04-30T15:41:20.470151Z"
    }
   },
   "outputs": [
    {
     "data": {
      "image/png": "[encoded data removed]",
      "text/plain": [
       "<Figure size 720x432 with 1 Axes>"
      ]
     },
     "metadata": {
      "needs_background": "light"
     },
     "output_type": "display_data"
    }
   ],
   "source": [
    "# Evaluation (ROC curve) of the baseline prediction\n",
    "\n",
    "_ = draw_roc_curve(df[\"V115_reincidencia_2015\"].values, df[\"V60_SAVRY_total_score\"].values)"
   ]
  },
  {
   "cell_type": "markdown",
   "metadata": {},
   "source": [
    "## Modeling recidivism using logistic regression\n",
    "\n",
    "Logistic regression is a simple yet effective classification model for this problem.\n",
    "\n",
    "In all cases above we will use the same training/testing split, which is done randomly, keeping 1/3 of the data for testing. You can repeat the following cells a couple of times to see how a different train/test split changes the AUC."
   ]
  },
  {
   "cell_type": "code",
   "execution_count": 17,
   "metadata": {
    "ExecuteTime": {
     "end_time": "2021-04-30T15:41:20.609152Z",
     "start_time": "2021-04-30T15:41:20.594187Z"
    }
   },
   "outputs": [],
   "source": [
    "train, test = train_test_split(df, test_size=0.33,random_state=1997)"
   ]
  },
  {
   "cell_type": "markdown",
   "metadata": {},
   "source": [
    "### Modeling recidivism (24 risk factors)\n",
    "\n",
    "Now we model recidivism by using the 24 risk factors in SAVRY.\n",
    "\n",
    "Note that the performance depends on the training/testing split which is done randomly, keeping 1/3 of the data for testing. Repeat the following cells a couple of times to see how a different train/test split changes the AUC."
   ]
  },
  {
   "cell_type": "code",
   "execution_count": 18,
   "metadata": {
    "ExecuteTime": {
     "end_time": "2021-04-30T15:41:20.671190Z",
     "start_time": "2021-04-30T15:41:20.611153Z"
    }
   },
   "outputs": [],
   "source": [
    "risk_factor_columns = list(df.columns)[70:94]\n",
    "\n",
    "train_X = pd.get_dummies(train[risk_factor_columns])\n",
    "train_y = train[\"V115_reincidencia_2015\"]\n",
    "\n",
    "test_X = pd.get_dummies(test[risk_factor_columns])\n",
    "test_y = test[\"V115_reincidencia_2015\"]"
   ]
  },
  {
   "cell_type": "code",
   "execution_count": 19,
   "metadata": {
    "ExecuteTime": {
     "end_time": "2021-04-30T15:41:20.687150Z",
     "start_time": "2021-04-30T15:41:20.672153Z"
    }
   },
   "outputs": [
    {
     "data": {
      "text/plain": [
       "LogisticRegression(solver='liblinear')"
      ]
     },
     "execution_count": 19,
     "metadata": {},
     "output_type": "execute_result"
    }
   ],
   "source": [
    "model = LogisticRegression(solver='liblinear')\n",
    "model.fit(train_X, train_y)"
   ]
  },
  {
   "cell_type": "code",
   "execution_count": 20,
   "metadata": {
    "ExecuteTime": {
     "end_time": "2021-04-30T15:41:20.703155Z",
     "start_time": "2021-04-30T15:41:20.689153Z"
    }
   },
   "outputs": [],
   "source": [
    "pred24_y = model.predict_proba(test_X)[:,1]\n",
    "pred24_recidivists = pred24_y[test_y == 'Sí']\n",
    "pred24_non_recidivists = pred24_y[test_y == 'No']"
   ]
  },
  {
   "cell_type": "code",
   "execution_count": 21,
   "metadata": {
    "ExecuteTime": {
     "end_time": "2021-04-30T15:41:20.877153Z",
     "start_time": "2021-04-30T15:41:20.705155Z"
    }
   },
   "outputs": [
    {
     "data": {
      "image/png": "[encoded data removed]",
      "text/plain": [
       "<Figure size 720x432 with 1 Axes>"
      ]
     },
     "metadata": {
      "needs_background": "light"
     },
     "output_type": "display_data"
    }
   ],
   "source": [
    "compare_histograms(pred24_recidivists, pred24_non_recidivists, 'Prediction')"
   ]
  },
  {
   "cell_type": "code",
   "execution_count": 22,
   "metadata": {
    "ExecuteTime": {
     "end_time": "2021-04-30T15:41:21.005152Z",
     "start_time": "2021-04-30T15:41:20.878153Z"
    },
    "scrolled": true
   },
   "outputs": [
    {
     "data": {
      "image/png": "[encoded data removed]",
      "text/plain": [
       "<Figure size 720x432 with 1 Axes>"
      ]
     },
     "metadata": {
      "needs_background": "light"
     },
     "output_type": "display_data"
    }
   ],
   "source": [
    "_ = draw_roc_curve(test_y, pred24_y)"
   ]
  },
  {
   "cell_type": "markdown",
   "metadata": {},
   "source": [
    "### Modeling recidivism (personal history factors)\n",
    "\n",
    "Next we use demographic factors: gender and nationality, as well as criminal history factors such as the age of commission of the index crime and its type, as well as whether the juvenile defendant has criminal records."
   ]
  },
  {
   "cell_type": "code",
   "execution_count": 23,
   "metadata": {
    "ExecuteTime": {
     "end_time": "2021-04-30T15:41:21.036150Z",
     "start_time": "2021-04-30T15:41:21.009153Z"
    }
   },
   "outputs": [],
   "source": [
    "demographic_columns = [\"V1_sexe\", \n",
    "                       \"V2_estranger\", \n",
    "                       \"V8_edat_fet\", \n",
    "                       \"V20_nombre_antecedents\",\n",
    "                       \"V15_fet_agrupat\", \n",
    "                       \"V16_fet_violencia\"]\n",
    "                       \n",
    "train_X = pd.get_dummies(train[demographic_columns])\n",
    "train_y = train[\"V115_reincidencia_2015\"]\n",
    "\n",
    "test_X =  pd.get_dummies(test[demographic_columns])\n",
    "test_y = test[\"V115_reincidencia_2015\"]"
   ]
  },
  {
   "cell_type": "code",
   "execution_count": 24,
   "metadata": {
    "ExecuteTime": {
     "end_time": "2021-04-30T15:41:21.051181Z",
     "start_time": "2021-04-30T15:41:21.038153Z"
    }
   },
   "outputs": [
    {
     "data": {
      "text/plain": [
       "LogisticRegression(solver='liblinear')"
      ]
     },
     "execution_count": 24,
     "metadata": {},
     "output_type": "execute_result"
    }
   ],
   "source": [
    "model = LogisticRegression(solver='liblinear')\n",
    "model.fit(train_X, train_y)"
   ]
  },
  {
   "cell_type": "code",
   "execution_count": 25,
   "metadata": {
    "ExecuteTime": {
     "end_time": "2021-04-30T15:41:21.067153Z",
     "start_time": "2021-04-30T15:41:21.053152Z"
    }
   },
   "outputs": [],
   "source": [
    "predPH_y = model.predict_proba(test_X)[:,1]\n",
    "predPH_recidivists = predPH_y[test_y == 'Sí']\n",
    "predPH_non_recidivists = predPH_y[test_y == 'No']"
   ]
  },
  {
   "cell_type": "code",
   "execution_count": 26,
   "metadata": {
    "ExecuteTime": {
     "end_time": "2021-04-30T15:41:21.193232Z",
     "start_time": "2021-04-30T15:41:21.068152Z"
    }
   },
   "outputs": [
    {
     "data": {
      "image/png": "[encoded data removed]",
      "text/plain": [
       "<Figure size 720x432 with 1 Axes>"
      ]
     },
     "metadata": {
      "needs_background": "light"
     },
     "output_type": "display_data"
    }
   ],
   "source": [
    "compare_histograms(predPH_recidivists, predPH_non_recidivists, 'Prediction')"
   ]
  },
  {
   "cell_type": "code",
   "execution_count": 27,
   "metadata": {
    "ExecuteTime": {
     "end_time": "2021-04-30T15:41:21.369213Z",
     "start_time": "2021-04-30T15:41:21.194187Z"
    }
   },
   "outputs": [
    {
     "data": {
      "image/png": "[encoded data removed]",
      "text/plain": [
       "<Figure size 720x432 with 1 Axes>"
      ]
     },
     "metadata": {
      "needs_background": "light"
     },
     "output_type": "display_data"
    }
   ],
   "source": [
    "_ = draw_roc_curve(test_y, predPH_y)"
   ]
  },
  {
   "cell_type": "markdown",
   "metadata": {},
   "source": [
    "### Modeling recidivism (personal history + 24 risk factors + 6 protective factors)\n",
    "\n",
    "We now add to the above 6 \"protective\" or positive factors that are associated with a low risk."
   ]
  },
  {
   "cell_type": "code",
   "execution_count": 28,
   "metadata": {
    "ExecuteTime": {
     "end_time": "2021-04-30T15:41:21.431189Z",
     "start_time": "2021-04-30T15:41:21.370153Z"
    }
   },
   "outputs": [],
   "source": [
    "protective_factor_columns = [\"V89_@P1_impicacio_prosocial\", \n",
    "                             \"V90_@P2_suport_social_fort\",\n",
    "                             \"V91_@P3_forta_vinculacio_adult_prosocial\", \n",
    "                             \"V92_@P4_actitud_positiva_intervencions_autoritat\",\n",
    "                             \"V93_@P5_fort_compromis_escola_treball\", \n",
    "                             \"V94_@P6_perseverança_tret_personalitat\"]\n",
    "\n",
    "factors = demographic_columns + risk_factor_columns + protective_factor_columns\n",
    "\n",
    "train_X = pd.get_dummies(train[factors])\n",
    "train_y = train[\"V115_reincidencia_2015\"]\n",
    "\n",
    "test_X = pd.get_dummies(test[factors])\n",
    "test_y = test[\"V115_reincidencia_2015\"]"
   ]
  },
  {
   "cell_type": "code",
   "execution_count": 29,
   "metadata": {
    "ExecuteTime": {
     "end_time": "2021-04-30T15:41:21.447187Z",
     "start_time": "2021-04-30T15:41:21.433171Z"
    }
   },
   "outputs": [
    {
     "data": {
      "text/plain": [
       "LogisticRegression(solver='liblinear')"
      ]
     },
     "execution_count": 29,
     "metadata": {},
     "output_type": "execute_result"
    }
   ],
   "source": [
    "model = LogisticRegression(solver='liblinear')\n",
    "model.fit(train_X, train_y)"
   ]
  },
  {
   "cell_type": "code",
   "execution_count": 30,
   "metadata": {
    "ExecuteTime": {
     "end_time": "2021-04-30T15:41:21.463151Z",
     "start_time": "2021-04-30T15:41:21.448155Z"
    }
   },
   "outputs": [],
   "source": [
    "predALL_y = model.predict_proba(test_X)[:,1]\n",
    "predALL_recidivists = predALL_y[test_y == 'Sí']\n",
    "predALL_non_recidivists = predALL_y[test_y == 'No']"
   ]
  },
  {
   "cell_type": "code",
   "execution_count": 31,
   "metadata": {
    "ExecuteTime": {
     "end_time": "2021-04-30T15:41:21.616151Z",
     "start_time": "2021-04-30T15:41:21.464153Z"
    },
    "scrolled": false
   },
   "outputs": [
    {
     "data": {
      "image/png": "[encoded data removed]",
      "text/plain": [
       "<Figure size 720x432 with 1 Axes>"
      ]
     },
     "metadata": {
      "needs_background": "light"
     },
     "output_type": "display_data"
    }
   ],
   "source": [
    "compare_histograms(predALL_recidivists, predALL_non_recidivists, 'Prediction')"
   ]
  },
  {
   "cell_type": "code",
   "execution_count": 32,
   "metadata": {
    "ExecuteTime": {
     "end_time": "2021-04-30T15:41:21.758204Z",
     "start_time": "2021-04-30T15:41:21.618154Z"
    }
   },
   "outputs": [
    {
     "data": {
      "image/png": "[encoded data removed]",
      "text/plain": [
       "<Figure size 720x432 with 1 Axes>"
      ]
     },
     "metadata": {
      "needs_background": "light"
     },
     "output_type": "display_data"
    }
   ],
   "source": [
    "_ = draw_roc_curve(test_y, predALL_y)"
   ]
  },
  {
   "cell_type": "markdown",
   "metadata": {},
   "source": [
    "# Recidivism and fairness\n",
    "We remark that fairness is not necessarily that people in different groups obtain the same outcomes. For instance, in this dataset, women recidivate at about half the rate as men, and foreigners at a higher rate than nationals."
   ]
  },
  {
   "cell_type": "code",
   "execution_count": 33,
   "metadata": {
    "ExecuteTime": {
     "end_time": "2021-04-30T15:41:21.788196Z",
     "start_time": "2021-04-30T15:41:21.760155Z"
    }
   },
   "outputs": [
    {
     "data": {
      "text/html": [
       "<div>\n",
       "<style scoped>\n",
       "    .dataframe tbody tr th:only-of-type {\n",
       "        vertical-align: middle;\n",
       "    }\n",
       "\n",
       "    .dataframe tbody tr th {\n",
       "        vertical-align: top;\n",
       "    }\n",
       "\n",
       "    .dataframe thead th {\n",
       "        text-align: right;\n",
       "    }\n",
       "</style>\n",
       "<table border=\"1\" class=\"dataframe\">\n",
       "  <thead>\n",
       "    <tr style=\"text-align: right;\">\n",
       "      <th>V1_sexe</th>\n",
       "      <th>Dona</th>\n",
       "      <th>Home</th>\n",
       "    </tr>\n",
       "    <tr>\n",
       "      <th>V115_reincidencia_2015</th>\n",
       "      <th></th>\n",
       "      <th></th>\n",
       "    </tr>\n",
       "  </thead>\n",
       "  <tbody>\n",
       "    <tr>\n",
       "      <th>No</th>\n",
       "      <td>0.759494</td>\n",
       "      <td>0.549912</td>\n",
       "    </tr>\n",
       "    <tr>\n",
       "      <th>Sí</th>\n",
       "      <td>0.240506</td>\n",
       "      <td>0.450088</td>\n",
       "    </tr>\n",
       "  </tbody>\n",
       "</table>\n",
       "</div>"
      ],
      "text/plain": [
       "V1_sexe                     Dona      Home\n",
       "V115_reincidencia_2015                    \n",
       "No                      0.759494  0.549912\n",
       "Sí                      0.240506  0.450088"
      ]
     },
     "execution_count": 33,
     "metadata": {},
     "output_type": "execute_result"
    }
   ],
   "source": [
    "recidivism_by_gender = pd.crosstab(df[\"V115_reincidencia_2015\"], df[\"V1_sexe\"])\n",
    "recidivism_by_gender['Dona'] = recidivism_by_gender['Dona'] / recidivism_by_gender['Dona'].sum()\n",
    "recidivism_by_gender['Home'] = recidivism_by_gender['Home'] / recidivism_by_gender['Home'].sum()\n",
    "recidivism_by_gender"
   ]
  },
  {
   "cell_type": "code",
   "execution_count": 34,
   "metadata": {
    "ExecuteTime": {
     "end_time": "2021-04-30T15:41:21.819185Z",
     "start_time": "2021-04-30T15:41:21.789185Z"
    }
   },
   "outputs": [
    {
     "data": {
      "text/html": [
       "<div>\n",
       "<style scoped>\n",
       "    .dataframe tbody tr th:only-of-type {\n",
       "        vertical-align: middle;\n",
       "    }\n",
       "\n",
       "    .dataframe tbody tr th {\n",
       "        vertical-align: top;\n",
       "    }\n",
       "\n",
       "    .dataframe thead th {\n",
       "        text-align: right;\n",
       "    }\n",
       "</style>\n",
       "<table border=\"1\" class=\"dataframe\">\n",
       "  <thead>\n",
       "    <tr style=\"text-align: right;\">\n",
       "      <th>V2_estranger</th>\n",
       "      <th>Espanyol</th>\n",
       "      <th>Estranger</th>\n",
       "    </tr>\n",
       "    <tr>\n",
       "      <th>V115_reincidencia_2015</th>\n",
       "      <th></th>\n",
       "      <th></th>\n",
       "    </tr>\n",
       "  </thead>\n",
       "  <tbody>\n",
       "    <tr>\n",
       "      <th>No</th>\n",
       "      <td>0.632812</td>\n",
       "      <td>0.492481</td>\n",
       "    </tr>\n",
       "    <tr>\n",
       "      <th>Sí</th>\n",
       "      <td>0.367188</td>\n",
       "      <td>0.507519</td>\n",
       "    </tr>\n",
       "  </tbody>\n",
       "</table>\n",
       "</div>"
      ],
      "text/plain": [
       "V2_estranger            Espanyol  Estranger\n",
       "V115_reincidencia_2015                     \n",
       "No                      0.632812   0.492481\n",
       "Sí                      0.367188   0.507519"
      ]
     },
     "execution_count": 34,
     "metadata": {},
     "output_type": "execute_result"
    }
   ],
   "source": [
    "recidivism_by_nationality = pd.crosstab(df[\"V115_reincidencia_2015\"], df[\"V2_estranger\"])\n",
    "recidivism_by_nationality['Espanyol'] = recidivism_by_nationality['Espanyol'] / recidivism_by_nationality['Espanyol'].sum()\n",
    "recidivism_by_nationality['Estranger'] = recidivism_by_nationality['Estranger'] / recidivism_by_nationality['Estranger'].sum()\n",
    "recidivism_by_nationality"
   ]
  },
  {
   "cell_type": "markdown",
   "metadata": {},
   "source": [
    "# Fairness as **equality of error rates**\n",
    "\n",
    "We can look at fairness as **equality of error rates**."
   ]
  },
  {
   "cell_type": "markdown",
   "metadata": {},
   "source": [
    "## Professional (human expert) recidivism prediction and fairness\n",
    "\n",
    "We consider people who did not recidivate, in particular, look at those who were given a \"high\" risk by the expert."
   ]
  },
  {
   "cell_type": "code",
   "execution_count": 35,
   "metadata": {
    "ExecuteTime": {
     "end_time": "2021-04-30T12:39:58.461280Z",
     "start_time": "2021-04-30T12:39:58.431247Z"
    }
   },
   "outputs": [
    {
     "data": {
      "text/html": [
       "<div>\n",
       "<style scoped>\n",
       "    .dataframe tbody tr th:only-of-type {\n",
       "        vertical-align: middle;\n",
       "    }\n",
       "\n",
       "    .dataframe tbody tr th {\n",
       "        vertical-align: top;\n",
       "    }\n",
       "\n",
       "    .dataframe thead th {\n",
       "        text-align: right;\n",
       "    }\n",
       "</style>\n",
       "<table border=\"1\" class=\"dataframe\">\n",
       "  <thead>\n",
       "    <tr style=\"text-align: right;\">\n",
       "      <th>V1_sexe</th>\n",
       "      <th>Dona</th>\n",
       "      <th>Home</th>\n",
       "    </tr>\n",
       "    <tr>\n",
       "      <th>V56_@R1_resum_risc_global_reverse</th>\n",
       "      <th></th>\n",
       "      <th></th>\n",
       "    </tr>\n",
       "  </thead>\n",
       "  <tbody>\n",
       "    <tr>\n",
       "      <th>Alta</th>\n",
       "      <td>0.116667</td>\n",
       "      <td>0.114650</td>\n",
       "    </tr>\n",
       "    <tr>\n",
       "      <th>Baixa</th>\n",
       "      <td>0.433333</td>\n",
       "      <td>0.417197</td>\n",
       "    </tr>\n",
       "    <tr>\n",
       "      <th>Moderada</th>\n",
       "      <td>0.450000</td>\n",
       "      <td>0.468153</td>\n",
       "    </tr>\n",
       "  </tbody>\n",
       "</table>\n",
       "</div>"
      ],
      "text/plain": [
       "V1_sexe                                Dona      Home\n",
       "V56_@R1_resum_risc_global_reverse                    \n",
       "Alta                               0.116667  0.114650\n",
       "Baixa                              0.433333  0.417197\n",
       "Moderada                           0.450000  0.468153"
      ]
     },
     "execution_count": 35,
     "metadata": {},
     "output_type": "execute_result"
    }
   ],
   "source": [
    "non_recidivists = df[df[\"V115_reincidencia_2015\"] == 'No']\n",
    "non_recidivists_expert_by_gender = pd.crosstab(non_recidivists[\"V56_@R1_resum_risc_global_reverse\"], non_recidivists[\"V1_sexe\"])\n",
    "non_recidivists_expert_by_gender.reindex(index=[\"Baix\", \"Moderat\", \"Alt\"])\n",
    "non_recidivists_expert_by_gender[\"Home\"] = non_recidivists_expert_by_gender[\"Home\"] / non_recidivists_expert_by_gender[\"Home\"].sum()\n",
    "non_recidivists_expert_by_gender[\"Dona\"] = non_recidivists_expert_by_gender[\"Dona\"] / non_recidivists_expert_by_gender[\"Dona\"].sum()\n",
    "non_recidivists_expert_by_gender"
   ]
  },
  {
   "cell_type": "code",
   "execution_count": 36,
   "metadata": {
    "ExecuteTime": {
     "end_time": "2021-04-30T12:39:58.493281Z",
     "start_time": "2021-04-30T12:39:58.462244Z"
    }
   },
   "outputs": [
    {
     "data": {
      "text/html": [
       "<div>\n",
       "<style scoped>\n",
       "    .dataframe tbody tr th:only-of-type {\n",
       "        vertical-align: middle;\n",
       "    }\n",
       "\n",
       "    .dataframe tbody tr th {\n",
       "        vertical-align: top;\n",
       "    }\n",
       "\n",
       "    .dataframe thead th {\n",
       "        text-align: right;\n",
       "    }\n",
       "</style>\n",
       "<table border=\"1\" class=\"dataframe\">\n",
       "  <thead>\n",
       "    <tr style=\"text-align: right;\">\n",
       "      <th>V2_estranger</th>\n",
       "      <th>Espanyol</th>\n",
       "      <th>Estranger</th>\n",
       "    </tr>\n",
       "    <tr>\n",
       "      <th>V56_@R1_resum_risc_global_reverse</th>\n",
       "      <th></th>\n",
       "      <th></th>\n",
       "    </tr>\n",
       "  </thead>\n",
       "  <tbody>\n",
       "    <tr>\n",
       "      <th>Alta</th>\n",
       "      <td>0.106996</td>\n",
       "      <td>0.129771</td>\n",
       "    </tr>\n",
       "    <tr>\n",
       "      <th>Baixa</th>\n",
       "      <td>0.423868</td>\n",
       "      <td>0.412214</td>\n",
       "    </tr>\n",
       "    <tr>\n",
       "      <th>Moderada</th>\n",
       "      <td>0.469136</td>\n",
       "      <td>0.458015</td>\n",
       "    </tr>\n",
       "  </tbody>\n",
       "</table>\n",
       "</div>"
      ],
      "text/plain": [
       "V2_estranger                       Espanyol  Estranger\n",
       "V56_@R1_resum_risc_global_reverse                     \n",
       "Alta                               0.106996   0.129771\n",
       "Baixa                              0.423868   0.412214\n",
       "Moderada                           0.469136   0.458015"
      ]
     },
     "execution_count": 36,
     "metadata": {},
     "output_type": "execute_result"
    }
   ],
   "source": [
    "non_recidivists_expert_by_nationality = pd.crosstab(non_recidivists[\"V56_@R1_resum_risc_global_reverse\"], non_recidivists[\"V2_estranger\"])\n",
    "non_recidivists_expert_by_nationality.reindex(index=[\"Baix\", \"Moderat\", \"Alt\"])\n",
    "non_recidivists_expert_by_nationality[\"Espanyol\"] = non_recidivists_expert_by_nationality[\"Espanyol\"] / non_recidivists_expert_by_nationality[\"Espanyol\"].sum()\n",
    "non_recidivists_expert_by_nationality[\"Estranger\"] = non_recidivists_expert_by_nationality[\"Estranger\"] / non_recidivists_expert_by_nationality[\"Estranger\"].sum()\n",
    "non_recidivists_expert_by_nationality"
   ]
  },
  {
   "cell_type": "markdown",
   "metadata": {},
   "source": [
    "## Overall SAVRY score and fairness"
   ]
  },
  {
   "cell_type": "code",
   "execution_count": 37,
   "metadata": {
    "ExecuteTime": {
     "end_time": "2021-04-30T12:39:58.509281Z",
     "start_time": "2021-04-30T12:39:58.494245Z"
    }
   },
   "outputs": [
    {
     "name": "stdout",
     "output_type": "stream",
     "text": [
      "Average SAVRY score of men non-recidivist: 19.12\n",
      "Average SAVRY score of women non-recidivist: 15.67\n"
     ]
    }
   ],
   "source": [
    "scores_men_non_recidivists = df[(df[\"V115_reincidencia_2015\"]=='Sí') &\n",
    "                                      (df[\"V1_sexe\"]=='Home')][\"V60_SAVRY_total_score\"].values\n",
    "scores_women_non_recidivists = df[(df[\"V115_reincidencia_2015\"]=='No') &\n",
    "                                       (df[\"V1_sexe\"]=='Dona')][\"V60_SAVRY_total_score\"].values\n",
    "\n",
    "print(\"Average SAVRY score of men non-recidivist: %.2f\" %\n",
    "      (scores_men_non_recidivists.sum() / len(scores_men_non_recidivists)))\n",
    "       \n",
    "print(\"Average SAVRY score of women non-recidivist: %.2f\" % \n",
    "      (scores_women_non_recidivists.sum() / len(scores_women_non_recidivists)))"
   ]
  },
  {
   "cell_type": "code",
   "execution_count": 38,
   "metadata": {
    "ExecuteTime": {
     "end_time": "2021-04-30T12:39:58.637279Z",
     "start_time": "2021-04-30T12:39:58.510252Z"
    }
   },
   "outputs": [
    {
     "data": {
      "image/png": "[encoded data removed]",
      "text/plain": [
       "<Figure size 720x432 with 1 Axes>"
      ]
     },
     "metadata": {
      "needs_background": "light"
     },
     "output_type": "display_data"
    }
   ],
   "source": [
    "compare_histograms(scores_men_non_recidivists, scores_women_non_recidivists,\n",
    "                   \"Non-recidivists overall score\",\n",
    "                   label1=\"men\", label2=\"women\")"
   ]
  },
  {
   "cell_type": "code",
   "execution_count": 39,
   "metadata": {
    "ExecuteTime": {
     "end_time": "2021-04-30T12:39:58.653283Z",
     "start_time": "2021-04-30T12:39:58.638246Z"
    }
   },
   "outputs": [
    {
     "name": "stdout",
     "output_type": "stream",
     "text": [
      "Average SAVRY score of national non-recidivist: 18.89\n",
      "Average SAVRY score of foreigner non-recidivist: 16.51\n"
     ]
    }
   ],
   "source": [
    "scores_nationals_non_recidivists = df[(df[\"V115_reincidencia_2015\"]=='Sí') &\n",
    "                                      (df[\"V2_estranger\"]=='Espanyol')][\"V60_SAVRY_total_score\"].values\n",
    "scores_foreigners_non_recidivists = df[(df[\"V115_reincidencia_2015\"]=='No') &\n",
    "                                       (df[\"V2_estranger\"]=='Estranger')][\"V60_SAVRY_total_score\"].values\n",
    "\n",
    "print(\"Average SAVRY score of national non-recidivist: %.2f\" %\n",
    "      (scores_nationals_non_recidivists.sum() / len(scores_nationals_non_recidivists)))\n",
    "       \n",
    "print(\"Average SAVRY score of foreigner non-recidivist: %.2f\" % \n",
    "      (scores_foreigners_non_recidivists.sum() / len(scores_foreigners_non_recidivists)))"
   ]
  },
  {
   "cell_type": "code",
   "execution_count": 40,
   "metadata": {
    "ExecuteTime": {
     "end_time": "2021-04-30T12:39:58.779244Z",
     "start_time": "2021-04-30T12:39:58.654245Z"
    }
   },
   "outputs": [
    {
     "data": {
      "image/png": "[encoded data removed]",
      "text/plain": [
       "<Figure size 720x432 with 1 Axes>"
      ]
     },
     "metadata": {
      "needs_background": "light"
     },
     "output_type": "display_data"
    }
   ],
   "source": [
    "compare_histograms(scores_nationals_non_recidivists, scores_foreigners_non_recidivists,\n",
    "                   \"Non-recidivists overall score\",\n",
    "                   label1=\"national\", label2=\"foreigner\")"
   ]
  },
  {
   "cell_type": "markdown",
   "metadata": {},
   "source": [
    "## Fairness using ML score"
   ]
  },
  {
   "cell_type": "code",
   "execution_count": 41,
   "metadata": {
    "ExecuteTime": {
     "end_time": "2021-04-30T12:39:58.795248Z",
     "start_time": "2021-04-30T12:39:58.780245Z"
    }
   },
   "outputs": [
    {
     "name": "stdout",
     "output_type": "stream",
     "text": [
      "Average predicted probability of men non-recidivist: 0.43\n",
      "Average predicted probability of women non-recidivist: 0.17\n"
     ]
    }
   ],
   "source": [
    "predPH_men_non_recidivists = predPH_y[(test_y=='No') & (test_X[\"V1_sexe_Home\"]==1)]\n",
    "predPH_women_non_recidivists = predPH_y[(test_y=='No') & (test_X[\"V1_sexe_Dona\"]==1)]\n",
    "\n",
    "print(\"Average predicted probability of men non-recidivist: %.2f\" %\n",
    "      (predPH_men_non_recidivists.sum() / len(predPH_men_non_recidivists)))\n",
    "       \n",
    "print(\"Average predicted probability of women non-recidivist: %.2f\" % \n",
    "      (predPH_women_non_recidivists.sum() / len(predPH_women_non_recidivists)))"
   ]
  },
  {
   "cell_type": "code",
   "execution_count": 42,
   "metadata": {
    "ExecuteTime": {
     "end_time": "2021-04-30T12:39:58.923248Z",
     "start_time": "2021-04-30T12:39:58.797246Z"
    }
   },
   "outputs": [
    {
     "data": {
      "image/png": "[encoded data removed]",
      "text/plain": [
       "<Figure size 720x432 with 1 Axes>"
      ]
     },
     "metadata": {
      "needs_background": "light"
     },
     "output_type": "display_data"
    }
   ],
   "source": [
    "compare_histograms(predPH_men_non_recidivists, predPH_women_non_recidivists,\n",
    "                   \"Non-recidivists overall prediction\",\n",
    "                   label1=\"Men\", label2=\"Women\")"
   ]
  },
  {
   "cell_type": "code",
   "execution_count": 43,
   "metadata": {
    "ExecuteTime": {
     "end_time": "2021-04-30T12:39:58.939244Z",
     "start_time": "2021-04-30T12:39:58.925246Z"
    }
   },
   "outputs": [
    {
     "name": "stdout",
     "output_type": "stream",
     "text": [
      "Average predicted probability of national non-recidivist: 0.34\n",
      "Average predicted probability of foreigner non-recidivist: 0.48\n"
     ]
    }
   ],
   "source": [
    "predPH_nationals_non_recidivists = predPH_y[(test_y=='No') & (test_X[\"V2_estranger_Espanyol\"]==1)]\n",
    "predPH_foreigners_non_recidivists = predPH_y[(test_y=='No') & (test_X[\"V2_estranger_Estranger\"]==1)]\n",
    "\n",
    "print(\"Average predicted probability of national non-recidivist: %.2f\" %\n",
    "      (predPH_nationals_non_recidivists.sum() / len(predPH_nationals_non_recidivists)))\n",
    "       \n",
    "print(\"Average predicted probability of foreigner non-recidivist: %.2f\" % \n",
    "      (predPH_foreigners_non_recidivists.sum() / len(predPH_foreigners_non_recidivists)))"
   ]
  },
  {
   "cell_type": "code",
   "execution_count": 44,
   "metadata": {
    "ExecuteTime": {
     "end_time": "2021-04-30T12:39:59.065248Z",
     "start_time": "2021-04-30T12:39:58.940245Z"
    }
   },
   "outputs": [
    {
     "data": {
      "image/png": "[encoded data removed]",
      "text/plain": [
       "<Figure size 720x432 with 1 Axes>"
      ]
     },
     "metadata": {
      "needs_background": "light"
     },
     "output_type": "display_data"
    }
   ],
   "source": [
    "compare_histograms(predPH_nationals_non_recidivists, predPH_foreigners_non_recidivists,\n",
    "                   \"Non-recidivists overall prediction\",\n",
    "                   label1=\"Nationals\", label2=\"Foreigners\")"
   ]
  },
  {
   "cell_type": "markdown",
   "metadata": {},
   "source": [
    "# Exercise 1\n",
    "\n",
    "1. Use different machine learning models (SVM, Random Forests, etc.) to check if you can increase the performance of the logistic regression model. \n",
    "\n",
    "\n"
   ]
  },
  {
   "cell_type": "code",
   "execution_count": 36,
   "metadata": {
    "ExecuteTime": {
     "end_time": "2021-04-30T15:42:10.060479Z",
     "start_time": "2021-04-30T15:42:10.024445Z"
    }
   },
   "outputs": [],
   "source": [
    "#Model's import\n",
    "from sklearn.ensemble import (RandomForestClassifier, GradientBoostingClassifier)\n",
    "from sklearn.svm import SVC\n",
    "from sklearn.tree import DecisionTreeClassifier\n",
    "from sklearn.neural_network import MLPClassifier\n",
    "\n",
    "#Training architecture, Cross-Validation\n",
    "from sklearn.pipeline import Pipeline, make_pipeline\n",
    "from sklearn.model_selection import GridSearchCV\n",
    "#Standardization\n",
    "from sklearn import preprocessing\n",
    "from sklearn.preprocessing  import StandardScaler, RobustScaler\n",
    "#Model save/laod\n",
    "import pickle\n",
    "#Utils\n",
    "import time\n",
    "import random"
   ]
  },
  {
   "cell_type": "markdown",
   "metadata": {},
   "source": [
    "I decided to set up a model cross-validation grid search training with a **pipeline of 5 models**:\n",
    "\n",
    "* MLP: Multi-Layer Perceptron, a Neural Network classification model.\n",
    "* RF: Random Forest\n",
    "* GB: Gradient Boosting classifier\n",
    "* SVM: Support-Vector Machine classifier\n",
    "* Tree: Decision Tree Classifier\n",
    "\n",
    "Each of them uses a `RobustScaler()` for scaling the input features values. I also tried the ``StandardScaler()``, but the results were worse. "
   ]
  },
  {
   "cell_type": "code",
   "execution_count": 37,
   "metadata": {
    "ExecuteTime": {
     "end_time": "2021-04-30T15:42:10.528538Z",
     "start_time": "2021-04-30T15:42:10.516501Z"
    },
    "id": "LWiJ11TIxp4i"
   },
   "outputs": [],
   "source": [
    "# Pipeline dictionary\n",
    "pipelines = {\n",
    "    'MLP': make_pipeline(RobustScaler(), MLPClassifier(max_iter=500,random_state=1997,\n",
    "                                                                       early_stopping=True,n_iter_no_change=5)),\n",
    "    'RF': make_pipeline(RobustScaler(),RandomForestClassifier(random_state=1997)),\n",
    "    'GB': make_pipeline(RobustScaler(),GradientBoostingClassifier(random_state=1997)),\n",
    "    'SVM': make_pipeline(RobustScaler(), SVC(random_state=1997,probability=True)),\n",
    "    'Tree': make_pipeline(RobustScaler(), DecisionTreeClassifier(random_state=1997))\n",
    "}"
   ]
  },
  {
   "cell_type": "markdown",
   "metadata": {},
   "source": [
    "Below we have the **hyperparameter set-up for each model**. I've tested some more hyperparameters, but the final configuration that we have below is the most adequate. "
   ]
  },
  {
   "cell_type": "code",
   "execution_count": 38,
   "metadata": {
    "ExecuteTime": {
     "end_time": "2021-04-30T15:42:11.040323Z",
     "start_time": "2021-04-30T15:42:11.027283Z"
    },
    "id": "yL316Gdkxp41"
   },
   "outputs": [],
   "source": [
    "# MLP hyperparameters\n",
    "MLP_hyperparameters = {\n",
    "    'mlpclassifier__activation': ['relu','tanh',\"logistic\"],\n",
    "    'mlpclassifier__solver':['adam',\"lbfgs\"],\n",
    "    'mlpclassifier__hidden_layer_sizes': [(200,200,200,200,200,200),(150,150,150,150,150),(120,120,120,120,120)],\n",
    "    'mlpclassifier__alpha': [0.0001,0.001]\n",
    "}\n",
    "\n",
    "# Random Forest hyperparameters\n",
    "rf_hyperparameters = {\n",
    "    'randomforestclassifier__n_estimators': [50,100,200,250],\n",
    "    'randomforestclassifier__max_features': ['auto'],\n",
    "    'randomforestclassifier__max_depth':[1,5,10],\n",
    "    'randomforestclassifier__min_samples_leaf': [4,5,10],\n",
    "    'randomforestclassifier__min_samples_split': [10,15,20],\n",
    "    'randomforestclassifier__bootstrap': [True, False]\n",
    "}\n",
    "\n",
    "# Boosted Tree hyperparameters\n",
    "gb_hyperparameters = {\n",
    "    'gradientboostingclassifier__n_estimators': [1,2,50,100,200],\n",
    "    'gradientboostingclassifier__learning_rate': [0.05,0.1,0.2],\n",
    "    'gradientboostingclassifier__max_depth':[1.,3,5,20.,30.],\n",
    "    'gradientboostingclassifier__min_samples_split':[0.1,0.5,1.],\n",
    "    'gradientboostingclassifier__min_samples_leaf':[0.1,0.5],\n",
    "    'gradientboostingclassifier__max_features':[1,10,40,100]\n",
    "}\n",
    "\n",
    "# SVM hyperparameters\n",
    "svm_hyperparameters = {'svc__C': [0.1, 1, 10], \n",
    "          'svc__gamma': [1, 0.1, 0.01,\"auto\"],\n",
    "          'svc__kernel': ['rbf']}\n",
    "\n",
    "# Decision tree hyperparameters\n",
    "tree_hyperparameters = {'decisiontreeclassifier__min_samples_leaf':[5,10,15,20],\n",
    "                        'decisiontreeclassifier__max_features':[5,10,15],\n",
    "                        'decisiontreeclassifier__criterion': ['gini', 'entropy'],\n",
    "                        'decisiontreeclassifier__max_depth':[2,4,6,8,10,12]}\n",
    "\n",
    "# Create hyperparameters dictionary\n",
    "hyperparameters = {'MLP': MLP_hyperparameters,\n",
    "                  'RF': rf_hyperparameters,\n",
    "                  'GB': gb_hyperparameters,\n",
    "                  'SVM':svm_hyperparameters,\n",
    "                  'Tree':tree_hyperparameters}"
   ]
  },
  {
   "cell_type": "markdown",
   "metadata": {},
   "source": [
    "Below we have the fit set-up with a Cross-Validation of 3. The metric used is the Area Under the ROC Curve.\n",
    "\n",
    "I save each model inside ``fitted_models``. I print the best parameter configuration as well as the time taken: **~1.5 minutes.**\n",
    "\n",
    "_Optional_\n",
    "\n",
    "In the following cell you can **load the resulting two best models** stored into pickles:"
   ]
  },
  {
   "cell_type": "code",
   "execution_count": 39,
   "metadata": {
    "ExecuteTime": {
     "end_time": "2021-04-30T15:42:11.400550Z",
     "start_time": "2021-04-30T15:42:11.396497Z"
    }
   },
   "outputs": [],
   "source": [
    "# with open(\"RF-Ex1.pkl\", \"rb\") as input_file:\n",
    "#     RF = pickle.load(input_file)\n",
    "    \n",
    "# with open(\"SVM-Ex1.pkl\", \"rb\") as input_file:\n",
    "#     SVM = pickle.load(input_file)"
   ]
  },
  {
   "cell_type": "code",
   "execution_count": 40,
   "metadata": {
    "ExecuteTime": {
     "end_time": "2021-04-30T15:42:11.793410Z",
     "start_time": "2021-04-30T15:42:11.783411Z"
    }
   },
   "outputs": [],
   "source": [
    "def fit(pipelines,hyperparameters,train_X,train_y):\n",
    "# Create empty dictionary called fitted_models\n",
    "    fitted_models = {}\n",
    "    start_time = time.time()\n",
    "\n",
    "    # Loop through model pipelines, tuning each one and saving it to fitted_models\n",
    "    for name, pipeline in pipelines.items():\n",
    "        # Create cross-validation object from pipeline and hyperparameters\n",
    "        model = GridSearchCV(pipeline, hyperparameters[name], cv=3, n_jobs=-1, scoring='roc_auc')\n",
    "\n",
    "        # Fit model on X_train, y_train\n",
    "        model.fit(train_X, train_y)\n",
    "\n",
    "        # Store model in fitted_models[name] \n",
    "        fitted_models[name] = model\n",
    "\n",
    "        # Print '{name} has been fitted'\n",
    "        print('\\n{0} has been fitted'.format(name))\n",
    "        print(\"\\tBest model param:\",model.best_params_)\n",
    "\n",
    "    print(\"\\nTime:\" + str((time.time() - start_time)/60))\n",
    "    \n",
    "    return fitted_models"
   ]
  },
  {
   "cell_type": "code",
   "execution_count": 43,
   "metadata": {
    "ExecuteTime": {
     "end_time": "2021-04-30T15:45:51.760426Z",
     "start_time": "2021-04-30T15:44:23.057601Z"
    }
   },
   "outputs": [
    {
     "name": "stdout",
     "output_type": "stream",
     "text": [
      "\n",
      "MLP has been fitted\n",
      "\tBest model param: {'mlpclassifier__activation': 'relu', 'mlpclassifier__alpha': 0.001, 'mlpclassifier__hidden_layer_sizes': (150, 150, 150, 150, 150), 'mlpclassifier__solver': 'adam'}\n",
      "\n",
      "RF has been fitted\n",
      "\tBest model param: {'randomforestclassifier__bootstrap': True, 'randomforestclassifier__max_depth': 1, 'randomforestclassifier__max_features': 'auto', 'randomforestclassifier__min_samples_leaf': 4, 'randomforestclassifier__min_samples_split': 10, 'randomforestclassifier__n_estimators': 250}\n",
      "\n",
      "GB has been fitted\n",
      "\tBest model param: {'gradientboostingclassifier__learning_rate': 0.2, 'gradientboostingclassifier__max_depth': 1.0, 'gradientboostingclassifier__max_features': 1, 'gradientboostingclassifier__min_samples_leaf': 0.1, 'gradientboostingclassifier__min_samples_split': 0.1, 'gradientboostingclassifier__n_estimators': 50}\n",
      "\n",
      "SVM has been fitted\n",
      "\tBest model param: {'svc__C': 0.1, 'svc__gamma': 0.01, 'svc__kernel': 'rbf'}\n",
      "\n",
      "Tree has been fitted\n",
      "\tBest model param: {'decisiontreeclassifier__criterion': 'entropy', 'decisiontreeclassifier__max_depth': 8, 'decisiontreeclassifier__max_features': 10, 'decisiontreeclassifier__min_samples_leaf': 5}\n",
      "\n",
      "Time:1.478296903769175\n"
     ]
    }
   ],
   "source": [
    "fitted_models = fit(pipelines,hyperparameters,train_X,train_y)"
   ]
  },
  {
   "cell_type": "markdown",
   "metadata": {},
   "source": [
    "For each one of them I print the final Mean cross-validated score of the best_estimator."
   ]
  },
  {
   "cell_type": "code",
   "execution_count": 44,
   "metadata": {
    "ExecuteTime": {
     "end_time": "2021-04-30T15:45:51.775415Z",
     "start_time": "2021-04-30T15:45:51.761417Z"
    },
    "scrolled": true
   },
   "outputs": [
    {
     "name": "stdout",
     "output_type": "stream",
     "text": [
      "MLP Score:  0.6494641912347352\n",
      "RF Score:  0.6503472208116118\n",
      "GB Score:  0.6563698125460516\n",
      "SVM Score:  0.6631225613053792\n",
      "Tree Score:  0.609227939946566\n"
     ]
    }
   ],
   "source": [
    "# Display best_score_ for each fitted model\n",
    "for name,model in fitted_models.items():\n",
    "    print(name, \"Score: \", model.best_score_)"
   ]
  },
  {
   "cell_type": "markdown",
   "metadata": {},
   "source": [
    "Here we have the real deal: **A plot of the test predict of the ROC Curve and its AUC Score.**"
   ]
  },
  {
   "cell_type": "code",
   "execution_count": 46,
   "metadata": {
    "ExecuteTime": {
     "end_time": "2021-04-30T15:45:53.198957Z",
     "start_time": "2021-04-30T15:45:52.476745Z"
    }
   },
   "outputs": [
    {
     "name": "stdout",
     "output_type": "stream",
     "text": [
      "MLP\n"
     ]
    },
    {
     "data": {
      "image/png": "[encoded data removed]",
      "text/plain": [
       "<Figure size 720x432 with 1 Axes>"
      ]
     },
     "metadata": {
      "needs_background": "light"
     },
     "output_type": "display_data"
    },
    {
     "name": "stdout",
     "output_type": "stream",
     "text": [
      "RF\n"
     ]
    },
    {
     "data": {
      "image/png": "[encoded data removed]",
      "text/plain": [
       "<Figure size 720x432 with 1 Axes>"
      ]
     },
     "metadata": {
      "needs_background": "light"
     },
     "output_type": "display_data"
    },
    {
     "name": "stdout",
     "output_type": "stream",
     "text": [
      "GB\n"
     ]
    },
    {
     "data": {
      "image/png": "[encoded data removed]",
      "text/plain": [
       "<Figure size 720x432 with 1 Axes>"
      ]
     },
     "metadata": {
      "needs_background": "light"
     },
     "output_type": "display_data"
    },
    {
     "name": "stdout",
     "output_type": "stream",
     "text": [
      "SVM\n"
     ]
    },
    {
     "data": {
      "image/png": "[encoded data removed]",
      "text/plain": [
       "<Figure size 720x432 with 1 Axes>"
      ]
     },
     "metadata": {
      "needs_background": "light"
     },
     "output_type": "display_data"
    },
    {
     "name": "stdout",
     "output_type": "stream",
     "text": [
      "Tree\n"
     ]
    },
    {
     "data": {
      "image/png": "[encoded data removed]",
      "text/plain": [
       "<Figure size 720x432 with 1 Axes>"
      ]
     },
     "metadata": {
      "needs_background": "light"
     },
     "output_type": "display_data"
    }
   ],
   "source": [
    "# print test scores\n",
    "for name, model in fitted_models.items():\n",
    "    print(name)\n",
    "    predALL_y = model.predict_proba(test_X)[:,1]\n",
    "    _ = draw_roc_curve(test_y, predALL_y)"
   ]
  },
  {
   "cell_type": "markdown",
   "metadata": {},
   "source": [
    "As we can see, the best models were Random Forest and SVM, with an AUC Score respectively of 0.69 and 0.71. Let's see the **best configuration** for the highest accuracy model:"
   ]
  },
  {
   "cell_type": "code",
   "execution_count": 47,
   "metadata": {
    "ExecuteTime": {
     "end_time": "2021-04-30T15:46:19.173363Z",
     "start_time": "2021-04-30T15:46:19.155363Z"
    }
   },
   "outputs": [
    {
     "data": {
      "text/plain": [
       "{'svc__C': 0.1, 'svc__gamma': 0.01, 'svc__kernel': 'rbf'}"
      ]
     },
     "execution_count": 47,
     "metadata": {},
     "output_type": "execute_result"
    }
   ],
   "source": [
    "fitted_models[\"SVM\"].best_params_"
   ]
  },
  {
   "cell_type": "markdown",
   "metadata": {},
   "source": [
    "Model saving into pickle. "
   ]
  },
  {
   "cell_type": "code",
   "execution_count": null,
   "metadata": {
    "ExecuteTime": {
     "end_time": "2021-04-30T12:42:14.377443Z",
     "start_time": "2021-04-30T12:40:55.125Z"
    }
   },
   "outputs": [],
   "source": [
    "with open('SVM-Ex1.pkl', 'wb') as f:\n",
    "    pickle.dump(fitted_models[\"SVM\"].best_estimator_, f)\n",
    "    \n",
    "with open('RF-Ex1.pkl', 'wb') as f:\n",
    "    pickle.dump(fitted_models[\"RF\"].best_estimator_, f)"
   ]
  },
  {
   "cell_type": "markdown",
   "metadata": {},
   "source": [
    "2. Check if they satisfy the proposed fairness criteria. \n",
    "\n",
    "\n",
    "> In order to analyze the fairness proposed of my models I created the following code which takes each model and predicts the probability of recividism with the test set. Then, proceeds to compute the mean of probabilities with the target columns of Gender and Nationality (same code as given). \n",
    "\n",
    "> What's new is **the creation of a dataframe storing this probabilities for each model**. I also added two more columns: the difference between the target columns probabilities, which help me analyze the result."
   ]
  },
  {
   "cell_type": "code",
   "execution_count": 48,
   "metadata": {
    "ExecuteTime": {
     "end_time": "2021-04-30T15:46:24.226220Z",
     "start_time": "2021-04-30T15:46:24.145221Z"
    }
   },
   "outputs": [],
   "source": [
    "names = []\n",
    "avgMan = []\n",
    "avgWom = []\n",
    "avgNat = []\n",
    "avgFor = []\n",
    "for name, model in fitted_models.items():\n",
    "    names.append(name)\n",
    "    predALL_y = model.predict_proba(test_X)[:,1]\n",
    "    predPH_men_non_recidivists = predALL_y[(test_y=='No') & (test_X[\"V1_sexe_Home\"]==1)]\n",
    "    predPH_women_non_recidivists = predALL_y[(test_y=='No') & (test_X[\"V1_sexe_Dona\"]==1)]\n",
    "\n",
    "    avgMan.append(predPH_men_non_recidivists.sum() / len(predPH_men_non_recidivists))\n",
    "\n",
    "    avgWom.append(predPH_women_non_recidivists.sum() / len(predPH_women_non_recidivists))\n",
    "    \n",
    "    predPH_nationals_non_recidivists = predALL_y[(test_y=='No') & (test_X[\"V2_estranger_Espanyol\"]==1)]\n",
    "    predPH_foreigners_non_recidivists = predALL_y[(test_y=='No') & (test_X[\"V2_estranger_Estranger\"]==1)]\n",
    "    \n",
    "    avgNat.append(predPH_nationals_non_recidivists.sum() / len(predPH_nationals_non_recidivists))\n",
    "\n",
    "    avgFor.append(predPH_foreigners_non_recidivists.sum() / len(predPH_foreigners_non_recidivists))\n",
    "    \n",
    "modelFair =  pd.DataFrame(list(zip(names,avgMan,avgWom,avgNat,avgFor)),columns=[\"Model Name\",\n",
    "                                                                               \"Avg. Prob. Man\",\n",
    "                                                                                \"Avg. Prob. Woman\",\n",
    "                                                                               \"Avg. Prob. National\",\n",
    "                                                                               \"Avg. Prob. Foreigner\"])\n",
    "\n",
    "modelFair[\"Diff Sex\"] = abs(modelFair[\"Avg. Prob. Man\"]-modelFair[\"Avg. Prob. Woman\"])\n",
    "modelFair[\"Diff Origen\"] = abs(modelFair[\"Avg. Prob. National\"]-modelFair[\"Avg. Prob. Foreigner\"])"
   ]
  },
  {
   "cell_type": "code",
   "execution_count": 49,
   "metadata": {
    "ExecuteTime": {
     "end_time": "2021-04-30T15:46:24.431728Z",
     "start_time": "2021-04-30T15:46:24.413699Z"
    }
   },
   "outputs": [
    {
     "data": {
      "text/html": [
       "<div>\n",
       "<style scoped>\n",
       "    .dataframe tbody tr th:only-of-type {\n",
       "        vertical-align: middle;\n",
       "    }\n",
       "\n",
       "    .dataframe tbody tr th {\n",
       "        vertical-align: top;\n",
       "    }\n",
       "\n",
       "    .dataframe thead th {\n",
       "        text-align: right;\n",
       "    }\n",
       "</style>\n",
       "<table border=\"1\" class=\"dataframe\">\n",
       "  <thead>\n",
       "    <tr style=\"text-align: right;\">\n",
       "      <th></th>\n",
       "      <th>Model Name</th>\n",
       "      <th>Avg. Prob. Man</th>\n",
       "      <th>Avg. Prob. Woman</th>\n",
       "      <th>Avg. Prob. National</th>\n",
       "      <th>Avg. Prob. Foreigner</th>\n",
       "      <th>Diff Sex</th>\n",
       "      <th>Diff Origen</th>\n",
       "    </tr>\n",
       "  </thead>\n",
       "  <tbody>\n",
       "    <tr>\n",
       "      <th>1</th>\n",
       "      <td>RF</td>\n",
       "      <td>0.422941</td>\n",
       "      <td>0.418952</td>\n",
       "      <td>0.419843</td>\n",
       "      <td>0.426973</td>\n",
       "      <td>0.003989</td>\n",
       "      <td>0.007130</td>\n",
       "    </tr>\n",
       "    <tr>\n",
       "      <th>4</th>\n",
       "      <td>Tree</td>\n",
       "      <td>0.333200</td>\n",
       "      <td>0.346322</td>\n",
       "      <td>0.321450</td>\n",
       "      <td>0.362287</td>\n",
       "      <td>0.013122</td>\n",
       "      <td>0.040837</td>\n",
       "    </tr>\n",
       "    <tr>\n",
       "      <th>0</th>\n",
       "      <td>MLP</td>\n",
       "      <td>0.388513</td>\n",
       "      <td>0.374579</td>\n",
       "      <td>0.384110</td>\n",
       "      <td>0.390208</td>\n",
       "      <td>0.013934</td>\n",
       "      <td>0.006098</td>\n",
       "    </tr>\n",
       "    <tr>\n",
       "      <th>3</th>\n",
       "      <td>SVM</td>\n",
       "      <td>0.424457</td>\n",
       "      <td>0.374124</td>\n",
       "      <td>0.395647</td>\n",
       "      <td>0.455487</td>\n",
       "      <td>0.050333</td>\n",
       "      <td>0.059840</td>\n",
       "    </tr>\n",
       "    <tr>\n",
       "      <th>2</th>\n",
       "      <td>GB</td>\n",
       "      <td>0.417874</td>\n",
       "      <td>0.347383</td>\n",
       "      <td>0.402518</td>\n",
       "      <td>0.413088</td>\n",
       "      <td>0.070491</td>\n",
       "      <td>0.010570</td>\n",
       "    </tr>\n",
       "  </tbody>\n",
       "</table>\n",
       "</div>"
      ],
      "text/plain": [
       "  Model Name  Avg. Prob. Man  Avg. Prob. Woman  Avg. Prob. National  \\\n",
       "1         RF        0.422941          0.418952             0.419843   \n",
       "4       Tree        0.333200          0.346322             0.321450   \n",
       "0        MLP        0.388513          0.374579             0.384110   \n",
       "3        SVM        0.424457          0.374124             0.395647   \n",
       "2         GB        0.417874          0.347383             0.402518   \n",
       "\n",
       "   Avg. Prob. Foreigner  Diff Sex  Diff Origen  \n",
       "1              0.426973  0.003989     0.007130  \n",
       "4              0.362287  0.013122     0.040837  \n",
       "0              0.390208  0.013934     0.006098  \n",
       "3              0.455487  0.050333     0.059840  \n",
       "2              0.413088  0.070491     0.010570  "
      ]
     },
     "execution_count": 49,
     "metadata": {},
     "output_type": "execute_result"
    }
   ],
   "source": [
    "modelFair.sort_values(\"Diff Sex\",ascending=True)"
   ]
  },
  {
   "cell_type": "markdown",
   "metadata": {},
   "source": [
    "As we can see below, the model with **the most probability difference between Man and Woman** and National and Foreign people is **the model with the best AUC Score!**\n",
    "\n",
    "Nevertheless, the Random Forest model, with a similar score as the SVM, has the less difference between this target columns. \n",
    "\n",
    "In conclusion, right now, with this information, I would pick the Random Forest model **taking in consideration Accuracy and Fairness.**\n",
    "\n",
    "Therefore, from now on, I'll only work with this two models."
   ]
  },
  {
   "cell_type": "code",
   "execution_count": 50,
   "metadata": {
    "ExecuteTime": {
     "end_time": "2021-04-30T15:46:28.382230Z",
     "start_time": "2021-04-30T15:46:28.365151Z"
    }
   },
   "outputs": [],
   "source": [
    "SVM = fitted_models[\"SVM\"].best_estimator_\n",
    "RF = fitted_models[\"RF\"].best_estimator_\n",
    "\n",
    "models = {\"SVM\":SVM,\"RF\":RF}"
   ]
  },
  {
   "cell_type": "markdown",
   "metadata": {},
   "source": [
    "3. Compare several fairness criteria, such as Demographic Parity, Equal Opportunity, Equalized Odds, and Conditional Demographic Parity.\n",
    "\n",
    "> Let me compute some known metrics for my models evaluation:"
   ]
  },
  {
   "cell_type": "code",
   "execution_count": 51,
   "metadata": {
    "ExecuteTime": {
     "end_time": "2021-04-30T15:46:29.112070Z",
     "start_time": "2021-04-30T15:46:29.095063Z"
    }
   },
   "outputs": [],
   "source": [
    "from sklearn.metrics import confusion_matrix\n",
    "from sklearn.metrics import f1_score\n",
    "from IPython.display import display, HTML"
   ]
  },
  {
   "cell_type": "code",
   "execution_count": 52,
   "metadata": {
    "ExecuteTime": {
     "end_time": "2021-04-30T15:46:29.673034Z",
     "start_time": "2021-04-30T15:46:29.620036Z"
    }
   },
   "outputs": [
    {
     "name": "stdout",
     "output_type": "stream",
     "text": [
      "\n",
      "MODEL: SVM\n",
      "\tConfusion Matrix\n"
     ]
    },
    {
     "data": {
      "text/html": [
       "<table border=\"1\" class=\"dataframe\">\n",
       "  <thead>\n",
       "    <tr style=\"text-align: right;\">\n",
       "      <th></th>\n",
       "      <th>Actual Positive</th>\n",
       "      <th>Actual Negative</th>\n",
       "    </tr>\n",
       "  </thead>\n",
       "  <tbody>\n",
       "    <tr>\n",
       "      <th>Predicted Positive</th>\n",
       "      <td>97</td>\n",
       "      <td>29</td>\n",
       "    </tr>\n",
       "    <tr>\n",
       "      <th>Predicted Negative</th>\n",
       "      <td>44</td>\n",
       "      <td>45</td>\n",
       "    </tr>\n",
       "  </tbody>\n",
       "</table>"
      ],
      "text/plain": [
       "<IPython.core.display.HTML object>"
      ]
     },
     "metadata": {},
     "output_type": "display_data"
    },
    {
     "name": "stdout",
     "output_type": "stream",
     "text": [
      "\tF1-Score: 0.6393694997817148\n",
      "\n",
      "MODEL: RF\n",
      "\tConfusion Matrix\n"
     ]
    },
    {
     "data": {
      "text/html": [
       "<table border=\"1\" class=\"dataframe\">\n",
       "  <thead>\n",
       "    <tr style=\"text-align: right;\">\n",
       "      <th></th>\n",
       "      <th>Actual Positive</th>\n",
       "      <th>Actual Negative</th>\n",
       "    </tr>\n",
       "  </thead>\n",
       "  <tbody>\n",
       "    <tr>\n",
       "      <th>Predicted Positive</th>\n",
       "      <td>120</td>\n",
       "      <td>6</td>\n",
       "    </tr>\n",
       "    <tr>\n",
       "      <th>Predicted Negative</th>\n",
       "      <td>78</td>\n",
       "      <td>11</td>\n",
       "    </tr>\n",
       "  </tbody>\n",
       "</table>"
      ],
      "text/plain": [
       "<IPython.core.display.HTML object>"
      ]
     },
     "metadata": {},
     "output_type": "display_data"
    },
    {
     "name": "stdout",
     "output_type": "stream",
     "text": [
      "\tF1-Score: 0.4741439552760307\n"
     ]
    }
   ],
   "source": [
    "for name, model in models.items():\n",
    "    \n",
    "    predALL_y = model.predict_proba(test_X)[:,1]\n",
    "    matrix = pd.DataFrame(confusion_matrix([1 if i == \"Sí\" else 0 for i in test_y], np.round(predALL_y)),columns=[\"Actual Positive\",\"Actual Negative\"])\n",
    "    matrix.index = [\"Predicted Positive\",\"Predicted Negative\"]\n",
    "    f1 = f1_score([1 if i == \"Sí\" else 0 for i in test_y], np.round(predALL_y),average=\"macro\")\n",
    "    print(\"\\nMODEL:\",name)\n",
    "    print(\"\\tConfusion Matrix\")\n",
    "    display(HTML(matrix.to_html()))\n",
    "    print(\"\\tF1-Score:\",f1)\n",
    "    "
   ]
  },
  {
   "cell_type": "markdown",
   "metadata": {},
   "source": [
    "### SVM\n",
    "\n",
    "The first thing I see in this model is the amount of False Negatives. 44 people were predicted as non-recividist and they actually were.\n",
    "\n",
    "Nevertheless, we actually have a small amount of people predicted as reicividist but they actually weren't, and we have a good amount of people (97+45) predicted correctly. That's why we have a decent F1-Score: 0.63.\n",
    "\n",
    "### RF\n",
    "\n",
    "Here we have even few people predicted as reicividist when they actually were not, only 6. On the other hand, we have a lot more people misclassified as non-recividist and they actually were. That's why we have less F1-Score: 0.47\n",
    "\n",
    "\n",
    "Now, let's switch the fairness view with the protected variables of Gender and Nationality.\n",
    "\n",
    "## Gender"
   ]
  },
  {
   "cell_type": "code",
   "execution_count": 53,
   "metadata": {
    "ExecuteTime": {
     "end_time": "2021-04-30T15:46:34.505781Z",
     "start_time": "2021-04-30T15:46:34.496782Z"
    }
   },
   "outputs": [],
   "source": [
    "def build_confusion_matrix(test_X,test_y,preds):\n",
    "    resultDF = pd.DataFrame()\n",
    "    resultDF[\"Gender\"] = [\"Home\" if i == 1 else \"Dona\" for i in test_X[\"V1_sexe_Home\"]]\n",
    "    resultDF[\"Nationality\"] = [\"National\" if i == 1 else \"Foreigner\" for i in test_X[\"V2_estranger_Espanyol\"]]\n",
    "    resultDF[\"True\"] = [\"Si\" if i == \"Sí\" else \"No\" for i in test_y]\n",
    "    resultDF[\"Predict\"] = [\"Si\" if i == 1 else \"No\" for i in np.round(preds)]\n",
    "    return resultDF"
   ]
  },
  {
   "cell_type": "code",
   "execution_count": 54,
   "metadata": {
    "ExecuteTime": {
     "end_time": "2021-04-30T15:46:35.302925Z",
     "start_time": "2021-04-30T15:46:35.231892Z"
    }
   },
   "outputs": [
    {
     "name": "stdout",
     "output_type": "stream",
     "text": [
      "MODEL: SVM\n"
     ]
    },
    {
     "data": {
      "text/html": [
       "<table border=\"1\" class=\"dataframe\">\n",
       "  <thead>\n",
       "    <tr>\n",
       "      <th>Gender</th>\n",
       "      <th colspan=\"2\" halign=\"left\">Dona</th>\n",
       "      <th colspan=\"2\" halign=\"left\">Home</th>\n",
       "    </tr>\n",
       "    <tr>\n",
       "      <th>True</th>\n",
       "      <th>No</th>\n",
       "      <th>Si</th>\n",
       "      <th>No</th>\n",
       "      <th>Si</th>\n",
       "    </tr>\n",
       "    <tr>\n",
       "      <th>Predict</th>\n",
       "      <th></th>\n",
       "      <th></th>\n",
       "      <th></th>\n",
       "      <th></th>\n",
       "    </tr>\n",
       "  </thead>\n",
       "  <tbody>\n",
       "    <tr>\n",
       "      <th>No</th>\n",
       "      <td>18</td>\n",
       "      <td>4</td>\n",
       "      <td>79</td>\n",
       "      <td>40</td>\n",
       "    </tr>\n",
       "    <tr>\n",
       "      <th>Si</th>\n",
       "      <td>3</td>\n",
       "      <td>5</td>\n",
       "      <td>26</td>\n",
       "      <td>40</td>\n",
       "    </tr>\n",
       "  </tbody>\n",
       "</table>"
      ],
      "text/plain": [
       "<IPython.core.display.HTML object>"
      ]
     },
     "metadata": {},
     "output_type": "display_data"
    },
    {
     "name": "stdout",
     "output_type": "stream",
     "text": [
      "MODEL: RF\n"
     ]
    },
    {
     "data": {
      "text/html": [
       "<table border=\"1\" class=\"dataframe\">\n",
       "  <thead>\n",
       "    <tr>\n",
       "      <th>Gender</th>\n",
       "      <th colspan=\"2\" halign=\"left\">Dona</th>\n",
       "      <th colspan=\"2\" halign=\"left\">Home</th>\n",
       "    </tr>\n",
       "    <tr>\n",
       "      <th>True</th>\n",
       "      <th>No</th>\n",
       "      <th>Si</th>\n",
       "      <th>No</th>\n",
       "      <th>Si</th>\n",
       "    </tr>\n",
       "    <tr>\n",
       "      <th>Predict</th>\n",
       "      <th></th>\n",
       "      <th></th>\n",
       "      <th></th>\n",
       "      <th></th>\n",
       "    </tr>\n",
       "  </thead>\n",
       "  <tbody>\n",
       "    <tr>\n",
       "      <th>No</th>\n",
       "      <td>21</td>\n",
       "      <td>7</td>\n",
       "      <td>99</td>\n",
       "      <td>71</td>\n",
       "    </tr>\n",
       "    <tr>\n",
       "      <th>Si</th>\n",
       "      <td>0</td>\n",
       "      <td>2</td>\n",
       "      <td>6</td>\n",
       "      <td>9</td>\n",
       "    </tr>\n",
       "  </tbody>\n",
       "</table>"
      ],
      "text/plain": [
       "<IPython.core.display.HTML object>"
      ]
     },
     "metadata": {},
     "output_type": "display_data"
    },
    {
     "name": "stdout",
     "output_type": "stream",
     "text": [
      "Amount of people by gender:\n",
      " Home    185\n",
      "Dona     30\n",
      "Name: Gender, dtype: int64\n"
     ]
    }
   ],
   "source": [
    "for name, model in models.items():\n",
    "    print(\"MODEL:\",name)\n",
    "    df = build_confusion_matrix(test_X,test_y,model.predict_proba(test_X)[:,1])\n",
    "    pt = df.pivot_table(index=[\"Predict\"], columns=[\"Gender\",\"True\"], aggfunc='size',fill_value=0)\n",
    "    display(HTML(pt.to_html()))\n",
    "print(\"Amount of people by gender:\\n\",df[\"Gender\"].value_counts())"
   ]
  },
  {
   "cell_type": "markdown",
   "metadata": {},
   "source": [
    "### SVM\n",
    "\n",
    "The amount of woman misclassified as recividist and they weren't is the 10%. The amount of man is the 14%. Therefore, the percentage of misclassified is more or less the same for both groups.\n",
    "\n",
    "The amount of woman correctly classified (recividist or not) is the 76.6%. The amount of man is the 64.32%. Therefore, the percentage of correctly classified is more or less the same for both groups.\n",
    "\n",
    "### RF\n",
    "\n",
    "Here, there's no woman misclassified as recividist.In man, only the 3.2%, so RF wins in this category.\n",
    "\n",
    "The problem in this model is that almost the 40% of man were incorrectly classified as non-recividist when they actually were. In woman, only the 23% percent. \n",
    "\n",
    "## Nationality"
   ]
  },
  {
   "cell_type": "code",
   "execution_count": 107,
   "metadata": {
    "ExecuteTime": {
     "end_time": "2021-04-29T09:31:25.121273Z",
     "start_time": "2021-04-29T09:31:25.055273Z"
    }
   },
   "outputs": [
    {
     "name": "stdout",
     "output_type": "stream",
     "text": [
      "MODEL: SVM\n"
     ]
    },
    {
     "data": {
      "text/html": [
       "<table border=\"1\" class=\"dataframe\">\n",
       "  <thead>\n",
       "    <tr>\n",
       "      <th>Nationality</th>\n",
       "      <th colspan=\"2\" halign=\"left\">Foreigner</th>\n",
       "      <th colspan=\"2\" halign=\"left\">National</th>\n",
       "    </tr>\n",
       "    <tr>\n",
       "      <th>True</th>\n",
       "      <th>No</th>\n",
       "      <th>Si</th>\n",
       "      <th>No</th>\n",
       "      <th>Si</th>\n",
       "    </tr>\n",
       "    <tr>\n",
       "      <th>Predict</th>\n",
       "      <th></th>\n",
       "      <th></th>\n",
       "      <th></th>\n",
       "      <th></th>\n",
       "    </tr>\n",
       "  </thead>\n",
       "  <tbody>\n",
       "    <tr>\n",
       "      <th>No</th>\n",
       "      <td>28</td>\n",
       "      <td>15</td>\n",
       "      <td>69</td>\n",
       "      <td>29</td>\n",
       "    </tr>\n",
       "    <tr>\n",
       "      <th>Si</th>\n",
       "      <td>15</td>\n",
       "      <td>27</td>\n",
       "      <td>14</td>\n",
       "      <td>18</td>\n",
       "    </tr>\n",
       "  </tbody>\n",
       "</table>"
      ],
      "text/plain": [
       "<IPython.core.display.HTML object>"
      ]
     },
     "metadata": {},
     "output_type": "display_data"
    },
    {
     "name": "stdout",
     "output_type": "stream",
     "text": [
      "MODEL: RF\n"
     ]
    },
    {
     "data": {
      "text/html": [
       "<table border=\"1\" class=\"dataframe\">\n",
       "  <thead>\n",
       "    <tr>\n",
       "      <th>Nationality</th>\n",
       "      <th colspan=\"2\" halign=\"left\">Foreigner</th>\n",
       "      <th colspan=\"2\" halign=\"left\">National</th>\n",
       "    </tr>\n",
       "    <tr>\n",
       "      <th>True</th>\n",
       "      <th>No</th>\n",
       "      <th>Si</th>\n",
       "      <th>No</th>\n",
       "      <th>Si</th>\n",
       "    </tr>\n",
       "    <tr>\n",
       "      <th>Predict</th>\n",
       "      <th></th>\n",
       "      <th></th>\n",
       "      <th></th>\n",
       "      <th></th>\n",
       "    </tr>\n",
       "  </thead>\n",
       "  <tbody>\n",
       "    <tr>\n",
       "      <th>No</th>\n",
       "      <td>39</td>\n",
       "      <td>38</td>\n",
       "      <td>81</td>\n",
       "      <td>40</td>\n",
       "    </tr>\n",
       "    <tr>\n",
       "      <th>Si</th>\n",
       "      <td>4</td>\n",
       "      <td>4</td>\n",
       "      <td>2</td>\n",
       "      <td>7</td>\n",
       "    </tr>\n",
       "  </tbody>\n",
       "</table>"
      ],
      "text/plain": [
       "<IPython.core.display.HTML object>"
      ]
     },
     "metadata": {},
     "output_type": "display_data"
    },
    {
     "name": "stdout",
     "output_type": "stream",
     "text": [
      "Amount of people by Nationality:\n",
      " National     130\n",
      "Foreigner     85\n",
      "Name: Nationality, dtype: int64\n"
     ]
    }
   ],
   "source": [
    "for name, model in models.items():\n",
    "    print(\"MODEL:\",name)\n",
    "    df = build_confusion_matrix(test_X,test_y,model.predict_proba(test_X)[:,1])\n",
    "    pt = df.pivot_table(index=[\"Predict\"], columns=[\"Nationality\",\"True\"], aggfunc='size',fill_value=0)\n",
    "    display(HTML(pt.to_html()))\n",
    "print(\"Amount of people by Nationality:\\n\",df[\"Nationality\"].value_counts())"
   ]
  },
  {
   "cell_type": "markdown",
   "metadata": {},
   "source": [
    "### SVM\n",
    "\n",
    "The amount of foreigner people incorrectly classified as recividist that actually weren't is the 17.64%. The amount of national people is the 10%. That's almost 8 points of difference so we can think of a possible presence of discrimination in this model against foreign people.\n",
    "\n",
    "On the other hand, almost the same percentage of national and foreign poeple were correctly classified (recividist or not): 66.9% for national and 64.7 for foreign people.\n",
    "\n",
    "### RF\n",
    "\n",
    "In this model we find better equilibrium. There's a slight difference between the amount of people predicted as non-recividist that actually were: 30.7% for the national people and 44.7% for the foreigners.\n",
    "\n",
    "\n",
    "On the other hand, only 1.5% of national people were incorrectly classified as being recividist and 4.7% for the foreign people."
   ]
  },
  {
   "cell_type": "markdown",
   "metadata": {},
   "source": [
    "### Questions (justify your answers)\n",
    "\n",
    "1. Is there a method that can achieve better predictive power than human experts? \n",
    "\n",
    "> I believe that right now we do not have the computer power in order to store (and how to store it) all the knowledge of a human expert in this field. In other words, supposing we have all the data necessary to make a fair decision, I do not believe we can store it in a computer and create a model able to understand it and end up making the same decision that a human expert with the same information would do. \n",
    "\n",
    "> What I think we can do to upgrade this decision is combine precisely the power of ML with all the information that we can gather and the power of a human expert knowledge. This two combined can make a better decision that those two separated.\n",
    "\n",
    "2. Is this method better than human experts in terms of fairness?\n",
    "\n",
    "> If we look at the Professional (human expert) recidivism prediction and fairness we can see that the error rates are lower than the ones of my models, so, if we consider \"this method\" as my models, the answer is no. \n",
    "\n",
    "> Even though there's a model with better error rates I would not consider it a better method in terms of fairness. The reason why is explained in Q4.\n",
    "\n",
    "3. Which is the most suited fairness criterium for this problem? Why?\n"
   ]
  },
  {
   "cell_type": "code",
   "execution_count": 87,
   "metadata": {
    "ExecuteTime": {
     "end_time": "2021-04-30T16:07:45.491910Z",
     "start_time": "2021-04-30T16:07:45.467937Z"
    }
   },
   "outputs": [
    {
     "name": "stdout",
     "output_type": "stream",
     "text": [
      "(0.096, 'V20_nombre_antecedents')\n",
      "(0.064, 'V89_@P1_impicacio_prosocial_Absent')\n",
      "(0.064, 'V80_@16_entorn_marginal_Baix')\n",
      "(0.052, 'V93_@P5_fort_compromis_escola_treball_Present')\n",
      "(0.052, 'V90_@P2_suport_social_fort_Absent')\n"
     ]
    }
   ],
   "source": [
    "RFImportance=list(zip(fitted_models['RF'].best_estimator_.named_steps['randomforestclassifier'].feature_importances_,train_X))\n",
    "RFImportance.sort(reverse=True)\n",
    "for i in range(5):\n",
    "    print(RFImportance[i])"
   ]
  },
  {
   "cell_type": "markdown",
   "metadata": {},
   "source": [
    "> As we can see below, for the ML models the feature which takes most into account in order to output a decision is the number of \"records\" (antecedents), followed by if the social implication was low and if the \"neighborhood\" of the individual was low-marginal, the seriousness of the individual at work-school, etc.\n",
    "\n",
    "> I do think this series of criteria are important, but I don't think they are the most suited in order to ensure the most fairness. For example, there could be a feature extremely important that only few individuals of the dataset posses. My models, given the fact that is a small group, would not consider it as important as a human expert.\n",
    "\n",
    "> If we talk about Demographic Parity, Equal Opportunity, Equalized Odds, and Conditional Demographic Parity I would say that Equalized Odds is the most suited in my opinion. \n",
    "\n",
    "> I think ensuring the same odds of both protected groups of being binary targeted is a huge deal and the fact that producing a model that ensures that is a big step to later on check on the other criterias. I also think is the hardest cirteria to obtain, so therefore it should be considered one of the most suited as well."
   ]
  },
  {
   "cell_type": "markdown",
   "metadata": {},
   "source": [
    "\n",
    "4. What are your conclusion about the use of a ML model to predict recividism?\n",
    "\n",
    "> As I said in question 1, I think the use of ML for recividism prediction is usefull and even necessary, but it should **always** be combined with human decisions from experts in the field, never taking as only input the decision of an algorithm. \n",
    "\n",
    "> Algorithms reflect the biases present in our society so right now we cannot let this models make standalone decisions such important. In the future, who knows...\n"
   ]
  },
  {
   "cell_type": "markdown",
   "metadata": {},
   "source": [
    "# Exercise 2\n",
    "\n",
    "We have seen that the bias in the data with respect to the protected features (sex, nationality) yields disparity between groups. To analyze the influence of data bias with respect to the protected features we can perform a comparison of the baseline, unrestricted data settings with one mitigation method that addresses these issues: equalized base rates (EBR). Differences in predictive performance, group fairness and the set of features, which are important for prediction, provide further insights in the role that these conditions play with respect to group fairness.\n",
    "\n",
    "EBR assumes the following stratified oversampling procedure. Considering the input features $x$ and the outcomes $y$, a protected feature $f'$ has $I$ possible values corresponding to different groups: $\\{g_1,…,g_I\\}$, comprising a reference group $g_{ref}$. For each group $g_i$, different to the reference group, we compute the number of positive or negative condition samples $|S_i|$ we need to add to the training data, where $|S_i|$ is the absolute value of $S_i = P(x(f')=g_i)(P(y|x(f')=g_i) - P(y|x(f')=g_{ref}))$. \n",
    "\n",
    "If $S_i$ is negative then we add to the data $|S_i|$ negative condition samples $P(y=0| P(x(f')=g_i)$, while for $S_i$ positive we add $|S_i|$ positive condition samples $P(y=1| P(x(f')=g_i)$ of group $g_i$. This procedure yields equal base rates between the group $g_i$ and the reference group $g_{ref}$, namely $P(x(f')=g_i) = P(x(f')=g_{ref})$.\n",
    "\n",
    "### Questions (justify your answers)\n",
    "\n",
    "1. Is the application of this mitigation method sufficient to guarantee fair outcomes?\n",
    "\n",
    "As stated in Miron, M., Tolan, S., Gómez, E. et al., [\"Evaluating causes of algorithmic bias in juvenile criminal recidivism\"](https://doi.org/10.1007/s10506-020-09268-y), EBR is a method that depends heavily on how our dataset is distributed. \n",
    "\n",
    "First, we have to take in consideration the effect of applying EBR on our dataset. Maybe we are mitigating group fairness on some protected features, but, at the same time, **we might end up inducing another disparity** on another protected feature. For example, trying to mitigate a sample of individuals of a certain religion might end up causing disparities on another sample of another protected feature, like gender or race:\n",
    "\n",
    "> While EBR does not target Maghrebi and Latin Americans in particular, these groups are more numerous than the Europeans and Others. Even if the prevalence of the recidivism for Maghrebi is higher, there are more Maghrebi non-recidivists than European non-recidivists. Thus, **as a side-effect of targeting EBR to foreigners**, we note a drop in the disparity between Maghrebi and Spanish nationals [...]\n",
    "\n",
    "EBR relies a lot obviously on the amount of representation in the dataset of a protected sample and the input features. For example, in the paper, EBR reduces disparity between nationality groups but struggles a lot more when mitigating gender differences:\n",
    "\n",
    "> [...] Note that for “EBR” the base rates are equalized between Spanish nationals and foreigners, and not necessarily for the presented subgroups. We exclude small subgroups with less than 50 people like non-Spaniard European (37 people) and Others (13 people) for which a few different decisions may drastically impact the overall group fairness outcome [...]\n",
    "\n",
    "So, in conclusion, this mitigation method might be useful in some cases and its application is recommended but **we cannot say that EBR is the solution to unfair classification**. Protected features tend to include small groups of people, like, in this case, the amount of female population, so little changes in input can lead to large changes in marginal outcomes.\n",
    "\n",
    "###### **Let's try with our own code though**:"
   ]
  },
  {
   "cell_type": "code",
   "execution_count": 55,
   "metadata": {
    "ExecuteTime": {
     "end_time": "2021-04-30T15:46:46.369487Z",
     "start_time": "2021-04-30T15:46:46.356418Z"
    }
   },
   "outputs": [],
   "source": [
    "#Creating new train and test sets\n",
    "train_X_Ex2 = train_X.copy()\n",
    "train_X_Ex2[\"Target\"] = train_y"
   ]
  },
  {
   "cell_type": "markdown",
   "metadata": {},
   "source": [
    "Let's look at the imbalance of my dataset for the Gender feature"
   ]
  },
  {
   "cell_type": "code",
   "execution_count": 56,
   "metadata": {
    "ExecuteTime": {
     "end_time": "2021-04-30T15:46:46.868962Z",
     "start_time": "2021-04-30T15:46:46.850927Z"
    }
   },
   "outputs": [
    {
     "data": {
      "text/plain": [
       "V1_sexe_Dona\n",
       "0    386\n",
       "1     49\n",
       "dtype: int64"
      ]
     },
     "execution_count": 56,
     "metadata": {},
     "output_type": "execute_result"
    }
   ],
   "source": [
    "train_X_Ex2.groupby(\"V1_sexe_Dona\")[[\"Target\"]].size()"
   ]
  },
  {
   "cell_type": "markdown",
   "metadata": {},
   "source": [
    "Now I proceed to **replicate enough rows** in order to have exactly the same number of woman and man"
   ]
  },
  {
   "cell_type": "code",
   "execution_count": 57,
   "metadata": {
    "ExecuteTime": {
     "end_time": "2021-04-30T15:46:48.972276Z",
     "start_time": "2021-04-30T15:46:48.954761Z"
    }
   },
   "outputs": [],
   "source": [
    "idxs = train_X_Ex2[train_X_Ex2.V1_sexe_Dona == 1].index\n",
    "rows = np.random.choice(idxs, 386-49)\n",
    "train_X_Ex2 = pd.concat([train_X_Ex2,train_X_Ex2.loc[rows]])"
   ]
  },
  {
   "cell_type": "markdown",
   "metadata": {},
   "source": [
    "Same principle applies for the Nationality column"
   ]
  },
  {
   "cell_type": "code",
   "execution_count": 58,
   "metadata": {
    "ExecuteTime": {
     "end_time": "2021-04-30T15:46:49.301909Z",
     "start_time": "2021-04-30T15:46:49.282907Z"
    }
   },
   "outputs": [
    {
     "data": {
      "text/plain": [
       "V2_estranger_Estranger\n",
       "0    505\n",
       "1    267\n",
       "dtype: int64"
      ]
     },
     "execution_count": 58,
     "metadata": {},
     "output_type": "execute_result"
    }
   ],
   "source": [
    "train_X_Ex2.groupby(\"V2_estranger_Estranger\")[[\"Target\"]].size()"
   ]
  },
  {
   "cell_type": "code",
   "execution_count": 59,
   "metadata": {
    "ExecuteTime": {
     "end_time": "2021-04-30T15:46:49.458148Z",
     "start_time": "2021-04-30T15:46:49.444149Z"
    }
   },
   "outputs": [],
   "source": [
    "idxs = train_X_Ex2[train_X_Ex2.V2_estranger_Estranger == 1].index\n",
    "rows = np.random.choice(idxs, 254-181)\n",
    "train_X_Ex2 = pd.concat([train_X_Ex2,train_X_Ex2.loc[rows]])"
   ]
  },
  {
   "cell_type": "code",
   "execution_count": 60,
   "metadata": {
    "ExecuteTime": {
     "end_time": "2021-04-30T15:46:49.630115Z",
     "start_time": "2021-04-30T15:46:49.610116Z"
    }
   },
   "outputs": [
    {
     "name": "stdout",
     "output_type": "stream",
     "text": [
      "(1107, 96) (1107,)\n"
     ]
    }
   ],
   "source": [
    "# Splitting again train and test\n",
    "train_y_Ex2 = train_X_Ex2[\"Target\"].values\n",
    "train_X_Ex2 = train_X_Ex2.drop([\"Target\"],axis=1)\n",
    "print(train_X_Ex2.shape, train_y_Ex2.shape)"
   ]
  },
  {
   "cell_type": "markdown",
   "metadata": {},
   "source": [
    "Let's fit again with my new dataset with the two models that gave me the best performance (SVM and RF)"
   ]
  },
  {
   "cell_type": "code",
   "execution_count": 62,
   "metadata": {
    "ExecuteTime": {
     "end_time": "2021-04-30T15:47:33.932987Z",
     "start_time": "2021-04-30T15:47:08.827826Z"
    }
   },
   "outputs": [
    {
     "name": "stdout",
     "output_type": "stream",
     "text": [
      "\n",
      "SVM has been fitted\n",
      "\tBest model param: {'svc__C': 1, 'svc__gamma': 0.1, 'svc__kernel': 'rbf'}\n",
      "\n",
      "RF has been fitted\n",
      "\tBest model param: {'randomforestclassifier__bootstrap': False, 'randomforestclassifier__max_depth': 10, 'randomforestclassifier__max_features': 'auto', 'randomforestclassifier__min_samples_leaf': 4, 'randomforestclassifier__min_samples_split': 10, 'randomforestclassifier__n_estimators': 100}\n",
      "\n",
      "Time:0.41815270980199176\n"
     ]
    }
   ],
   "source": [
    "pipelines_Ex2 = {}\n",
    "pipelines_Ex2[\"SVM\"] = pipelines[\"SVM\"]\n",
    "pipelines_Ex2[\"RF\"] = pipelines[\"RF\"]\n",
    "fitted_models_Ex2 = fit(pipelines_Ex2,hyperparameters,train_X_Ex2,train_y_Ex2)"
   ]
  },
  {
   "cell_type": "code",
   "execution_count": 63,
   "metadata": {
    "ExecuteTime": {
     "end_time": "2021-04-30T15:47:33.948987Z",
     "start_time": "2021-04-30T15:47:33.933987Z"
    },
    "scrolled": true
   },
   "outputs": [
    {
     "name": "stdout",
     "output_type": "stream",
     "text": [
      "SVM Score:  0.9210609534350541\n",
      "RF Score:  0.9029617562662094\n"
     ]
    }
   ],
   "source": [
    "# Display best_score_ for each fitted model\n",
    "for name,model in fitted_models_Ex2.items():\n",
    "    print(name, \"Score: \", model.best_score_)"
   ]
  },
  {
   "cell_type": "code",
   "execution_count": 64,
   "metadata": {
    "ExecuteTime": {
     "end_time": "2021-04-30T15:47:43.072042Z",
     "start_time": "2021-04-30T15:47:42.810200Z"
    },
    "scrolled": false
   },
   "outputs": [
    {
     "name": "stdout",
     "output_type": "stream",
     "text": [
      "SVM\n"
     ]
    },
    {
     "data": {
      "image/png": "[encoded data removed]",
      "text/plain": [
       "<Figure size 720x432 with 1 Axes>"
      ]
     },
     "metadata": {
      "needs_background": "light"
     },
     "output_type": "display_data"
    },
    {
     "name": "stdout",
     "output_type": "stream",
     "text": [
      "RF\n"
     ]
    },
    {
     "data": {
      "image/png": "[encoded data removed]",
      "text/plain": [
       "<Figure size 720x432 with 1 Axes>"
      ]
     },
     "metadata": {
      "needs_background": "light"
     },
     "output_type": "display_data"
    }
   ],
   "source": [
    "# print test scores\n",
    "for name, model in fitted_models_Ex2.items():\n",
    "    print(name)\n",
    "    predALL_y = model.predict_proba(test_X)[:,1]\n",
    "    _ = draw_roc_curve(test_y, predALL_y)"
   ]
  },
  {
   "cell_type": "code",
   "execution_count": 172,
   "metadata": {
    "ExecuteTime": {
     "end_time": "2021-04-29T15:52:06.126003Z",
     "start_time": "2021-04-29T15:52:06.062969Z"
    }
   },
   "outputs": [
    {
     "name": "stdout",
     "output_type": "stream",
     "text": [
      "\n",
      "MODEL: SVM\n",
      "\tConfusion Matrix\n"
     ]
    },
    {
     "data": {
      "text/html": [
       "<table border=\"1\" class=\"dataframe\">\n",
       "  <thead>\n",
       "    <tr style=\"text-align: right;\">\n",
       "      <th></th>\n",
       "      <th>Actual Positive</th>\n",
       "      <th>Actual Negative</th>\n",
       "    </tr>\n",
       "  </thead>\n",
       "  <tbody>\n",
       "    <tr>\n",
       "      <th>Predicted Positive</th>\n",
       "      <td>91</td>\n",
       "      <td>35</td>\n",
       "    </tr>\n",
       "    <tr>\n",
       "      <th>Predicted Negative</th>\n",
       "      <td>41</td>\n",
       "      <td>48</td>\n",
       "    </tr>\n",
       "  </tbody>\n",
       "</table>"
      ],
      "text/plain": [
       "<IPython.core.display.HTML object>"
      ]
     },
     "metadata": {},
     "output_type": "display_data"
    },
    {
     "name": "stdout",
     "output_type": "stream",
     "text": [
      "\tF1-Score: 0.6317829457364341\n",
      "\n",
      "MODEL: RF\n",
      "\tConfusion Matrix\n"
     ]
    },
    {
     "data": {
      "text/html": [
       "<table border=\"1\" class=\"dataframe\">\n",
       "  <thead>\n",
       "    <tr style=\"text-align: right;\">\n",
       "      <th></th>\n",
       "      <th>Actual Positive</th>\n",
       "      <th>Actual Negative</th>\n",
       "    </tr>\n",
       "  </thead>\n",
       "  <tbody>\n",
       "    <tr>\n",
       "      <th>Predicted Positive</th>\n",
       "      <td>97</td>\n",
       "      <td>29</td>\n",
       "    </tr>\n",
       "    <tr>\n",
       "      <th>Predicted Negative</th>\n",
       "      <td>45</td>\n",
       "      <td>44</td>\n",
       "    </tr>\n",
       "  </tbody>\n",
       "</table>"
      ],
      "text/plain": [
       "<IPython.core.display.HTML object>"
      ]
     },
     "metadata": {},
     "output_type": "display_data"
    },
    {
     "name": "stdout",
     "output_type": "stream",
     "text": [
      "\tF1-Score: 0.6335452367790675\n"
     ]
    }
   ],
   "source": [
    "for name, model in fitted_models_Ex2.items():\n",
    "    \n",
    "    predALL_y = model.predict_proba(test_X)[:,1]\n",
    "    matrix = pd.DataFrame(confusion_matrix([1 if i == \"Sí\" else 0 for i in test_y], np.round(predALL_y)),columns=[\"Actual Positive\",\"Actual Negative\"])\n",
    "    matrix.index = [\"Predicted Positive\",\"Predicted Negative\"]\n",
    "    f1 = f1_score([1 if i == \"Sí\" else 0 for i in test_y], np.round(predALL_y),average=\"macro\")\n",
    "    print(\"\\nMODEL:\",name)\n",
    "    print(\"\\tConfusion Matrix\")\n",
    "    display(HTML(matrix.to_html()))\n",
    "    print(\"\\tF1-Score:\",f1)"
   ]
  },
  {
   "cell_type": "markdown",
   "metadata": {},
   "source": [
    "As we can see, **I did not get much grater results**.\n",
    "\n",
    "At first glance, the final Mean cross-validated score is much higher than the previous ones. But, after testing with my test set we can see that the **AUC Scores are lower** than the ones of the Exercice 1: from 0.71 to 0.68.\n",
    "\n",
    "On the second hand, the confusion matrix are also similar. One thing that surprised me is the amount of False Negatives that we have in the RF model: from 78 in Exercice 1 to 45 with this dataset. That's why the F1-Score of this model has improved: from 0.47 to 0.63. The **F1-Score of the SVM model is the same** in both cases!"
   ]
  },
  {
   "cell_type": "markdown",
   "metadata": {},
   "source": [
    "# Exercise 3\n",
    "\n",
    "In order to see which fearures are important for different predictive models we can use ML explainability models. \n",
    "\n",
    "Apply ML explainability models to the (i) human risk assessment score, (ii) to the SAVRY baseline model, and (iii) to the best ML model (in terms of performance). \n",
    "\n",
    "## Human risk assessment score\n",
    "\n",
    "The V56_@R1_resum_risc_global_reverse feature is multi-labelled, so **I need to transform the train to a 3-multi-labelled problem**. Therefore, I use the OneVsRestClassifier with the list of models that we've seen in Exercise 1."
   ]
  },
  {
   "cell_type": "code",
   "execution_count": 115,
   "metadata": {
    "ExecuteTime": {
     "end_time": "2021-04-30T16:21:31.984259Z",
     "start_time": "2021-04-30T16:21:31.965228Z"
    }
   },
   "outputs": [],
   "source": [
    "from sklearn.multiclass import OneVsRestClassifier"
   ]
  },
  {
   "cell_type": "code",
   "execution_count": 116,
   "metadata": {
    "ExecuteTime": {
     "end_time": "2021-04-30T16:21:32.188360Z",
     "start_time": "2021-04-30T16:21:32.168259Z"
    }
   },
   "outputs": [],
   "source": [
    "# Transform the categorical variable to numerical-labeled (0, 1 and 2)\n",
    "train_y_HRisk = train[\"V56_@R1_resum_risc_global_reverse\"].replace('Baixa',0).replace('Moderada',1).replace('Alta',2)\n",
    "test_y_HRisk = test[\"V56_@R1_resum_risc_global_reverse\"].replace('Baixa',0).replace('Moderada',1).replace('Alta',2)"
   ]
  },
  {
   "cell_type": "code",
   "execution_count": 206,
   "metadata": {
    "ExecuteTime": {
     "end_time": "2021-04-30T17:04:00.478751Z",
     "start_time": "2021-04-30T17:04:00.464727Z"
    }
   },
   "outputs": [],
   "source": [
    "# Transform the test sets with the binarization of this multi-labeled variable\n",
    "pre_train_y = preprocessing.label_binarize(train_y_HRisk, classes=[0, 1, 2])\n",
    "pre_test_y = preprocessing.label_binarize(test_y_HRisk, classes=[0, 1, 2])"
   ]
  },
  {
   "cell_type": "markdown",
   "metadata": {},
   "source": [
    "I have to modify my pipeline dictionary from Exercice 1 with the new ``OneVsRestClassifier()`` encoder."
   ]
  },
  {
   "cell_type": "code",
   "execution_count": 118,
   "metadata": {
    "ExecuteTime": {
     "end_time": "2021-04-30T16:21:32.456359Z",
     "start_time": "2021-04-30T16:21:32.446358Z"
    }
   },
   "outputs": [],
   "source": [
    "# Pipeline dictionary\n",
    "pipelines_Ex3 = {\n",
    "    'MLP': make_pipeline(RobustScaler(), OneVsRestClassifier(MLPClassifier(max_iter=500,random_state=1997,\n",
    "                                                                       early_stopping=True,n_iter_no_change=5))),\n",
    "    'RF': make_pipeline(RobustScaler(),OneVsRestClassifier(RandomForestClassifier(random_state=1997))),\n",
    "    'GB': make_pipeline(RobustScaler(),OneVsRestClassifier(GradientBoostingClassifier(random_state=1997))),\n",
    "    'SVM': make_pipeline(RobustScaler(), OneVsRestClassifier(SVC(random_state=1997,probability=True))),\n",
    "    'Tree': make_pipeline(RobustScaler(), OneVsRestClassifier(DecisionTreeClassifier(random_state=1997)))\n",
    "}"
   ]
  },
  {
   "cell_type": "markdown",
   "metadata": {},
   "source": [
    "The hyperparameteres must be modified as well with ``onevsrestclassifier__estimator__``"
   ]
  },
  {
   "cell_type": "code",
   "execution_count": 119,
   "metadata": {
    "ExecuteTime": {
     "end_time": "2021-04-30T16:21:32.627245Z",
     "start_time": "2021-04-30T16:21:32.606217Z"
    }
   },
   "outputs": [],
   "source": [
    "# MLP hyperparameters\n",
    "MLP_hyperparameters = {\n",
    "    'onevsrestclassifier__estimator__activation': ['relu','tanh',\"logistic\"],\n",
    "    'onevsrestclassifier__estimator__solver':['adam',\"lbfgs\"],\n",
    "    'onevsrestclassifier__estimator__hidden_layer_sizes': [(200,200,200,200,200,200),(150,150,150,150,150),(120,120,120,120,120)],\n",
    "    'onevsrestclassifier__estimator__alpha': [0.0001,0.001]\n",
    "}\n",
    "\n",
    "# Random Forest hyperparameters\n",
    "rf_hyperparameters = {\n",
    "    'onevsrestclassifier__estimator__n_estimators': [50,100,200,250],\n",
    "    'onevsrestclassifier__estimator__max_features': ['auto'],\n",
    "    'onevsrestclassifier__estimator__max_depth':[1,5,10],\n",
    "    'onevsrestclassifier__estimator__min_samples_leaf': [4,5,10],\n",
    "    'onevsrestclassifier__estimator__min_samples_split': [10,15,20],\n",
    "    'onevsrestclassifier__estimator__bootstrap': [True, False]\n",
    "}\n",
    "\n",
    "# Boosted Tree hyperparameters\n",
    "gb_hyperparameters = {\n",
    "    'onevsrestclassifier__estimator__n_estimators': [1,2,50,100,200],\n",
    "    'onevsrestclassifier__estimator__learning_rate': [0.05,0.1,0.2],\n",
    "    'onevsrestclassifier__estimator__max_depth':[1.,3,5,20.,30.],\n",
    "    'onevsrestclassifier__estimator__min_samples_split':[0.1,0.5,1.],\n",
    "    'onevsrestclassifier__estimator__min_samples_leaf':[0.1,0.5],\n",
    "    'onevsrestclassifier__estimator__max_features':[1,10,40,100]\n",
    "}\n",
    "\n",
    "# SVM hyperparameters\n",
    "svm_hyperparameters = {'onevsrestclassifier__estimator__C': [0.1, 1, 10], \n",
    "          'onevsrestclassifier__estimator__gamma': [1, 0.1, 0.01,\"auto\"],\n",
    "          'onevsrestclassifier__estimator__kernel': ['rbf']}\n",
    "\n",
    "# Decision tree hyperparameters\n",
    "tree_hyperparameters = {'onevsrestclassifier__estimator__min_samples_leaf':[5,10,15,20],\n",
    "                        'onevsrestclassifier__estimator__max_features':[5,10,15],\n",
    "                        'onevsrestclassifier__estimator__criterion': ['gini', 'entropy'],\n",
    "                        'onevsrestclassifier__estimator__max_depth':[2,4,6,8,10,12]}\n",
    "\n",
    "# Create hyperparameters dictionary\n",
    "hyperparametersEx3 = {'MLP': MLP_hyperparameters,\n",
    "                  'RF': rf_hyperparameters,\n",
    "                  'GB': gb_hyperparameters,\n",
    "                  'SVM':svm_hyperparameters,\n",
    "                  'Tree':tree_hyperparameters}"
   ]
  },
  {
   "cell_type": "code",
   "execution_count": 207,
   "metadata": {
    "ExecuteTime": {
     "end_time": "2021-04-30T17:09:08.623236Z",
     "start_time": "2021-04-30T17:05:25.657720Z"
    }
   },
   "outputs": [
    {
     "name": "stdout",
     "output_type": "stream",
     "text": [
      "\n",
      "MLP has been fitted\n",
      "\tBest model param: {'onevsrestclassifier__estimator__activation': 'tanh', 'onevsrestclassifier__estimator__alpha': 0.0001, 'onevsrestclassifier__estimator__hidden_layer_sizes': (200, 200, 200, 200, 200, 200), 'onevsrestclassifier__estimator__solver': 'adam'}\n",
      "\n",
      "RF has been fitted\n",
      "\tBest model param: {'onevsrestclassifier__estimator__bootstrap': True, 'onevsrestclassifier__estimator__max_depth': 5, 'onevsrestclassifier__estimator__max_features': 'auto', 'onevsrestclassifier__estimator__min_samples_leaf': 5, 'onevsrestclassifier__estimator__min_samples_split': 10, 'onevsrestclassifier__estimator__n_estimators': 50}\n",
      "\n",
      "GB has been fitted\n",
      "\tBest model param: {'onevsrestclassifier__estimator__learning_rate': 0.05, 'onevsrestclassifier__estimator__max_depth': 1.0, 'onevsrestclassifier__estimator__max_features': 10, 'onevsrestclassifier__estimator__min_samples_leaf': 0.1, 'onevsrestclassifier__estimator__min_samples_split': 0.1, 'onevsrestclassifier__estimator__n_estimators': 100}\n",
      "\n",
      "SVM has been fitted\n",
      "\tBest model param: {'onevsrestclassifier__estimator__C': 0.1, 'onevsrestclassifier__estimator__gamma': 0.1, 'onevsrestclassifier__estimator__kernel': 'rbf'}\n",
      "\n",
      "Tree has been fitted\n",
      "\tBest model param: {'onevsrestclassifier__estimator__criterion': 'gini', 'onevsrestclassifier__estimator__max_depth': 4, 'onevsrestclassifier__estimator__max_features': 10, 'onevsrestclassifier__estimator__min_samples_leaf': 10}\n",
      "\n",
      "Time:3.7158084869384767\n"
     ]
    }
   ],
   "source": [
    "# Fitting funtion. This lasts ~4 minutes!!\n",
    "fitted_models_Ex3 = fit(pipelines_Ex3,hyperparametersEx3,train_X,pre_train_y)"
   ]
  },
  {
   "cell_type": "code",
   "execution_count": 121,
   "metadata": {
    "ExecuteTime": {
     "end_time": "2021-04-30T16:25:33.209251Z",
     "start_time": "2021-04-30T16:25:33.195216Z"
    },
    "scrolled": true
   },
   "outputs": [
    {
     "name": "stdout",
     "output_type": "stream",
     "text": [
      "MLP Score:  0.8035188513583428\n",
      "RF Score:  0.8257292051483596\n",
      "GB Score:  0.818664319292703\n",
      "SVM Score:  0.8124263263016326\n",
      "Tree Score:  0.7750155051807437\n"
     ]
    }
   ],
   "source": [
    "# Display best_score_ for each fitted model\n",
    "for name,model in fitted_models_Ex3.items():\n",
    "    print(name, \"Score: \", model.best_score_)"
   ]
  },
  {
   "cell_type": "markdown",
   "metadata": {},
   "source": [
    "In order to **plot the ROC Curves of a multi-labeled model** I need to modify some code of the original-given function."
   ]
  },
  {
   "cell_type": "code",
   "execution_count": 122,
   "metadata": {
    "ExecuteTime": {
     "end_time": "2021-04-30T16:25:33.225252Z",
     "start_time": "2021-04-30T16:25:33.211219Z"
    }
   },
   "outputs": [],
   "source": [
    "from sklearn.metrics import accuracy_score\n",
    "from itertools import cycle"
   ]
  },
  {
   "cell_type": "code",
   "execution_count": 123,
   "metadata": {
    "ExecuteTime": {
     "end_time": "2021-04-30T16:25:33.241252Z",
     "start_time": "2021-04-30T16:25:33.227252Z"
    },
    "scrolled": false
   },
   "outputs": [],
   "source": [
    "def plot_multi_class_ROC_Curve(fitted_models):    \n",
    "    # print test scores\n",
    "    n_classes = pre_test_y.shape[1]\n",
    "    for name, model in fitted_models.items():\n",
    "        print(name)\n",
    "        predALL_y = model.predict_proba(test_X)\n",
    "        # Compute ROC curve and ROC area for each class\n",
    "        fpr = dict()\n",
    "        tpr = dict()\n",
    "        roc_auc = dict()\n",
    "        for i in range(n_classes):\n",
    "            fpr[i], tpr[i], _ = roc_curve(pre_test_y[:, i], predALL_y[:, i])\n",
    "            roc_auc[i] = auc(fpr[i], tpr[i])\n",
    "\n",
    "        # Compute micro-average ROC curve and ROC area\n",
    "        fpr[\"micro\"], tpr[\"micro\"], _ = roc_curve(pre_test_y.ravel(), predALL_y.ravel())\n",
    "        roc_auc[\"micro\"] = auc(fpr[\"micro\"], tpr[\"micro\"])\n",
    "\n",
    "        lw = 3\n",
    "        # First aggregate all false positive rates\n",
    "        all_fpr = np.unique(np.concatenate([fpr[i] for i in range(n_classes)]))\n",
    "\n",
    "        # Then interpolate all ROC curves at this points\n",
    "        mean_tpr = np.zeros_like(all_fpr)\n",
    "        for i in range(n_classes):\n",
    "            mean_tpr += np.interp(all_fpr, fpr[i], tpr[i])\n",
    "\n",
    "        # Finally average it and compute AUC\n",
    "        mean_tpr /= n_classes\n",
    "\n",
    "        fpr[\"macro\"] = all_fpr\n",
    "        tpr[\"macro\"] = mean_tpr\n",
    "        roc_auc[\"macro\"] = auc(fpr[\"macro\"], tpr[\"macro\"])\n",
    "\n",
    "        # Plot all ROC curves\n",
    "        plt.figure()\n",
    "        plt.plot(fpr[\"micro\"], tpr[\"micro\"],\n",
    "                 label='micro-average ROC curve (area = {0:0.2f})'\n",
    "                       ''.format(roc_auc[\"micro\"]),\n",
    "                 color='deeppink', linestyle=':', linewidth=4)\n",
    "\n",
    "        plt.plot(fpr[\"macro\"], tpr[\"macro\"],\n",
    "                 label='macro-average ROC curve (area = {0:0.2f})'\n",
    "                       ''.format(roc_auc[\"macro\"]),\n",
    "                 color='navy', linestyle=':', linewidth=4)\n",
    "\n",
    "        colors = cycle(['aqua', 'darkorange', 'cornflowerblue'])\n",
    "        for i, color in zip(range(n_classes), colors):\n",
    "            plt.plot(fpr[i], tpr[i], color=color, lw=lw,\n",
    "                     label='ROC curve of class {0} (area = {1:0.2f})'\n",
    "                     ''.format(i, roc_auc[i]))\n",
    "\n",
    "        plt.plot([0, 1], [0, 1], 'k--', lw=lw)\n",
    "        plt.xlim([0.0, 1.0])\n",
    "        plt.ylim([0.0, 1.05])\n",
    "        plt.xlabel('False Positive Rate')\n",
    "        plt.ylabel('True Positive Rate')\n",
    "        plt.title('Some extension of Receiver operating characteristic to multi-class')\n",
    "        plt.legend(loc=\"lower right\")\n",
    "        plt.show()"
   ]
  },
  {
   "cell_type": "code",
   "execution_count": 124,
   "metadata": {
    "ExecuteTime": {
     "end_time": "2021-04-30T16:25:34.148467Z",
     "start_time": "2021-04-30T16:25:33.242256Z"
    }
   },
   "outputs": [
    {
     "name": "stdout",
     "output_type": "stream",
     "text": [
      "MLP\n"
     ]
    },
    {
     "data": {
      "image/png": "[encoded data removed]",
      "text/plain": [
       "<Figure size 432x288 with 1 Axes>"
      ]
     },
     "metadata": {
      "needs_background": "light"
     },
     "output_type": "display_data"
    },
    {
     "name": "stdout",
     "output_type": "stream",
     "text": [
      "RF\n"
     ]
    },
    {
     "data": {
      "image/png": "[encoded data removed]",
      "text/plain": [
       "<Figure size 432x288 with 1 Axes>"
      ]
     },
     "metadata": {
      "needs_background": "light"
     },
     "output_type": "display_data"
    },
    {
     "name": "stdout",
     "output_type": "stream",
     "text": [
      "GB\n"
     ]
    },
    {
     "data": {
      "image/png": "[encoded data removed]",
      "text/plain": [
       "<Figure size 432x288 with 1 Axes>"
      ]
     },
     "metadata": {
      "needs_background": "light"
     },
     "output_type": "display_data"
    },
    {
     "name": "stdout",
     "output_type": "stream",
     "text": [
      "SVM\n"
     ]
    },
    {
     "data": {
      "image/png": "[encoded data removed]",
      "text/plain": [
       "<Figure size 432x288 with 1 Axes>"
      ]
     },
     "metadata": {
      "needs_background": "light"
     },
     "output_type": "display_data"
    },
    {
     "name": "stdout",
     "output_type": "stream",
     "text": [
      "Tree\n"
     ]
    },
    {
     "data": {
      "image/png": "[encoded data removed]",
      "text/plain": [
       "<Figure size 432x288 with 1 Axes>"
      ]
     },
     "metadata": {
      "needs_background": "light"
     },
     "output_type": "display_data"
    }
   ],
   "source": [
    "plot_multi_class_ROC_Curve(fitted_models_Ex3)"
   ]
  },
  {
   "cell_type": "markdown",
   "metadata": {},
   "source": [
    "This plot allows me to **see the performance of each model with each of the 3 classes separately** but also with an average of the micro and macro ROC Curves. As we can see, the best model in terms of accuracy is the Random Forest one!"
   ]
  },
  {
   "cell_type": "markdown",
   "metadata": {},
   "source": [
    "# SAVRY baseline model\n",
    "\n",
    "The SAVRY Score is a **Logistic Regression** problem!"
   ]
  },
  {
   "cell_type": "code",
   "execution_count": 190,
   "metadata": {
    "ExecuteTime": {
     "end_time": "2021-04-30T16:51:55.027459Z",
     "start_time": "2021-04-30T16:51:55.023414Z"
    }
   },
   "outputs": [],
   "source": [
    "train_y_SAVRY = train[\"V60_SAVRY_total_score\"]\n",
    "test_y_SAVRY = test[\"V60_SAVRY_total_score\"]"
   ]
  },
  {
   "cell_type": "code",
   "execution_count": 191,
   "metadata": {
    "ExecuteTime": {
     "end_time": "2021-04-30T16:51:55.229458Z",
     "start_time": "2021-04-30T16:51:55.223426Z"
    }
   },
   "outputs": [],
   "source": [
    "LGSavry = LogisticRegression(solver='liblinear')"
   ]
  },
  {
   "cell_type": "code",
   "execution_count": 192,
   "metadata": {
    "ExecuteTime": {
     "end_time": "2021-04-30T16:51:55.417495Z",
     "start_time": "2021-04-30T16:51:55.333424Z"
    }
   },
   "outputs": [
    {
     "data": {
      "text/plain": [
       "LogisticRegression(solver='liblinear')"
      ]
     },
     "execution_count": 192,
     "metadata": {},
     "output_type": "execute_result"
    }
   ],
   "source": [
    "#Fit the model using the training data\n",
    "LGSavry.fit(train_X,train_y_SAVRY)"
   ]
  },
  {
   "cell_type": "code",
   "execution_count": 185,
   "metadata": {
    "ExecuteTime": {
     "end_time": "2021-04-30T16:50:34.895715Z",
     "start_time": "2021-04-30T16:50:34.875750Z"
    }
   },
   "outputs": [
    {
     "data": {
      "text/plain": [
       "0.8837209302325582"
      ]
     },
     "execution_count": 185,
     "metadata": {},
     "output_type": "execute_result"
    }
   ],
   "source": [
    "LGSavry.score(test_X,test_y_SAVRY)"
   ]
  },
  {
   "cell_type": "markdown",
   "metadata": {},
   "source": [
    "We can see that we got an accuracy of 88% which is **in the line of the previous models**. What's interesting in this model is the feature importance that we are going to see below.\n",
    "\n",
    " _In Exercice 1 I've already applied ML explainability to the best model trained_"
   ]
  },
  {
   "cell_type": "markdown",
   "metadata": {},
   "source": [
    "### Questions\n",
    "\n",
    "1. Which are the top ten most important features of each model?\n",
    "\n",
    "### Human Risk Assessment"
   ]
  },
  {
   "cell_type": "code",
   "execution_count": 175,
   "metadata": {
    "ExecuteTime": {
     "end_time": "2021-04-30T16:45:24.035516Z",
     "start_time": "2021-04-30T16:45:24.006518Z"
    }
   },
   "outputs": [
    {
     "data": {
      "text/html": [
       "<div>\n",
       "<style scoped>\n",
       "    .dataframe tbody tr th:only-of-type {\n",
       "        vertical-align: middle;\n",
       "    }\n",
       "\n",
       "    .dataframe tbody tr th {\n",
       "        vertical-align: top;\n",
       "    }\n",
       "\n",
       "    .dataframe thead th {\n",
       "        text-align: right;\n",
       "    }\n",
       "</style>\n",
       "<table border=\"1\" class=\"dataframe\">\n",
       "  <thead>\n",
       "    <tr style=\"text-align: right;\">\n",
       "      <th></th>\n",
       "      <th>Importance</th>\n",
       "    </tr>\n",
       "  </thead>\n",
       "  <tbody>\n",
       "    <tr>\n",
       "      <th>V81_@17_actitud_negatives_Baix</th>\n",
       "      <td>0.668935</td>\n",
       "    </tr>\n",
       "    <tr>\n",
       "      <th>V75_@11_delinquencia_grup_iguals_Alt</th>\n",
       "      <td>0.417638</td>\n",
       "    </tr>\n",
       "    <tr>\n",
       "      <th>V75_@11_delinquencia_grup_iguals_Baix</th>\n",
       "      <td>0.404949</td>\n",
       "    </tr>\n",
       "    <tr>\n",
       "      <th>V84_@20_problemes_maneig_enuig_Alt</th>\n",
       "      <td>0.334322</td>\n",
       "    </tr>\n",
       "    <tr>\n",
       "      <th>V87_@23_baixa_colaboracio_intervencions_Baix</th>\n",
       "      <td>0.289612</td>\n",
       "    </tr>\n",
       "    <tr>\n",
       "      <th>V81_@17_actitud_negatives_Alt</th>\n",
       "      <td>0.284866</td>\n",
       "    </tr>\n",
       "    <tr>\n",
       "      <th>V85_@21_baix_nivell_empatia_remordiment_Baix</th>\n",
       "      <td>0.279925</td>\n",
       "    </tr>\n",
       "    <tr>\n",
       "      <th>V82_@18_assumpcio_riscos_impulsivitat_Alt</th>\n",
       "      <td>0.272497</td>\n",
       "    </tr>\n",
       "    <tr>\n",
       "      <th>V81_@17_actitud_negatives_Moderat</th>\n",
       "      <td>0.267366</td>\n",
       "    </tr>\n",
       "    <tr>\n",
       "      <th>V20_nombre_antecedents</th>\n",
       "      <td>0.233675</td>\n",
       "    </tr>\n",
       "  </tbody>\n",
       "</table>\n",
       "</div>"
      ],
      "text/plain": [
       "                                              Importance\n",
       "V81_@17_actitud_negatives_Baix                  0.668935\n",
       "V75_@11_delinquencia_grup_iguals_Alt            0.417638\n",
       "V75_@11_delinquencia_grup_iguals_Baix           0.404949\n",
       "V84_@20_problemes_maneig_enuig_Alt              0.334322\n",
       "V87_@23_baixa_colaboracio_intervencions_Baix    0.289612\n",
       "V81_@17_actitud_negatives_Alt                   0.284866\n",
       "V85_@21_baix_nivell_empatia_remordiment_Baix    0.279925\n",
       "V82_@18_assumpcio_riscos_impulsivitat_Alt       0.272497\n",
       "V81_@17_actitud_negatives_Moderat               0.267366\n",
       "V20_nombre_antecedents                          0.233675"
      ]
     },
     "execution_count": 175,
     "metadata": {},
     "output_type": "execute_result"
    }
   ],
   "source": [
    "feat_impts = [] \n",
    "for i in RFEx3['onevsrestclassifier'].estimators_:\n",
    "    feat_impts.append(i.feature_importances_)\n",
    "\n",
    "mean = np.mean(feat_impts, axis=0)\n",
    "pd.DataFrame(mean*10,index=test_X.columns,columns=[\"Importance\"]).sort_values(\"Importance\",ascending=False)[:10]"
   ]
  },
  {
   "cell_type": "markdown",
   "metadata": {},
   "source": [
    "As we can see below, the most important feature of the RF model for the human risk assessment category is **if the individual had a lower number of negative attitudes**. In second and third place, the type of delinquency in the peer group. \n",
    "\n",
    "Note that the number of \"records\" (antecedents) is in 10th place. In the first RF model of Exercice 1, **it was in first place**.\n",
    "\n",
    "### SAVRY Scores\n",
    "\n",
    "With Logistic Regression we have to look at the **coefficients**, thanks to the ``.coef_()`` method. "
   ]
  },
  {
   "cell_type": "code",
   "execution_count": 203,
   "metadata": {
    "ExecuteTime": {
     "end_time": "2021-04-30T16:54:13.263938Z",
     "start_time": "2021-04-30T16:54:13.253938Z"
    }
   },
   "outputs": [
    {
     "data": {
      "text/html": [
       "<div>\n",
       "<style scoped>\n",
       "    .dataframe tbody tr th:only-of-type {\n",
       "        vertical-align: middle;\n",
       "    }\n",
       "\n",
       "    .dataframe tbody tr th {\n",
       "        vertical-align: top;\n",
       "    }\n",
       "\n",
       "    .dataframe thead th {\n",
       "        text-align: right;\n",
       "    }\n",
       "</style>\n",
       "<table border=\"1\" class=\"dataframe\">\n",
       "  <thead>\n",
       "    <tr style=\"text-align: right;\">\n",
       "      <th></th>\n",
       "      <th>Importance</th>\n",
       "    </tr>\n",
       "  </thead>\n",
       "  <tbody>\n",
       "    <tr>\n",
       "      <th>V67_@3_inici_precoç_violencia_Baix</th>\n",
       "      <td>0.463913</td>\n",
       "    </tr>\n",
       "    <tr>\n",
       "      <th>V15_fet_agrupat_Contra les persones</th>\n",
       "      <td>0.281962</td>\n",
       "    </tr>\n",
       "    <tr>\n",
       "      <th>V72_@8_delinquencia_pares_Baix</th>\n",
       "      <td>0.134791</td>\n",
       "    </tr>\n",
       "    <tr>\n",
       "      <th>V78_@14_escassa_habilitat_pares_educar_Moderat</th>\n",
       "      <td>0.078180</td>\n",
       "    </tr>\n",
       "    <tr>\n",
       "      <th>V65_@1_violencia_previa_Alt</th>\n",
       "      <td>0.052470</td>\n",
       "    </tr>\n",
       "    <tr>\n",
       "      <th>V83_@19_problemes_consum_toxics_Moderat</th>\n",
       "      <td>0.032564</td>\n",
       "    </tr>\n",
       "    <tr>\n",
       "      <th>V87_@23_baixa_colaboracio_intervencions_Alt</th>\n",
       "      <td>-0.022292</td>\n",
       "    </tr>\n",
       "    <tr>\n",
       "      <th>V82_@18_assumpcio_riscos_impulsivitat_Moderat</th>\n",
       "      <td>-0.079641</td>\n",
       "    </tr>\n",
       "    <tr>\n",
       "      <th>V85_@21_baix_nivell_empatia_remordiment_Baix</th>\n",
       "      <td>-0.115688</td>\n",
       "    </tr>\n",
       "    <tr>\n",
       "      <th>V73_@9_separacio_precoç_pares_Alt</th>\n",
       "      <td>-0.123124</td>\n",
       "    </tr>\n",
       "  </tbody>\n",
       "</table>\n",
       "</div>"
      ],
      "text/plain": [
       "                                                Importance\n",
       "V67_@3_inici_precoç_violencia_Baix                0.463913\n",
       "V15_fet_agrupat_Contra les persones               0.281962\n",
       "V72_@8_delinquencia_pares_Baix                    0.134791\n",
       "V78_@14_escassa_habilitat_pares_educar_Moderat    0.078180\n",
       "V65_@1_violencia_previa_Alt                       0.052470\n",
       "V83_@19_problemes_consum_toxics_Moderat           0.032564\n",
       "V87_@23_baixa_colaboracio_intervencions_Alt      -0.022292\n",
       "V82_@18_assumpcio_riscos_impulsivitat_Moderat    -0.079641\n",
       "V85_@21_baix_nivell_empatia_remordiment_Baix     -0.115688\n",
       "V73_@9_separacio_precoç_pares_Alt                -0.123124"
      ]
     },
     "execution_count": 203,
     "metadata": {},
     "output_type": "execute_result"
    }
   ],
   "source": [
    "mean = np.mean(LGSavry.coef_, axis=0)\n",
    "pd.DataFrame(mean*10,index=test_X.columns,columns=[\"Importance\"]).sort_values(\"Importance\",ascending=False)[:10]"
   ]
  },
  {
   "cell_type": "markdown",
   "metadata": {},
   "source": [
    "We can see below a whole new order than the previous model. I find it interesting that in first place we have the **early initiation of violence** in grade low, which in my opinion is a critical feature that I've not seen in the top-10 most importance features of previous models."
   ]
  },
  {
   "cell_type": "markdown",
   "metadata": {},
   "source": [
    "2. Look at the features thar are important for the best ML model after the application of the equalized base rates (EBR) mitigation stratgey. Is there any difference?\n",
    "\n",
    "> Let me gather again the RF model from Exercice 2 with EBR applied on it. "
   ]
  },
  {
   "cell_type": "code",
   "execution_count": 205,
   "metadata": {
    "ExecuteTime": {
     "end_time": "2021-04-30T16:57:21.933990Z",
     "start_time": "2021-04-30T16:57:21.919025Z"
    }
   },
   "outputs": [
    {
     "name": "stdout",
     "output_type": "stream",
     "text": [
      "(0.06507047546896488, 'V1_sexe_Home')\n",
      "(0.0621491511988939, 'V1_sexe_Dona')\n",
      "(0.046007748109057445, 'V8_edat_fet')\n",
      "(0.03386891238584831, 'V20_nombre_antecedents')\n",
      "(0.030220219433157714, 'V89_@P1_impicacio_prosocial_Absent')\n",
      "(0.027298167867335715, 'V79_@15_manca_suport_personal_social_Alt')\n",
      "(0.02481652261399749, 'V80_@16_entorn_marginal_Baix')\n",
      "(0.02053105598359567, 'V89_@P1_impicacio_prosocial_Present')\n",
      "(0.015636402757076145, 'V80_@16_entorn_marginal_Moderat')\n",
      "(0.014937967523884516, 'V81_@17_actitud_negatives_Baix')\n"
     ]
    }
   ],
   "source": [
    "RFImportance=list(zip(fitted_models_Ex2['RF'].best_estimator_.named_steps['randomforestclassifier'].feature_importances_,train_X))\n",
    "RFImportance.sort(reverse=True)\n",
    "for i in range(10):\n",
    "    print(RFImportance[i])"
   ]
  },
  {
   "cell_type": "markdown",
   "metadata": {},
   "source": [
    "Surprisingly, we see that the **Gender feature is the most important one!**\n",
    "\n",
    "On third place we have how old is the offender in the moment of the commission of the crime, which is a critical feature that again I've not seen on other models. Instead, the **community disorganization level is present in both** EBR RF model and the \"virgin\" RF model.\n",
    "\n",
    "In conclusion, each model has it's own feature importance and this is due to a long list of causes: the type of the ML algorithm, the amount of samples (we have seen it in the EBR RF model)... After this exercises I still think that recividism probabilty should not be computed only with ML models but with human experts **plus the help of ML**."
   ]
  },
  {
   "cell_type": "code",
   "execution_count": null,
   "metadata": {},
   "outputs": [],
   "source": []
  }
 ],
 "metadata": {
  "kernelspec": {
   "display_name": "Python 3",
   "language": "python",
   "name": "python3"
  },
  "language_info": {
   "codemirror_mode": {
    "name": "ipython",
    "version": 3
   },
   "file_extension": ".py",
   "mimetype": "text/x-python",
   "name": "python",
   "nbconvert_exporter": "python",
   "pygments_lexer": "ipython3",
   "version": "3.8.3"
  },
  "nteract": {
   "version": "0.28.0"
  }
 },
 "nbformat": 4,
 "nbformat_minor": 4
}
