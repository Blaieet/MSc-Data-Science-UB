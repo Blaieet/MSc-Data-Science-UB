{
 "cells": [
  {
   "cell_type": "code",
   "execution_count": 1,
   "metadata": {},
   "outputs": [
    {
     "ename": "FileNotFoundError",
     "evalue": "[Errno 2] No such file or directory: '/Users/giuliocaggiano/Downloads/pandas-notebook/ml-1m/users.dat'",
     "output_type": "error",
     "traceback": [
      "\u001b[1;31m---------------------------------------------------------------------------\u001b[0m",
      "\u001b[1;31mFileNotFoundError\u001b[0m                         Traceback (most recent call last)",
      "\u001b[1;32m<ipython-input-1-99614c1592d6>\u001b[0m in \u001b[0;36m<module>\u001b[1;34m\u001b[0m\n\u001b[0;32m      2\u001b[0m \u001b[1;32mimport\u001b[0m \u001b[0mnumpy\u001b[0m \u001b[1;32mas\u001b[0m \u001b[0mnp\u001b[0m\u001b[1;33m\u001b[0m\u001b[1;33m\u001b[0m\u001b[0m\n\u001b[0;32m      3\u001b[0m \u001b[0munames\u001b[0m \u001b[1;33m=\u001b[0m \u001b[1;33m[\u001b[0m\u001b[1;34m'user_id'\u001b[0m\u001b[1;33m,\u001b[0m \u001b[1;34m'gender'\u001b[0m\u001b[1;33m,\u001b[0m \u001b[1;34m'age'\u001b[0m\u001b[1;33m,\u001b[0m \u001b[1;34m'occupation'\u001b[0m\u001b[1;33m,\u001b[0m \u001b[1;34m'zip'\u001b[0m\u001b[1;33m]\u001b[0m\u001b[1;33m\u001b[0m\u001b[1;33m\u001b[0m\u001b[0m\n\u001b[1;32m----> 4\u001b[1;33m \u001b[0musers\u001b[0m \u001b[1;33m=\u001b[0m \u001b[0mpd\u001b[0m\u001b[1;33m.\u001b[0m\u001b[0mread_csv\u001b[0m\u001b[1;33m(\u001b[0m\u001b[1;34m'/Users/giuliocaggiano/Downloads/pandas-notebook/ml-1m/users.dat'\u001b[0m\u001b[1;33m,\u001b[0m \u001b[0msep\u001b[0m\u001b[1;33m=\u001b[0m\u001b[1;34m'::'\u001b[0m\u001b[1;33m,\u001b[0m \u001b[0mheader\u001b[0m\u001b[1;33m=\u001b[0m\u001b[1;32mNone\u001b[0m\u001b[1;33m,\u001b[0m \u001b[0mnames\u001b[0m\u001b[1;33m=\u001b[0m\u001b[0munames\u001b[0m\u001b[1;33m,\u001b[0m \u001b[0mengine\u001b[0m\u001b[1;33m=\u001b[0m\u001b[1;34m'python'\u001b[0m\u001b[1;33m)\u001b[0m\u001b[1;33m\u001b[0m\u001b[1;33m\u001b[0m\u001b[0m\n\u001b[0m\u001b[0;32m      5\u001b[0m \u001b[0mrnames\u001b[0m \u001b[1;33m=\u001b[0m \u001b[1;33m[\u001b[0m\u001b[1;34m'user_id'\u001b[0m\u001b[1;33m,\u001b[0m \u001b[1;34m'movie_id'\u001b[0m\u001b[1;33m,\u001b[0m \u001b[1;34m'rating'\u001b[0m\u001b[1;33m,\u001b[0m \u001b[1;34m'timestamp'\u001b[0m\u001b[1;33m]\u001b[0m\u001b[1;33m\u001b[0m\u001b[1;33m\u001b[0m\u001b[0m\n\u001b[0;32m      6\u001b[0m \u001b[0mratings\u001b[0m \u001b[1;33m=\u001b[0m \u001b[0mpd\u001b[0m\u001b[1;33m.\u001b[0m\u001b[0mread_csv\u001b[0m\u001b[1;33m(\u001b[0m\u001b[1;34m'/Users/giuliocaggiano/Downloads/pandas-notebook/ml-1m/ratings.dat'\u001b[0m\u001b[1;33m,\u001b[0m \u001b[0msep\u001b[0m\u001b[1;33m=\u001b[0m\u001b[1;34m'::'\u001b[0m\u001b[1;33m,\u001b[0m \u001b[0mheader\u001b[0m\u001b[1;33m=\u001b[0m\u001b[1;32mNone\u001b[0m\u001b[1;33m,\u001b[0m \u001b[0mnames\u001b[0m\u001b[1;33m=\u001b[0m\u001b[0mrnames\u001b[0m\u001b[1;33m,\u001b[0m  \u001b[0mengine\u001b[0m\u001b[1;33m=\u001b[0m\u001b[1;34m'python'\u001b[0m\u001b[1;33m)\u001b[0m\u001b[1;33m\u001b[0m\u001b[1;33m\u001b[0m\u001b[0m\n",
      "\u001b[1;32m~\\anaconda3\\lib\\site-packages\\pandas\\io\\parsers.py\u001b[0m in \u001b[0;36mparser_f\u001b[1;34m(filepath_or_buffer, sep, delimiter, header, names, index_col, usecols, squeeze, prefix, mangle_dupe_cols, dtype, engine, converters, true_values, false_values, skipinitialspace, skiprows, skipfooter, nrows, na_values, keep_default_na, na_filter, verbose, skip_blank_lines, parse_dates, infer_datetime_format, keep_date_col, date_parser, dayfirst, cache_dates, iterator, chunksize, compression, thousands, decimal, lineterminator, quotechar, quoting, doublequote, escapechar, comment, encoding, dialect, error_bad_lines, warn_bad_lines, delim_whitespace, low_memory, memory_map, float_precision)\u001b[0m\n\u001b[0;32m    674\u001b[0m         )\n\u001b[0;32m    675\u001b[0m \u001b[1;33m\u001b[0m\u001b[0m\n\u001b[1;32m--> 676\u001b[1;33m         \u001b[1;32mreturn\u001b[0m \u001b[0m_read\u001b[0m\u001b[1;33m(\u001b[0m\u001b[0mfilepath_or_buffer\u001b[0m\u001b[1;33m,\u001b[0m \u001b[0mkwds\u001b[0m\u001b[1;33m)\u001b[0m\u001b[1;33m\u001b[0m\u001b[1;33m\u001b[0m\u001b[0m\n\u001b[0m\u001b[0;32m    677\u001b[0m \u001b[1;33m\u001b[0m\u001b[0m\n\u001b[0;32m    678\u001b[0m     \u001b[0mparser_f\u001b[0m\u001b[1;33m.\u001b[0m\u001b[0m__name__\u001b[0m \u001b[1;33m=\u001b[0m \u001b[0mname\u001b[0m\u001b[1;33m\u001b[0m\u001b[1;33m\u001b[0m\u001b[0m\n",
      "\u001b[1;32m~\\anaconda3\\lib\\site-packages\\pandas\\io\\parsers.py\u001b[0m in \u001b[0;36m_read\u001b[1;34m(filepath_or_buffer, kwds)\u001b[0m\n\u001b[0;32m    446\u001b[0m \u001b[1;33m\u001b[0m\u001b[0m\n\u001b[0;32m    447\u001b[0m     \u001b[1;31m# Create the parser.\u001b[0m\u001b[1;33m\u001b[0m\u001b[1;33m\u001b[0m\u001b[1;33m\u001b[0m\u001b[0m\n\u001b[1;32m--> 448\u001b[1;33m     \u001b[0mparser\u001b[0m \u001b[1;33m=\u001b[0m \u001b[0mTextFileReader\u001b[0m\u001b[1;33m(\u001b[0m\u001b[0mfp_or_buf\u001b[0m\u001b[1;33m,\u001b[0m \u001b[1;33m**\u001b[0m\u001b[0mkwds\u001b[0m\u001b[1;33m)\u001b[0m\u001b[1;33m\u001b[0m\u001b[1;33m\u001b[0m\u001b[0m\n\u001b[0m\u001b[0;32m    449\u001b[0m \u001b[1;33m\u001b[0m\u001b[0m\n\u001b[0;32m    450\u001b[0m     \u001b[1;32mif\u001b[0m \u001b[0mchunksize\u001b[0m \u001b[1;32mor\u001b[0m \u001b[0miterator\u001b[0m\u001b[1;33m:\u001b[0m\u001b[1;33m\u001b[0m\u001b[1;33m\u001b[0m\u001b[0m\n",
      "\u001b[1;32m~\\anaconda3\\lib\\site-packages\\pandas\\io\\parsers.py\u001b[0m in \u001b[0;36m__init__\u001b[1;34m(self, f, engine, **kwds)\u001b[0m\n\u001b[0;32m    878\u001b[0m             \u001b[0mself\u001b[0m\u001b[1;33m.\u001b[0m\u001b[0moptions\u001b[0m\u001b[1;33m[\u001b[0m\u001b[1;34m\"has_index_names\"\u001b[0m\u001b[1;33m]\u001b[0m \u001b[1;33m=\u001b[0m \u001b[0mkwds\u001b[0m\u001b[1;33m[\u001b[0m\u001b[1;34m\"has_index_names\"\u001b[0m\u001b[1;33m]\u001b[0m\u001b[1;33m\u001b[0m\u001b[1;33m\u001b[0m\u001b[0m\n\u001b[0;32m    879\u001b[0m \u001b[1;33m\u001b[0m\u001b[0m\n\u001b[1;32m--> 880\u001b[1;33m         \u001b[0mself\u001b[0m\u001b[1;33m.\u001b[0m\u001b[0m_make_engine\u001b[0m\u001b[1;33m(\u001b[0m\u001b[0mself\u001b[0m\u001b[1;33m.\u001b[0m\u001b[0mengine\u001b[0m\u001b[1;33m)\u001b[0m\u001b[1;33m\u001b[0m\u001b[1;33m\u001b[0m\u001b[0m\n\u001b[0m\u001b[0;32m    881\u001b[0m \u001b[1;33m\u001b[0m\u001b[0m\n\u001b[0;32m    882\u001b[0m     \u001b[1;32mdef\u001b[0m \u001b[0mclose\u001b[0m\u001b[1;33m(\u001b[0m\u001b[0mself\u001b[0m\u001b[1;33m)\u001b[0m\u001b[1;33m:\u001b[0m\u001b[1;33m\u001b[0m\u001b[1;33m\u001b[0m\u001b[0m\n",
      "\u001b[1;32m~\\anaconda3\\lib\\site-packages\\pandas\\io\\parsers.py\u001b[0m in \u001b[0;36m_make_engine\u001b[1;34m(self, engine)\u001b[0m\n\u001b[0;32m   1124\u001b[0m                     \u001b[1;34m'\"python-fwf\")'\u001b[0m\u001b[1;33m\u001b[0m\u001b[1;33m\u001b[0m\u001b[0m\n\u001b[0;32m   1125\u001b[0m                 )\n\u001b[1;32m-> 1126\u001b[1;33m             \u001b[0mself\u001b[0m\u001b[1;33m.\u001b[0m\u001b[0m_engine\u001b[0m \u001b[1;33m=\u001b[0m \u001b[0mklass\u001b[0m\u001b[1;33m(\u001b[0m\u001b[0mself\u001b[0m\u001b[1;33m.\u001b[0m\u001b[0mf\u001b[0m\u001b[1;33m,\u001b[0m \u001b[1;33m**\u001b[0m\u001b[0mself\u001b[0m\u001b[1;33m.\u001b[0m\u001b[0moptions\u001b[0m\u001b[1;33m)\u001b[0m\u001b[1;33m\u001b[0m\u001b[1;33m\u001b[0m\u001b[0m\n\u001b[0m\u001b[0;32m   1127\u001b[0m \u001b[1;33m\u001b[0m\u001b[0m\n\u001b[0;32m   1128\u001b[0m     \u001b[1;32mdef\u001b[0m \u001b[0m_failover_to_python\u001b[0m\u001b[1;33m(\u001b[0m\u001b[0mself\u001b[0m\u001b[1;33m)\u001b[0m\u001b[1;33m:\u001b[0m\u001b[1;33m\u001b[0m\u001b[1;33m\u001b[0m\u001b[0m\n",
      "\u001b[1;32m~\\anaconda3\\lib\\site-packages\\pandas\\io\\parsers.py\u001b[0m in \u001b[0;36m__init__\u001b[1;34m(self, f, **kwds)\u001b[0m\n\u001b[0;32m   2262\u001b[0m         \u001b[0mself\u001b[0m\u001b[1;33m.\u001b[0m\u001b[0m_comment_lines\u001b[0m \u001b[1;33m=\u001b[0m \u001b[1;33m[\u001b[0m\u001b[1;33m]\u001b[0m\u001b[1;33m\u001b[0m\u001b[1;33m\u001b[0m\u001b[0m\n\u001b[0;32m   2263\u001b[0m \u001b[1;33m\u001b[0m\u001b[0m\n\u001b[1;32m-> 2264\u001b[1;33m         f, handles = get_handle(\n\u001b[0m\u001b[0;32m   2265\u001b[0m             \u001b[0mf\u001b[0m\u001b[1;33m,\u001b[0m\u001b[1;33m\u001b[0m\u001b[1;33m\u001b[0m\u001b[0m\n\u001b[0;32m   2266\u001b[0m             \u001b[1;34m\"r\"\u001b[0m\u001b[1;33m,\u001b[0m\u001b[1;33m\u001b[0m\u001b[1;33m\u001b[0m\u001b[0m\n",
      "\u001b[1;32m~\\anaconda3\\lib\\site-packages\\pandas\\io\\common.py\u001b[0m in \u001b[0;36mget_handle\u001b[1;34m(path_or_buf, mode, encoding, compression, memory_map, is_text)\u001b[0m\n\u001b[0;32m    429\u001b[0m         \u001b[1;32melif\u001b[0m \u001b[0mis_text\u001b[0m\u001b[1;33m:\u001b[0m\u001b[1;33m\u001b[0m\u001b[1;33m\u001b[0m\u001b[0m\n\u001b[0;32m    430\u001b[0m             \u001b[1;31m# No explicit encoding\u001b[0m\u001b[1;33m\u001b[0m\u001b[1;33m\u001b[0m\u001b[1;33m\u001b[0m\u001b[0m\n\u001b[1;32m--> 431\u001b[1;33m             \u001b[0mf\u001b[0m \u001b[1;33m=\u001b[0m \u001b[0mopen\u001b[0m\u001b[1;33m(\u001b[0m\u001b[0mpath_or_buf\u001b[0m\u001b[1;33m,\u001b[0m \u001b[0mmode\u001b[0m\u001b[1;33m,\u001b[0m \u001b[0merrors\u001b[0m\u001b[1;33m=\u001b[0m\u001b[1;34m\"replace\"\u001b[0m\u001b[1;33m,\u001b[0m \u001b[0mnewline\u001b[0m\u001b[1;33m=\u001b[0m\u001b[1;34m\"\"\u001b[0m\u001b[1;33m)\u001b[0m\u001b[1;33m\u001b[0m\u001b[1;33m\u001b[0m\u001b[0m\n\u001b[0m\u001b[0;32m    432\u001b[0m         \u001b[1;32melse\u001b[0m\u001b[1;33m:\u001b[0m\u001b[1;33m\u001b[0m\u001b[1;33m\u001b[0m\u001b[0m\n\u001b[0;32m    433\u001b[0m             \u001b[1;31m# Binary mode\u001b[0m\u001b[1;33m\u001b[0m\u001b[1;33m\u001b[0m\u001b[1;33m\u001b[0m\u001b[0m\n",
      "\u001b[1;31mFileNotFoundError\u001b[0m: [Errno 2] No such file or directory: '/Users/giuliocaggiano/Downloads/pandas-notebook/ml-1m/users.dat'"
     ]
    }
   ],
   "source": [
    "import pandas as pd\n",
    "import numpy as np\n",
    "unames = ['user_id', 'gender', 'age', 'occupation', 'zip']\n",
    "users = pd.read_csv('/Users/giuliocaggiano/Downloads/pandas-notebook/ml-1m/users.dat', sep='::', header=None, names=unames, engine='python')\n",
    "rnames = ['user_id', 'movie_id', 'rating', 'timestamp']\n",
    "ratings = pd.read_csv('/Users/giuliocaggiano/Downloads/pandas-notebook/ml-1m/ratings.dat', sep='::', header=None, names=rnames,  engine='python')\n",
    "mnames = ['movie_id', 'title', 'genres']\n",
    "movies = pd.read_csv('/Users/giuliocaggiano/Downloads/pandas-notebook/ml-1m/movies.dat', sep='::', header=None, names=mnames,  engine='python')\n",
    "data = pd.merge(pd.merge(ratings, users), movies)"
   ]
  },
  {
   "cell_type": "markdown",
   "metadata": {},
   "source": [
    "# Exercises: \n",
    "\n",
    "**MovieLens database**"
   ]
  },
  {
   "cell_type": "markdown",
   "metadata": {},
   "source": [
    "1- Filter  films that have received at least 250 ratings. **Use only these films in the rest of exercices**"
   ]
  },
  {
   "cell_type": "code",
   "execution_count": 2,
   "metadata": {},
   "outputs": [],
   "source": [
    "def ex1(data):\n",
    "    count = data.groupby(['title']).agg(['count'])\n",
    "    is_250 =  count[('user_id', 'count')]>=250\n",
    "    count_250 = pd.DataFrame(count[is_250])\n",
    "    result1 = pd.DataFrame(count_250[('user_id', 'count')])\n",
    "    result1 = pd.DataFrame(result1.sort_values(by=[('user_id', 'count')], ascending=False))\n",
    "    result_ex1 = result1.to_csv('1.csv', sep=',', header=None, index=True)\n",
    "    \n",
    "    return result_ex1\n",
    "\n",
    "ex1(data)"
   ]
  },
  {
   "cell_type": "markdown",
   "metadata": {},
   "source": [
    "2- Obtain the mean ratings for each movie grouped by gender that have at least 250 ratings. "
   ]
  },
  {
   "cell_type": "code",
   "execution_count": 3,
   "metadata": {},
   "outputs": [],
   "source": [
    "def ex2(data):\n",
    "    mean = data.groupby(['title','gender']).mean()\n",
    "    result2 = pd.DataFrame(mean['rating'])\n",
    "    result2 = result2.to_csv('result2.csv', sep=',', header=None)\n",
    "    result2 = pd.read_csv(\"result2.csv\", sep=',', names=[\"title\", \"gender\", \"rating\"])\n",
    "    result2 = result2.pivot(index='title', columns='gender', values='rating')\n",
    "    result_format = result2.to_csv('result_format.csv', sep=',', index=True)\n",
    "    result_format = pd.read_csv(\"result_format.csv\", sep=',')\n",
    "\n",
    "    count = data.groupby(['title']).agg(['count'])\n",
    "    is_250 =  count[('user_id', 'count')]>=250\n",
    "    count_250 = pd.DataFrame(count[is_250])\n",
    "    top250 = count_250.to_csv('top250.csv', sep=',')\n",
    "    top250 = pd.read_csv(\"top250.csv\", sep=',')\n",
    "    top250 = top250.iloc[2:]\n",
    "    top250 = pd.DataFrame(top250['Unnamed: 0'])\n",
    "    top250 = top250.to_csv('top250.csv', sep=',', header=False, index=False)\n",
    "    top250 = pd.read_csv(\"top250.csv\", sep=',', names=[\"title\"])\n",
    "\n",
    "    result_ex2 = pd.merge(result_format, top250, on ='title', how ='inner') \n",
    "    result_ex2 = result_ex2.to_csv('2.csv', sep=',', header=None, index=False)\n",
    "    \n",
    "    return result_ex2\n",
    "\n",
    "ex2(data)"
   ]
  },
  {
   "cell_type": "markdown",
   "metadata": {},
   "source": [
    "3- Show films more valued by women."
   ]
  },
  {
   "cell_type": "code",
   "execution_count": 4,
   "metadata": {},
   "outputs": [],
   "source": [
    "def ex3(data):\n",
    "    ex2(data)\n",
    "    df = pd.read_csv(\"2.csv\", sep=',', names=[\"title\", \"F\", \"M\"])\n",
    "    result3 = pd.DataFrame(df.sort_values(by=[\"F\"], ascending=False))\n",
    "    result3 = pd.DataFrame(result3[['title','F']])\n",
    "    result_ex3 = result3.to_csv('3.csv', sep=',', header=None, index=False)\n",
    "    \n",
    "    return result_ex3\n",
    "\n",
    "ex3(data)"
   ]
  },
  {
   "cell_type": "markdown",
   "metadata": {},
   "source": [
    "4- Now we wonder which movies are rated more differently between men and women. Which films have more different rating and are more highly valued by women? "
   ]
  },
  {
   "cell_type": "code",
   "execution_count": 5,
   "metadata": {},
   "outputs": [],
   "source": [
    "def ex4(data):\n",
    "    ex2(data)\n",
    "    df = pd.read_csv(\"2.csv\", sep=',', names=[\"title\", \"F\", \"M\"])\n",
    "    diff = df['M']-df['F']\n",
    "    df['diff'] = diff\n",
    "    result4 = pd.DataFrame(df.sort_values(by=[\"diff\"], ascending=True))\n",
    "    result_ex4 = result4.to_csv('4.csv', sep=',', header=None, index=False)\n",
    "    \n",
    "    return result_ex4\n",
    "\n",
    "ex4(data)"
   ]
  },
  {
   "cell_type": "markdown",
   "metadata": {},
   "source": [
    "5- And which films have more different rating and are more highly valued by men? "
   ]
  },
  {
   "cell_type": "code",
   "execution_count": 6,
   "metadata": {},
   "outputs": [],
   "source": [
    "def ex5(data):\n",
    "    ex2(data)\n",
    "    df = pd.read_csv(\"2.csv\", sep=',', names=[\"title\", \"F\", \"M\"])\n",
    "    diff = df['M']-df['F']\n",
    "    df['diff'] = diff\n",
    "    result5 = pd.DataFrame(df.sort_values(by=[\"diff\"], ascending=False))\n",
    "    result_ex5 = result5.to_csv('5.csv', sep=',', header=None, index=False)\n",
    "    \n",
    "    return result_ex5\n",
    "\n",
    "ex5(data)"
   ]
  },
  {
   "cell_type": "markdown",
   "metadata": {},
   "source": [
    "6- What are the films that have generated the most discordant ratings, regardless of gender?"
   ]
  },
  {
   "cell_type": "code",
   "execution_count": 7,
   "metadata": {},
   "outputs": [],
   "source": [
    "def ex6(data):\n",
    "    sd = pd.DataFrame(data[['title','rating']].groupby(['title']).std())\n",
    "    sd = pd.DataFrame(sd.sort_values(by=[\"rating\"], ascending=False))\n",
    "    \n",
    "    count = data.groupby(['title']).agg(['count'])\n",
    "    is_250 =  count[('user_id', 'count')]>=250\n",
    "    count_250 = pd.DataFrame(count[is_250])\n",
    "    top250 = count_250.to_csv('top250.csv', sep=',')\n",
    "    top250 = pd.read_csv(\"top250.csv\", sep=',')\n",
    "    top250 = top250.iloc[2:]\n",
    "    top250 = pd.DataFrame(top250['Unnamed: 0'])\n",
    "    top250 = top250.to_csv('top250.csv', sep=',', header=False, index=False)\n",
    "    top250 = pd.read_csv(\"top250.csv\", sep=',', names=[\"title\"])\n",
    "    \n",
    "    result_ex6 = pd.merge(sd, top250, on ='title', how ='inner')\n",
    "    result_ex6 = pd.DataFrame(result_ex6.sort_values(by=[\"rating\"], ascending=False))\n",
    "    result_ex6 = result_ex6.to_csv('6.csv', sep=',', header=None, index=False)\n",
    "    \n",
    "    return result_ex6\n",
    "\n",
    "ex6(data)"
   ]
  },
  {
   "cell_type": "markdown",
   "metadata": {},
   "source": [
    "7- What is the highest rated movie in average?"
   ]
  },
  {
   "cell_type": "code",
   "execution_count": 8,
   "metadata": {},
   "outputs": [],
   "source": [
    "def ex7(data):\n",
    "    mean = data.groupby(['title']).mean()\n",
    "    result7 = pd.DataFrame(mean['rating'])\n",
    "    result7 = result7.to_csv('result7.csv', sep=',', header=None)\n",
    "    result7 = pd.read_csv(\"result7.csv\", sep=',', names=[\"title\", \"rating\"])\n",
    "    result7_format = result7.to_csv('result7_format.csv', sep=',', index=False)\n",
    "    result7_format = pd.read_csv(\"result7_format.csv\", sep=',')\n",
    "    \n",
    "    count = data.groupby(['title']).agg(['count'])\n",
    "    is_250 =  count[('user_id', 'count')]>=250\n",
    "    count_250 = pd.DataFrame(count[is_250])\n",
    "    top250 = count_250.to_csv('top250.csv', sep=',')\n",
    "    top250 = pd.read_csv(\"top250.csv\", sep=',')\n",
    "    top250 = top250.iloc[2:]\n",
    "    top250 = pd.DataFrame(top250['Unnamed: 0'])\n",
    "    top250 = top250.to_csv('top250.csv', sep=',', header=False, index=False)\n",
    "    top250 = pd.read_csv(\"top250.csv\", sep=',', names=[\"title\"])\n",
    "\n",
    "    result_ex7 = pd.merge(result7_format, top250, on ='title', how ='inner')\n",
    "    result_ex7 = pd.DataFrame(result_ex7.sort_values(by=[\"rating\"], ascending=False))\n",
    "    result_ex7 = result_ex7.head(1).to_csv('7.csv', sep=',', header=None, index=False)\n",
    "    \n",
    "    return result_ex7\n",
    "\n",
    "ex7(data)"
   ]
  },
  {
   "cell_type": "markdown",
   "metadata": {},
   "source": [
    "*** From here use all the ratings ***\n",
    "\n",
    "8- Calculate the average rating of each user. "
   ]
  },
  {
   "cell_type": "code",
   "execution_count": 9,
   "metadata": {},
   "outputs": [],
   "source": [
    "def ex8(data):  \n",
    "    avg = pd.DataFrame(data[['user_id','rating']].groupby(['user_id']).mean())\n",
    "    avg = pd.DataFrame(avg.sort_values(by=[\"user_id\"], ascending=True))\n",
    "    result_ex8 = avg.to_csv('8.csv', sep=',', header=None, index=True)\n",
    "    \n",
    "    return result_ex8\n",
    "\n",
    "ex8(data)"
   ]
  },
  {
   "cell_type": "markdown",
   "metadata": {},
   "source": [
    "9- Define a function called  <b>top_movies</b> that given a df, an user and a number n it returns what movies have the top n rank for this user.\n",
    "\n",
    "def top_movies(data,user,n)"
   ]
  },
  {
   "cell_type": "code",
   "execution_count": 10,
   "metadata": {},
   "outputs": [],
   "source": [
    "def top_movies(data, user, n):\n",
    "    data = pd.DataFrame(data[['user_id','title','rating']].sort_values(by=[\"rating\"], ascending=False))\n",
    "    result = data[data['user_id'] == user].head(n)\n",
    "    \n",
    "    return result\n",
    "\n",
    "def ex9(data):\n",
    "    result_ex9 = top_movies(data,1,30).to_csv('9.csv', sep=',', header=None)\n",
    "    \n",
    "    return result_ex9\n",
    "\n",
    "ex9(data)"
   ]
  },
  {
   "cell_type": "markdown",
   "metadata": {},
   "source": [
    "** Data from CSV**"
   ]
  },
  {
   "cell_type": "markdown",
   "metadata": {},
   "source": [
    "10- Read data from csv file: `ma-ba.csv`. Count the number of times `Barça` wins `Madrid` and compute the stadistics of % win, % lose and % draw."
   ]
  },
  {
   "cell_type": "code",
   "execution_count": 11,
   "metadata": {},
   "outputs": [],
   "source": [
    "def ex10(data):\n",
    "    \n",
    "    df = pd.read_csv('/Users/giuliocaggiano/Downloads/pandas-notebook/ma-ba.csv', sep=',', engine='python')\n",
    "\n",
    "    df = pd.DataFrame(df[['         Partidos', '      resultado']])\n",
    "    df[['HomeTeamScore','AwayTeamScore']] = df['      resultado'].str.split(\"-\",expand=True,)\n",
    "    df[['HomeTeam','AwayTeam']] = df['         Partidos'].str.split(\"-\",expand=True,)\n",
    "    df = pd.DataFrame(df[['HomeTeamScore', 'AwayTeamScore','HomeTeam','AwayTeam']])\n",
    "\n",
    "    df['HomeTeamPoints'] = df['HomeTeamScore'].astype(int) - df['AwayTeamScore'].astype(int)\n",
    "    df = df.groupby('HomeTeam').HomeTeamPoints.apply(lambda x: pd.Series([(x < 0).sum(), (x > 0).sum(), (x == 0).sum()])).unstack()\n",
    "    #df.columns.tolist()\n",
    "    df.columns = ['LostHome', 'WonHome', 'DrawHome']\n",
    "\n",
    "    BarcelonaLost = df.iloc[0, 0] + df.iloc[1, 1] + df.iloc[2, 1] + df.iloc[3, 1]\n",
    "    BarcelonaWon = df.iloc[0, 1] + df.iloc[1, 0] + df.iloc[2, 0] + df.iloc[3, 0]\n",
    "    BarcelonaDraw = df.iloc[0, 2] + df.iloc[1, 2] + df.iloc[2, 2] + df.iloc[3, 2]\n",
    "\n",
    "    MadridLost = BarcelonaWon\n",
    "    MadridWon = BarcelonaLost\n",
    "    MadridDraw = BarcelonaDraw\n",
    "\n",
    "    Tot = BarcelonaLost + BarcelonaWon + BarcelonaDraw\n",
    "\n",
    "    BarcelonaLostPercent = BarcelonaLost / Tot\n",
    "    BarcelonaWonPercent = BarcelonaWon / Tot\n",
    "    BarcelonaDrawPercent = BarcelonaDraw / Tot\n",
    "\n",
    "    MadridLostPercent = BarcelonaWonPercent\n",
    "    MadridWonPercent = BarcelonaLostPercent\n",
    "    MadridDrawPercent = BarcelonaDrawPercent\n",
    "\n",
    "    result_ex10 = pd.DataFrame(data=[['Barcelona', 'R. Madrid'], [BarcelonaWon, MadridWon], [BarcelonaLost, MadridLost], [BarcelonaDraw, MadridDraw], [BarcelonaWonPercent, MadridWonPercent], [BarcelonaLostPercent, MadridLostPercent], [BarcelonaDrawPercent, MadridDrawPercent]]).transpose().to_csv('10.csv', sep=',', header=None, index=False)\n",
    "    \n",
    "    return result_ex10\n",
    "\n",
    "ex10(data)"
   ]
  },
  {
   "cell_type": "markdown",
   "metadata": {},
   "source": [
    "*The .csv files will be downloaded when executing each cell"
   ]
  }
 ],
 "metadata": {
  "kernelspec": {
   "display_name": "Python 3",
   "language": "python",
   "name": "python3"
  },
  "language_info": {
   "codemirror_mode": {
    "name": "ipython",
    "version": 3
   },
   "file_extension": ".py",
   "mimetype": "text/x-python",
   "name": "python",
   "nbconvert_exporter": "python",
   "pygments_lexer": "ipython3",
   "version": "3.8.3"
  }
 },
 "nbformat": 4,
 "nbformat_minor": 1
}
