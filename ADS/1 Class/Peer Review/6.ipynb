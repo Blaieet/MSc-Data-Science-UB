{
 "cells": [
  {
   "cell_type": "code",
   "execution_count": 3,
   "metadata": {},
   "outputs": [],
   "source": [
    "import pandas as pd\n",
    "import numpy as np\n",
    "unames = ['user_id', 'gender', 'age', 'occupation', 'zip']\n",
    "users = pd.read_csv('ml-1m/users.dat', sep='::', header=None, names=unames, engine='python')\n",
    "rnames = ['user_id', 'movie_id', 'rating', 'timestamp']\n",
    "ratings = pd.read_csv('ml-1m/ratings.dat', sep='::', header=None, names=rnames,  engine='python')\n",
    "mnames = ['movie_id', 'title', 'genres']\n",
    "movies = pd.read_csv('ml-1m/movies.dat', sep='::', header=None, names=mnames,  engine='python')\n",
    "data = pd.merge(pd.merge(ratings, users), movies)"
   ]
  },
  {
   "cell_type": "markdown",
   "metadata": {},
   "source": [
    "# Exercises: \n",
    "\n",
    "**MovieLens database**"
   ]
  },
  {
   "cell_type": "markdown",
   "metadata": {},
   "source": [
    "1- Filter  films that have received at least 250 ratings. **Use only these films in the rest of exercices**"
   ]
  },
  {
   "cell_type": "code",
   "execution_count": 4,
   "metadata": {},
   "outputs": [],
   "source": [
    "def ex1(data):\n",
    "    count = data.groupby(['title']).agg(['count'])\n",
    "    is_250 =  count[('user_id', 'count')]>=250\n",
    "    count_250 = pd.DataFrame(count[is_250])\n",
    "    result1 = pd.DataFrame(count_250[('user_id', 'count')])\n",
    "    result1 = pd.DataFrame(result1.sort_values(by=[('user_id', 'count')], ascending=False))\n",
    "    result_ex1 = result1.to_csv('1.csv', sep=',', header=None, index=True)\n",
    "    \n",
    "    return result_ex1\n",
    "\n",
    "ex1(data)"
   ]
  },
  {
   "cell_type": "markdown",
   "metadata": {},
   "source": [
    "2- Obtain the mean ratings for each movie grouped by gender that have at least 250 ratings. "
   ]
  },
  {
   "cell_type": "code",
   "execution_count": 5,
   "metadata": {},
   "outputs": [],
   "source": [
    "def ex2(data):\n",
    "    mean = data.groupby(['title','gender']).mean()\n",
    "    result2 = pd.DataFrame(mean['rating'])\n",
    "    result2 = result2.to_csv('result2.csv', sep=',', header=None)\n",
    "    result2 = pd.read_csv(\"result2.csv\", sep=',', names=[\"title\", \"gender\", \"rating\"])\n",
    "    result2 = result2.pivot(index='title', columns='gender', values='rating')\n",
    "    result_format = result2.to_csv('result_format.csv', sep=',', index=True)\n",
    "    result_format = pd.read_csv(\"result_format.csv\", sep=',')\n",
    "\n",
    "    count = data.groupby(['title']).agg(['count'])\n",
    "    is_250 =  count[('user_id', 'count')]>=250\n",
    "    count_250 = pd.DataFrame(count[is_250])\n",
    "    top250 = count_250.to_csv('top250.csv', sep=',')\n",
    "    top250 = pd.read_csv(\"top250.csv\", sep=',')\n",
    "    top250 = top250.iloc[2:]\n",
    "    top250 = pd.DataFrame(top250['Unnamed: 0'])\n",
    "    top250 = top250.to_csv('top250.csv', sep=',', header=False, index=False)\n",
    "    top250 = pd.read_csv(\"top250.csv\", sep=',', names=[\"title\"])\n",
    "\n",
    "    result_ex2 = pd.merge(result_format, top250, on ='title', how ='inner') \n",
    "    result_ex2 = result_ex2.to_csv('2.csv', sep=',', header=None, index=False)\n",
    "    \n",
    "    return result_ex2\n",
    "\n",
    "ex2(data)"
   ]
  },
  {
   "cell_type": "markdown",
   "metadata": {},
   "source": [
    "3- Show films more valued by women."
   ]
  },
  {
   "cell_type": "code",
   "execution_count": 6,
   "metadata": {},
   "outputs": [],
   "source": [
    "def ex3(data):\n",
    "    ex2(data)\n",
    "    df = pd.read_csv(\"2.csv\", sep=',', names=[\"title\", \"F\", \"M\"])\n",
    "    result3 = pd.DataFrame(df.sort_values(by=[\"F\"], ascending=False))\n",
    "    result3 = pd.DataFrame(result3[['title','F']])\n",
    "    result_ex3 = result3.to_csv('3.csv', sep=',', header=None, index=False)\n",
    "    \n",
    "    return result_ex3\n",
    "\n",
    "ex3(data)"
   ]
  },
  {
   "cell_type": "markdown",
   "metadata": {},
   "source": [
    "4- Now we wonder which movies are rated more differently between men and women. Which films have more different rating and are more highly valued by women? "
   ]
  },
  {
   "cell_type": "code",
   "execution_count": 7,
   "metadata": {},
   "outputs": [],
   "source": [
    "def ex4(data):\n",
    "    ex2(data)\n",
    "    df = pd.read_csv(\"2.csv\", sep=',', names=[\"title\", \"F\", \"M\"])\n",
    "    diff = df['M']-df['F']\n",
    "    df['diff'] = diff\n",
    "    result4 = pd.DataFrame(df.sort_values(by=[\"diff\"], ascending=True))\n",
    "    result_ex4 = result4.to_csv('4.csv', sep=',', header=None, index=False)\n",
    "    \n",
    "    return result_ex4\n",
    "\n",
    "ex4(data)"
   ]
  },
  {
   "cell_type": "markdown",
   "metadata": {},
   "source": [
    "5- And which films have more different rating and are more highly valued by men? "
   ]
  },
  {
   "cell_type": "code",
   "execution_count": 8,
   "metadata": {},
   "outputs": [],
   "source": [
    "def ex5(data):\n",
    "    ex2(data)\n",
    "    df = pd.read_csv(\"2.csv\", sep=',', names=[\"title\", \"F\", \"M\"])\n",
    "    diff = df['M']-df['F']\n",
    "    df['diff'] = diff\n",
    "    result5 = pd.DataFrame(df.sort_values(by=[\"diff\"], ascending=False))\n",
    "    result_ex5 = result5.to_csv('5.csv', sep=',', header=None, index=False)\n",
    "    \n",
    "    return result_ex5\n",
    "\n",
    "ex5(data)"
   ]
  },
  {
   "cell_type": "markdown",
   "metadata": {},
   "source": [
    "6- What are the films that have generated the most discordant ratings, regardless of gender?"
   ]
  },
  {
   "cell_type": "code",
   "execution_count": 9,
   "metadata": {},
   "outputs": [],
   "source": [
    "def ex6(data):\n",
    "    sd = pd.DataFrame(data[['title','rating']].groupby(['title']).std())\n",
    "    sd = pd.DataFrame(sd.sort_values(by=[\"rating\"], ascending=False))\n",
    "    \n",
    "    count = data.groupby(['title']).agg(['count'])\n",
    "    is_250 =  count[('user_id', 'count')]>=250\n",
    "    count_250 = pd.DataFrame(count[is_250])\n",
    "    top250 = count_250.to_csv('top250.csv', sep=',')\n",
    "    top250 = pd.read_csv(\"top250.csv\", sep=',')\n",
    "    top250 = top250.iloc[2:]\n",
    "    top250 = pd.DataFrame(top250['Unnamed: 0'])\n",
    "    top250 = top250.to_csv('top250.csv', sep=',', header=False, index=False)\n",
    "    top250 = pd.read_csv(\"top250.csv\", sep=',', names=[\"title\"])\n",
    "    \n",
    "    result_ex6 = pd.merge(sd, top250, on ='title', how ='inner')\n",
    "    result_ex6 = pd.DataFrame(result_ex6.sort_values(by=[\"rating\"], ascending=False))\n",
    "    result_ex6 = result_ex6.to_csv('6.csv', sep=',', header=None, index=False)\n",
    "    \n",
    "    return result_ex6\n",
    "\n",
    "ex6(data)"
   ]
  },
  {
   "cell_type": "markdown",
   "metadata": {},
   "source": [
    "7- What is the highest rated movie in average?"
   ]
  },
  {
   "cell_type": "code",
   "execution_count": 10,
   "metadata": {},
   "outputs": [],
   "source": [
    "def ex7(data):\n",
    "    mean = data.groupby(['title']).mean()\n",
    "    result7 = pd.DataFrame(mean['rating'])\n",
    "    result7 = result7.to_csv('result7.csv', sep=',', header=None)\n",
    "    result7 = pd.read_csv(\"result7.csv\", sep=',', names=[\"title\", \"rating\"])\n",
    "    result7_format = result7.to_csv('result7_format.csv', sep=',', index=False)\n",
    "    result7_format = pd.read_csv(\"result7_format.csv\", sep=',')\n",
    "    \n",
    "    count = data.groupby(['title']).agg(['count'])\n",
    "    is_250 =  count[('user_id', 'count')]>=250\n",
    "    count_250 = pd.DataFrame(count[is_250])\n",
    "    top250 = count_250.to_csv('top250.csv', sep=',')\n",
    "    top250 = pd.read_csv(\"top250.csv\", sep=',')\n",
    "    top250 = top250.iloc[2:]\n",
    "    top250 = pd.DataFrame(top250['Unnamed: 0'])\n",
    "    top250 = top250.to_csv('top250.csv', sep=',', header=False, index=False)\n",
    "    top250 = pd.read_csv(\"top250.csv\", sep=',', names=[\"title\"])\n",
    "\n",
    "    result_ex7 = pd.merge(result7_format, top250, on ='title', how ='inner')\n",
    "    result_ex7 = pd.DataFrame(result_ex7.sort_values(by=[\"rating\"], ascending=False))\n",
    "    result_ex7 = result_ex7.head(1).to_csv('7.csv', sep=',', header=None, index=False)\n",
    "    \n",
    "    return result_ex7\n",
    "\n",
    "ex7(data)"
   ]
  },
  {
   "cell_type": "markdown",
   "metadata": {},
   "source": [
    "*** From here use all the ratings ***\n",
    "\n",
    "8- Calculate the average rating of each user. "
   ]
  },
  {
   "cell_type": "code",
   "execution_count": 11,
   "metadata": {},
   "outputs": [],
   "source": [
    "def ex8(data):  \n",
    "    avg = pd.DataFrame(data[['user_id','rating']].groupby(['user_id']).mean())\n",
    "    avg = pd.DataFrame(avg.sort_values(by=[\"user_id\"], ascending=True))\n",
    "    result_ex8 = avg.to_csv('8.csv', sep=',', header=None, index=True)\n",
    "    \n",
    "    return result_ex8\n",
    "\n",
    "ex8(data)"
   ]
  },
  {
   "cell_type": "markdown",
   "metadata": {},
   "source": [
    "9- Define a function called  <b>top_movies</b> that given a df, an user and a number n it returns what movies have the top n rank for this user.\n",
    "\n",
    "def top_movies(data,user,n)"
   ]
  },
  {
   "cell_type": "code",
   "execution_count": 12,
   "metadata": {},
   "outputs": [],
   "source": [
    "def top_movies(data, user, n):\n",
    "    data = pd.DataFrame(data[['user_id','title','rating']].sort_values(by=[\"rating\"], ascending=False))\n",
    "    result = data[data['user_id'] == user].head(n)\n",
    "    \n",
    "    return result\n",
    "\n",
    "def ex9(data):\n",
    "    result_ex9 = top_movies(data,1,30).to_csv('9.csv', sep=',', header=None)\n",
    "    \n",
    "    return result_ex9\n",
    "\n",
    "ex9(data)"
   ]
  },
  {
   "cell_type": "markdown",
   "metadata": {},
   "source": [
    "** Data from CSV**"
   ]
  },
  {
   "cell_type": "markdown",
   "metadata": {},
   "source": [
    "10- Read data from csv file: `ma-ba.csv`. Count the number of times `Barça` wins `Madrid` and compute the stadistics of % win, % lose and % draw."
   ]
  },
  {
   "cell_type": "code",
   "execution_count": 14,
   "metadata": {},
   "outputs": [],
   "source": [
    "def ex10(data):\n",
    "    \n",
    "    df = pd.read_csv('ma-ba.csv', sep=',', engine='python')\n",
    "\n",
    "    df = pd.DataFrame(df[['         Partidos', '      resultado']])\n",
    "    df[['HomeTeamScore','AwayTeamScore']] = df['      resultado'].str.split(\"-\",expand=True,)\n",
    "    df[['HomeTeam','AwayTeam']] = df['         Partidos'].str.split(\"-\",expand=True,)\n",
    "    df = pd.DataFrame(df[['HomeTeamScore', 'AwayTeamScore','HomeTeam','AwayTeam']])\n",
    "\n",
    "    df['HomeTeamPoints'] = df['HomeTeamScore'].astype(int) - df['AwayTeamScore'].astype(int)\n",
    "    df = df.groupby('HomeTeam').HomeTeamPoints.apply(lambda x: pd.Series([(x < 0).sum(), (x > 0).sum(), (x == 0).sum()])).unstack()\n",
    "    #df.columns.tolist()\n",
    "    df.columns = ['LostHome', 'WonHome', 'DrawHome']\n",
    "\n",
    "    BarcelonaLost = df.iloc[0, 0] + df.iloc[1, 1] + df.iloc[2, 1] + df.iloc[3, 1]\n",
    "    BarcelonaWon = df.iloc[0, 1] + df.iloc[1, 0] + df.iloc[2, 0] + df.iloc[3, 0]\n",
    "    BarcelonaDraw = df.iloc[0, 2] + df.iloc[1, 2] + df.iloc[2, 2] + df.iloc[3, 2]\n",
    "\n",
    "    MadridLost = BarcelonaWon\n",
    "    MadridWon = BarcelonaLost\n",
    "    MadridDraw = BarcelonaDraw\n",
    "\n",
    "    Tot = BarcelonaLost + BarcelonaWon + BarcelonaDraw\n",
    "\n",
    "    BarcelonaLostPercent = BarcelonaLost / Tot\n",
    "    BarcelonaWonPercent = BarcelonaWon / Tot\n",
    "    BarcelonaDrawPercent = BarcelonaDraw / Tot\n",
    "\n",
    "    MadridLostPercent = BarcelonaWonPercent\n",
    "    MadridWonPercent = BarcelonaLostPercent\n",
    "    MadridDrawPercent = BarcelonaDrawPercent\n",
    "\n",
    "    result_ex10 = pd.DataFrame(data=[['Barcelona', 'R. Madrid'], [BarcelonaWon, MadridWon], [BarcelonaLost, MadridLost], [BarcelonaDraw, MadridDraw], [BarcelonaWonPercent, MadridWonPercent], [BarcelonaLostPercent, MadridLostPercent], [BarcelonaDrawPercent, MadridDrawPercent]]).transpose().to_csv('10.csv', sep=',', header=None, index=False)\n",
    "    \n",
    "    return result_ex10\n",
    "\n",
    "ex10(data)"
   ]
  },
  {
   "cell_type": "markdown",
   "metadata": {},
   "source": [
    "*The .csv files will be downloaded when executing each cell"
   ]
  },
  {
   "cell_type": "code",
   "execution_count": null,
   "metadata": {},
   "outputs": [],
   "source": []
  }
 ],
 "metadata": {
  "kernelspec": {
   "display_name": "Python 3",
   "language": "python",
   "name": "python3"
  },
  "language_info": {
   "codemirror_mode": {
    "name": "ipython",
    "version": 3
   },
   "file_extension": ".py",
   "mimetype": "text/x-python",
   "name": "python",
   "nbconvert_exporter": "python",
   "pygments_lexer": "ipython3",
   "version": "3.8.3"
  }
 },
 "nbformat": 4,
 "nbformat_minor": 1
}
