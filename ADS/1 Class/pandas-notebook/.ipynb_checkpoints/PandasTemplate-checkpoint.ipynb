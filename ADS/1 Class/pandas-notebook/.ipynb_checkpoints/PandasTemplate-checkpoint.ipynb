{
 "cells": [
  {
   "cell_type": "code",
   "execution_count": 14,
   "metadata": {},
   "outputs": [],
   "source": [
    "import pandas as pd\n",
    "import numpy as np\n",
    "unames = ['user_id', 'gender', 'age', 'occupation', 'zip']\n",
    "users = pd.read_csv('ml-1m/users.dat', sep='::', header=None, names=unames, engine='python')\n",
    "rnames = ['user_id', 'movie_id', 'rating', 'timestamp']\n",
    "ratings = pd.read_csv('ml-1m/ratings.dat', sep='::', header=None, names=rnames,  engine='python')\n",
    "mnames = ['movie_id', 'title', 'genres']\n",
    "movies = pd.read_csv('ml-1m/movies.dat', sep='::', header=None, names=mnames,  engine='python')\n",
    "data = pd.merge(pd.merge(ratings, users), movies)"
   ]
  },
  {
   "cell_type": "markdown",
   "metadata": {},
   "source": [
    "# Exercises: \n",
    "\n",
    "**MovieLens database**"
   ]
  },
  {
   "cell_type": "markdown",
   "metadata": {},
   "source": [
    "1- Filter  films that have received at least 250 ratings. **Use only these films in the rest of exercices**"
   ]
  },
  {
   "cell_type": "code",
   "execution_count": 15,
   "metadata": {},
   "outputs": [],
   "source": [
    "def ex1():\n",
    "    #Lets group each movie in one row, and for each one of them, count the number or ratings\n",
    "    group = data[['title','rating']].groupby('title').count()\n",
    "    #Now that I have the number of ratings of each movie, get only the ones who are rated more thatn 250 times\n",
    "    return group[group['rating']>=250].sort_values(by=\"rating\", ascending= False)\n",
    "#This is my own function that allows me to return a subset of my original dataset with only the movies that are rated more than 250 times\n",
    "def getBest250():\n",
    "    #To get this subset I do an \"inner join\" on the \"title\" column\n",
    "    return pd.merge(left=data,right=ex1().drop([\"rating\"],axis=1),left_on=\"title\",right_on=\"title\")"
   ]
  },
  {
   "cell_type": "code",
   "execution_count": null,
   "metadata": {},
   "outputs": [],
   "source": []
  },
  {
   "cell_type": "markdown",
   "metadata": {},
   "source": [
    "2- Obtain the mean ratings for each movie grouped by gender that have at least 250 ratings. "
   ]
  },
  {
   "cell_type": "code",
   "execution_count": 16,
   "metadata": {},
   "outputs": [],
   "source": [
    "def ex2():\n",
    "    #Get only the movies with at least 250 ratings\n",
    "    selected = getBest250()\n",
    "    #Pivot this dataset so now the index are each movie title and for each one of them give me the mean rating divided by gender\n",
    "    piv = pd.pivot_table(selected,values=\"rating\",index=\"title\",columns=\"gender\",aggfunc=\"mean\")\n",
    "    #Only For the .csv exportion, I delete the indexes\n",
    "    piv.reset_index()\n",
    "    return piv"
   ]
  },
  {
   "cell_type": "markdown",
   "metadata": {},
   "source": [
    "3- Show films more valued by women."
   ]
  },
  {
   "cell_type": "code",
   "execution_count": 17,
   "metadata": {},
   "outputs": [],
   "source": [
    "def ex3():\n",
    "    #They are asking me the same question as in ex2() but only for the women, so I delete the Male column and sort the Female column\n",
    "    selected = ex2()\n",
    "    return selected.drop(['M'],axis=1).sort_values(by=\"F\", ascending= False)\n",
    "    "
   ]
  },
  {
   "cell_type": "markdown",
   "metadata": {},
   "source": [
    "4- Now we wonder which movies are rated more differently between men and women. Which films have more different rating and are more highly valued by women? "
   ]
  },
  {
   "cell_type": "code",
   "execution_count": 18,
   "metadata": {},
   "outputs": [],
   "source": [
    "def ex4():\n",
    "    #I take the same dataset as ex2() so I can substract both Female and Male ratings, getting the difference\n",
    "    meansByGender = ex2()\n",
    "    #Best movies valued by womens\n",
    "    meansByGender[\"diff\"] = meansByGender[\"M\"]-meansByGender[\"F\"]\n",
    "    return meansByGender.sort_values(by=\"diff\")\n",
    "    "
   ]
  },
  {
   "cell_type": "markdown",
   "metadata": {},
   "source": [
    "5- And which films have more different rating and are more highly valued by men? "
   ]
  },
  {
   "cell_type": "code",
   "execution_count": 19,
   "metadata": {},
   "outputs": [],
   "source": [
    "def ex5():\n",
    "    #Repeat the ex4() exercice but reverse the diff column\n",
    "    return ex4().sort_values(by=\"diff\",ascending=False)"
   ]
  },
  {
   "cell_type": "markdown",
   "metadata": {},
   "source": [
    "6- What are the films that have generated the most discordant ratings, regardless of gender?"
   ]
  },
  {
   "cell_type": "code",
   "execution_count": 20,
   "metadata": {},
   "outputs": [],
   "source": [
    "def ex6():\n",
    "    #I understand discrodant as computing the Standard Deviation of my ratings grouped by movie. I could also do the variance, wich would give me the same order.\n",
    "    return getBest250()[['title','rating']].groupby('title').agg(\"std\").sort_values(by=\"rating\",ascending=False)"
   ]
  },
  {
   "cell_type": "markdown",
   "metadata": {},
   "source": [
    "7- What is the highest rated movie in average?"
   ]
  },
  {
   "cell_type": "code",
   "execution_count": 21,
   "metadata": {},
   "outputs": [],
   "source": [
    "def ex7():\n",
    "    #Compute the mean rating for each movie (grouping by title) and then  sort them descending. Get only the first one: [:1]\n",
    "    return getBest250()[['title','rating']].groupby('title').agg(\"mean\").sort_values(by=\"rating\",ascending=False)[:1]"
   ]
  },
  {
   "cell_type": "markdown",
   "metadata": {},
   "source": [
    "*** From here use all the ratings ***\n",
    "\n",
    "8- Calculate the average rating of each user. "
   ]
  },
  {
   "cell_type": "code",
   "execution_count": 22,
   "metadata": {},
   "outputs": [],
   "source": [
    "def ex8():\n",
    "    #Pivot the table so my index is every user_id. Get each rating of each user and compute the mean.\n",
    "    return data.pivot_table(index='user_id',values='rating',aggfunc='mean')"
   ]
  },
  {
   "cell_type": "markdown",
   "metadata": {},
   "source": [
    "9- Define a function called  <b>top_movies</b> that given a df, a user and a number n it returns what movies have the top n rank for this user.\n",
    "\n",
    "def top_movies(data,user,n)\n"
   ]
  },
  {
   "cell_type": "code",
   "execution_count": 23,
   "metadata": {},
   "outputs": [],
   "source": [
    "def top_movies(data_,usr,n_rows = 10):\n",
    "    #Get the dataframe of the user requested: data[data['user_id'] == usr]\n",
    "    #Get the 3 columns we are interested in: [['movie_id','title','rating']]\n",
    "    #Sort by ratings, aka \"ranking\", descending order: .sort_values(by='rating',ascending=False)\n",
    "    #Show only the requested number of rows: [:n_rows]\n",
    "    return data[data['user_id'] == usr][['title','rating']].sort_values(by='rating',ascending=False)[:n_rows]\n",
    "def ex9():\n",
    "    return top_movies(data,1,30)\n"
   ]
  },
  {
   "cell_type": "markdown",
   "metadata": {},
   "source": [
    "** Data from CSV**"
   ]
  },
  {
   "cell_type": "markdown",
   "metadata": {},
   "source": [
    "10- Read data from csv file: `ma-ba.csv`. Count the number of times `Barça` wins `Madrid` and compute the stadistics of % win, % lose and % draw."
   ]
  },
  {
   "cell_type": "code",
   "execution_count": 24,
   "metadata": {},
   "outputs": [],
   "source": [
    "def ex10():\n",
    "    #Read the df with no index because it already has a match number\n",
    "    df = pd.read_csv('ma-ba.csv',engine='python',index_col=None)\n",
    "    #Perform some data cleaning, including more columns to perform some operations later on\n",
    "    df = dataCleaning(df)\n",
    "    #Create a new column with the winner of each match \n",
    "    df = selectWinner(df)\n",
    "    #Now that we have the winner of each match, count each team stats and return it as a DataFrame\n",
    "    return countData(df)\n",
    "\n",
    "def dataCleaning(df):\n",
    "    #Clean the column names with no extra spaces\n",
    "    rightNames = [\"N\",\"Fecha\",\"Lugar\",\"Partidos\",\"resultado\",\"Competicion\"]\n",
    "    df.rename(columns=dict(zip(df.columns,rightNames)),inplace=True)\n",
    "    #Create two extra columns by splitting the result, aka spliting by \"-\". So 3-4 will be [3] and [4]\n",
    "    df[[\"golesLocal\",\"golesVisitante\"]] = df['resultado'].str.split(\"-\",expand=True)\n",
    "    #Create two extra columns by splitting the rivals name, so \"Barcelona-Madrid\" will be [Barcelona] and [Madrid] \n",
    "    df[[\"local\",\"visitante\"]] = df['Partidos'].str.split(\"-\",expand=True)\n",
    "    \n",
    "    return df\n",
    "\n",
    "def selectWinner(df):\n",
    "    #Notate the win, draw and lose conditions\n",
    "    conditions = [(df[\"golesLocal\"]>df[\"golesVisitante\"]) & (df[\"golesVisitante\"] != df[\"golesLocal\"]),\n",
    "              (df[\"golesVisitante\"]>df[\"golesLocal\"]) & (df[\"golesVisitante\"] != df[\"golesLocal\"]),\n",
    "              df[\"golesLocal\"] == df[\"golesVisitante\"]]\n",
    "    #Notate the result name of this 3 conditions\n",
    "    #The .str.strip() removes white spaces that annoy us because we need to count wins of this 2 unique teams.\n",
    "    choices = [df[\"local\"].str.strip(),df[\"visitante\"].str.strip(),\"Empate\"]\n",
    "    #Select the right choice of every row on a new column named \"Ganador\"\n",
    "    df[\"Ganador\"] = np.select(conditions,choices,default=np.nan)\n",
    "    #More data cleaning because the Madrid team has different names and we need to count the wins with one unique name: R. Madrid\n",
    "    df[\"Ganador\"] = np.where((df[\"Ganador\"]!=\"Barcelona\") & (df[\"Ganador\"]!=\"Empate\"),\"R. Madrid\",df[\"Ganador\"])\n",
    "    \n",
    "    return df\n",
    "\n",
    "def countData(df):\n",
    "    #Count the unique values of this new column \"Ganador\", meaning we get the number of wins of each teams and tthe amount of times the match resulted in a draw\n",
    "    series = df[\"Ganador\"].value_counts()\n",
    "    BWins = series['Barcelona']\n",
    "    MWins = series[\"R. Madrid\"]\n",
    "    Draws = series[\"Empate\"]\n",
    "    #Number of matches is the number of rows\n",
    "    totalMatches = df.shape[0]\n",
    "    \n",
    "    return pd.DataFrame({'Local':[\"Barcelona\",\"R. Madrid\"],\n",
    "                           'Win':[BWins,MWins],\n",
    "                           'Lose':[MWins,BWins],\n",
    "                           'Draw':[Draws,Draws],\n",
    "                           '% Wins':[BWins/totalMatches,MWins/totalMatches],\n",
    "                           '% Lose':[MWins/totalMatches,BWins/totalMatches],\n",
    "                           '% Draw':[Draws/totalMatches,Draws/totalMatches]})\n"
   ]
  },
  {
   "cell_type": "code",
   "execution_count": 13,
   "metadata": {},
   "outputs": [],
   "source": [
    "n = 11\n",
    "for i in range(1,n):\n",
    "    try:\n",
    "        df = globals()[\"ex\"+str(i)]()\n",
    "        df.to_csv(str(i)+\"as.csv\",header=False)\n",
    "    except Exception as e: \n",
    "        print(i,repr(e))\n",
    "        open(str(i)+\".csv\",\"a\").close()\n",
    "\n"
   ]
  },
  {
   "cell_type": "code",
   "execution_count": null,
   "metadata": {},
   "outputs": [],
   "source": []
  }
 ],
 "metadata": {
  "kernelspec": {
   "display_name": "Python 3",
   "language": "python",
   "name": "python3"
  },
  "language_info": {
   "codemirror_mode": {
    "name": "ipython",
    "version": 3
   },
   "file_extension": ".py",
   "mimetype": "text/x-python",
   "name": "python",
   "nbconvert_exporter": "python",
   "pygments_lexer": "ipython3",
   "version": "3.8.3"
  }
 },
 "nbformat": 4,
 "nbformat_minor": 1
}
