{
 "cells": [
  {
   "cell_type": "markdown",
   "metadata": {},
   "source": [
    "## 2. Making your own API: Web scraping\n",
    "\n",
    "Sometimes data is on the web but there is no API to grant access to it, the API is lacking functionalities or the terms of service are not adequate. In those cases because as humans we have visual access to the data we might wonder how to extract that data automatically. The discipline for doing so is **Web Scraping**. \n",
    "\n",
    "Before we start, it is useful to understand a little how web pages are created and data stored. In this section a brief introduction to web front-end development is presented. We will focus on two basic aspects:\n",
    "\n",
    "+ Basic HTML + CSS static pages.\n",
    "+ Dynamic HTML (a basic JavaScript example using JQuery).\n"
   ]
  },
  {
   "cell_type": "markdown",
   "metadata": {},
   "source": [
    "### 2.1 Basic HTML + CSS 101\n",
    "\n",
    "The most basic web pages are built upon HTML + CSS technology. This division stnds for content and design, respectively. **HTML (Hypertext markup language)** is used to give websites structure and stores the contents. This is our target for scraping. On the other hand **CSS (Cascading Style Sheets)** gives format to the content, sigles out content for visualization purposes, i.e. defines the style (e.g. font, color, family, borders, image style, relative positioning of the content, etc). HTML files include tags and references to style, thus it is worthwhile to understand a little bit of both technologies which can help us to scrap data more efficiently.\n"
   ]
  },
  {
   "cell_type": "markdown",
   "metadata": {},
   "source": [
    "HTML is a tagged language usually rendered by a browser. Tags are specified in the following format:\n",
    "\n",
    "<p style=\"text-align: center\">&lt;tag_name *attributes*&gt; content &lt;/tag_name&gt;<p>\n",
    "\n",
    "<p>\n",
    "<div class = \"alert alert-info\" style = \"border-radius:10px;border-width:3px;border-color:darkblue;font-family:Verdana,sans-serif;font-size:16px;\">STRUCTURE of an HTML file:\n",
    "\n",
    "<ul>\n",
    "    <li> HTML files start with the <!DOCTYPE html>. This tells the browser that we will use HTML5. In former versions of HTML standard there were different versions. </li>\n",
    "    <li> The first tag in a web page is &lt;html&gt; and its corresponding &lt;/html&gt; closing tag. All the web page is found inside these tags. </li>\n",
    "    <li> HTML files have a &lt;head&gt; and a &lt;body&gt; </li>\n",
    "    <li> In the head, we have the &lt;title&gt; tags, and we use this to specify the webpage's name. We can also find references to CSS stylesheets (&lt;link&gt;) used for formating the page and links to javascript files (&lt;script&gt;)that give the web page dynamic behavior.</li>\n",
    "    <li> In the body we find the content of the page. </li> \n",
    "        <ul>\n",
    "            <li> Headings and text paragraphs can be created using &lt;h#&gt; (# is a natural number) and &lt;p&gt; ,respectively. </li>\n",
    "            <li> Hyperlinks (links) are given in the <strong>href</strong> attribute of the &lt;a&gt; (anchor) tag. </li>\n",
    "            <li> Images can be embedded using the &lt;img&gt; tag and setting the <strong>src</strong> attribute to the resource. Caution: img is an special tag and it does not have a closing tag, e.g. &lt;img src = \"my_pic.jpg\" /&gt; </li>\n",
    "        </ul>\n",
    "</ul>\n",
    "</div>\n",
    "</p>"
   ]
  },
  {
   "cell_type": "markdown",
   "metadata": {},
   "source": [
    "<div class = \"alert alert-success\" style = \"border-radius:10px;border-width:3px;border-color:darkgreen;font-family:Verdana,sans-serif;font-size:16px;\">\n",
    "\n",
    "Let us build a basic HTML web page, adding the following tags. Remember that nearly all tags require to be closed using &lt;/tag&gt;\n",
    "\n",
    "+ DOCTYPE\n",
    "+ html\n",
    "+ head\n",
    "+ title\n",
    "+ body\n",
    "\n",
    "<ol>\n",
    "<li>Create a file 'example.html' in your favorite editor.</li>\n",
    "<li>Create a basic html web page containing a *title*, *h1*, *p*, *img* and *a* tags.</li>\n",
    "</ol>\n",
    "</div>"
   ]
  },
  {
   "cell_type": "markdown",
   "metadata": {},
   "source": [
    "If you are lazy go to the files folder and double-click on \"example.html\". You can check the html code in the following cell."
   ]
  },
  {
   "cell_type": "markdown",
   "metadata": {},
   "source": [
    "<html>\n",
    "\t<head>\n",
    "\t\t<title>\n",
    "\t\t\tBasic knowledge for web scraping.\n",
    "\t\t</title>\t\n",
    "\t</head>\n",
    "\t<body>\n",
    "\t\t<h1>About HTML\n",
    "\t\t</h1>\n",
    "\t\t<p>Html (Hypertext markdown language) is the basic language to provide contents in the web. It is a tagged language. You can check more about it in <a href=\"http://www.w3.org/community/webed/wiki/HTML\">World Wide Web Consortium.</a></p>\n",
    "        \n",
    "        <p> One of the following rubberduckies is clickable\n",
    "\t</p>\n",
    "\t<p>\n",
    "            <img src = \"files/rubberduck.jpg\"/>\n",
    "        \n",
    "            <a href=\"http://www.pinterest.com/misscannabliss/rubber-duck-mania/\"><img src = \"files/rubberduck.jpg\"/></a>\n",
    "        </p>\n",
    "\t</body>\n",
    "</html>\n"
   ]
  },
  {
   "cell_type": "markdown",
   "metadata": {},
   "source": [
    "Because Ipython notebook cells directly interpret markdown and HTML we can use the cell as an interactive editor for our HTML understanding.\n"
   ]
  },
  {
   "cell_type": "code",
   "execution_count": null,
   "metadata": {},
   "outputs": [],
   "source": [
    "from IPython.core.display import HTML\n",
    "\n",
    "HTML(\"files/example.html\")"
   ]
  },
  {
   "cell_type": "markdown",
   "metadata": {},
   "source": [
    "<div class = \"alert alert-info\" style = \"border-radius:10px;border-width:3px;border-color:darkblue;font-family:Verdana,sans-serif;font-size:16px;\">\n",
    "**Old style HTML** static pages rely heavily on tables and lists: \n",
    "\n",
    "<ul>\n",
    "<li> Making ordered and unordered lists is simple: *ol* (ordered list), *ul* (unordered list) are the main tags. Each item is inserted as *li* (list item) </li>\n",
    "<li> *table* is the containing tag for building tables, each table row is given as *tr* and columns depend on the table data elements *td*. Tables may have a head (*thead*) and a body (*tbody*). *th* is the same as *td* but for the header. If you want a multi column cell then use colspan=number of cells to cover.\n",
    "</li>\n",
    "</ul>\n",
    "</div>"
   ]
  },
  {
   "cell_type": "markdown",
   "metadata": {},
   "source": [
    "The next example shows a simple table build. Check the markdown code."
   ]
  },
  {
   "cell_type": "markdown",
   "metadata": {},
   "source": [
    "<table>\n",
    "<thead>\n",
    "<tr><th colspan = 2>A table</th><tr>\n",
    "</thead>\n",
    "<tbody>\n",
    "<tr>\n",
    "<td>Hello I am element 1.1</td><td>Hello I am element 1.2</td>\n",
    "</tr>\n",
    "<tr>\n",
    "<td colspan=2>Hello I am element 2.1 and 2.2</td>\n",
    "</tr>\n",
    "</tbody>\n",
    "</table>"
   ]
  },
  {
   "cell_type": "markdown",
   "metadata": {},
   "source": [
    "<div class = \"alert alert-info\" style = \"border-radius:10px;border-width:3px;border-color:darkblue;font-family:Verdana,sans-serif;font-size:16px;\">\n",
    "**Current HTML** static pages rely heavily on containers and style: \n",
    "\n",
    "<ul>\n",
    "<li> *div* stands for division and mark a block of content.\n",
    "</li>\n",
    "<li> *span* is used to single out an element of a block content.\n",
    "</li>\n",
    "</ul>\n",
    "\n",
    "</div>\n",
    "\n",
    "By themselves they are not much but when combined with the *style* attribute they become interesting.\n",
    "\n",
    "For example, consider the following example of code:"
   ]
  },
  {
   "cell_type": "markdown",
   "metadata": {},
   "source": [
    "<div style = \"width:100px;height:100px;background-color:red;padding:10px;font-family:Verdana;font-size:24;color:pink;display:inline-block\">  Box 1\n",
    "</div>\n",
    "<div style = \"width:100px;height:100px;background-color:blue;padding:10px;font-family:Futura;font-size:24;color:lightblue;display:inline-block\">  Box 2\n",
    "</div>\n",
    "<div style = \"width:100px;height:100px;background-color:yellow;padding:10px;font-family:Garamond;font-size:24;color:orange;display:inline-block\">  Box 3\n",
    "</div>\n",
    "<div style = \"width:100px;height:100px;background-color:green;padding:10px;font-family:ArialNarrow;font-size:24;color:lightgreen;display:inline-block\">  Box 4\n",
    "</div>"
   ]
  },
  {
   "cell_type": "markdown",
   "metadata": {},
   "source": [
    "The attribute *style* is also referred as *inline CSS* and let us give the skeleton some skin and makeup."
   ]
  },
  {
   "cell_type": "markdown",
   "metadata": {},
   "source": [
    "<div class = \"alert alert-success\" style = \"border-radius:10px;border-width:3px;border-color:darkgreen;font-family:Verdana,sans-serif;font-size:16px;\">\n",
    "\n",
    "Let us build a basic HTML web page and check the magic of CSS in action before going in detail into CSS.\n",
    "<ol>\n",
    "<li>Create a file 'example2.html' using your favorite editor.</li>\n",
    "<li>Fill the header and body basic HTML structure</li>\n",
    "<li>Let us add three containers *div* in the body.</li> \n",
    "<li>Select one of them. This will be used as a navigation bar and will contain an unordered list with three elememnts: Home, Brief Bio, Hobbies</li>\n",
    "<li>Select another division and create a table inside. Each row will contain information about your profile, e.g. the first row may contain Name: Your Name, the second row Position: Your current position, etc</li>\n",
    "<li>The last one will contain an image of youself and a paragraph with your contact info (email)</li>\n",
    "</ol>\n",
    "<p>\n",
    "Check the [result](files/example2.html). Nearly professional, doesn't it?\n",
    "</p>\n",
    "</div>"
   ]
  },
  {
   "cell_type": "markdown",
   "metadata": {},
   "source": [
    "<div class = \"alert alert-success\" style = \"border-radius:10px;border-width:3px;border-color:darkgreen;font-family:Verdana,sans-serif;font-size:16px;\">\n",
    "\n",
    "Let us add some style.\n",
    "<ol>\n",
    "<li>Add the class \"navbar\" as an attribute to the *div* containing the list. (eg. class = \"navbar\")</li>\n",
    "<li>Add the class \"head\" to the *div* containing the image and the email.</li>\n",
    "<li>Add the class \"right\" to the *div* containing the table.</li>\n",
    "<li>Add the identifier \"email\" to the paragraph containing the email. (eg. id = \"email\")</li>\n",
    "<li>Finally, let us link the class and ids definitions we have just writen by adding to the head tag the following line:\n",
    "<p>< link type=\"text/css\" rel=\"stylesheet\" href=\"stylesheet.css\"/ ></p>\n",
    "</li>\n",
    "</ol>\n",
    "<p>\n",
    "Check the [result](files/example2f.html) now. Do not forget to hover over your navigation bar.\n",
    "</p>\n",
    "</div>"
   ]
  },
  {
   "cell_type": "markdown",
   "metadata": {},
   "source": [
    "The former exercise is an extremely simple exercise showing the separation between the content and the styling. Observe that the html file you have created does not have any explicit styling. However, we have added two new elements to the mix, classes and identifiers as attributes of the tags. As you can imagine styling rules are given for each class and ID and are compactly found on the stylesheet.css we have just linked."
   ]
  },
  {
   "cell_type": "markdown",
   "metadata": {},
   "source": [
    "<div class = \"alert alert-warning\" style = \"border-radius:10px;border-width:3px;border-color:orange;font-family:Verdana,sans-serif;font-size:16px;\">**COMMENT:**\n",
    "Very simple formating can be also given using html markers. For example *strong* and *em* tags refers to bold and italics fonts.\n",
    "</div>"
   ]
  },
  {
   "cell_type": "markdown",
   "metadata": {},
   "source": [
    "### HTML Structure\n",
    "\n",
    "The html document can be seen as a tree structure. The root of the tree is the *html* tag. This has two children *head* and *body*. Head may have different children such as *title*, *link*, or *script*. Body may have any combination of tags, *divs*, *p*, *a*, etc. These tags can be nested, e.g. we can find a *div* inside a *div* inside a *div*. In the example we have seen how to refer to nested elements. The elements can be html tags or classes or identifiers.\n",
    "    + \"elem1 elem2\" refers to any elem2 inside any other elem1 disregarding the degree of nesting (it may have any arbitrary set of elementes in between both).\n",
    "    + \"elem1>elem2\" specifically refers to any elem2 children of a direct parent with tag elem1."
   ]
  },
  {
   "cell_type": "markdown",
   "metadata": {},
   "source": [
    "## 2.2 Hands on with CSS selection\n",
    "\n",
    "Different web-focused parsing libraries allow to use CSS selection. In this course we will see a couple of them. The first one is **LXML**. \n",
    "\n",
    "LXML is build upon the C libraries libxml2 and libxslt. These libraries brings standards-compliant XML support as wells as support for (broken) HTML and are very, very fast!\n",
    "\n",
    "LXML allows to use CSS selection. Let us make some drills with lxml."
   ]
  },
  {
   "cell_type": "markdown",
   "metadata": {},
   "source": [
    "`pip install cssselect`"
   ]
  },
  {
   "cell_type": "markdown",
   "metadata": {},
   "source": [
    "<div class = \"alert alert-success\" style = \"border-radius:10px;border-width:3px;border-color:darkgreen;font-family:Verdana,sans-serif;font-size:16px;\">**LXML PRACTICE** With the source of python.org\n",
    "<ol>\n",
    "<li>How many paragraphs are on the page?</li>\n",
    "<li>What is the text content of the div wiht the class \"shrubbery\"? What are the links in that same div?</li>\n",
    "\n",
    "</ol>\n",
    "</div>"
   ]
  },
  {
   "cell_type": "code",
   "execution_count": 1,
   "metadata": {},
   "outputs": [
    {
     "data": {
      "text/plain": [
       "<Element html at 0x1072a2f48>"
      ]
     },
     "execution_count": 1,
     "metadata": {},
     "output_type": "execute_result"
    }
   ],
   "source": [
    "from urllib.request import urlopen\n",
    "\n",
    "source = urlopen('http://python.org')\n",
    "\n",
    "\n",
    "from lxml import html\n",
    "from lxml import cssselect\n",
    "tree = html.document_fromstring(source.read())\n",
    "tree\n"
   ]
  },
  {
   "cell_type": "code",
   "execution_count": 4,
   "metadata": {},
   "outputs": [
    {
     "name": "stdout",
     "output_type": "stream",
     "text": [
      "1- How many paragraphs are on the page?  23\n"
     ]
    }
   ],
   "source": [
    "# Add your code here. Use tree.cssselect(\"\")\n",
    "#How many paragraphs are on the page?<\n",
    "# Be aware of comments!\n",
    "count = 0\n",
    "\n",
    "for el in tree.iter():\n",
    "    if el.tag == \"p\":\n",
    "        count += 1\n",
    "print (\"1- How many paragraphs are on the page? \", count)\n",
    "\n"
   ]
  },
  {
   "cell_type": "code",
   "execution_count": 6,
   "metadata": {},
   "outputs": [
    {
     "name": "stdout",
     "output_type": "stream",
     "text": [
      "2- What is the text content of the div whithin the class \"shrubbery\"? What are the links in that same div?\n",
      "\n",
      "                        \n",
      "                            Latest News\n",
      "                            More\n",
      "                            \n",
      "                            \n",
      "                                \n",
      "                                \n",
      "                                \n",
      "2018-09-27\n",
      " Python 3.7.1rc1 and 3.6.7rc1 are now available. 3.7.1rc1 is the release preview of the first maintenance ...\n",
      "                                \n",
      "                                \n",
      "2018-08-02\n",
      " Python 3.5.6 and Python 3.4.9 are now available. You can download ...\n",
      "                                \n",
      "                                \n",
      "2018-06-28\n",
      " Python 3.7.0 is now available (and so is 3.6.6)! On behalf of ...\n",
      "                                \n",
      "                                \n",
      "2018-06-12\n",
      " Python 3.7.0rc1 and 3.6.6rc1 are now available. 3.7.0rc1 is the final planned release preview of Python 3.7, ...\n",
      "                                \n",
      "                                \n",
      "2018-05-31\n",
      " A 3.7 update: Python 3.7.0b5 is now the final beta preview of Python 3.7, the ...\n",
      "                                \n",
      "                            \n",
      "                        \n",
      "\n",
      "                        \n",
      "                            Upcoming Events\n",
      "                            More\n",
      "                            \n",
      "                            \n",
      "                                \n",
      "                                \n",
      "                                \n",
      "                                \n",
      "2018-10-05\n",
      " PyCon India 2018\n",
      "                                \n",
      "                                \n",
      "                                \n",
      "                                \n",
      "2018-10-09\n",
      " London Django Meetup\n",
      "                                \n",
      "                                \n",
      "                                \n",
      "                                \n",
      "2018-10-10\n",
      " PyCon ZA 2018\n",
      "                                \n",
      "                                \n",
      "                                \n",
      "                                \n",
      "2018-10-12\n",
      " Python San Sebastian 2018\n",
      "                                \n",
      "                                \n",
      "                                \n",
      "                                \n",
      "2018-10-14\n",
      " DjangoCon US 2018\n",
      "                                \n",
      "                                \n",
      "                            \n",
      "                        \n",
      "\n",
      "                            \n",
      "\n",
      "                            Success Stories\n",
      "                            More\n",
      "\n",
      "                            \n",
      "                            \n",
      "\n",
      "                            \n",
      "                                ILM runs a batch processing environment capable of modeling, rendering and compositing tens of thousands of motion picture frames per day. Thousands of machines running Linux, IRIX, Compaq Tru64, OS X, Solaris, and Windows join together to provide a production pipeline used by ~800 users daily. Speed of development is key, and Python was a faster way to code (and re-code) the programs that control this production pipeline.\n",
      "                            \n",
      "\n",
      "                            \n",
      "                                \n",
      "                                    \n",
      "                                        \n",
      "                                        Industrial Light & Magic Runs on Python by Tim Fortenberry\n",
      "                                    \n",
      "                                \n",
      "                            \n",
      "                            \n",
      "                            \n",
      "\n",
      "                        \n",
      "\n",
      "                            Use Python for…\r\n",
      "More\r\n",
      "\r\n",
      "\r\n",
      "    Web Development:\r\n",
      "        Django, Pyramid, Bottle, Tornado, Flask, web2py\r\n",
      "    GUI Development:\r\n",
      "        tkInter, PyGObject, PyQt, PySide, Kivy, wxPython\r\n",
      "    Scientific and Numeric:\r\n",
      "        \r\n",
      "SciPy, Pandas, IPython\r\n",
      "    Software Development:\r\n",
      "        Buildbot, Trac, Roundup\r\n",
      "    System Administration:\r\n",
      "        Ansible, Salt, OpenStack\r\n",
      "\r\n",
      "\n",
      "                        \n"
     ]
    }
   ],
   "source": [
    "import urllib\n",
    "source = urllib.request.urlopen('http://python.org')\n",
    "tree = html.document_fromstring(source.read())\n",
    "print (\"2- What is the text content of the div whithin the class \\\"shrubbery\\\"? What are the links in that same div?\")\n",
    "for el in tree.iter():\n",
    "    if el.tag == \"div\" and el.attrib.get(\"class\")==\"shrubbery\":\n",
    "           print (el.text_content())\n",
    "\n",
    "            \n",
    "       \n"
   ]
  },
  {
   "cell_type": "markdown",
   "metadata": {},
   "source": [
    "<div class = \"alert alert-success\" style = \"border-radius:10px;border-width:3px;border-color:darkgreen;font-family:Verdana,sans-serif;font-size:16px;\">\n",
    "**LXML EXERCISE:** <BR>\n",
    "\n",
    "Scrap 20 pages from python.org and store in mongoDB the text inside the code elements\n",
    "\n",
    "</div>"
   ]
  },
  {
   "cell_type": "code",
   "execution_count": 7,
   "metadata": {},
   "outputs": [
    {
     "name": "stdout",
     "output_type": "stream",
     "text": [
      "3- What is the text in the code elements?\n"
     ]
    }
   ],
   "source": [
    "print (\"3- What is the text in the code elements?\")"
   ]
  },
  {
   "cell_type": "markdown",
   "metadata": {},
   "source": [
    "# 3 Advanced scraping using automation tools\n",
    "\n",
    "\n",
    "As a simple exercise try to scrap the numerical value in the text box of the hidden.html file."
   ]
  },
  {
   "cell_type": "code",
   "execution_count": 8,
   "metadata": {},
   "outputs": [
    {
     "data": {
      "text/html": [
       "<iframe src=./files/hidden.html width=700 height=300></iframe>"
      ],
      "text/plain": [
       "<IPython.core.display.HTML object>"
      ]
     },
     "execution_count": 8,
     "metadata": {},
     "output_type": "execute_result"
    }
   ],
   "source": [
    "from IPython.display import HTML\n",
    "HTML('<iframe src=./files/hidden.html width=700 height=300></iframe>')"
   ]
  },
  {
   "cell_type": "code",
   "execution_count": 10,
   "metadata": {},
   "outputs": [
    {
     "name": "stdout",
     "output_type": "stream",
     "text": [
      "b'<!DOCTYPE html>\\n<html>\\n<head>\\n<title>The hidden scraper</title>\\n<link rel=\\'stylesheet\\' type=\\'text/css\\' href=\\'hiddenstylesheet.css\\'/>\\n        <script type=\\'text/javascript\\' src=\"http://ajax.googleapis.com/ajax/libs/jquery/2.0.0/jquery.min.js\">\\n</script>\\n        <script type=\\'text/javascript\\' src=\\'hiddenscript.js\\'></script>\\n</head>\\n<body>\\n<div></div>\\n</body>\\n</html>\\n'\n"
     ]
    }
   ],
   "source": [
    "import urllib.request\n",
    "socket = urlopen(\"file:./files/hidden.html\")\n",
    "print (socket.read())"
   ]
  },
  {
   "cell_type": "markdown",
   "metadata": {},
   "source": [
    "... and the value?"
   ]
  },
  {
   "cell_type": "markdown",
   "metadata": {},
   "source": [
    "Problems and limitations of LXML and basic scraping techniques,\n",
    "\n",
    "     + DOM loaded content. The page finishes loading and it is being acquired when the response is closed. Any further data will be not loaded.\n",
    "     + Really broken HTML/XML\n",
    "     + Proprietary and login required can be difficult depending on the log and flow of the page.\n",
    "     + JS form interaction"
   ]
  },
  {
   "cell_type": "markdown",
   "metadata": {},
   "source": [
    "\n",
    "We see the data in our web browser but the data is not directly found in the html. However \"Data is out there\". This is due to the fact that it has been dinamically generated with a function call. Thus, we see that we have two versions of the web page. The first contains static data and function calls, the second contains static data after the interpretation of the function calls. The question now is how we can access this post interpretation data. There are many different ways. One way could be opting for running our own interpreter such as node.js. Another way is to take advantage of the browser interpretation capabilities and run it as an interpreter.\n",
    "\n",
    "Automation tools such as mechanize or selenium are suites with the goal of testing web interfaces automatically from scripts. They allow to start a browser and interact with the web page in the same way a human user would do. We can use these tools for our scraping purposes.\n"
   ]
  },
  {
   "cell_type": "markdown",
   "metadata": {},
   "source": [
    "## 3.1 Starting with Selenium \n",
    "\n",
    "+ Requirements\n",
    "        'pip install selenium'\n",
    "  \n",
    "If you want to use Chrome you need the Chrome webdriver interface 'chromedriver'. \n",
    "\n",
    "+ Download 'chromedriver'  https://sites.google.com/a/chromium.org/chromedriver/downloads\n",
    "\n",
    "+ When create the webdriver put the path to chromedriver\n",
    "\n",
    "Check the following code\n",
    "\n"
   ]
  },
  {
   "cell_type": "markdown",
   "metadata": {},
   "source": [
    "## The Cepstral demo and our new goal.\n",
    "<small>An updated version of the case study of Asheesh Laroia (PaulProtheus at Github)</small>\n",
    "\n",
    "Our new goal is to deal with dynamically generated data. Our goal is to be able to perform a web scraping as the following case. Cepstral is a text-to-speech provider. Let us check the web page."
   ]
  },
  {
   "cell_type": "code",
   "execution_count": 11,
   "metadata": {},
   "outputs": [
    {
     "data": {
      "text/html": [
       "<iframe src=\"http://cepstral.com\" width=700 height=350></iframe>"
      ],
      "text/plain": [
       "<IPython.core.display.HTML object>"
      ]
     },
     "execution_count": 11,
     "metadata": {},
     "output_type": "execute_result"
    }
   ],
   "source": [
    "from IPython.display import HTML\n",
    "HTML('<iframe src=\"http://cepstral.com\" width=700 height=350></iframe>')"
   ]
  },
  {
   "cell_type": "markdown",
   "metadata": {},
   "source": [
    "Our goal is to retrieve the audio file that has been played using web scraping techniques. Let us check how can we do it."
   ]
  },
  {
   "cell_type": "code",
   "execution_count": 12,
   "metadata": {},
   "outputs": [],
   "source": [
    "#CEPSTRAL DEMO\n",
    "%reset -f\n",
    "#!/usr/bin/python\n",
    "# -*- coding: utf-8 -*-\n",
    "\n",
    "# Download Chrome driver: https://sites.google.com/a/chromium.org/chromedriver/downloads\n",
    "\n",
    "\n",
    "from selenium import webdriver\n",
    "import time,os\n",
    "\n",
    "\n",
    "url = 'http://www.cepstral.com/en/demos' #Poseu el nom de la pàgina web\n",
    "browser = webdriver.Chrome(\"/Users/eloi/chromedriver\") #Obrir un navegador Chrome"
   ]
  },
  {
   "cell_type": "code",
   "execution_count": 13,
   "metadata": {},
   "outputs": [],
   "source": [
    "browser.get(url)"
   ]
  },
  {
   "cell_type": "code",
   "execution_count": 14,
   "metadata": {},
   "outputs": [],
   "source": [
    "element = browser.find_element_by_css_selector(\"#demo_text\")\n",
    "element.clear()\n",
    "s='My name is Eloi and I am so cool!!!'\n",
    "element.send_keys(s)"
   ]
  },
  {
   "cell_type": "code",
   "execution_count": 15,
   "metadata": {},
   "outputs": [],
   "source": [
    "browser.find_element_by_id('demo_submit').click()\n",
    "browser.implicitly_wait(5)\n",
    "browser.find_element_by_css_selector('audio')\n",
    "html=browser.page_source\n",
    "#Preventing they can delete the file!\n",
    "browser.quit()"
   ]
  },
  {
   "cell_type": "code",
   "execution_count": 16,
   "metadata": {},
   "outputs": [
    {
     "name": "stdout",
     "output_type": "stream",
     "text": [
      "/demos/audio/ebm04th6i44k21kor7ecqob0p2.1538661267552.mp3\n"
     ]
    }
   ],
   "source": [
    "#Check the data is in\n",
    "chunks=html.split('\"')\n",
    "for chunk in chunks:\n",
    "    if '.mp3' in chunk:\n",
    "        break\n",
    "print (chunk)"
   ]
  },
  {
   "cell_type": "code",
   "execution_count": 17,
   "metadata": {},
   "outputs": [
    {
     "name": "stdout",
     "output_type": "stream",
     "text": [
      "http://www.cepstral.com/demos/audio/ebm04th6i44k21kor7ecqob0p2.1538661267552.mp3\n"
     ]
    }
   ],
   "source": [
    "from urllib.parse import urljoin\n",
    "furl=urljoin(url,chunk)\n",
    "print (furl)"
   ]
  },
  {
   "cell_type": "code",
   "execution_count": 18,
   "metadata": {},
   "outputs": [
    {
     "data": {
      "text/plain": [
       "0"
      ]
     },
     "execution_count": 18,
     "metadata": {},
     "output_type": "execute_result"
    }
   ],
   "source": [
    "import os\n",
    "\n",
    "player = \"mpv \" \n",
    "\n",
    "##Replace with mplayer for Linux. \n",
    "#MPV has been installed in MAC OSX using homebrew.\n",
    "#Mplayer has not been installed because of dependency troubles.\n",
    "#brew tap mpv-player/mpv\n",
    "#brew install --HEAD mpv-player/mpv/libass-ct\n",
    "#brew install mpv\n",
    "\n",
    "os.system(player+furl)"
   ]
  },
  {
   "cell_type": "markdown",
   "metadata": {},
   "source": [
    "<div class = \"alert alert-info\" style = \"border-radius:10px;border-width:3px;border-color:darkblue;font-family:Verdana,sans-serif;font-size:16px;\">**Element manipulation in Selenium:**\n",
    "<p>\n",
    "Consider the result of a selection, e.g. \n",
    "\n",
    "<span style = \"font-family:Courier;\">element = browser.find_element_by_css_selector('div')</span>\n",
    "\n",
    "We can do several things on it.\n",
    "<ul>\n",
    "<li>element**.click()** - click on a selected element</li>\n",
    "<li>Element properties:\n",
    "<ul>\n",
    "<li>element**.location**: x, y location</li>\n",
    "<li>element**.parent**: parent element</li>\n",
    "<li>element**.tag_name**: The tag of the element</li>\n",
    "<li>element**.text**: text of the element and childs</li>\n",
    "</ul>\n",
    "</li>\n",
    "   \n",
    "</ul>\n",
    "\n",
    "\n"
   ]
  },
  {
   "cell_type": "markdown",
   "metadata": {},
   "source": [
    "<div class = \"alert alert-info\" style = \"border-radius:10px;border-width:3px;border-color:darkblue;font-family:Verdana,sans-serif;font-size:16px;\">**Form input with Selenium:**\n",
    "<ul>\n",
    "<li> element**.send_keys()** - Keys, commands, arrows, etc </li>\n",
    "<li> element**.clear()** - clear the element</li>\n",
    "</ul>\n",
    "<p>\n",
    "\n",
    "\n",
    "</div>"
   ]
  },
  {
   "cell_type": "markdown",
   "metadata": {},
   "source": [
    "<div class = \"alert alert-info\" style = \"background-color:lightyellow;border-radius:10px;border-width:3px;border-color:darkorange;font-family:Verdana,sans-serif;font-size:16px;color:brown\">**Other web driver utilities:**\n",
    "<ul>\n",
    "<li>browser.execute_script('window.close()') - execute any javascript on a load page</li>\n",
    "<li>brosers.save_screenshot('foo.png')</li>\n",
    "<li>browser.switch_to_alert(): handle pop-ups automatically</li>\n",
    "<li>browser.forward() / browser.back(): navigation</li>\n",
    "</ul>\n",
    "</div>"
   ]
  },
  {
   "cell_type": "markdown",
   "metadata": {},
   "source": [
    "<div class = \"alert alert-info\" style = \"border-radius:10px;border-width:3px;border-color:darkblue;font-family:Verdana,sans-serif;font-size:16px;\">**Basic manipulation in Selenium:**\n",
    "<p>\n",
    "A webdriver instance allows to manipulate the web session, control cookies, retrieve the html code or find elements in the source code.\n",
    "</p>\n",
    "Given a webdriver instance (e.g.<span style = \"font-family:Courier;\">\n",
    "            browser = webdriver.Firefox()</span>) the most relevant methods\n",
    "\n",
    "<ul>\n",
    "<li>**Open URL:**  .get(url) (e.g.\n",
    "<span style = \"font-family:Courier;\"> browser.get(url)</span>)</li>\n",
    "<li>**Selection: ** .find_element(s)... [element will return the first, elements the complete list]\n",
    "<ul>\n",
    "<li>..._by_link_text('foo') - find the link with text foo</li>\n",
    "<li>..._by_partial_link_text() - similar to contains ...</li>\n",
    "<li>..._by_css_selector()</li>\n",
    "<li>..._by_tag_name()</li>\n",
    "<li>..._by_xpath()</li>\n",
    "<li>..._by_class_name()</li>\n",
    "</ul>\n",
    "</li>\n",
    "<li>**Retrieve source: ** .page_source</li>\n",
    "  \n",
    "</ul>\n",
    "</div>"
   ]
  },
  {
   "cell_type": "markdown",
   "metadata": {},
   "source": [
    "<div class = \"alert alert-info\" style = \"border-radius:10px;border-width:3px;border-color:darkblue;font-family:Verdana,sans-serif;font-size:16px;\">**Scrolling and moving:**\n",
    "Moving around the page is tricky, be prepared for displaying a little patience.\n",
    "\n",
    "ActionChains provide a way of stringing together one or more actions and then implementing them.\n",
    "<ul>\n",
    "<li>move_by_offset(x,y)</li>\n",
    "<li>move_to_element() - for highlighting, hovering, rollover, etc.</li>\n",
    "<li>move_to_elemnte_by_offset(elem, x, y)</li>\n",
    "</ul>\n",
    "</div>"
   ]
  },
  {
   "cell_type": "markdown",
   "metadata": {},
   "source": [
    "<div class = \"alert alert-info\" style = \"border-radius:10px;border-width:3px;border-color:darkblue;font-family:Verdana,sans-serif;font-size:16px;\"> **Wait**\n",
    "\n",
    "We can distinguish two types of waiting strategies, namely, implicit and explicit waits.\n",
    "\n",
    "*Implicit waits* set up a timeout that will last for the full life of the web driver. On the other hand, *explicit waits* tell the driver to poll the DOM until some condition is met, e.g. a certain element has finished loading on the page. \n",
    "\n",
    "Example:\n",
    "<p style=\"font-family:Courier;\">\n",
    "try: <br>\n",
    "movie_info = webdriverwait(browser,10).until(EC.element_to_be_clickable((By.ID,'BotMovie')))<br>\n",
    "title = movie_info.find_element_by_class_name('title').text<br>\n",
    "link = movie_info.find_element_by_class_name('mdpLink').get_attribute('href')<br>\n",
    "except:<br>\n",
    " print 'taking too long!!'<br>\n",
    " </p>\n",
    " \n",
    "*EC* stands for Expected Condition and are the basis of explicit waits (see http://selenium-python.readthedocs.org for more information)\n",
    "</div>"
   ]
  },
  {
   "cell_type": "markdown",
   "metadata": {},
   "source": [
    "\n",
    "<div class = \"alert alert-success\" style = \"border-radius:10px;border-width:3px;border-color:darkgreen;font-family:Verdana,sans-serif;font-size:16px;\">\n",
    "**Selenium EXERCISE:** <BR>\n",
    "<ul>\n",
    "<li> Open a browser \n",
    "\n",
    "<li>Go to tripadvisor/Restaurants\n",
    "\n",
    "<li>Find the search text box\n",
    "\n",
    "<li>Clear it, input the query \"Sant Cugat\" and send it\n",
    "\n",
    "<li>Go to \"Restarurants\" and get all the links and names of top 10 restaurants in Sant cugat\n",
    "<li> Store them into mongoDB database\n",
    "</ul>\n",
    "\n",
    "</div>"
   ]
  },
  {
   "cell_type": "code",
   "execution_count": null,
   "metadata": {},
   "outputs": [],
   "source": [
    "from selenium import webdriver\n",
    "browser = webdriver.Chrome(\"/Users/eloi/chromedriver\")\n",
    "browser.get(\"https://www.tripadvisor.es/Restaurants\")\n"
   ]
  },
  {
   "cell_type": "markdown",
   "metadata": {},
   "source": [
    "<div class = \"alert alert-info\" style = \"border-radius:10px;border-width:3px;border-color:darkblue;font-family:Verdana,sans-serif;font-size:16px;\"> **Wrap-up**\n",
    "<ul>\n",
    "<li>We understood how data is usually stored in the web site and how to access it using different kinds of accessors, namely API and direct selectors.</li>\n",
    "<li>We have seen how to capture different kinds of data types(text, audio and pictures).</li>\n",
    "<li>We are now familiar with JSON data and basic No-SQL databases.</li>\n",
    "</ul>\n",
    "</div>"
   ]
  }
 ],
 "metadata": {
  "kernelspec": {
   "display_name": "Python 3",
   "language": "python",
   "name": "python3"
  },
  "language_info": {
   "codemirror_mode": {
    "name": "ipython",
    "version": 3
   },
   "file_extension": ".py",
   "mimetype": "text/x-python",
   "name": "python",
   "nbconvert_exporter": "python",
   "pygments_lexer": "ipython3",
   "version": "3.8.3"
  }
 },
 "nbformat": 4,
 "nbformat_minor": 1
}
