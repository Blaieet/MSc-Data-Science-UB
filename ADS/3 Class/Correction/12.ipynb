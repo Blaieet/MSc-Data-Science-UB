{
 "cells": [
  {
   "cell_type": "markdown",
   "metadata": {},
   "source": [
    "1- **Twitter EXERCISE:** \n",
    "\n",
    "Given the starting user \"eloipuertas\", retrieve the user name, the date of the accoount creation and the last tweet date and text for each follower. Store them to a database called 'twitter' and into a collection called 'info'. The attributes of the document are: 'screen_name', 'created_at', 'last_tweet_text' and 'last_tweet_created_at'. \n"
   ]
  },
  {
   "cell_type": "code",
   "execution_count": 2,
   "metadata": {},
   "outputs": [
    {
     "name": "stdout",
     "output_type": "stream",
     "text": [
      "Connected successfully!!!\n",
      "Storing users data...\n",
      "Data stored!\n"
     ]
    }
   ],
   "source": [
    "import json\n",
    "import pymongo\n",
    "import tweepy\n",
    "import time\n",
    "\n",
    "def get_last_user_tweet(user_id):\n",
    "    status = api.user_timeline(user_id)\n",
    "    return status\n",
    "\n",
    "# Read twitter credentials\n",
    "# with open('./twt_credentials.json') as f:\n",
    "#     data = json.load(f)\n",
    "    \n",
    "with open('APIKeys.txt', 'r') as f:\n",
    "    [consumer_key,consumer_secret,access_key, access_secret]=f.read().splitlines()\n",
    "\n",
    "#--------------------------------------------------------------------------------\n",
    "    \n",
    "try:\n",
    "  \n",
    "    with open(\"credentials.txt\", 'r') as f:\n",
    "        [name,password,url]=f.read().splitlines()\n",
    "    conn=pymongo.MongoClient(\"mongodb+srv://{}:{}@{}\".format(name,password,url))\n",
    "    print (\"Connected successfully!!!\")\n",
    "    \n",
    "except pymongo.errors.ConnectionFailure as e:\n",
    "    print (\"Could not connect to MongoDB: %s\" % e) \n",
    "\n",
    "# Create the \"twitter\" database and the \"info\" collection\n",
    "db = conn[\"twitter\"]\n",
    "collection = db.info\n",
    "\n",
    "#Authentication\n",
    "auth = tweepy.OAuthHandler(consumer_key, consumer_secret)\n",
    "auth.set_access_token(access_key, access_secret)\n",
    "api = tweepy.API(auth)\n",
    "\n",
    "\n",
    "#Do something\n",
    "USER_NAME = \"Neoares92\"\n",
    "user = api.get_user(id=USER_NAME)\n",
    "\n",
    "screen_name = user.screen_name\n",
    "created_at = user._json[\"created_at\"]\n",
    "\n",
    "#Retrieving all the followers\n",
    "followers = []\n",
    "for page in tweepy.Cursor(api.followers_ids, screen_name=USER_NAME).pages():\n",
    "    followers.extend(page)\n",
    "    time.sleep(5)  #This should be 60 to avoid limit rates\n",
    "\n",
    "print(\"Storing users data...\")\n",
    "\n",
    "for follower in followers:\n",
    "    follower_user = api.get_user(id=follower)\n",
    "    \n",
    "    # Check if the user is protected to avoid errors\n",
    "    if follower_user.protected:\n",
    "        pass\n",
    "    else:\n",
    "        # Check if there is any tweet in the account and then we store the data\n",
    "        status = get_last_user_tweet(follower)\n",
    "        if status:\n",
    "            collection.insert_one({\n",
    "                \"screen_name\": follower_user.screen_name,\n",
    "                \"created_at\": follower_user._json[\"created_at\"],\n",
    "                \"last_tweet_text\": status[0].text,\n",
    "                \"last_tweet_created_at\": str(status[0].created_at)\n",
    "            })\n",
    "        else:\n",
    "            pass\n",
    "        \n",
    "print(\"Data stored!\")"
   ]
  },
  {
   "cell_type": "code",
   "execution_count": 3,
   "metadata": {},
   "outputs": [
    {
     "name": "stdout",
     "output_type": "stream",
     "text": [
      "{'screen_name': 'Clara_47687', 'created_at': 'Mon Jul 23 23:23:11 +0000 2012', 'last_tweet_text': 'La curva más bonita de una mujer es su sonrisa 😊 https://t.co/uMhUI0cMZZ', 'last_tweet_created_at': '2020-09-24 13:51:57'}\n",
      "{'screen_name': 'miq_m', 'created_at': 'Wed May 21 00:14:29 +0000 2008', 'last_tweet_text': 'RT @martacava: On són les dones en un vídeo on es recomanen dones escriptores? https://t.co/RIMziMhG5F', 'last_tweet_created_at': '2020-10-19 14:01:42'}\n",
      "{'screen_name': 'Goshita_', 'created_at': 'Wed Jun 28 13:21:00 +0000 2017', 'last_tweet_text': 'RT @ramonciuus: entrar a ikea y fantasear con como sería la casa de mis sueños me representa demasiado', 'last_tweet_created_at': '2020-10-20 09:39:47'}\n",
      "{'screen_name': 'g_marrugat', 'created_at': 'Fri Jul 01 18:16:19 +0000 2016', 'last_tweet_text': 'RT @azti_brta: Hemos oído que, durante estos días, se han agotado ciertos productos en las estanterías de los supermercados. Pero ¿cómo ha…', 'last_tweet_created_at': '2020-05-12 08:17:59'}\n",
      "{'screen_name': 'cristinamrtnez', 'created_at': 'Fri Jan 14 21:22:00 +0000 2011', 'last_tweet_text': 'GRACIAS GRACIAS GRACIAS https://t.co/Qr56GNEW4u', 'last_tweet_created_at': '2020-10-21 11:18:33'}\n",
      "{'screen_name': 'eribasfe', 'created_at': 'Sun Jan 17 17:12:19 +0000 2016', 'last_tweet_text': '@aaleex_92 Projecte del màster, amb alguna cosa similar al que vam fer pel postgrau! Salut!', 'last_tweet_created_at': '2019-01-01 22:18:00'}\n",
      "{'screen_name': 'mpsantolaria', 'created_at': 'Tue Oct 02 13:50:38 +0000 2018', 'last_tweet_text': 'RT @MrBlaid: Para estos días, para grandes y pequeños y para pasar un buen rato #Bones @jeffsmithsbone #comics #COVID19 #MeQuedoEnCasa #con…', 'last_tweet_created_at': '2020-03-27 12:54:32'}\n",
      "{'screen_name': 'WoW_Arycar', 'created_at': 'Sun Mar 29 17:13:59 +0000 2015', 'last_tweet_text': '@hi_im_Detham Mas de la mitad deben ser viendo a Asmon, pero ei, mola.que el wow siga arriba :D', 'last_tweet_created_at': '2020-10-19 09:53:41'}\n",
      "{'screen_name': 'eeveeta', 'created_at': 'Wed Feb 18 01:09:51 +0000 2009', 'last_tweet_text': \"@ThiefMaster What's his name?\", 'last_tweet_created_at': '2020-10-10 07:30:55'}\n",
      "{'screen_name': 'NekuCorvus', 'created_at': 'Sun Sep 18 15:34:59 +0000 2011', 'last_tweet_text': 'Me acabo de levantar', 'last_tweet_created_at': '2020-10-21 02:45:19'}\n",
      "{'screen_name': 'hi_im_Detham', 'created_at': 'Tue Dec 20 17:24:10 +0000 2011', 'last_tweet_text': 'RT @EvilAFM: No voy a explicarlo. https://t.co/0AUdWGlPPO', 'last_tweet_created_at': '2020-10-21 13:34:18'}\n",
      "{'screen_name': 'Eobliviate', 'created_at': 'Sun Jan 19 13:09:10 +0000 2014', 'last_tweet_text': 'Acabo de subir tanto a Dropbox como Drive el PDF sobre Vetrnætr (Winter Nights) y Álfablót. Tenéis el link en el linktree de mi instagram.', 'last_tweet_created_at': '2020-10-21 09:12:06'}\n",
      "{'screen_name': 'espavilat', 'created_at': 'Mon Nov 22 14:27:10 +0000 2010', 'last_tweet_text': '@fxn Check out this Meetup with Full Stack Vallès https://t.co/gH4RmktrOj #vallesencs no us ho podeu perdre!!!', 'last_tweet_created_at': '2019-02-04 19:02:52'}\n",
      "{'screen_name': '1KPensamientos', 'created_at': 'Wed Apr 20 10:14:06 +0000 2016', 'last_tweet_text': 'Haz RT y ayudarás a la Asociación Catalana de Fibrosis Quística \\n@fqcatalana\\n ¡Atrévete! #MilPensamientos https://t.co/rbOo447Do5', 'last_tweet_created_at': '2020-10-21 06:39:00'}\n",
      "{'screen_name': 'ShrekOverflow', 'created_at': 'Mon Jan 13 12:10:00 +0000 2014', 'last_tweet_text': 'Is slack down?', 'last_tweet_created_at': '2020-10-16 15:55:41'}\n",
      "{'screen_name': 'enundiagris_', 'created_at': 'Sun Apr 24 11:23:29 +0000 2016', 'last_tweet_text': 'RT @odsc: In this article, we’ll explore federated learning in terms of its beginnings, benefits, challenges, as well as some recent advanc…', 'last_tweet_created_at': '2020-10-17 23:26:08'}\n",
      "{'screen_name': 'gabimaeztu', 'created_at': 'Wed Oct 19 12:19:33 +0000 2011', 'last_tweet_text': '@_miriku_ Tampoco hace falta que sean macroestructuras. Se puede implementar (y se está haciendo) sistemas pequeños… https://t.co/qLLauzEgGJ', 'last_tweet_created_at': '2020-05-06 09:11:00'}\n",
      "{'screen_name': 'SrCatDog', 'created_at': 'Mon Feb 28 22:19:52 +0000 2011', 'last_tweet_text': '@pccomponentes Si puedes pagarlo, podemos crearlo.', 'last_tweet_created_at': '2020-04-21 13:59:24'}\n",
      "{'screen_name': 'eloipuertas', 'created_at': 'Mon Feb 06 11:23:33 +0000 2012', 'last_tweet_text': '@el_pais qui ha escrit el titular és un analfabet funcional', 'last_tweet_created_at': '2020-06-12 13:33:17'}\n",
      "{'screen_name': 'NickyTmnt', 'created_at': 'Thu Jun 18 04:05:56 +0000 2015', 'last_tweet_text': '@jk_rowling I am so tired of seeing how they attack this woman, she just gave her opinion on a particular topic. We… https://t.co/dC39RlX5wu', 'last_tweet_created_at': '2020-07-29 18:20:05'}\n",
      "{'screen_name': 'Valen_riuzaki', 'created_at': 'Sat Apr 16 20:58:48 +0000 2011', 'last_tweet_text': '2nd Infirmary DONE! :D como pasa el tiempo...', 'last_tweet_created_at': '2015-05-29 18:18:04'}\n",
      "{'screen_name': 'Superviery', 'created_at': 'Sun Feb 10 01:44:27 +0000 2013', 'last_tweet_text': 'Producciones Superviery les desea buenas noches.', 'last_tweet_created_at': '2020-10-21 02:15:00'}\n",
      "{'screen_name': 'AntonellaCiza', 'created_at': 'Sat Nov 12 20:00:17 +0000 2011', 'last_tweet_text': 'RT @CerveraMag: “En el momento que no estas deconstruyendo, estás sosteniendo...“ PUM 💥 @marourivero @conchapodcast', 'last_tweet_created_at': '2020-10-21 06:06:08'}\n",
      "{'screen_name': 'Sandra_Laiho', 'created_at': 'Mon Nov 23 09:36:43 +0000 2009', 'last_tweet_text': 'RT @DM_Metal_666: Hola! Alguien se acuerda de mi? Pues no olvidéis suscribiros a mis canales:\\nYouTube: https://t.co/eo7HFsQKTs\\nTwitch: http…', 'last_tweet_created_at': '2020-10-20 21:24:18'}\n",
      "{'screen_name': 'fernans_1', 'created_at': 'Mon Jun 06 22:07:31 +0000 2011', 'last_tweet_text': 'Y por estos comportamientos seguimos con contagios. https://t.co/9Epdtws7Ip', 'last_tweet_created_at': '2020-10-21 12:53:47'}\n",
      "{'screen_name': 'josevtsminecraf', 'created_at': 'Thu Nov 08 16:38:36 +0000 2012', 'last_tweet_text': 'Este sabado o domingo creare un nuevo server pvp. Quien qiera unirse que me mencione diciendo q qieres unirse y escribiendo: #serverpvp', 'last_tweet_created_at': '2013-05-01 16:19:17'}\n",
      "{'screen_name': 'SrBuzon', 'created_at': 'Sat Sep 08 00:15:45 +0000 2012', 'last_tweet_text': '¿Qué opinas de las patatas?', 'last_tweet_created_at': '2020-06-30 02:42:24'}\n",
      "{'screen_name': 'sabaterisdow5', 'created_at': 'Tue Jan 03 23:19:47 +0000 2012', 'last_tweet_text': \"I'm waiting for Joshua to ring my doorbell. I guess his mom just told him to stay inside today.. NO\", 'last_tweet_created_at': '2012-06-03 01:18:46'}\n",
      "{'screen_name': 'UrRoNyCAsT', 'created_at': 'Fri Mar 23 15:59:09 +0000 2012', 'last_tweet_text': 'ohh yeah https://t.co/PsMMxETyC1', 'last_tweet_created_at': '2016-11-15 16:37:37'}\n",
      "{'screen_name': 'Clonetrik', 'created_at': 'Mon Mar 19 12:22:47 +0000 2012', 'last_tweet_text': 'Trio calavera for the win :D https://t.co/dQaux7JGdd', 'last_tweet_created_at': '2020-03-20 15:46:43'}\n",
      "{'screen_name': 'angychan10', 'created_at': 'Fri May 14 21:46:26 +0000 2010', 'last_tweet_text': 'RT @mariaresines: @angychan10 a tope con twitter, he despertado al monstruo https://t.co/Fr4AcSYCra', 'last_tweet_created_at': '2020-04-24 00:00:21'}\n",
      "{'screen_name': 'MexicoenXalapa', 'created_at': 'Mon Nov 01 19:44:22 +0000 2010', 'last_tweet_text': '#Veracruz Laboratorio de INMEGEN puede analizar cinco mil genes asociados a enfermedades hereditarias… https://t.co/3h6J9tM6wZ', 'last_tweet_created_at': '2016-11-23 21:22:13'}\n",
      "{'screen_name': 'Ferranr', 'created_at': 'Wed Oct 06 17:09:45 +0000 2010', 'last_tweet_text': 'RT @XSalaimartin: Alemania es ETA!', 'last_tweet_created_at': '2018-04-05 17:30:50'}\n",
      "{'screen_name': 'osc_car', 'created_at': 'Sat May 29 23:31:23 +0000 2010', 'last_tweet_text': 'RT @mariocantos: Quiero que veáis esto. Simplemente tiene que verse la cara del individuo gritando como un mono. \\nNo podemos permitir esto.…', 'last_tweet_created_at': '2020-05-23 19:13:37'}\n",
      "{'screen_name': 'marinagmurillo', 'created_at': 'Wed Sep 29 16:23:12 +0000 2010', 'last_tweet_text': 'RT @ResiSEMES_CV: Hoy, hoy es ese día del que te acordarás toda tu vida, aquel día que salvaste la vida de aquella persona, aquella persona…', 'last_tweet_created_at': '2020-10-16 16:01:30'}\n"
     ]
    }
   ],
   "source": [
    "for x in collection.find({}, {\"_id\":0, \"screen_name\": 1, \"created_at\": 1, \"last_tweet_text\": 1, \"last_tweet_created_at\": 1}):  \n",
    "    print(x)"
   ]
  },
  {
   "cell_type": "markdown",
   "metadata": {},
   "source": [
    "2- **Selenium EXERCISE:** \n",
    "<ul>\n",
    "<li> Open a browser \n",
    "\n",
    "<li>Go to tripadvisor/Restaurants\n",
    "\n",
    "<li>Find the search text box\n",
    "\n",
    "<li>Clear it, input the query \"Sant Cugat\" and send it\n",
    "\n",
    "<li>Go to \"Restarurants\" and get the name and link of the top 10 restaurants in Sant cugat\n",
    "<li> Store them into a database called 'TripAdvisor' and a collection called 'Restaurants' with the documents atributes 'name' and 'link'\n",
    "</ul>\n",
    "\n",
    "</div>"
   ]
  },
  {
   "cell_type": "code",
   "execution_count": 7,
   "metadata": {},
   "outputs": [
    {
     "name": "stdout",
     "output_type": "stream",
     "text": [
      "Connected successfully!!!\n"
     ]
    }
   ],
   "source": [
    "from selenium import webdriver\n",
    "from selenium.webdriver.common.keys import Keys\n",
    "import time\n",
    "import re\n",
    "import pymongo\n",
    "\n",
    "# Create the db\n",
    "try:\n",
    "  \n",
    "    with open(\"credentials.txt\", 'r') as f:\n",
    "        [name,password,url]=f.read().splitlines()\n",
    "    conn=pymongo.MongoClient(\"mongodb+srv://{}:{}@{}\".format(name,password,url))\n",
    "    print (\"Connected successfully!!!\")\n",
    "    \n",
    "except pymongo.errors.ConnectionFailure as e:\n",
    "    print (\"Could not connect to MongoDB: %s\" % e) \n",
    "db = conn['TripAdvisor']\n",
    "collection = db.Restaurants\n",
    "\n",
    "# CHANGE THE PATH WHEN YOU CORRECT IT\n",
    "driver = webdriver.Chrome(\"chromedriver\")\n",
    "#---------------------------------------------------------------------------\n",
    "driver.get('https://www.tripadvisor.es/Restaurants')\n",
    "\n",
    "# find the search text box and write and look for Sant Cugat restaurants\n",
    "text_box = driver.find_element_by_xpath('//*[@id=\"component_6\"]/div/div/form/input[1]')\n",
    "text_box.click()\n",
    "text_box.send_keys('Sant Cugat del Vallès')\n",
    "time.sleep(5)\n",
    "driver.find_element_by_css_selector(\"a[href*='Sant_Cugat']\").click()\n",
    "\n",
    "# get top 10 restaurant\n",
    "results = driver.find_element_by_xpath('//*[@id=\"component_2\"]/div')\n",
    "items = results.find_elements_by_css_selector('a[href*=REVIEWS]')\n",
    "items2 = results.find_elements_by_class_name('wQjYiB7z')\n",
    "\n",
    "names = []\n",
    "links= []\n",
    "\n",
    "for item, item2 in zip(items,items2):\n",
    "    s = item2.get_attribute('innerHTML')\n",
    "    restaurant_name = re.search(\"<!-- -->. <!-- -->(.*?)</a></span>\", s)\n",
    "    # filter promoted ones (Return None on search of pattern)\n",
    "    if restaurant_name != None:\n",
    "        names.append(restaurant_name.group(1))\n",
    "        links.append(item.get_attribute('href').strip('#REVIEWS'))\n",
    "        \n",
    "\n",
    "names = names[:10]  \n",
    "links = links[:10]\n",
    "\n",
    "for name, link in zip(names, links):\n",
    "    collection.insert_one({\"restaurant\": name, \"link\": link})"
   ]
  },
  {
   "cell_type": "code",
   "execution_count": 8,
   "metadata": {},
   "outputs": [
    {
     "name": "stdout",
     "output_type": "stream",
     "text": [
      "{'restaurant': 'Piaceri D’ Italia Ristorante Pizzeria', 'link': 'https://www.tripadvisor.es/Restaurant_Review-g1080422-d19084243-Reviews-Piaceri_D_Italia_Ristorante_Pizzeria-Sant_Cugat_del_Valles_Catalonia.html'}\n",
      "{'restaurant': 'Restaurant Brau', 'link': 'https://www.tripadvisor.es/Restaurant_Review-g1080422-d10195584-Reviews-Restaurant_Brau-Sant_Cugat_del_Valles_Catalonia.html'}\n",
      "{'restaurant': 'La Rita', 'link': 'https://www.tripadvisor.es/Restaurant_Review-g1080422-d10365477-Reviews-La_Rita-Sant_Cugat_del_Valles_Catalonia.html'}\n",
      "{'restaurant': 'Sabàtic', 'link': 'https://www.tripadvisor.es/Restaurant_Review-g1080422-d10167691-Reviews-Sabatic-Sant_Cugat_del_Valles_Catalonia.html'}\n",
      "{'restaurant': 'Némesis Gastronomia', 'link': 'https://www.tripadvisor.es/Restaurant_Review-g1080422-d11892809-Reviews-Nemesis_Gastronomia-Sant_Cugat_del_Valles_Catalonia.html'}\n",
      "{'restaurant': 'El vi de deu', 'link': 'https://www.tripadvisor.es/Restaurant_Review-g1080422-d7076969-Reviews-El_Vi_de_Deu-Sant_Cugat_del_Valles_Catalonia.html'}\n",
      "{'restaurant': 'Dakidaya', 'link': 'https://www.tripadvisor.es/Restaurant_Review-g1080422-d4546707-Reviews-Dakidaya-Sant_Cugat_del_Valles_Catalonia.html'}\n",
      "{'restaurant': 'bodega tomas', 'link': 'https://www.tripadvisor.es/Restaurant_Review-g1080422-d7912636-Reviews-Bodega_Tomas-Sant_Cugat_del_Valles_Catalonia.html'}\n",
      "{'restaurant': 'La Rampa 23', 'link': 'https://www.tripadvisor.es/Restaurant_Review-g1080422-d4043880-Reviews-La_Rampa_23-Sant_Cugat_del_Valles_Catalonia.html'}\n",
      "{'restaurant': 'Kitsune Sushi Bar', 'link': 'https://www.tripadvisor.es/Restaurant_Review-g1080422-d5966644-Reviews-Kitsune_Sushi_Bar-Sant_Cugat_del_Valles_Catalonia.html'}\n"
     ]
    }
   ],
   "source": [
    "for x in collection.find({}, {\"_id\":0, \"restaurant\": 1, \"link\": 1}):  \n",
    "    print(x)"
   ]
  },
  {
   "cell_type": "code",
   "execution_count": null,
   "metadata": {},
   "outputs": [],
   "source": []
  }
 ],
 "metadata": {
  "kernelspec": {
   "display_name": "Python 3",
   "language": "python",
   "name": "python3"
  },
  "language_info": {
   "codemirror_mode": {
    "name": "ipython",
    "version": 3
   },
   "file_extension": ".py",
   "mimetype": "text/x-python",
   "name": "python",
   "nbconvert_exporter": "python",
   "pygments_lexer": "ipython3",
   "version": "3.8.3"
  }
 },
 "nbformat": 4,
 "nbformat_minor": 2
}
