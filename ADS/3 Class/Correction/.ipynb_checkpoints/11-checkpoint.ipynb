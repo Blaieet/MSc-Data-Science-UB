{
 "cells": [
  {
   "cell_type": "markdown",
   "metadata": {},
   "source": [
    "1- **Twitter EXERCISE:** \n",
    "\n",
    "Given the starting user \"eloipuertas\", retrieve the user name, the date of the accoount creation and the last tweet date and text for each follower. Store them to a database called 'twitter' and into a collection called 'info'. The attributes of the document are: 'screen_name', 'created_at', 'last_tweet_text' and 'last_tweet_created_at'. \n"
   ]
  },
  {
   "cell_type": "code",
   "execution_count": 1,
   "metadata": {},
   "outputs": [
    {
     "name": "stdout",
     "output_type": "stream",
     "text": [
      "Connected successfully!!!\n"
     ]
    },
    {
     "ename": "FileNotFoundError",
     "evalue": "[Errno 2] No such file or directory: 'consumer_key.txt'",
     "output_type": "error",
     "traceback": [
      "\u001b[1;31m---------------------------------------------------------------------------\u001b[0m",
      "\u001b[1;31mFileNotFoundError\u001b[0m                         Traceback (most recent call last)",
      "\u001b[1;32m<ipython-input-1-732554341ec0>\u001b[0m in \u001b[0;36m<module>\u001b[1;34m\u001b[0m\n\u001b[0;32m     17\u001b[0m \u001b[1;33m\u001b[0m\u001b[0m\n\u001b[0;32m     18\u001b[0m \u001b[1;33m\u001b[0m\u001b[0m\n\u001b[1;32m---> 19\u001b[1;33m \u001b[1;32mwith\u001b[0m \u001b[0mopen\u001b[0m\u001b[1;33m(\u001b[0m\u001b[1;34m'consumer_key.txt'\u001b[0m\u001b[1;33m,\u001b[0m \u001b[1;34m'r'\u001b[0m\u001b[1;33m)\u001b[0m \u001b[1;32mas\u001b[0m \u001b[0mf\u001b[0m\u001b[1;33m:\u001b[0m\u001b[1;33m\u001b[0m\u001b[1;33m\u001b[0m\u001b[0m\n\u001b[0m\u001b[0;32m     20\u001b[0m     \u001b[0mconsumer_key\u001b[0m \u001b[1;33m=\u001b[0m  \u001b[0mf\u001b[0m\u001b[1;33m.\u001b[0m\u001b[0mread\u001b[0m\u001b[1;33m(\u001b[0m\u001b[1;33m)\u001b[0m\u001b[1;33m\u001b[0m\u001b[1;33m\u001b[0m\u001b[0m\n\u001b[0;32m     21\u001b[0m \u001b[0mf\u001b[0m\u001b[1;33m.\u001b[0m\u001b[0mclosed\u001b[0m\u001b[1;33m\u001b[0m\u001b[1;33m\u001b[0m\u001b[0m\n",
      "\u001b[1;31mFileNotFoundError\u001b[0m: [Errno 2] No such file or directory: 'consumer_key.txt'"
     ]
    }
   ],
   "source": [
    "import json\n",
    "import pymongo\n",
    "import tweepy\n",
    "\n",
    "try:\n",
    "  \n",
    "    with open(\"credentials.txt\", 'r') as f:\n",
    "        [name,password,url]=f.read().splitlines()\n",
    "    conn=pymongo.MongoClient(\"mongodb+srv://{}:{}@{}\".format(name,password,url))\n",
    "    print (\"Connected successfully!!!\")\n",
    "    \n",
    "except pymongo.errors.ConnectionFailure as e:\n",
    "    print (\"Could not connect to MongoDB: %s\" % e) \n",
    "\n",
    "db = conn['twitter']\n",
    "collection = db.info\n",
    "\n",
    "\n",
    "with open('consumer_key.txt', 'r') as f:\n",
    "    [consumer_key,consumer_secret,url]=f.read().splitlines()\n",
    "\n",
    "\n",
    "\n",
    "#Authentication\n",
    "auth = tweepy.OAuthHandler(consumer_key, consumer_secret)\n",
    "auth.set_access_token(access_key, access_secret)\n",
    "api = tweepy.API(auth)\n",
    "\n",
    "\n",
    "#Do something\n",
    "USER_NAME = \"eloipuertas\"\n",
    "user = api.get_user(id=USER_NAME)\n",
    "\n",
    "for page in tweepy.Cursor(api.followers_ids, screen_name=USER_NAME).pages():\n",
    "    for follower_id in page:\n",
    "        last_tweet=api.user_timeline(id=follower_id,count=1)[0]\n",
    "        last_tweet_date=api.user_timeline(id=follower_id,count=1)[0]\n",
    "        follower = api.get_user(follower_id)\n",
    "        print(last_tweet.text)\n",
    "        print(last_tweet_date.created_at)\n",
    "        print(follower.screen_name)\n",
    "        print(follower.created_at)\n",
    "        doc = {'screen_name': follower.screen_name,\n",
    "                'created_at': follower.created_at,\n",
    "               'last_tweet_text':last_tweet.text,\n",
    "               'last_tweet_created_at':last_tweet_date.created_at\n",
    "                \n",
    "              }\n",
    "        collection.insert_one(doc)\n",
    "\n",
    "    time.sleep(60)\n",
    "conn.close()"
   ]
  },
  {
   "cell_type": "markdown",
   "metadata": {},
   "source": [
    "2- **Selenium EXERCISE:** \n",
    "<ul>\n",
    "<li> Open a browser \n",
    "\n",
    "<li>Go to tripadvisor/Restaurants\n",
    "\n",
    "<li>Find the search text box\n",
    "\n",
    "<li>Clear it, input the query \"Sant Cugat\" and send it\n",
    "\n",
    "<li>Go to \"Restarurants\" and get the name and link of the top 10 restaurants in Sant cugat\n",
    "<li> Store them into a database called 'TripAdvisor' and a collection called 'Restaurants' with the documents atributes 'name' and 'link'\n",
    "</ul>\n",
    "\n",
    "</div>"
   ]
  },
  {
   "cell_type": "code",
   "execution_count": 83,
   "metadata": {},
   "outputs": [
    {
     "name": "stdout",
     "output_type": "stream",
     "text": [
      "Connected successfully!!!\n"
     ]
    }
   ],
   "source": [
    "import pymongo\n",
    "import time\n",
    "from selenium.webdriver.common.keys import Keys\n",
    "try:\n",
    "  \n",
    "\n",
    "    with open(\"credentials.txt\", 'r') as f:\n",
    "        [name,password,url]=f.read().splitlines()\n",
    "    conn=pymongo.MongoClient(\"mongodb+srv://{}:{}@{}\".format(name,password,url))\n",
    "    print (\"Connected successfully!!!\")\n",
    "    \n",
    "except pymongo.errors.ConnectionFailure as e:\n",
    "    print (\"Could not connect to MongoDB: %s\" % e) \n",
    "\n",
    "db = conn['TripAdvisor']\n",
    "collection = db.Restaurants\n",
    "\n",
    "from selenium import webdriver\n",
    "browser = webdriver.Chrome(\"/Users/emark/Downloads/chromedriver\")\n",
    "browser.get(\"https://www.tripadvisor.es/Restaurants\")\n",
    "\n",
    "element = browser.find_element_by_class_name(\"_3qLQ-U8m\")\n",
    "element.clear()\n",
    "s='Sant Cugat'\n",
    "element.send_keys(s)\n",
    "button = browser.find_elements_by_xpath(\"//button[@type='submit' and @title='Buscar']\")[0]\n",
    "button.click()\n",
    "time.sleep(5)\n",
    "SCV= browser.find_elements_by_class_name(\"ui_columns\")[8]\n",
    "SCV.click()\n",
    "\n",
    "browser.switch_to.window(browser.window_handles[-1])\n",
    "browser.execute_script(\"window.scrollTo(0,document.body.scrollHeight/3)\")\n",
    "\n",
    "list_rest=browser.find_elements_by_class_name('_3S6pHEQs')[25:35]\n",
    "for i in list_rest:\n",
    "    link=i.get_attribute(\"href\")\n",
    "    attr=i.text\n",
    "    names=attr.partition('\\n')[0]\n",
    "    doc = {\n",
    "              'Name': names,\n",
    "              'Link': link,\n",
    "              }\n",
    "    collection.insert_one(doc)\n",
    "            \n",
    "browser.quit()\n",
    "conn.close()"
   ]
  },
  {
   "cell_type": "code",
   "execution_count": null,
   "metadata": {},
   "outputs": [],
   "source": []
  }
 ],
 "metadata": {
  "kernelspec": {
   "display_name": "Python 3",
   "language": "python",
   "name": "python3"
  },
  "language_info": {
   "codemirror_mode": {
    "name": "ipython",
    "version": 3
   },
   "file_extension": ".py",
   "mimetype": "text/x-python",
   "name": "python",
   "nbconvert_exporter": "python",
   "pygments_lexer": "ipython3",
   "version": "3.8.3"
  }
 },
 "nbformat": 4,
 "nbformat_minor": 2
}
