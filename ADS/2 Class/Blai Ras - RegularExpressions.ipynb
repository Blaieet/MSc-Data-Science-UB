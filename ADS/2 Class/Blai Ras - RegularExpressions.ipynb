{
 "cells": [
  {
   "cell_type": "markdown",
   "metadata": {},
   "source": [
    "# Exercices"
   ]
  },
  {
   "cell_type": "markdown",
   "metadata": {},
   "source": [
    "* A regular expression that check most email addresses:"
   ]
  },
  {
   "cell_type": "code",
   "execution_count": 25,
   "metadata": {},
   "outputs": [
    {
     "name": "stdout",
     "output_type": "stream",
     "text": [
      "l-l.l@mail.Aom True\n",
      "testmail.com True\n",
      "test@mail.com. True\n",
      "@testmail.com True\n",
      "test@mailcom True\n"
     ]
    },
    {
     "data": {
      "text/plain": [
       "True"
      ]
     },
     "execution_count": 25,
     "metadata": {},
     "output_type": "execute_result"
    }
   ],
   "source": [
    "import re\n",
    "#([\\w\\W][^@]+) Group. Matches any word character (alphanumeric & undersscore) + \\W not Word. Basically match everything except @\n",
    "#\\@ match @\n",
    "#([\\w-]+\\.) Match any character plus \"-\" and \".\"\n",
    "pattern = r\"^([\\w\\W][^@]+)\\@([\\w-]+\\.)+[\\w-]{2,4}$\"\n",
    "\n",
    "str_true = ('l-l.l@mail.Aom',)\n",
    "            \n",
    "str_false = ('testmail.com','test@mail.com.', '@testmail.com', 'test@mailcom')\n",
    "\n",
    "res = True\n",
    "for t in str_true:\n",
    "    f = bool(re.match(pattern, t))\n",
    "    print (t, f == True)\n",
    "    res = res and f == True\n",
    "\n",
    "for t in str_false:\n",
    "    f = bool(re.match(pattern, t))\n",
    "    print (t, f == False)\n",
    "    res = res and f == False\n",
    "res"
   ]
  },
  {
   "cell_type": "markdown",
   "metadata": {},
   "source": [
    "Validates dates in mm/dd/yyyy format. note: Some dates are not verified such as 2080 to be invalid. "
   ]
  },
  {
   "cell_type": "code",
   "execution_count": 3,
   "metadata": {},
   "outputs": [
    {
     "name": "stdout",
     "output_type": "stream",
     "text": [
      "01/08/2014 True\n",
      "12/30/2014 True\n",
      "22/08/2014 True\n",
      "-123 True\n",
      "1/8/2014 True\n",
      "1/08/2014 True\n",
      "01/8/2014 True\n"
     ]
    },
    {
     "data": {
      "text/plain": [
       "True"
      ]
     },
     "execution_count": 3,
     "metadata": {},
     "output_type": "execute_result"
    }
   ],
   "source": [
    "import re\n",
    "#(1[0-2]|0[1-9]): Match month. Max 12\n",
    "#Match \"/\"\n",
    "#(3[01]|[12][0-9]|0[1-9]) Match day.\n",
    "#Match year. Max 4 characters\n",
    "pattern = r\"(1[0-2]|0[1-9])/(3[01]|[12][0-9]|0[1-9])/[0-9]{4}\"\n",
    "str_true = ('01/08/2014', '12/30/2014')\n",
    "            \n",
    "str_false = ('22/08/2014', '-123', '1/8/2014', '1/08/2014', '01/8/2014',)\n",
    "\n",
    "res = True\n",
    "for t in str_true:\n",
    "    f = bool(re.match(pattern, t))\n",
    "    print (t, f == True)\n",
    "    res = res and f == True\n",
    "\n",
    "for t in str_false:\n",
    "    f = bool(re.match(pattern, t))\n",
    "    print (t, f == False)\n",
    "    res = res and f == False\n",
    "res"
   ]
  },
  {
   "cell_type": "markdown",
   "metadata": {},
   "source": [
    "* 12-Hour format"
   ]
  },
  {
   "cell_type": "code",
   "execution_count": 5,
   "metadata": {},
   "outputs": [
    {
     "name": "stdout",
     "output_type": "stream",
     "text": [
      "2:00pm True\n",
      "7:30 AM True\n",
      "12:05 am True\n",
      "22:00pm True\n",
      "14:00 True\n",
      "3:12 True\n",
      "03:12pm True\n"
     ]
    },
    {
     "data": {
      "text/plain": [
       "True"
      ]
     },
     "execution_count": 5,
     "metadata": {},
     "output_type": "execute_result"
    }
   ],
   "source": [
    "import re\n",
    "#(1[012]|[1-9]) Match our, with or without leading zero\n",
    "#([0-5][0-9])(\\s) Match minutes, max 59. Catch any possible whitespace\n",
    "#([Aa]|[pP])[mM] Catch AM, PM, am, pm or aM, etc.\n",
    "pattern = r\"(1[012]|[1-9]):([0-5][0-9])(\\s)?([Aa]|[pP])[mM]\"\n",
    "str_true = ('2:00pm', '7:30 AM', '12:05 am', )\n",
    "            \n",
    "str_false = ('22:00pm', '14:00', '3:12', '03:12pm', )\n",
    "\n",
    "res = True\n",
    "for t in str_true:\n",
    "    f = bool(re.match(pattern, t))\n",
    "    print (t, f == True)\n",
    "    res = res and f == True\n",
    "\n",
    "for t in str_false:\n",
    "    f = bool(re.match(pattern, t))\n",
    "    print (t, f == False)\n",
    "    res = res and f == False\n",
    "res"
   ]
  },
  {
   "cell_type": "markdown",
   "metadata": {},
   "source": [
    "* Checking for HTML/XML, etc. tags (a very simple approach)"
   ]
  },
  {
   "cell_type": "code",
   "execution_count": 6,
   "metadata": {},
   "outputs": [
    {
     "name": "stdout",
     "output_type": "stream",
     "text": [
      "<a> True\n",
      "<a href=\"somethinG\"> True\n",
      "</a> True\n",
      "<img src> True\n",
      "a> True\n",
      "<a  True\n",
      "< a > True\n"
     ]
    },
    {
     "data": {
      "text/plain": [
       "True"
      ]
     },
     "execution_count": 6,
     "metadata": {},
     "output_type": "execute_result"
    }
   ],
   "source": [
    "import re\n",
    "#Match a \"<\"\n",
    "#\\S+ Match not whitespace, 1 or more\n",
    "#.* Match any char except line break, match 0 or more\n",
    "#\\S*: Again, not whitespace and 1 or more\n",
    "pattern = r\"<\\S+.*\\S*>\"\n",
    "str_true = ('<a>', '<a href=\"somethinG\">', '</a>', '<img src>')\n",
    "            \n",
    "str_false = ('a>', '<a ', '< a >')\n",
    "\n",
    "res = True\n",
    "for t in str_true:\n",
    "    f = bool(re.match(pattern, t))\n",
    "    print (t, f == True)\n",
    "    res = res and f == True\n",
    "\n",
    "for t in str_false:\n",
    "    f = bool(re.match(pattern, t))\n",
    "    print (t, f == False)\n",
    "    res = res and f == False\n",
    "res"
   ]
  },
  {
   "cell_type": "code",
   "execution_count": null,
   "metadata": {},
   "outputs": [],
   "source": []
  }
 ],
 "metadata": {
  "kernelspec": {
   "display_name": "Python 3",
   "language": "python",
   "name": "python3"
  },
  "language_info": {
   "codemirror_mode": {
    "name": "ipython",
    "version": 3
   },
   "file_extension": ".py",
   "mimetype": "text/x-python",
   "name": "python",
   "nbconvert_exporter": "python",
   "pygments_lexer": "ipython3",
   "version": "3.8.3"
  }
 },
 "nbformat": 4,
 "nbformat_minor": 1
}
